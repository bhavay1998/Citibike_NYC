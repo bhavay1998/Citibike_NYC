{
 "cells": [
  {
   "cell_type": "markdown",
   "id": "972fa0e5",
   "metadata": {},
   "source": [
    "# Data Segmentation\n",
    "In this notebook, a larger training data of approximately six weeks is used. "
   ]
  },
  {
   "cell_type": "code",
   "execution_count": 7,
   "id": "2d65e172",
   "metadata": {},
   "outputs": [
    {
     "data": {
      "text/plain": [
       "Index(['#_rentals', 'datetime', 'year', 'month', 'day', 'hour', 'ID',\n",
       "       'coordinates', '#_rentals_lag_1', 'name_of_day', 'weekend',\n",
       "       'is_holiday', '#_rentals_lag_2', 'prev_day', 'prev_week', 'roll_avg',\n",
       "       'w_avg_lag_1', 'w_avg_prev_day', 'w_avg_roll_avg', 'w_avg_lag_2',\n",
       "       'temp', 'rhum', 'prcp', 'wspd', 'rush_hr', 'MapID', 'coco',\n",
       "       'sb_st_800'],\n",
       "      dtype='object')"
      ]
     },
     "execution_count": 7,
     "metadata": {},
     "output_type": "execute_result"
    }
   ],
   "source": [
    "# Reading the dataset\n",
    "import pandas as pd\n",
    "selected_rentals = pd.read_csv(r\"C:\\Users\\singh\\Desktop\\TUD (All Semesters)\\Courses - Semester 5 (TU Dresden)\\Research Task - Spatial Modelling\\Code\\rentals_working_with_subway_stations.csv\")\n",
    "selected_rentals.columns"
   ]
  },
  {
   "cell_type": "code",
   "execution_count": 5,
   "id": "0c332bc5",
   "metadata": {
    "scrolled": true
   },
   "outputs": [
    {
     "data": {
      "text/plain": [
       "array([ 1,  2,  3,  4,  5,  6,  7,  8,  9, 10, 11, 12, 13, 14, 15, 16, 17,\n",
       "       18, 19, 20, 21, 22, 23, 24, 25, 26, 27, 28, 29, 30, 31],\n",
       "      dtype=int64)"
      ]
     },
     "execution_count": 5,
     "metadata": {},
     "output_type": "execute_result"
    }
   ],
   "source": [
    "# Days in March\n",
    "selected_rentals.loc[selected_rentals.month == 3, \"day\"].unique()"
   ]
  },
  {
   "cell_type": "code",
   "execution_count": 6,
   "id": "0e26bbb1",
   "metadata": {},
   "outputs": [
    {
     "data": {
      "text/plain": [
       "array([ 1,  2,  3,  4,  5,  6,  7,  8,  9, 10, 11, 12, 13, 14, 15, 16, 17,\n",
       "       18, 19, 20, 21, 22, 23, 24, 25, 26, 27, 28, 29, 30], dtype=int64)"
      ]
     },
     "execution_count": 6,
     "metadata": {},
     "output_type": "execute_result"
    }
   ],
   "source": [
    "# Days in April\n",
    "selected_rentals.loc[selected_rentals.month == 4, \"day\"].unique()"
   ]
  },
  {
   "cell_type": "markdown",
   "id": "d78d574e",
   "metadata": {},
   "source": [
    "## Test Sets"
   ]
  },
  {
   "cell_type": "code",
   "execution_count": 8,
   "id": "6cdd8b3c",
   "metadata": {},
   "outputs": [
    {
     "name": "stdout",
     "output_type": "stream",
     "text": [
      "[25 26 27 28 29 30 31]\n",
      "[24 25 26 27 28 29 30]\n"
     ]
    }
   ],
   "source": [
    "# Creating the test set for March, 2024\n",
    "test_set_mar = selected_rentals.loc[(selected_rentals.month == 3) & (selected_rentals.day >= 25),:]\n",
    "\n",
    "# Creating the test set for April, 2024\n",
    "test_set_apr = selected_rentals.loc[(selected_rentals.month == 4) & (selected_rentals.day >= 24),:]\n",
    "\n",
    "# Verifying\n",
    "print(test_set_mar.day.unique())\n",
    "print(test_set_apr.day.unique())"
   ]
  },
  {
   "cell_type": "markdown",
   "id": "5808e2df",
   "metadata": {},
   "source": [
    "## Validation Set"
   ]
  },
  {
   "cell_type": "code",
   "execution_count": 9,
   "id": "a29e4fdb",
   "metadata": {},
   "outputs": [
    {
     "name": "stdout",
     "output_type": "stream",
     "text": [
      "[18 19 20 21 22 23 24]\n",
      "[17 18 19 20 21 22 23]\n"
     ]
    }
   ],
   "source": [
    "# Creating the validation set for March, 2024\n",
    "val_set_mar = selected_rentals.loc[(selected_rentals.month == 3) & (selected_rentals.day < 25) & (selected_rentals.day >= 18),:]\n",
    "\n",
    "# Creating the validation set for April, 2024\n",
    "val_set_apr = selected_rentals.loc[(selected_rentals.month == 4) & (selected_rentals.day < 24) & (selected_rentals.day >= 17),:]\n",
    "\n",
    "# Verifying\n",
    "print(val_set_mar.day.unique())\n",
    "print(val_set_apr.day.unique())"
   ]
  },
  {
   "cell_type": "markdown",
   "id": "5f0b030f",
   "metadata": {},
   "source": [
    "## Training Set"
   ]
  },
  {
   "cell_type": "code",
   "execution_count": 10,
   "id": "28fdec54",
   "metadata": {},
   "outputs": [
    {
     "name": "stdout",
     "output_type": "stream",
     "text": [
      "42\n",
      "42\n"
     ]
    }
   ],
   "source": [
    "# Creating the training set for March, 2024\n",
    "train_set_mar = selected_rentals.loc[((selected_rentals.month == 3) & (selected_rentals.day < 18)) | ((selected_rentals.month == 2) & (selected_rentals.day >= 5)),:]\n",
    "\n",
    "# Creating the training set for April, 2024\n",
    "train_set_apr = selected_rentals.loc[((selected_rentals.month == 4) & (selected_rentals.day < 17)) | ((selected_rentals.month == 3) & (selected_rentals.day >= 6)),:]\n",
    "\n",
    "# Verifying for March\n",
    "print(len(train_set_mar.loc[train_set_mar.month == 3, \"day\"].unique()) + len(train_set_mar.loc[train_set_mar.month == 2, \"day\"].unique()))\n",
    "                                                                                                      \n",
    "# Verifying for April\n",
    "print(len(train_set_apr.loc[train_set_apr.month == 4, \"day\"].unique()) + len(train_set_apr.loc[train_set_apr.month == 3, \"day\"].unique()))"
   ]
  },
  {
   "cell_type": "markdown",
   "id": "3fab69e4",
   "metadata": {},
   "source": [
    "# Baseline Model\n",
    "Here two models are generated, one for April and the other for March. Additional features will be added on top of these two models."
   ]
  },
  {
   "cell_type": "code",
   "execution_count": 18,
   "id": "c9a934e3",
   "metadata": {},
   "outputs": [],
   "source": [
    "# creating dummies for the ID feature (station ID)\n",
    "train_set_mar_dum = pd.get_dummies(train_set_mar[[\"#_rentals\", \"month\", \"day\", \"hour\", \"ID\", \"#_rentals_lag_1\"]], columns = [\"ID\"], drop_first=False)\n",
    "train_set_apr_dum = pd.get_dummies(train_set_apr[[\"#_rentals\", \"month\", \"day\", \"hour\", \"ID\", \"#_rentals_lag_1\"]], columns = [\"ID\"], drop_first=False)\n",
    "\n",
    "# Repeating for the test set\n",
    "test_set_mar_dum = pd.get_dummies(test_set_mar[[\"#_rentals\", \"month\", \"day\", \"hour\", \"ID\", \"#_rentals_lag_1\"]], columns = [\"ID\"], drop_first=False)\n",
    "test_set_apr_dum = pd.get_dummies(test_set_apr[[\"#_rentals\", \"month\", \"day\", \"hour\", \"ID\", \"#_rentals_lag_1\"]], columns = [\"ID\"], drop_first=False)"
   ]
  },
  {
   "cell_type": "code",
   "execution_count": 22,
   "id": "13d78208",
   "metadata": {},
   "outputs": [],
   "source": [
    "# Separating features from the target: March\n",
    "\n",
    "X_train_mar = train_set_mar_dum[list(train_set_mar_dum.columns)[1:]]\n",
    "y_train_mar = train_set_mar_dum[\"#_rentals\"]\n",
    "\n",
    "X_test_mar = test_set_mar_dum[list(test_set_mar_dum.columns)[1:]]\n",
    "y_test_mar = test_set_mar_dum[\"#_rentals\"]\n",
    "\n",
    "\n",
    "# Separating features from the target: April\n",
    "\n",
    "X_train_apr = train_set_apr_dum[list(train_set_apr_dum.columns)[1:]]\n",
    "y_train_apr = train_set_apr_dum[\"#_rentals\"]\n",
    "\n",
    "X_test_apr = test_set_apr_dum[list(test_set_apr_dum.columns)[1:]]\n",
    "y_test_apr = test_set_apr_dum[\"#_rentals\"]"
   ]
  },
  {
   "cell_type": "code",
   "execution_count": 23,
   "id": "7371138d",
   "metadata": {},
   "outputs": [
    {
     "name": "stdout",
     "output_type": "stream",
     "text": [
      "3.892136908163265 0.4249482641730312\n",
      "5.822993418367347 0.4408592117624076\n"
     ]
    }
   ],
   "source": [
    "# Training for March\n",
    "from sklearn.ensemble import RandomForestRegressor\n",
    "baseline_forest_mar = RandomForestRegressor(random_state=2) \n",
    "baseline_forest_mar.fit(X_train_mar, y_train_mar)\n",
    "\n",
    "# Testing performance for March\n",
    "from sklearn.metrics import mean_squared_error\n",
    "from sklearn.metrics import r2_score\n",
    "y_test_pred_mar = baseline_forest_mar.predict(X_test_mar)\n",
    "\n",
    "# Training for April\n",
    "baseline_forest_apr = RandomForestRegressor(random_state=2) \n",
    "baseline_forest_apr.fit(X_train_apr, y_train_apr)\n",
    "\n",
    "# Testing performance for April\n",
    "y_test_pred_apr = baseline_forest_apr.predict(X_test_apr)\n",
    "\n",
    "# Scores\n",
    "print(mean_squared_error(y_test_mar, y_test_pred_mar), r2_score(y_test_mar, y_test_pred_mar))\n",
    "print(mean_squared_error(y_test_apr, y_test_pred_apr), r2_score(y_test_apr, y_test_pred_apr))"
   ]
  },
  {
   "cell_type": "markdown",
   "id": "1b1c1bab",
   "metadata": {},
   "source": [
    "## Adding MapID to the baseline\n",
    "Borough and sub-borough information is added to the baseline model to look for any improvement in performance."
   ]
  },
  {
   "cell_type": "code",
   "execution_count": 24,
   "id": "1c25be0c",
   "metadata": {},
   "outputs": [],
   "source": [
    "# creating dummies for the ID feature (station ID)\n",
    "train_set_mar_dum = pd.get_dummies(train_set_mar[[\"#_rentals\", \"month\", \"day\", \"hour\", \"ID\", \"#_rentals_lag_1\",\"MapID\"]], columns = [\"ID\",\"MapID\"], drop_first=False)\n",
    "train_set_apr_dum = pd.get_dummies(train_set_apr[[\"#_rentals\", \"month\", \"day\", \"hour\", \"ID\", \"#_rentals_lag_1\",\"MapID\"]], columns = [\"ID\",\"MapID\"], drop_first=False)\n",
    "\n",
    "# Repeating for the test set\n",
    "test_set_mar_dum = pd.get_dummies(test_set_mar[[\"#_rentals\", \"month\", \"day\", \"hour\", \"ID\", \"#_rentals_lag_1\",\"MapID\"]], columns = [\"ID\",\"MapID\"], drop_first=False)\n",
    "test_set_apr_dum = pd.get_dummies(test_set_apr[[\"#_rentals\", \"month\", \"day\", \"hour\", \"ID\", \"#_rentals_lag_1\",\"MapID\"]], columns = [\"ID\",\"MapID\"], drop_first=False)"
   ]
  },
  {
   "cell_type": "code",
   "execution_count": 25,
   "id": "c7b18e0f",
   "metadata": {},
   "outputs": [],
   "source": [
    "# Separating features from the target: March\n",
    "\n",
    "X_train_mar = train_set_mar_dum[list(train_set_mar_dum.columns)[1:]]\n",
    "y_train_mar = train_set_mar_dum[\"#_rentals\"]\n",
    "\n",
    "X_test_mar = test_set_mar_dum[list(test_set_mar_dum.columns)[1:]]\n",
    "y_test_mar = test_set_mar_dum[\"#_rentals\"]\n",
    "\n",
    "\n",
    "# Separating features from the target: April\n",
    "\n",
    "X_train_apr = train_set_apr_dum[list(train_set_apr_dum.columns)[1:]]\n",
    "y_train_apr = train_set_apr_dum[\"#_rentals\"]\n",
    "\n",
    "X_test_apr = test_set_apr_dum[list(test_set_apr_dum.columns)[1:]]\n",
    "y_test_apr = test_set_apr_dum[\"#_rentals\"]"
   ]
  },
  {
   "cell_type": "code",
   "execution_count": 26,
   "id": "b1f91526",
   "metadata": {},
   "outputs": [
    {
     "name": "stdout",
     "output_type": "stream",
     "text": [
      "3.8735501530612244 0.4276944023580478\n",
      "5.535596224489796 0.46845592739926334\n"
     ]
    }
   ],
   "source": [
    "# Training for March\n",
    "from sklearn.ensemble import RandomForestRegressor\n",
    "baseline_forest_mar = RandomForestRegressor(random_state=2) \n",
    "baseline_forest_mar.fit(X_train_mar, y_train_mar)\n",
    "\n",
    "# Testing performance for March\n",
    "from sklearn.metrics import mean_squared_error\n",
    "from sklearn.metrics import r2_score\n",
    "y_test_pred_mar = baseline_forest_mar.predict(X_test_mar)\n",
    "\n",
    "# Training for April\n",
    "baseline_forest_apr = RandomForestRegressor(random_state=2) \n",
    "baseline_forest_apr.fit(X_train_apr, y_train_apr)\n",
    "\n",
    "# Testing performance for April\n",
    "y_test_pred_apr = baseline_forest_apr.predict(X_test_apr)\n",
    "\n",
    "# Scores\n",
    "print(mean_squared_error(y_test_mar, y_test_pred_mar), r2_score(y_test_mar, y_test_pred_mar))\n",
    "print(mean_squared_error(y_test_apr, y_test_pred_apr), r2_score(y_test_apr, y_test_pred_apr))"
   ]
  },
  {
   "cell_type": "markdown",
   "id": "191fb635",
   "metadata": {},
   "source": [
    "## Adding weather information\n",
    "This includes adding five features to the baseline."
   ]
  },
  {
   "cell_type": "code",
   "execution_count": 58,
   "id": "dd2e217b",
   "metadata": {},
   "outputs": [],
   "source": [
    "# creating dummies for the ID feature (station ID)\n",
    "train_set_mar_dum = pd.get_dummies(train_set_mar[[\"#_rentals\", \"month\", \"day\", \"hour\", \"ID\", \"#_rentals_lag_1\",\"MapID\", \"temp\", \"rhum\", \"prcp\", \"wspd\", \"coco\"]], columns = [\"ID\",\"MapID\"], drop_first=False)\n",
    "train_set_apr_dum = pd.get_dummies(train_set_apr[[\"#_rentals\", \"month\", \"day\", \"hour\", \"ID\", \"#_rentals_lag_1\",\"MapID\", \"temp\", \"rhum\", \"prcp\", \"wspd\", \"coco\"]], columns = [\"ID\",\"MapID\"], drop_first=False)\n",
    "\n",
    "# Repeating for the test set\n",
    "test_set_mar_dum = pd.get_dummies(test_set_mar[[\"#_rentals\", \"month\", \"day\", \"hour\", \"ID\", \"#_rentals_lag_1\",\"MapID\", \"temp\", \"rhum\", \"prcp\", \"wspd\", \"coco\"]], columns = [\"ID\",\"MapID\"], drop_first=False)\n",
    "test_set_apr_dum = pd.get_dummies(test_set_apr[[\"#_rentals\", \"month\", \"day\", \"hour\", \"ID\", \"#_rentals_lag_1\",\"MapID\", \"temp\", \"rhum\", \"prcp\", \"wspd\", \"coco\"]], columns = [\"ID\",\"MapID\"], drop_first=False)"
   ]
  },
  {
   "cell_type": "code",
   "execution_count": 59,
   "id": "735677a1",
   "metadata": {},
   "outputs": [],
   "source": [
    "# Separating features from the target: March\n",
    "\n",
    "X_train_mar = train_set_mar_dum[list(train_set_mar_dum.columns)[1:]]\n",
    "y_train_mar = train_set_mar_dum[\"#_rentals\"]\n",
    "\n",
    "X_test_mar = test_set_mar_dum[list(test_set_mar_dum.columns)[1:]]\n",
    "y_test_mar = test_set_mar_dum[\"#_rentals\"]\n",
    "\n",
    "\n",
    "# Separating features from the target: April\n",
    "\n",
    "X_train_apr = train_set_apr_dum[list(train_set_apr_dum.columns)[1:]]\n",
    "y_train_apr = train_set_apr_dum[\"#_rentals\"]\n",
    "\n",
    "X_test_apr = test_set_apr_dum[list(test_set_apr_dum.columns)[1:]]\n",
    "y_test_apr = test_set_apr_dum[\"#_rentals\"]"
   ]
  },
  {
   "cell_type": "code",
   "execution_count": 60,
   "id": "743ba338",
   "metadata": {},
   "outputs": [
    {
     "name": "stdout",
     "output_type": "stream",
     "text": [
      "3.3351453367346937 0.50724212421665\n",
      "4.9269805918367355 0.5268969731167368\n"
     ]
    }
   ],
   "source": [
    "# Training for March\n",
    "from sklearn.ensemble import RandomForestRegressor\n",
    "baseline_forest_mar = RandomForestRegressor(random_state=2) \n",
    "baseline_forest_mar.fit(X_train_mar, y_train_mar)\n",
    "\n",
    "# Testing performance for March\n",
    "from sklearn.metrics import mean_squared_error\n",
    "from sklearn.metrics import r2_score\n",
    "y_test_pred_mar = baseline_forest_mar.predict(X_test_mar)\n",
    "\n",
    "# Training for April\n",
    "baseline_forest_apr = RandomForestRegressor(random_state=2) \n",
    "baseline_forest_apr.fit(X_train_apr, y_train_apr)\n",
    "\n",
    "# Testing performance for April\n",
    "y_test_pred_apr = baseline_forest_apr.predict(X_test_apr)\n",
    "\n",
    "# Scores\n",
    "print(mean_squared_error(y_test_mar, y_test_pred_mar), r2_score(y_test_mar, y_test_pred_mar))\n",
    "print(mean_squared_error(y_test_apr, y_test_pred_apr), r2_score(y_test_apr, y_test_pred_apr))"
   ]
  },
  {
   "cell_type": "markdown",
   "id": "1a922982",
   "metadata": {},
   "source": [
    "## Name of Day\n",
    "Adding name of day to the baseline model, using one hot encoding."
   ]
  },
  {
   "cell_type": "code",
   "execution_count": 61,
   "id": "bc34a2b2",
   "metadata": {},
   "outputs": [],
   "source": [
    "# creating dummies for the ID feature (station ID)\n",
    "train_set_mar_dum = pd.get_dummies(train_set_mar[[\"#_rentals\", \"month\", \"day\", \"hour\", \"ID\", \"#_rentals_lag_1\",\"MapID\", \"temp\", \"rhum\", \"prcp\", \"wspd\", \"coco\", \"name_of_day\"]], columns = [\"ID\",\"MapID\",\"name_of_day\"], drop_first=False)\n",
    "train_set_apr_dum = pd.get_dummies(train_set_apr[[\"#_rentals\", \"month\", \"day\", \"hour\", \"ID\", \"#_rentals_lag_1\",\"MapID\", \"temp\", \"rhum\", \"prcp\", \"wspd\", \"coco\", \"name_of_day\"]], columns = [\"ID\",\"MapID\",\"name_of_day\"], drop_first=False)\n",
    "\n",
    "# Repeating for the test set\n",
    "test_set_mar_dum = pd.get_dummies(test_set_mar[[\"#_rentals\", \"month\", \"day\", \"hour\", \"ID\", \"#_rentals_lag_1\",\"MapID\", \"temp\", \"rhum\", \"prcp\", \"wspd\", \"coco\", \"name_of_day\"]], columns = [\"ID\",\"MapID\",\"name_of_day\"], drop_first=False)\n",
    "test_set_apr_dum = pd.get_dummies(test_set_apr[[\"#_rentals\", \"month\", \"day\", \"hour\", \"ID\", \"#_rentals_lag_1\",\"MapID\", \"temp\", \"rhum\", \"prcp\", \"wspd\", \"coco\", \"name_of_day\"]], columns = [\"ID\",\"MapID\",\"name_of_day\"], drop_first=False)"
   ]
  },
  {
   "cell_type": "code",
   "execution_count": 62,
   "id": "1612c60d",
   "metadata": {},
   "outputs": [],
   "source": [
    "# Separating features from the target: March\n",
    "\n",
    "X_train_mar = train_set_mar_dum[list(train_set_mar_dum.columns)[1:]]\n",
    "y_train_mar = train_set_mar_dum[\"#_rentals\"]\n",
    "\n",
    "X_test_mar = test_set_mar_dum[list(test_set_mar_dum.columns)[1:]]\n",
    "y_test_mar = test_set_mar_dum[\"#_rentals\"]\n",
    "\n",
    "\n",
    "# Separating features from the target: April\n",
    "\n",
    "X_train_apr = train_set_apr_dum[list(train_set_apr_dum.columns)[1:]]\n",
    "y_train_apr = train_set_apr_dum[\"#_rentals\"]\n",
    "\n",
    "X_test_apr = test_set_apr_dum[list(test_set_apr_dum.columns)[1:]]\n",
    "y_test_apr = test_set_apr_dum[\"#_rentals\"]"
   ]
  },
  {
   "cell_type": "code",
   "execution_count": 63,
   "id": "f1ae9b31",
   "metadata": {},
   "outputs": [
    {
     "name": "stdout",
     "output_type": "stream",
     "text": [
      "3.182960275510204 0.5297270176541153\n",
      "4.636168204081632 0.5548216256168998\n"
     ]
    }
   ],
   "source": [
    "# Training for March\n",
    "from sklearn.ensemble import RandomForestRegressor\n",
    "baseline_forest_mar = RandomForestRegressor(random_state=2) \n",
    "baseline_forest_mar.fit(X_train_mar, y_train_mar)\n",
    "\n",
    "# Testing performance for March\n",
    "from sklearn.metrics import mean_squared_error\n",
    "from sklearn.metrics import r2_score\n",
    "y_test_pred_mar = baseline_forest_mar.predict(X_test_mar)\n",
    "\n",
    "# Training for April\n",
    "baseline_forest_apr = RandomForestRegressor(random_state=2) \n",
    "baseline_forest_apr.fit(X_train_apr, y_train_apr)\n",
    "\n",
    "# Testing performance for April\n",
    "y_test_pred_apr = baseline_forest_apr.predict(X_test_apr)\n",
    "\n",
    "# Scores\n",
    "print(mean_squared_error(y_test_mar, y_test_pred_mar), r2_score(y_test_mar, y_test_pred_mar))\n",
    "print(mean_squared_error(y_test_apr, y_test_pred_apr), r2_score(y_test_apr, y_test_pred_apr))"
   ]
  },
  {
   "cell_type": "markdown",
   "id": "aa4a36b3",
   "metadata": {},
   "source": [
    "## Adding Weekend Indicator"
   ]
  },
  {
   "cell_type": "code",
   "execution_count": 64,
   "id": "8496a779",
   "metadata": {},
   "outputs": [],
   "source": [
    "# creating dummies for the ID feature (station ID)\n",
    "train_set_mar_dum = pd.get_dummies(train_set_mar[[\"#_rentals\", \"month\", \"day\", \"hour\", \"ID\", \"#_rentals_lag_1\",\"MapID\", \"temp\", \"rhum\", \"prcp\", \"wspd\", \"coco\", \"name_of_day\", \"weekend\"]], columns = [\"ID\",\"MapID\",\"name_of_day\"], drop_first=False)\n",
    "train_set_apr_dum = pd.get_dummies(train_set_apr[[\"#_rentals\", \"month\", \"day\", \"hour\", \"ID\", \"#_rentals_lag_1\",\"MapID\", \"temp\", \"rhum\", \"prcp\", \"wspd\", \"coco\", \"name_of_day\", \"weekend\"]], columns = [\"ID\",\"MapID\",\"name_of_day\"], drop_first=False)\n",
    "\n",
    "# Repeating for the test set\n",
    "test_set_mar_dum = pd.get_dummies(test_set_mar[[\"#_rentals\", \"month\", \"day\", \"hour\", \"ID\", \"#_rentals_lag_1\",\"MapID\", \"temp\", \"rhum\", \"prcp\", \"wspd\", \"coco\", \"name_of_day\", \"weekend\"]], columns = [\"ID\",\"MapID\",\"name_of_day\"], drop_first=False)\n",
    "test_set_apr_dum = pd.get_dummies(test_set_apr[[\"#_rentals\", \"month\", \"day\", \"hour\", \"ID\", \"#_rentals_lag_1\",\"MapID\", \"temp\", \"rhum\", \"prcp\", \"wspd\", \"coco\", \"name_of_day\", \"weekend\"]], columns = [\"ID\",\"MapID\",\"name_of_day\"], drop_first=False)"
   ]
  },
  {
   "cell_type": "code",
   "execution_count": 65,
   "id": "9ff577ad",
   "metadata": {},
   "outputs": [],
   "source": [
    "# Separating features from the target: March\n",
    "\n",
    "X_train_mar = train_set_mar_dum[list(train_set_mar_dum.columns)[1:]]\n",
    "y_train_mar = train_set_mar_dum[\"#_rentals\"]\n",
    "\n",
    "X_test_mar = test_set_mar_dum[list(test_set_mar_dum.columns)[1:]]\n",
    "y_test_mar = test_set_mar_dum[\"#_rentals\"]\n",
    "\n",
    "\n",
    "# Separating features from the target: April\n",
    "\n",
    "X_train_apr = train_set_apr_dum[list(train_set_apr_dum.columns)[1:]]\n",
    "y_train_apr = train_set_apr_dum[\"#_rentals\"]\n",
    "\n",
    "X_test_apr = test_set_apr_dum[list(test_set_apr_dum.columns)[1:]]\n",
    "y_test_apr = test_set_apr_dum[\"#_rentals\"]"
   ]
  },
  {
   "cell_type": "code",
   "execution_count": 66,
   "id": "a0f9c481",
   "metadata": {},
   "outputs": [
    {
     "name": "stdout",
     "output_type": "stream",
     "text": [
      "3.1435700612244903 0.5355468055069237\n",
      "4.612567826530612 0.557087802608438\n"
     ]
    }
   ],
   "source": [
    "# Training for March\n",
    "from sklearn.ensemble import RandomForestRegressor\n",
    "baseline_forest_mar = RandomForestRegressor(random_state=2) \n",
    "baseline_forest_mar.fit(X_train_mar, y_train_mar)\n",
    "\n",
    "# Testing performance for March\n",
    "from sklearn.metrics import mean_squared_error\n",
    "from sklearn.metrics import r2_score\n",
    "y_test_pred_mar = baseline_forest_mar.predict(X_test_mar)\n",
    "\n",
    "# Training for April\n",
    "baseline_forest_apr = RandomForestRegressor(random_state=2) \n",
    "baseline_forest_apr.fit(X_train_apr, y_train_apr)\n",
    "\n",
    "# Testing performance for April\n",
    "y_test_pred_apr = baseline_forest_apr.predict(X_test_apr)\n",
    "\n",
    "# Scores\n",
    "print(mean_squared_error(y_test_mar, y_test_pred_mar), r2_score(y_test_mar, y_test_pred_mar))\n",
    "print(mean_squared_error(y_test_apr, y_test_pred_apr), r2_score(y_test_apr, y_test_pred_apr))"
   ]
  },
  {
   "cell_type": "markdown",
   "id": "502a1603",
   "metadata": {},
   "source": [
    "## Adding Lagged Rentals (t-1), from nearby stations"
   ]
  },
  {
   "cell_type": "code",
   "execution_count": 67,
   "id": "a15e2df5",
   "metadata": {},
   "outputs": [],
   "source": [
    "# creating dummies for the ID feature (station ID)\n",
    "train_set_mar_dum = pd.get_dummies(train_set_mar[[\"#_rentals\", \"month\", \"day\", \"hour\", \"ID\", \"#_rentals_lag_1\",\"MapID\", \"temp\", \"rhum\", \"prcp\", \"wspd\", \"coco\", \"name_of_day\", \"weekend\",'w_avg_lag_1']], columns = [\"ID\",\"MapID\",\"name_of_day\"], drop_first=False)\n",
    "train_set_apr_dum = pd.get_dummies(train_set_apr[[\"#_rentals\", \"month\", \"day\", \"hour\", \"ID\", \"#_rentals_lag_1\",\"MapID\", \"temp\", \"rhum\", \"prcp\", \"wspd\", \"coco\", \"name_of_day\", \"weekend\",'w_avg_lag_1']], columns = [\"ID\",\"MapID\",\"name_of_day\"], drop_first=False)\n",
    "\n",
    "# Repeating for the test set\n",
    "test_set_mar_dum = pd.get_dummies(test_set_mar[[\"#_rentals\", \"month\", \"day\", \"hour\", \"ID\", \"#_rentals_lag_1\",\"MapID\", \"temp\", \"rhum\", \"prcp\", \"wspd\", \"coco\", \"name_of_day\", \"weekend\",'w_avg_lag_1']], columns = [\"ID\",\"MapID\",\"name_of_day\"], drop_first=False)\n",
    "test_set_apr_dum = pd.get_dummies(test_set_apr[[\"#_rentals\", \"month\", \"day\", \"hour\", \"ID\", \"#_rentals_lag_1\",\"MapID\", \"temp\", \"rhum\", \"prcp\", \"wspd\", \"coco\", \"name_of_day\", \"weekend\",'w_avg_lag_1']], columns = [\"ID\",\"MapID\",\"name_of_day\"], drop_first=False)"
   ]
  },
  {
   "cell_type": "code",
   "execution_count": 68,
   "id": "7225938e",
   "metadata": {},
   "outputs": [],
   "source": [
    "# Separating features from the target: March\n",
    "\n",
    "X_train_mar = train_set_mar_dum[list(train_set_mar_dum.columns)[1:]]\n",
    "y_train_mar = train_set_mar_dum[\"#_rentals\"]\n",
    "\n",
    "X_test_mar = test_set_mar_dum[list(test_set_mar_dum.columns)[1:]]\n",
    "y_test_mar = test_set_mar_dum[\"#_rentals\"]\n",
    "\n",
    "\n",
    "# Separating features from the target: April\n",
    "\n",
    "X_train_apr = train_set_apr_dum[list(train_set_apr_dum.columns)[1:]]\n",
    "y_train_apr = train_set_apr_dum[\"#_rentals\"]\n",
    "\n",
    "X_test_apr = test_set_apr_dum[list(test_set_apr_dum.columns)[1:]]\n",
    "y_test_apr = test_set_apr_dum[\"#_rentals\"]"
   ]
  },
  {
   "cell_type": "code",
   "execution_count": 69,
   "id": "72e8b1f6",
   "metadata": {},
   "outputs": [
    {
     "name": "stdout",
     "output_type": "stream",
     "text": [
      "3.082873959183673 0.5445144753654266\n",
      "4.635815306122449 0.5548555119068006\n"
     ]
    }
   ],
   "source": [
    "# Training for March\n",
    "from sklearn.ensemble import RandomForestRegressor\n",
    "baseline_forest_mar = RandomForestRegressor(random_state=2) \n",
    "baseline_forest_mar.fit(X_train_mar, y_train_mar)\n",
    "\n",
    "# Testing performance for March\n",
    "from sklearn.metrics import mean_squared_error\n",
    "from sklearn.metrics import r2_score\n",
    "y_test_pred_mar = baseline_forest_mar.predict(X_test_mar)\n",
    "\n",
    "# Training for April\n",
    "baseline_forest_apr = RandomForestRegressor(random_state=2) \n",
    "baseline_forest_apr.fit(X_train_apr, y_train_apr)\n",
    "\n",
    "# Testing performance for April\n",
    "y_test_pred_apr = baseline_forest_apr.predict(X_test_apr)\n",
    "\n",
    "# Scores\n",
    "print(mean_squared_error(y_test_mar, y_test_pred_mar), r2_score(y_test_mar, y_test_pred_mar))\n",
    "print(mean_squared_error(y_test_apr, y_test_pred_apr), r2_score(y_test_apr, y_test_pred_apr))"
   ]
  },
  {
   "cell_type": "markdown",
   "id": "8945a338",
   "metadata": {},
   "source": [
    "The MSE for April actually increased. Although there is improvement in the month of March!"
   ]
  },
  {
   "cell_type": "markdown",
   "id": "5d87c27f",
   "metadata": {},
   "source": [
    "## Adding Rentals from previous day, from nearby stations only"
   ]
  },
  {
   "cell_type": "code",
   "execution_count": 71,
   "id": "137ac444",
   "metadata": {},
   "outputs": [],
   "source": [
    "# creating dummies for the ID feature (station ID)\n",
    "train_set_mar_dum = pd.get_dummies(train_set_mar[[\"#_rentals\", \"month\", \"day\", \"hour\", \"ID\", \"#_rentals_lag_1\",\"MapID\", \"temp\", \"rhum\", \"prcp\", \"wspd\", \"coco\", \"name_of_day\", \"weekend\",'w_avg_lag_1','w_avg_prev_day']], columns = [\"ID\",\"MapID\",\"name_of_day\"], drop_first=False)\n",
    "train_set_apr_dum = pd.get_dummies(train_set_apr[[\"#_rentals\", \"month\", \"day\", \"hour\", \"ID\", \"#_rentals_lag_1\",\"MapID\", \"temp\", \"rhum\", \"prcp\", \"wspd\", \"coco\", \"name_of_day\", \"weekend\",'w_avg_lag_1','w_avg_prev_day']], columns = [\"ID\",\"MapID\",\"name_of_day\"], drop_first=False)\n",
    "\n",
    "# Repeating for the test set\n",
    "test_set_mar_dum = pd.get_dummies(test_set_mar[[\"#_rentals\", \"month\", \"day\", \"hour\", \"ID\", \"#_rentals_lag_1\",\"MapID\", \"temp\", \"rhum\", \"prcp\", \"wspd\", \"coco\", \"name_of_day\", \"weekend\",'w_avg_lag_1','w_avg_prev_day']], columns = [\"ID\",\"MapID\",\"name_of_day\"], drop_first=False)\n",
    "test_set_apr_dum = pd.get_dummies(test_set_apr[[\"#_rentals\", \"month\", \"day\", \"hour\", \"ID\", \"#_rentals_lag_1\",\"MapID\", \"temp\", \"rhum\", \"prcp\", \"wspd\", \"coco\", \"name_of_day\", \"weekend\",'w_avg_lag_1','w_avg_prev_day']], columns = [\"ID\",\"MapID\",\"name_of_day\"], drop_first=False)"
   ]
  },
  {
   "cell_type": "code",
   "execution_count": 72,
   "id": "178cb99d",
   "metadata": {},
   "outputs": [],
   "source": [
    "# Separating features from the target: March\n",
    "\n",
    "X_train_mar = train_set_mar_dum[list(train_set_mar_dum.columns)[1:]]\n",
    "y_train_mar = train_set_mar_dum[\"#_rentals\"]\n",
    "\n",
    "X_test_mar = test_set_mar_dum[list(test_set_mar_dum.columns)[1:]]\n",
    "y_test_mar = test_set_mar_dum[\"#_rentals\"]\n",
    "\n",
    "\n",
    "# Separating features from the target: April\n",
    "\n",
    "X_train_apr = train_set_apr_dum[list(train_set_apr_dum.columns)[1:]]\n",
    "y_train_apr = train_set_apr_dum[\"#_rentals\"]\n",
    "\n",
    "X_test_apr = test_set_apr_dum[list(test_set_apr_dum.columns)[1:]]\n",
    "y_test_apr = test_set_apr_dum[\"#_rentals\"]"
   ]
  },
  {
   "cell_type": "code",
   "execution_count": 73,
   "id": "4cac7f63",
   "metadata": {},
   "outputs": [
    {
     "name": "stdout",
     "output_type": "stream",
     "text": [
      "3.2647125612244894 0.5176483588306755\n",
      "4.798956142857143 0.5391902535951825\n"
     ]
    }
   ],
   "source": [
    "# Training for March\n",
    "from sklearn.ensemble import RandomForestRegressor\n",
    "baseline_forest_mar = RandomForestRegressor(random_state=2) \n",
    "baseline_forest_mar.fit(X_train_mar, y_train_mar)\n",
    "\n",
    "# Testing performance for March\n",
    "from sklearn.metrics import mean_squared_error\n",
    "from sklearn.metrics import r2_score\n",
    "y_test_pred_mar = baseline_forest_mar.predict(X_test_mar)\n",
    "\n",
    "# Training for April\n",
    "baseline_forest_apr = RandomForestRegressor(random_state=2) \n",
    "baseline_forest_apr.fit(X_train_apr, y_train_apr)\n",
    "\n",
    "# Testing performance for April\n",
    "y_test_pred_apr = baseline_forest_apr.predict(X_test_apr)\n",
    "\n",
    "# Scores\n",
    "print(mean_squared_error(y_test_mar, y_test_pred_mar), r2_score(y_test_mar, y_test_pred_mar))\n",
    "print(mean_squared_error(y_test_apr, y_test_pred_apr), r2_score(y_test_apr, y_test_pred_apr))"
   ]
  },
  {
   "cell_type": "markdown",
   "id": "c3abaab1",
   "metadata": {},
   "source": [
    "**Here, the performance clearly got worse for both the months. Hence, this variable should not be added.** What if this variable is added by removing the *lagged (t-1) rentals, from nearby stations?*"
   ]
  },
  {
   "cell_type": "code",
   "execution_count": 74,
   "id": "cd732ff5",
   "metadata": {},
   "outputs": [],
   "source": [
    "# creating dummies for the ID feature (station ID)\n",
    "train_set_mar_dum = pd.get_dummies(train_set_mar[[\"#_rentals\", \"month\", \"day\", \"hour\", \"ID\", \"#_rentals_lag_1\",\"MapID\", \"temp\", \"rhum\", \"prcp\", \"wspd\", \"coco\", \"name_of_day\", \"weekend\",'w_avg_prev_day']], columns = [\"ID\",\"MapID\",\"name_of_day\"], drop_first=False)\n",
    "train_set_apr_dum = pd.get_dummies(train_set_apr[[\"#_rentals\", \"month\", \"day\", \"hour\", \"ID\", \"#_rentals_lag_1\",\"MapID\", \"temp\", \"rhum\", \"prcp\", \"wspd\", \"coco\", \"name_of_day\", \"weekend\",'w_avg_prev_day']], columns = [\"ID\",\"MapID\",\"name_of_day\"], drop_first=False)\n",
    "\n",
    "# Repeating for the test set\n",
    "test_set_mar_dum = pd.get_dummies(test_set_mar[[\"#_rentals\", \"month\", \"day\", \"hour\", \"ID\", \"#_rentals_lag_1\",\"MapID\", \"temp\", \"rhum\", \"prcp\", \"wspd\", \"coco\", \"name_of_day\", \"weekend\",'w_avg_prev_day']], columns = [\"ID\",\"MapID\",\"name_of_day\"], drop_first=False)\n",
    "test_set_apr_dum = pd.get_dummies(test_set_apr[[\"#_rentals\", \"month\", \"day\", \"hour\", \"ID\", \"#_rentals_lag_1\",\"MapID\", \"temp\", \"rhum\", \"prcp\", \"wspd\", \"coco\", \"name_of_day\", \"weekend\",'w_avg_prev_day']], columns = [\"ID\",\"MapID\",\"name_of_day\"], drop_first=False)"
   ]
  },
  {
   "cell_type": "code",
   "execution_count": 75,
   "id": "2dcbd7a6",
   "metadata": {},
   "outputs": [],
   "source": [
    "# Separating features from the target: March\n",
    "\n",
    "X_train_mar = train_set_mar_dum[list(train_set_mar_dum.columns)[1:]]\n",
    "y_train_mar = train_set_mar_dum[\"#_rentals\"]\n",
    "\n",
    "X_test_mar = test_set_mar_dum[list(test_set_mar_dum.columns)[1:]]\n",
    "y_test_mar = test_set_mar_dum[\"#_rentals\"]\n",
    "\n",
    "\n",
    "# Separating features from the target: April\n",
    "\n",
    "X_train_apr = train_set_apr_dum[list(train_set_apr_dum.columns)[1:]]\n",
    "y_train_apr = train_set_apr_dum[\"#_rentals\"]\n",
    "\n",
    "X_test_apr = test_set_apr_dum[list(test_set_apr_dum.columns)[1:]]\n",
    "y_test_apr = test_set_apr_dum[\"#_rentals\"]"
   ]
  },
  {
   "cell_type": "code",
   "execution_count": 76,
   "id": "1d79dcf1",
   "metadata": {},
   "outputs": [
    {
     "name": "stdout",
     "output_type": "stream",
     "text": [
      "3.3331222551020407 0.5075410285542998\n",
      "4.859367051020408 0.533389422238923\n"
     ]
    }
   ],
   "source": [
    "# Training for March\n",
    "from sklearn.ensemble import RandomForestRegressor\n",
    "baseline_forest_mar = RandomForestRegressor(random_state=2) \n",
    "baseline_forest_mar.fit(X_train_mar, y_train_mar)\n",
    "\n",
    "# Testing performance for March\n",
    "from sklearn.metrics import mean_squared_error\n",
    "from sklearn.metrics import r2_score\n",
    "y_test_pred_mar = baseline_forest_mar.predict(X_test_mar)\n",
    "\n",
    "# Training for April\n",
    "baseline_forest_apr = RandomForestRegressor(random_state=2) \n",
    "baseline_forest_apr.fit(X_train_apr, y_train_apr)\n",
    "\n",
    "# Testing performance for April\n",
    "y_test_pred_apr = baseline_forest_apr.predict(X_test_apr)\n",
    "\n",
    "# Scores\n",
    "print(mean_squared_error(y_test_mar, y_test_pred_mar), r2_score(y_test_mar, y_test_pred_mar))\n",
    "print(mean_squared_error(y_test_apr, y_test_pred_apr), r2_score(y_test_apr, y_test_pred_apr))"
   ]
  },
  {
   "cell_type": "markdown",
   "id": "570a1cdf",
   "metadata": {},
   "source": [
    "This leads to even worse performance. Hence, *lagged (t-1) rentals, from nearby stations* should not be removed."
   ]
  },
  {
   "cell_type": "markdown",
   "id": "d6475f4b",
   "metadata": {},
   "source": [
    "## Adding Rolling average, from past 7 days"
   ]
  },
  {
   "cell_type": "code",
   "execution_count": 77,
   "id": "d7828612",
   "metadata": {},
   "outputs": [],
   "source": [
    "# creating dummies for the ID feature (station ID)\n",
    "train_set_mar_dum = pd.get_dummies(train_set_mar[[\"#_rentals\", \"month\", \"day\", \"hour\", \"ID\", \"#_rentals_lag_1\",\"MapID\", \"temp\", \"rhum\", \"prcp\", \"wspd\", \"coco\", \"name_of_day\", \"weekend\",'w_avg_lag_1','w_avg_prev_day',\"roll_avg\"]], columns = [\"ID\",\"MapID\",\"name_of_day\"], drop_first=False)\n",
    "train_set_apr_dum = pd.get_dummies(train_set_apr[[\"#_rentals\", \"month\", \"day\", \"hour\", \"ID\", \"#_rentals_lag_1\",\"MapID\", \"temp\", \"rhum\", \"prcp\", \"wspd\", \"coco\", \"name_of_day\", \"weekend\",'w_avg_lag_1','w_avg_prev_day',\"roll_avg\"]], columns = [\"ID\",\"MapID\",\"name_of_day\"], drop_first=False)\n",
    "\n",
    "# Repeating for the test set\n",
    "test_set_mar_dum = pd.get_dummies(test_set_mar[[\"#_rentals\", \"month\", \"day\", \"hour\", \"ID\", \"#_rentals_lag_1\",\"MapID\", \"temp\", \"rhum\", \"prcp\", \"wspd\", \"coco\", \"name_of_day\", \"weekend\",'w_avg_lag_1','w_avg_prev_day',\"roll_avg\"]], columns = [\"ID\",\"MapID\",\"name_of_day\"], drop_first=False)\n",
    "test_set_apr_dum = pd.get_dummies(test_set_apr[[\"#_rentals\", \"month\", \"day\", \"hour\", \"ID\", \"#_rentals_lag_1\",\"MapID\", \"temp\", \"rhum\", \"prcp\", \"wspd\", \"coco\", \"name_of_day\", \"weekend\",'w_avg_lag_1','w_avg_prev_day',\"roll_avg\"]], columns = [\"ID\",\"MapID\",\"name_of_day\"], drop_first=False)"
   ]
  },
  {
   "cell_type": "code",
   "execution_count": 78,
   "id": "18f8073b",
   "metadata": {},
   "outputs": [],
   "source": [
    "# Separating features from the target: March\n",
    "\n",
    "X_train_mar = train_set_mar_dum[list(train_set_mar_dum.columns)[1:]]\n",
    "y_train_mar = train_set_mar_dum[\"#_rentals\"]\n",
    "\n",
    "X_test_mar = test_set_mar_dum[list(test_set_mar_dum.columns)[1:]]\n",
    "y_test_mar = test_set_mar_dum[\"#_rentals\"]\n",
    "\n",
    "\n",
    "# Separating features from the target: April\n",
    "\n",
    "X_train_apr = train_set_apr_dum[list(train_set_apr_dum.columns)[1:]]\n",
    "y_train_apr = train_set_apr_dum[\"#_rentals\"]\n",
    "\n",
    "X_test_apr = test_set_apr_dum[list(test_set_apr_dum.columns)[1:]]\n",
    "y_test_apr = test_set_apr_dum[\"#_rentals\"]"
   ]
  },
  {
   "cell_type": "code",
   "execution_count": 79,
   "id": "c555ee7f",
   "metadata": {},
   "outputs": [
    {
     "name": "stdout",
     "output_type": "stream",
     "text": [
      "3.0585510510204075 0.5481081132280389\n",
      "4.710675520408163 0.5476672160912293\n"
     ]
    }
   ],
   "source": [
    "# Training for March\n",
    "from sklearn.ensemble import RandomForestRegressor\n",
    "baseline_forest_mar = RandomForestRegressor(random_state=2) \n",
    "baseline_forest_mar.fit(X_train_mar, y_train_mar)\n",
    "\n",
    "# Testing performance for March\n",
    "from sklearn.metrics import mean_squared_error\n",
    "from sklearn.metrics import r2_score\n",
    "y_test_pred_mar = baseline_forest_mar.predict(X_test_mar)\n",
    "\n",
    "# Training for April\n",
    "baseline_forest_apr = RandomForestRegressor(random_state=2) \n",
    "baseline_forest_apr.fit(X_train_apr, y_train_apr)\n",
    "\n",
    "# Testing performance for April\n",
    "y_test_pred_apr = baseline_forest_apr.predict(X_test_apr)\n",
    "\n",
    "# Scores\n",
    "print(mean_squared_error(y_test_mar, y_test_pred_mar), r2_score(y_test_mar, y_test_pred_mar))\n",
    "print(mean_squared_error(y_test_apr, y_test_pred_apr), r2_score(y_test_apr, y_test_pred_apr))"
   ]
  },
  {
   "cell_type": "markdown",
   "id": "02679c9a",
   "metadata": {},
   "source": [
    "The performance does not seem to improve much. Does removing *previous day rentals, from nearby stations* help improve performance?"
   ]
  },
  {
   "cell_type": "code",
   "execution_count": 80,
   "id": "fd414ca3",
   "metadata": {},
   "outputs": [],
   "source": [
    "# creating dummies for the ID feature (station ID)\n",
    "train_set_mar_dum = pd.get_dummies(train_set_mar[[\"#_rentals\", \"month\", \"day\", \"hour\", \"ID\", \"#_rentals_lag_1\",\"MapID\", \"temp\", \"rhum\", \"prcp\", \"wspd\", \"coco\", \"name_of_day\", \"weekend\",'w_avg_lag_1',\"roll_avg\"]], columns = [\"ID\",\"MapID\",\"name_of_day\"], drop_first=False)\n",
    "train_set_apr_dum = pd.get_dummies(train_set_apr[[\"#_rentals\", \"month\", \"day\", \"hour\", \"ID\", \"#_rentals_lag_1\",\"MapID\", \"temp\", \"rhum\", \"prcp\", \"wspd\", \"coco\", \"name_of_day\", \"weekend\",'w_avg_lag_1',\"roll_avg\"]], columns = [\"ID\",\"MapID\",\"name_of_day\"], drop_first=False)\n",
    "\n",
    "# Repeating for the test set\n",
    "test_set_mar_dum = pd.get_dummies(test_set_mar[[\"#_rentals\", \"month\", \"day\", \"hour\", \"ID\", \"#_rentals_lag_1\",\"MapID\", \"temp\", \"rhum\", \"prcp\", \"wspd\", \"coco\", \"name_of_day\", \"weekend\",'w_avg_lag_1',\"roll_avg\"]], columns = [\"ID\",\"MapID\",\"name_of_day\"], drop_first=False)\n",
    "test_set_apr_dum = pd.get_dummies(test_set_apr[[\"#_rentals\", \"month\", \"day\", \"hour\", \"ID\", \"#_rentals_lag_1\",\"MapID\", \"temp\", \"rhum\", \"prcp\", \"wspd\", \"coco\", \"name_of_day\", \"weekend\",'w_avg_lag_1',\"roll_avg\"]], columns = [\"ID\",\"MapID\",\"name_of_day\"], drop_first=False)"
   ]
  },
  {
   "cell_type": "code",
   "execution_count": 81,
   "id": "c8c5791c",
   "metadata": {},
   "outputs": [],
   "source": [
    "# Separating features from the target: March\n",
    "\n",
    "X_train_mar = train_set_mar_dum[list(train_set_mar_dum.columns)[1:]]\n",
    "y_train_mar = train_set_mar_dum[\"#_rentals\"]\n",
    "\n",
    "X_test_mar = test_set_mar_dum[list(test_set_mar_dum.columns)[1:]]\n",
    "y_test_mar = test_set_mar_dum[\"#_rentals\"]\n",
    "\n",
    "\n",
    "# Separating features from the target: April\n",
    "\n",
    "X_train_apr = train_set_apr_dum[list(train_set_apr_dum.columns)[1:]]\n",
    "y_train_apr = train_set_apr_dum[\"#_rentals\"]\n",
    "\n",
    "X_test_apr = test_set_apr_dum[list(test_set_apr_dum.columns)[1:]]\n",
    "y_test_apr = test_set_apr_dum[\"#_rentals\"]"
   ]
  },
  {
   "cell_type": "code",
   "execution_count": 82,
   "id": "3815eda0",
   "metadata": {},
   "outputs": [
    {
     "name": "stdout",
     "output_type": "stream",
     "text": [
      "3.0194672244897958 0.5538826331947053\n",
      "4.677237010204082 0.5508780792349219\n"
     ]
    }
   ],
   "source": [
    "# Training for March\n",
    "from sklearn.ensemble import RandomForestRegressor\n",
    "baseline_forest_mar = RandomForestRegressor(random_state=2) \n",
    "baseline_forest_mar.fit(X_train_mar, y_train_mar)\n",
    "\n",
    "# Testing performance for March\n",
    "from sklearn.metrics import mean_squared_error\n",
    "from sklearn.metrics import r2_score\n",
    "y_test_pred_mar = baseline_forest_mar.predict(X_test_mar)\n",
    "\n",
    "# Training for April\n",
    "baseline_forest_apr = RandomForestRegressor(random_state=2) \n",
    "baseline_forest_apr.fit(X_train_apr, y_train_apr)\n",
    "\n",
    "# Testing performance for April\n",
    "y_test_pred_apr = baseline_forest_apr.predict(X_test_apr)\n",
    "\n",
    "# Scores\n",
    "print(mean_squared_error(y_test_mar, y_test_pred_mar), r2_score(y_test_mar, y_test_pred_mar))\n",
    "print(mean_squared_error(y_test_apr, y_test_pred_apr), r2_score(y_test_apr, y_test_pred_apr))"
   ]
  },
  {
   "cell_type": "markdown",
   "id": "da5554e1",
   "metadata": {},
   "source": [
    "Removing *weighted average of previous day rentals, from nearby stations* does improve performance!"
   ]
  },
  {
   "cell_type": "markdown",
   "id": "ea13a10e",
   "metadata": {},
   "source": [
    "Does removing both *lagged rentals (t-1) and weighted avg of previous day rentals, both from nearby stations* help improve performance?"
   ]
  },
  {
   "cell_type": "code",
   "execution_count": 83,
   "id": "680e8603",
   "metadata": {},
   "outputs": [],
   "source": [
    "# creating dummies for the ID feature (station ID)\n",
    "train_set_mar_dum = pd.get_dummies(train_set_mar[[\"#_rentals\", \"month\", \"day\", \"hour\", \"ID\", \"#_rentals_lag_1\",\"MapID\", \"temp\", \"rhum\", \"prcp\", \"wspd\", \"coco\", \"name_of_day\", \"weekend\",\"roll_avg\"]], columns = [\"ID\",\"MapID\",\"name_of_day\"], drop_first=False)\n",
    "train_set_apr_dum = pd.get_dummies(train_set_apr[[\"#_rentals\", \"month\", \"day\", \"hour\", \"ID\", \"#_rentals_lag_1\",\"MapID\", \"temp\", \"rhum\", \"prcp\", \"wspd\", \"coco\", \"name_of_day\", \"weekend\",\"roll_avg\"]], columns = [\"ID\",\"MapID\",\"name_of_day\"], drop_first=False)\n",
    "\n",
    "# Repeating for the test set\n",
    "test_set_mar_dum = pd.get_dummies(test_set_mar[[\"#_rentals\", \"month\", \"day\", \"hour\", \"ID\", \"#_rentals_lag_1\",\"MapID\", \"temp\", \"rhum\", \"prcp\", \"wspd\", \"coco\", \"name_of_day\", \"weekend\",\"roll_avg\"]], columns = [\"ID\",\"MapID\",\"name_of_day\"], drop_first=False)\n",
    "test_set_apr_dum = pd.get_dummies(test_set_apr[[\"#_rentals\", \"month\", \"day\", \"hour\", \"ID\", \"#_rentals_lag_1\",\"MapID\", \"temp\", \"rhum\", \"prcp\", \"wspd\", \"coco\", \"name_of_day\", \"weekend\",\"roll_avg\"]], columns = [\"ID\",\"MapID\",\"name_of_day\"], drop_first=False)"
   ]
  },
  {
   "cell_type": "code",
   "execution_count": 84,
   "id": "400a1126",
   "metadata": {},
   "outputs": [],
   "source": [
    "# Separating features from the target: March\n",
    "\n",
    "X_train_mar = train_set_mar_dum[list(train_set_mar_dum.columns)[1:]]\n",
    "y_train_mar = train_set_mar_dum[\"#_rentals\"]\n",
    "\n",
    "X_test_mar = test_set_mar_dum[list(test_set_mar_dum.columns)[1:]]\n",
    "y_test_mar = test_set_mar_dum[\"#_rentals\"]\n",
    "\n",
    "\n",
    "# Separating features from the target: April\n",
    "\n",
    "X_train_apr = train_set_apr_dum[list(train_set_apr_dum.columns)[1:]]\n",
    "y_train_apr = train_set_apr_dum[\"#_rentals\"]\n",
    "\n",
    "X_test_apr = test_set_apr_dum[list(test_set_apr_dum.columns)[1:]]\n",
    "y_test_apr = test_set_apr_dum[\"#_rentals\"]"
   ]
  },
  {
   "cell_type": "code",
   "execution_count": 85,
   "id": "f2ba78b6",
   "metadata": {},
   "outputs": [
    {
     "name": "stdout",
     "output_type": "stream",
     "text": [
      "3.1149506734693877 0.5397752355429687\n",
      "4.699512459183674 0.5487391257438348\n"
     ]
    }
   ],
   "source": [
    "# Training for March\n",
    "from sklearn.ensemble import RandomForestRegressor\n",
    "baseline_forest_mar = RandomForestRegressor(random_state=2) \n",
    "baseline_forest_mar.fit(X_train_mar, y_train_mar)\n",
    "\n",
    "# Testing performance for March\n",
    "from sklearn.metrics import mean_squared_error\n",
    "from sklearn.metrics import r2_score\n",
    "y_test_pred_mar = baseline_forest_mar.predict(X_test_mar)\n",
    "\n",
    "# Training for April\n",
    "baseline_forest_apr = RandomForestRegressor(random_state=2) \n",
    "baseline_forest_apr.fit(X_train_apr, y_train_apr)\n",
    "\n",
    "# Testing performance for April\n",
    "y_test_pred_apr = baseline_forest_apr.predict(X_test_apr)\n",
    "\n",
    "# Scores\n",
    "print(mean_squared_error(y_test_mar, y_test_pred_mar), r2_score(y_test_mar, y_test_pred_mar))\n",
    "print(mean_squared_error(y_test_apr, y_test_pred_apr), r2_score(y_test_apr, y_test_pred_apr))"
   ]
  },
  {
   "cell_type": "markdown",
   "id": "6a59289e",
   "metadata": {},
   "source": [
    "No, removing both is not yielding superior performance. Hence *lagged rentals (t-1), from nearby stations* should be kept."
   ]
  },
  {
   "cell_type": "markdown",
   "id": "6963394e",
   "metadata": {},
   "source": [
    "## Adding rentals from rolling average, from nearby stations\n",
    "This time rolling average only from nearby stations is considered (weights are assigned using the Gaussian Kernel). Additionally, the variable <u>weighted average of previous day rentals, from nearby stations</u>, is left out because it's damaging performance."
   ]
  },
  {
   "cell_type": "code",
   "execution_count": 86,
   "id": "3df600e6",
   "metadata": {},
   "outputs": [],
   "source": [
    "# creating dummies for the ID feature (station ID)\n",
    "train_set_mar_dum = pd.get_dummies(train_set_mar[[\"#_rentals\", \"month\", \"day\", \"hour\", \"ID\", \"#_rentals_lag_1\",\"MapID\", \"temp\", \"rhum\", \"prcp\", \"wspd\", \"coco\", \"name_of_day\", \"weekend\",'w_avg_lag_1',\"roll_avg\",'w_avg_roll_avg']], columns = [\"ID\",\"MapID\",\"name_of_day\"], drop_first=False)\n",
    "train_set_apr_dum = pd.get_dummies(train_set_apr[[\"#_rentals\", \"month\", \"day\", \"hour\", \"ID\", \"#_rentals_lag_1\",\"MapID\", \"temp\", \"rhum\", \"prcp\", \"wspd\", \"coco\", \"name_of_day\", \"weekend\",'w_avg_lag_1',\"roll_avg\",'w_avg_roll_avg']], columns = [\"ID\",\"MapID\",\"name_of_day\"], drop_first=False)\n",
    "\n",
    "# Repeating for the test set\n",
    "test_set_mar_dum = pd.get_dummies(test_set_mar[[\"#_rentals\", \"month\", \"day\", \"hour\", \"ID\", \"#_rentals_lag_1\",\"MapID\", \"temp\", \"rhum\", \"prcp\", \"wspd\", \"coco\", \"name_of_day\", \"weekend\",'w_avg_lag_1',\"roll_avg\",'w_avg_roll_avg']], columns = [\"ID\",\"MapID\",\"name_of_day\"], drop_first=False)\n",
    "test_set_apr_dum = pd.get_dummies(test_set_apr[[\"#_rentals\", \"month\", \"day\", \"hour\", \"ID\", \"#_rentals_lag_1\",\"MapID\", \"temp\", \"rhum\", \"prcp\", \"wspd\", \"coco\", \"name_of_day\", \"weekend\",'w_avg_lag_1',\"roll_avg\",'w_avg_roll_avg']], columns = [\"ID\",\"MapID\",\"name_of_day\"], drop_first=False)"
   ]
  },
  {
   "cell_type": "code",
   "execution_count": 87,
   "id": "f6238b4c",
   "metadata": {},
   "outputs": [],
   "source": [
    "# Separating features from the target: March\n",
    "\n",
    "X_train_mar = train_set_mar_dum[list(train_set_mar_dum.columns)[1:]]\n",
    "y_train_mar = train_set_mar_dum[\"#_rentals\"]\n",
    "\n",
    "X_test_mar = test_set_mar_dum[list(test_set_mar_dum.columns)[1:]]\n",
    "y_test_mar = test_set_mar_dum[\"#_rentals\"]\n",
    "\n",
    "\n",
    "# Separating features from the target: April\n",
    "\n",
    "X_train_apr = train_set_apr_dum[list(train_set_apr_dum.columns)[1:]]\n",
    "y_train_apr = train_set_apr_dum[\"#_rentals\"]\n",
    "\n",
    "X_test_apr = test_set_apr_dum[list(test_set_apr_dum.columns)[1:]]\n",
    "y_test_apr = test_set_apr_dum[\"#_rentals\"]"
   ]
  },
  {
   "cell_type": "code",
   "execution_count": 88,
   "id": "3c3ad50d",
   "metadata": {},
   "outputs": [
    {
     "name": "stdout",
     "output_type": "stream",
     "text": [
      "3.0174125918367345 0.5541861991024595\n",
      "4.690355897959184 0.5496183654222546\n"
     ]
    }
   ],
   "source": [
    "# Training for March\n",
    "from sklearn.ensemble import RandomForestRegressor\n",
    "baseline_forest_mar = RandomForestRegressor(random_state=2) \n",
    "baseline_forest_mar.fit(X_train_mar, y_train_mar)\n",
    "\n",
    "# Testing performance for March\n",
    "from sklearn.metrics import mean_squared_error\n",
    "from sklearn.metrics import r2_score\n",
    "y_test_pred_mar = baseline_forest_mar.predict(X_test_mar)\n",
    "\n",
    "# Training for April\n",
    "baseline_forest_apr = RandomForestRegressor(random_state=2) \n",
    "baseline_forest_apr.fit(X_train_apr, y_train_apr)\n",
    "\n",
    "# Testing performance for April\n",
    "y_test_pred_apr = baseline_forest_apr.predict(X_test_apr)\n",
    "\n",
    "# Scores\n",
    "print(mean_squared_error(y_test_mar, y_test_pred_mar), r2_score(y_test_mar, y_test_pred_mar))\n",
    "print(mean_squared_error(y_test_apr, y_test_pred_apr), r2_score(y_test_apr, y_test_pred_apr))"
   ]
  },
  {
   "cell_type": "markdown",
   "id": "554ee985",
   "metadata": {},
   "source": [
    "This is not really contributing to the performance. It's better to leave it out."
   ]
  },
  {
   "cell_type": "markdown",
   "id": "06840fb2",
   "metadata": {},
   "source": [
    "# Conclusion\n",
    "Out of the 13 generated features, only six contribute towards performance increase. The Average MSE and average r2 score plots are visualised below to track performance change with every addition of a new feature in the model."
   ]
  },
  {
   "cell_type": "code",
   "execution_count": 100,
   "id": "2dc1e6dc",
   "metadata": {},
   "outputs": [
    {
     "data": {
      "image/png": "[encoded data removed]",
      "text/plain": [
       "<Figure size 1600x400 with 1 Axes>"
      ]
     },
     "metadata": {},
     "output_type": "display_data"
    }
   ],
   "source": [
    "# Plotting change in performance - MSE\n",
    "\n",
    "import matplotlib.pyplot as plt\n",
    "import numpy as np\n",
    "plt.figure(figsize=(16, 4))\n",
    "x = [\"Baseline\",\"MapID\",\"Weather\",\"Day Name\", \"Weekend Ind.\", \"Lag. Rentals t-1, nearby sts.\", \"Roll. Avg.\"]\n",
    "avg_MSE = [np.mean([3.892136908163265,5.822993418367347]),np.mean([3.8735501530612244,5.535596224489796]),np.mean([3.3351453367346937, 4.9269805918367355]),np.mean([3.182960275510204, 4.636168204081632]),np.mean([3.1435700612244903, 4.612567826530612]),np.mean([3.082873959183673, 4.635815306122449]),np.mean([3.0194672244897958, 4.677237010204082])]\n",
    "plt.plot(x, avg_MSE, label='MSE averaged over Mar/Apr', color='blue', linewidth=2)\n",
    "\n",
    "plt.ylabel(\"Averaged MSE Score\")\n",
    "\n",
    "# Show the plot\n",
    "plt.show()"
   ]
  },
  {
   "cell_type": "code",
   "execution_count": 101,
   "id": "672cd2b3",
   "metadata": {},
   "outputs": [
    {
     "data": {
      "image/png": "[encoded data removed]",
      "text/plain": [
       "<Figure size 1600x400 with 1 Axes>"
      ]
     },
     "metadata": {},
     "output_type": "display_data"
    }
   ],
   "source": [
    "# Plotting change in performance - r2 score\n",
    "\n",
    "plt.figure(figsize=(16, 4))\n",
    "avg_r2 = [np.mean([0.4249482641730312, 0.4408592117624076]),np.mean([0.4276944023580478, 0.46845592739926334]),np.mean([0.50724212421665, 0.5268969731167368]),np.mean([0.5297270176541153, 0.5548216256168998]),np.mean([0.5355468055069237, 0.557087802608438]),np.mean([0.5445144753654266, 0.5548555119068006]),np.mean([0.5538826331947053, 0.5508780792349219])]\n",
    "plt.plot(x, avg_r2, label='r2 score averaged over Mar/Apr', color='green', linewidth=2)\n",
    "plt.ylabel(\"Averaged r2 Score\")\n",
    "\n",
    "# Show the plot\n",
    "plt.show()"
   ]
  },
  {
   "cell_type": "code",
   "execution_count": 3,
   "id": "37c467c9",
   "metadata": {},
   "outputs": [
    {
     "data": {
      "image/png": "[encoded data removed]",
      "text/plain": [
       "<Figure size 1600x400 with 1 Axes>"
      ]
     },
     "metadata": {},
     "output_type": "display_data"
    }
   ],
   "source": [
    "# MSE Plot for March\n",
    "# Plotting change in performance - MSE\n",
    "\n",
    "import matplotlib.pyplot as plt\n",
    "import numpy as np\n",
    "plt.figure(figsize=(16, 4))\n",
    "x = [\"Baseline\",\"MapID\",\"Weather\",\"Day Name\", \"Weekend Ind.\", \"Lag. Rentals t-1, nearby sts.\", \"Roll. Avg.\"]\n",
    "MSE_Mar = [np.mean([3.892136908163265]),np.mean([3.8735501530612244]),np.mean([3.3351453367346937]),np.mean([3.182960275510204]),np.mean([3.1435700612244903]),np.mean([3.082873959183673]),np.mean([3.0194672244897958])]\n",
    "plt.plot(x, MSE_Mar, color='pink', linewidth=2)\n",
    "\n",
    "plt.title(\"Feature Selection: MSE Behavior for March 2024\")\n",
    "plt.ylabel(\"MSE Score\")\n",
    "\n",
    "# Show the plot\n",
    "plt.show()"
   ]
  },
  {
   "cell_type": "code",
   "execution_count": 4,
   "id": "ee93ec7c",
   "metadata": {},
   "outputs": [
    {
     "data": {
      "image/png": "[encoded data removed]",
      "text/plain": [
       "<Figure size 1600x400 with 1 Axes>"
      ]
     },
     "metadata": {},
     "output_type": "display_data"
    }
   ],
   "source": [
    "# R2 score plot for March\n",
    "# Plotting change in performance - MSE\n",
    "\n",
    "plt.figure(figsize=(16, 4))\n",
    "x = [\"Baseline\",\"MapID\",\"Weather\",\"Day Name\", \"Weekend Ind.\", \"Lag. Rentals t-1, nearby sts.\", \"Roll. Avg.\"]\n",
    "r2_Mar = [np.mean([0.4249482641730312]),np.mean([0.4276944023580478]),np.mean([0.50724212421665]),np.mean([0.5297270176541153]),np.mean([0.5355468055069237]),np.mean([0.5445144753654266]),np.mean([0.5538826331947053])]\n",
    "plt.plot(x, r2_Mar, color='purple', linewidth=2)\n",
    "\n",
    "plt.title(\"Feature Selection: r2 score behavior for March 2024\")\n",
    "plt.ylabel(\"r2 Score\")\n",
    "\n",
    "# Show the plot\n",
    "plt.show()"
   ]
  },
  {
   "cell_type": "code",
   "execution_count": 5,
   "id": "db3d18e2",
   "metadata": {},
   "outputs": [
    {
     "data": {
      "image/png": "[encoded data removed]",
      "text/plain": [
       "<Figure size 1600x400 with 1 Axes>"
      ]
     },
     "metadata": {},
     "output_type": "display_data"
    }
   ],
   "source": [
    "# MSE Plot for April\n",
    "# Plotting change in performance - MSE\n",
    "\n",
    "plt.figure(figsize=(16, 4))\n",
    "x = [\"Baseline\",\"MapID\",\"Weather\",\"Day Name\", \"Weekend Ind.\", \"Lag. Rentals t-1, nearby sts.\", \"Roll. Avg.\"]\n",
    "MSE_Apr = [np.mean([5.822993418367347]),np.mean([5.535596224489796]),np.mean([4.9269805918367355]),np.mean([4.636168204081632]),np.mean([4.612567826530612]),np.mean([4.635815306122449]),np.mean([4.677237010204082])]\n",
    "plt.plot(x, MSE_Mar, color='red', linewidth=2)\n",
    "\n",
    "plt.title(\"Feature Selection: MSE Behavior for April 2024\")\n",
    "plt.ylabel(\"MSE Score\")\n",
    "\n",
    "# Show the plot\n",
    "plt.show()"
   ]
  },
  {
   "cell_type": "code",
   "execution_count": 6,
   "id": "f039a271",
   "metadata": {},
   "outputs": [
    {
     "data": {
      "image/png": "[encoded data removed]",
      "text/plain": [
       "<Figure size 1600x400 with 1 Axes>"
      ]
     },
     "metadata": {},
     "output_type": "display_data"
    }
   ],
   "source": [
    "# R2 score plot for April\n",
    "# Plotting change in performance - MSE\n",
    "\n",
    "plt.figure(figsize=(16, 4))\n",
    "x = [\"Baseline\",\"MapID\",\"Weather\",\"Day Name\", \"Weekend Ind.\", \"Lag. Rentals t-1, nearby sts.\", \"Roll. Avg.\"]\n",
    "r2_Apr = [np.mean([0.4408592117624076]),np.mean([0.46845592739926334]),np.mean([0.5268969731167368]),np.mean([0.5548216256168998]),np.mean([0.557087802608438]),np.mean([0.5548555119068006]),np.mean([0.5508780792349219])]\n",
    "\n",
    "plt.plot(x, r2_Apr, color='orange', linewidth=2)\n",
    "\n",
    "plt.title(\"Feature Selection: r2 score behavior for April 2024\")\n",
    "plt.ylabel(\"r2 Score\")\n",
    "\n",
    "# Show the plot\n",
    "plt.show()"
   ]
  },
  {
   "cell_type": "markdown",
   "id": "7eb6c6ab",
   "metadata": {},
   "source": [
    "## Tuning - Basic RF\n",
    "Now that the feature selection process is completed, the existing performance of the random forest learner can be improved using hyperparameter tuning. For both models, performance evaluation is done only on the validation set from March 2024 (i.e. third week of March) to indentify the best hyperparameters. These hyperparameter values are then used for both models. "
   ]
  },
  {
   "cell_type": "markdown",
   "id": "cdd4a5d5",
   "metadata": {},
   "source": [
    "### Re-creating the full model"
   ]
  },
  {
   "cell_type": "code",
   "execution_count": 11,
   "id": "8ad7b85a",
   "metadata": {},
   "outputs": [],
   "source": [
    "# creating dummies for the ID feature (station ID)\n",
    "train_set_mar_dum = pd.get_dummies(train_set_mar[[\"#_rentals\", \"month\", \"day\", \"hour\", \"ID\", \"#_rentals_lag_1\",\"MapID\", \"temp\", \"rhum\", \"prcp\", \"wspd\", \"coco\", \"name_of_day\", \"weekend\",'w_avg_lag_1',\"roll_avg\"]], columns = [\"ID\",\"MapID\",\"name_of_day\"], drop_first=False)\n",
    "train_set_apr_dum = pd.get_dummies(train_set_apr[[\"#_rentals\", \"month\", \"day\", \"hour\", \"ID\", \"#_rentals_lag_1\",\"MapID\", \"temp\", \"rhum\", \"prcp\", \"wspd\", \"coco\", \"name_of_day\", \"weekend\",'w_avg_lag_1',\"roll_avg\"]], columns = [\"ID\",\"MapID\",\"name_of_day\"], drop_first=False)\n",
    "\n",
    "# Repeating for the test set\n",
    "test_set_mar_dum = pd.get_dummies(test_set_mar[[\"#_rentals\", \"month\", \"day\", \"hour\", \"ID\", \"#_rentals_lag_1\",\"MapID\", \"temp\", \"rhum\", \"prcp\", \"wspd\", \"coco\", \"name_of_day\", \"weekend\",'w_avg_lag_1',\"roll_avg\"]], columns = [\"ID\",\"MapID\",\"name_of_day\"], drop_first=False)\n",
    "test_set_apr_dum = pd.get_dummies(test_set_apr[[\"#_rentals\", \"month\", \"day\", \"hour\", \"ID\", \"#_rentals_lag_1\",\"MapID\", \"temp\", \"rhum\", \"prcp\", \"wspd\", \"coco\", \"name_of_day\", \"weekend\",'w_avg_lag_1',\"roll_avg\"]], columns = [\"ID\",\"MapID\",\"name_of_day\"], drop_first=False)"
   ]
  },
  {
   "cell_type": "code",
   "execution_count": 12,
   "id": "9ffa43e5",
   "metadata": {},
   "outputs": [],
   "source": [
    "# Separating features from the target: March\n",
    "\n",
    "X_train_mar = train_set_mar_dum[list(train_set_mar_dum.columns)[1:]]\n",
    "y_train_mar = train_set_mar_dum[\"#_rentals\"]\n",
    "\n",
    "X_test_mar = test_set_mar_dum[list(test_set_mar_dum.columns)[1:]]\n",
    "y_test_mar = test_set_mar_dum[\"#_rentals\"]\n",
    "\n",
    "\n",
    "# Separating features from the target: April\n",
    "\n",
    "X_train_apr = train_set_apr_dum[list(train_set_apr_dum.columns)[1:]]\n",
    "y_train_apr = train_set_apr_dum[\"#_rentals\"]\n",
    "\n",
    "X_test_apr = test_set_apr_dum[list(test_set_apr_dum.columns)[1:]]\n",
    "y_test_apr = test_set_apr_dum[\"#_rentals\"]"
   ]
  },
  {
   "cell_type": "code",
   "execution_count": 13,
   "id": "e8c62217",
   "metadata": {},
   "outputs": [
    {
     "name": "stdout",
     "output_type": "stream",
     "text": [
      "3.0194672244897958 0.5538826331947053\n",
      "4.677237010204082 0.5508780792349219\n"
     ]
    }
   ],
   "source": [
    "# Training for March\n",
    "from sklearn.ensemble import RandomForestRegressor\n",
    "baseline_forest_mar = RandomForestRegressor(random_state=2) \n",
    "baseline_forest_mar.fit(X_train_mar, y_train_mar)\n",
    "\n",
    "# Testing performance for March\n",
    "from sklearn.metrics import mean_squared_error\n",
    "from sklearn.metrics import r2_score\n",
    "y_test_pred_mar = baseline_forest_mar.predict(X_test_mar)\n",
    "\n",
    "# Training for April\n",
    "baseline_forest_apr = RandomForestRegressor(random_state=2) \n",
    "baseline_forest_apr.fit(X_train_apr, y_train_apr)\n",
    "\n",
    "# Testing performance for April\n",
    "y_test_pred_apr = baseline_forest_apr.predict(X_test_apr)\n",
    "\n",
    "# Scores\n",
    "print(mean_squared_error(y_test_mar, y_test_pred_mar), r2_score(y_test_mar, y_test_pred_mar))\n",
    "print(mean_squared_error(y_test_apr, y_test_pred_apr), r2_score(y_test_apr, y_test_pred_apr))"
   ]
  },
  {
   "cell_type": "markdown",
   "id": "dad660e8",
   "metadata": {},
   "source": [
    "Hence, the MSE for March is 3.01 and for April is 4.67. The r2 score for March is 0.553 and for April is 0.551."
   ]
  },
  {
   "cell_type": "markdown",
   "id": "86cb5695",
   "metadata": {},
   "source": [
    "### Preparing the Validation Set"
   ]
  },
  {
   "cell_type": "code",
   "execution_count": 15,
   "id": "a18c6796",
   "metadata": {},
   "outputs": [],
   "source": [
    "# Creating dummies \n",
    "\n",
    "val_set_mar_dum = pd.get_dummies(val_set_mar[[\"#_rentals\", \"month\", \"day\", \"hour\", \"ID\", \"#_rentals_lag_1\",\"MapID\", \"temp\", \"rhum\", \"prcp\", \"wspd\", \"coco\", \"name_of_day\", \"weekend\",'w_avg_lag_1',\"roll_avg\"]], columns = [\"ID\",\"MapID\",\"name_of_day\"], drop_first=False)\n",
    "val_set_apr_dum = pd.get_dummies(val_set_apr[[\"#_rentals\", \"month\", \"day\", \"hour\", \"ID\", \"#_rentals_lag_1\",\"MapID\", \"temp\", \"rhum\", \"prcp\", \"wspd\", \"coco\", \"name_of_day\", \"weekend\",'w_avg_lag_1',\"roll_avg\"]], columns = [\"ID\",\"MapID\",\"name_of_day\"], drop_first=False)"
   ]
  },
  {
   "cell_type": "code",
   "execution_count": 16,
   "id": "ae8840d0",
   "metadata": {},
   "outputs": [],
   "source": [
    "# Separating features from the target: March\n",
    "X_val_mar = val_set_mar_dum[list(val_set_mar_dum.columns)[1:]]\n",
    "y_val_mar = val_set_mar_dum[\"#_rentals\"]\n",
    "\n",
    "# Separating features from the target: April\n",
    "X_val_apr = val_set_apr_dum[list(val_set_apr_dum.columns)[1:]]\n",
    "y_val_apr = val_set_apr_dum[\"#_rentals\"]"
   ]
  },
  {
   "cell_type": "code",
   "execution_count": 23,
   "id": "d8fe754e",
   "metadata": {},
   "outputs": [],
   "source": [
    "# Defining the hyperparameter space - attempt 1\n",
    "\n",
    "param_dist = {\n",
    "    'n_estimators': np.arange(25,35,2),     # Number of trees\n",
    "    'max_depth': np.arange(5,25,5),         # Maximum depth of each tree\n",
    "    'min_samples_split': np.arange(2,5,1),  # Minimum samples required to split a node\n",
    "    'min_samples_leaf': np.arange(2,5,1),   # Minimum samples at a leaf node\n",
    "}"
   ]
  },
  {
   "cell_type": "code",
   "execution_count": 24,
   "id": "f4920696",
   "metadata": {},
   "outputs": [],
   "source": [
    "# Settting up the randomised search\n",
    "from sklearn.model_selection import RandomizedSearchCV\n",
    "from sklearn.metrics import mean_squared_error\n",
    "from sklearn.metrics import r2_score\n",
    "\n",
    "\n",
    "# Initialize RandomizedSearchCV with the already trained model (for March only) - attempt 1\n",
    "\n",
    "random_search = RandomizedSearchCV(\n",
    "    estimator = baseline_forest_mar,  # Pre-trained model for March\n",
    "    param_distributions = param_dist,\n",
    "    n_iter = 40,  # Number of random combinations to try\n",
    "    cv = None,    # Can't be used since temporal dependencies are present\n",
    "    scoring ='neg_mean_squared_error',\n",
    "    n_jobs = -1,  # Use all CPU cores\n",
    "    random_state=42\n",
    ")"
   ]
  },
  {
   "cell_type": "code",
   "execution_count": 25,
   "id": "0c404bdd",
   "metadata": {},
   "outputs": [
    {
     "name": "stdout",
     "output_type": "stream",
     "text": [
      "Best hyperparameters found: {'n_estimators': 33, 'min_samples_split': 2, 'min_samples_leaf': 3, 'max_depth': 15}\n"
     ]
    }
   ],
   "source": [
    "# Fit RandomizedSearchCV (this does tuning but does not re-train your initial model)\n",
    "random_search.fit(X_train_mar, y_train_mar)\n",
    "\n",
    "# Getting the best hyperparameters\n",
    "best_params = random_search.best_params_\n",
    "print(\"Best hyperparameters found:\", best_params)"
   ]
  },
  {
   "cell_type": "code",
   "execution_count": 26,
   "id": "94a00ac9",
   "metadata": {},
   "outputs": [
    {
     "name": "stdout",
     "output_type": "stream",
     "text": [
      "2.5038330234429775 0.35547957606273684\n"
     ]
    }
   ],
   "source": [
    "# Evaluating performance on the validation set\n",
    "best_rf = random_search.best_estimator_\n",
    "y_val_pred_mar = best_rf.predict(X_val_mar)\n",
    "\n",
    "# Calculate score on validation set\n",
    "print(mean_squared_error(y_val_mar, y_val_pred_mar), r2_score(y_val_mar, y_val_pred_mar))"
   ]
  },
  {
   "cell_type": "markdown",
   "id": "7a0d5228",
   "metadata": {},
   "source": [
    "> For the first attempt at hyperparameters, MSE and r2 score on the validation set is <u>found to be 2.5 and 0.35</u>."
   ]
  },
  {
   "cell_type": "code",
   "execution_count": 27,
   "id": "2abd3d02",
   "metadata": {},
   "outputs": [],
   "source": [
    "# Defining the hyperparameter space - attempt 2\n",
    "\n",
    "param_dist = {\n",
    "    'n_estimators': np.arange(30,90,15),    # Number of trees\n",
    "    'max_depth': np.arange(10,30,5),         # Maximum depth of each tree\n",
    "    'min_samples_leaf': np.arange(2,8,2),   # Minimum samples at a leaf node\n",
    "}"
   ]
  },
  {
   "cell_type": "code",
   "execution_count": 28,
   "id": "786d8d80",
   "metadata": {},
   "outputs": [],
   "source": [
    "# Initialize RandomizedSearchCV with the already trained model (for March only) - attempt 2\n",
    "\n",
    "random_search = RandomizedSearchCV(\n",
    "    estimator = baseline_forest_mar,  # Pre-trained model for March\n",
    "    param_distributions = param_dist,\n",
    "    n_iter = 40,  # Number of random combinations to try\n",
    "    cv = None,    # Can't be used since temporal dependencies are present\n",
    "    scoring ='neg_mean_squared_error',\n",
    "    n_jobs = -1,  # Use all CPU cores\n",
    "    random_state=42\n",
    ")"
   ]
  },
  {
   "cell_type": "code",
   "execution_count": 29,
   "id": "0b1821f2",
   "metadata": {},
   "outputs": [
    {
     "name": "stdout",
     "output_type": "stream",
     "text": [
      "Best hyperparameters found: {'n_estimators': 75, 'min_samples_leaf': 4, 'max_depth': 15}\n"
     ]
    }
   ],
   "source": [
    "# Fit RandomizedSearchCV (this does tuning but does not re-train your initial model)\n",
    "random_search.fit(X_train_mar, y_train_mar)\n",
    "\n",
    "# Getting the best hyperparameters\n",
    "best_params = random_search.best_params_\n",
    "print(\"Best hyperparameters found:\", best_params)"
   ]
  },
  {
   "cell_type": "code",
   "execution_count": 30,
   "id": "107c38ac",
   "metadata": {},
   "outputs": [
    {
     "name": "stdout",
     "output_type": "stream",
     "text": [
      "2.47611993923904 0.3626132980851302\n"
     ]
    }
   ],
   "source": [
    "# Evaluating performance on the validation set\n",
    "best_rf = random_search.best_estimator_\n",
    "y_val_pred_mar = best_rf.predict(X_val_mar)\n",
    "\n",
    "# Calculate score on validation set\n",
    "print(mean_squared_error(y_val_mar, y_val_pred_mar), r2_score(y_val_mar, y_val_pred_mar))"
   ]
  },
  {
   "cell_type": "markdown",
   "id": "2c274c57",
   "metadata": {},
   "source": [
    "> For the second attempt at hyperparameters, MSE and r2 score on the validation set is <u>found to be 2.47 and 0.36</u>. <br>\n",
    "> Slight improvement is observed."
   ]
  },
  {
   "cell_type": "code",
   "execution_count": 31,
   "id": "7ac1c4ab",
   "metadata": {},
   "outputs": [],
   "source": [
    "# Defining the hyperparameter space - attempt 3\n",
    "\n",
    "param_dist = {\n",
    "    'n_estimators': np.arange(75,135,15),    # Number of trees\n",
    "    'max_depth': np.arange(15,24,3),         # Maximum depth of each tree\n",
    "    'min_samples_leaf': np.arange(3,5,1),   # Minimum samples at a leaf node\n",
    "}"
   ]
  },
  {
   "cell_type": "code",
   "execution_count": 32,
   "id": "81f0f8b6",
   "metadata": {},
   "outputs": [],
   "source": [
    "# Initialize RandomizedSearchCV with the already trained model (for March only) - attempt 3\n",
    "\n",
    "random_search = RandomizedSearchCV(\n",
    "    estimator = baseline_forest_mar,  # Pre-trained model for March\n",
    "    param_distributions = param_dist,\n",
    "    n_iter = 25,  # Number of random combinations to try\n",
    "    cv = None,    # Can't be used since temporal dependencies are present\n",
    "    scoring ='neg_mean_squared_error',\n",
    "    n_jobs = -1,  # Use all CPU cores\n",
    "    random_state=42\n",
    ")"
   ]
  },
  {
   "cell_type": "code",
   "execution_count": 33,
   "id": "90bb221f",
   "metadata": {},
   "outputs": [
    {
     "name": "stderr",
     "output_type": "stream",
     "text": [
      "C:\\Users\\singh\\AppData\\Roaming\\Python\\Python311\\site-packages\\sklearn\\model_selection\\_search.py:320: UserWarning: The total space of parameters 24 is smaller than n_iter=25. Running 24 iterations. For exhaustive searches, use GridSearchCV.\n",
      "  warnings.warn(\n"
     ]
    },
    {
     "name": "stdout",
     "output_type": "stream",
     "text": [
      "Best hyperparameters found: {'n_estimators': 120, 'min_samples_leaf': 4, 'max_depth': 15}\n"
     ]
    }
   ],
   "source": [
    "# Fit RandomizedSearchCV (this does tuning but does not re-train your initial model)\n",
    "random_search.fit(X_train_mar, y_train_mar)\n",
    "\n",
    "# Getting the best hyperparameters\n",
    "best_params = random_search.best_params_\n",
    "print(\"Best hyperparameters found:\", best_params)"
   ]
  },
  {
   "cell_type": "code",
   "execution_count": 34,
   "id": "b82d7a01",
   "metadata": {},
   "outputs": [
    {
     "name": "stdout",
     "output_type": "stream",
     "text": [
      "2.4800436719956664 0.36160327630011513\n"
     ]
    }
   ],
   "source": [
    "# Evaluating performance on the validation set\n",
    "best_rf = random_search.best_estimator_\n",
    "y_val_pred_mar = best_rf.predict(X_val_mar)\n",
    "\n",
    "# Calculate score on validation set\n",
    "print(mean_squared_error(y_val_mar, y_val_pred_mar), r2_score(y_val_mar, y_val_pred_mar))"
   ]
  },
  {
   "cell_type": "markdown",
   "id": "e2c61750",
   "metadata": {},
   "source": [
    "> For the third attempt at hyperparameters, MSE and r2 score on the validation set is <u>found to be 2.48 and 0.361</u>. <br>\n",
    ">> No significant improvement is observed.<br>\n",
    ">>> max depth is stable at 15<br>\n",
    ">>> min_samples leaf is stable at 4<br>\n",
    ">>> min_samples_split is set to default (=2)<br>"
   ]
  },
  {
   "cell_type": "markdown",
   "id": "fa715cb7",
   "metadata": {},
   "source": [
    "The number of trees within the neighbourhood of 75 is providing sufficient performance."
   ]
  },
  {
   "cell_type": "code",
   "execution_count": 35,
   "id": "73ef6565",
   "metadata": {},
   "outputs": [],
   "source": [
    "# Defining the hyperparameter space - attempt 4\n",
    "\n",
    "param_dist = {\n",
    "    'n_estimators': np.arange(70,82,3),    # Number of trees\n",
    "    'max_depth': [15,16],         # Maximum depth of each tree\n",
    "    'min_samples_leaf': [4,5],   # Minimum samples at a leaf node\n",
    "}"
   ]
  },
  {
   "cell_type": "code",
   "execution_count": 36,
   "id": "c60a87e0",
   "metadata": {},
   "outputs": [],
   "source": [
    "# Initialize RandomizedSearchCV with the already trained model (for March only) - attempt 4\n",
    "\n",
    "random_search = RandomizedSearchCV(\n",
    "    estimator = baseline_forest_mar,  # Pre-trained model for March\n",
    "    param_distributions = param_dist,\n",
    "    n_iter = 15,  # Number of random combinations to try\n",
    "    cv = None,    # Can't be used since temporal dependencies are present\n",
    "    scoring ='neg_mean_squared_error',\n",
    "    n_jobs = -1,  # Use all CPU cores\n",
    "    random_state=42\n",
    ")"
   ]
  },
  {
   "cell_type": "code",
   "execution_count": 37,
   "id": "b386a162",
   "metadata": {},
   "outputs": [
    {
     "name": "stdout",
     "output_type": "stream",
     "text": [
      "Best hyperparameters found: {'n_estimators': 79, 'min_samples_leaf': 4, 'max_depth': 15}\n"
     ]
    }
   ],
   "source": [
    "# Fit RandomizedSearchCV (this does tuning but does not re-train your initial model)\n",
    "random_search.fit(X_train_mar, y_train_mar)\n",
    "\n",
    "# Getting the best hyperparameters\n",
    "best_params = random_search.best_params_\n",
    "print(\"Best hyperparameters found:\", best_params)"
   ]
  },
  {
   "cell_type": "code",
   "execution_count": 38,
   "id": "2876c590",
   "metadata": {},
   "outputs": [
    {
     "name": "stdout",
     "output_type": "stream",
     "text": [
      "2.4783563532024533 0.3620376149376109\n"
     ]
    }
   ],
   "source": [
    "# Evaluating performance on the validation set\n",
    "best_rf = random_search.best_estimator_\n",
    "y_val_pred_mar = best_rf.predict(X_val_mar)\n",
    "\n",
    "# Calculate score on validation set\n",
    "print(mean_squared_error(y_val_mar, y_val_pred_mar), r2_score(y_val_mar, y_val_pred_mar))"
   ]
  },
  {
   "cell_type": "markdown",
   "id": "89401d4e",
   "metadata": {},
   "source": [
    "The hyperparameter values that can be set with certainty: <br>\n",
    "> min_samples_leaf = 4 <br>\n",
    "> max_depth = 15 <br>\n",
    "> min_samples_split = 2 <br>\n",
    "\n",
    "n_estimators might still need adjustment."
   ]
  },
  {
   "cell_type": "code",
   "execution_count": 43,
   "id": "d97671fe",
   "metadata": {},
   "outputs": [],
   "source": [
    "# Defining the hyperparameter space - attempt 5\n",
    "\n",
    "param_dist = {\n",
    "    'n_estimators': np.arange(120,200,10),    # Number of trees\n",
    "    'max_depth': [15,16],                     # Maximum depth of each tree\n",
    "    'min_samples_leaf': [4,5],                # Minimum samples at a leaf node\n",
    "}"
   ]
  },
  {
   "cell_type": "code",
   "execution_count": 45,
   "id": "abacb967",
   "metadata": {},
   "outputs": [],
   "source": [
    "# Initialize RandomizedSearchCV with the already trained model (for March only) - attempt 5\n",
    "\n",
    "random_search = RandomizedSearchCV(\n",
    "    estimator = baseline_forest_mar,  # Pre-trained model for March\n",
    "    param_distributions = param_dist,\n",
    "    n_iter = 30,  # Number of random combinations to try\n",
    "    cv = None,    # Can't be used since temporal dependencies are present\n",
    "    scoring ='neg_mean_squared_error',\n",
    "    n_jobs = -1,  # Use all CPU cores\n",
    "    random_state=42\n",
    ")"
   ]
  },
  {
   "cell_type": "code",
   "execution_count": 46,
   "id": "cb101b0f",
   "metadata": {},
   "outputs": [
    {
     "name": "stdout",
     "output_type": "stream",
     "text": [
      "Best hyperparameters found: {'n_estimators': 120, 'min_samples_leaf': 4, 'max_depth': 15}\n"
     ]
    }
   ],
   "source": [
    "# Fit RandomizedSearchCV (this does tuning but does not re-train your initial model)\n",
    "random_search.fit(X_train_mar, y_train_mar)\n",
    "\n",
    "# Getting the best hyperparameters\n",
    "best_params = random_search.best_params_\n",
    "print(\"Best hyperparameters found:\", best_params)"
   ]
  },
  {
   "cell_type": "code",
   "execution_count": 47,
   "id": "11d1b290",
   "metadata": {},
   "outputs": [
    {
     "name": "stdout",
     "output_type": "stream",
     "text": [
      "2.4800436719956664 0.36160327630011513\n"
     ]
    }
   ],
   "source": [
    "# Evaluating performance on the validation set\n",
    "best_rf = random_search.best_estimator_\n",
    "y_val_pred_mar = best_rf.predict(X_val_mar)\n",
    "\n",
    "# Calculate score on validation set\n",
    "print(mean_squared_error(y_val_mar, y_val_pred_mar), r2_score(y_val_mar, y_val_pred_mar))"
   ]
  },
  {
   "cell_type": "markdown",
   "id": "9475e58e",
   "metadata": {},
   "source": [
    "Hence best value of n_estimators lies somewhere around 75 or around 120. From the above attempts, the MSE is least when n_estimators = 75"
   ]
  },
  {
   "cell_type": "markdown",
   "id": "837ff345",
   "metadata": {},
   "source": [
    "## Evaluating performance on test set - tuned RF"
   ]
  },
  {
   "cell_type": "code",
   "execution_count": 57,
   "id": "c0f8963e",
   "metadata": {},
   "outputs": [
    {
     "name": "stdout",
     "output_type": "stream",
     "text": [
      "3.1139872857303073 0.5399175732368126\n",
      "4.734505810729858 0.545378962205801\n"
     ]
    }
   ],
   "source": [
    "# Specifying the learner - testing for March\n",
    "from sklearn.ensemble import RandomForestRegressor\n",
    "full_forest_mar = RandomForestRegressor(n_estimators=75, min_samples_leaf=4, max_depth=15, random_state=2) \n",
    "full_forest_mar.fit(X_train_mar, y_train_mar)\n",
    "\n",
    "# Testing performance for March\n",
    "y_test_pred_mar = full_forest_mar.predict(X_test_mar)\n",
    "\n",
    "# Scores\n",
    "print(mean_squared_error(y_test_mar, y_test_pred_mar), r2_score(y_test_mar, y_test_pred_mar))\n",
    "\n",
    "# Specifying the learner - testing for April\n",
    "from sklearn.ensemble import RandomForestRegressor\n",
    "full_forest_apr = RandomForestRegressor(n_estimators=75, min_samples_leaf=4, max_depth=15, random_state=2) \n",
    "full_forest_apr.fit(X_train_apr, y_train_apr)\n",
    "\n",
    "# Testing performance for April\n",
    "y_test_pred_apr = full_forest_apr.predict(X_test_apr)\n",
    "\n",
    "# Scores\n",
    "print(mean_squared_error(y_test_apr, y_test_pred_apr), r2_score(y_test_apr, y_test_pred_apr))"
   ]
  },
  {
   "cell_type": "markdown",
   "id": "ec87bb30",
   "metadata": {},
   "source": [
    "Compared to the untuned model, the performance is worse!"
   ]
  },
  {
   "cell_type": "markdown",
   "id": "8e8f7e24",
   "metadata": {},
   "source": [
    "## Trying different values of n_estimators - full model"
   ]
  },
  {
   "cell_type": "code",
   "execution_count": 41,
   "id": "c349b135",
   "metadata": {},
   "outputs": [
    {
     "name": "stdout",
     "output_type": "stream",
     "text": [
      "3.108333430443498 0.5407529136612398\n"
     ]
    }
   ],
   "source": [
    "# Specifying the learner - testing for March\n",
    "from sklearn.ensemble import RandomForestRegressor\n",
    "full_forest_mar = RandomForestRegressor(n_estimators=79, min_samples_leaf=4, max_depth=15, random_state=2) \n",
    "full_forest_mar.fit(X_train_mar, y_train_mar)\n",
    "\n",
    "# Testing performance for March\n",
    "from sklearn.metrics import mean_squared_error\n",
    "from sklearn.metrics import r2_score\n",
    "y_test_pred_mar = full_forest_mar.predict(X_test_mar)\n",
    "\n",
    "# Scores\n",
    "print(mean_squared_error(y_test_mar, y_test_pred_mar), r2_score(y_test_mar, y_test_pred_mar))"
   ]
  },
  {
   "cell_type": "markdown",
   "id": "8caec6ac",
   "metadata": {},
   "source": [
    "The performance appears to be less compared to the un-tuned model. Hyperparameters still require adjustment!"
   ]
  },
  {
   "cell_type": "code",
   "execution_count": 48,
   "id": "041b0dbe",
   "metadata": {},
   "outputs": [
    {
     "name": "stdout",
     "output_type": "stream",
     "text": [
      "3.0868483761174508 0.5439272669987643\n"
     ]
    }
   ],
   "source": [
    "# Specifying the learner - testing for March\n",
    "from sklearn.ensemble import RandomForestRegressor\n",
    "full_forest_mar = RandomForestRegressor(n_estimators=120, min_samples_leaf=4, max_depth=15, random_state=2) \n",
    "full_forest_mar.fit(X_train_mar, y_train_mar)\n",
    "\n",
    "# Testing performance for March\n",
    "y_test_pred_mar = full_forest_mar.predict(X_test_mar)\n",
    "\n",
    "# Scores\n",
    "print(mean_squared_error(y_test_mar, y_test_pred_mar), r2_score(y_test_mar, y_test_pred_mar))"
   ]
  },
  {
   "cell_type": "markdown",
   "id": "5cfdc6c1",
   "metadata": {},
   "source": [
    "Performance is still poor compared to un-tuned model."
   ]
  },
  {
   "cell_type": "code",
   "execution_count": 49,
   "id": "8141b2c1",
   "metadata": {},
   "outputs": [
    {
     "name": "stdout",
     "output_type": "stream",
     "text": [
      "3.0887084709788035 0.5436524434753214\n"
     ]
    }
   ],
   "source": [
    "# Specifying the learner - testing for March\n",
    "from sklearn.ensemble import RandomForestRegressor\n",
    "full_forest_mar = RandomForestRegressor(n_estimators=110, min_samples_leaf=4, max_depth=15, random_state=2) \n",
    "full_forest_mar.fit(X_train_mar, y_train_mar)\n",
    "\n",
    "# Testing performance for March\n",
    "y_test_pred_mar = full_forest_mar.predict(X_test_mar)\n",
    "\n",
    "# Scores\n",
    "print(mean_squared_error(y_test_mar, y_test_pred_mar), r2_score(y_test_mar, y_test_pred_mar))"
   ]
  },
  {
   "cell_type": "markdown",
   "id": "3da80063",
   "metadata": {},
   "source": [
    "Performance still hasn't improved."
   ]
  },
  {
   "cell_type": "code",
   "execution_count": 50,
   "id": "1d090585",
   "metadata": {},
   "outputs": [
    {
     "name": "stdout",
     "output_type": "stream",
     "text": [
      "3.1007607310616416 0.5418717576349189\n"
     ]
    }
   ],
   "source": [
    "# Specifying the learner - testing for March\n",
    "from sklearn.ensemble import RandomForestRegressor\n",
    "full_forest_mar = RandomForestRegressor(n_estimators=90, min_samples_leaf=4, max_depth=15, random_state=2) \n",
    "full_forest_mar.fit(X_train_mar, y_train_mar)\n",
    "\n",
    "# Testing performance for March\n",
    "y_test_pred_mar = full_forest_mar.predict(X_test_mar)\n",
    "\n",
    "# Scores\n",
    "print(mean_squared_error(y_test_mar, y_test_pred_mar), r2_score(y_test_mar, y_test_pred_mar))"
   ]
  },
  {
   "cell_type": "markdown",
   "id": "e594945a",
   "metadata": {},
   "source": [
    "Performance still hasn't improved."
   ]
  },
  {
   "cell_type": "code",
   "execution_count": 51,
   "id": "a986f95a",
   "metadata": {},
   "outputs": [
    {
     "name": "stdout",
     "output_type": "stream",
     "text": [
      "3.0854077100578747 0.5441401211551966\n"
     ]
    }
   ],
   "source": [
    "# Specifying the learner - testing for March\n",
    "from sklearn.ensemble import RandomForestRegressor\n",
    "full_forest_mar = RandomForestRegressor(n_estimators=115, min_samples_leaf=4, max_depth=15, random_state=2) \n",
    "full_forest_mar.fit(X_train_mar, y_train_mar)\n",
    "\n",
    "# Testing performance for March\n",
    "y_test_pred_mar = full_forest_mar.predict(X_test_mar)\n",
    "\n",
    "# Scores\n",
    "print(mean_squared_error(y_test_mar, y_test_pred_mar), r2_score(y_test_mar, y_test_pred_mar))"
   ]
  },
  {
   "cell_type": "markdown",
   "id": "f4a6a061",
   "metadata": {},
   "source": [
    "Best value might be somewhere in between 110 and 120 for n_estimators."
   ]
  },
  {
   "cell_type": "code",
   "execution_count": 53,
   "id": "8d9f2ccc",
   "metadata": {},
   "outputs": [
    {
     "name": "stdout",
     "output_type": "stream",
     "text": [
      "3.086115936486408 0.5440354827915685\n"
     ]
    }
   ],
   "source": [
    "# Specifying the learner - testing for March\n",
    "from sklearn.ensemble import RandomForestRegressor\n",
    "full_forest_mar = RandomForestRegressor(n_estimators=117, min_samples_leaf=4, max_depth=15, random_state=2) \n",
    "full_forest_mar.fit(X_train_mar, y_train_mar)\n",
    "\n",
    "# Testing performance for March\n",
    "y_test_pred_mar = full_forest_mar.predict(X_test_mar)\n",
    "\n",
    "# Scores\n",
    "print(mean_squared_error(y_test_mar, y_test_pred_mar), r2_score(y_test_mar, y_test_pred_mar))"
   ]
  },
  {
   "cell_type": "markdown",
   "id": "056cbacb",
   "metadata": {},
   "source": [
    "Performance isn't good, compared to untuned model."
   ]
  },
  {
   "cell_type": "code",
   "execution_count": 52,
   "id": "ca8d9116",
   "metadata": {},
   "outputs": [
    {
     "name": "stdout",
     "output_type": "stream",
     "text": [
      "3.0851342976313454 0.5441805170339086\n"
     ]
    }
   ],
   "source": [
    "# Specifying the learner - testing for March\n",
    "from sklearn.ensemble import RandomForestRegressor\n",
    "full_forest_mar = RandomForestRegressor(n_estimators=116, min_samples_leaf=4, max_depth=15, random_state=2) \n",
    "full_forest_mar.fit(X_train_mar, y_train_mar)\n",
    "\n",
    "# Testing performance for March\n",
    "y_test_pred_mar = full_forest_mar.predict(X_test_mar)\n",
    "\n",
    "# Scores\n",
    "print(mean_squared_error(y_test_mar, y_test_pred_mar), r2_score(y_test_mar, y_test_pred_mar))"
   ]
  },
  {
   "cell_type": "markdown",
   "id": "77c04861",
   "metadata": {},
   "source": [
    "n_estimators = 116 might provide good performance in April data as well."
   ]
  },
  {
   "cell_type": "code",
   "execution_count": 54,
   "id": "b3a05231",
   "metadata": {},
   "outputs": [
    {
     "name": "stdout",
     "output_type": "stream",
     "text": [
      "4.702517360166014 0.5484505863993556\n"
     ]
    }
   ],
   "source": [
    "# Specifying the learner - testing for April\n",
    "from sklearn.ensemble import RandomForestRegressor\n",
    "full_forest_apr = RandomForestRegressor(n_estimators=116, min_samples_leaf=4, max_depth=15, random_state=2) \n",
    "full_forest_apr.fit(X_train_apr, y_train_apr)\n",
    "\n",
    "# Testing performance for April\n",
    "y_test_pred_apr = full_forest_apr.predict(X_test_apr)\n",
    "\n",
    "# Scores\n",
    "print(mean_squared_error(y_test_apr, y_test_pred_apr), r2_score(y_test_apr, y_test_pred_apr))"
   ]
  },
  {
   "cell_type": "code",
   "execution_count": 56,
   "id": "e9963ce4",
   "metadata": {},
   "outputs": [
    {
     "name": "stdout",
     "output_type": "stream",
     "text": [
      "3.0902647867978916 0.5434225024084014\n",
      "4.71283916157612 0.5474594569644031\n"
     ]
    }
   ],
   "source": [
    "# Specifying the learner - testing for March\n",
    "from sklearn.ensemble import RandomForestRegressor\n",
    "full_forest_mar = RandomForestRegressor(n_estimators=116, min_samples_leaf=4, max_depth=20, random_state=2) \n",
    "full_forest_mar.fit(X_train_mar, y_train_mar)\n",
    "\n",
    "# Testing performance for March\n",
    "y_test_pred_mar = full_forest_mar.predict(X_test_mar)\n",
    "\n",
    "# Scores\n",
    "print(mean_squared_error(y_test_mar, y_test_pred_mar), r2_score(y_test_mar, y_test_pred_mar))\n",
    "\n",
    "# Specifying the learner - testing for April\n",
    "from sklearn.ensemble import RandomForestRegressor\n",
    "full_forest_apr = RandomForestRegressor(n_estimators=116, min_samples_leaf=4, max_depth=20, random_state=2) \n",
    "full_forest_apr.fit(X_train_apr, y_train_apr)\n",
    "\n",
    "# Testing performance for April\n",
    "y_test_pred_apr = full_forest_apr.predict(X_test_apr)\n",
    "\n",
    "# Scores\n",
    "print(mean_squared_error(y_test_apr, y_test_pred_apr), r2_score(y_test_apr, y_test_pred_apr))"
   ]
  }
 ],
 "metadata": {
  "kernelspec": {
   "display_name": "Python [conda env:base] *",
   "language": "python",
   "name": "conda-base-py"
  },
  "language_info": {
   "codemirror_mode": {
    "name": "ipython",
    "version": 3
   },
   "file_extension": ".py",
   "mimetype": "text/x-python",
   "name": "python",
   "nbconvert_exporter": "python",
   "pygments_lexer": "ipython3",
   "version": "3.12.7"
  }
 },
 "nbformat": 4,
 "nbformat_minor": 5
}
