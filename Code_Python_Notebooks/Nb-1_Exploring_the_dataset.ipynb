{
 "cells": [
  {
   "cell_type": "markdown",
   "id": "5dc47d34",
   "metadata": {},
   "source": [
    "# Attempt 1\n",
    "This notebook is meant to read the Citibike dataset and test out simple ML algorithms with a subset of the original data.\n",
    "\n",
    "## Reading the Dataset\n",
    "The data being used is only for *Jan 2024*. <br><br>\n",
    "<u>An important note</u>: the dataset contains both *electric_bike* and *classic_bike*. The way Citibike deploys these two vehicle types **differs,** as explained in this notebook."
   ]
  },
  {
   "cell_type": "code",
   "execution_count": 1,
   "id": "21c5fcc0",
   "metadata": {},
   "outputs": [
    {
     "name": "stderr",
     "output_type": "stream",
     "text": [
      "C:\\Users\\singh\\AppData\\Local\\Temp\\ipykernel_11940\\4181878887.py:2: DtypeWarning: Columns (5,7) have mixed types. Specify dtype option on import or set low_memory=False.\n",
      "  citi_jan_24 = pd.read_csv(\"C:/Users/singh/Desktop/TUD (All Semesters)/Courses - Semester 5 (TU Dresden)/Research Task - Spatial Modelling/Datasets/Citibike Trip Data/202401-citibike-tripdata.csv\")\n"
     ]
    },
    {
     "data": {
      "text/html": [
       "<div>\n",
       "<style scoped>\n",
       "    .dataframe tbody tr th:only-of-type {\n",
       "        vertical-align: middle;\n",
       "    }\n",
       "\n",
       "    .dataframe tbody tr th {\n",
       "        vertical-align: top;\n",
       "    }\n",
       "\n",
       "    .dataframe thead th {\n",
       "        text-align: right;\n",
       "    }\n",
       "</style>\n",
       "<table border=\"1\" class=\"dataframe\">\n",
       "  <thead>\n",
       "    <tr style=\"text-align: right;\">\n",
       "      <th></th>\n",
       "      <th>ride_id</th>\n",
       "      <th>rideable_type</th>\n",
       "      <th>started_at</th>\n",
       "      <th>ended_at</th>\n",
       "      <th>start_station_name</th>\n",
       "      <th>start_station_id</th>\n",
       "      <th>end_station_name</th>\n",
       "      <th>end_station_id</th>\n",
       "      <th>start_lat</th>\n",
       "      <th>start_lng</th>\n",
       "      <th>end_lat</th>\n",
       "      <th>end_lng</th>\n",
       "      <th>member_casual</th>\n",
       "    </tr>\n",
       "  </thead>\n",
       "  <tbody>\n",
       "    <tr>\n",
       "      <th>0</th>\n",
       "      <td>5078F3D302000BD2</td>\n",
       "      <td>electric_bike</td>\n",
       "      <td>2024-01-22 18:43:19.012</td>\n",
       "      <td>2024-01-22 18:48:10.708</td>\n",
       "      <td>Frederick Douglass Blvd &amp; W 145 St</td>\n",
       "      <td>7954.12</td>\n",
       "      <td>St Nicholas Ave &amp; W 126 St</td>\n",
       "      <td>7756.10</td>\n",
       "      <td>40.823072</td>\n",
       "      <td>-73.941738</td>\n",
       "      <td>40.811432</td>\n",
       "      <td>-73.951878</td>\n",
       "      <td>member</td>\n",
       "    </tr>\n",
       "    <tr>\n",
       "      <th>1</th>\n",
       "      <td>814337105D37302A</td>\n",
       "      <td>electric_bike</td>\n",
       "      <td>2024-01-11 19:19:18.721</td>\n",
       "      <td>2024-01-11 19:47:36.007</td>\n",
       "      <td>W 54 St &amp; 6 Ave</td>\n",
       "      <td>6771.13</td>\n",
       "      <td>E 74 St &amp; 1 Ave</td>\n",
       "      <td>6953.08</td>\n",
       "      <td>40.761822</td>\n",
       "      <td>-73.977036</td>\n",
       "      <td>40.768974</td>\n",
       "      <td>-73.954823</td>\n",
       "      <td>member</td>\n",
       "    </tr>\n",
       "    <tr>\n",
       "      <th>2</th>\n",
       "      <td>A33A920E2B10710C</td>\n",
       "      <td>electric_bike</td>\n",
       "      <td>2024-01-30 19:17:41.693</td>\n",
       "      <td>2024-01-30 19:32:49.857</td>\n",
       "      <td>E 11 St &amp; Ave B</td>\n",
       "      <td>5659.11</td>\n",
       "      <td>W 10 St &amp; Washington St</td>\n",
       "      <td>5847.06</td>\n",
       "      <td>40.727592</td>\n",
       "      <td>-73.979751</td>\n",
       "      <td>40.733424</td>\n",
       "      <td>-74.008515</td>\n",
       "      <td>casual</td>\n",
       "    </tr>\n",
       "    <tr>\n",
       "      <th>3</th>\n",
       "      <td>A3A5FC0DD7D34D74</td>\n",
       "      <td>electric_bike</td>\n",
       "      <td>2024-01-27 11:27:01.759</td>\n",
       "      <td>2024-01-27 11:38:01.213</td>\n",
       "      <td>W 54 St &amp; 6 Ave</td>\n",
       "      <td>6771.13</td>\n",
       "      <td>E 74 St &amp; 1 Ave</td>\n",
       "      <td>6953.08</td>\n",
       "      <td>40.761779</td>\n",
       "      <td>-73.977144</td>\n",
       "      <td>40.768974</td>\n",
       "      <td>-73.954823</td>\n",
       "      <td>member</td>\n",
       "    </tr>\n",
       "    <tr>\n",
       "      <th>4</th>\n",
       "      <td>6F96728ECEFBDAA4</td>\n",
       "      <td>electric_bike</td>\n",
       "      <td>2024-01-16 15:15:41.000</td>\n",
       "      <td>2024-01-16 15:29:26.156</td>\n",
       "      <td>Madison Ave &amp; E 99 St</td>\n",
       "      <td>7443.01</td>\n",
       "      <td>E 74 St &amp; 1 Ave</td>\n",
       "      <td>6953.08</td>\n",
       "      <td>40.789808</td>\n",
       "      <td>-73.952214</td>\n",
       "      <td>40.768974</td>\n",
       "      <td>-73.954823</td>\n",
       "      <td>member</td>\n",
       "    </tr>\n",
       "  </tbody>\n",
       "</table>\n",
       "</div>"
      ],
      "text/plain": [
       "            ride_id  rideable_type               started_at  \\\n",
       "0  5078F3D302000BD2  electric_bike  2024-01-22 18:43:19.012   \n",
       "1  814337105D37302A  electric_bike  2024-01-11 19:19:18.721   \n",
       "2  A33A920E2B10710C  electric_bike  2024-01-30 19:17:41.693   \n",
       "3  A3A5FC0DD7D34D74  electric_bike  2024-01-27 11:27:01.759   \n",
       "4  6F96728ECEFBDAA4  electric_bike  2024-01-16 15:15:41.000   \n",
       "\n",
       "                  ended_at                  start_station_name  \\\n",
       "0  2024-01-22 18:48:10.708  Frederick Douglass Blvd & W 145 St   \n",
       "1  2024-01-11 19:47:36.007                     W 54 St & 6 Ave   \n",
       "2  2024-01-30 19:32:49.857                     E 11 St & Ave B   \n",
       "3  2024-01-27 11:38:01.213                     W 54 St & 6 Ave   \n",
       "4  2024-01-16 15:29:26.156               Madison Ave & E 99 St   \n",
       "\n",
       "  start_station_id            end_station_name end_station_id  start_lat  \\\n",
       "0          7954.12  St Nicholas Ave & W 126 St        7756.10  40.823072   \n",
       "1          6771.13             E 74 St & 1 Ave        6953.08  40.761822   \n",
       "2          5659.11     W 10 St & Washington St        5847.06  40.727592   \n",
       "3          6771.13             E 74 St & 1 Ave        6953.08  40.761779   \n",
       "4          7443.01             E 74 St & 1 Ave        6953.08  40.789808   \n",
       "\n",
       "   start_lng    end_lat    end_lng member_casual  \n",
       "0 -73.941738  40.811432 -73.951878        member  \n",
       "1 -73.977036  40.768974 -73.954823        member  \n",
       "2 -73.979751  40.733424 -74.008515        casual  \n",
       "3 -73.977144  40.768974 -73.954823        member  \n",
       "4 -73.952214  40.768974 -73.954823        member  "
      ]
     },
     "execution_count": 1,
     "metadata": {},
     "output_type": "execute_result"
    }
   ],
   "source": [
    "import pandas as pd\n",
    "citi_jan_24 = pd.read_csv(\"C:/Users/singh/Desktop/TUD (All Semesters)/Courses - Semester 5 (TU Dresden)/Research Task - Spatial Modelling/Datasets/Citibike Trip Data/202401-citibike-tripdata.csv\")\n",
    "citi_jan_24.head()"
   ]
  },
  {
   "cell_type": "code",
   "execution_count": 2,
   "id": "f98fc856",
   "metadata": {},
   "outputs": [
    {
     "data": {
      "text/plain": [
       "1888085"
      ]
     },
     "execution_count": 2,
     "metadata": {},
     "output_type": "execute_result"
    }
   ],
   "source": [
    "# Total rides in the dataset\n",
    "len(citi_jan_24)"
   ]
  },
  {
   "cell_type": "code",
   "execution_count": 3,
   "id": "38a8929c",
   "metadata": {},
   "outputs": [
    {
     "data": {
      "text/plain": [
       "2129"
      ]
     },
     "execution_count": 3,
     "metadata": {},
     "output_type": "execute_result"
    }
   ],
   "source": [
    "# Number of unique stations from which the rides began\n",
    "len(citi_jan_24[\"start_station_name\"].unique())"
   ]
  },
  {
   "cell_type": "code",
   "execution_count": 4,
   "id": "7b9926e9",
   "metadata": {},
   "outputs": [
    {
     "data": {
      "text/plain": [
       "2167"
      ]
     },
     "execution_count": 4,
     "metadata": {},
     "output_type": "execute_result"
    }
   ],
   "source": [
    "# Number of unique stations where the rides ended\n",
    "len(citi_jan_24[\"end_station_name\"].unique())"
   ]
  },
  {
   "cell_type": "markdown",
   "id": "9fcc49fa",
   "metadata": {},
   "source": [
    "This suggests that rides are beggining from limited areas but are ending in diverse areas."
   ]
  },
  {
   "cell_type": "code",
   "execution_count": 5,
   "id": "eebe7444",
   "metadata": {},
   "outputs": [
    {
     "name": "stdout",
     "output_type": "stream",
     "text": [
      "4254 2346\n"
     ]
    }
   ],
   "source": [
    "# Cross-checking the same result with station ids\n",
    "print(len(citi_jan_24[\"start_station_id\"].unique()),\n",
    "len(citi_jan_24[\"end_station_id\"].unique()))"
   ]
  },
  {
   "cell_type": "markdown",
   "id": "2d947016",
   "metadata": {},
   "source": [
    "**There is a problem: how can there be more ids and less stations?**"
   ]
  },
  {
   "cell_type": "code",
   "execution_count": 6,
   "id": "9e99247c",
   "metadata": {},
   "outputs": [
    {
     "data": {
      "text/plain": [
       "array(['7954.12', 7954.12], dtype=object)"
      ]
     },
     "execution_count": 6,
     "metadata": {},
     "output_type": "execute_result"
    }
   ],
   "source": [
    "# Troubleshooting\n",
    "citi_jan_24[citi_jan_24[\"start_station_name\"] == \"Frederick Douglass Blvd & W 145 St\"][\"start_station_id\"].unique()"
   ]
  },
  {
   "cell_type": "markdown",
   "id": "bf25346f",
   "metadata": {},
   "source": [
    "**The problem is some ids are stored as *str* while others are stored as *int*.**<br>\n",
    "So, it's better to use <u>station names</u>. The station numbers are also mentioned in the *monthly report*."
   ]
  },
  {
   "cell_type": "markdown",
   "id": "b96c83a2",
   "metadata": {},
   "source": [
    "[Citibike Monthly Report - January 2024](https://mot-marketing-whitelabel-prod.s3.amazonaws.com/nyc/January-2024-Citi-Bike-Monthly-Report.pdf)"
   ]
  },
  {
   "cell_type": "code",
   "execution_count": 10,
   "id": "7099430d",
   "metadata": {},
   "outputs": [
    {
     "data": {
      "text/plain": [
       "1542986    1 Ave & E 110 St\n",
       "334007     1 Ave & E 110 St\n",
       "269164     1 Ave & E 110 St\n",
       "269167     1 Ave & E 110 St\n",
       "203983     1 Ave & E 110 St\n",
       "                 ...       \n",
       "1831375                 NaN\n",
       "1848253                 NaN\n",
       "1848254                 NaN\n",
       "1848297                 NaN\n",
       "1848315                 NaN\n",
       "Name: start_station_name, Length: 1888085, dtype: object"
      ]
     },
     "execution_count": 10,
     "metadata": {},
     "output_type": "execute_result"
    }
   ],
   "source": [
    "# There are a lot of missing values in the complete dataset\n",
    "citi_jan_24[\"start_station_name\"].sort_values()"
   ]
  },
  {
   "cell_type": "code",
   "execution_count": 11,
   "id": "d09f5738",
   "metadata": {},
   "outputs": [
    {
     "data": {
      "text/plain": [
       "1160"
      ]
     },
     "execution_count": 11,
     "metadata": {},
     "output_type": "execute_result"
    }
   ],
   "source": [
    "# Number of missing values\n",
    "sum(citi_jan_24[\"start_station_name\"].isna())"
   ]
  },
  {
   "cell_type": "code",
   "execution_count": 27,
   "id": "eba9a1fa",
   "metadata": {},
   "outputs": [
    {
     "data": {
      "text/html": [
       "<div>\n",
       "<style scoped>\n",
       "    .dataframe tbody tr th:only-of-type {\n",
       "        vertical-align: middle;\n",
       "    }\n",
       "\n",
       "    .dataframe tbody tr th {\n",
       "        vertical-align: top;\n",
       "    }\n",
       "\n",
       "    .dataframe thead th {\n",
       "        text-align: right;\n",
       "    }\n",
       "</style>\n",
       "<table border=\"1\" class=\"dataframe\">\n",
       "  <thead>\n",
       "    <tr style=\"text-align: right;\">\n",
       "      <th></th>\n",
       "      <th>ride_id</th>\n",
       "      <th>rideable_type</th>\n",
       "      <th>started_at</th>\n",
       "      <th>ended_at</th>\n",
       "      <th>start_station_name</th>\n",
       "      <th>start_station_id</th>\n",
       "      <th>end_station_name</th>\n",
       "      <th>end_station_id</th>\n",
       "      <th>start_lat</th>\n",
       "      <th>start_lng</th>\n",
       "      <th>end_lat</th>\n",
       "      <th>end_lng</th>\n",
       "      <th>member_casual</th>\n",
       "    </tr>\n",
       "  </thead>\n",
       "  <tbody>\n",
       "    <tr>\n",
       "      <th>3505</th>\n",
       "      <td>968353875D9E171C</td>\n",
       "      <td>electric_bike</td>\n",
       "      <td>2024-01-15 14:40:10.123</td>\n",
       "      <td>2024-01-15 14:54:09.164</td>\n",
       "      <td>NaN</td>\n",
       "      <td>NaN</td>\n",
       "      <td>Central Park North &amp; Adam Clayton Powell Blvd</td>\n",
       "      <td>7617.07</td>\n",
       "      <td>40.78</td>\n",
       "      <td>-73.95</td>\n",
       "      <td>40.799484</td>\n",
       "      <td>-73.955613</td>\n",
       "      <td>member</td>\n",
       "    </tr>\n",
       "    <tr>\n",
       "      <th>3520</th>\n",
       "      <td>4D211FBABE06A67E</td>\n",
       "      <td>electric_bike</td>\n",
       "      <td>2024-01-04 00:59:31.969</td>\n",
       "      <td>2024-01-04 01:24:51.962</td>\n",
       "      <td>NaN</td>\n",
       "      <td>NaN</td>\n",
       "      <td>Henry St &amp; Atlantic Ave</td>\n",
       "      <td>4531.05</td>\n",
       "      <td>40.76</td>\n",
       "      <td>-73.98</td>\n",
       "      <td>40.690893</td>\n",
       "      <td>-73.996123</td>\n",
       "      <td>member</td>\n",
       "    </tr>\n",
       "    <tr>\n",
       "      <th>3523</th>\n",
       "      <td>CE8C18D21E7C4906</td>\n",
       "      <td>electric_bike</td>\n",
       "      <td>2024-01-21 17:50:16.612</td>\n",
       "      <td>2024-01-21 18:00:08.384</td>\n",
       "      <td>NaN</td>\n",
       "      <td>NaN</td>\n",
       "      <td>Rockaway Ave &amp; Bainbridge St</td>\n",
       "      <td>4285.09</td>\n",
       "      <td>40.70</td>\n",
       "      <td>-73.91</td>\n",
       "      <td>40.683200</td>\n",
       "      <td>-73.911666</td>\n",
       "      <td>member</td>\n",
       "    </tr>\n",
       "    <tr>\n",
       "      <th>3525</th>\n",
       "      <td>8E38EB66FE53F7DC</td>\n",
       "      <td>electric_bike</td>\n",
       "      <td>2024-01-19 08:50:16.377</td>\n",
       "      <td>2024-01-19 09:11:31.579</td>\n",
       "      <td>NaN</td>\n",
       "      <td>NaN</td>\n",
       "      <td>Henry St &amp; Atlantic Ave</td>\n",
       "      <td>4531.05</td>\n",
       "      <td>40.73</td>\n",
       "      <td>-73.99</td>\n",
       "      <td>40.690893</td>\n",
       "      <td>-73.996123</td>\n",
       "      <td>member</td>\n",
       "    </tr>\n",
       "    <tr>\n",
       "      <th>3567</th>\n",
       "      <td>F6FA5C6723898936</td>\n",
       "      <td>electric_bike</td>\n",
       "      <td>2024-01-15 15:51:20.528</td>\n",
       "      <td>2024-01-15 15:55:08.884</td>\n",
       "      <td>NaN</td>\n",
       "      <td>NaN</td>\n",
       "      <td>Henry St &amp; Atlantic Ave</td>\n",
       "      <td>4531.05</td>\n",
       "      <td>40.70</td>\n",
       "      <td>-73.99</td>\n",
       "      <td>40.690893</td>\n",
       "      <td>-73.996123</td>\n",
       "      <td>casual</td>\n",
       "    </tr>\n",
       "    <tr>\n",
       "      <th>...</th>\n",
       "      <td>...</td>\n",
       "      <td>...</td>\n",
       "      <td>...</td>\n",
       "      <td>...</td>\n",
       "      <td>...</td>\n",
       "      <td>...</td>\n",
       "      <td>...</td>\n",
       "      <td>...</td>\n",
       "      <td>...</td>\n",
       "      <td>...</td>\n",
       "      <td>...</td>\n",
       "      <td>...</td>\n",
       "      <td>...</td>\n",
       "    </tr>\n",
       "    <tr>\n",
       "      <th>1831375</th>\n",
       "      <td>912D0635471F1A63</td>\n",
       "      <td>electric_bike</td>\n",
       "      <td>2024-01-23 10:32:47.362</td>\n",
       "      <td>2024-01-23 10:45:19.915</td>\n",
       "      <td>NaN</td>\n",
       "      <td>NaN</td>\n",
       "      <td>Bulova Ave &amp; Brooklyn Queens Expressway W</td>\n",
       "      <td>6766.03</td>\n",
       "      <td>40.74</td>\n",
       "      <td>-73.91</td>\n",
       "      <td>40.762507</td>\n",
       "      <td>-73.902534</td>\n",
       "      <td>member</td>\n",
       "    </tr>\n",
       "    <tr>\n",
       "      <th>1848253</th>\n",
       "      <td>984F5B8FBA65C5D3</td>\n",
       "      <td>electric_bike</td>\n",
       "      <td>2024-01-10 16:48:54.484</td>\n",
       "      <td>2024-01-10 16:58:34.171</td>\n",
       "      <td>NaN</td>\n",
       "      <td>NaN</td>\n",
       "      <td>Fort Washington Ave &amp; W 173 St</td>\n",
       "      <td>8320.01</td>\n",
       "      <td>40.83</td>\n",
       "      <td>-73.94</td>\n",
       "      <td>40.845220</td>\n",
       "      <td>-73.940493</td>\n",
       "      <td>member</td>\n",
       "    </tr>\n",
       "    <tr>\n",
       "      <th>1848254</th>\n",
       "      <td>58717196C5E8D8C4</td>\n",
       "      <td>electric_bike</td>\n",
       "      <td>2024-01-22 17:36:46.735</td>\n",
       "      <td>2024-01-22 17:38:41.520</td>\n",
       "      <td>NaN</td>\n",
       "      <td>NaN</td>\n",
       "      <td>14 St &amp; 7 Ave</td>\n",
       "      <td>3731.11</td>\n",
       "      <td>40.67</td>\n",
       "      <td>-73.98</td>\n",
       "      <td>40.663779</td>\n",
       "      <td>-73.983968</td>\n",
       "      <td>member</td>\n",
       "    </tr>\n",
       "    <tr>\n",
       "      <th>1848297</th>\n",
       "      <td>0134322C09F09464</td>\n",
       "      <td>electric_bike</td>\n",
       "      <td>2024-01-02 19:14:36.857</td>\n",
       "      <td>2024-01-02 19:20:16.723</td>\n",
       "      <td>NaN</td>\n",
       "      <td>NaN</td>\n",
       "      <td>E 65 St &amp; 2 Ave</td>\n",
       "      <td>6860.12</td>\n",
       "      <td>40.76</td>\n",
       "      <td>-73.97</td>\n",
       "      <td>40.764719</td>\n",
       "      <td>-73.962221</td>\n",
       "      <td>casual</td>\n",
       "    </tr>\n",
       "    <tr>\n",
       "      <th>1848315</th>\n",
       "      <td>FFFADDAF7AA05876</td>\n",
       "      <td>electric_bike</td>\n",
       "      <td>2024-01-30 10:00:22.232</td>\n",
       "      <td>2024-01-30 10:02:16.232</td>\n",
       "      <td>NaN</td>\n",
       "      <td>NaN</td>\n",
       "      <td>E 51 St &amp; Lexington Ave</td>\n",
       "      <td>6659.01</td>\n",
       "      <td>40.76</td>\n",
       "      <td>-73.97</td>\n",
       "      <td>40.757148</td>\n",
       "      <td>-73.972078</td>\n",
       "      <td>member</td>\n",
       "    </tr>\n",
       "  </tbody>\n",
       "</table>\n",
       "<p>1160 rows × 13 columns</p>\n",
       "</div>"
      ],
      "text/plain": [
       "                  ride_id  rideable_type               started_at  \\\n",
       "3505     968353875D9E171C  electric_bike  2024-01-15 14:40:10.123   \n",
       "3520     4D211FBABE06A67E  electric_bike  2024-01-04 00:59:31.969   \n",
       "3523     CE8C18D21E7C4906  electric_bike  2024-01-21 17:50:16.612   \n",
       "3525     8E38EB66FE53F7DC  electric_bike  2024-01-19 08:50:16.377   \n",
       "3567     F6FA5C6723898936  electric_bike  2024-01-15 15:51:20.528   \n",
       "...                   ...            ...                      ...   \n",
       "1831375  912D0635471F1A63  electric_bike  2024-01-23 10:32:47.362   \n",
       "1848253  984F5B8FBA65C5D3  electric_bike  2024-01-10 16:48:54.484   \n",
       "1848254  58717196C5E8D8C4  electric_bike  2024-01-22 17:36:46.735   \n",
       "1848297  0134322C09F09464  electric_bike  2024-01-02 19:14:36.857   \n",
       "1848315  FFFADDAF7AA05876  electric_bike  2024-01-30 10:00:22.232   \n",
       "\n",
       "                        ended_at start_station_name start_station_id  \\\n",
       "3505     2024-01-15 14:54:09.164                NaN              NaN   \n",
       "3520     2024-01-04 01:24:51.962                NaN              NaN   \n",
       "3523     2024-01-21 18:00:08.384                NaN              NaN   \n",
       "3525     2024-01-19 09:11:31.579                NaN              NaN   \n",
       "3567     2024-01-15 15:55:08.884                NaN              NaN   \n",
       "...                          ...                ...              ...   \n",
       "1831375  2024-01-23 10:45:19.915                NaN              NaN   \n",
       "1848253  2024-01-10 16:58:34.171                NaN              NaN   \n",
       "1848254  2024-01-22 17:38:41.520                NaN              NaN   \n",
       "1848297  2024-01-02 19:20:16.723                NaN              NaN   \n",
       "1848315  2024-01-30 10:02:16.232                NaN              NaN   \n",
       "\n",
       "                                      end_station_name end_station_id  \\\n",
       "3505     Central Park North & Adam Clayton Powell Blvd        7617.07   \n",
       "3520                           Henry St & Atlantic Ave        4531.05   \n",
       "3523                      Rockaway Ave & Bainbridge St        4285.09   \n",
       "3525                           Henry St & Atlantic Ave        4531.05   \n",
       "3567                           Henry St & Atlantic Ave        4531.05   \n",
       "...                                                ...            ...   \n",
       "1831375      Bulova Ave & Brooklyn Queens Expressway W        6766.03   \n",
       "1848253                 Fort Washington Ave & W 173 St        8320.01   \n",
       "1848254                                  14 St & 7 Ave        3731.11   \n",
       "1848297                                E 65 St & 2 Ave        6860.12   \n",
       "1848315                        E 51 St & Lexington Ave        6659.01   \n",
       "\n",
       "         start_lat  start_lng    end_lat    end_lng member_casual  \n",
       "3505         40.78     -73.95  40.799484 -73.955613        member  \n",
       "3520         40.76     -73.98  40.690893 -73.996123        member  \n",
       "3523         40.70     -73.91  40.683200 -73.911666        member  \n",
       "3525         40.73     -73.99  40.690893 -73.996123        member  \n",
       "3567         40.70     -73.99  40.690893 -73.996123        casual  \n",
       "...            ...        ...        ...        ...           ...  \n",
       "1831375      40.74     -73.91  40.762507 -73.902534        member  \n",
       "1848253      40.83     -73.94  40.845220 -73.940493        member  \n",
       "1848254      40.67     -73.98  40.663779 -73.983968        member  \n",
       "1848297      40.76     -73.97  40.764719 -73.962221        casual  \n",
       "1848315      40.76     -73.97  40.757148 -73.972078        member  \n",
       "\n",
       "[1160 rows x 13 columns]"
      ]
     },
     "execution_count": 27,
     "metadata": {},
     "output_type": "execute_result"
    }
   ],
   "source": [
    "# Viewing rows with 'nan' start_station_name\n",
    "citi_jan_24[citi_jan_24[\"start_station_name\"].isna()]"
   ]
  },
  {
   "cell_type": "code",
   "execution_count": 28,
   "id": "e562cd8c",
   "metadata": {},
   "outputs": [
    {
     "data": {
      "text/plain": [
       "array(['electric_bike'], dtype=object)"
      ]
     },
     "execution_count": 28,
     "metadata": {},
     "output_type": "execute_result"
    }
   ],
   "source": [
    "# Stations are not defined only where 'electric bikes' are used\n",
    "citi_jan_24[citi_jan_24[\"start_station_name\"].isna()][\"rideable_type\"].unique()"
   ]
  },
  {
   "cell_type": "code",
   "execution_count": 30,
   "id": "51f88c0c",
   "metadata": {},
   "outputs": [
    {
     "data": {
      "text/plain": [
       "0"
      ]
     },
     "execution_count": 30,
     "metadata": {},
     "output_type": "execute_result"
    }
   ],
   "source": [
    "# If the dataset is filtered for 'classic bikes' all starting stations should be visible\n",
    "sum(citi_jan_24[citi_jan_24[\"rideable_type\"] == \"classic_bike\"][\"start_station_name\"].isna())"
   ]
  },
  {
   "cell_type": "markdown",
   "id": "30f66579",
   "metadata": {},
   "source": [
    "Hence there are no *NaN* values for **classic_bikes** in our dataset, for the column *start_station_name*."
   ]
  },
  {
   "cell_type": "code",
   "execution_count": 33,
   "id": "184ebea7",
   "metadata": {},
   "outputs": [
    {
     "data": {
      "text/plain": [
       "498"
      ]
     },
     "execution_count": 33,
     "metadata": {},
     "output_type": "execute_result"
    }
   ],
   "source": [
    "# If the dataset is filtered for 'classic bikes' all ending stations should also be visible\n",
    "sum(citi_jan_24[citi_jan_24[\"rideable_type\"] == \"classic_bike\"][\"end_station_name\"].isna())"
   ]
  },
  {
   "cell_type": "markdown",
   "id": "1e8304ad",
   "metadata": {},
   "source": [
    "Even with **classic_bike** we still have missing data for end_station_name."
   ]
  },
  {
   "cell_type": "code",
   "execution_count": 41,
   "id": "55185a79",
   "metadata": {},
   "outputs": [
    {
     "name": "stdout",
     "output_type": "stream",
     "text": [
      "<class 'pandas.core.frame.DataFrame'>\n",
      "Index: 673559 entries, 15 to 1888083\n",
      "Data columns (total 13 columns):\n",
      " #   Column              Non-Null Count   Dtype  \n",
      "---  ------              --------------   -----  \n",
      " 0   ride_id             673559 non-null  object \n",
      " 1   rideable_type       673559 non-null  object \n",
      " 2   started_at          673559 non-null  object \n",
      " 3   ended_at            673559 non-null  object \n",
      " 4   start_station_name  673559 non-null  object \n",
      " 5   start_station_id    673559 non-null  object \n",
      " 6   end_station_name    673061 non-null  object \n",
      " 7   end_station_id      673061 non-null  object \n",
      " 8   start_lat           673559 non-null  float64\n",
      " 9   start_lng           673559 non-null  float64\n",
      " 10  end_lat             673080 non-null  float64\n",
      " 11  end_lng             673080 non-null  float64\n",
      " 12  member_casual       673559 non-null  object \n",
      "dtypes: float64(4), object(9)\n",
      "memory usage: 71.9+ MB\n"
     ]
    }
   ],
   "source": [
    "# Filtering the dataset only for classic_bike\n",
    "cbike_j24 = citi_jan_24[citi_jan_24[\"rideable_type\"] == \"classic_bike\"]\n",
    "cbike_j24.info()"
   ]
  },
  {
   "cell_type": "code",
   "execution_count": 38,
   "id": "63ffb36a",
   "metadata": {},
   "outputs": [
    {
     "data": {
      "text/html": [
       "<div>\n",
       "<style scoped>\n",
       "    .dataframe tbody tr th:only-of-type {\n",
       "        vertical-align: middle;\n",
       "    }\n",
       "\n",
       "    .dataframe tbody tr th {\n",
       "        vertical-align: top;\n",
       "    }\n",
       "\n",
       "    .dataframe thead th {\n",
       "        text-align: right;\n",
       "    }\n",
       "</style>\n",
       "<table border=\"1\" class=\"dataframe\">\n",
       "  <thead>\n",
       "    <tr style=\"text-align: right;\">\n",
       "      <th></th>\n",
       "      <th>ride_id</th>\n",
       "      <th>rideable_type</th>\n",
       "      <th>started_at</th>\n",
       "      <th>ended_at</th>\n",
       "      <th>start_station_name</th>\n",
       "      <th>start_station_id</th>\n",
       "      <th>end_station_name</th>\n",
       "      <th>end_station_id</th>\n",
       "      <th>start_lat</th>\n",
       "      <th>start_lng</th>\n",
       "      <th>end_lat</th>\n",
       "      <th>end_lng</th>\n",
       "      <th>member_casual</th>\n",
       "    </tr>\n",
       "  </thead>\n",
       "  <tbody>\n",
       "    <tr>\n",
       "      <th>38</th>\n",
       "      <td>03DF018B20ED02D9</td>\n",
       "      <td>classic_bike</td>\n",
       "      <td>2024-01-13 14:51:04.773</td>\n",
       "      <td>2024-01-14 15:50:59.897</td>\n",
       "      <td>Columbia St &amp; Kane St</td>\n",
       "      <td>4422.05</td>\n",
       "      <td>NaN</td>\n",
       "      <td>NaN</td>\n",
       "      <td>40.687632</td>\n",
       "      <td>-74.001626</td>\n",
       "      <td>NaN</td>\n",
       "      <td>NaN</td>\n",
       "      <td>casual</td>\n",
       "    </tr>\n",
       "    <tr>\n",
       "      <th>66</th>\n",
       "      <td>7B1D53129AD9425A</td>\n",
       "      <td>classic_bike</td>\n",
       "      <td>2024-01-13 13:49:53.172</td>\n",
       "      <td>2024-01-14 14:49:40.126</td>\n",
       "      <td>E 16 St &amp; Irving Pl</td>\n",
       "      <td>5938.11</td>\n",
       "      <td>NaN</td>\n",
       "      <td>NaN</td>\n",
       "      <td>40.735367</td>\n",
       "      <td>-73.987974</td>\n",
       "      <td>NaN</td>\n",
       "      <td>NaN</td>\n",
       "      <td>member</td>\n",
       "    </tr>\n",
       "    <tr>\n",
       "      <th>90</th>\n",
       "      <td>6EF6EA88DF453151</td>\n",
       "      <td>classic_bike</td>\n",
       "      <td>2024-01-25 02:58:50.887</td>\n",
       "      <td>2024-01-26 03:58:37.719</td>\n",
       "      <td>Schermerhorn St &amp; Hoyt St</td>\n",
       "      <td>4479.10</td>\n",
       "      <td>NaN</td>\n",
       "      <td>NaN</td>\n",
       "      <td>40.688626</td>\n",
       "      <td>-73.985191</td>\n",
       "      <td>NaN</td>\n",
       "      <td>NaN</td>\n",
       "      <td>member</td>\n",
       "    </tr>\n",
       "    <tr>\n",
       "      <th>123</th>\n",
       "      <td>478448F64501E873</td>\n",
       "      <td>classic_bike</td>\n",
       "      <td>2024-01-13 17:47:17.212</td>\n",
       "      <td>2024-01-14 18:47:12.403</td>\n",
       "      <td>8 Ave &amp; W 27 St</td>\n",
       "      <td>6297.07</td>\n",
       "      <td>NaN</td>\n",
       "      <td>NaN</td>\n",
       "      <td>40.747968</td>\n",
       "      <td>-73.996637</td>\n",
       "      <td>NaN</td>\n",
       "      <td>NaN</td>\n",
       "      <td>member</td>\n",
       "    </tr>\n",
       "    <tr>\n",
       "      <th>136</th>\n",
       "      <td>49D93C7E1ED3CEB6</td>\n",
       "      <td>classic_bike</td>\n",
       "      <td>2024-01-08 14:59:44.611</td>\n",
       "      <td>2024-01-09 15:59:36.472</td>\n",
       "      <td>Parkside Ave &amp; Ocean Ave</td>\n",
       "      <td>3448.02</td>\n",
       "      <td>NaN</td>\n",
       "      <td>NaN</td>\n",
       "      <td>40.654850</td>\n",
       "      <td>-73.962170</td>\n",
       "      <td>NaN</td>\n",
       "      <td>NaN</td>\n",
       "      <td>casual</td>\n",
       "    </tr>\n",
       "    <tr>\n",
       "      <th>...</th>\n",
       "      <td>...</td>\n",
       "      <td>...</td>\n",
       "      <td>...</td>\n",
       "      <td>...</td>\n",
       "      <td>...</td>\n",
       "      <td>...</td>\n",
       "      <td>...</td>\n",
       "      <td>...</td>\n",
       "      <td>...</td>\n",
       "      <td>...</td>\n",
       "      <td>...</td>\n",
       "      <td>...</td>\n",
       "      <td>...</td>\n",
       "    </tr>\n",
       "    <tr>\n",
       "      <th>1884619</th>\n",
       "      <td>B8451B6611952144</td>\n",
       "      <td>classic_bike</td>\n",
       "      <td>2024-01-30 16:11:20.102</td>\n",
       "      <td>2024-01-31 17:10:59.528</td>\n",
       "      <td>E 76 St &amp; Park Ave</td>\n",
       "      <td>7128.08</td>\n",
       "      <td>NaN</td>\n",
       "      <td>NaN</td>\n",
       "      <td>40.773763</td>\n",
       "      <td>-73.962221</td>\n",
       "      <td>NaN</td>\n",
       "      <td>NaN</td>\n",
       "      <td>casual</td>\n",
       "    </tr>\n",
       "    <tr>\n",
       "      <th>1884678</th>\n",
       "      <td>54BCFB6628427129</td>\n",
       "      <td>classic_bike</td>\n",
       "      <td>2024-01-04 01:00:23.239</td>\n",
       "      <td>2024-01-05 02:00:14.302</td>\n",
       "      <td>Carmine St &amp; 6 Ave</td>\n",
       "      <td>5763.03</td>\n",
       "      <td>NaN</td>\n",
       "      <td>NaN</td>\n",
       "      <td>40.730386</td>\n",
       "      <td>-74.002150</td>\n",
       "      <td>NaN</td>\n",
       "      <td>NaN</td>\n",
       "      <td>casual</td>\n",
       "    </tr>\n",
       "    <tr>\n",
       "      <th>1884699</th>\n",
       "      <td>3347A06314987874</td>\n",
       "      <td>classic_bike</td>\n",
       "      <td>2024-01-23 11:20:25.283</td>\n",
       "      <td>2024-01-24 12:20:21.046</td>\n",
       "      <td>E 76 St &amp; Park Ave</td>\n",
       "      <td>7128.08</td>\n",
       "      <td>NaN</td>\n",
       "      <td>NaN</td>\n",
       "      <td>40.773763</td>\n",
       "      <td>-73.962221</td>\n",
       "      <td>NaN</td>\n",
       "      <td>NaN</td>\n",
       "      <td>member</td>\n",
       "    </tr>\n",
       "    <tr>\n",
       "      <th>1884833</th>\n",
       "      <td>242577697DC24F3B</td>\n",
       "      <td>classic_bike</td>\n",
       "      <td>2024-01-27 11:03:08.809</td>\n",
       "      <td>2024-01-28 12:02:52.559</td>\n",
       "      <td>E 76 St &amp; Park Ave</td>\n",
       "      <td>7128.08</td>\n",
       "      <td>NaN</td>\n",
       "      <td>NaN</td>\n",
       "      <td>40.773763</td>\n",
       "      <td>-73.962221</td>\n",
       "      <td>40.78</td>\n",
       "      <td>-73.95</td>\n",
       "      <td>casual</td>\n",
       "    </tr>\n",
       "    <tr>\n",
       "      <th>1884837</th>\n",
       "      <td>CDE1137423FF466C</td>\n",
       "      <td>classic_bike</td>\n",
       "      <td>2024-01-04 05:54:01.499</td>\n",
       "      <td>2024-01-05 06:53:56.127</td>\n",
       "      <td>31 Ave &amp; 34 St</td>\n",
       "      <td>6819.15</td>\n",
       "      <td>NaN</td>\n",
       "      <td>NaN</td>\n",
       "      <td>40.763154</td>\n",
       "      <td>-73.920827</td>\n",
       "      <td>NaN</td>\n",
       "      <td>NaN</td>\n",
       "      <td>casual</td>\n",
       "    </tr>\n",
       "  </tbody>\n",
       "</table>\n",
       "<p>498 rows × 13 columns</p>\n",
       "</div>"
      ],
      "text/plain": [
       "                  ride_id rideable_type               started_at  \\\n",
       "38       03DF018B20ED02D9  classic_bike  2024-01-13 14:51:04.773   \n",
       "66       7B1D53129AD9425A  classic_bike  2024-01-13 13:49:53.172   \n",
       "90       6EF6EA88DF453151  classic_bike  2024-01-25 02:58:50.887   \n",
       "123      478448F64501E873  classic_bike  2024-01-13 17:47:17.212   \n",
       "136      49D93C7E1ED3CEB6  classic_bike  2024-01-08 14:59:44.611   \n",
       "...                   ...           ...                      ...   \n",
       "1884619  B8451B6611952144  classic_bike  2024-01-30 16:11:20.102   \n",
       "1884678  54BCFB6628427129  classic_bike  2024-01-04 01:00:23.239   \n",
       "1884699  3347A06314987874  classic_bike  2024-01-23 11:20:25.283   \n",
       "1884833  242577697DC24F3B  classic_bike  2024-01-27 11:03:08.809   \n",
       "1884837  CDE1137423FF466C  classic_bike  2024-01-04 05:54:01.499   \n",
       "\n",
       "                        ended_at         start_station_name start_station_id  \\\n",
       "38       2024-01-14 15:50:59.897      Columbia St & Kane St          4422.05   \n",
       "66       2024-01-14 14:49:40.126        E 16 St & Irving Pl          5938.11   \n",
       "90       2024-01-26 03:58:37.719  Schermerhorn St & Hoyt St          4479.10   \n",
       "123      2024-01-14 18:47:12.403            8 Ave & W 27 St          6297.07   \n",
       "136      2024-01-09 15:59:36.472   Parkside Ave & Ocean Ave          3448.02   \n",
       "...                          ...                        ...              ...   \n",
       "1884619  2024-01-31 17:10:59.528         E 76 St & Park Ave          7128.08   \n",
       "1884678  2024-01-05 02:00:14.302         Carmine St & 6 Ave          5763.03   \n",
       "1884699  2024-01-24 12:20:21.046         E 76 St & Park Ave          7128.08   \n",
       "1884833  2024-01-28 12:02:52.559         E 76 St & Park Ave          7128.08   \n",
       "1884837  2024-01-05 06:53:56.127             31 Ave & 34 St          6819.15   \n",
       "\n",
       "        end_station_name end_station_id  start_lat  start_lng  end_lat  \\\n",
       "38                   NaN            NaN  40.687632 -74.001626      NaN   \n",
       "66                   NaN            NaN  40.735367 -73.987974      NaN   \n",
       "90                   NaN            NaN  40.688626 -73.985191      NaN   \n",
       "123                  NaN            NaN  40.747968 -73.996637      NaN   \n",
       "136                  NaN            NaN  40.654850 -73.962170      NaN   \n",
       "...                  ...            ...        ...        ...      ...   \n",
       "1884619              NaN            NaN  40.773763 -73.962221      NaN   \n",
       "1884678              NaN            NaN  40.730386 -74.002150      NaN   \n",
       "1884699              NaN            NaN  40.773763 -73.962221      NaN   \n",
       "1884833              NaN            NaN  40.773763 -73.962221    40.78   \n",
       "1884837              NaN            NaN  40.763154 -73.920827      NaN   \n",
       "\n",
       "         end_lng member_casual  \n",
       "38           NaN        casual  \n",
       "66           NaN        member  \n",
       "90           NaN        member  \n",
       "123          NaN        member  \n",
       "136          NaN        casual  \n",
       "...          ...           ...  \n",
       "1884619      NaN        casual  \n",
       "1884678      NaN        casual  \n",
       "1884699      NaN        member  \n",
       "1884833   -73.95        casual  \n",
       "1884837      NaN        casual  \n",
       "\n",
       "[498 rows x 13 columns]"
      ]
     },
     "execution_count": 38,
     "metadata": {},
     "output_type": "execute_result"
    }
   ],
   "source": [
    "# Viewing rows with 'nan' end_station_name, only for 'classic_bike'\n",
    "cbike_j24[cbike_j24[\"end_station_name\"].isna()]"
   ]
  },
  {
   "cell_type": "code",
   "execution_count": 31,
   "id": "85caf1b2",
   "metadata": {},
   "outputs": [
    {
     "data": {
      "text/plain": [
       "2119"
      ]
     },
     "execution_count": 31,
     "metadata": {},
     "output_type": "execute_result"
    }
   ],
   "source": [
    "# Number of unique starting stations for classic_bikes\n",
    "len(pd.Series(cbike_j24[\"start_station_name\"].unique()))"
   ]
  },
  {
   "cell_type": "code",
   "execution_count": 32,
   "id": "2926f3ea",
   "metadata": {},
   "outputs": [
    {
     "data": {
      "text/plain": [
       "2137"
      ]
     },
     "execution_count": 32,
     "metadata": {},
     "output_type": "execute_result"
    }
   ],
   "source": [
    "# Number of unique ending stations for classic_bikes\n",
    "len(pd.Series(cbike_j24[\"end_station_name\"].unique()))"
   ]
  },
  {
   "cell_type": "markdown",
   "id": "2749f557",
   "metadata": {},
   "source": [
    "The approach to subset the dataset based on **rideable_type** may/ may not work. Look further into this when the dataset is better understood and you know how to better evaluate *demand*."
   ]
  },
  {
   "cell_type": "markdown",
   "id": "e41ab225",
   "metadata": {},
   "source": [
    "## Time Resolution\n",
    "It would be useful to see at what level of time accuracy is the dataset capturing the ridership information. Here, complete **unfiltered dataset** is being studied."
   ]
  },
  {
   "cell_type": "code",
   "execution_count": 42,
   "id": "482b5422",
   "metadata": {},
   "outputs": [
    {
     "data": {
      "text/plain": [
       "243902     2023-12-31 02:36:55.648\n",
       "243901     2023-12-31 06:25:55.501\n",
       "20501      2023-12-31 08:43:59.561\n",
       "245456     2023-12-31 08:59:42.045\n",
       "97370      2023-12-31 09:50:12.745\n",
       "                    ...           \n",
       "152866     2024-01-31 23:55:59.368\n",
       "1183902    2024-01-31 23:56:38.776\n",
       "291989     2024-01-31 23:57:04.310\n",
       "1041975    2024-01-31 23:57:04.650\n",
       "315390     2024-01-31 23:58:30.270\n",
       "Name: started_at, Length: 1888085, dtype: object"
      ]
     },
     "execution_count": 42,
     "metadata": {},
     "output_type": "execute_result"
    }
   ],
   "source": [
    "# No fixed time resolution\n",
    "citi_jan_24[\"started_at\"].sort_values()"
   ]
  },
  {
   "cell_type": "markdown",
   "id": "87bd1fe2",
   "metadata": {},
   "source": [
    "The time accuracy depends on when the ride took place. In busy hours, the accuracy is up to a second."
   ]
  },
  {
   "cell_type": "code",
   "execution_count": 43,
   "id": "beb9c3ce",
   "metadata": {},
   "outputs": [
    {
     "data": {
      "text/plain": [
       "'2024-01-22 18:43:19.012'"
      ]
     },
     "execution_count": 43,
     "metadata": {},
     "output_type": "execute_result"
    }
   ],
   "source": [
    "# Extracting time based features\n",
    "citi_jan_24[\"started_at\"][0]"
   ]
  },
  {
   "cell_type": "code",
   "execution_count": 46,
   "id": "dff2275e",
   "metadata": {},
   "outputs": [
    {
     "data": {
      "text/plain": [
       "Timestamp('2024-01-22 18:43:19.012000')"
      ]
     },
     "execution_count": 46,
     "metadata": {},
     "output_type": "execute_result"
    }
   ],
   "source": [
    "# Converting to datetime object\n",
    "timestamp_test = pd.to_datetime(citi_jan_24[\"started_at\"][0])\n",
    "timestamp_test"
   ]
  },
  {
   "cell_type": "code",
   "execution_count": 50,
   "id": "65176c19",
   "metadata": {},
   "outputs": [
    {
     "name": "stdout",
     "output_type": "stream",
     "text": [
      "2024 22 1\n"
     ]
    }
   ],
   "source": [
    "# extracting date elements\n",
    "print(timestamp_test.year, timestamp_test.day, timestamp_test.month)"
   ]
  },
  {
   "cell_type": "code",
   "execution_count": 57,
   "id": "ca57d7cb",
   "metadata": {},
   "outputs": [
    {
     "name": "stdout",
     "output_type": "stream",
     "text": [
      "Monday January\n"
     ]
    }
   ],
   "source": [
    "# extracting more info from date features\n",
    "print(timestamp_test.day_name(), timestamp_test.month_name())"
   ]
  },
  {
   "cell_type": "code",
   "execution_count": 63,
   "id": "a7e383a2",
   "metadata": {},
   "outputs": [
    {
     "name": "stdout",
     "output_type": "stream",
     "text": [
      "18 43 19 12000\n"
     ]
    }
   ],
   "source": [
    "# extracting all time elements\n",
    "print(timestamp_test.hour, timestamp_test.minute, timestamp_test.second, timestamp_test.microsecond)"
   ]
  },
  {
   "cell_type": "markdown",
   "id": "08fe1c00",
   "metadata": {},
   "source": [
    "Using these time methods, you can create date-time features for the existing dataset. *Date Range* can also be created that can help with determining demand, for example a **15 minute** window."
   ]
  },
  {
   "cell_type": "code",
   "execution_count": 67,
   "id": "53e5e6e0",
   "metadata": {},
   "outputs": [],
   "source": [
    "# there might be pre-loaded citibike dataset as well\n",
    "import mglearn\n",
    "citibike = mglearn.datasets.load_citibike()"
   ]
  },
  {
   "cell_type": "code",
   "execution_count": 69,
   "id": "3f2c91ad",
   "metadata": {},
   "outputs": [
    {
     "data": {
      "text/plain": [
       "starttime\n",
       "2015-08-01 00:00:00     3\n",
       "2015-08-01 03:00:00     0\n",
       "2015-08-01 06:00:00     9\n",
       "2015-08-01 09:00:00    41\n",
       "2015-08-01 12:00:00    39\n",
       "                       ..\n",
       "2015-08-31 09:00:00    16\n",
       "2015-08-31 12:00:00     8\n",
       "2015-08-31 15:00:00    17\n",
       "2015-08-31 18:00:00    22\n",
       "2015-08-31 21:00:00     7\n",
       "Freq: 3h, Name: one, Length: 248, dtype: int64"
      ]
     },
     "execution_count": 69,
     "metadata": {},
     "output_type": "execute_result"
    }
   ],
   "source": [
    "citibike"
   ]
  }
 ],
 "metadata": {
  "kernelspec": {
   "display_name": "Python [conda env:base] *",
   "language": "python",
   "name": "conda-base-py"
  },
  "language_info": {
   "codemirror_mode": {
    "name": "ipython",
    "version": 3
   },
   "file_extension": ".py",
   "mimetype": "text/x-python",
   "name": "python",
   "nbconvert_exporter": "python",
   "pygments_lexer": "ipython3",
   "version": "3.12.7"
  }
 },
 "nbformat": 4,
 "nbformat_minor": 5
}
