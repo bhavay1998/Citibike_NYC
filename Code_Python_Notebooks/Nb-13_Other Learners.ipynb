{
 "cells": [
  {
   "cell_type": "markdown",
   "id": "d6ed1c6e",
   "metadata": {},
   "source": [
    "# Other Decision Tree Ensembles\n",
    "Up till now, only random forest has been used to predict future rentals. Now, some other learners including HistGradientBoostingTrees, XGboost and LightGBM will be used to evaluate if they make better predictions."
   ]
  },
  {
   "cell_type": "code",
   "execution_count": 1,
   "id": "86226a8c",
   "metadata": {},
   "outputs": [
    {
     "data": {
      "text/plain": [
       "Index(['#_rentals', 'datetime', 'year', 'month', 'day', 'hour', 'ID',\n",
       "       'coordinates', '#_rentals_lag_1', 'name_of_day', 'weekend',\n",
       "       'is_holiday', '#_rentals_lag_2', 'prev_day', 'prev_week', 'roll_avg',\n",
       "       'w_avg_lag_1', 'w_avg_prev_day', 'w_avg_roll_avg', 'w_avg_lag_2',\n",
       "       'temp', 'rhum', 'prcp', 'wspd', 'rush_hr', 'MapID', 'coco',\n",
       "       'sb_st_800'],\n",
       "      dtype='object')"
      ]
     },
     "execution_count": 1,
     "metadata": {},
     "output_type": "execute_result"
    }
   ],
   "source": [
    "# Reading the dataset\n",
    "import pandas as pd\n",
    "selected_rentals = pd.read_csv(r\"C:\\Users\\singh\\Desktop\\TUD (All Semesters)\\Courses - Semester 5 (TU Dresden)\\Research Task - Spatial Modelling\\Code\\rentals_working_with_subway_stations.csv\")\n",
    "selected_rentals.columns"
   ]
  },
  {
   "cell_type": "markdown",
   "id": "1ddd9f59",
   "metadata": {},
   "source": [
    "## Creating Training, Test and Validation Sets"
   ]
  },
  {
   "cell_type": "code",
   "execution_count": 2,
   "id": "f4ec922f",
   "metadata": {},
   "outputs": [],
   "source": [
    "# Creating the test set for March, 2024\n",
    "test_set_mar = selected_rentals.loc[(selected_rentals.month == 3) & (selected_rentals.day >= 25),:]\n",
    "\n",
    "# Creating the test set for April, 2024\n",
    "test_set_apr = selected_rentals.loc[(selected_rentals.month == 4) & (selected_rentals.day >= 24),:]\n",
    "\n",
    "# Creating the training set for March, 2024\n",
    "train_set_mar = selected_rentals.loc[((selected_rentals.month == 3) & (selected_rentals.day < 18)) | ((selected_rentals.month == 2) & (selected_rentals.day >= 5)),:]\n",
    "\n",
    "# Creating the training set for April, 2024\n",
    "train_set_apr = selected_rentals.loc[((selected_rentals.month == 4) & (selected_rentals.day < 17)) | ((selected_rentals.month == 3) & (selected_rentals.day >= 6)),:]\n",
    "\n",
    "# Creating the validation set for March, 2024\n",
    "val_set_mar = selected_rentals.loc[(selected_rentals.month == 3) & (selected_rentals.day < 25) & (selected_rentals.day >= 18),:]\n",
    "\n",
    "# Creating the validation set for April, 2024\n",
    "val_set_apr = selected_rentals.loc[(selected_rentals.month == 4) & (selected_rentals.day < 24) & (selected_rentals.day >= 17),:]"
   ]
  },
  {
   "cell_type": "markdown",
   "id": "62de4c15",
   "metadata": {},
   "source": [
    "## Selecting Features "
   ]
  },
  {
   "cell_type": "code",
   "execution_count": 3,
   "id": "5dfd5aa7",
   "metadata": {},
   "outputs": [],
   "source": [
    "# creating dummies for the ID feature (station ID)\n",
    "train_set_mar_dum = pd.get_dummies(train_set_mar[[\"#_rentals\", \"month\", \"day\", \"hour\", \"ID\", \"#_rentals_lag_1\",\"MapID\", \"temp\", \"rhum\", \"prcp\", \"wspd\", \"coco\", \"name_of_day\", \"weekend\",'w_avg_lag_1',\"roll_avg\"]], columns = [\"ID\",\"MapID\",\"name_of_day\"], drop_first=False)\n",
    "train_set_apr_dum = pd.get_dummies(train_set_apr[[\"#_rentals\", \"month\", \"day\", \"hour\", \"ID\", \"#_rentals_lag_1\",\"MapID\", \"temp\", \"rhum\", \"prcp\", \"wspd\", \"coco\", \"name_of_day\", \"weekend\",'w_avg_lag_1',\"roll_avg\"]], columns = [\"ID\",\"MapID\",\"name_of_day\"], drop_first=False)\n",
    "\n",
    "# Repeating for the test set\n",
    "test_set_mar_dum = pd.get_dummies(test_set_mar[[\"#_rentals\", \"month\", \"day\", \"hour\", \"ID\", \"#_rentals_lag_1\",\"MapID\", \"temp\", \"rhum\", \"prcp\", \"wspd\", \"coco\", \"name_of_day\", \"weekend\",'w_avg_lag_1',\"roll_avg\"]], columns = [\"ID\",\"MapID\",\"name_of_day\"], drop_first=False)\n",
    "test_set_apr_dum = pd.get_dummies(test_set_apr[[\"#_rentals\", \"month\", \"day\", \"hour\", \"ID\", \"#_rentals_lag_1\",\"MapID\", \"temp\", \"rhum\", \"prcp\", \"wspd\", \"coco\", \"name_of_day\", \"weekend\",'w_avg_lag_1',\"roll_avg\"]], columns = [\"ID\",\"MapID\",\"name_of_day\"], drop_first=False)"
   ]
  },
  {
   "cell_type": "markdown",
   "id": "a2b6d754",
   "metadata": {},
   "source": [
    "## Separating X and y"
   ]
  },
  {
   "cell_type": "code",
   "execution_count": 4,
   "id": "22452c22",
   "metadata": {},
   "outputs": [],
   "source": [
    "# Separating features from the target: March\n",
    "\n",
    "X_train_mar = train_set_mar_dum[list(train_set_mar_dum.columns)[1:]]\n",
    "y_train_mar = train_set_mar_dum[\"#_rentals\"]\n",
    "\n",
    "X_test_mar = test_set_mar_dum[list(test_set_mar_dum.columns)[1:]]\n",
    "y_test_mar = test_set_mar_dum[\"#_rentals\"]\n",
    "\n",
    "\n",
    "# Separating features from the target: April\n",
    "\n",
    "X_train_apr = train_set_apr_dum[list(train_set_apr_dum.columns)[1:]]\n",
    "y_train_apr = train_set_apr_dum[\"#_rentals\"]\n",
    "\n",
    "X_test_apr = test_set_apr_dum[list(test_set_apr_dum.columns)[1:]]\n",
    "y_test_apr = test_set_apr_dum[\"#_rentals\"]"
   ]
  },
  {
   "cell_type": "markdown",
   "id": "2d4ce91b",
   "metadata": {},
   "source": [
    "## HGBT Learner - Default Hyperparameters\n",
    "Works with minimal tuning, default parameters tend to work well.<br>\n",
    "[Reference 1](https://www.restack.io/p/histgradientboostingregressor-vs-xgboost-answer) \n",
    "[Reference 2](https://machinelearningmastery.com/histogram-based-gradient-boosting-ensembles/)"
   ]
  },
  {
   "cell_type": "code",
   "execution_count": 6,
   "id": "a4c645b9",
   "metadata": {},
   "outputs": [
    {
     "name": "stdout",
     "output_type": "stream",
     "text": [
      "3.001851713985223 0.5564852728582502\n",
      "4.487234867745212 0.5691226383591312\n"
     ]
    }
   ],
   "source": [
    "# Training performance for March\n",
    "from sklearn.ensemble import HistGradientBoostingRegressor\n",
    "model_mar = HistGradientBoostingRegressor(random_state=2)\n",
    "model_mar.fit(X_train_mar, y_train_mar)\n",
    "\n",
    "# Testing performance for March\n",
    "from sklearn.metrics import mean_squared_error\n",
    "from sklearn.metrics import r2_score\n",
    "y_test_pred_mar = model_mar.predict(X_test_mar)\n",
    "\n",
    "# Training performance for April\n",
    "from sklearn.ensemble import HistGradientBoostingRegressor\n",
    "model_apr = HistGradientBoostingRegressor(random_state=2)\n",
    "model_apr.fit(X_train_apr, y_train_apr)\n",
    "\n",
    "# Testing performance for April\n",
    "from sklearn.metrics import mean_squared_error\n",
    "from sklearn.metrics import r2_score\n",
    "y_test_pred_apr = model_apr.predict(X_test_apr)\n",
    "\n",
    "# Scores\n",
    "print(mean_squared_error(y_test_mar, y_test_pred_mar), r2_score(y_test_mar, y_test_pred_mar))\n",
    "print(mean_squared_error(y_test_apr, y_test_pred_apr), r2_score(y_test_apr, y_test_pred_apr))"
   ]
  },
  {
   "cell_type": "markdown",
   "id": "14f999c1",
   "metadata": {},
   "source": [
    "Provides slightly better performance compared to Random Forest. Average MSE = 3.74, average r2 score = 0.56"
   ]
  },
  {
   "cell_type": "markdown",
   "id": "bb6c68c3",
   "metadata": {},
   "source": [
    "## Tuning - HGBT\n",
    "The most influential hyperparameters are found to be *learning rate* and *max iterations*. Changing these values might influence learner performance."
   ]
  },
  {
   "cell_type": "code",
   "execution_count": 14,
   "id": "bda41e5b",
   "metadata": {},
   "outputs": [],
   "source": [
    "# PREPARING VALIDATION SET\n",
    "\n",
    "# Creating dummies \n",
    "\n",
    "val_set_mar_dum = pd.get_dummies(val_set_mar[[\"#_rentals\", \"month\", \"day\", \"hour\", \"ID\", \"#_rentals_lag_1\",\"MapID\", \"temp\", \"rhum\", \"prcp\", \"wspd\", \"coco\", \"name_of_day\", \"weekend\",'w_avg_lag_1',\"roll_avg\"]], columns = [\"ID\",\"MapID\",\"name_of_day\"], drop_first=False)\n",
    "val_set_apr_dum = pd.get_dummies(val_set_apr[[\"#_rentals\", \"month\", \"day\", \"hour\", \"ID\", \"#_rentals_lag_1\",\"MapID\", \"temp\", \"rhum\", \"prcp\", \"wspd\", \"coco\", \"name_of_day\", \"weekend\",'w_avg_lag_1',\"roll_avg\"]], columns = [\"ID\",\"MapID\",\"name_of_day\"], drop_first=False)\n",
    "\n",
    "# Separating features from the target: March\n",
    "X_val_mar = val_set_mar_dum[list(val_set_mar_dum.columns)[1:]]\n",
    "y_val_mar = val_set_mar_dum[\"#_rentals\"]\n",
    "\n",
    "# Separating features from the target: April\n",
    "X_val_apr = val_set_apr_dum[list(val_set_apr_dum.columns)[1:]]\n",
    "y_val_apr = val_set_apr_dum[\"#_rentals\"]"
   ]
  },
  {
   "cell_type": "code",
   "execution_count": 12,
   "id": "83c2374b",
   "metadata": {},
   "outputs": [],
   "source": [
    "# Defining the hyperparameter space - attempt 1\n",
    "\n",
    "import numpy as np\n",
    "\n",
    "param_dist = {\n",
    "    'learning_rate': np.arange(0.06,0.08,0.01),     \n",
    "    'max_iter': np.arange(100,400,100)\n",
    "}"
   ]
  },
  {
   "cell_type": "code",
   "execution_count": 13,
   "id": "c2090b0a",
   "metadata": {},
   "outputs": [],
   "source": [
    "# Settting up the randomised search\n",
    "from sklearn.model_selection import RandomizedSearchCV\n",
    "\n",
    "# Initialize RandomizedSearchCV with the already trained model (for March only) - attempt 1\n",
    "\n",
    "random_search = RandomizedSearchCV(\n",
    "    estimator = model_mar,  # Pre-trained model for March\n",
    "    param_distributions = param_dist,\n",
    "    n_iter = 25,  # Number of random combinations to try\n",
    "    cv = None,    # Can't be used since temporal dependencies are present\n",
    "    scoring ='neg_mean_squared_error',\n",
    "    n_jobs = -1,  # Use all CPU cores\n",
    "    random_state=42\n",
    ")"
   ]
  },
  {
   "cell_type": "code",
   "execution_count": 14,
   "id": "b006e17f",
   "metadata": {},
   "outputs": [
    {
     "name": "stderr",
     "output_type": "stream",
     "text": [
      "C:\\Users\\singh\\AppData\\Roaming\\Python\\Python311\\site-packages\\sklearn\\model_selection\\_search.py:320: UserWarning: The total space of parameters 9 is smaller than n_iter=25. Running 9 iterations. For exhaustive searches, use GridSearchCV.\n",
      "  warnings.warn(\n"
     ]
    },
    {
     "name": "stdout",
     "output_type": "stream",
     "text": [
      "Best hyperparameters found: {'max_iter': 300, 'learning_rate': 0.07999999999999999}\n"
     ]
    }
   ],
   "source": [
    "# Fit RandomizedSearchCV (this does tuning but does not re-train your initial model)\n",
    "random_search.fit(X_train_mar, y_train_mar)\n",
    "\n",
    "# Getting the best hyperparameters\n",
    "best_params = random_search.best_params_\n",
    "print(\"Best hyperparameters found:\", best_params)"
   ]
  },
  {
   "cell_type": "code",
   "execution_count": 16,
   "id": "798088d6",
   "metadata": {},
   "outputs": [
    {
     "name": "stdout",
     "output_type": "stream",
     "text": [
      "2.2387339517335265 0.42371965616544316\n"
     ]
    }
   ],
   "source": [
    "# Evaluating performance on the validation set\n",
    "best_rf = random_search.best_estimator_\n",
    "y_val_pred_mar = best_rf.predict(X_val_mar)\n",
    "\n",
    "# Calculate score on validation set\n",
    "print(mean_squared_error(y_val_mar, y_val_pred_mar), r2_score(y_val_mar, y_val_pred_mar))"
   ]
  },
  {
   "cell_type": "code",
   "execution_count": 17,
   "id": "da2b78cb",
   "metadata": {},
   "outputs": [],
   "source": [
    "# Defining the hyperparameter space - attempt 2\n",
    "\n",
    "param_dist = {\n",
    "    'learning_rate': np.arange(0.08,1.02,0.01),     \n",
    "    'max_iter': np.arange(100,400,100)\n",
    "}"
   ]
  },
  {
   "cell_type": "code",
   "execution_count": 18,
   "id": "b5f13de1",
   "metadata": {},
   "outputs": [],
   "source": [
    "# Settting up the randomised search\n",
    "from sklearn.model_selection import RandomizedSearchCV\n",
    "\n",
    "# Initialize RandomizedSearchCV with the already trained model (for March only) - attempt 2\n",
    "\n",
    "random_search = RandomizedSearchCV(\n",
    "    estimator = model_mar,  # Pre-trained model for March\n",
    "    param_distributions = param_dist,\n",
    "    n_iter = 25,  # Number of random combinations to try\n",
    "    cv = None,    # Can't be used since temporal dependencies are present\n",
    "    scoring ='neg_mean_squared_error',\n",
    "    n_jobs = -1,  # Use all CPU cores\n",
    "    random_state=42\n",
    ")"
   ]
  },
  {
   "cell_type": "code",
   "execution_count": 19,
   "id": "3b8c7ec8",
   "metadata": {},
   "outputs": [
    {
     "name": "stdout",
     "output_type": "stream",
     "text": [
      "Best hyperparameters found: {'max_iter': 100, 'learning_rate': 0.10999999999999999}\n"
     ]
    }
   ],
   "source": [
    "# Fit RandomizedSearchCV (this does tuning but does not re-train your initial model)\n",
    "random_search.fit(X_train_mar, y_train_mar)\n",
    "\n",
    "# Getting the best hyperparameters\n",
    "best_params = random_search.best_params_\n",
    "print(\"Best hyperparameters found:\", best_params)"
   ]
  },
  {
   "cell_type": "code",
   "execution_count": 20,
   "id": "e7d7abfc",
   "metadata": {},
   "outputs": [
    {
     "name": "stdout",
     "output_type": "stream",
     "text": [
      "2.280057012809935 0.41308254235074926\n"
     ]
    }
   ],
   "source": [
    "# Evaluating performance on the validation set\n",
    "best_rf = random_search.best_estimator_\n",
    "y_val_pred_mar = best_rf.predict(X_val_mar)\n",
    "\n",
    "# Calculate score on validation set\n",
    "print(mean_squared_error(y_val_mar, y_val_pred_mar), r2_score(y_val_mar, y_val_pred_mar))"
   ]
  },
  {
   "cell_type": "markdown",
   "id": "5f70be2c",
   "metadata": {},
   "source": [
    "Performance on validation is worse, compared to the previous attempt."
   ]
  },
  {
   "cell_type": "code",
   "execution_count": 21,
   "id": "688f070f",
   "metadata": {},
   "outputs": [],
   "source": [
    "# Defining the hyperparameter space - attempt 3\n",
    "\n",
    "param_dist = {\n",
    "    'learning_rate': np.arange(0.01,0.06,0.01),     \n",
    "    'max_iter': np.arange(400,800,100)\n",
    "}"
   ]
  },
  {
   "cell_type": "code",
   "execution_count": 22,
   "id": "ce44bed1",
   "metadata": {},
   "outputs": [],
   "source": [
    "# Settting up the randomised search\n",
    "from sklearn.model_selection import RandomizedSearchCV\n",
    "\n",
    "# Initialize RandomizedSearchCV with the already trained model (for March only) - attempt 3\n",
    "\n",
    "random_search = RandomizedSearchCV(\n",
    "    estimator = model_mar,  # Pre-trained model for March\n",
    "    param_distributions = param_dist,\n",
    "    n_iter = 25,  # Number of random combinations to try\n",
    "    cv = None,    # Can't be used since temporal dependencies are present\n",
    "    scoring ='neg_mean_squared_error',\n",
    "    n_jobs = -1,  # Use all CPU cores\n",
    "    random_state=42\n",
    ")"
   ]
  },
  {
   "cell_type": "code",
   "execution_count": 23,
   "id": "c739eadd",
   "metadata": {},
   "outputs": [
    {
     "name": "stderr",
     "output_type": "stream",
     "text": [
      "C:\\Users\\singh\\AppData\\Roaming\\Python\\Python311\\site-packages\\sklearn\\model_selection\\_search.py:320: UserWarning: The total space of parameters 20 is smaller than n_iter=25. Running 20 iterations. For exhaustive searches, use GridSearchCV.\n",
      "  warnings.warn(\n"
     ]
    },
    {
     "name": "stdout",
     "output_type": "stream",
     "text": [
      "Best hyperparameters found: {'max_iter': 400, 'learning_rate': 0.05}\n"
     ]
    }
   ],
   "source": [
    "# Fit RandomizedSearchCV (this does tuning but does not re-train your initial model)\n",
    "random_search.fit(X_train_mar, y_train_mar)\n",
    "\n",
    "# Getting the best hyperparameters\n",
    "best_params = random_search.best_params_\n",
    "print(\"Best hyperparameters found:\", best_params)"
   ]
  },
  {
   "cell_type": "code",
   "execution_count": 24,
   "id": "c1175983",
   "metadata": {},
   "outputs": [
    {
     "name": "stdout",
     "output_type": "stream",
     "text": [
      "2.2607087157418033 0.4180630552332213\n"
     ]
    }
   ],
   "source": [
    "# Evaluating performance on the validation set\n",
    "best_rf = random_search.best_estimator_\n",
    "y_val_pred_mar = best_rf.predict(X_val_mar)\n",
    "\n",
    "# Calculate score on validation set\n",
    "print(mean_squared_error(y_val_mar, y_val_pred_mar), r2_score(y_val_mar, y_val_pred_mar))"
   ]
  },
  {
   "cell_type": "markdown",
   "id": "ea2fd5b2",
   "metadata": {},
   "source": [
    "Performance compared to the 1st attempt is poorer."
   ]
  },
  {
   "cell_type": "code",
   "execution_count": 26,
   "id": "544efa83",
   "metadata": {},
   "outputs": [],
   "source": [
    "# Defining the hyperparameter space - attempt 4\n",
    "\n",
    "param_dist = {\n",
    "    'learning_rate': np.arange(0.05,0.07,0.005),     \n",
    "    'max_iter': np.arange(100,400,100)\n",
    "}"
   ]
  },
  {
   "cell_type": "code",
   "execution_count": 27,
   "id": "c4f08578",
   "metadata": {},
   "outputs": [],
   "source": [
    "# Settting up the randomised search\n",
    "from sklearn.model_selection import RandomizedSearchCV\n",
    "\n",
    "# Initialize RandomizedSearchCV with the already trained model (for March only) - attempt 4\n",
    "\n",
    "random_search = RandomizedSearchCV(\n",
    "    estimator = model_mar,  # Pre-trained model for March\n",
    "    param_distributions = param_dist,\n",
    "    n_iter = 25,  # Number of random combinations to try\n",
    "    cv = None,    # Can't be used since temporal dependencies are present\n",
    "    scoring ='neg_mean_squared_error',\n",
    "    n_jobs = -1,  # Use all CPU cores\n",
    "    random_state=42\n",
    ")"
   ]
  },
  {
   "cell_type": "code",
   "execution_count": 28,
   "id": "1b854a38",
   "metadata": {
    "scrolled": true
   },
   "outputs": [
    {
     "name": "stderr",
     "output_type": "stream",
     "text": [
      "C:\\Users\\singh\\AppData\\Roaming\\Python\\Python311\\site-packages\\sklearn\\model_selection\\_search.py:320: UserWarning: The total space of parameters 15 is smaller than n_iter=25. Running 15 iterations. For exhaustive searches, use GridSearchCV.\n",
      "  warnings.warn(\n"
     ]
    },
    {
     "name": "stdout",
     "output_type": "stream",
     "text": [
      "Best hyperparameters found: {'max_iter': 300, 'learning_rate': 0.05}\n"
     ]
    }
   ],
   "source": [
    "# Fit RandomizedSearchCV (this does tuning but does not re-train your initial model)\n",
    "random_search.fit(X_train_mar, y_train_mar)\n",
    "\n",
    "# Getting the best hyperparameters\n",
    "best_params = random_search.best_params_\n",
    "print(\"Best hyperparameters found:\", best_params)"
   ]
  },
  {
   "cell_type": "code",
   "execution_count": 29,
   "id": "f69f4239",
   "metadata": {},
   "outputs": [
    {
     "name": "stdout",
     "output_type": "stream",
     "text": [
      "2.2607087157418033 0.4180630552332213\n"
     ]
    }
   ],
   "source": [
    "# Evaluating performance on the validation set\n",
    "best_rf = random_search.best_estimator_\n",
    "y_val_pred_mar = best_rf.predict(X_val_mar)\n",
    "\n",
    "# Calculate score on validation set\n",
    "print(mean_squared_error(y_val_mar, y_val_pred_mar), r2_score(y_val_mar, y_val_pred_mar))"
   ]
  },
  {
   "cell_type": "code",
   "execution_count": 30,
   "id": "d5f36c71",
   "metadata": {},
   "outputs": [],
   "source": [
    "# Defining the hyperparameter space - attempt 5\n",
    "\n",
    "param_dist = {\n",
    "    'learning_rate': np.arange(0.07,0.09,0.005),     \n",
    "    'max_iter': np.arange(300,400,50)\n",
    "}"
   ]
  },
  {
   "cell_type": "code",
   "execution_count": 31,
   "id": "036dd911",
   "metadata": {},
   "outputs": [],
   "source": [
    "# Settting up the randomised search\n",
    "from sklearn.model_selection import RandomizedSearchCV\n",
    "\n",
    "# Initialize RandomizedSearchCV with the already trained model (for March only) - attempt 5\n",
    "\n",
    "random_search = RandomizedSearchCV(\n",
    "    estimator = model_mar,  # Pre-trained model for March\n",
    "    param_distributions = param_dist,\n",
    "    n_iter = 25,  # Number of random combinations to try\n",
    "    cv = None,    # Can't be used since temporal dependencies are present\n",
    "    scoring ='neg_mean_squared_error',\n",
    "    n_jobs = -1,  # Use all CPU cores\n",
    "    random_state=42\n",
    ")"
   ]
  },
  {
   "cell_type": "code",
   "execution_count": 32,
   "id": "81c12ed2",
   "metadata": {},
   "outputs": [
    {
     "name": "stderr",
     "output_type": "stream",
     "text": [
      "C:\\Users\\singh\\AppData\\Roaming\\Python\\Python311\\site-packages\\sklearn\\model_selection\\_search.py:320: UserWarning: The total space of parameters 8 is smaller than n_iter=25. Running 8 iterations. For exhaustive searches, use GridSearchCV.\n",
      "  warnings.warn(\n"
     ]
    },
    {
     "name": "stdout",
     "output_type": "stream",
     "text": [
      "Best hyperparameters found: {'max_iter': 300, 'learning_rate': 0.08000000000000002}\n"
     ]
    }
   ],
   "source": [
    "# Fit RandomizedSearchCV (this does tuning but does not re-train your initial model)\n",
    "random_search.fit(X_train_mar, y_train_mar)\n",
    "\n",
    "# Getting the best hyperparameters\n",
    "best_params = random_search.best_params_\n",
    "print(\"Best hyperparameters found:\", best_params)"
   ]
  },
  {
   "cell_type": "code",
   "execution_count": 33,
   "id": "093b1636",
   "metadata": {},
   "outputs": [
    {
     "name": "stdout",
     "output_type": "stream",
     "text": [
      "2.2387339517335274 0.42371965616544305\n"
     ]
    }
   ],
   "source": [
    "# Evaluating performance on the validation set\n",
    "best_rf = random_search.best_estimator_\n",
    "y_val_pred_mar = best_rf.predict(X_val_mar)\n",
    "\n",
    "# Calculate score on validation set\n",
    "print(mean_squared_error(y_val_mar, y_val_pred_mar), r2_score(y_val_mar, y_val_pred_mar))"
   ]
  },
  {
   "cell_type": "markdown",
   "id": "a8c068d4",
   "metadata": {},
   "source": [
    "Hence, these are the best hyperparameter values. Best performance on validation set."
   ]
  },
  {
   "cell_type": "markdown",
   "id": "4807ab80",
   "metadata": {},
   "source": [
    "## Peformance on test set - tuned HGBT"
   ]
  },
  {
   "cell_type": "code",
   "execution_count": 15,
   "id": "01ad912b",
   "metadata": {},
   "outputs": [
    {
     "name": "stdout",
     "output_type": "stream",
     "text": [
      "2.9831656805109272 0.5592460791296272\n",
      "4.473480913728476 0.5704433330839516\n"
     ]
    }
   ],
   "source": [
    "# Training performance for March\n",
    "from sklearn.ensemble import HistGradientBoostingRegressor\n",
    "model_mar = HistGradientBoostingRegressor(learning_rate = 0.08, max_iter = 300, random_state=2)\n",
    "model_mar.fit(X_train_mar, y_train_mar)\n",
    "\n",
    "# Testing performance for March\n",
    "from sklearn.metrics import mean_squared_error\n",
    "from sklearn.metrics import r2_score\n",
    "y_test_pred_mar = model_mar.predict(X_test_mar)\n",
    "\n",
    "# Training performance for April\n",
    "from sklearn.ensemble import HistGradientBoostingRegressor\n",
    "model_apr = HistGradientBoostingRegressor(learning_rate = 0.08, max_iter = 300, random_state=2)\n",
    "model_apr.fit(X_train_apr, y_train_apr)\n",
    "\n",
    "# Testing performance for April\n",
    "from sklearn.metrics import mean_squared_error\n",
    "from sklearn.metrics import r2_score\n",
    "y_test_pred_apr = model_apr.predict(X_test_apr)\n",
    "\n",
    "# Scores\n",
    "print(mean_squared_error(y_test_mar, y_test_pred_mar), r2_score(y_test_mar, y_test_pred_mar))\n",
    "print(mean_squared_error(y_test_apr, y_test_pred_apr), r2_score(y_test_apr, y_test_pred_apr))"
   ]
  },
  {
   "cell_type": "markdown",
   "id": "8dd37dce",
   "metadata": {},
   "source": [
    "Performance is improved slightly after tuning. Avg MSE = 3.7; avg r2 score = 0.565"
   ]
  },
  {
   "cell_type": "markdown",
   "id": "da54cf12",
   "metadata": {},
   "source": [
    "## LightGBM - Defauly Hyperparameters\n",
    "Learner can be more sensitive to tuning!"
   ]
  },
  {
   "cell_type": "code",
   "execution_count": 36,
   "id": "4e71c1aa",
   "metadata": {},
   "outputs": [
    {
     "name": "stdout",
     "output_type": "stream",
     "text": [
      "[LightGBM] [Info] Auto-choosing row-wise multi-threading, the overhead of testing was 0.001104 seconds.\n",
      "You can set `force_row_wise=true` to remove the overhead.\n",
      "And if memory is not enough, you can set `force_col_wise=true`.\n",
      "[LightGBM] [Info] Total Bins 1090\n",
      "[LightGBM] [Info] Number of data points in the train set: 58800, number of used features: 227\n",
      "[LightGBM] [Info] Start training from score 1.451037\n",
      "[LightGBM] [Info] Auto-choosing row-wise multi-threading, the overhead of testing was 0.000984 seconds.\n",
      "You can set `force_row_wise=true` to remove the overhead.\n",
      "And if memory is not enough, you can set `force_col_wise=true`.\n",
      "[LightGBM] [Info] Total Bins 1113\n",
      "[LightGBM] [Info] Number of data points in the train set: 58800, number of used features: 227\n",
      "[LightGBM] [Info] Start training from score 1.674524\n",
      "2.9933826640152525 0.5577365499846594\n",
      "4.513212151108916 0.5666282239484198\n"
     ]
    }
   ],
   "source": [
    "# Training performance for March\n",
    "from lightgbm import LGBMRegressor\n",
    "model_mar = LGBMRegressor(random_state=2)\n",
    "model_mar.fit(X_train_mar, y_train_mar)\n",
    "\n",
    "# Testing performance for March\n",
    "from sklearn.metrics import mean_squared_error\n",
    "from sklearn.metrics import r2_score\n",
    "y_test_pred_mar = model_mar.predict(X_test_mar)\n",
    "\n",
    "# Training performance for April\n",
    "from lightgbm import LGBMRegressor\n",
    "model_apr = LGBMRegressor(random_state=2)\n",
    "model_apr.fit(X_train_apr, y_train_apr)\n",
    "\n",
    "# Testing performance for April\n",
    "from sklearn.metrics import mean_squared_error\n",
    "from sklearn.metrics import r2_score\n",
    "y_test_pred_apr = model_apr.predict(X_test_apr)\n",
    "\n",
    "# Scores\n",
    "print(mean_squared_error(y_test_mar, y_test_pred_mar), r2_score(y_test_mar, y_test_pred_mar))\n",
    "print(mean_squared_error(y_test_apr, y_test_pred_apr), r2_score(y_test_apr, y_test_pred_apr))"
   ]
  },
  {
   "cell_type": "markdown",
   "id": "7036a81b",
   "metadata": {},
   "source": [
    "Performance is poorer compared to tuned HGBT, but better than RF."
   ]
  },
  {
   "cell_type": "markdown",
   "id": "cc554b4d",
   "metadata": {},
   "source": [
    "## LightGBM - Tuning\n",
    "It is sensitive to overfitting. [Hyperparameters to prioritise](https://medium.com/@sarahzouinina/a-deep-dive-into-lightgbm-how-to-choose-and-tune-parameters-7c584945842e)"
   ]
  },
  {
   "cell_type": "code",
   "execution_count": 41,
   "id": "9e7030f4",
   "metadata": {},
   "outputs": [],
   "source": [
    "# Defining the hyperparameter space - attempt 1\n",
    "\n",
    "param_dist = {\n",
    "    'learning_rate': np.arange(0.06,0.10,0.01),     \n",
    "    'num_leaves': np.arange(20,40,5)\n",
    "}"
   ]
  },
  {
   "cell_type": "code",
   "execution_count": 42,
   "id": "9b6e47f2",
   "metadata": {},
   "outputs": [],
   "source": [
    "# Settting up the randomised search\n",
    "from sklearn.model_selection import RandomizedSearchCV\n",
    "\n",
    "# Initialize RandomizedSearchCV with the already trained model (for March only) - attempt 1\n",
    "\n",
    "random_search = RandomizedSearchCV(\n",
    "    estimator = model_mar,  # Pre-trained model for March\n",
    "    param_distributions = param_dist,\n",
    "    n_iter = 30,  # Number of random combinations to try\n",
    "    cv = None,    # Can't be used since temporal dependencies are present\n",
    "    scoring ='neg_mean_squared_error',\n",
    "    n_jobs = -1,  # Use all CPU cores\n",
    "    random_state=42\n",
    ")"
   ]
  },
  {
   "cell_type": "code",
   "execution_count": 43,
   "id": "24f73f92",
   "metadata": {},
   "outputs": [
    {
     "name": "stderr",
     "output_type": "stream",
     "text": [
      "C:\\Users\\singh\\AppData\\Roaming\\Python\\Python311\\site-packages\\sklearn\\model_selection\\_search.py:320: UserWarning: The total space of parameters 20 is smaller than n_iter=30. Running 20 iterations. For exhaustive searches, use GridSearchCV.\n",
      "  warnings.warn(\n"
     ]
    },
    {
     "name": "stdout",
     "output_type": "stream",
     "text": [
      "[LightGBM] [Info] Auto-choosing row-wise multi-threading, the overhead of testing was 0.001014 seconds.\n",
      "You can set `force_row_wise=true` to remove the overhead.\n",
      "And if memory is not enough, you can set `force_col_wise=true`.\n",
      "[LightGBM] [Info] Total Bins 1090\n",
      "[LightGBM] [Info] Number of data points in the train set: 58800, number of used features: 227\n",
      "[LightGBM] [Info] Start training from score 1.451037\n",
      "Best hyperparameters found: {'num_leaves': 35, 'learning_rate': 0.08999999999999998}\n"
     ]
    }
   ],
   "source": [
    "# Fit RandomizedSearchCV (this does tuning but does not re-train your initial model)\n",
    "random_search.fit(X_train_mar, y_train_mar)\n",
    "\n",
    "# Getting the best hyperparameters\n",
    "best_params = random_search.best_params_\n",
    "print(\"Best hyperparameters found:\", best_params)"
   ]
  },
  {
   "cell_type": "code",
   "execution_count": 44,
   "id": "260c8a32",
   "metadata": {},
   "outputs": [
    {
     "name": "stdout",
     "output_type": "stream",
     "text": [
      "2.449567653126401 0.36944821500714176\n"
     ]
    }
   ],
   "source": [
    "# Evaluating performance on the validation set\n",
    "best_rf = random_search.best_estimator_\n",
    "y_val_pred_mar = best_rf.predict(X_val_mar)\n",
    "\n",
    "# Calculate score on validation set\n",
    "print(mean_squared_error(y_val_mar, y_val_pred_mar), r2_score(y_val_mar, y_val_pred_mar))"
   ]
  },
  {
   "cell_type": "code",
   "execution_count": 45,
   "id": "3f66e4f0",
   "metadata": {},
   "outputs": [],
   "source": [
    "# Defining the hyperparameter space - attempt 2\n",
    "\n",
    "param_dist = {\n",
    "    'learning_rate': np.arange(0.08,0.13,0.01),     \n",
    "    'num_leaves': np.arange(25,50,5)\n",
    "}"
   ]
  },
  {
   "cell_type": "code",
   "execution_count": 46,
   "id": "c1801423",
   "metadata": {},
   "outputs": [],
   "source": [
    "# Settting up the randomised search\n",
    "from sklearn.model_selection import RandomizedSearchCV\n",
    "\n",
    "# Initialize RandomizedSearchCV with the already trained model (for March only) - attempt 2\n",
    "\n",
    "random_search = RandomizedSearchCV(\n",
    "    estimator = model_mar,  # Pre-trained model for March\n",
    "    param_distributions = param_dist,\n",
    "    n_iter = 40,  # Number of random combinations to try\n",
    "    cv = None,    # Can't be used since temporal dependencies are present\n",
    "    scoring ='neg_mean_squared_error',\n",
    "    n_jobs = -1,  # Use all CPU cores\n",
    "    random_state=42\n",
    ")"
   ]
  },
  {
   "cell_type": "code",
   "execution_count": 47,
   "id": "c8713f16",
   "metadata": {},
   "outputs": [
    {
     "name": "stderr",
     "output_type": "stream",
     "text": [
      "C:\\Users\\singh\\AppData\\Roaming\\Python\\Python311\\site-packages\\sklearn\\model_selection\\_search.py:320: UserWarning: The total space of parameters 25 is smaller than n_iter=40. Running 25 iterations. For exhaustive searches, use GridSearchCV.\n",
      "  warnings.warn(\n"
     ]
    },
    {
     "name": "stdout",
     "output_type": "stream",
     "text": [
      "[LightGBM] [Info] Auto-choosing row-wise multi-threading, the overhead of testing was 0.001208 seconds.\n",
      "You can set `force_row_wise=true` to remove the overhead.\n",
      "And if memory is not enough, you can set `force_col_wise=true`.\n",
      "[LightGBM] [Info] Total Bins 1090\n",
      "[LightGBM] [Info] Number of data points in the train set: 58800, number of used features: 227\n",
      "[LightGBM] [Info] Start training from score 1.451037\n",
      "Best hyperparameters found: {'num_leaves': 35, 'learning_rate': 0.11999999999999998}\n"
     ]
    }
   ],
   "source": [
    "# Fit RandomizedSearchCV (this does tuning but does not re-train your initial model)\n",
    "random_search.fit(X_train_mar, y_train_mar)\n",
    "\n",
    "# Getting the best hyperparameters\n",
    "best_params = random_search.best_params_\n",
    "print(\"Best hyperparameters found:\", best_params)"
   ]
  },
  {
   "cell_type": "code",
   "execution_count": 48,
   "id": "5bbeb419",
   "metadata": {},
   "outputs": [
    {
     "name": "stdout",
     "output_type": "stream",
     "text": [
      "2.3210483188524473 0.4025308267607326\n"
     ]
    }
   ],
   "source": [
    "# Evaluating performance on the validation set\n",
    "best_rf = random_search.best_estimator_\n",
    "y_val_pred_mar = best_rf.predict(X_val_mar)\n",
    "\n",
    "# Calculate score on validation set\n",
    "print(mean_squared_error(y_val_mar, y_val_pred_mar), r2_score(y_val_mar, y_val_pred_mar))"
   ]
  },
  {
   "cell_type": "markdown",
   "id": "fb45c45e",
   "metadata": {},
   "source": [
    "Performance has improved."
   ]
  },
  {
   "cell_type": "code",
   "execution_count": 50,
   "id": "c4c8ddc3",
   "metadata": {},
   "outputs": [],
   "source": [
    "# Defining the hyperparameter space - attempt 3\n",
    "\n",
    "param_dist = {\n",
    "    'learning_rate': np.arange(0.1,0.14,0.001),     \n",
    "    'num_leaves': np.arange(24,46,2)\n",
    "}"
   ]
  },
  {
   "cell_type": "code",
   "execution_count": 54,
   "id": "58d203ab",
   "metadata": {},
   "outputs": [],
   "source": [
    "# Settting up the randomised search\n",
    "from sklearn.model_selection import RandomizedSearchCV\n",
    "\n",
    "# Initialize RandomizedSearchCV with the already trained model (for March only) - attempt 3\n",
    "\n",
    "random_search = RandomizedSearchCV(\n",
    "    estimator = model_mar,  # Pre-trained model for March\n",
    "    param_distributions = param_dist,\n",
    "    n_iter = 100,  # Number of random combinations to try\n",
    "    cv = None,    # Can't be used since temporal dependencies are present\n",
    "    scoring ='neg_mean_squared_error',\n",
    "    n_jobs = -1,  # Use all CPU cores\n",
    "    random_state=42\n",
    ")"
   ]
  },
  {
   "cell_type": "code",
   "execution_count": 55,
   "id": "b54d19eb",
   "metadata": {},
   "outputs": [
    {
     "name": "stdout",
     "output_type": "stream",
     "text": [
      "[LightGBM] [Info] Auto-choosing row-wise multi-threading, the overhead of testing was 0.001189 seconds.\n",
      "You can set `force_row_wise=true` to remove the overhead.\n",
      "And if memory is not enough, you can set `force_col_wise=true`.\n",
      "[LightGBM] [Info] Total Bins 1090\n",
      "[LightGBM] [Info] Number of data points in the train set: 58800, number of used features: 227\n",
      "[LightGBM] [Info] Start training from score 1.451037\n",
      "Best hyperparameters found: {'num_leaves': 40, 'learning_rate': 0.10200000000000001}\n"
     ]
    }
   ],
   "source": [
    "# Fit RandomizedSearchCV (this does tuning but does not re-train your initial model)\n",
    "random_search.fit(X_train_mar, y_train_mar)\n",
    "\n",
    "# Getting the best hyperparameters\n",
    "best_params = random_search.best_params_\n",
    "print(\"Best hyperparameters found:\", best_params)"
   ]
  },
  {
   "cell_type": "code",
   "execution_count": 56,
   "id": "4af3e392",
   "metadata": {},
   "outputs": [
    {
     "name": "stdout",
     "output_type": "stream",
     "text": [
      "2.3737965639740066 0.38895271632390127\n"
     ]
    }
   ],
   "source": [
    "# Evaluating performance on the validation set\n",
    "best_rf = random_search.best_estimator_\n",
    "y_val_pred_mar = best_rf.predict(X_val_mar)\n",
    "\n",
    "# Calculate score on validation set\n",
    "print(mean_squared_error(y_val_mar, y_val_pred_mar), r2_score(y_val_mar, y_val_pred_mar))"
   ]
  },
  {
   "cell_type": "markdown",
   "id": "3b1d81ed",
   "metadata": {},
   "source": [
    "Performance is slightly poor, it's likely that trees are overfitting."
   ]
  },
  {
   "cell_type": "code",
   "execution_count": 58,
   "id": "437ca96c",
   "metadata": {},
   "outputs": [],
   "source": [
    "# Defining the hyperparameter space - attempt 4\n",
    "\n",
    "param_dist = {\n",
    "    'learning_rate': np.arange(0.1,0.13,0.001),     \n",
    "    'num_leaves': np.arange(27,51,3),\n",
    "    'max_depth': np.arange(6,16,2)\n",
    "}"
   ]
  },
  {
   "cell_type": "code",
   "execution_count": 59,
   "id": "bf0f14a7",
   "metadata": {},
   "outputs": [],
   "source": [
    "# Settting up the randomised search\n",
    "from sklearn.model_selection import RandomizedSearchCV\n",
    "\n",
    "# Initialize RandomizedSearchCV with the already trained model (for March only) - attempt 4\n",
    "\n",
    "random_search = RandomizedSearchCV(\n",
    "    estimator = model_mar,  # Pre-trained model for March\n",
    "    param_distributions = param_dist,\n",
    "    n_iter = 100,  # Number of random combinations to try\n",
    "    cv = None,    # Can't be used since temporal dependencies are present\n",
    "    scoring ='neg_mean_squared_error',\n",
    "    n_jobs = -1,  # Use all CPU cores\n",
    "    random_state=42\n",
    ")"
   ]
  },
  {
   "cell_type": "code",
   "execution_count": 60,
   "id": "4b615810",
   "metadata": {},
   "outputs": [
    {
     "name": "stdout",
     "output_type": "stream",
     "text": [
      "[LightGBM] [Info] Auto-choosing row-wise multi-threading, the overhead of testing was 0.001969 seconds.\n",
      "You can set `force_row_wise=true` to remove the overhead.\n",
      "And if memory is not enough, you can set `force_col_wise=true`.\n",
      "[LightGBM] [Info] Total Bins 1090\n",
      "[LightGBM] [Info] Number of data points in the train set: 58800, number of used features: 227\n",
      "[LightGBM] [Info] Start training from score 1.451037\n",
      "Best hyperparameters found: {'num_leaves': 39, 'max_depth': 14, 'learning_rate': 0.11600000000000002}\n"
     ]
    }
   ],
   "source": [
    "# Fit RandomizedSearchCV (this does tuning but does not re-train your initial model)\n",
    "random_search.fit(X_train_mar, y_train_mar)\n",
    "\n",
    "# Getting the best hyperparameters\n",
    "best_params = random_search.best_params_\n",
    "print(\"Best hyperparameters found:\", best_params)"
   ]
  },
  {
   "cell_type": "code",
   "execution_count": 61,
   "id": "82324468",
   "metadata": {},
   "outputs": [
    {
     "name": "stdout",
     "output_type": "stream",
     "text": [
      "2.3057229119686045 0.4064757933976063\n"
     ]
    }
   ],
   "source": [
    "# Evaluating performance on the validation set\n",
    "best_rf = random_search.best_estimator_\n",
    "y_val_pred_mar = best_rf.predict(X_val_mar)\n",
    "\n",
    "# Calculate score on validation set\n",
    "print(mean_squared_error(y_val_mar, y_val_pred_mar), r2_score(y_val_mar, y_val_pred_mar))"
   ]
  },
  {
   "cell_type": "code",
   "execution_count": 63,
   "id": "97f233f6",
   "metadata": {},
   "outputs": [],
   "source": [
    "# Defining the hyperparameter space - attempt 5\n",
    "\n",
    "param_dist = {\n",
    "    'n_estimators': np.arange(100,500,50),\n",
    "    'learning_rate': np.arange(0.08,0.13,0.001),     \n",
    "    'num_leaves': np.arange(10,100,5),\n",
    "    'max_depth': np.arange(3,13,2)\n",
    "}"
   ]
  },
  {
   "cell_type": "code",
   "execution_count": 64,
   "id": "de12b260",
   "metadata": {},
   "outputs": [],
   "source": [
    "# Settting up the randomised search\n",
    "from sklearn.model_selection import RandomizedSearchCV\n",
    "\n",
    "# Initialize RandomizedSearchCV with the already trained model (for March only) - attempt 5\n",
    "\n",
    "random_search = RandomizedSearchCV(\n",
    "    estimator = model_mar,  # Pre-trained model for March\n",
    "    param_distributions = param_dist,\n",
    "    n_iter = 500,  # Number of random combinations to try\n",
    "    cv = None,    # Can't be used since temporal dependencies are present\n",
    "    scoring ='neg_mean_squared_error',\n",
    "    n_jobs = -1,  # Use all CPU cores\n",
    "    random_state=42\n",
    ")"
   ]
  },
  {
   "cell_type": "code",
   "execution_count": 65,
   "id": "6f921b3c",
   "metadata": {},
   "outputs": [
    {
     "name": "stderr",
     "output_type": "stream",
     "text": [
      "C:\\Users\\singh\\anaconda3\\envs\\notebook 6.5.7\\Lib\\site-packages\\numpy\\ma\\core.py:2820: RuntimeWarning: invalid value encountered in cast\n",
      "  _data = np.array(data, dtype=dtype, copy=copy,\n"
     ]
    },
    {
     "name": "stdout",
     "output_type": "stream",
     "text": [
      "[LightGBM] [Info] Auto-choosing row-wise multi-threading, the overhead of testing was 0.001221 seconds.\n",
      "You can set `force_row_wise=true` to remove the overhead.\n",
      "And if memory is not enough, you can set `force_col_wise=true`.\n",
      "[LightGBM] [Info] Total Bins 1090\n",
      "[LightGBM] [Info] Number of data points in the train set: 58800, number of used features: 227\n",
      "[LightGBM] [Info] Start training from score 1.451037\n",
      "Best hyperparameters found: {'num_leaves': 20, 'n_estimators': 250, 'max_depth': 11, 'learning_rate': 0.12600000000000006}\n"
     ]
    }
   ],
   "source": [
    "# Fit RandomizedSearchCV (this does tuning but does not re-train your initial model)\n",
    "random_search.fit(X_train_mar, y_train_mar)\n",
    "\n",
    "# Getting the best hyperparameters\n",
    "best_params = random_search.best_params_\n",
    "print(\"Best hyperparameters found:\", best_params)"
   ]
  },
  {
   "cell_type": "code",
   "execution_count": 66,
   "id": "edd772b0",
   "metadata": {},
   "outputs": [
    {
     "name": "stdout",
     "output_type": "stream",
     "text": [
      "2.2653823566137135 0.41685999697498644\n"
     ]
    }
   ],
   "source": [
    "# Evaluating performance on the validation set\n",
    "best_rf = random_search.best_estimator_\n",
    "y_val_pred_mar = best_rf.predict(X_val_mar)\n",
    "\n",
    "# Calculate score on validation set\n",
    "print(mean_squared_error(y_val_mar, y_val_pred_mar), r2_score(y_val_mar, y_val_pred_mar))"
   ]
  },
  {
   "cell_type": "markdown",
   "id": "424be7bf",
   "metadata": {},
   "source": [
    "Best performance so far. Performance can be further increased."
   ]
  },
  {
   "cell_type": "code",
   "execution_count": 70,
   "id": "595608af",
   "metadata": {},
   "outputs": [],
   "source": [
    "# Defining the hyperparameter space - attempt 6\n",
    "\n",
    "param_dist = {\n",
    "    'n_estimators': np.arange(150,300,25),\n",
    "    'learning_rate': np.arange(0.09,0.13,0.005),     \n",
    "    'num_leaves': np.arange(15,40,5),\n",
    "    'max_depth': np.arange(8,12,2)\n",
    "}"
   ]
  },
  {
   "cell_type": "code",
   "execution_count": 71,
   "id": "3b6d2d29",
   "metadata": {},
   "outputs": [],
   "source": [
    "# Settting up the randomised search\n",
    "from sklearn.model_selection import RandomizedSearchCV\n",
    "\n",
    "# Initialize RandomizedSearchCV with the already trained model (for March only) - attempt 6\n",
    "\n",
    "random_search = RandomizedSearchCV(\n",
    "    estimator = model_mar,  # Pre-trained model for March\n",
    "    param_distributions = param_dist,\n",
    "    n_iter = 200,  # Number of random combinations to try\n",
    "    cv = None,    # Can't be used since temporal dependencies are present\n",
    "    scoring ='neg_mean_squared_error',\n",
    "    n_jobs = -1,  # Use all CPU cores\n",
    "    random_state=42\n",
    ")"
   ]
  },
  {
   "cell_type": "code",
   "execution_count": 72,
   "id": "08cb433b",
   "metadata": {},
   "outputs": [
    {
     "name": "stdout",
     "output_type": "stream",
     "text": [
      "[LightGBM] [Info] Auto-choosing row-wise multi-threading, the overhead of testing was 0.002080 seconds.\n",
      "You can set `force_row_wise=true` to remove the overhead.\n",
      "And if memory is not enough, you can set `force_col_wise=true`.\n",
      "[LightGBM] [Info] Total Bins 1090\n",
      "[LightGBM] [Info] Number of data points in the train set: 58800, number of used features: 227\n",
      "[LightGBM] [Info] Start training from score 1.451037\n",
      "Best hyperparameters found: {'num_leaves': 25, 'n_estimators': 250, 'max_depth': 8, 'learning_rate': 0.095}\n"
     ]
    }
   ],
   "source": [
    "# Fit RandomizedSearchCV (this does tuning but does not re-train your initial model)\n",
    "random_search.fit(X_train_mar, y_train_mar)\n",
    "\n",
    "# Getting the best hyperparameters\n",
    "best_params = random_search.best_params_\n",
    "print(\"Best hyperparameters found:\", best_params)"
   ]
  },
  {
   "cell_type": "code",
   "execution_count": 73,
   "id": "4d417a9b",
   "metadata": {},
   "outputs": [
    {
     "name": "stdout",
     "output_type": "stream",
     "text": [
      "2.283472350296444 0.4122033883719961\n"
     ]
    }
   ],
   "source": [
    "# Evaluating performance on the validation set\n",
    "best_rf = random_search.best_estimator_\n",
    "y_val_pred_mar = best_rf.predict(X_val_mar)\n",
    "\n",
    "# Calculate score on validation set\n",
    "print(mean_squared_error(y_val_mar, y_val_pred_mar), r2_score(y_val_mar, y_val_pred_mar))"
   ]
  },
  {
   "cell_type": "markdown",
   "id": "535e2c52",
   "metadata": {},
   "source": [
    "Performance has decreased slightly"
   ]
  },
  {
   "cell_type": "code",
   "execution_count": 74,
   "id": "f3b75ebe",
   "metadata": {},
   "outputs": [],
   "source": [
    "# Defining the hyperparameter space - attempt 7\n",
    "\n",
    "param_dist = {\n",
    "    'n_estimators': np.arange(240,260,10),           \n",
    "    'learning_rate': np.arange(0.09,0.14,0.01),     \n",
    "    'num_leaves': np.arange(20,60,5),\n",
    "    'max_depth': [20,25,35,40,55,75],\n",
    "    'reg_alpha': [0.1, 0.2, 0.3],\n",
    "    'reg_lambda': [0.1, 0.3, 0.5]\n",
    "}"
   ]
  },
  {
   "cell_type": "code",
   "execution_count": 75,
   "id": "6fa0053d",
   "metadata": {},
   "outputs": [],
   "source": [
    "# Settting up the randomised search\n",
    "from sklearn.model_selection import RandomizedSearchCV\n",
    "\n",
    "# Initialize RandomizedSearchCV with the already trained model (for March only) - attempt 7\n",
    "\n",
    "random_search = RandomizedSearchCV(\n",
    "    estimator = model_mar,  # Pre-trained model for March\n",
    "    param_distributions = param_dist,\n",
    "    n_iter = 250,  # Number of random combinations to try\n",
    "    cv = None,    # Can't be used since temporal dependencies are present\n",
    "    scoring ='neg_mean_squared_error',\n",
    "    n_jobs = -1,  # Use all CPU cores\n",
    "    random_state=42\n",
    ")"
   ]
  },
  {
   "cell_type": "code",
   "execution_count": 76,
   "id": "02b076eb",
   "metadata": {},
   "outputs": [
    {
     "name": "stdout",
     "output_type": "stream",
     "text": [
      "[LightGBM] [Info] Auto-choosing row-wise multi-threading, the overhead of testing was 0.001377 seconds.\n",
      "You can set `force_row_wise=true` to remove the overhead.\n",
      "And if memory is not enough, you can set `force_col_wise=true`.\n",
      "[LightGBM] [Info] Total Bins 1090\n",
      "[LightGBM] [Info] Number of data points in the train set: 58800, number of used features: 227\n",
      "[LightGBM] [Info] Start training from score 1.451037\n",
      "Best hyperparameters found: {'reg_lambda': 0.5, 'reg_alpha': 0.1, 'num_leaves': 30, 'n_estimators': 250, 'max_depth': 35, 'learning_rate': 0.09999999999999999}\n"
     ]
    }
   ],
   "source": [
    "# Fit RandomizedSearchCV (this does tuning but does not re-train your initial model)\n",
    "random_search.fit(X_train_mar, y_train_mar)\n",
    "\n",
    "# Getting the best hyperparameters\n",
    "best_params = random_search.best_params_\n",
    "print(\"Best hyperparameters found:\", best_params)"
   ]
  },
  {
   "cell_type": "code",
   "execution_count": 77,
   "id": "33de5d2b",
   "metadata": {},
   "outputs": [
    {
     "name": "stdout",
     "output_type": "stream",
     "text": [
      "2.265677415085941 0.4167840449407151\n"
     ]
    }
   ],
   "source": [
    "# Evaluating performance on the validation set\n",
    "best_rf = random_search.best_estimator_\n",
    "y_val_pred_mar = best_rf.predict(X_val_mar)\n",
    "\n",
    "# Calculate score on validation set\n",
    "print(mean_squared_error(y_val_mar, y_val_pred_mar), r2_score(y_val_mar, y_val_pred_mar))"
   ]
  },
  {
   "cell_type": "markdown",
   "id": "8af051c2",
   "metadata": {},
   "source": [
    "Best performance so far. This means that earlier, trees were overfitting."
   ]
  },
  {
   "cell_type": "code",
   "execution_count": 79,
   "id": "5ea021a2",
   "metadata": {},
   "outputs": [],
   "source": [
    "# Defining the hyperparameter space - attempt 8\n",
    "\n",
    "param_dist = {\n",
    "    'n_estimators': np.arange(240,380,10),           \n",
    "    'learning_rate': np.arange(0.05,0.15,0.01),     \n",
    "    'num_leaves': np.arange(20,40,5),\n",
    "    'max_depth': np.arange(5,35,5),\n",
    "    'reg_lambda': [0.4, 0.5, 0.6, 0.7]\n",
    "}"
   ]
  },
  {
   "cell_type": "code",
   "execution_count": 80,
   "id": "79e511d3",
   "metadata": {},
   "outputs": [],
   "source": [
    "# Settting up the randomised search\n",
    "from sklearn.model_selection import RandomizedSearchCV\n",
    "\n",
    "# Initialize RandomizedSearchCV with the already trained model (for March only) - attempt 8\n",
    "\n",
    "random_search = RandomizedSearchCV(\n",
    "    estimator = model_mar,  # Pre-trained model for March\n",
    "    param_distributions = param_dist,\n",
    "    n_iter = 500,  # Number of random combinations to try\n",
    "    cv = None,    # Can't be used since temporal dependencies are present\n",
    "    scoring ='neg_mean_squared_error',\n",
    "    n_jobs = -1,  # Use all CPU cores\n",
    "    random_state=42\n",
    ")"
   ]
  },
  {
   "cell_type": "code",
   "execution_count": 81,
   "id": "7eea75d8",
   "metadata": {},
   "outputs": [
    {
     "name": "stdout",
     "output_type": "stream",
     "text": [
      "[LightGBM] [Info] Auto-choosing row-wise multi-threading, the overhead of testing was 0.001234 seconds.\n",
      "You can set `force_row_wise=true` to remove the overhead.\n",
      "And if memory is not enough, you can set `force_col_wise=true`.\n",
      "[LightGBM] [Info] Total Bins 1090\n",
      "[LightGBM] [Info] Number of data points in the train set: 58800, number of used features: 227\n",
      "[LightGBM] [Info] Start training from score 1.451037\n",
      "Best hyperparameters found: {'reg_lambda': 0.5, 'num_leaves': 30, 'n_estimators': 340, 'max_depth': 25, 'learning_rate': 0.1}\n"
     ]
    }
   ],
   "source": [
    "# Fit RandomizedSearchCV (this does tuning but does not re-train your initial model)\n",
    "random_search.fit(X_train_mar, y_train_mar)\n",
    "\n",
    "# Getting the best hyperparameters\n",
    "best_params = random_search.best_params_\n",
    "print(\"Best hyperparameters found:\", best_params)"
   ]
  },
  {
   "cell_type": "code",
   "execution_count": 82,
   "id": "15b11cd9",
   "metadata": {},
   "outputs": [
    {
     "name": "stdout",
     "output_type": "stream",
     "text": [
      "2.2341095046611623 0.4249100512755202\n"
     ]
    }
   ],
   "source": [
    "# Evaluating performance on the validation set\n",
    "best_rf = random_search.best_estimator_\n",
    "y_val_pred_mar = best_rf.predict(X_val_mar)\n",
    "\n",
    "# Calculate score on validation set\n",
    "print(mean_squared_error(y_val_mar, y_val_pred_mar), r2_score(y_val_mar, y_val_pred_mar))"
   ]
  },
  {
   "cell_type": "markdown",
   "id": "b8934631",
   "metadata": {},
   "source": [
    "Best performance so far. Better than tuned HGBT."
   ]
  },
  {
   "cell_type": "code",
   "execution_count": 84,
   "id": "dbdbd76f",
   "metadata": {},
   "outputs": [],
   "source": [
    "# Defining the hyperparameter space - attempt 9\n",
    "\n",
    "param_dist = {\n",
    "    'n_estimators': np.arange(310,370,5),           \n",
    "    'learning_rate': np.arange(0.09,0.12,0.005),     \n",
    "    'num_leaves': np.arange(30,40,1),\n",
    "    'max_depth': np.arange(25,35,2),\n",
    "    'reg_lambda': [0.5, 0.6, 0.7]\n",
    "}"
   ]
  },
  {
   "cell_type": "code",
   "execution_count": 85,
   "id": "f18b11db",
   "metadata": {},
   "outputs": [],
   "source": [
    "# Settting up the randomised search\n",
    "from sklearn.model_selection import RandomizedSearchCV\n",
    "\n",
    "# Initialize RandomizedSearchCV with the already trained model (for March only) - attempt 9\n",
    "\n",
    "random_search = RandomizedSearchCV(\n",
    "    estimator = model_mar,  # Pre-trained model for March\n",
    "    param_distributions = param_dist,\n",
    "    n_iter = 200,  # Number of random combinations to try\n",
    "    cv = None,    # Can't be used since temporal dependencies are present\n",
    "    scoring ='neg_mean_squared_error',\n",
    "    n_jobs = -1,  # Use all CPU cores\n",
    "    random_state=42\n",
    ")"
   ]
  },
  {
   "cell_type": "code",
   "execution_count": 86,
   "id": "bd338bf1",
   "metadata": {},
   "outputs": [
    {
     "name": "stdout",
     "output_type": "stream",
     "text": [
      "[LightGBM] [Info] Auto-choosing col-wise multi-threading, the overhead of testing was 0.004990 seconds.\n",
      "You can set `force_col_wise=true` to remove the overhead.\n",
      "[LightGBM] [Info] Total Bins 1090\n",
      "[LightGBM] [Info] Number of data points in the train set: 58800, number of used features: 227\n",
      "[LightGBM] [Info] Start training from score 1.451037\n",
      "Best hyperparameters found: {'reg_lambda': 0.6, 'num_leaves': 32, 'n_estimators': 335, 'max_depth': 33, 'learning_rate': 0.09}\n"
     ]
    }
   ],
   "source": [
    "# Fit RandomizedSearchCV (this does tuning but does not re-train your initial model)\n",
    "random_search.fit(X_train_mar, y_train_mar)\n",
    "\n",
    "# Getting the best hyperparameters\n",
    "best_params = random_search.best_params_\n",
    "print(\"Best hyperparameters found:\", best_params)"
   ]
  },
  {
   "cell_type": "code",
   "execution_count": 87,
   "id": "a2064b1f",
   "metadata": {},
   "outputs": [
    {
     "name": "stdout",
     "output_type": "stream",
     "text": [
      "2.298222324686777 0.40840654582774016\n"
     ]
    }
   ],
   "source": [
    "# Evaluating performance on the validation set\n",
    "best_rf = random_search.best_estimator_\n",
    "y_val_pred_mar = best_rf.predict(X_val_mar)\n",
    "\n",
    "# Calculate score on validation set\n",
    "print(mean_squared_error(y_val_mar, y_val_pred_mar), r2_score(y_val_mar, y_val_pred_mar))"
   ]
  },
  {
   "cell_type": "code",
   "execution_count": 88,
   "id": "e642b40f",
   "metadata": {},
   "outputs": [],
   "source": [
    "# Defining the hyperparameter space - attempt 10\n",
    "\n",
    "param_dist = {\n",
    "    'n_estimators': [330,335,340,345],           \n",
    "    'learning_rate': [0.09, 0.10, 0.11, 0.12],     \n",
    "    'num_leaves': np.arange(30,40,1),\n",
    "    'max_depth': np.arange(16,36,2),\n",
    "    'reg_lambda': [0.5, 0.6]\n",
    "}"
   ]
  },
  {
   "cell_type": "code",
   "execution_count": 89,
   "id": "d347875e",
   "metadata": {},
   "outputs": [],
   "source": [
    "# Settting up the randomised search\n",
    "from sklearn.model_selection import RandomizedSearchCV\n",
    "\n",
    "# Initialize RandomizedSearchCV with the already trained model (for March only) - attempt 10\n",
    "\n",
    "random_search = RandomizedSearchCV(\n",
    "    estimator = model_mar,  # Pre-trained model for March\n",
    "    param_distributions = param_dist,\n",
    "    n_iter = 150,  # Number of random combinations to try\n",
    "    cv = None,    # Can't be used since temporal dependencies are present\n",
    "    scoring ='neg_mean_squared_error',\n",
    "    n_jobs = -1,  # Use all CPU cores\n",
    "    random_state=42\n",
    ")"
   ]
  },
  {
   "cell_type": "code",
   "execution_count": 90,
   "id": "c849f314",
   "metadata": {},
   "outputs": [
    {
     "name": "stdout",
     "output_type": "stream",
     "text": [
      "[LightGBM] [Info] Auto-choosing row-wise multi-threading, the overhead of testing was 0.001036 seconds.\n",
      "You can set `force_row_wise=true` to remove the overhead.\n",
      "And if memory is not enough, you can set `force_col_wise=true`.\n",
      "[LightGBM] [Info] Total Bins 1090\n",
      "[LightGBM] [Info] Number of data points in the train set: 58800, number of used features: 227\n",
      "[LightGBM] [Info] Start training from score 1.451037\n",
      "Best hyperparameters found: {'reg_lambda': 0.6, 'num_leaves': 32, 'n_estimators': 345, 'max_depth': 32, 'learning_rate': 0.09}\n"
     ]
    }
   ],
   "source": [
    "# Fit RandomizedSearchCV (this does tuning but does not re-train your initial model)\n",
    "random_search.fit(X_train_mar, y_train_mar)\n",
    "\n",
    "# Getting the best hyperparameters\n",
    "best_params = random_search.best_params_\n",
    "print(\"Best hyperparameters found:\", best_params)"
   ]
  },
  {
   "cell_type": "code",
   "execution_count": 91,
   "id": "bc49c770",
   "metadata": {},
   "outputs": [
    {
     "name": "stdout",
     "output_type": "stream",
     "text": [
      "2.285234883532066 0.41174968852157046\n"
     ]
    }
   ],
   "source": [
    "# Evaluating performance on the validation set\n",
    "best_rf = random_search.best_estimator_\n",
    "y_val_pred_mar = best_rf.predict(X_val_mar)\n",
    "\n",
    "# Calculate score on validation set\n",
    "print(mean_squared_error(y_val_mar, y_val_pred_mar), r2_score(y_val_mar, y_val_pred_mar))"
   ]
  },
  {
   "cell_type": "code",
   "execution_count": 92,
   "id": "ea6d1251",
   "metadata": {},
   "outputs": [],
   "source": [
    "# Defining the hyperparameter space - attempt 11\n",
    "\n",
    "param_dist = {\n",
    "    'n_estimators': [345, 350, 355, 360, 365],           \n",
    "    'learning_rate': [0.08, 0.09, 0.10, 0.11],     \n",
    "    'num_leaves': np.arange(32,42,2),\n",
    "    'max_depth': np.arange(20,40,2),\n",
    "    'reg_lambda': [0.6, 0.7, 0.8]\n",
    "}"
   ]
  },
  {
   "cell_type": "code",
   "execution_count": 93,
   "id": "e473bb01",
   "metadata": {},
   "outputs": [],
   "source": [
    "# Settting up the randomised search\n",
    "from sklearn.model_selection import RandomizedSearchCV\n",
    "\n",
    "# Initialize RandomizedSearchCV with the already trained model (for March only) - attempt 11\n",
    "\n",
    "random_search = RandomizedSearchCV(\n",
    "    estimator = model_mar,  # Pre-trained model for March\n",
    "    param_distributions = param_dist,\n",
    "    n_iter = 200,  # Number of random combinations to try\n",
    "    cv = None,    # Can't be used since temporal dependencies are present\n",
    "    scoring ='neg_mean_squared_error',\n",
    "    n_jobs = -1,  # Use all CPU cores\n",
    "    random_state=42\n",
    ")"
   ]
  },
  {
   "cell_type": "code",
   "execution_count": 94,
   "id": "4a421841",
   "metadata": {},
   "outputs": [
    {
     "name": "stdout",
     "output_type": "stream",
     "text": [
      "[LightGBM] [Info] Auto-choosing col-wise multi-threading, the overhead of testing was 0.005242 seconds.\n",
      "You can set `force_col_wise=true` to remove the overhead.\n",
      "[LightGBM] [Info] Total Bins 1090\n",
      "[LightGBM] [Info] Number of data points in the train set: 58800, number of used features: 227\n",
      "[LightGBM] [Info] Start training from score 1.451037\n",
      "Best hyperparameters found: {'reg_lambda': 0.6, 'num_leaves': 32, 'n_estimators': 345, 'max_depth': 24, 'learning_rate': 0.09}\n"
     ]
    }
   ],
   "source": [
    "# Fit RandomizedSearchCV (this does tuning but does not re-train your initial model)\n",
    "random_search.fit(X_train_mar, y_train_mar)\n",
    "\n",
    "# Getting the best hyperparameters\n",
    "best_params = random_search.best_params_\n",
    "print(\"Best hyperparameters found:\", best_params)"
   ]
  },
  {
   "cell_type": "code",
   "execution_count": 95,
   "id": "7a070367",
   "metadata": {},
   "outputs": [
    {
     "name": "stdout",
     "output_type": "stream",
     "text": [
      "2.285234883532066 0.41174968852157046\n"
     ]
    }
   ],
   "source": [
    "# Evaluating performance on the validation set\n",
    "best_rf = random_search.best_estimator_\n",
    "y_val_pred_mar = best_rf.predict(X_val_mar)\n",
    "\n",
    "# Calculate score on validation set\n",
    "print(mean_squared_error(y_val_mar, y_val_pred_mar), r2_score(y_val_mar, y_val_pred_mar))"
   ]
  },
  {
   "cell_type": "code",
   "execution_count": 100,
   "id": "200443ce",
   "metadata": {},
   "outputs": [],
   "source": [
    "# Defining the hyperparameter space - attempt 12\n",
    "\n",
    "param_dist = {\n",
    "    'n_estimators': [345, 350, 355, 360, 365],           \n",
    "    'learning_rate': [0.08, 0.09, 0.10, 0.11],     \n",
    "    'num_leaves': np.arange(60,240,40),\n",
    "    'max_depth': np.arange(6,10,2),\n",
    "    'reg_lambda': [0.5, 0.6]\n",
    "}"
   ]
  },
  {
   "cell_type": "code",
   "execution_count": 101,
   "id": "fa6d71f0",
   "metadata": {},
   "outputs": [],
   "source": [
    "# Settting up the randomised search\n",
    "from sklearn.model_selection import RandomizedSearchCV\n",
    "\n",
    "# Initialize RandomizedSearchCV with the already trained model (for March only) - attempt 12\n",
    "\n",
    "random_search = RandomizedSearchCV(\n",
    "    estimator = model_mar,  # Pre-trained model for March\n",
    "    param_distributions = param_dist,\n",
    "    n_iter = 100,  # Number of random combinations to try\n",
    "    cv = None,    # Can't be used since temporal dependencies are present\n",
    "    scoring ='neg_mean_squared_error',\n",
    "    n_jobs = -1,  # Use all CPU cores\n",
    "    random_state=42\n",
    ")"
   ]
  },
  {
   "cell_type": "code",
   "execution_count": 102,
   "id": "d688c680",
   "metadata": {},
   "outputs": [
    {
     "name": "stdout",
     "output_type": "stream",
     "text": [
      "[LightGBM] [Info] Auto-choosing row-wise multi-threading, the overhead of testing was 0.001037 seconds.\n",
      "You can set `force_row_wise=true` to remove the overhead.\n",
      "And if memory is not enough, you can set `force_col_wise=true`.\n",
      "[LightGBM] [Info] Total Bins 1090\n",
      "[LightGBM] [Info] Number of data points in the train set: 58800, number of used features: 227\n",
      "[LightGBM] [Info] Start training from score 1.451037\n",
      "[LightGBM] [Warning] No further splits with positive gain, best gain: -inf\n",
      "[LightGBM] [Warning] No further splits with positive gain, best gain: -inf\n",
      "[LightGBM] [Warning] No further splits with positive gain, best gain: -inf\n",
      "[LightGBM] [Warning] No further splits with positive gain, best gain: -inf\n",
      "[LightGBM] [Warning] No further splits with positive gain, best gain: -inf\n",
      "[LightGBM] [Warning] No further splits with positive gain, best gain: -inf\n",
      "[LightGBM] [Warning] No further splits with positive gain, best gain: -inf\n",
      "[LightGBM] [Warning] No further splits with positive gain, best gain: -inf\n",
      "[LightGBM] [Warning] No further splits with positive gain, best gain: -inf\n",
      "[LightGBM] [Warning] No further splits with positive gain, best gain: -inf\n",
      "[LightGBM] [Warning] No further splits with positive gain, best gain: -inf\n",
      "[LightGBM] [Warning] No further splits with positive gain, best gain: -inf\n",
      "[LightGBM] [Warning] No further splits with positive gain, best gain: -inf\n",
      "[LightGBM] [Warning] No further splits with positive gain, best gain: -inf\n",
      "[LightGBM] [Warning] No further splits with positive gain, best gain: -inf\n",
      "[LightGBM] [Warning] No further splits with positive gain, best gain: -inf\n",
      "[LightGBM] [Warning] No further splits with positive gain, best gain: -inf\n",
      "[LightGBM] [Warning] No further splits with positive gain, best gain: -inf\n",
      "[LightGBM] [Warning] No further splits with positive gain, best gain: -inf\n",
      "[LightGBM] [Warning] No further splits with positive gain, best gain: -inf\n",
      "[LightGBM] [Warning] No further splits with positive gain, best gain: -inf\n",
      "[LightGBM] [Warning] No further splits with positive gain, best gain: -inf\n",
      "[LightGBM] [Warning] No further splits with positive gain, best gain: -inf\n",
      "[LightGBM] [Warning] No further splits with positive gain, best gain: -inf\n",
      "[LightGBM] [Warning] No further splits with positive gain, best gain: -inf\n",
      "[LightGBM] [Warning] No further splits with positive gain, best gain: -inf\n",
      "[LightGBM] [Warning] No further splits with positive gain, best gain: -inf\n",
      "[LightGBM] [Warning] No further splits with positive gain, best gain: -inf\n",
      "[LightGBM] [Warning] No further splits with positive gain, best gain: -inf\n",
      "[LightGBM] [Warning] No further splits with positive gain, best gain: -inf\n",
      "[LightGBM] [Warning] No further splits with positive gain, best gain: -inf\n",
      "[LightGBM] [Warning] No further splits with positive gain, best gain: -inf\n",
      "[LightGBM] [Warning] No further splits with positive gain, best gain: -inf\n",
      "[LightGBM] [Warning] No further splits with positive gain, best gain: -inf\n",
      "[LightGBM] [Warning] No further splits with positive gain, best gain: -inf\n",
      "[LightGBM] [Warning] No further splits with positive gain, best gain: -inf\n",
      "[LightGBM] [Warning] No further splits with positive gain, best gain: -inf\n",
      "[LightGBM] [Warning] No further splits with positive gain, best gain: -inf\n",
      "[LightGBM] [Warning] No further splits with positive gain, best gain: -inf\n",
      "[LightGBM] [Warning] No further splits with positive gain, best gain: -inf\n",
      "[LightGBM] [Warning] No further splits with positive gain, best gain: -inf\n",
      "[LightGBM] [Warning] No further splits with positive gain, best gain: -inf\n",
      "[LightGBM] [Warning] No further splits with positive gain, best gain: -inf\n",
      "[LightGBM] [Warning] No further splits with positive gain, best gain: -inf\n",
      "[LightGBM] [Warning] No further splits with positive gain, best gain: -inf\n",
      "[LightGBM] [Warning] No further splits with positive gain, best gain: -inf\n",
      "[LightGBM] [Warning] No further splits with positive gain, best gain: -inf\n",
      "[LightGBM] [Warning] No further splits with positive gain, best gain: -inf\n",
      "[LightGBM] [Warning] No further splits with positive gain, best gain: -inf\n",
      "[LightGBM] [Warning] No further splits with positive gain, best gain: -inf\n",
      "[LightGBM] [Warning] No further splits with positive gain, best gain: -inf\n",
      "[LightGBM] [Warning] No further splits with positive gain, best gain: -inf\n",
      "[LightGBM] [Warning] No further splits with positive gain, best gain: -inf\n",
      "[LightGBM] [Warning] No further splits with positive gain, best gain: -inf\n",
      "[LightGBM] [Warning] No further splits with positive gain, best gain: -inf\n",
      "[LightGBM] [Warning] No further splits with positive gain, best gain: -inf\n",
      "[LightGBM] [Warning] No further splits with positive gain, best gain: -inf\n",
      "[LightGBM] [Warning] No further splits with positive gain, best gain: -inf\n",
      "[LightGBM] [Warning] No further splits with positive gain, best gain: -inf\n",
      "[LightGBM] [Warning] No further splits with positive gain, best gain: -inf\n",
      "[LightGBM] [Warning] No further splits with positive gain, best gain: -inf\n",
      "[LightGBM] [Warning] No further splits with positive gain, best gain: -inf\n",
      "[LightGBM] [Warning] No further splits with positive gain, best gain: -inf\n",
      "[LightGBM] [Warning] No further splits with positive gain, best gain: -inf\n",
      "[LightGBM] [Warning] No further splits with positive gain, best gain: -inf\n",
      "[LightGBM] [Warning] No further splits with positive gain, best gain: -inf\n",
      "[LightGBM] [Warning] No further splits with positive gain, best gain: -inf\n",
      "[LightGBM] [Warning] No further splits with positive gain, best gain: -inf\n",
      "[LightGBM] [Warning] No further splits with positive gain, best gain: -inf\n",
      "[LightGBM] [Warning] No further splits with positive gain, best gain: -inf\n",
      "[LightGBM] [Warning] No further splits with positive gain, best gain: -inf\n",
      "[LightGBM] [Warning] No further splits with positive gain, best gain: -inf\n",
      "[LightGBM] [Warning] No further splits with positive gain, best gain: -inf\n",
      "[LightGBM] [Warning] No further splits with positive gain, best gain: -inf\n",
      "[LightGBM] [Warning] No further splits with positive gain, best gain: -inf\n",
      "[LightGBM] [Warning] No further splits with positive gain, best gain: -inf\n",
      "[LightGBM] [Warning] No further splits with positive gain, best gain: -inf\n",
      "[LightGBM] [Warning] No further splits with positive gain, best gain: -inf\n",
      "[LightGBM] [Warning] No further splits with positive gain, best gain: -inf\n",
      "[LightGBM] [Warning] No further splits with positive gain, best gain: -inf\n",
      "[LightGBM] [Warning] No further splits with positive gain, best gain: -inf\n",
      "[LightGBM] [Warning] No further splits with positive gain, best gain: -inf\n",
      "[LightGBM] [Warning] No further splits with positive gain, best gain: -inf\n",
      "[LightGBM] [Warning] No further splits with positive gain, best gain: -inf\n",
      "[LightGBM] [Warning] No further splits with positive gain, best gain: -inf\n",
      "[LightGBM] [Warning] No further splits with positive gain, best gain: -inf\n",
      "[LightGBM] [Warning] No further splits with positive gain, best gain: -inf\n",
      "[LightGBM] [Warning] No further splits with positive gain, best gain: -inf\n",
      "[LightGBM] [Warning] No further splits with positive gain, best gain: -inf\n",
      "[LightGBM] [Warning] No further splits with positive gain, best gain: -inf\n",
      "[LightGBM] [Warning] No further splits with positive gain, best gain: -inf\n",
      "[LightGBM] [Warning] No further splits with positive gain, best gain: -inf\n",
      "[LightGBM] [Warning] No further splits with positive gain, best gain: -inf\n",
      "[LightGBM] [Warning] No further splits with positive gain, best gain: -inf\n",
      "[LightGBM] [Warning] No further splits with positive gain, best gain: -inf\n",
      "[LightGBM] [Warning] No further splits with positive gain, best gain: -inf\n",
      "[LightGBM] [Warning] No further splits with positive gain, best gain: -inf\n",
      "[LightGBM] [Warning] No further splits with positive gain, best gain: -inf\n",
      "[LightGBM] [Warning] No further splits with positive gain, best gain: -inf\n",
      "[LightGBM] [Warning] No further splits with positive gain, best gain: -inf\n",
      "[LightGBM] [Warning] No further splits with positive gain, best gain: -inf\n",
      "[LightGBM] [Warning] No further splits with positive gain, best gain: -inf\n",
      "[LightGBM] [Warning] No further splits with positive gain, best gain: -inf\n",
      "[LightGBM] [Warning] No further splits with positive gain, best gain: -inf\n",
      "[LightGBM] [Warning] No further splits with positive gain, best gain: -inf\n",
      "[LightGBM] [Warning] No further splits with positive gain, best gain: -inf\n",
      "[LightGBM] [Warning] No further splits with positive gain, best gain: -inf\n",
      "[LightGBM] [Warning] No further splits with positive gain, best gain: -inf\n",
      "[LightGBM] [Warning] No further splits with positive gain, best gain: -inf\n",
      "[LightGBM] [Warning] No further splits with positive gain, best gain: -inf\n",
      "[LightGBM] [Warning] No further splits with positive gain, best gain: -inf\n",
      "[LightGBM] [Warning] No further splits with positive gain, best gain: -inf\n",
      "[LightGBM] [Warning] No further splits with positive gain, best gain: -inf\n",
      "[LightGBM] [Warning] No further splits with positive gain, best gain: -inf\n",
      "[LightGBM] [Warning] No further splits with positive gain, best gain: -inf\n",
      "[LightGBM] [Warning] No further splits with positive gain, best gain: -inf\n",
      "[LightGBM] [Warning] No further splits with positive gain, best gain: -inf\n",
      "[LightGBM] [Warning] No further splits with positive gain, best gain: -inf\n",
      "[LightGBM] [Warning] No further splits with positive gain, best gain: -inf\n",
      "[LightGBM] [Warning] No further splits with positive gain, best gain: -inf\n",
      "[LightGBM] [Warning] No further splits with positive gain, best gain: -inf\n",
      "[LightGBM] [Warning] No further splits with positive gain, best gain: -inf\n",
      "[LightGBM] [Warning] No further splits with positive gain, best gain: -inf\n",
      "[LightGBM] [Warning] No further splits with positive gain, best gain: -inf\n",
      "[LightGBM] [Warning] No further splits with positive gain, best gain: -inf\n",
      "[LightGBM] [Warning] No further splits with positive gain, best gain: -inf\n",
      "[LightGBM] [Warning] No further splits with positive gain, best gain: -inf\n",
      "[LightGBM] [Warning] No further splits with positive gain, best gain: -inf\n",
      "[LightGBM] [Warning] No further splits with positive gain, best gain: -inf\n",
      "[LightGBM] [Warning] No further splits with positive gain, best gain: -inf\n",
      "[LightGBM] [Warning] No further splits with positive gain, best gain: -inf\n",
      "[LightGBM] [Warning] No further splits with positive gain, best gain: -inf\n",
      "[LightGBM] [Warning] No further splits with positive gain, best gain: -inf\n",
      "[LightGBM] [Warning] No further splits with positive gain, best gain: -inf\n",
      "[LightGBM] [Warning] No further splits with positive gain, best gain: -inf\n",
      "[LightGBM] [Warning] No further splits with positive gain, best gain: -inf\n",
      "[LightGBM] [Warning] No further splits with positive gain, best gain: -inf\n",
      "[LightGBM] [Warning] No further splits with positive gain, best gain: -inf\n",
      "[LightGBM] [Warning] No further splits with positive gain, best gain: -inf\n",
      "[LightGBM] [Warning] No further splits with positive gain, best gain: -inf\n",
      "[LightGBM] [Warning] No further splits with positive gain, best gain: -inf\n",
      "[LightGBM] [Warning] No further splits with positive gain, best gain: -inf\n",
      "[LightGBM] [Warning] No further splits with positive gain, best gain: -inf\n",
      "[LightGBM] [Warning] No further splits with positive gain, best gain: -inf\n",
      "[LightGBM] [Warning] No further splits with positive gain, best gain: -inf\n",
      "[LightGBM] [Warning] No further splits with positive gain, best gain: -inf\n",
      "[LightGBM] [Warning] No further splits with positive gain, best gain: -inf\n",
      "[LightGBM] [Warning] No further splits with positive gain, best gain: -inf\n",
      "[LightGBM] [Warning] No further splits with positive gain, best gain: -inf\n",
      "[LightGBM] [Warning] No further splits with positive gain, best gain: -inf\n",
      "[LightGBM] [Warning] No further splits with positive gain, best gain: -inf\n",
      "[LightGBM] [Warning] No further splits with positive gain, best gain: -inf\n",
      "[LightGBM] [Warning] No further splits with positive gain, best gain: -inf\n",
      "[LightGBM] [Warning] No further splits with positive gain, best gain: -inf\n",
      "[LightGBM] [Warning] No further splits with positive gain, best gain: -inf\n",
      "[LightGBM] [Warning] No further splits with positive gain, best gain: -inf\n",
      "[LightGBM] [Warning] No further splits with positive gain, best gain: -inf\n",
      "[LightGBM] [Warning] No further splits with positive gain, best gain: -inf\n",
      "[LightGBM] [Warning] No further splits with positive gain, best gain: -inf\n",
      "[LightGBM] [Warning] No further splits with positive gain, best gain: -inf\n",
      "[LightGBM] [Warning] No further splits with positive gain, best gain: -inf\n",
      "[LightGBM] [Warning] No further splits with positive gain, best gain: -inf\n",
      "[LightGBM] [Warning] No further splits with positive gain, best gain: -inf\n",
      "[LightGBM] [Warning] No further splits with positive gain, best gain: -inf\n",
      "[LightGBM] [Warning] No further splits with positive gain, best gain: -inf\n",
      "[LightGBM] [Warning] No further splits with positive gain, best gain: -inf\n",
      "[LightGBM] [Warning] No further splits with positive gain, best gain: -inf\n",
      "[LightGBM] [Warning] No further splits with positive gain, best gain: -inf\n",
      "[LightGBM] [Warning] No further splits with positive gain, best gain: -inf\n",
      "[LightGBM] [Warning] No further splits with positive gain, best gain: -inf\n"
     ]
    },
    {
     "name": "stdout",
     "output_type": "stream",
     "text": [
      "[LightGBM] [Warning] No further splits with positive gain, best gain: -inf\n",
      "[LightGBM] [Warning] No further splits with positive gain, best gain: -inf\n",
      "[LightGBM] [Warning] No further splits with positive gain, best gain: -inf\n",
      "[LightGBM] [Warning] No further splits with positive gain, best gain: -inf\n",
      "[LightGBM] [Warning] No further splits with positive gain, best gain: -inf\n",
      "[LightGBM] [Warning] No further splits with positive gain, best gain: -inf\n",
      "[LightGBM] [Warning] No further splits with positive gain, best gain: -inf\n",
      "[LightGBM] [Warning] No further splits with positive gain, best gain: -inf\n",
      "[LightGBM] [Warning] No further splits with positive gain, best gain: -inf\n",
      "[LightGBM] [Warning] No further splits with positive gain, best gain: -inf\n",
      "[LightGBM] [Warning] No further splits with positive gain, best gain: -inf\n",
      "[LightGBM] [Warning] No further splits with positive gain, best gain: -inf\n",
      "[LightGBM] [Warning] No further splits with positive gain, best gain: -inf\n",
      "[LightGBM] [Warning] No further splits with positive gain, best gain: -inf\n",
      "[LightGBM] [Warning] No further splits with positive gain, best gain: -inf\n",
      "[LightGBM] [Warning] No further splits with positive gain, best gain: -inf\n",
      "[LightGBM] [Warning] No further splits with positive gain, best gain: -inf\n",
      "[LightGBM] [Warning] No further splits with positive gain, best gain: -inf\n",
      "[LightGBM] [Warning] No further splits with positive gain, best gain: -inf\n",
      "[LightGBM] [Warning] No further splits with positive gain, best gain: -inf\n",
      "[LightGBM] [Warning] No further splits with positive gain, best gain: -inf\n",
      "[LightGBM] [Warning] No further splits with positive gain, best gain: -inf\n",
      "[LightGBM] [Warning] No further splits with positive gain, best gain: -inf\n",
      "[LightGBM] [Warning] No further splits with positive gain, best gain: -inf\n",
      "[LightGBM] [Warning] No further splits with positive gain, best gain: -inf\n",
      "[LightGBM] [Warning] No further splits with positive gain, best gain: -inf\n",
      "[LightGBM] [Warning] No further splits with positive gain, best gain: -inf\n",
      "[LightGBM] [Warning] No further splits with positive gain, best gain: -inf\n",
      "[LightGBM] [Warning] No further splits with positive gain, best gain: -inf\n",
      "[LightGBM] [Warning] No further splits with positive gain, best gain: -inf\n",
      "[LightGBM] [Warning] No further splits with positive gain, best gain: -inf\n",
      "[LightGBM] [Warning] No further splits with positive gain, best gain: -inf\n",
      "[LightGBM] [Warning] No further splits with positive gain, best gain: -inf\n",
      "[LightGBM] [Warning] No further splits with positive gain, best gain: -inf\n",
      "[LightGBM] [Warning] No further splits with positive gain, best gain: -inf\n",
      "[LightGBM] [Warning] No further splits with positive gain, best gain: -inf\n",
      "[LightGBM] [Warning] No further splits with positive gain, best gain: -inf\n",
      "[LightGBM] [Warning] No further splits with positive gain, best gain: -inf\n",
      "[LightGBM] [Warning] No further splits with positive gain, best gain: -inf\n",
      "[LightGBM] [Warning] No further splits with positive gain, best gain: -inf\n",
      "[LightGBM] [Warning] No further splits with positive gain, best gain: -inf\n",
      "[LightGBM] [Warning] No further splits with positive gain, best gain: -inf\n",
      "[LightGBM] [Warning] No further splits with positive gain, best gain: -inf\n",
      "[LightGBM] [Warning] No further splits with positive gain, best gain: -inf\n",
      "[LightGBM] [Warning] No further splits with positive gain, best gain: -inf\n",
      "[LightGBM] [Warning] No further splits with positive gain, best gain: -inf\n",
      "[LightGBM] [Warning] No further splits with positive gain, best gain: -inf\n",
      "[LightGBM] [Warning] No further splits with positive gain, best gain: -inf\n",
      "[LightGBM] [Warning] No further splits with positive gain, best gain: -inf\n",
      "[LightGBM] [Warning] No further splits with positive gain, best gain: -inf\n",
      "[LightGBM] [Warning] No further splits with positive gain, best gain: -inf\n",
      "[LightGBM] [Warning] No further splits with positive gain, best gain: -inf\n",
      "[LightGBM] [Warning] No further splits with positive gain, best gain: -inf\n",
      "[LightGBM] [Warning] No further splits with positive gain, best gain: -inf\n",
      "[LightGBM] [Warning] No further splits with positive gain, best gain: -inf\n",
      "[LightGBM] [Warning] No further splits with positive gain, best gain: -inf\n",
      "[LightGBM] [Warning] No further splits with positive gain, best gain: -inf\n",
      "[LightGBM] [Warning] No further splits with positive gain, best gain: -inf\n",
      "[LightGBM] [Warning] No further splits with positive gain, best gain: -inf\n",
      "[LightGBM] [Warning] No further splits with positive gain, best gain: -inf\n",
      "[LightGBM] [Warning] No further splits with positive gain, best gain: -inf\n",
      "[LightGBM] [Warning] No further splits with positive gain, best gain: -inf\n",
      "[LightGBM] [Warning] No further splits with positive gain, best gain: -inf\n",
      "[LightGBM] [Warning] No further splits with positive gain, best gain: -inf\n",
      "[LightGBM] [Warning] No further splits with positive gain, best gain: -inf\n",
      "[LightGBM] [Warning] No further splits with positive gain, best gain: -inf\n",
      "[LightGBM] [Warning] No further splits with positive gain, best gain: -inf\n",
      "[LightGBM] [Warning] No further splits with positive gain, best gain: -inf\n",
      "[LightGBM] [Warning] No further splits with positive gain, best gain: -inf\n",
      "[LightGBM] [Warning] No further splits with positive gain, best gain: -inf\n",
      "[LightGBM] [Warning] No further splits with positive gain, best gain: -inf\n",
      "[LightGBM] [Warning] No further splits with positive gain, best gain: -inf\n",
      "[LightGBM] [Warning] No further splits with positive gain, best gain: -inf\n",
      "[LightGBM] [Warning] No further splits with positive gain, best gain: -inf\n",
      "[LightGBM] [Warning] No further splits with positive gain, best gain: -inf\n",
      "[LightGBM] [Warning] No further splits with positive gain, best gain: -inf\n",
      "[LightGBM] [Warning] No further splits with positive gain, best gain: -inf\n",
      "[LightGBM] [Warning] No further splits with positive gain, best gain: -inf\n",
      "[LightGBM] [Warning] No further splits with positive gain, best gain: -inf\n",
      "[LightGBM] [Warning] No further splits with positive gain, best gain: -inf\n",
      "[LightGBM] [Warning] No further splits with positive gain, best gain: -inf\n",
      "[LightGBM] [Warning] No further splits with positive gain, best gain: -inf\n",
      "[LightGBM] [Warning] No further splits with positive gain, best gain: -inf\n",
      "[LightGBM] [Warning] No further splits with positive gain, best gain: -inf\n",
      "[LightGBM] [Warning] No further splits with positive gain, best gain: -inf\n",
      "[LightGBM] [Warning] No further splits with positive gain, best gain: -inf\n",
      "[LightGBM] [Warning] No further splits with positive gain, best gain: -inf\n",
      "[LightGBM] [Warning] No further splits with positive gain, best gain: -inf\n",
      "[LightGBM] [Warning] No further splits with positive gain, best gain: -inf\n",
      "[LightGBM] [Warning] No further splits with positive gain, best gain: -inf\n",
      "[LightGBM] [Warning] No further splits with positive gain, best gain: -inf\n",
      "[LightGBM] [Warning] No further splits with positive gain, best gain: -inf\n",
      "[LightGBM] [Warning] No further splits with positive gain, best gain: -inf\n",
      "[LightGBM] [Warning] No further splits with positive gain, best gain: -inf\n",
      "[LightGBM] [Warning] No further splits with positive gain, best gain: -inf\n",
      "[LightGBM] [Warning] No further splits with positive gain, best gain: -inf\n",
      "[LightGBM] [Warning] No further splits with positive gain, best gain: -inf\n",
      "[LightGBM] [Warning] No further splits with positive gain, best gain: -inf\n",
      "[LightGBM] [Warning] No further splits with positive gain, best gain: -inf\n",
      "[LightGBM] [Warning] No further splits with positive gain, best gain: -inf\n",
      "[LightGBM] [Warning] No further splits with positive gain, best gain: -inf\n",
      "[LightGBM] [Warning] No further splits with positive gain, best gain: -inf\n",
      "[LightGBM] [Warning] No further splits with positive gain, best gain: -inf\n",
      "[LightGBM] [Warning] No further splits with positive gain, best gain: -inf\n",
      "[LightGBM] [Warning] No further splits with positive gain, best gain: -inf\n",
      "[LightGBM] [Warning] No further splits with positive gain, best gain: -inf\n",
      "[LightGBM] [Warning] No further splits with positive gain, best gain: -inf\n",
      "[LightGBM] [Warning] No further splits with positive gain, best gain: -inf\n",
      "[LightGBM] [Warning] No further splits with positive gain, best gain: -inf\n",
      "[LightGBM] [Warning] No further splits with positive gain, best gain: -inf\n",
      "[LightGBM] [Warning] No further splits with positive gain, best gain: -inf\n",
      "[LightGBM] [Warning] No further splits with positive gain, best gain: -inf\n",
      "[LightGBM] [Warning] No further splits with positive gain, best gain: -inf\n",
      "[LightGBM] [Warning] No further splits with positive gain, best gain: -inf\n",
      "[LightGBM] [Warning] No further splits with positive gain, best gain: -inf\n",
      "[LightGBM] [Warning] No further splits with positive gain, best gain: -inf\n",
      "[LightGBM] [Warning] No further splits with positive gain, best gain: -inf\n",
      "[LightGBM] [Warning] No further splits with positive gain, best gain: -inf\n",
      "[LightGBM] [Warning] No further splits with positive gain, best gain: -inf\n",
      "[LightGBM] [Warning] No further splits with positive gain, best gain: -inf\n",
      "[LightGBM] [Warning] No further splits with positive gain, best gain: -inf\n",
      "[LightGBM] [Warning] No further splits with positive gain, best gain: -inf\n",
      "[LightGBM] [Warning] No further splits with positive gain, best gain: -inf\n",
      "[LightGBM] [Warning] No further splits with positive gain, best gain: -inf\n",
      "[LightGBM] [Warning] No further splits with positive gain, best gain: -inf\n",
      "[LightGBM] [Warning] No further splits with positive gain, best gain: -inf\n",
      "[LightGBM] [Warning] No further splits with positive gain, best gain: -inf\n",
      "[LightGBM] [Warning] No further splits with positive gain, best gain: -inf\n",
      "[LightGBM] [Warning] No further splits with positive gain, best gain: -inf\n",
      "[LightGBM] [Warning] No further splits with positive gain, best gain: -inf\n",
      "[LightGBM] [Warning] No further splits with positive gain, best gain: -inf\n",
      "[LightGBM] [Warning] No further splits with positive gain, best gain: -inf\n",
      "[LightGBM] [Warning] No further splits with positive gain, best gain: -inf\n",
      "[LightGBM] [Warning] No further splits with positive gain, best gain: -inf\n",
      "[LightGBM] [Warning] No further splits with positive gain, best gain: -inf\n"
     ]
    },
    {
     "name": "stdout",
     "output_type": "stream",
     "text": [
      "[LightGBM] [Warning] No further splits with positive gain, best gain: -inf\n",
      "[LightGBM] [Warning] No further splits with positive gain, best gain: -inf\n",
      "[LightGBM] [Warning] No further splits with positive gain, best gain: -inf\n",
      "[LightGBM] [Warning] No further splits with positive gain, best gain: -inf\n",
      "[LightGBM] [Warning] No further splits with positive gain, best gain: -inf\n",
      "[LightGBM] [Warning] No further splits with positive gain, best gain: -inf\n",
      "[LightGBM] [Warning] No further splits with positive gain, best gain: -inf\n",
      "[LightGBM] [Warning] No further splits with positive gain, best gain: -inf\n",
      "[LightGBM] [Warning] No further splits with positive gain, best gain: -inf\n",
      "[LightGBM] [Warning] No further splits with positive gain, best gain: -inf\n",
      "[LightGBM] [Warning] No further splits with positive gain, best gain: -inf\n",
      "[LightGBM] [Warning] No further splits with positive gain, best gain: -inf\n",
      "[LightGBM] [Warning] No further splits with positive gain, best gain: -inf\n",
      "[LightGBM] [Warning] No further splits with positive gain, best gain: -inf\n",
      "[LightGBM] [Warning] No further splits with positive gain, best gain: -inf\n",
      "[LightGBM] [Warning] No further splits with positive gain, best gain: -inf\n",
      "[LightGBM] [Warning] No further splits with positive gain, best gain: -inf\n",
      "[LightGBM] [Warning] No further splits with positive gain, best gain: -inf\n",
      "[LightGBM] [Warning] No further splits with positive gain, best gain: -inf\n",
      "[LightGBM] [Warning] No further splits with positive gain, best gain: -inf\n",
      "[LightGBM] [Warning] No further splits with positive gain, best gain: -inf\n",
      "[LightGBM] [Warning] No further splits with positive gain, best gain: -inf\n",
      "[LightGBM] [Warning] No further splits with positive gain, best gain: -inf\n",
      "[LightGBM] [Warning] No further splits with positive gain, best gain: -inf\n",
      "[LightGBM] [Warning] No further splits with positive gain, best gain: -inf\n",
      "[LightGBM] [Warning] No further splits with positive gain, best gain: -inf\n",
      "[LightGBM] [Warning] No further splits with positive gain, best gain: -inf\n",
      "[LightGBM] [Warning] No further splits with positive gain, best gain: -inf\n",
      "[LightGBM] [Warning] No further splits with positive gain, best gain: -inf\n",
      "[LightGBM] [Warning] No further splits with positive gain, best gain: -inf\n",
      "[LightGBM] [Warning] No further splits with positive gain, best gain: -inf\n",
      "[LightGBM] [Warning] No further splits with positive gain, best gain: -inf\n",
      "[LightGBM] [Warning] No further splits with positive gain, best gain: -inf\n",
      "[LightGBM] [Warning] No further splits with positive gain, best gain: -inf\n",
      "[LightGBM] [Warning] No further splits with positive gain, best gain: -inf\n",
      "[LightGBM] [Warning] No further splits with positive gain, best gain: -inf\n",
      "[LightGBM] [Warning] No further splits with positive gain, best gain: -inf\n",
      "[LightGBM] [Warning] No further splits with positive gain, best gain: -inf\n",
      "[LightGBM] [Warning] No further splits with positive gain, best gain: -inf\n",
      "[LightGBM] [Warning] No further splits with positive gain, best gain: -inf\n",
      "[LightGBM] [Warning] No further splits with positive gain, best gain: -inf\n",
      "[LightGBM] [Warning] No further splits with positive gain, best gain: -inf\n",
      "[LightGBM] [Warning] No further splits with positive gain, best gain: -inf\n",
      "[LightGBM] [Warning] No further splits with positive gain, best gain: -inf\n",
      "[LightGBM] [Warning] No further splits with positive gain, best gain: -inf\n",
      "[LightGBM] [Warning] No further splits with positive gain, best gain: -inf\n",
      "[LightGBM] [Warning] No further splits with positive gain, best gain: -inf\n",
      "[LightGBM] [Warning] No further splits with positive gain, best gain: -inf\n",
      "[LightGBM] [Warning] No further splits with positive gain, best gain: -inf\n",
      "[LightGBM] [Warning] No further splits with positive gain, best gain: -inf\n",
      "[LightGBM] [Warning] No further splits with positive gain, best gain: -inf\n",
      "[LightGBM] [Warning] No further splits with positive gain, best gain: -inf\n",
      "[LightGBM] [Warning] No further splits with positive gain, best gain: -inf\n",
      "[LightGBM] [Warning] No further splits with positive gain, best gain: -inf\n",
      "[LightGBM] [Warning] No further splits with positive gain, best gain: -inf\n",
      "[LightGBM] [Warning] No further splits with positive gain, best gain: -inf\n",
      "[LightGBM] [Warning] No further splits with positive gain, best gain: -inf\n",
      "[LightGBM] [Warning] No further splits with positive gain, best gain: -inf\n",
      "[LightGBM] [Warning] No further splits with positive gain, best gain: -inf\n",
      "[LightGBM] [Warning] No further splits with positive gain, best gain: -inf\n",
      "Best hyperparameters found: {'reg_lambda': 0.6, 'num_leaves': 140, 'n_estimators': 365, 'max_depth': 6, 'learning_rate': 0.08}\n"
     ]
    }
   ],
   "source": [
    "# Fit RandomizedSearchCV (this does tuning but does not re-train your initial model)\n",
    "random_search.fit(X_train_mar, y_train_mar)\n",
    "\n",
    "# Getting the best hyperparameters\n",
    "best_params = random_search.best_params_\n",
    "print(\"Best hyperparameters found:\", best_params)"
   ]
  },
  {
   "cell_type": "code",
   "execution_count": 103,
   "id": "6db59972",
   "metadata": {},
   "outputs": [
    {
     "name": "stdout",
     "output_type": "stream",
     "text": [
      "2.2228341933614137 0.42781246862959177\n"
     ]
    }
   ],
   "source": [
    "# Evaluating performance on the validation set\n",
    "best_rf = random_search.best_estimator_\n",
    "y_val_pred_mar = best_rf.predict(X_val_mar)\n",
    "\n",
    "# Calculate score on validation set\n",
    "print(mean_squared_error(y_val_mar, y_val_pred_mar), r2_score(y_val_mar, y_val_pred_mar))"
   ]
  },
  {
   "cell_type": "markdown",
   "id": "30e91865",
   "metadata": {},
   "source": [
    "Best performance so far!"
   ]
  },
  {
   "cell_type": "code",
   "execution_count": 104,
   "id": "2ade13b0",
   "metadata": {},
   "outputs": [],
   "source": [
    "# Defining the hyperparameter space - attempt 13\n",
    "\n",
    "param_dist = {\n",
    "    'n_estimators': np.arange(360, 400, 10),           \n",
    "    'learning_rate': [0.05, 0.06, 0.07, 0.08],     \n",
    "    'num_leaves': np.arange(120,420,30),\n",
    "    'max_depth': np.arange(3,9,3),\n",
    "    'reg_lambda': [0.6, 0.7, 0.8]\n",
    "}"
   ]
  },
  {
   "cell_type": "code",
   "execution_count": 105,
   "id": "b7497af1",
   "metadata": {},
   "outputs": [],
   "source": [
    "# Settting up the randomised search\n",
    "from sklearn.model_selection import RandomizedSearchCV\n",
    "\n",
    "# Initialize RandomizedSearchCV with the already trained model (for March only) - attempt 13\n",
    "\n",
    "random_search = RandomizedSearchCV(\n",
    "    estimator = model_mar,  # Pre-trained model for March\n",
    "    param_distributions = param_dist,\n",
    "    n_iter = 80,  # Number of random combinations to try\n",
    "    cv = None,    # Can't be used since temporal dependencies are present\n",
    "    scoring ='neg_mean_squared_error',\n",
    "    n_jobs = -1,  # Use all CPU cores\n",
    "    random_state=42\n",
    ")"
   ]
  },
  {
   "cell_type": "code",
   "execution_count": 106,
   "id": "8b329ba9",
   "metadata": {},
   "outputs": [
    {
     "name": "stdout",
     "output_type": "stream",
     "text": [
      "[LightGBM] [Info] Auto-choosing row-wise multi-threading, the overhead of testing was 0.001041 seconds.\n",
      "You can set `force_row_wise=true` to remove the overhead.\n",
      "And if memory is not enough, you can set `force_col_wise=true`.\n",
      "[LightGBM] [Info] Total Bins 1090\n",
      "[LightGBM] [Info] Number of data points in the train set: 58800, number of used features: 227\n",
      "[LightGBM] [Info] Start training from score 1.451037\n",
      "[LightGBM] [Warning] No further splits with positive gain, best gain: -inf\n",
      "[LightGBM] [Warning] No further splits with positive gain, best gain: -inf\n",
      "[LightGBM] [Warning] No further splits with positive gain, best gain: -inf\n",
      "[LightGBM] [Warning] No further splits with positive gain, best gain: -inf\n",
      "[LightGBM] [Warning] No further splits with positive gain, best gain: -inf\n",
      "[LightGBM] [Warning] No further splits with positive gain, best gain: -inf\n",
      "[LightGBM] [Warning] No further splits with positive gain, best gain: -inf\n",
      "[LightGBM] [Warning] No further splits with positive gain, best gain: -inf\n",
      "[LightGBM] [Warning] No further splits with positive gain, best gain: -inf\n",
      "[LightGBM] [Warning] No further splits with positive gain, best gain: -inf\n",
      "[LightGBM] [Warning] No further splits with positive gain, best gain: -inf\n",
      "[LightGBM] [Warning] No further splits with positive gain, best gain: -inf\n",
      "[LightGBM] [Warning] No further splits with positive gain, best gain: -inf\n",
      "[LightGBM] [Warning] No further splits with positive gain, best gain: -inf\n",
      "[LightGBM] [Warning] No further splits with positive gain, best gain: -inf\n",
      "[LightGBM] [Warning] No further splits with positive gain, best gain: -inf\n",
      "[LightGBM] [Warning] No further splits with positive gain, best gain: -inf\n",
      "[LightGBM] [Warning] No further splits with positive gain, best gain: -inf\n",
      "[LightGBM] [Warning] No further splits with positive gain, best gain: -inf\n",
      "[LightGBM] [Warning] No further splits with positive gain, best gain: -inf\n",
      "[LightGBM] [Warning] No further splits with positive gain, best gain: -inf\n",
      "[LightGBM] [Warning] No further splits with positive gain, best gain: -inf\n",
      "[LightGBM] [Warning] No further splits with positive gain, best gain: -inf\n",
      "[LightGBM] [Warning] No further splits with positive gain, best gain: -inf\n",
      "[LightGBM] [Warning] No further splits with positive gain, best gain: -inf\n",
      "[LightGBM] [Warning] No further splits with positive gain, best gain: -inf\n",
      "[LightGBM] [Warning] No further splits with positive gain, best gain: -inf\n",
      "[LightGBM] [Warning] No further splits with positive gain, best gain: -inf\n",
      "[LightGBM] [Warning] No further splits with positive gain, best gain: -inf\n",
      "[LightGBM] [Warning] No further splits with positive gain, best gain: -inf\n",
      "[LightGBM] [Warning] No further splits with positive gain, best gain: -inf\n",
      "[LightGBM] [Warning] No further splits with positive gain, best gain: -inf\n",
      "[LightGBM] [Warning] No further splits with positive gain, best gain: -inf\n",
      "[LightGBM] [Warning] No further splits with positive gain, best gain: -inf\n",
      "[LightGBM] [Warning] No further splits with positive gain, best gain: -inf\n",
      "[LightGBM] [Warning] No further splits with positive gain, best gain: -inf\n",
      "[LightGBM] [Warning] No further splits with positive gain, best gain: -inf\n",
      "[LightGBM] [Warning] No further splits with positive gain, best gain: -inf\n",
      "[LightGBM] [Warning] No further splits with positive gain, best gain: -inf\n",
      "[LightGBM] [Warning] No further splits with positive gain, best gain: -inf\n",
      "[LightGBM] [Warning] No further splits with positive gain, best gain: -inf\n",
      "[LightGBM] [Warning] No further splits with positive gain, best gain: -inf\n",
      "[LightGBM] [Warning] No further splits with positive gain, best gain: -inf\n",
      "[LightGBM] [Warning] No further splits with positive gain, best gain: -inf\n",
      "[LightGBM] [Warning] No further splits with positive gain, best gain: -inf\n",
      "[LightGBM] [Warning] No further splits with positive gain, best gain: -inf\n",
      "[LightGBM] [Warning] No further splits with positive gain, best gain: -inf\n",
      "[LightGBM] [Warning] No further splits with positive gain, best gain: -inf\n",
      "[LightGBM] [Warning] No further splits with positive gain, best gain: -inf\n",
      "[LightGBM] [Warning] No further splits with positive gain, best gain: -inf\n",
      "[LightGBM] [Warning] No further splits with positive gain, best gain: -inf\n",
      "[LightGBM] [Warning] No further splits with positive gain, best gain: -inf\n",
      "[LightGBM] [Warning] No further splits with positive gain, best gain: -inf\n",
      "[LightGBM] [Warning] No further splits with positive gain, best gain: -inf\n",
      "[LightGBM] [Warning] No further splits with positive gain, best gain: -inf\n",
      "[LightGBM] [Warning] No further splits with positive gain, best gain: -inf\n",
      "[LightGBM] [Warning] No further splits with positive gain, best gain: -inf\n",
      "[LightGBM] [Warning] No further splits with positive gain, best gain: -inf\n",
      "[LightGBM] [Warning] No further splits with positive gain, best gain: -inf\n",
      "[LightGBM] [Warning] No further splits with positive gain, best gain: -inf\n",
      "[LightGBM] [Warning] No further splits with positive gain, best gain: -inf\n",
      "[LightGBM] [Warning] No further splits with positive gain, best gain: -inf\n",
      "[LightGBM] [Warning] No further splits with positive gain, best gain: -inf\n",
      "[LightGBM] [Warning] No further splits with positive gain, best gain: -inf\n",
      "[LightGBM] [Warning] No further splits with positive gain, best gain: -inf\n",
      "[LightGBM] [Warning] No further splits with positive gain, best gain: -inf\n",
      "[LightGBM] [Warning] No further splits with positive gain, best gain: -inf\n",
      "[LightGBM] [Warning] No further splits with positive gain, best gain: -inf\n",
      "[LightGBM] [Warning] No further splits with positive gain, best gain: -inf\n",
      "[LightGBM] [Warning] No further splits with positive gain, best gain: -inf\n",
      "[LightGBM] [Warning] No further splits with positive gain, best gain: -inf\n",
      "[LightGBM] [Warning] No further splits with positive gain, best gain: -inf\n",
      "[LightGBM] [Warning] No further splits with positive gain, best gain: -inf\n",
      "[LightGBM] [Warning] No further splits with positive gain, best gain: -inf\n",
      "[LightGBM] [Warning] No further splits with positive gain, best gain: -inf\n",
      "[LightGBM] [Warning] No further splits with positive gain, best gain: -inf\n",
      "[LightGBM] [Warning] No further splits with positive gain, best gain: -inf\n",
      "[LightGBM] [Warning] No further splits with positive gain, best gain: -inf\n",
      "[LightGBM] [Warning] No further splits with positive gain, best gain: -inf\n",
      "[LightGBM] [Warning] No further splits with positive gain, best gain: -inf\n",
      "[LightGBM] [Warning] No further splits with positive gain, best gain: -inf\n",
      "[LightGBM] [Warning] No further splits with positive gain, best gain: -inf\n",
      "[LightGBM] [Warning] No further splits with positive gain, best gain: -inf\n",
      "[LightGBM] [Warning] No further splits with positive gain, best gain: -inf\n",
      "[LightGBM] [Warning] No further splits with positive gain, best gain: -inf\n",
      "[LightGBM] [Warning] No further splits with positive gain, best gain: -inf\n",
      "[LightGBM] [Warning] No further splits with positive gain, best gain: -inf\n",
      "[LightGBM] [Warning] No further splits with positive gain, best gain: -inf\n",
      "[LightGBM] [Warning] No further splits with positive gain, best gain: -inf\n",
      "[LightGBM] [Warning] No further splits with positive gain, best gain: -inf\n",
      "[LightGBM] [Warning] No further splits with positive gain, best gain: -inf\n",
      "[LightGBM] [Warning] No further splits with positive gain, best gain: -inf\n",
      "[LightGBM] [Warning] No further splits with positive gain, best gain: -inf\n",
      "[LightGBM] [Warning] No further splits with positive gain, best gain: -inf\n",
      "[LightGBM] [Warning] No further splits with positive gain, best gain: -inf\n",
      "[LightGBM] [Warning] No further splits with positive gain, best gain: -inf\n",
      "[LightGBM] [Warning] No further splits with positive gain, best gain: -inf\n",
      "[LightGBM] [Warning] No further splits with positive gain, best gain: -inf\n",
      "[LightGBM] [Warning] No further splits with positive gain, best gain: -inf\n",
      "[LightGBM] [Warning] No further splits with positive gain, best gain: -inf\n",
      "[LightGBM] [Warning] No further splits with positive gain, best gain: -inf\n",
      "[LightGBM] [Warning] No further splits with positive gain, best gain: -inf\n",
      "[LightGBM] [Warning] No further splits with positive gain, best gain: -inf\n",
      "[LightGBM] [Warning] No further splits with positive gain, best gain: -inf\n",
      "[LightGBM] [Warning] No further splits with positive gain, best gain: -inf\n",
      "[LightGBM] [Warning] No further splits with positive gain, best gain: -inf\n",
      "[LightGBM] [Warning] No further splits with positive gain, best gain: -inf\n",
      "[LightGBM] [Warning] No further splits with positive gain, best gain: -inf\n",
      "[LightGBM] [Warning] No further splits with positive gain, best gain: -inf\n",
      "[LightGBM] [Warning] No further splits with positive gain, best gain: -inf\n",
      "[LightGBM] [Warning] No further splits with positive gain, best gain: -inf\n",
      "[LightGBM] [Warning] No further splits with positive gain, best gain: -inf\n",
      "[LightGBM] [Warning] No further splits with positive gain, best gain: -inf\n",
      "[LightGBM] [Warning] No further splits with positive gain, best gain: -inf\n",
      "[LightGBM] [Warning] No further splits with positive gain, best gain: -inf\n",
      "[LightGBM] [Warning] No further splits with positive gain, best gain: -inf\n",
      "[LightGBM] [Warning] No further splits with positive gain, best gain: -inf\n",
      "[LightGBM] [Warning] No further splits with positive gain, best gain: -inf\n",
      "[LightGBM] [Warning] No further splits with positive gain, best gain: -inf\n",
      "[LightGBM] [Warning] No further splits with positive gain, best gain: -inf\n",
      "[LightGBM] [Warning] No further splits with positive gain, best gain: -inf\n",
      "[LightGBM] [Warning] No further splits with positive gain, best gain: -inf\n",
      "[LightGBM] [Warning] No further splits with positive gain, best gain: -inf\n",
      "[LightGBM] [Warning] No further splits with positive gain, best gain: -inf\n",
      "[LightGBM] [Warning] No further splits with positive gain, best gain: -inf\n",
      "[LightGBM] [Warning] No further splits with positive gain, best gain: -inf\n",
      "[LightGBM] [Warning] No further splits with positive gain, best gain: -inf\n",
      "[LightGBM] [Warning] No further splits with positive gain, best gain: -inf\n",
      "[LightGBM] [Warning] No further splits with positive gain, best gain: -inf\n",
      "[LightGBM] [Warning] No further splits with positive gain, best gain: -inf\n",
      "[LightGBM] [Warning] No further splits with positive gain, best gain: -inf\n",
      "[LightGBM] [Warning] No further splits with positive gain, best gain: -inf\n",
      "[LightGBM] [Warning] No further splits with positive gain, best gain: -inf\n",
      "[LightGBM] [Warning] No further splits with positive gain, best gain: -inf\n",
      "[LightGBM] [Warning] No further splits with positive gain, best gain: -inf\n",
      "[LightGBM] [Warning] No further splits with positive gain, best gain: -inf\n",
      "[LightGBM] [Warning] No further splits with positive gain, best gain: -inf\n",
      "[LightGBM] [Warning] No further splits with positive gain, best gain: -inf\n",
      "[LightGBM] [Warning] No further splits with positive gain, best gain: -inf\n",
      "[LightGBM] [Warning] No further splits with positive gain, best gain: -inf\n",
      "[LightGBM] [Warning] No further splits with positive gain, best gain: -inf\n",
      "[LightGBM] [Warning] No further splits with positive gain, best gain: -inf\n",
      "[LightGBM] [Warning] No further splits with positive gain, best gain: -inf\n",
      "[LightGBM] [Warning] No further splits with positive gain, best gain: -inf\n",
      "[LightGBM] [Warning] No further splits with positive gain, best gain: -inf\n",
      "[LightGBM] [Warning] No further splits with positive gain, best gain: -inf\n",
      "[LightGBM] [Warning] No further splits with positive gain, best gain: -inf\n",
      "[LightGBM] [Warning] No further splits with positive gain, best gain: -inf\n",
      "[LightGBM] [Warning] No further splits with positive gain, best gain: -inf\n",
      "[LightGBM] [Warning] No further splits with positive gain, best gain: -inf\n",
      "[LightGBM] [Warning] No further splits with positive gain, best gain: -inf\n",
      "[LightGBM] [Warning] No further splits with positive gain, best gain: -inf\n",
      "[LightGBM] [Warning] No further splits with positive gain, best gain: -inf\n",
      "[LightGBM] [Warning] No further splits with positive gain, best gain: -inf\n",
      "[LightGBM] [Warning] No further splits with positive gain, best gain: -inf\n",
      "[LightGBM] [Warning] No further splits with positive gain, best gain: -inf\n",
      "[LightGBM] [Warning] No further splits with positive gain, best gain: -inf\n",
      "[LightGBM] [Warning] No further splits with positive gain, best gain: -inf\n",
      "[LightGBM] [Warning] No further splits with positive gain, best gain: -inf\n",
      "[LightGBM] [Warning] No further splits with positive gain, best gain: -inf\n",
      "[LightGBM] [Warning] No further splits with positive gain, best gain: -inf\n",
      "[LightGBM] [Warning] No further splits with positive gain, best gain: -inf\n",
      "[LightGBM] [Warning] No further splits with positive gain, best gain: -inf\n",
      "[LightGBM] [Warning] No further splits with positive gain, best gain: -inf\n",
      "[LightGBM] [Warning] No further splits with positive gain, best gain: -inf\n",
      "[LightGBM] [Warning] No further splits with positive gain, best gain: -inf\n",
      "[LightGBM] [Warning] No further splits with positive gain, best gain: -inf\n",
      "[LightGBM] [Warning] No further splits with positive gain, best gain: -inf\n",
      "[LightGBM] [Warning] No further splits with positive gain, best gain: -inf\n",
      "[LightGBM] [Warning] No further splits with positive gain, best gain: -inf\n",
      "[LightGBM] [Warning] No further splits with positive gain, best gain: -inf\n",
      "[LightGBM] [Warning] No further splits with positive gain, best gain: -inf\n",
      "[LightGBM] [Warning] No further splits with positive gain, best gain: -inf\n",
      "[LightGBM] [Warning] No further splits with positive gain, best gain: -inf\n",
      "[LightGBM] [Warning] No further splits with positive gain, best gain: -inf\n",
      "[LightGBM] [Warning] No further splits with positive gain, best gain: -inf\n",
      "[LightGBM] [Warning] No further splits with positive gain, best gain: -inf\n",
      "[LightGBM] [Warning] No further splits with positive gain, best gain: -inf\n",
      "[LightGBM] [Warning] No further splits with positive gain, best gain: -inf\n",
      "[LightGBM] [Warning] No further splits with positive gain, best gain: -inf\n",
      "[LightGBM] [Warning] No further splits with positive gain, best gain: -inf\n",
      "[LightGBM] [Warning] No further splits with positive gain, best gain: -inf\n",
      "[LightGBM] [Warning] No further splits with positive gain, best gain: -inf\n",
      "[LightGBM] [Warning] No further splits with positive gain, best gain: -inf\n",
      "[LightGBM] [Warning] No further splits with positive gain, best gain: -inf\n",
      "[LightGBM] [Warning] No further splits with positive gain, best gain: -inf\n",
      "[LightGBM] [Warning] No further splits with positive gain, best gain: -inf\n",
      "[LightGBM] [Warning] No further splits with positive gain, best gain: -inf\n",
      "[LightGBM] [Warning] No further splits with positive gain, best gain: -inf\n",
      "[LightGBM] [Warning] No further splits with positive gain, best gain: -inf\n",
      "[LightGBM] [Warning] No further splits with positive gain, best gain: -inf\n",
      "[LightGBM] [Warning] No further splits with positive gain, best gain: -inf\n",
      "[LightGBM] [Warning] No further splits with positive gain, best gain: -inf\n",
      "[LightGBM] [Warning] No further splits with positive gain, best gain: -inf\n",
      "[LightGBM] [Warning] No further splits with positive gain, best gain: -inf\n",
      "[LightGBM] [Warning] No further splits with positive gain, best gain: -inf\n",
      "[LightGBM] [Warning] No further splits with positive gain, best gain: -inf\n",
      "[LightGBM] [Warning] No further splits with positive gain, best gain: -inf\n",
      "[LightGBM] [Warning] No further splits with positive gain, best gain: -inf\n",
      "[LightGBM] [Warning] No further splits with positive gain, best gain: -inf\n",
      "[LightGBM] [Warning] No further splits with positive gain, best gain: -inf\n",
      "[LightGBM] [Warning] No further splits with positive gain, best gain: -inf\n",
      "[LightGBM] [Warning] No further splits with positive gain, best gain: -inf\n",
      "[LightGBM] [Warning] No further splits with positive gain, best gain: -inf\n",
      "[LightGBM] [Warning] No further splits with positive gain, best gain: -inf\n",
      "[LightGBM] [Warning] No further splits with positive gain, best gain: -inf\n",
      "[LightGBM] [Warning] No further splits with positive gain, best gain: -inf\n",
      "[LightGBM] [Warning] No further splits with positive gain, best gain: -inf\n",
      "[LightGBM] [Warning] No further splits with positive gain, best gain: -inf\n",
      "[LightGBM] [Warning] No further splits with positive gain, best gain: -inf\n",
      "[LightGBM] [Warning] No further splits with positive gain, best gain: -inf\n",
      "[LightGBM] [Warning] No further splits with positive gain, best gain: -inf\n",
      "[LightGBM] [Warning] No further splits with positive gain, best gain: -inf\n",
      "[LightGBM] [Warning] No further splits with positive gain, best gain: -inf\n",
      "[LightGBM] [Warning] No further splits with positive gain, best gain: -inf\n",
      "[LightGBM] [Warning] No further splits with positive gain, best gain: -inf\n",
      "[LightGBM] [Warning] No further splits with positive gain, best gain: -inf\n",
      "[LightGBM] [Warning] No further splits with positive gain, best gain: -inf\n",
      "[LightGBM] [Warning] No further splits with positive gain, best gain: -inf\n",
      "[LightGBM] [Warning] No further splits with positive gain, best gain: -inf\n",
      "[LightGBM] [Warning] No further splits with positive gain, best gain: -inf\n",
      "[LightGBM] [Warning] No further splits with positive gain, best gain: -inf\n",
      "[LightGBM] [Warning] No further splits with positive gain, best gain: -inf\n",
      "[LightGBM] [Warning] No further splits with positive gain, best gain: -inf\n",
      "[LightGBM] [Warning] No further splits with positive gain, best gain: -inf\n",
      "[LightGBM] [Warning] No further splits with positive gain, best gain: -inf\n",
      "[LightGBM] [Warning] No further splits with positive gain, best gain: -inf\n",
      "[LightGBM] [Warning] No further splits with positive gain, best gain: -inf\n",
      "[LightGBM] [Warning] No further splits with positive gain, best gain: -inf\n",
      "[LightGBM] [Warning] No further splits with positive gain, best gain: -inf\n",
      "[LightGBM] [Warning] No further splits with positive gain, best gain: -inf\n",
      "[LightGBM] [Warning] No further splits with positive gain, best gain: -inf\n",
      "[LightGBM] [Warning] No further splits with positive gain, best gain: -inf\n",
      "[LightGBM] [Warning] No further splits with positive gain, best gain: -inf\n",
      "[LightGBM] [Warning] No further splits with positive gain, best gain: -inf\n"
     ]
    },
    {
     "name": "stdout",
     "output_type": "stream",
     "text": [
      "[LightGBM] [Warning] No further splits with positive gain, best gain: -inf\n",
      "[LightGBM] [Warning] No further splits with positive gain, best gain: -inf\n",
      "[LightGBM] [Warning] No further splits with positive gain, best gain: -inf\n",
      "[LightGBM] [Warning] No further splits with positive gain, best gain: -inf\n",
      "[LightGBM] [Warning] No further splits with positive gain, best gain: -inf\n",
      "[LightGBM] [Warning] No further splits with positive gain, best gain: -inf\n",
      "[LightGBM] [Warning] No further splits with positive gain, best gain: -inf\n",
      "[LightGBM] [Warning] No further splits with positive gain, best gain: -inf\n",
      "[LightGBM] [Warning] No further splits with positive gain, best gain: -inf\n",
      "[LightGBM] [Warning] No further splits with positive gain, best gain: -inf\n",
      "[LightGBM] [Warning] No further splits with positive gain, best gain: -inf\n",
      "[LightGBM] [Warning] No further splits with positive gain, best gain: -inf\n",
      "[LightGBM] [Warning] No further splits with positive gain, best gain: -inf\n",
      "[LightGBM] [Warning] No further splits with positive gain, best gain: -inf\n",
      "[LightGBM] [Warning] No further splits with positive gain, best gain: -inf\n",
      "[LightGBM] [Warning] No further splits with positive gain, best gain: -inf\n",
      "[LightGBM] [Warning] No further splits with positive gain, best gain: -inf\n",
      "[LightGBM] [Warning] No further splits with positive gain, best gain: -inf\n",
      "[LightGBM] [Warning] No further splits with positive gain, best gain: -inf\n",
      "[LightGBM] [Warning] No further splits with positive gain, best gain: -inf\n",
      "[LightGBM] [Warning] No further splits with positive gain, best gain: -inf\n",
      "[LightGBM] [Warning] No further splits with positive gain, best gain: -inf\n",
      "[LightGBM] [Warning] No further splits with positive gain, best gain: -inf\n",
      "[LightGBM] [Warning] No further splits with positive gain, best gain: -inf\n",
      "[LightGBM] [Warning] No further splits with positive gain, best gain: -inf\n",
      "[LightGBM] [Warning] No further splits with positive gain, best gain: -inf\n",
      "[LightGBM] [Warning] No further splits with positive gain, best gain: -inf\n",
      "[LightGBM] [Warning] No further splits with positive gain, best gain: -inf\n",
      "[LightGBM] [Warning] No further splits with positive gain, best gain: -inf\n",
      "[LightGBM] [Warning] No further splits with positive gain, best gain: -inf\n",
      "[LightGBM] [Warning] No further splits with positive gain, best gain: -inf\n",
      "[LightGBM] [Warning] No further splits with positive gain, best gain: -inf\n",
      "[LightGBM] [Warning] No further splits with positive gain, best gain: -inf\n",
      "[LightGBM] [Warning] No further splits with positive gain, best gain: -inf\n",
      "[LightGBM] [Warning] No further splits with positive gain, best gain: -inf\n",
      "[LightGBM] [Warning] No further splits with positive gain, best gain: -inf\n",
      "[LightGBM] [Warning] No further splits with positive gain, best gain: -inf\n",
      "[LightGBM] [Warning] No further splits with positive gain, best gain: -inf\n",
      "[LightGBM] [Warning] No further splits with positive gain, best gain: -inf\n",
      "[LightGBM] [Warning] No further splits with positive gain, best gain: -inf\n",
      "[LightGBM] [Warning] No further splits with positive gain, best gain: -inf\n",
      "[LightGBM] [Warning] No further splits with positive gain, best gain: -inf\n",
      "[LightGBM] [Warning] No further splits with positive gain, best gain: -inf\n",
      "[LightGBM] [Warning] No further splits with positive gain, best gain: -inf\n",
      "[LightGBM] [Warning] No further splits with positive gain, best gain: -inf\n",
      "[LightGBM] [Warning] No further splits with positive gain, best gain: -inf\n",
      "[LightGBM] [Warning] No further splits with positive gain, best gain: -inf\n",
      "[LightGBM] [Warning] No further splits with positive gain, best gain: -inf\n",
      "[LightGBM] [Warning] No further splits with positive gain, best gain: -inf\n",
      "[LightGBM] [Warning] No further splits with positive gain, best gain: -inf\n",
      "[LightGBM] [Warning] No further splits with positive gain, best gain: -inf\n",
      "[LightGBM] [Warning] No further splits with positive gain, best gain: -inf\n",
      "[LightGBM] [Warning] No further splits with positive gain, best gain: -inf\n",
      "[LightGBM] [Warning] No further splits with positive gain, best gain: -inf\n",
      "[LightGBM] [Warning] No further splits with positive gain, best gain: -inf\n",
      "[LightGBM] [Warning] No further splits with positive gain, best gain: -inf\n",
      "[LightGBM] [Warning] No further splits with positive gain, best gain: -inf\n",
      "[LightGBM] [Warning] No further splits with positive gain, best gain: -inf\n",
      "[LightGBM] [Warning] No further splits with positive gain, best gain: -inf\n",
      "[LightGBM] [Warning] No further splits with positive gain, best gain: -inf\n",
      "[LightGBM] [Warning] No further splits with positive gain, best gain: -inf\n",
      "[LightGBM] [Warning] No further splits with positive gain, best gain: -inf\n",
      "[LightGBM] [Warning] No further splits with positive gain, best gain: -inf\n",
      "[LightGBM] [Warning] No further splits with positive gain, best gain: -inf\n",
      "[LightGBM] [Warning] No further splits with positive gain, best gain: -inf\n",
      "[LightGBM] [Warning] No further splits with positive gain, best gain: -inf\n",
      "[LightGBM] [Warning] No further splits with positive gain, best gain: -inf\n",
      "[LightGBM] [Warning] No further splits with positive gain, best gain: -inf\n",
      "[LightGBM] [Warning] No further splits with positive gain, best gain: -inf\n",
      "[LightGBM] [Warning] No further splits with positive gain, best gain: -inf\n",
      "[LightGBM] [Warning] No further splits with positive gain, best gain: -inf\n",
      "[LightGBM] [Warning] No further splits with positive gain, best gain: -inf\n",
      "[LightGBM] [Warning] No further splits with positive gain, best gain: -inf\n",
      "[LightGBM] [Warning] No further splits with positive gain, best gain: -inf\n",
      "[LightGBM] [Warning] No further splits with positive gain, best gain: -inf\n",
      "[LightGBM] [Warning] No further splits with positive gain, best gain: -inf\n",
      "[LightGBM] [Warning] No further splits with positive gain, best gain: -inf\n",
      "[LightGBM] [Warning] No further splits with positive gain, best gain: -inf\n",
      "[LightGBM] [Warning] No further splits with positive gain, best gain: -inf\n",
      "[LightGBM] [Warning] No further splits with positive gain, best gain: -inf\n",
      "[LightGBM] [Warning] No further splits with positive gain, best gain: -inf\n",
      "[LightGBM] [Warning] No further splits with positive gain, best gain: -inf\n",
      "[LightGBM] [Warning] No further splits with positive gain, best gain: -inf\n",
      "[LightGBM] [Warning] No further splits with positive gain, best gain: -inf\n",
      "[LightGBM] [Warning] No further splits with positive gain, best gain: -inf\n",
      "[LightGBM] [Warning] No further splits with positive gain, best gain: -inf\n",
      "[LightGBM] [Warning] No further splits with positive gain, best gain: -inf\n",
      "[LightGBM] [Warning] No further splits with positive gain, best gain: -inf\n",
      "[LightGBM] [Warning] No further splits with positive gain, best gain: -inf\n",
      "[LightGBM] [Warning] No further splits with positive gain, best gain: -inf\n",
      "[LightGBM] [Warning] No further splits with positive gain, best gain: -inf\n",
      "[LightGBM] [Warning] No further splits with positive gain, best gain: -inf\n",
      "[LightGBM] [Warning] No further splits with positive gain, best gain: -inf\n",
      "[LightGBM] [Warning] No further splits with positive gain, best gain: -inf\n",
      "[LightGBM] [Warning] No further splits with positive gain, best gain: -inf\n",
      "[LightGBM] [Warning] No further splits with positive gain, best gain: -inf\n",
      "[LightGBM] [Warning] No further splits with positive gain, best gain: -inf\n",
      "[LightGBM] [Warning] No further splits with positive gain, best gain: -inf\n",
      "[LightGBM] [Warning] No further splits with positive gain, best gain: -inf\n",
      "[LightGBM] [Warning] No further splits with positive gain, best gain: -inf\n",
      "[LightGBM] [Warning] No further splits with positive gain, best gain: -inf\n",
      "[LightGBM] [Warning] No further splits with positive gain, best gain: -inf\n",
      "[LightGBM] [Warning] No further splits with positive gain, best gain: -inf\n",
      "[LightGBM] [Warning] No further splits with positive gain, best gain: -inf\n",
      "[LightGBM] [Warning] No further splits with positive gain, best gain: -inf\n",
      "[LightGBM] [Warning] No further splits with positive gain, best gain: -inf\n",
      "[LightGBM] [Warning] No further splits with positive gain, best gain: -inf\n",
      "[LightGBM] [Warning] No further splits with positive gain, best gain: -inf\n",
      "[LightGBM] [Warning] No further splits with positive gain, best gain: -inf\n",
      "[LightGBM] [Warning] No further splits with positive gain, best gain: -inf\n",
      "[LightGBM] [Warning] No further splits with positive gain, best gain: -inf\n",
      "[LightGBM] [Warning] No further splits with positive gain, best gain: -inf\n",
      "[LightGBM] [Warning] No further splits with positive gain, best gain: -inf\n",
      "[LightGBM] [Warning] No further splits with positive gain, best gain: -inf\n",
      "[LightGBM] [Warning] No further splits with positive gain, best gain: -inf\n",
      "[LightGBM] [Warning] No further splits with positive gain, best gain: -inf\n",
      "[LightGBM] [Warning] No further splits with positive gain, best gain: -inf\n",
      "[LightGBM] [Warning] No further splits with positive gain, best gain: -inf\n",
      "[LightGBM] [Warning] No further splits with positive gain, best gain: -inf\n",
      "[LightGBM] [Warning] No further splits with positive gain, best gain: -inf\n",
      "[LightGBM] [Warning] No further splits with positive gain, best gain: -inf\n",
      "[LightGBM] [Warning] No further splits with positive gain, best gain: -inf\n",
      "[LightGBM] [Warning] No further splits with positive gain, best gain: -inf\n",
      "[LightGBM] [Warning] No further splits with positive gain, best gain: -inf\n",
      "[LightGBM] [Warning] No further splits with positive gain, best gain: -inf\n",
      "[LightGBM] [Warning] No further splits with positive gain, best gain: -inf\n",
      "[LightGBM] [Warning] No further splits with positive gain, best gain: -inf\n",
      "[LightGBM] [Warning] No further splits with positive gain, best gain: -inf\n"
     ]
    },
    {
     "name": "stdout",
     "output_type": "stream",
     "text": [
      "[LightGBM] [Warning] No further splits with positive gain, best gain: -inf\n",
      "[LightGBM] [Warning] No further splits with positive gain, best gain: -inf\n",
      "[LightGBM] [Warning] No further splits with positive gain, best gain: -inf\n",
      "[LightGBM] [Warning] No further splits with positive gain, best gain: -inf\n",
      "[LightGBM] [Warning] No further splits with positive gain, best gain: -inf\n",
      "[LightGBM] [Warning] No further splits with positive gain, best gain: -inf\n",
      "[LightGBM] [Warning] No further splits with positive gain, best gain: -inf\n",
      "[LightGBM] [Warning] No further splits with positive gain, best gain: -inf\n",
      "[LightGBM] [Warning] No further splits with positive gain, best gain: -inf\n",
      "[LightGBM] [Warning] No further splits with positive gain, best gain: -inf\n",
      "[LightGBM] [Warning] No further splits with positive gain, best gain: -inf\n",
      "[LightGBM] [Warning] No further splits with positive gain, best gain: -inf\n",
      "[LightGBM] [Warning] No further splits with positive gain, best gain: -inf\n",
      "[LightGBM] [Warning] No further splits with positive gain, best gain: -inf\n",
      "[LightGBM] [Warning] No further splits with positive gain, best gain: -inf\n",
      "[LightGBM] [Warning] No further splits with positive gain, best gain: -inf\n",
      "[LightGBM] [Warning] No further splits with positive gain, best gain: -inf\n",
      "Best hyperparameters found: {'reg_lambda': 0.8, 'num_leaves': 330, 'n_estimators': 380, 'max_depth': 6, 'learning_rate': 0.08}\n"
     ]
    }
   ],
   "source": [
    "# Fit RandomizedSearchCV (this does tuning but does not re-train your initial model)\n",
    "random_search.fit(X_train_mar, y_train_mar)\n",
    "\n",
    "# Getting the best hyperparameters\n",
    "best_params = random_search.best_params_\n",
    "print(\"Best hyperparameters found:\", best_params)"
   ]
  },
  {
   "cell_type": "code",
   "execution_count": 107,
   "id": "a4b37fb3",
   "metadata": {},
   "outputs": [
    {
     "name": "stdout",
     "output_type": "stream",
     "text": [
      "2.259378091661738 0.4184055758358952\n"
     ]
    }
   ],
   "source": [
    "# Evaluating performance on the validation set\n",
    "best_rf = random_search.best_estimator_\n",
    "y_val_pred_mar = best_rf.predict(X_val_mar)\n",
    "\n",
    "# Calculate score on validation set\n",
    "print(mean_squared_error(y_val_mar, y_val_pred_mar), r2_score(y_val_mar, y_val_pred_mar))"
   ]
  },
  {
   "cell_type": "code",
   "execution_count": 108,
   "id": "9e82b193",
   "metadata": {},
   "outputs": [],
   "source": [
    "# Defining the hyperparameter space - attempt 14\n",
    "\n",
    "param_dist = {\n",
    "    'n_estimators': np.arange(360, 420, 10),           \n",
    "    'learning_rate': [0.07, 0.08, 0.09],     \n",
    "    'num_leaves': np.arange(320,400,20),\n",
    "    'max_depth': np.arange(6,15,3),\n",
    "    'reg_lambda': [0.8, 0.9, 1.0]\n",
    "}"
   ]
  },
  {
   "cell_type": "code",
   "execution_count": 109,
   "id": "40174439",
   "metadata": {},
   "outputs": [],
   "source": [
    "# Settting up the randomised search\n",
    "from sklearn.model_selection import RandomizedSearchCV\n",
    "\n",
    "# Initialize RandomizedSearchCV with the already trained model (for March only) - attempt 14\n",
    "\n",
    "random_search = RandomizedSearchCV(\n",
    "    estimator = model_mar,  # Pre-trained model for March\n",
    "    param_distributions = param_dist,\n",
    "    n_iter = 100,  # Number of random combinations to try\n",
    "    cv = None,    # Can't be used since temporal dependencies are present\n",
    "    scoring ='neg_mean_squared_error',\n",
    "    n_jobs = -1,  # Use all CPU cores\n",
    "    random_state=42\n",
    ")"
   ]
  },
  {
   "cell_type": "code",
   "execution_count": 110,
   "id": "7bc40510",
   "metadata": {},
   "outputs": [
    {
     "name": "stdout",
     "output_type": "stream",
     "text": [
      "[LightGBM] [Info] Auto-choosing row-wise multi-threading, the overhead of testing was 0.001000 seconds.\n",
      "You can set `force_row_wise=true` to remove the overhead.\n",
      "And if memory is not enough, you can set `force_col_wise=true`.\n",
      "[LightGBM] [Info] Total Bins 1090\n",
      "[LightGBM] [Info] Number of data points in the train set: 58800, number of used features: 227\n",
      "[LightGBM] [Info] Start training from score 1.451037\n",
      "[LightGBM] [Warning] No further splits with positive gain, best gain: -inf\n",
      "[LightGBM] [Warning] No further splits with positive gain, best gain: -inf\n",
      "[LightGBM] [Warning] No further splits with positive gain, best gain: -inf\n",
      "[LightGBM] [Warning] No further splits with positive gain, best gain: -inf\n",
      "[LightGBM] [Warning] No further splits with positive gain, best gain: -inf\n",
      "[LightGBM] [Warning] No further splits with positive gain, best gain: -inf\n",
      "[LightGBM] [Warning] No further splits with positive gain, best gain: -inf\n",
      "[LightGBM] [Warning] No further splits with positive gain, best gain: -inf\n",
      "[LightGBM] [Warning] No further splits with positive gain, best gain: -inf\n",
      "[LightGBM] [Warning] No further splits with positive gain, best gain: -inf\n",
      "[LightGBM] [Warning] No further splits with positive gain, best gain: -inf\n",
      "[LightGBM] [Warning] No further splits with positive gain, best gain: -inf\n",
      "[LightGBM] [Warning] No further splits with positive gain, best gain: -inf\n",
      "[LightGBM] [Warning] No further splits with positive gain, best gain: -inf\n",
      "[LightGBM] [Warning] No further splits with positive gain, best gain: -inf\n",
      "[LightGBM] [Warning] No further splits with positive gain, best gain: -inf\n",
      "[LightGBM] [Warning] No further splits with positive gain, best gain: -inf\n",
      "[LightGBM] [Warning] No further splits with positive gain, best gain: -inf\n",
      "[LightGBM] [Warning] No further splits with positive gain, best gain: -inf\n",
      "[LightGBM] [Warning] No further splits with positive gain, best gain: -inf\n",
      "[LightGBM] [Warning] No further splits with positive gain, best gain: -inf\n",
      "[LightGBM] [Warning] No further splits with positive gain, best gain: -inf\n",
      "[LightGBM] [Warning] No further splits with positive gain, best gain: -inf\n",
      "[LightGBM] [Warning] No further splits with positive gain, best gain: -inf\n",
      "[LightGBM] [Warning] No further splits with positive gain, best gain: -inf\n",
      "[LightGBM] [Warning] No further splits with positive gain, best gain: -inf\n",
      "[LightGBM] [Warning] No further splits with positive gain, best gain: -inf\n",
      "[LightGBM] [Warning] No further splits with positive gain, best gain: -inf\n",
      "[LightGBM] [Warning] No further splits with positive gain, best gain: -inf\n",
      "[LightGBM] [Warning] No further splits with positive gain, best gain: -inf\n",
      "[LightGBM] [Warning] No further splits with positive gain, best gain: -inf\n",
      "[LightGBM] [Warning] No further splits with positive gain, best gain: -inf\n",
      "[LightGBM] [Warning] No further splits with positive gain, best gain: -inf\n",
      "[LightGBM] [Warning] No further splits with positive gain, best gain: -inf\n",
      "[LightGBM] [Warning] No further splits with positive gain, best gain: -inf\n",
      "[LightGBM] [Warning] No further splits with positive gain, best gain: -inf\n",
      "[LightGBM] [Warning] No further splits with positive gain, best gain: -inf\n",
      "[LightGBM] [Warning] No further splits with positive gain, best gain: -inf\n",
      "[LightGBM] [Warning] No further splits with positive gain, best gain: -inf\n",
      "[LightGBM] [Warning] No further splits with positive gain, best gain: -inf\n",
      "[LightGBM] [Warning] No further splits with positive gain, best gain: -inf\n",
      "[LightGBM] [Warning] No further splits with positive gain, best gain: -inf\n",
      "[LightGBM] [Warning] No further splits with positive gain, best gain: -inf\n",
      "[LightGBM] [Warning] No further splits with positive gain, best gain: -inf\n",
      "[LightGBM] [Warning] No further splits with positive gain, best gain: -inf\n",
      "[LightGBM] [Warning] No further splits with positive gain, best gain: -inf\n",
      "[LightGBM] [Warning] No further splits with positive gain, best gain: -inf\n",
      "[LightGBM] [Warning] No further splits with positive gain, best gain: -inf\n",
      "[LightGBM] [Warning] No further splits with positive gain, best gain: -inf\n",
      "[LightGBM] [Warning] No further splits with positive gain, best gain: -inf\n",
      "[LightGBM] [Warning] No further splits with positive gain, best gain: -inf\n",
      "[LightGBM] [Warning] No further splits with positive gain, best gain: -inf\n",
      "[LightGBM] [Warning] No further splits with positive gain, best gain: -inf\n",
      "[LightGBM] [Warning] No further splits with positive gain, best gain: -inf\n",
      "[LightGBM] [Warning] No further splits with positive gain, best gain: -inf\n",
      "[LightGBM] [Warning] No further splits with positive gain, best gain: -inf\n",
      "[LightGBM] [Warning] No further splits with positive gain, best gain: -inf\n",
      "[LightGBM] [Warning] No further splits with positive gain, best gain: -inf\n",
      "[LightGBM] [Warning] No further splits with positive gain, best gain: -inf\n",
      "[LightGBM] [Warning] No further splits with positive gain, best gain: -inf\n",
      "[LightGBM] [Warning] No further splits with positive gain, best gain: -inf\n",
      "[LightGBM] [Warning] No further splits with positive gain, best gain: -inf\n",
      "[LightGBM] [Warning] No further splits with positive gain, best gain: -inf\n",
      "[LightGBM] [Warning] No further splits with positive gain, best gain: -inf\n",
      "[LightGBM] [Warning] No further splits with positive gain, best gain: -inf\n",
      "[LightGBM] [Warning] No further splits with positive gain, best gain: -inf\n",
      "[LightGBM] [Warning] No further splits with positive gain, best gain: -inf\n",
      "[LightGBM] [Warning] No further splits with positive gain, best gain: -inf\n",
      "[LightGBM] [Warning] No further splits with positive gain, best gain: -inf\n",
      "[LightGBM] [Warning] No further splits with positive gain, best gain: -inf\n",
      "[LightGBM] [Warning] No further splits with positive gain, best gain: -inf\n",
      "[LightGBM] [Warning] No further splits with positive gain, best gain: -inf\n",
      "[LightGBM] [Warning] No further splits with positive gain, best gain: -inf\n",
      "[LightGBM] [Warning] No further splits with positive gain, best gain: -inf\n",
      "[LightGBM] [Warning] No further splits with positive gain, best gain: -inf\n",
      "[LightGBM] [Warning] No further splits with positive gain, best gain: -inf\n",
      "[LightGBM] [Warning] No further splits with positive gain, best gain: -inf\n",
      "[LightGBM] [Warning] No further splits with positive gain, best gain: -inf\n",
      "[LightGBM] [Warning] No further splits with positive gain, best gain: -inf\n",
      "[LightGBM] [Warning] No further splits with positive gain, best gain: -inf\n",
      "[LightGBM] [Warning] No further splits with positive gain, best gain: -inf\n",
      "[LightGBM] [Warning] No further splits with positive gain, best gain: -inf\n",
      "[LightGBM] [Warning] No further splits with positive gain, best gain: -inf\n",
      "[LightGBM] [Warning] No further splits with positive gain, best gain: -inf\n",
      "[LightGBM] [Warning] No further splits with positive gain, best gain: -inf\n",
      "[LightGBM] [Warning] No further splits with positive gain, best gain: -inf\n",
      "[LightGBM] [Warning] No further splits with positive gain, best gain: -inf\n",
      "[LightGBM] [Warning] No further splits with positive gain, best gain: -inf\n",
      "[LightGBM] [Warning] No further splits with positive gain, best gain: -inf\n",
      "[LightGBM] [Warning] No further splits with positive gain, best gain: -inf\n",
      "[LightGBM] [Warning] No further splits with positive gain, best gain: -inf\n",
      "[LightGBM] [Warning] No further splits with positive gain, best gain: -inf\n",
      "[LightGBM] [Warning] No further splits with positive gain, best gain: -inf\n",
      "[LightGBM] [Warning] No further splits with positive gain, best gain: -inf\n",
      "[LightGBM] [Warning] No further splits with positive gain, best gain: -inf\n",
      "[LightGBM] [Warning] No further splits with positive gain, best gain: -inf\n",
      "[LightGBM] [Warning] No further splits with positive gain, best gain: -inf\n",
      "[LightGBM] [Warning] No further splits with positive gain, best gain: -inf\n",
      "[LightGBM] [Warning] No further splits with positive gain, best gain: -inf\n",
      "[LightGBM] [Warning] No further splits with positive gain, best gain: -inf\n",
      "[LightGBM] [Warning] No further splits with positive gain, best gain: -inf\n",
      "[LightGBM] [Warning] No further splits with positive gain, best gain: -inf\n",
      "[LightGBM] [Warning] No further splits with positive gain, best gain: -inf\n",
      "[LightGBM] [Warning] No further splits with positive gain, best gain: -inf\n",
      "[LightGBM] [Warning] No further splits with positive gain, best gain: -inf\n",
      "[LightGBM] [Warning] No further splits with positive gain, best gain: -inf\n",
      "[LightGBM] [Warning] No further splits with positive gain, best gain: -inf\n",
      "[LightGBM] [Warning] No further splits with positive gain, best gain: -inf\n",
      "[LightGBM] [Warning] No further splits with positive gain, best gain: -inf\n",
      "[LightGBM] [Warning] No further splits with positive gain, best gain: -inf\n",
      "[LightGBM] [Warning] No further splits with positive gain, best gain: -inf\n",
      "[LightGBM] [Warning] No further splits with positive gain, best gain: -inf\n",
      "[LightGBM] [Warning] No further splits with positive gain, best gain: -inf\n",
      "[LightGBM] [Warning] No further splits with positive gain, best gain: -inf\n",
      "[LightGBM] [Warning] No further splits with positive gain, best gain: -inf\n",
      "[LightGBM] [Warning] No further splits with positive gain, best gain: -inf\n",
      "[LightGBM] [Warning] No further splits with positive gain, best gain: -inf\n",
      "[LightGBM] [Warning] No further splits with positive gain, best gain: -inf\n",
      "[LightGBM] [Warning] No further splits with positive gain, best gain: -inf\n",
      "[LightGBM] [Warning] No further splits with positive gain, best gain: -inf\n",
      "[LightGBM] [Warning] No further splits with positive gain, best gain: -inf\n",
      "[LightGBM] [Warning] No further splits with positive gain, best gain: -inf\n",
      "[LightGBM] [Warning] No further splits with positive gain, best gain: -inf\n",
      "[LightGBM] [Warning] No further splits with positive gain, best gain: -inf\n",
      "[LightGBM] [Warning] No further splits with positive gain, best gain: -inf\n",
      "[LightGBM] [Warning] No further splits with positive gain, best gain: -inf\n",
      "[LightGBM] [Warning] No further splits with positive gain, best gain: -inf\n",
      "[LightGBM] [Warning] No further splits with positive gain, best gain: -inf\n",
      "[LightGBM] [Warning] No further splits with positive gain, best gain: -inf\n",
      "[LightGBM] [Warning] No further splits with positive gain, best gain: -inf\n",
      "[LightGBM] [Warning] No further splits with positive gain, best gain: -inf\n",
      "[LightGBM] [Warning] No further splits with positive gain, best gain: -inf\n",
      "[LightGBM] [Warning] No further splits with positive gain, best gain: -inf\n",
      "[LightGBM] [Warning] No further splits with positive gain, best gain: -inf\n",
      "[LightGBM] [Warning] No further splits with positive gain, best gain: -inf\n",
      "[LightGBM] [Warning] No further splits with positive gain, best gain: -inf\n",
      "[LightGBM] [Warning] No further splits with positive gain, best gain: -inf\n",
      "[LightGBM] [Warning] No further splits with positive gain, best gain: -inf\n",
      "[LightGBM] [Warning] No further splits with positive gain, best gain: -inf\n",
      "[LightGBM] [Warning] No further splits with positive gain, best gain: -inf\n",
      "[LightGBM] [Warning] No further splits with positive gain, best gain: -inf\n",
      "[LightGBM] [Warning] No further splits with positive gain, best gain: -inf\n",
      "[LightGBM] [Warning] No further splits with positive gain, best gain: -inf\n",
      "[LightGBM] [Warning] No further splits with positive gain, best gain: -inf\n",
      "[LightGBM] [Warning] No further splits with positive gain, best gain: -inf\n",
      "[LightGBM] [Warning] No further splits with positive gain, best gain: -inf\n",
      "[LightGBM] [Warning] No further splits with positive gain, best gain: -inf\n",
      "[LightGBM] [Warning] No further splits with positive gain, best gain: -inf\n",
      "[LightGBM] [Warning] No further splits with positive gain, best gain: -inf\n",
      "[LightGBM] [Warning] No further splits with positive gain, best gain: -inf\n",
      "[LightGBM] [Warning] No further splits with positive gain, best gain: -inf\n",
      "[LightGBM] [Warning] No further splits with positive gain, best gain: -inf\n",
      "[LightGBM] [Warning] No further splits with positive gain, best gain: -inf\n",
      "[LightGBM] [Warning] No further splits with positive gain, best gain: -inf\n",
      "[LightGBM] [Warning] No further splits with positive gain, best gain: -inf\n",
      "[LightGBM] [Warning] No further splits with positive gain, best gain: -inf\n",
      "[LightGBM] [Warning] No further splits with positive gain, best gain: -inf\n",
      "[LightGBM] [Warning] No further splits with positive gain, best gain: -inf\n",
      "[LightGBM] [Warning] No further splits with positive gain, best gain: -inf\n",
      "[LightGBM] [Warning] No further splits with positive gain, best gain: -inf\n",
      "[LightGBM] [Warning] No further splits with positive gain, best gain: -inf\n",
      "[LightGBM] [Warning] No further splits with positive gain, best gain: -inf\n",
      "[LightGBM] [Warning] No further splits with positive gain, best gain: -inf\n",
      "[LightGBM] [Warning] No further splits with positive gain, best gain: -inf\n",
      "[LightGBM] [Warning] No further splits with positive gain, best gain: -inf\n",
      "[LightGBM] [Warning] No further splits with positive gain, best gain: -inf\n",
      "[LightGBM] [Warning] No further splits with positive gain, best gain: -inf\n",
      "[LightGBM] [Warning] No further splits with positive gain, best gain: -inf\n",
      "[LightGBM] [Warning] No further splits with positive gain, best gain: -inf\n",
      "[LightGBM] [Warning] No further splits with positive gain, best gain: -inf\n",
      "[LightGBM] [Warning] No further splits with positive gain, best gain: -inf\n",
      "[LightGBM] [Warning] No further splits with positive gain, best gain: -inf\n",
      "[LightGBM] [Warning] No further splits with positive gain, best gain: -inf\n",
      "[LightGBM] [Warning] No further splits with positive gain, best gain: -inf\n",
      "[LightGBM] [Warning] No further splits with positive gain, best gain: -inf\n",
      "[LightGBM] [Warning] No further splits with positive gain, best gain: -inf\n",
      "[LightGBM] [Warning] No further splits with positive gain, best gain: -inf\n",
      "[LightGBM] [Warning] No further splits with positive gain, best gain: -inf\n",
      "[LightGBM] [Warning] No further splits with positive gain, best gain: -inf\n",
      "[LightGBM] [Warning] No further splits with positive gain, best gain: -inf\n",
      "[LightGBM] [Warning] No further splits with positive gain, best gain: -inf\n",
      "[LightGBM] [Warning] No further splits with positive gain, best gain: -inf\n",
      "[LightGBM] [Warning] No further splits with positive gain, best gain: -inf\n",
      "[LightGBM] [Warning] No further splits with positive gain, best gain: -inf\n",
      "[LightGBM] [Warning] No further splits with positive gain, best gain: -inf\n",
      "[LightGBM] [Warning] No further splits with positive gain, best gain: -inf\n",
      "[LightGBM] [Warning] No further splits with positive gain, best gain: -inf\n",
      "[LightGBM] [Warning] No further splits with positive gain, best gain: -inf\n",
      "[LightGBM] [Warning] No further splits with positive gain, best gain: -inf\n",
      "[LightGBM] [Warning] No further splits with positive gain, best gain: -inf\n",
      "[LightGBM] [Warning] No further splits with positive gain, best gain: -inf\n",
      "[LightGBM] [Warning] No further splits with positive gain, best gain: -inf\n",
      "[LightGBM] [Warning] No further splits with positive gain, best gain: -inf\n",
      "[LightGBM] [Warning] No further splits with positive gain, best gain: -inf\n",
      "[LightGBM] [Warning] No further splits with positive gain, best gain: -inf\n",
      "[LightGBM] [Warning] No further splits with positive gain, best gain: -inf\n",
      "[LightGBM] [Warning] No further splits with positive gain, best gain: -inf\n",
      "[LightGBM] [Warning] No further splits with positive gain, best gain: -inf\n",
      "[LightGBM] [Warning] No further splits with positive gain, best gain: -inf\n",
      "[LightGBM] [Warning] No further splits with positive gain, best gain: -inf\n",
      "[LightGBM] [Warning] No further splits with positive gain, best gain: -inf\n",
      "[LightGBM] [Warning] No further splits with positive gain, best gain: -inf\n",
      "[LightGBM] [Warning] No further splits with positive gain, best gain: -inf\n",
      "[LightGBM] [Warning] No further splits with positive gain, best gain: -inf\n",
      "[LightGBM] [Warning] No further splits with positive gain, best gain: -inf\n",
      "[LightGBM] [Warning] No further splits with positive gain, best gain: -inf\n",
      "[LightGBM] [Warning] No further splits with positive gain, best gain: -inf\n",
      "[LightGBM] [Warning] No further splits with positive gain, best gain: -inf\n",
      "[LightGBM] [Warning] No further splits with positive gain, best gain: -inf\n",
      "[LightGBM] [Warning] No further splits with positive gain, best gain: -inf\n",
      "[LightGBM] [Warning] No further splits with positive gain, best gain: -inf\n",
      "[LightGBM] [Warning] No further splits with positive gain, best gain: -inf\n",
      "[LightGBM] [Warning] No further splits with positive gain, best gain: -inf\n",
      "[LightGBM] [Warning] No further splits with positive gain, best gain: -inf\n",
      "[LightGBM] [Warning] No further splits with positive gain, best gain: -inf\n",
      "[LightGBM] [Warning] No further splits with positive gain, best gain: -inf\n",
      "[LightGBM] [Warning] No further splits with positive gain, best gain: -inf\n",
      "[LightGBM] [Warning] No further splits with positive gain, best gain: -inf\n",
      "[LightGBM] [Warning] No further splits with positive gain, best gain: -inf\n",
      "[LightGBM] [Warning] No further splits with positive gain, best gain: -inf\n",
      "[LightGBM] [Warning] No further splits with positive gain, best gain: -inf\n",
      "[LightGBM] [Warning] No further splits with positive gain, best gain: -inf\n",
      "[LightGBM] [Warning] No further splits with positive gain, best gain: -inf\n",
      "[LightGBM] [Warning] No further splits with positive gain, best gain: -inf\n",
      "[LightGBM] [Warning] No further splits with positive gain, best gain: -inf\n",
      "[LightGBM] [Warning] No further splits with positive gain, best gain: -inf\n",
      "[LightGBM] [Warning] No further splits with positive gain, best gain: -inf\n",
      "[LightGBM] [Warning] No further splits with positive gain, best gain: -inf\n",
      "[LightGBM] [Warning] No further splits with positive gain, best gain: -inf\n",
      "[LightGBM] [Warning] No further splits with positive gain, best gain: -inf\n",
      "[LightGBM] [Warning] No further splits with positive gain, best gain: -inf\n",
      "[LightGBM] [Warning] No further splits with positive gain, best gain: -inf\n",
      "[LightGBM] [Warning] No further splits with positive gain, best gain: -inf\n",
      "[LightGBM] [Warning] No further splits with positive gain, best gain: -inf\n",
      "[LightGBM] [Warning] No further splits with positive gain, best gain: -inf\n",
      "[LightGBM] [Warning] No further splits with positive gain, best gain: -inf\n",
      "[LightGBM] [Warning] No further splits with positive gain, best gain: -inf\n"
     ]
    },
    {
     "name": "stdout",
     "output_type": "stream",
     "text": [
      "[LightGBM] [Warning] No further splits with positive gain, best gain: -inf\n",
      "[LightGBM] [Warning] No further splits with positive gain, best gain: -inf\n",
      "[LightGBM] [Warning] No further splits with positive gain, best gain: -inf\n",
      "[LightGBM] [Warning] No further splits with positive gain, best gain: -inf\n",
      "[LightGBM] [Warning] No further splits with positive gain, best gain: -inf\n",
      "[LightGBM] [Warning] No further splits with positive gain, best gain: -inf\n",
      "[LightGBM] [Warning] No further splits with positive gain, best gain: -inf\n",
      "[LightGBM] [Warning] No further splits with positive gain, best gain: -inf\n",
      "[LightGBM] [Warning] No further splits with positive gain, best gain: -inf\n",
      "[LightGBM] [Warning] No further splits with positive gain, best gain: -inf\n",
      "[LightGBM] [Warning] No further splits with positive gain, best gain: -inf\n",
      "[LightGBM] [Warning] No further splits with positive gain, best gain: -inf\n",
      "[LightGBM] [Warning] No further splits with positive gain, best gain: -inf\n",
      "[LightGBM] [Warning] No further splits with positive gain, best gain: -inf\n",
      "[LightGBM] [Warning] No further splits with positive gain, best gain: -inf\n",
      "[LightGBM] [Warning] No further splits with positive gain, best gain: -inf\n",
      "[LightGBM] [Warning] No further splits with positive gain, best gain: -inf\n",
      "[LightGBM] [Warning] No further splits with positive gain, best gain: -inf\n",
      "[LightGBM] [Warning] No further splits with positive gain, best gain: -inf\n",
      "[LightGBM] [Warning] No further splits with positive gain, best gain: -inf\n",
      "[LightGBM] [Warning] No further splits with positive gain, best gain: -inf\n",
      "[LightGBM] [Warning] No further splits with positive gain, best gain: -inf\n",
      "[LightGBM] [Warning] No further splits with positive gain, best gain: -inf\n",
      "[LightGBM] [Warning] No further splits with positive gain, best gain: -inf\n",
      "[LightGBM] [Warning] No further splits with positive gain, best gain: -inf\n",
      "[LightGBM] [Warning] No further splits with positive gain, best gain: -inf\n",
      "[LightGBM] [Warning] No further splits with positive gain, best gain: -inf\n",
      "[LightGBM] [Warning] No further splits with positive gain, best gain: -inf\n",
      "[LightGBM] [Warning] No further splits with positive gain, best gain: -inf\n",
      "[LightGBM] [Warning] No further splits with positive gain, best gain: -inf\n",
      "[LightGBM] [Warning] No further splits with positive gain, best gain: -inf\n",
      "[LightGBM] [Warning] No further splits with positive gain, best gain: -inf\n",
      "[LightGBM] [Warning] No further splits with positive gain, best gain: -inf\n",
      "[LightGBM] [Warning] No further splits with positive gain, best gain: -inf\n",
      "[LightGBM] [Warning] No further splits with positive gain, best gain: -inf\n",
      "[LightGBM] [Warning] No further splits with positive gain, best gain: -inf\n",
      "[LightGBM] [Warning] No further splits with positive gain, best gain: -inf\n",
      "[LightGBM] [Warning] No further splits with positive gain, best gain: -inf\n",
      "[LightGBM] [Warning] No further splits with positive gain, best gain: -inf\n",
      "[LightGBM] [Warning] No further splits with positive gain, best gain: -inf\n",
      "[LightGBM] [Warning] No further splits with positive gain, best gain: -inf\n",
      "[LightGBM] [Warning] No further splits with positive gain, best gain: -inf\n",
      "[LightGBM] [Warning] No further splits with positive gain, best gain: -inf\n",
      "[LightGBM] [Warning] No further splits with positive gain, best gain: -inf\n",
      "[LightGBM] [Warning] No further splits with positive gain, best gain: -inf\n",
      "[LightGBM] [Warning] No further splits with positive gain, best gain: -inf\n",
      "[LightGBM] [Warning] No further splits with positive gain, best gain: -inf\n",
      "[LightGBM] [Warning] No further splits with positive gain, best gain: -inf\n",
      "[LightGBM] [Warning] No further splits with positive gain, best gain: -inf\n",
      "[LightGBM] [Warning] No further splits with positive gain, best gain: -inf\n",
      "[LightGBM] [Warning] No further splits with positive gain, best gain: -inf\n",
      "[LightGBM] [Warning] No further splits with positive gain, best gain: -inf\n",
      "[LightGBM] [Warning] No further splits with positive gain, best gain: -inf\n",
      "[LightGBM] [Warning] No further splits with positive gain, best gain: -inf\n",
      "[LightGBM] [Warning] No further splits with positive gain, best gain: -inf\n",
      "[LightGBM] [Warning] No further splits with positive gain, best gain: -inf\n",
      "[LightGBM] [Warning] No further splits with positive gain, best gain: -inf\n",
      "[LightGBM] [Warning] No further splits with positive gain, best gain: -inf\n",
      "[LightGBM] [Warning] No further splits with positive gain, best gain: -inf\n",
      "[LightGBM] [Warning] No further splits with positive gain, best gain: -inf\n",
      "[LightGBM] [Warning] No further splits with positive gain, best gain: -inf\n",
      "[LightGBM] [Warning] No further splits with positive gain, best gain: -inf\n",
      "[LightGBM] [Warning] No further splits with positive gain, best gain: -inf\n",
      "[LightGBM] [Warning] No further splits with positive gain, best gain: -inf\n",
      "[LightGBM] [Warning] No further splits with positive gain, best gain: -inf\n",
      "[LightGBM] [Warning] No further splits with positive gain, best gain: -inf\n",
      "[LightGBM] [Warning] No further splits with positive gain, best gain: -inf\n",
      "[LightGBM] [Warning] No further splits with positive gain, best gain: -inf\n",
      "[LightGBM] [Warning] No further splits with positive gain, best gain: -inf\n",
      "[LightGBM] [Warning] No further splits with positive gain, best gain: -inf\n",
      "[LightGBM] [Warning] No further splits with positive gain, best gain: -inf\n",
      "[LightGBM] [Warning] No further splits with positive gain, best gain: -inf\n",
      "[LightGBM] [Warning] No further splits with positive gain, best gain: -inf\n",
      "[LightGBM] [Warning] No further splits with positive gain, best gain: -inf\n",
      "[LightGBM] [Warning] No further splits with positive gain, best gain: -inf\n",
      "[LightGBM] [Warning] No further splits with positive gain, best gain: -inf\n",
      "[LightGBM] [Warning] No further splits with positive gain, best gain: -inf\n",
      "[LightGBM] [Warning] No further splits with positive gain, best gain: -inf\n",
      "[LightGBM] [Warning] No further splits with positive gain, best gain: -inf\n",
      "[LightGBM] [Warning] No further splits with positive gain, best gain: -inf\n",
      "[LightGBM] [Warning] No further splits with positive gain, best gain: -inf\n",
      "[LightGBM] [Warning] No further splits with positive gain, best gain: -inf\n",
      "[LightGBM] [Warning] No further splits with positive gain, best gain: -inf\n",
      "[LightGBM] [Warning] No further splits with positive gain, best gain: -inf\n",
      "[LightGBM] [Warning] No further splits with positive gain, best gain: -inf\n",
      "[LightGBM] [Warning] No further splits with positive gain, best gain: -inf\n",
      "[LightGBM] [Warning] No further splits with positive gain, best gain: -inf\n",
      "[LightGBM] [Warning] No further splits with positive gain, best gain: -inf\n",
      "[LightGBM] [Warning] No further splits with positive gain, best gain: -inf\n",
      "[LightGBM] [Warning] No further splits with positive gain, best gain: -inf\n",
      "[LightGBM] [Warning] No further splits with positive gain, best gain: -inf\n",
      "[LightGBM] [Warning] No further splits with positive gain, best gain: -inf\n",
      "[LightGBM] [Warning] No further splits with positive gain, best gain: -inf\n",
      "[LightGBM] [Warning] No further splits with positive gain, best gain: -inf\n",
      "[LightGBM] [Warning] No further splits with positive gain, best gain: -inf\n",
      "[LightGBM] [Warning] No further splits with positive gain, best gain: -inf\n",
      "[LightGBM] [Warning] No further splits with positive gain, best gain: -inf\n",
      "[LightGBM] [Warning] No further splits with positive gain, best gain: -inf\n",
      "[LightGBM] [Warning] No further splits with positive gain, best gain: -inf\n",
      "[LightGBM] [Warning] No further splits with positive gain, best gain: -inf\n",
      "[LightGBM] [Warning] No further splits with positive gain, best gain: -inf\n",
      "[LightGBM] [Warning] No further splits with positive gain, best gain: -inf\n",
      "[LightGBM] [Warning] No further splits with positive gain, best gain: -inf\n",
      "[LightGBM] [Warning] No further splits with positive gain, best gain: -inf\n",
      "[LightGBM] [Warning] No further splits with positive gain, best gain: -inf\n",
      "[LightGBM] [Warning] No further splits with positive gain, best gain: -inf\n",
      "[LightGBM] [Warning] No further splits with positive gain, best gain: -inf\n",
      "[LightGBM] [Warning] No further splits with positive gain, best gain: -inf\n",
      "[LightGBM] [Warning] No further splits with positive gain, best gain: -inf\n",
      "[LightGBM] [Warning] No further splits with positive gain, best gain: -inf\n",
      "[LightGBM] [Warning] No further splits with positive gain, best gain: -inf\n",
      "[LightGBM] [Warning] No further splits with positive gain, best gain: -inf\n",
      "[LightGBM] [Warning] No further splits with positive gain, best gain: -inf\n",
      "[LightGBM] [Warning] No further splits with positive gain, best gain: -inf\n",
      "[LightGBM] [Warning] No further splits with positive gain, best gain: -inf\n",
      "[LightGBM] [Warning] No further splits with positive gain, best gain: -inf\n",
      "[LightGBM] [Warning] No further splits with positive gain, best gain: -inf\n",
      "[LightGBM] [Warning] No further splits with positive gain, best gain: -inf\n",
      "[LightGBM] [Warning] No further splits with positive gain, best gain: -inf\n",
      "[LightGBM] [Warning] No further splits with positive gain, best gain: -inf\n",
      "[LightGBM] [Warning] No further splits with positive gain, best gain: -inf\n",
      "[LightGBM] [Warning] No further splits with positive gain, best gain: -inf\n",
      "[LightGBM] [Warning] No further splits with positive gain, best gain: -inf\n",
      "[LightGBM] [Warning] No further splits with positive gain, best gain: -inf\n",
      "[LightGBM] [Warning] No further splits with positive gain, best gain: -inf\n",
      "[LightGBM] [Warning] No further splits with positive gain, best gain: -inf\n",
      "[LightGBM] [Warning] No further splits with positive gain, best gain: -inf\n",
      "[LightGBM] [Warning] No further splits with positive gain, best gain: -inf\n",
      "[LightGBM] [Warning] No further splits with positive gain, best gain: -inf\n",
      "[LightGBM] [Warning] No further splits with positive gain, best gain: -inf\n",
      "[LightGBM] [Warning] No further splits with positive gain, best gain: -inf\n",
      "[LightGBM] [Warning] No further splits with positive gain, best gain: -inf\n",
      "[LightGBM] [Warning] No further splits with positive gain, best gain: -inf\n",
      "[LightGBM] [Warning] No further splits with positive gain, best gain: -inf\n",
      "[LightGBM] [Warning] No further splits with positive gain, best gain: -inf\n",
      "[LightGBM] [Warning] No further splits with positive gain, best gain: -inf\n",
      "[LightGBM] [Warning] No further splits with positive gain, best gain: -inf\n"
     ]
    },
    {
     "name": "stdout",
     "output_type": "stream",
     "text": [
      "[LightGBM] [Warning] No further splits with positive gain, best gain: -inf\n",
      "[LightGBM] [Warning] No further splits with positive gain, best gain: -inf\n",
      "[LightGBM] [Warning] No further splits with positive gain, best gain: -inf\n",
      "[LightGBM] [Warning] No further splits with positive gain, best gain: -inf\n",
      "[LightGBM] [Warning] No further splits with positive gain, best gain: -inf\n",
      "[LightGBM] [Warning] No further splits with positive gain, best gain: -inf\n",
      "[LightGBM] [Warning] No further splits with positive gain, best gain: -inf\n",
      "[LightGBM] [Warning] No further splits with positive gain, best gain: -inf\n",
      "[LightGBM] [Warning] No further splits with positive gain, best gain: -inf\n",
      "[LightGBM] [Warning] No further splits with positive gain, best gain: -inf\n",
      "[LightGBM] [Warning] No further splits with positive gain, best gain: -inf\n",
      "[LightGBM] [Warning] No further splits with positive gain, best gain: -inf\n",
      "[LightGBM] [Warning] No further splits with positive gain, best gain: -inf\n",
      "[LightGBM] [Warning] No further splits with positive gain, best gain: -inf\n",
      "[LightGBM] [Warning] No further splits with positive gain, best gain: -inf\n",
      "[LightGBM] [Warning] No further splits with positive gain, best gain: -inf\n",
      "[LightGBM] [Warning] No further splits with positive gain, best gain: -inf\n",
      "[LightGBM] [Warning] No further splits with positive gain, best gain: -inf\n",
      "[LightGBM] [Warning] No further splits with positive gain, best gain: -inf\n",
      "[LightGBM] [Warning] No further splits with positive gain, best gain: -inf\n",
      "[LightGBM] [Warning] No further splits with positive gain, best gain: -inf\n",
      "[LightGBM] [Warning] No further splits with positive gain, best gain: -inf\n",
      "[LightGBM] [Warning] No further splits with positive gain, best gain: -inf\n",
      "[LightGBM] [Warning] No further splits with positive gain, best gain: -inf\n",
      "[LightGBM] [Warning] No further splits with positive gain, best gain: -inf\n",
      "[LightGBM] [Warning] No further splits with positive gain, best gain: -inf\n",
      "Best hyperparameters found: {'reg_lambda': 0.8, 'num_leaves': 320, 'n_estimators': 400, 'max_depth': 6, 'learning_rate': 0.08}\n"
     ]
    }
   ],
   "source": [
    "# Fit RandomizedSearchCV (this does tuning but does not re-train your initial model)\n",
    "random_search.fit(X_train_mar, y_train_mar)\n",
    "\n",
    "# Getting the best hyperparameters\n",
    "best_params = random_search.best_params_\n",
    "print(\"Best hyperparameters found:\", best_params)"
   ]
  },
  {
   "cell_type": "code",
   "execution_count": 111,
   "id": "2c55a886",
   "metadata": {},
   "outputs": [
    {
     "name": "stdout",
     "output_type": "stream",
     "text": [
      "2.2536222730155586 0.4198872012634729\n"
     ]
    }
   ],
   "source": [
    "# Evaluating performance on the validation set\n",
    "best_rf = random_search.best_estimator_\n",
    "y_val_pred_mar = best_rf.predict(X_val_mar)\n",
    "\n",
    "# Calculate score on validation set\n",
    "print(mean_squared_error(y_val_mar, y_val_pred_mar), r2_score(y_val_mar, y_val_pred_mar))"
   ]
  },
  {
   "cell_type": "markdown",
   "id": "fe5ba2a8",
   "metadata": {},
   "source": [
    "## Testing performance on test set - Tuned Model"
   ]
  },
  {
   "cell_type": "code",
   "execution_count": 83,
   "id": "24b4e3b1",
   "metadata": {},
   "outputs": [
    {
     "name": "stdout",
     "output_type": "stream",
     "text": [
      "[LightGBM] [Info] Auto-choosing col-wise multi-threading, the overhead of testing was 0.004461 seconds.\n",
      "You can set `force_col_wise=true` to remove the overhead.\n",
      "[LightGBM] [Info] Total Bins 1090\n",
      "[LightGBM] [Info] Number of data points in the train set: 58800, number of used features: 227\n",
      "[LightGBM] [Info] Start training from score 1.451037\n",
      "[LightGBM] [Info] Auto-choosing row-wise multi-threading, the overhead of testing was 0.000888 seconds.\n",
      "You can set `force_row_wise=true` to remove the overhead.\n",
      "And if memory is not enough, you can set `force_col_wise=true`.\n",
      "[LightGBM] [Info] Total Bins 1113\n",
      "[LightGBM] [Info] Number of data points in the train set: 58800, number of used features: 227\n",
      "[LightGBM] [Info] Start training from score 1.674524\n",
      "2.916589988060225 0.5690824411104614\n",
      "4.447067877573333 0.5729795897468821\n"
     ]
    }
   ],
   "source": [
    "# Training performance for March\n",
    "model_mar = LGBMRegressor(learning_rate = 0.1, reg_lambda = 0.5, num_leaves=30, n_estimators=340, max_depth=25, random_state=2)\n",
    "model_mar.fit(X_train_mar, y_train_mar)\n",
    "\n",
    "# Testing performance for March\n",
    "y_test_pred_mar = model_mar.predict(X_test_mar)\n",
    "\n",
    "# Training performance for April\n",
    "model_apr = LGBMRegressor(learning_rate = 0.1, reg_lambda = 0.5, num_leaves=30, n_estimators=340, max_depth=25, random_state=2)\n",
    "model_apr.fit(X_train_apr, y_train_apr)\n",
    "\n",
    "# Testing performance for April\n",
    "y_test_pred_apr = model_apr.predict(X_test_apr)\n",
    "\n",
    "# Scores\n",
    "print(mean_squared_error(y_test_mar, y_test_pred_mar), r2_score(y_test_mar, y_test_pred_mar))\n",
    "print(mean_squared_error(y_test_apr, y_test_pred_apr), r2_score(y_test_apr, y_test_pred_apr))"
   ]
  },
  {
   "cell_type": "code",
   "execution_count": 112,
   "id": "58d76ded",
   "metadata": {},
   "outputs": [
    {
     "name": "stdout",
     "output_type": "stream",
     "text": [
      "[LightGBM] [Info] Auto-choosing row-wise multi-threading, the overhead of testing was 0.000992 seconds.\n",
      "You can set `force_row_wise=true` to remove the overhead.\n",
      "And if memory is not enough, you can set `force_col_wise=true`.\n",
      "[LightGBM] [Info] Total Bins 1090\n",
      "[LightGBM] [Info] Number of data points in the train set: 58800, number of used features: 227\n",
      "[LightGBM] [Info] Start training from score 1.451037\n",
      "[LightGBM] [Warning] No further splits with positive gain, best gain: -inf\n",
      "[LightGBM] [Warning] No further splits with positive gain, best gain: -inf\n",
      "[LightGBM] [Warning] No further splits with positive gain, best gain: -inf\n",
      "[LightGBM] [Warning] No further splits with positive gain, best gain: -inf\n",
      "[LightGBM] [Warning] No further splits with positive gain, best gain: -inf\n",
      "[LightGBM] [Warning] No further splits with positive gain, best gain: -inf\n",
      "[LightGBM] [Warning] No further splits with positive gain, best gain: -inf\n",
      "[LightGBM] [Warning] No further splits with positive gain, best gain: -inf\n",
      "[LightGBM] [Warning] No further splits with positive gain, best gain: -inf\n",
      "[LightGBM] [Warning] No further splits with positive gain, best gain: -inf\n",
      "[LightGBM] [Warning] No further splits with positive gain, best gain: -inf\n",
      "[LightGBM] [Warning] No further splits with positive gain, best gain: -inf\n",
      "[LightGBM] [Warning] No further splits with positive gain, best gain: -inf\n",
      "[LightGBM] [Warning] No further splits with positive gain, best gain: -inf\n",
      "[LightGBM] [Warning] No further splits with positive gain, best gain: -inf\n",
      "[LightGBM] [Warning] No further splits with positive gain, best gain: -inf\n",
      "[LightGBM] [Warning] No further splits with positive gain, best gain: -inf\n",
      "[LightGBM] [Warning] No further splits with positive gain, best gain: -inf\n",
      "[LightGBM] [Warning] No further splits with positive gain, best gain: -inf\n",
      "[LightGBM] [Warning] No further splits with positive gain, best gain: -inf\n",
      "[LightGBM] [Warning] No further splits with positive gain, best gain: -inf\n",
      "[LightGBM] [Warning] No further splits with positive gain, best gain: -inf\n",
      "[LightGBM] [Warning] No further splits with positive gain, best gain: -inf\n",
      "[LightGBM] [Warning] No further splits with positive gain, best gain: -inf\n",
      "[LightGBM] [Warning] No further splits with positive gain, best gain: -inf\n",
      "[LightGBM] [Warning] No further splits with positive gain, best gain: -inf\n",
      "[LightGBM] [Warning] No further splits with positive gain, best gain: -inf\n",
      "[LightGBM] [Warning] No further splits with positive gain, best gain: -inf\n",
      "[LightGBM] [Warning] No further splits with positive gain, best gain: -inf\n",
      "[LightGBM] [Warning] No further splits with positive gain, best gain: -inf\n",
      "[LightGBM] [Warning] No further splits with positive gain, best gain: -inf\n",
      "[LightGBM] [Warning] No further splits with positive gain, best gain: -inf\n",
      "[LightGBM] [Warning] No further splits with positive gain, best gain: -inf\n",
      "[LightGBM] [Warning] No further splits with positive gain, best gain: -inf\n",
      "[LightGBM] [Warning] No further splits with positive gain, best gain: -inf\n",
      "[LightGBM] [Warning] No further splits with positive gain, best gain: -inf\n",
      "[LightGBM] [Warning] No further splits with positive gain, best gain: -inf\n",
      "[LightGBM] [Warning] No further splits with positive gain, best gain: -inf\n",
      "[LightGBM] [Warning] No further splits with positive gain, best gain: -inf\n",
      "[LightGBM] [Warning] No further splits with positive gain, best gain: -inf\n",
      "[LightGBM] [Warning] No further splits with positive gain, best gain: -inf\n",
      "[LightGBM] [Warning] No further splits with positive gain, best gain: -inf\n",
      "[LightGBM] [Warning] No further splits with positive gain, best gain: -inf\n",
      "[LightGBM] [Warning] No further splits with positive gain, best gain: -inf\n",
      "[LightGBM] [Warning] No further splits with positive gain, best gain: -inf\n",
      "[LightGBM] [Warning] No further splits with positive gain, best gain: -inf\n",
      "[LightGBM] [Warning] No further splits with positive gain, best gain: -inf\n",
      "[LightGBM] [Warning] No further splits with positive gain, best gain: -inf\n",
      "[LightGBM] [Warning] No further splits with positive gain, best gain: -inf\n",
      "[LightGBM] [Warning] No further splits with positive gain, best gain: -inf\n",
      "[LightGBM] [Warning] No further splits with positive gain, best gain: -inf\n",
      "[LightGBM] [Warning] No further splits with positive gain, best gain: -inf\n",
      "[LightGBM] [Warning] No further splits with positive gain, best gain: -inf\n",
      "[LightGBM] [Warning] No further splits with positive gain, best gain: -inf\n",
      "[LightGBM] [Warning] No further splits with positive gain, best gain: -inf\n",
      "[LightGBM] [Warning] No further splits with positive gain, best gain: -inf\n",
      "[LightGBM] [Warning] No further splits with positive gain, best gain: -inf\n",
      "[LightGBM] [Warning] No further splits with positive gain, best gain: -inf\n",
      "[LightGBM] [Warning] No further splits with positive gain, best gain: -inf\n",
      "[LightGBM] [Warning] No further splits with positive gain, best gain: -inf\n",
      "[LightGBM] [Warning] No further splits with positive gain, best gain: -inf\n",
      "[LightGBM] [Warning] No further splits with positive gain, best gain: -inf\n",
      "[LightGBM] [Warning] No further splits with positive gain, best gain: -inf\n",
      "[LightGBM] [Warning] No further splits with positive gain, best gain: -inf\n",
      "[LightGBM] [Warning] No further splits with positive gain, best gain: -inf\n",
      "[LightGBM] [Warning] No further splits with positive gain, best gain: -inf\n",
      "[LightGBM] [Warning] No further splits with positive gain, best gain: -inf\n",
      "[LightGBM] [Warning] No further splits with positive gain, best gain: -inf\n",
      "[LightGBM] [Warning] No further splits with positive gain, best gain: -inf\n",
      "[LightGBM] [Warning] No further splits with positive gain, best gain: -inf\n",
      "[LightGBM] [Warning] No further splits with positive gain, best gain: -inf\n",
      "[LightGBM] [Warning] No further splits with positive gain, best gain: -inf\n",
      "[LightGBM] [Warning] No further splits with positive gain, best gain: -inf\n",
      "[LightGBM] [Warning] No further splits with positive gain, best gain: -inf\n",
      "[LightGBM] [Warning] No further splits with positive gain, best gain: -inf\n",
      "[LightGBM] [Warning] No further splits with positive gain, best gain: -inf\n",
      "[LightGBM] [Warning] No further splits with positive gain, best gain: -inf\n",
      "[LightGBM] [Warning] No further splits with positive gain, best gain: -inf\n",
      "[LightGBM] [Warning] No further splits with positive gain, best gain: -inf\n",
      "[LightGBM] [Warning] No further splits with positive gain, best gain: -inf\n",
      "[LightGBM] [Warning] No further splits with positive gain, best gain: -inf\n",
      "[LightGBM] [Warning] No further splits with positive gain, best gain: -inf\n",
      "[LightGBM] [Warning] No further splits with positive gain, best gain: -inf\n",
      "[LightGBM] [Warning] No further splits with positive gain, best gain: -inf\n",
      "[LightGBM] [Warning] No further splits with positive gain, best gain: -inf\n",
      "[LightGBM] [Warning] No further splits with positive gain, best gain: -inf\n",
      "[LightGBM] [Warning] No further splits with positive gain, best gain: -inf\n",
      "[LightGBM] [Warning] No further splits with positive gain, best gain: -inf\n",
      "[LightGBM] [Warning] No further splits with positive gain, best gain: -inf\n",
      "[LightGBM] [Warning] No further splits with positive gain, best gain: -inf\n",
      "[LightGBM] [Warning] No further splits with positive gain, best gain: -inf\n",
      "[LightGBM] [Warning] No further splits with positive gain, best gain: -inf\n",
      "[LightGBM] [Warning] No further splits with positive gain, best gain: -inf\n",
      "[LightGBM] [Warning] No further splits with positive gain, best gain: -inf\n",
      "[LightGBM] [Warning] No further splits with positive gain, best gain: -inf\n",
      "[LightGBM] [Warning] No further splits with positive gain, best gain: -inf\n",
      "[LightGBM] [Warning] No further splits with positive gain, best gain: -inf\n",
      "[LightGBM] [Warning] No further splits with positive gain, best gain: -inf\n",
      "[LightGBM] [Warning] No further splits with positive gain, best gain: -inf\n",
      "[LightGBM] [Warning] No further splits with positive gain, best gain: -inf\n",
      "[LightGBM] [Warning] No further splits with positive gain, best gain: -inf\n",
      "[LightGBM] [Warning] No further splits with positive gain, best gain: -inf\n",
      "[LightGBM] [Warning] No further splits with positive gain, best gain: -inf\n",
      "[LightGBM] [Warning] No further splits with positive gain, best gain: -inf\n",
      "[LightGBM] [Warning] No further splits with positive gain, best gain: -inf\n",
      "[LightGBM] [Warning] No further splits with positive gain, best gain: -inf\n",
      "[LightGBM] [Warning] No further splits with positive gain, best gain: -inf\n",
      "[LightGBM] [Warning] No further splits with positive gain, best gain: -inf\n",
      "[LightGBM] [Warning] No further splits with positive gain, best gain: -inf\n",
      "[LightGBM] [Warning] No further splits with positive gain, best gain: -inf\n"
     ]
    },
    {
     "name": "stdout",
     "output_type": "stream",
     "text": [
      "[LightGBM] [Warning] No further splits with positive gain, best gain: -inf\n",
      "[LightGBM] [Warning] No further splits with positive gain, best gain: -inf\n",
      "[LightGBM] [Warning] No further splits with positive gain, best gain: -inf\n",
      "[LightGBM] [Warning] No further splits with positive gain, best gain: -inf\n",
      "[LightGBM] [Warning] No further splits with positive gain, best gain: -inf\n",
      "[LightGBM] [Warning] No further splits with positive gain, best gain: -inf\n",
      "[LightGBM] [Warning] No further splits with positive gain, best gain: -inf\n",
      "[LightGBM] [Warning] No further splits with positive gain, best gain: -inf\n",
      "[LightGBM] [Warning] No further splits with positive gain, best gain: -inf\n",
      "[LightGBM] [Warning] No further splits with positive gain, best gain: -inf\n",
      "[LightGBM] [Warning] No further splits with positive gain, best gain: -inf\n",
      "[LightGBM] [Warning] No further splits with positive gain, best gain: -inf\n",
      "[LightGBM] [Warning] No further splits with positive gain, best gain: -inf\n",
      "[LightGBM] [Warning] No further splits with positive gain, best gain: -inf\n",
      "[LightGBM] [Warning] No further splits with positive gain, best gain: -inf\n",
      "[LightGBM] [Warning] No further splits with positive gain, best gain: -inf\n",
      "[LightGBM] [Warning] No further splits with positive gain, best gain: -inf\n",
      "[LightGBM] [Warning] No further splits with positive gain, best gain: -inf\n",
      "[LightGBM] [Warning] No further splits with positive gain, best gain: -inf\n",
      "[LightGBM] [Warning] No further splits with positive gain, best gain: -inf\n",
      "[LightGBM] [Warning] No further splits with positive gain, best gain: -inf\n",
      "[LightGBM] [Warning] No further splits with positive gain, best gain: -inf\n",
      "[LightGBM] [Warning] No further splits with positive gain, best gain: -inf\n",
      "[LightGBM] [Warning] No further splits with positive gain, best gain: -inf\n",
      "[LightGBM] [Warning] No further splits with positive gain, best gain: -inf\n",
      "[LightGBM] [Warning] No further splits with positive gain, best gain: -inf\n",
      "[LightGBM] [Warning] No further splits with positive gain, best gain: -inf\n",
      "[LightGBM] [Warning] No further splits with positive gain, best gain: -inf\n",
      "[LightGBM] [Warning] No further splits with positive gain, best gain: -inf\n",
      "[LightGBM] [Warning] No further splits with positive gain, best gain: -inf\n",
      "[LightGBM] [Warning] No further splits with positive gain, best gain: -inf\n",
      "[LightGBM] [Warning] No further splits with positive gain, best gain: -inf\n",
      "[LightGBM] [Warning] No further splits with positive gain, best gain: -inf\n",
      "[LightGBM] [Warning] No further splits with positive gain, best gain: -inf\n",
      "[LightGBM] [Warning] No further splits with positive gain, best gain: -inf\n",
      "[LightGBM] [Warning] No further splits with positive gain, best gain: -inf\n",
      "[LightGBM] [Warning] No further splits with positive gain, best gain: -inf\n",
      "[LightGBM] [Warning] No further splits with positive gain, best gain: -inf\n",
      "[LightGBM] [Warning] No further splits with positive gain, best gain: -inf\n",
      "[LightGBM] [Warning] No further splits with positive gain, best gain: -inf\n",
      "[LightGBM] [Warning] No further splits with positive gain, best gain: -inf\n",
      "[LightGBM] [Warning] No further splits with positive gain, best gain: -inf\n",
      "[LightGBM] [Warning] No further splits with positive gain, best gain: -inf\n",
      "[LightGBM] [Warning] No further splits with positive gain, best gain: -inf\n",
      "[LightGBM] [Warning] No further splits with positive gain, best gain: -inf\n",
      "[LightGBM] [Warning] No further splits with positive gain, best gain: -inf\n",
      "[LightGBM] [Warning] No further splits with positive gain, best gain: -inf\n",
      "[LightGBM] [Warning] No further splits with positive gain, best gain: -inf\n",
      "[LightGBM] [Warning] No further splits with positive gain, best gain: -inf\n",
      "[LightGBM] [Warning] No further splits with positive gain, best gain: -inf\n",
      "[LightGBM] [Warning] No further splits with positive gain, best gain: -inf\n",
      "[LightGBM] [Warning] No further splits with positive gain, best gain: -inf\n",
      "[LightGBM] [Warning] No further splits with positive gain, best gain: -inf\n",
      "[LightGBM] [Warning] No further splits with positive gain, best gain: -inf\n",
      "[LightGBM] [Warning] No further splits with positive gain, best gain: -inf\n",
      "[LightGBM] [Warning] No further splits with positive gain, best gain: -inf\n",
      "[LightGBM] [Warning] No further splits with positive gain, best gain: -inf\n",
      "[LightGBM] [Warning] No further splits with positive gain, best gain: -inf\n",
      "[LightGBM] [Warning] No further splits with positive gain, best gain: -inf\n",
      "[LightGBM] [Warning] No further splits with positive gain, best gain: -inf\n",
      "[LightGBM] [Warning] No further splits with positive gain, best gain: -inf\n",
      "[LightGBM] [Warning] No further splits with positive gain, best gain: -inf\n",
      "[LightGBM] [Warning] No further splits with positive gain, best gain: -inf\n",
      "[LightGBM] [Warning] No further splits with positive gain, best gain: -inf\n",
      "[LightGBM] [Warning] No further splits with positive gain, best gain: -inf\n",
      "[LightGBM] [Warning] No further splits with positive gain, best gain: -inf\n",
      "[LightGBM] [Warning] No further splits with positive gain, best gain: -inf\n",
      "[LightGBM] [Warning] No further splits with positive gain, best gain: -inf\n",
      "[LightGBM] [Warning] No further splits with positive gain, best gain: -inf\n",
      "[LightGBM] [Warning] No further splits with positive gain, best gain: -inf\n",
      "[LightGBM] [Warning] No further splits with positive gain, best gain: -inf\n",
      "[LightGBM] [Warning] No further splits with positive gain, best gain: -inf\n",
      "[LightGBM] [Warning] No further splits with positive gain, best gain: -inf\n",
      "[LightGBM] [Warning] No further splits with positive gain, best gain: -inf\n",
      "[LightGBM] [Warning] No further splits with positive gain, best gain: -inf\n",
      "[LightGBM] [Warning] No further splits with positive gain, best gain: -inf\n",
      "[LightGBM] [Warning] No further splits with positive gain, best gain: -inf\n",
      "[LightGBM] [Warning] No further splits with positive gain, best gain: -inf\n",
      "[LightGBM] [Warning] No further splits with positive gain, best gain: -inf\n",
      "[LightGBM] [Warning] No further splits with positive gain, best gain: -inf\n",
      "[LightGBM] [Warning] No further splits with positive gain, best gain: -inf\n",
      "[LightGBM] [Warning] No further splits with positive gain, best gain: -inf\n",
      "[LightGBM] [Warning] No further splits with positive gain, best gain: -inf\n",
      "[LightGBM] [Warning] No further splits with positive gain, best gain: -inf\n",
      "[LightGBM] [Warning] No further splits with positive gain, best gain: -inf\n",
      "[LightGBM] [Warning] No further splits with positive gain, best gain: -inf\n",
      "[LightGBM] [Warning] No further splits with positive gain, best gain: -inf\n",
      "[LightGBM] [Warning] No further splits with positive gain, best gain: -inf\n",
      "[LightGBM] [Warning] No further splits with positive gain, best gain: -inf\n",
      "[LightGBM] [Warning] No further splits with positive gain, best gain: -inf\n",
      "[LightGBM] [Warning] No further splits with positive gain, best gain: -inf\n",
      "[LightGBM] [Warning] No further splits with positive gain, best gain: -inf\n",
      "[LightGBM] [Warning] No further splits with positive gain, best gain: -inf\n",
      "[LightGBM] [Warning] No further splits with positive gain, best gain: -inf\n",
      "[LightGBM] [Warning] No further splits with positive gain, best gain: -inf\n",
      "[LightGBM] [Warning] No further splits with positive gain, best gain: -inf\n",
      "[LightGBM] [Warning] No further splits with positive gain, best gain: -inf\n",
      "[LightGBM] [Warning] No further splits with positive gain, best gain: -inf\n",
      "[LightGBM] [Warning] No further splits with positive gain, best gain: -inf\n",
      "[LightGBM] [Warning] No further splits with positive gain, best gain: -inf\n",
      "[LightGBM] [Warning] No further splits with positive gain, best gain: -inf\n",
      "[LightGBM] [Warning] No further splits with positive gain, best gain: -inf\n",
      "[LightGBM] [Warning] No further splits with positive gain, best gain: -inf\n",
      "[LightGBM] [Warning] No further splits with positive gain, best gain: -inf\n",
      "[LightGBM] [Warning] No further splits with positive gain, best gain: -inf\n",
      "[LightGBM] [Warning] No further splits with positive gain, best gain: -inf\n",
      "[LightGBM] [Warning] No further splits with positive gain, best gain: -inf\n",
      "[LightGBM] [Warning] No further splits with positive gain, best gain: -inf\n",
      "[LightGBM] [Warning] No further splits with positive gain, best gain: -inf\n",
      "[LightGBM] [Warning] No further splits with positive gain, best gain: -inf\n",
      "[LightGBM] [Warning] No further splits with positive gain, best gain: -inf\n",
      "[LightGBM] [Warning] No further splits with positive gain, best gain: -inf\n",
      "[LightGBM] [Warning] No further splits with positive gain, best gain: -inf\n",
      "[LightGBM] [Warning] No further splits with positive gain, best gain: -inf\n",
      "[LightGBM] [Warning] No further splits with positive gain, best gain: -inf\n",
      "[LightGBM] [Warning] No further splits with positive gain, best gain: -inf\n",
      "[LightGBM] [Warning] No further splits with positive gain, best gain: -inf\n",
      "[LightGBM] [Warning] No further splits with positive gain, best gain: -inf\n",
      "[LightGBM] [Warning] No further splits with positive gain, best gain: -inf\n",
      "[LightGBM] [Warning] No further splits with positive gain, best gain: -inf\n",
      "[LightGBM] [Warning] No further splits with positive gain, best gain: -inf\n",
      "[LightGBM] [Warning] No further splits with positive gain, best gain: -inf\n",
      "[LightGBM] [Warning] No further splits with positive gain, best gain: -inf\n",
      "[LightGBM] [Warning] No further splits with positive gain, best gain: -inf\n",
      "[LightGBM] [Warning] No further splits with positive gain, best gain: -inf\n",
      "[LightGBM] [Warning] No further splits with positive gain, best gain: -inf\n",
      "[LightGBM] [Warning] No further splits with positive gain, best gain: -inf\n",
      "[LightGBM] [Warning] No further splits with positive gain, best gain: -inf\n",
      "[LightGBM] [Warning] No further splits with positive gain, best gain: -inf\n",
      "[LightGBM] [Warning] No further splits with positive gain, best gain: -inf\n",
      "[LightGBM] [Warning] No further splits with positive gain, best gain: -inf\n",
      "[LightGBM] [Warning] No further splits with positive gain, best gain: -inf\n",
      "[LightGBM] [Warning] No further splits with positive gain, best gain: -inf\n",
      "[LightGBM] [Warning] No further splits with positive gain, best gain: -inf\n",
      "[LightGBM] [Warning] No further splits with positive gain, best gain: -inf\n",
      "[LightGBM] [Warning] No further splits with positive gain, best gain: -inf\n",
      "[LightGBM] [Warning] No further splits with positive gain, best gain: -inf\n",
      "[LightGBM] [Warning] No further splits with positive gain, best gain: -inf\n",
      "[LightGBM] [Warning] No further splits with positive gain, best gain: -inf\n",
      "[LightGBM] [Warning] No further splits with positive gain, best gain: -inf\n",
      "[LightGBM] [Warning] No further splits with positive gain, best gain: -inf\n",
      "[LightGBM] [Warning] No further splits with positive gain, best gain: -inf\n",
      "[LightGBM] [Warning] No further splits with positive gain, best gain: -inf\n"
     ]
    },
    {
     "name": "stdout",
     "output_type": "stream",
     "text": [
      "[LightGBM] [Warning] No further splits with positive gain, best gain: -inf\n",
      "[LightGBM] [Warning] No further splits with positive gain, best gain: -inf\n",
      "[LightGBM] [Warning] No further splits with positive gain, best gain: -inf\n",
      "[LightGBM] [Warning] No further splits with positive gain, best gain: -inf\n",
      "[LightGBM] [Warning] No further splits with positive gain, best gain: -inf\n",
      "[LightGBM] [Warning] No further splits with positive gain, best gain: -inf\n",
      "[LightGBM] [Warning] No further splits with positive gain, best gain: -inf\n",
      "[LightGBM] [Warning] No further splits with positive gain, best gain: -inf\n",
      "[LightGBM] [Warning] No further splits with positive gain, best gain: -inf\n",
      "[LightGBM] [Warning] No further splits with positive gain, best gain: -inf\n",
      "[LightGBM] [Warning] No further splits with positive gain, best gain: -inf\n",
      "[LightGBM] [Warning] No further splits with positive gain, best gain: -inf\n",
      "[LightGBM] [Warning] No further splits with positive gain, best gain: -inf\n",
      "[LightGBM] [Warning] No further splits with positive gain, best gain: -inf\n",
      "[LightGBM] [Warning] No further splits with positive gain, best gain: -inf\n",
      "[LightGBM] [Warning] No further splits with positive gain, best gain: -inf\n",
      "[LightGBM] [Warning] No further splits with positive gain, best gain: -inf\n",
      "[LightGBM] [Warning] No further splits with positive gain, best gain: -inf\n",
      "[LightGBM] [Warning] No further splits with positive gain, best gain: -inf\n",
      "[LightGBM] [Warning] No further splits with positive gain, best gain: -inf\n",
      "[LightGBM] [Warning] No further splits with positive gain, best gain: -inf\n",
      "[LightGBM] [Warning] No further splits with positive gain, best gain: -inf\n",
      "[LightGBM] [Warning] No further splits with positive gain, best gain: -inf\n",
      "[LightGBM] [Warning] No further splits with positive gain, best gain: -inf\n",
      "[LightGBM] [Warning] No further splits with positive gain, best gain: -inf\n",
      "[LightGBM] [Warning] No further splits with positive gain, best gain: -inf\n",
      "[LightGBM] [Warning] No further splits with positive gain, best gain: -inf\n",
      "[LightGBM] [Warning] No further splits with positive gain, best gain: -inf\n",
      "[LightGBM] [Warning] No further splits with positive gain, best gain: -inf\n",
      "[LightGBM] [Warning] No further splits with positive gain, best gain: -inf\n",
      "[LightGBM] [Warning] No further splits with positive gain, best gain: -inf\n",
      "[LightGBM] [Warning] No further splits with positive gain, best gain: -inf\n",
      "[LightGBM] [Warning] No further splits with positive gain, best gain: -inf\n",
      "[LightGBM] [Warning] No further splits with positive gain, best gain: -inf\n",
      "[LightGBM] [Warning] No further splits with positive gain, best gain: -inf\n",
      "[LightGBM] [Warning] No further splits with positive gain, best gain: -inf\n",
      "[LightGBM] [Warning] No further splits with positive gain, best gain: -inf\n",
      "[LightGBM] [Warning] No further splits with positive gain, best gain: -inf\n",
      "[LightGBM] [Warning] No further splits with positive gain, best gain: -inf\n",
      "[LightGBM] [Warning] No further splits with positive gain, best gain: -inf\n",
      "[LightGBM] [Warning] No further splits with positive gain, best gain: -inf\n",
      "[LightGBM] [Warning] No further splits with positive gain, best gain: -inf\n",
      "[LightGBM] [Warning] No further splits with positive gain, best gain: -inf\n",
      "[LightGBM] [Warning] No further splits with positive gain, best gain: -inf\n",
      "[LightGBM] [Warning] No further splits with positive gain, best gain: -inf\n",
      "[LightGBM] [Warning] No further splits with positive gain, best gain: -inf\n",
      "[LightGBM] [Warning] No further splits with positive gain, best gain: -inf\n",
      "[LightGBM] [Warning] No further splits with positive gain, best gain: -inf\n",
      "[LightGBM] [Warning] No further splits with positive gain, best gain: -inf\n",
      "[LightGBM] [Warning] No further splits with positive gain, best gain: -inf\n",
      "[LightGBM] [Warning] No further splits with positive gain, best gain: -inf\n",
      "[LightGBM] [Warning] No further splits with positive gain, best gain: -inf\n",
      "[LightGBM] [Warning] No further splits with positive gain, best gain: -inf\n",
      "[LightGBM] [Warning] No further splits with positive gain, best gain: -inf\n",
      "[LightGBM] [Warning] No further splits with positive gain, best gain: -inf\n",
      "[LightGBM] [Warning] No further splits with positive gain, best gain: -inf\n",
      "[LightGBM] [Warning] No further splits with positive gain, best gain: -inf\n",
      "[LightGBM] [Warning] No further splits with positive gain, best gain: -inf\n",
      "[LightGBM] [Warning] No further splits with positive gain, best gain: -inf\n",
      "[LightGBM] [Warning] No further splits with positive gain, best gain: -inf\n",
      "[LightGBM] [Warning] No further splits with positive gain, best gain: -inf\n",
      "[LightGBM] [Warning] No further splits with positive gain, best gain: -inf\n",
      "[LightGBM] [Warning] No further splits with positive gain, best gain: -inf\n",
      "[LightGBM] [Warning] No further splits with positive gain, best gain: -inf\n",
      "[LightGBM] [Warning] No further splits with positive gain, best gain: -inf\n",
      "[LightGBM] [Warning] No further splits with positive gain, best gain: -inf\n",
      "[LightGBM] [Warning] No further splits with positive gain, best gain: -inf\n",
      "[LightGBM] [Warning] No further splits with positive gain, best gain: -inf\n",
      "[LightGBM] [Warning] No further splits with positive gain, best gain: -inf\n",
      "[LightGBM] [Warning] No further splits with positive gain, best gain: -inf\n",
      "[LightGBM] [Warning] No further splits with positive gain, best gain: -inf\n",
      "[LightGBM] [Warning] No further splits with positive gain, best gain: -inf\n",
      "[LightGBM] [Warning] No further splits with positive gain, best gain: -inf\n",
      "[LightGBM] [Warning] No further splits with positive gain, best gain: -inf\n",
      "[LightGBM] [Warning] No further splits with positive gain, best gain: -inf\n",
      "[LightGBM] [Warning] No further splits with positive gain, best gain: -inf\n",
      "[LightGBM] [Warning] No further splits with positive gain, best gain: -inf\n",
      "[LightGBM] [Warning] No further splits with positive gain, best gain: -inf\n",
      "[LightGBM] [Warning] No further splits with positive gain, best gain: -inf\n",
      "[LightGBM] [Warning] No further splits with positive gain, best gain: -inf\n",
      "[LightGBM] [Warning] No further splits with positive gain, best gain: -inf\n",
      "[LightGBM] [Warning] No further splits with positive gain, best gain: -inf\n",
      "[LightGBM] [Warning] No further splits with positive gain, best gain: -inf\n",
      "[LightGBM] [Warning] No further splits with positive gain, best gain: -inf\n",
      "[LightGBM] [Warning] No further splits with positive gain, best gain: -inf\n",
      "[LightGBM] [Warning] No further splits with positive gain, best gain: -inf\n",
      "[LightGBM] [Warning] No further splits with positive gain, best gain: -inf\n",
      "[LightGBM] [Warning] No further splits with positive gain, best gain: -inf\n",
      "[LightGBM] [Warning] No further splits with positive gain, best gain: -inf\n",
      "[LightGBM] [Warning] No further splits with positive gain, best gain: -inf\n",
      "[LightGBM] [Warning] No further splits with positive gain, best gain: -inf\n",
      "[LightGBM] [Warning] No further splits with positive gain, best gain: -inf\n",
      "[LightGBM] [Warning] No further splits with positive gain, best gain: -inf\n",
      "[LightGBM] [Warning] No further splits with positive gain, best gain: -inf\n",
      "[LightGBM] [Warning] No further splits with positive gain, best gain: -inf\n",
      "[LightGBM] [Warning] No further splits with positive gain, best gain: -inf\n",
      "[LightGBM] [Warning] No further splits with positive gain, best gain: -inf\n",
      "[LightGBM] [Warning] No further splits with positive gain, best gain: -inf\n",
      "[LightGBM] [Warning] No further splits with positive gain, best gain: -inf\n",
      "[LightGBM] [Warning] No further splits with positive gain, best gain: -inf\n",
      "[LightGBM] [Warning] No further splits with positive gain, best gain: -inf\n",
      "[LightGBM] [Warning] No further splits with positive gain, best gain: -inf\n",
      "[LightGBM] [Warning] No further splits with positive gain, best gain: -inf\n",
      "[LightGBM] [Warning] No further splits with positive gain, best gain: -inf\n",
      "[LightGBM] [Warning] No further splits with positive gain, best gain: -inf\n",
      "[LightGBM] [Warning] No further splits with positive gain, best gain: -inf\n",
      "[LightGBM] [Warning] No further splits with positive gain, best gain: -inf\n",
      "[LightGBM] [Warning] No further splits with positive gain, best gain: -inf\n",
      "[LightGBM] [Warning] No further splits with positive gain, best gain: -inf\n",
      "[LightGBM] [Warning] No further splits with positive gain, best gain: -inf\n",
      "[LightGBM] [Warning] No further splits with positive gain, best gain: -inf\n",
      "[LightGBM] [Warning] No further splits with positive gain, best gain: -inf\n"
     ]
    },
    {
     "name": "stdout",
     "output_type": "stream",
     "text": [
      "[LightGBM] [Info] Auto-choosing row-wise multi-threading, the overhead of testing was 0.000802 seconds.\n",
      "You can set `force_row_wise=true` to remove the overhead.\n",
      "And if memory is not enough, you can set `force_col_wise=true`.\n",
      "[LightGBM] [Info] Total Bins 1113\n",
      "[LightGBM] [Info] Number of data points in the train set: 58800, number of used features: 227\n",
      "[LightGBM] [Info] Start training from score 1.674524\n",
      "[LightGBM] [Warning] No further splits with positive gain, best gain: -inf\n",
      "[LightGBM] [Warning] No further splits with positive gain, best gain: -inf\n",
      "[LightGBM] [Warning] No further splits with positive gain, best gain: -inf\n",
      "[LightGBM] [Warning] No further splits with positive gain, best gain: -inf\n",
      "[LightGBM] [Warning] No further splits with positive gain, best gain: -inf\n",
      "[LightGBM] [Warning] No further splits with positive gain, best gain: -inf\n",
      "[LightGBM] [Warning] No further splits with positive gain, best gain: -inf\n",
      "[LightGBM] [Warning] No further splits with positive gain, best gain: -inf\n",
      "[LightGBM] [Warning] No further splits with positive gain, best gain: -inf\n",
      "[LightGBM] [Warning] No further splits with positive gain, best gain: -inf\n",
      "[LightGBM] [Warning] No further splits with positive gain, best gain: -inf\n",
      "[LightGBM] [Warning] No further splits with positive gain, best gain: -inf\n",
      "[LightGBM] [Warning] No further splits with positive gain, best gain: -inf\n",
      "[LightGBM] [Warning] No further splits with positive gain, best gain: -inf\n",
      "[LightGBM] [Warning] No further splits with positive gain, best gain: -inf\n",
      "[LightGBM] [Warning] No further splits with positive gain, best gain: -inf\n",
      "[LightGBM] [Warning] No further splits with positive gain, best gain: -inf\n",
      "[LightGBM] [Warning] No further splits with positive gain, best gain: -inf\n",
      "[LightGBM] [Warning] No further splits with positive gain, best gain: -inf\n",
      "[LightGBM] [Warning] No further splits with positive gain, best gain: -inf\n",
      "[LightGBM] [Warning] No further splits with positive gain, best gain: -inf\n",
      "[LightGBM] [Warning] No further splits with positive gain, best gain: -inf\n",
      "[LightGBM] [Warning] No further splits with positive gain, best gain: -inf\n",
      "[LightGBM] [Warning] No further splits with positive gain, best gain: -inf\n",
      "[LightGBM] [Warning] No further splits with positive gain, best gain: -inf\n",
      "[LightGBM] [Warning] No further splits with positive gain, best gain: -inf\n",
      "[LightGBM] [Warning] No further splits with positive gain, best gain: -inf\n",
      "[LightGBM] [Warning] No further splits with positive gain, best gain: -inf\n",
      "[LightGBM] [Warning] No further splits with positive gain, best gain: -inf\n",
      "[LightGBM] [Warning] No further splits with positive gain, best gain: -inf\n",
      "[LightGBM] [Warning] No further splits with positive gain, best gain: -inf\n",
      "[LightGBM] [Warning] No further splits with positive gain, best gain: -inf\n",
      "[LightGBM] [Warning] No further splits with positive gain, best gain: -inf\n",
      "[LightGBM] [Warning] No further splits with positive gain, best gain: -inf\n",
      "[LightGBM] [Warning] No further splits with positive gain, best gain: -inf\n",
      "[LightGBM] [Warning] No further splits with positive gain, best gain: -inf\n",
      "[LightGBM] [Warning] No further splits with positive gain, best gain: -inf\n",
      "[LightGBM] [Warning] No further splits with positive gain, best gain: -inf\n",
      "[LightGBM] [Warning] No further splits with positive gain, best gain: -inf\n",
      "[LightGBM] [Warning] No further splits with positive gain, best gain: -inf\n",
      "[LightGBM] [Warning] No further splits with positive gain, best gain: -inf\n",
      "[LightGBM] [Warning] No further splits with positive gain, best gain: -inf\n",
      "[LightGBM] [Warning] No further splits with positive gain, best gain: -inf\n",
      "[LightGBM] [Warning] No further splits with positive gain, best gain: -inf\n",
      "[LightGBM] [Warning] No further splits with positive gain, best gain: -inf\n",
      "[LightGBM] [Warning] No further splits with positive gain, best gain: -inf\n",
      "[LightGBM] [Warning] No further splits with positive gain, best gain: -inf\n",
      "[LightGBM] [Warning] No further splits with positive gain, best gain: -inf\n",
      "[LightGBM] [Warning] No further splits with positive gain, best gain: -inf\n",
      "[LightGBM] [Warning] No further splits with positive gain, best gain: -inf\n",
      "[LightGBM] [Warning] No further splits with positive gain, best gain: -inf\n",
      "[LightGBM] [Warning] No further splits with positive gain, best gain: -inf\n",
      "[LightGBM] [Warning] No further splits with positive gain, best gain: -inf\n",
      "[LightGBM] [Warning] No further splits with positive gain, best gain: -inf\n",
      "[LightGBM] [Warning] No further splits with positive gain, best gain: -inf\n",
      "[LightGBM] [Warning] No further splits with positive gain, best gain: -inf\n",
      "[LightGBM] [Warning] No further splits with positive gain, best gain: -inf\n",
      "[LightGBM] [Warning] No further splits with positive gain, best gain: -inf\n",
      "[LightGBM] [Warning] No further splits with positive gain, best gain: -inf\n",
      "[LightGBM] [Warning] No further splits with positive gain, best gain: -inf\n",
      "[LightGBM] [Warning] No further splits with positive gain, best gain: -inf\n",
      "[LightGBM] [Warning] No further splits with positive gain, best gain: -inf\n",
      "[LightGBM] [Warning] No further splits with positive gain, best gain: -inf\n",
      "[LightGBM] [Warning] No further splits with positive gain, best gain: -inf\n",
      "[LightGBM] [Warning] No further splits with positive gain, best gain: -inf\n",
      "[LightGBM] [Warning] No further splits with positive gain, best gain: -inf\n",
      "[LightGBM] [Warning] No further splits with positive gain, best gain: -inf\n",
      "[LightGBM] [Warning] No further splits with positive gain, best gain: -inf\n",
      "[LightGBM] [Warning] No further splits with positive gain, best gain: -inf\n",
      "[LightGBM] [Warning] No further splits with positive gain, best gain: -inf\n",
      "[LightGBM] [Warning] No further splits with positive gain, best gain: -inf\n",
      "[LightGBM] [Warning] No further splits with positive gain, best gain: -inf\n",
      "[LightGBM] [Warning] No further splits with positive gain, best gain: -inf\n",
      "[LightGBM] [Warning] No further splits with positive gain, best gain: -inf\n",
      "[LightGBM] [Warning] No further splits with positive gain, best gain: -inf\n",
      "[LightGBM] [Warning] No further splits with positive gain, best gain: -inf\n",
      "[LightGBM] [Warning] No further splits with positive gain, best gain: -inf\n",
      "[LightGBM] [Warning] No further splits with positive gain, best gain: -inf\n",
      "[LightGBM] [Warning] No further splits with positive gain, best gain: -inf\n",
      "[LightGBM] [Warning] No further splits with positive gain, best gain: -inf\n",
      "[LightGBM] [Warning] No further splits with positive gain, best gain: -inf\n",
      "[LightGBM] [Warning] No further splits with positive gain, best gain: -inf\n",
      "[LightGBM] [Warning] No further splits with positive gain, best gain: -inf\n",
      "[LightGBM] [Warning] No further splits with positive gain, best gain: -inf\n",
      "[LightGBM] [Warning] No further splits with positive gain, best gain: -inf\n",
      "[LightGBM] [Warning] No further splits with positive gain, best gain: -inf\n",
      "[LightGBM] [Warning] No further splits with positive gain, best gain: -inf\n",
      "[LightGBM] [Warning] No further splits with positive gain, best gain: -inf\n",
      "[LightGBM] [Warning] No further splits with positive gain, best gain: -inf\n",
      "[LightGBM] [Warning] No further splits with positive gain, best gain: -inf\n",
      "[LightGBM] [Warning] No further splits with positive gain, best gain: -inf\n",
      "[LightGBM] [Warning] No further splits with positive gain, best gain: -inf\n",
      "[LightGBM] [Warning] No further splits with positive gain, best gain: -inf\n",
      "[LightGBM] [Warning] No further splits with positive gain, best gain: -inf\n",
      "[LightGBM] [Warning] No further splits with positive gain, best gain: -inf\n",
      "[LightGBM] [Warning] No further splits with positive gain, best gain: -inf\n",
      "[LightGBM] [Warning] No further splits with positive gain, best gain: -inf\n",
      "[LightGBM] [Warning] No further splits with positive gain, best gain: -inf\n",
      "[LightGBM] [Warning] No further splits with positive gain, best gain: -inf\n",
      "[LightGBM] [Warning] No further splits with positive gain, best gain: -inf\n",
      "[LightGBM] [Warning] No further splits with positive gain, best gain: -inf\n",
      "[LightGBM] [Warning] No further splits with positive gain, best gain: -inf\n",
      "[LightGBM] [Warning] No further splits with positive gain, best gain: -inf\n",
      "[LightGBM] [Warning] No further splits with positive gain, best gain: -inf\n"
     ]
    },
    {
     "name": "stdout",
     "output_type": "stream",
     "text": [
      "[LightGBM] [Warning] No further splits with positive gain, best gain: -inf\n",
      "[LightGBM] [Warning] No further splits with positive gain, best gain: -inf\n",
      "[LightGBM] [Warning] No further splits with positive gain, best gain: -inf\n",
      "[LightGBM] [Warning] No further splits with positive gain, best gain: -inf\n",
      "[LightGBM] [Warning] No further splits with positive gain, best gain: -inf\n",
      "[LightGBM] [Warning] No further splits with positive gain, best gain: -inf\n",
      "[LightGBM] [Warning] No further splits with positive gain, best gain: -inf\n",
      "[LightGBM] [Warning] No further splits with positive gain, best gain: -inf\n",
      "[LightGBM] [Warning] No further splits with positive gain, best gain: -inf\n",
      "[LightGBM] [Warning] No further splits with positive gain, best gain: -inf\n",
      "[LightGBM] [Warning] No further splits with positive gain, best gain: -inf\n",
      "[LightGBM] [Warning] No further splits with positive gain, best gain: -inf\n",
      "[LightGBM] [Warning] No further splits with positive gain, best gain: -inf\n",
      "[LightGBM] [Warning] No further splits with positive gain, best gain: -inf\n",
      "[LightGBM] [Warning] No further splits with positive gain, best gain: -inf\n",
      "[LightGBM] [Warning] No further splits with positive gain, best gain: -inf\n",
      "[LightGBM] [Warning] No further splits with positive gain, best gain: -inf\n",
      "[LightGBM] [Warning] No further splits with positive gain, best gain: -inf\n",
      "[LightGBM] [Warning] No further splits with positive gain, best gain: -inf\n",
      "[LightGBM] [Warning] No further splits with positive gain, best gain: -inf\n",
      "[LightGBM] [Warning] No further splits with positive gain, best gain: -inf\n",
      "[LightGBM] [Warning] No further splits with positive gain, best gain: -inf\n",
      "[LightGBM] [Warning] No further splits with positive gain, best gain: -inf\n",
      "[LightGBM] [Warning] No further splits with positive gain, best gain: -inf\n",
      "[LightGBM] [Warning] No further splits with positive gain, best gain: -inf\n",
      "[LightGBM] [Warning] No further splits with positive gain, best gain: -inf\n",
      "[LightGBM] [Warning] No further splits with positive gain, best gain: -inf\n",
      "[LightGBM] [Warning] No further splits with positive gain, best gain: -inf\n",
      "[LightGBM] [Warning] No further splits with positive gain, best gain: -inf\n",
      "[LightGBM] [Warning] No further splits with positive gain, best gain: -inf\n",
      "[LightGBM] [Warning] No further splits with positive gain, best gain: -inf\n",
      "[LightGBM] [Warning] No further splits with positive gain, best gain: -inf\n",
      "[LightGBM] [Warning] No further splits with positive gain, best gain: -inf\n",
      "[LightGBM] [Warning] No further splits with positive gain, best gain: -inf\n",
      "[LightGBM] [Warning] No further splits with positive gain, best gain: -inf\n",
      "[LightGBM] [Warning] No further splits with positive gain, best gain: -inf\n",
      "[LightGBM] [Warning] No further splits with positive gain, best gain: -inf\n",
      "[LightGBM] [Warning] No further splits with positive gain, best gain: -inf\n",
      "[LightGBM] [Warning] No further splits with positive gain, best gain: -inf\n",
      "[LightGBM] [Warning] No further splits with positive gain, best gain: -inf\n",
      "[LightGBM] [Warning] No further splits with positive gain, best gain: -inf\n",
      "[LightGBM] [Warning] No further splits with positive gain, best gain: -inf\n",
      "[LightGBM] [Warning] No further splits with positive gain, best gain: -inf\n",
      "[LightGBM] [Warning] No further splits with positive gain, best gain: -inf\n",
      "[LightGBM] [Warning] No further splits with positive gain, best gain: -inf\n",
      "[LightGBM] [Warning] No further splits with positive gain, best gain: -inf\n",
      "[LightGBM] [Warning] No further splits with positive gain, best gain: -inf\n",
      "[LightGBM] [Warning] No further splits with positive gain, best gain: -inf\n",
      "[LightGBM] [Warning] No further splits with positive gain, best gain: -inf\n",
      "[LightGBM] [Warning] No further splits with positive gain, best gain: -inf\n",
      "[LightGBM] [Warning] No further splits with positive gain, best gain: -inf\n",
      "[LightGBM] [Warning] No further splits with positive gain, best gain: -inf\n",
      "[LightGBM] [Warning] No further splits with positive gain, best gain: -inf\n",
      "[LightGBM] [Warning] No further splits with positive gain, best gain: -inf\n",
      "[LightGBM] [Warning] No further splits with positive gain, best gain: -inf\n",
      "[LightGBM] [Warning] No further splits with positive gain, best gain: -inf\n",
      "[LightGBM] [Warning] No further splits with positive gain, best gain: -inf\n",
      "[LightGBM] [Warning] No further splits with positive gain, best gain: -inf\n",
      "[LightGBM] [Warning] No further splits with positive gain, best gain: -inf\n",
      "[LightGBM] [Warning] No further splits with positive gain, best gain: -inf\n",
      "[LightGBM] [Warning] No further splits with positive gain, best gain: -inf\n",
      "[LightGBM] [Warning] No further splits with positive gain, best gain: -inf\n",
      "[LightGBM] [Warning] No further splits with positive gain, best gain: -inf\n",
      "[LightGBM] [Warning] No further splits with positive gain, best gain: -inf\n",
      "[LightGBM] [Warning] No further splits with positive gain, best gain: -inf\n",
      "[LightGBM] [Warning] No further splits with positive gain, best gain: -inf\n",
      "[LightGBM] [Warning] No further splits with positive gain, best gain: -inf\n",
      "[LightGBM] [Warning] No further splits with positive gain, best gain: -inf\n",
      "[LightGBM] [Warning] No further splits with positive gain, best gain: -inf\n",
      "[LightGBM] [Warning] No further splits with positive gain, best gain: -inf\n",
      "[LightGBM] [Warning] No further splits with positive gain, best gain: -inf\n",
      "[LightGBM] [Warning] No further splits with positive gain, best gain: -inf\n",
      "[LightGBM] [Warning] No further splits with positive gain, best gain: -inf\n",
      "[LightGBM] [Warning] No further splits with positive gain, best gain: -inf\n",
      "[LightGBM] [Warning] No further splits with positive gain, best gain: -inf\n",
      "[LightGBM] [Warning] No further splits with positive gain, best gain: -inf\n",
      "[LightGBM] [Warning] No further splits with positive gain, best gain: -inf\n",
      "[LightGBM] [Warning] No further splits with positive gain, best gain: -inf\n",
      "[LightGBM] [Warning] No further splits with positive gain, best gain: -inf\n",
      "[LightGBM] [Warning] No further splits with positive gain, best gain: -inf\n",
      "[LightGBM] [Warning] No further splits with positive gain, best gain: -inf\n",
      "[LightGBM] [Warning] No further splits with positive gain, best gain: -inf\n",
      "[LightGBM] [Warning] No further splits with positive gain, best gain: -inf\n",
      "[LightGBM] [Warning] No further splits with positive gain, best gain: -inf\n",
      "[LightGBM] [Warning] No further splits with positive gain, best gain: -inf\n",
      "[LightGBM] [Warning] No further splits with positive gain, best gain: -inf\n",
      "[LightGBM] [Warning] No further splits with positive gain, best gain: -inf\n",
      "[LightGBM] [Warning] No further splits with positive gain, best gain: -inf\n",
      "[LightGBM] [Warning] No further splits with positive gain, best gain: -inf\n",
      "[LightGBM] [Warning] No further splits with positive gain, best gain: -inf\n",
      "[LightGBM] [Warning] No further splits with positive gain, best gain: -inf\n",
      "[LightGBM] [Warning] No further splits with positive gain, best gain: -inf\n",
      "[LightGBM] [Warning] No further splits with positive gain, best gain: -inf\n",
      "[LightGBM] [Warning] No further splits with positive gain, best gain: -inf\n",
      "[LightGBM] [Warning] No further splits with positive gain, best gain: -inf\n",
      "[LightGBM] [Warning] No further splits with positive gain, best gain: -inf\n",
      "[LightGBM] [Warning] No further splits with positive gain, best gain: -inf\n",
      "[LightGBM] [Warning] No further splits with positive gain, best gain: -inf\n",
      "[LightGBM] [Warning] No further splits with positive gain, best gain: -inf\n",
      "[LightGBM] [Warning] No further splits with positive gain, best gain: -inf\n",
      "[LightGBM] [Warning] No further splits with positive gain, best gain: -inf\n",
      "[LightGBM] [Warning] No further splits with positive gain, best gain: -inf\n",
      "[LightGBM] [Warning] No further splits with positive gain, best gain: -inf\n",
      "[LightGBM] [Warning] No further splits with positive gain, best gain: -inf\n",
      "[LightGBM] [Warning] No further splits with positive gain, best gain: -inf\n",
      "[LightGBM] [Warning] No further splits with positive gain, best gain: -inf\n",
      "[LightGBM] [Warning] No further splits with positive gain, best gain: -inf\n",
      "[LightGBM] [Warning] No further splits with positive gain, best gain: -inf\n",
      "[LightGBM] [Warning] No further splits with positive gain, best gain: -inf\n",
      "[LightGBM] [Warning] No further splits with positive gain, best gain: -inf\n",
      "[LightGBM] [Warning] No further splits with positive gain, best gain: -inf\n",
      "[LightGBM] [Warning] No further splits with positive gain, best gain: -inf\n",
      "[LightGBM] [Warning] No further splits with positive gain, best gain: -inf\n",
      "[LightGBM] [Warning] No further splits with positive gain, best gain: -inf\n",
      "[LightGBM] [Warning] No further splits with positive gain, best gain: -inf\n",
      "[LightGBM] [Warning] No further splits with positive gain, best gain: -inf\n",
      "[LightGBM] [Warning] No further splits with positive gain, best gain: -inf\n",
      "[LightGBM] [Warning] No further splits with positive gain, best gain: -inf\n",
      "[LightGBM] [Warning] No further splits with positive gain, best gain: -inf\n",
      "[LightGBM] [Warning] No further splits with positive gain, best gain: -inf\n",
      "[LightGBM] [Warning] No further splits with positive gain, best gain: -inf\n",
      "[LightGBM] [Warning] No further splits with positive gain, best gain: -inf\n",
      "[LightGBM] [Warning] No further splits with positive gain, best gain: -inf\n",
      "[LightGBM] [Warning] No further splits with positive gain, best gain: -inf\n",
      "[LightGBM] [Warning] No further splits with positive gain, best gain: -inf\n",
      "[LightGBM] [Warning] No further splits with positive gain, best gain: -inf\n",
      "[LightGBM] [Warning] No further splits with positive gain, best gain: -inf\n",
      "[LightGBM] [Warning] No further splits with positive gain, best gain: -inf\n",
      "[LightGBM] [Warning] No further splits with positive gain, best gain: -inf\n",
      "[LightGBM] [Warning] No further splits with positive gain, best gain: -inf\n",
      "[LightGBM] [Warning] No further splits with positive gain, best gain: -inf\n",
      "[LightGBM] [Warning] No further splits with positive gain, best gain: -inf\n",
      "[LightGBM] [Warning] No further splits with positive gain, best gain: -inf\n",
      "[LightGBM] [Warning] No further splits with positive gain, best gain: -inf\n",
      "[LightGBM] [Warning] No further splits with positive gain, best gain: -inf\n",
      "[LightGBM] [Warning] No further splits with positive gain, best gain: -inf\n",
      "[LightGBM] [Warning] No further splits with positive gain, best gain: -inf\n",
      "[LightGBM] [Warning] No further splits with positive gain, best gain: -inf\n",
      "[LightGBM] [Warning] No further splits with positive gain, best gain: -inf\n",
      "[LightGBM] [Warning] No further splits with positive gain, best gain: -inf\n",
      "[LightGBM] [Warning] No further splits with positive gain, best gain: -inf\n"
     ]
    },
    {
     "name": "stdout",
     "output_type": "stream",
     "text": [
      "[LightGBM] [Warning] No further splits with positive gain, best gain: -inf\n",
      "[LightGBM] [Warning] No further splits with positive gain, best gain: -inf\n",
      "[LightGBM] [Warning] No further splits with positive gain, best gain: -inf\n",
      "[LightGBM] [Warning] No further splits with positive gain, best gain: -inf\n",
      "[LightGBM] [Warning] No further splits with positive gain, best gain: -inf\n",
      "[LightGBM] [Warning] No further splits with positive gain, best gain: -inf\n",
      "[LightGBM] [Warning] No further splits with positive gain, best gain: -inf\n",
      "[LightGBM] [Warning] No further splits with positive gain, best gain: -inf\n",
      "[LightGBM] [Warning] No further splits with positive gain, best gain: -inf\n",
      "[LightGBM] [Warning] No further splits with positive gain, best gain: -inf\n",
      "[LightGBM] [Warning] No further splits with positive gain, best gain: -inf\n",
      "[LightGBM] [Warning] No further splits with positive gain, best gain: -inf\n",
      "[LightGBM] [Warning] No further splits with positive gain, best gain: -inf\n",
      "[LightGBM] [Warning] No further splits with positive gain, best gain: -inf\n",
      "[LightGBM] [Warning] No further splits with positive gain, best gain: -inf\n",
      "[LightGBM] [Warning] No further splits with positive gain, best gain: -inf\n",
      "[LightGBM] [Warning] No further splits with positive gain, best gain: -inf\n",
      "[LightGBM] [Warning] No further splits with positive gain, best gain: -inf\n",
      "[LightGBM] [Warning] No further splits with positive gain, best gain: -inf\n",
      "[LightGBM] [Warning] No further splits with positive gain, best gain: -inf\n",
      "[LightGBM] [Warning] No further splits with positive gain, best gain: -inf\n",
      "[LightGBM] [Warning] No further splits with positive gain, best gain: -inf\n",
      "[LightGBM] [Warning] No further splits with positive gain, best gain: -inf\n",
      "[LightGBM] [Warning] No further splits with positive gain, best gain: -inf\n",
      "[LightGBM] [Warning] No further splits with positive gain, best gain: -inf\n",
      "[LightGBM] [Warning] No further splits with positive gain, best gain: -inf\n",
      "[LightGBM] [Warning] No further splits with positive gain, best gain: -inf\n",
      "[LightGBM] [Warning] No further splits with positive gain, best gain: -inf\n",
      "[LightGBM] [Warning] No further splits with positive gain, best gain: -inf\n",
      "[LightGBM] [Warning] No further splits with positive gain, best gain: -inf\n",
      "[LightGBM] [Warning] No further splits with positive gain, best gain: -inf\n",
      "[LightGBM] [Warning] No further splits with positive gain, best gain: -inf\n",
      "[LightGBM] [Warning] No further splits with positive gain, best gain: -inf\n",
      "[LightGBM] [Warning] No further splits with positive gain, best gain: -inf\n",
      "[LightGBM] [Warning] No further splits with positive gain, best gain: -inf\n",
      "[LightGBM] [Warning] No further splits with positive gain, best gain: -inf\n",
      "[LightGBM] [Warning] No further splits with positive gain, best gain: -inf\n",
      "[LightGBM] [Warning] No further splits with positive gain, best gain: -inf\n",
      "[LightGBM] [Warning] No further splits with positive gain, best gain: -inf\n",
      "[LightGBM] [Warning] No further splits with positive gain, best gain: -inf\n",
      "[LightGBM] [Warning] No further splits with positive gain, best gain: -inf\n",
      "[LightGBM] [Warning] No further splits with positive gain, best gain: -inf\n",
      "[LightGBM] [Warning] No further splits with positive gain, best gain: -inf\n",
      "[LightGBM] [Warning] No further splits with positive gain, best gain: -inf\n",
      "[LightGBM] [Warning] No further splits with positive gain, best gain: -inf\n",
      "[LightGBM] [Warning] No further splits with positive gain, best gain: -inf\n",
      "[LightGBM] [Warning] No further splits with positive gain, best gain: -inf\n",
      "[LightGBM] [Warning] No further splits with positive gain, best gain: -inf\n",
      "[LightGBM] [Warning] No further splits with positive gain, best gain: -inf\n",
      "[LightGBM] [Warning] No further splits with positive gain, best gain: -inf\n",
      "[LightGBM] [Warning] No further splits with positive gain, best gain: -inf\n",
      "[LightGBM] [Warning] No further splits with positive gain, best gain: -inf\n",
      "[LightGBM] [Warning] No further splits with positive gain, best gain: -inf\n",
      "[LightGBM] [Warning] No further splits with positive gain, best gain: -inf\n",
      "[LightGBM] [Warning] No further splits with positive gain, best gain: -inf\n",
      "[LightGBM] [Warning] No further splits with positive gain, best gain: -inf\n",
      "[LightGBM] [Warning] No further splits with positive gain, best gain: -inf\n",
      "[LightGBM] [Warning] No further splits with positive gain, best gain: -inf\n",
      "[LightGBM] [Warning] No further splits with positive gain, best gain: -inf\n",
      "[LightGBM] [Warning] No further splits with positive gain, best gain: -inf\n",
      "[LightGBM] [Warning] No further splits with positive gain, best gain: -inf\n",
      "[LightGBM] [Warning] No further splits with positive gain, best gain: -inf\n",
      "[LightGBM] [Warning] No further splits with positive gain, best gain: -inf\n",
      "[LightGBM] [Warning] No further splits with positive gain, best gain: -inf\n",
      "[LightGBM] [Warning] No further splits with positive gain, best gain: -inf\n",
      "[LightGBM] [Warning] No further splits with positive gain, best gain: -inf\n",
      "[LightGBM] [Warning] No further splits with positive gain, best gain: -inf\n",
      "[LightGBM] [Warning] No further splits with positive gain, best gain: -inf\n",
      "[LightGBM] [Warning] No further splits with positive gain, best gain: -inf\n",
      "[LightGBM] [Warning] No further splits with positive gain, best gain: -inf\n",
      "[LightGBM] [Warning] No further splits with positive gain, best gain: -inf\n",
      "[LightGBM] [Warning] No further splits with positive gain, best gain: -inf\n",
      "[LightGBM] [Warning] No further splits with positive gain, best gain: -inf\n",
      "[LightGBM] [Warning] No further splits with positive gain, best gain: -inf\n",
      "[LightGBM] [Warning] No further splits with positive gain, best gain: -inf\n",
      "[LightGBM] [Warning] No further splits with positive gain, best gain: -inf\n",
      "[LightGBM] [Warning] No further splits with positive gain, best gain: -inf\n",
      "[LightGBM] [Warning] No further splits with positive gain, best gain: -inf\n",
      "[LightGBM] [Warning] No further splits with positive gain, best gain: -inf\n",
      "[LightGBM] [Warning] No further splits with positive gain, best gain: -inf\n",
      "[LightGBM] [Warning] No further splits with positive gain, best gain: -inf\n",
      "[LightGBM] [Warning] No further splits with positive gain, best gain: -inf\n",
      "[LightGBM] [Warning] No further splits with positive gain, best gain: -inf\n",
      "[LightGBM] [Warning] No further splits with positive gain, best gain: -inf\n",
      "[LightGBM] [Warning] No further splits with positive gain, best gain: -inf\n",
      "[LightGBM] [Warning] No further splits with positive gain, best gain: -inf\n",
      "[LightGBM] [Warning] No further splits with positive gain, best gain: -inf\n",
      "[LightGBM] [Warning] No further splits with positive gain, best gain: -inf\n",
      "[LightGBM] [Warning] No further splits with positive gain, best gain: -inf\n",
      "[LightGBM] [Warning] No further splits with positive gain, best gain: -inf\n",
      "[LightGBM] [Warning] No further splits with positive gain, best gain: -inf\n",
      "[LightGBM] [Warning] No further splits with positive gain, best gain: -inf\n",
      "[LightGBM] [Warning] No further splits with positive gain, best gain: -inf\n",
      "[LightGBM] [Warning] No further splits with positive gain, best gain: -inf\n",
      "[LightGBM] [Warning] No further splits with positive gain, best gain: -inf\n",
      "[LightGBM] [Warning] No further splits with positive gain, best gain: -inf\n",
      "[LightGBM] [Warning] No further splits with positive gain, best gain: -inf\n",
      "[LightGBM] [Warning] No further splits with positive gain, best gain: -inf\n",
      "[LightGBM] [Warning] No further splits with positive gain, best gain: -inf\n",
      "[LightGBM] [Warning] No further splits with positive gain, best gain: -inf\n",
      "[LightGBM] [Warning] No further splits with positive gain, best gain: -inf\n",
      "[LightGBM] [Warning] No further splits with positive gain, best gain: -inf\n",
      "[LightGBM] [Warning] No further splits with positive gain, best gain: -inf\n",
      "[LightGBM] [Warning] No further splits with positive gain, best gain: -inf\n",
      "[LightGBM] [Warning] No further splits with positive gain, best gain: -inf\n",
      "[LightGBM] [Warning] No further splits with positive gain, best gain: -inf\n",
      "[LightGBM] [Warning] No further splits with positive gain, best gain: -inf\n",
      "[LightGBM] [Warning] No further splits with positive gain, best gain: -inf\n",
      "[LightGBM] [Warning] No further splits with positive gain, best gain: -inf\n",
      "[LightGBM] [Warning] No further splits with positive gain, best gain: -inf\n",
      "[LightGBM] [Warning] No further splits with positive gain, best gain: -inf\n",
      "[LightGBM] [Warning] No further splits with positive gain, best gain: -inf\n",
      "[LightGBM] [Warning] No further splits with positive gain, best gain: -inf\n",
      "[LightGBM] [Warning] No further splits with positive gain, best gain: -inf\n",
      "[LightGBM] [Warning] No further splits with positive gain, best gain: -inf\n",
      "[LightGBM] [Warning] No further splits with positive gain, best gain: -inf\n",
      "[LightGBM] [Warning] No further splits with positive gain, best gain: -inf\n",
      "[LightGBM] [Warning] No further splits with positive gain, best gain: -inf\n",
      "[LightGBM] [Warning] No further splits with positive gain, best gain: -inf\n",
      "[LightGBM] [Warning] No further splits with positive gain, best gain: -inf\n"
     ]
    },
    {
     "name": "stdout",
     "output_type": "stream",
     "text": [
      "2.989223615422197 0.5583510371338161\n",
      "4.513225158768416 0.5666269749150683\n"
     ]
    }
   ],
   "source": [
    "# Training performance for March\n",
    "model_mar = LGBMRegressor(learning_rate = 0.08, reg_lambda = 0.6, num_leaves=140, n_estimators=365, max_depth=6, random_state=2)\n",
    "model_mar.fit(X_train_mar, y_train_mar)\n",
    "\n",
    "# Testing performance for March\n",
    "y_test_pred_mar = model_mar.predict(X_test_mar)\n",
    "\n",
    "# Training performance for April\n",
    "model_apr = LGBMRegressor(learning_rate = 0.08, reg_lambda = 0.6, num_leaves=140, n_estimators=365, max_depth=6, random_state=2)\n",
    "model_apr.fit(X_train_apr, y_train_apr)\n",
    "\n",
    "# Testing performance for April\n",
    "y_test_pred_apr = model_apr.predict(X_test_apr)\n",
    "\n",
    "# Scores\n",
    "print(mean_squared_error(y_test_mar, y_test_pred_mar), r2_score(y_test_mar, y_test_pred_mar))\n",
    "print(mean_squared_error(y_test_apr, y_test_pred_apr), r2_score(y_test_apr, y_test_pred_apr))"
   ]
  },
  {
   "cell_type": "markdown",
   "id": "159c4581",
   "metadata": {},
   "source": [
    "The upper configuration provides superior performance."
   ]
  },
  {
   "cell_type": "markdown",
   "id": "4a8d3b83",
   "metadata": {},
   "source": [
    "## Are these MSE values good enough?\n",
    "This can be compared to the case, when only mean is predicted."
   ]
  },
  {
   "cell_type": "code",
   "execution_count": 125,
   "id": "8836a51d",
   "metadata": {},
   "outputs": [
    {
     "name": "stdout",
     "output_type": "stream",
     "text": [
      "6.768324770928779 0.0\n",
      "10.414181080799667 0.0\n"
     ]
    }
   ],
   "source": [
    "# predicted value is only mean\n",
    "y_test_pred_mar = pd.Series([np.mean(y_test_mar)]*len(y_test_mar))\n",
    "y_test_pred_apr = pd.Series([np.mean(y_test_apr)]*len(y_test_apr))\n",
    "\n",
    "# Scores\n",
    "print(mean_squared_error(y_test_mar, y_test_pred_mar), r2_score(y_test_mar, y_test_pred_mar))\n",
    "print(mean_squared_error(y_test_apr, y_test_pred_apr), r2_score(y_test_apr, y_test_pred_apr))"
   ]
  },
  {
   "cell_type": "markdown",
   "id": "7fa6d140",
   "metadata": {},
   "source": [
    "The MSE scores are much higher."
   ]
  },
  {
   "cell_type": "markdown",
   "id": "ba5e7751",
   "metadata": {},
   "source": [
    "## XGboost - Default Hyperparameters"
   ]
  },
  {
   "cell_type": "code",
   "execution_count": 51,
   "id": "a22d28a8",
   "metadata": {},
   "outputs": [
    {
     "name": "stdout",
     "output_type": "stream",
     "text": [
      "3.1199026678719535 0.539043664932251\n",
      "4.845478372784829 0.5347230434417725\n"
     ]
    }
   ],
   "source": [
    "# Training performance for March\n",
    "import xgboost as xgb\n",
    "model_mar = xgb.XGBRegressor(objective='reg:squarederror', random_state=2)\n",
    "model_mar.fit(X_train_mar, y_train_mar)\n",
    "\n",
    "# Testing performance for March\n",
    "from sklearn.metrics import mean_squared_error\n",
    "from sklearn.metrics import r2_score\n",
    "y_test_pred_mar = model_mar.predict(X_test_mar)\n",
    "\n",
    "# Training performance for April\n",
    "model_apr = xgb.XGBRegressor(objective='reg:squarederror', random_state=2)\n",
    "model_apr.fit(X_train_apr, y_train_apr)\n",
    "\n",
    "# Testing performance for April\n",
    "from sklearn.metrics import mean_squared_error\n",
    "from sklearn.metrics import r2_score\n",
    "y_test_pred_apr = model_apr.predict(X_test_apr)\n",
    "\n",
    "# Scores\n",
    "print(mean_squared_error(y_test_mar, y_test_pred_mar), r2_score(y_test_mar, y_test_pred_mar))\n",
    "print(mean_squared_error(y_test_apr, y_test_pred_apr), r2_score(y_test_apr, y_test_pred_apr))"
   ]
  },
  {
   "cell_type": "markdown",
   "id": "b53a8dbe",
   "metadata": {},
   "source": [
    "With default hyperparameters, the performance for XGboost is poorer to LGBM (default hyperparameters) and HGBT (default hyperparameters). However, it's better than RF."
   ]
  },
  {
   "cell_type": "markdown",
   "id": "fe4cf09a",
   "metadata": {},
   "source": [
    "## XGboost - Tuning\n",
    "It's very sensitive to hyperparameter tuning."
   ]
  },
  {
   "cell_type": "code",
   "execution_count": 10,
   "id": "59f31849",
   "metadata": {},
   "outputs": [],
   "source": [
    "# Defining the hyperparameter space - attempt 1\n",
    "import numpy as np\n",
    "\n",
    "param_dist = {\n",
    "    'n_estimators': np.arange(100, 300, 50),           \n",
    "    'learning_rate': np.arange(0.07, 0.14, 0.01),\n",
    "    'max_depth': np.arange(3,15,3),\n",
    "    'subsample': np.arange(0.6, 1.0, 0.1),\n",
    "    'reg_lambda': [0.1, 0.3, 0.5, 0.7]\n",
    "}"
   ]
  },
  {
   "cell_type": "code",
   "execution_count": 11,
   "id": "476cf36d",
   "metadata": {},
   "outputs": [],
   "source": [
    "# Settting up the randomised search\n",
    "from sklearn.model_selection import RandomizedSearchCV\n",
    "\n",
    "# Initialize RandomizedSearchCV with the already trained model (for March only) - attempt 1\n",
    "\n",
    "random_search = RandomizedSearchCV(\n",
    "    estimator = model_mar,  # Pre-trained model for March\n",
    "    param_distributions = param_dist,\n",
    "    n_iter = 75,  # Number of random combinations to try\n",
    "    cv = None,    # Can't be used since temporal dependencies are present\n",
    "    scoring ='neg_mean_squared_error',\n",
    "    n_jobs = -1,  # Use all CPU cores\n",
    "    random_state=42\n",
    ")"
   ]
  },
  {
   "cell_type": "code",
   "execution_count": 12,
   "id": "dba9d2db",
   "metadata": {},
   "outputs": [
    {
     "name": "stdout",
     "output_type": "stream",
     "text": [
      "Best hyperparameters found: {'subsample': 0.6, 'reg_lambda': 0.7, 'n_estimators': 250, 'max_depth': 6, 'learning_rate': 0.07}\n"
     ]
    }
   ],
   "source": [
    "# Fit RandomizedSearchCV (this does tuning but does not re-train your initial model)\n",
    "random_search.fit(X_train_mar, y_train_mar)\n",
    "\n",
    "# Getting the best hyperparameters\n",
    "best_params = random_search.best_params_\n",
    "print(\"Best hyperparameters found:\", best_params)"
   ]
  },
  {
   "cell_type": "code",
   "execution_count": 15,
   "id": "ee72f10d",
   "metadata": {},
   "outputs": [
    {
     "name": "stdout",
     "output_type": "stream",
     "text": [
      "2.381520334644271 0.38696444034576416\n"
     ]
    }
   ],
   "source": [
    "# Evaluating performance on the validation set\n",
    "best_rf = random_search.best_estimator_\n",
    "y_val_pred_mar = best_rf.predict(X_val_mar)\n",
    "\n",
    "# Calculate score on validation set\n",
    "print(mean_squared_error(y_val_mar, y_val_pred_mar), r2_score(y_val_mar, y_val_pred_mar))"
   ]
  },
  {
   "cell_type": "markdown",
   "id": "4996aa86",
   "metadata": {},
   "source": [
    "Performs appears to be very good on the first attempt."
   ]
  },
  {
   "cell_type": "code",
   "execution_count": 16,
   "id": "da2276d6",
   "metadata": {},
   "outputs": [],
   "source": [
    "# Defining the hyperparameter space - attempt 2\n",
    "\n",
    "param_dist = {\n",
    "    'n_estimators': np.arange(150, 400, 50),           \n",
    "    'learning_rate': np.arange(0.05, 0.12, 0.01),\n",
    "    'max_depth': np.arange(4,12,2),\n",
    "    'subsample': np.arange(0.3, 0.7, 0.1),\n",
    "    'reg_lambda': [0.4, 0.6, 0.7, 0.8]\n",
    "}"
   ]
  },
  {
   "cell_type": "code",
   "execution_count": 17,
   "id": "9fb493b0",
   "metadata": {},
   "outputs": [],
   "source": [
    "# Settting up the randomised search\n",
    "from sklearn.model_selection import RandomizedSearchCV\n",
    "\n",
    "# Initialize RandomizedSearchCV with the already trained model (for March only) - attempt 2\n",
    "\n",
    "random_search = RandomizedSearchCV(\n",
    "    estimator = model_mar,  # Pre-trained model for March\n",
    "    param_distributions = param_dist,\n",
    "    n_iter = 60,  # Number of random combinations to try\n",
    "    cv = None,    # Can't be used since temporal dependencies are present\n",
    "    scoring ='neg_mean_squared_error',\n",
    "    n_jobs = -1,  # Use all CPU cores\n",
    "    random_state=42\n",
    ")"
   ]
  },
  {
   "cell_type": "code",
   "execution_count": 18,
   "id": "84752f7f",
   "metadata": {},
   "outputs": [
    {
     "name": "stdout",
     "output_type": "stream",
     "text": [
      "Best hyperparameters found: {'subsample': 0.6000000000000001, 'reg_lambda': 0.4, 'n_estimators': 200, 'max_depth': 8, 'learning_rate': 0.05}\n"
     ]
    }
   ],
   "source": [
    "# Fit RandomizedSearchCV (this does tuning but does not re-train your initial model)\n",
    "random_search.fit(X_train_mar, y_train_mar)\n",
    "\n",
    "# Getting the best hyperparameters\n",
    "best_params = random_search.best_params_\n",
    "print(\"Best hyperparameters found:\", best_params)"
   ]
  },
  {
   "cell_type": "code",
   "execution_count": 19,
   "id": "3e06087d",
   "metadata": {},
   "outputs": [
    {
     "name": "stdout",
     "output_type": "stream",
     "text": [
      "2.4090554505767217 0.3798765540122986\n"
     ]
    }
   ],
   "source": [
    "# Evaluating performance on the validation set\n",
    "best_rf = random_search.best_estimator_\n",
    "y_val_pred_mar = best_rf.predict(X_val_mar)\n",
    "\n",
    "# Calculate score on validation set\n",
    "print(mean_squared_error(y_val_mar, y_val_pred_mar), r2_score(y_val_mar, y_val_pred_mar))"
   ]
  },
  {
   "cell_type": "markdown",
   "id": "6fbaecc1",
   "metadata": {},
   "source": [
    "Performance reduced. Attempt 1 was better."
   ]
  },
  {
   "cell_type": "code",
   "execution_count": 20,
   "id": "e93eefd3",
   "metadata": {},
   "outputs": [],
   "source": [
    "# Defining the hyperparameter space - attempt 3\n",
    "\n",
    "param_dist = {\n",
    "    'n_estimators': np.arange(170, 350, 30),           \n",
    "    'learning_rate': np.arange(0.04, 0.1, 0.02),\n",
    "    'max_depth': np.arange(5,11,2),\n",
    "    'subsample': np.arange(0.5, 0.7, 0.05),\n",
    "    'reg_lambda': np.arange(0.3,0.7,0.2)\n",
    "}"
   ]
  },
  {
   "cell_type": "code",
   "execution_count": 21,
   "id": "c33660b9",
   "metadata": {},
   "outputs": [],
   "source": [
    "# Settting up the randomised search\n",
    "from sklearn.model_selection import RandomizedSearchCV\n",
    "\n",
    "# Initialize RandomizedSearchCV with the already trained model (for March only) - attempt 3\n",
    "\n",
    "random_search = RandomizedSearchCV(\n",
    "    estimator = model_mar,  # Pre-trained model for March\n",
    "    param_distributions = param_dist,\n",
    "    n_iter = 60,  # Number of random combinations to try\n",
    "    cv = None,    # Can't be used since temporal dependencies are present\n",
    "    scoring ='neg_mean_squared_error',\n",
    "    n_jobs = -1,  # Use all CPU cores\n",
    "    random_state=42\n",
    ")"
   ]
  },
  {
   "cell_type": "code",
   "execution_count": 22,
   "id": "0ac769ca",
   "metadata": {},
   "outputs": [
    {
     "name": "stdout",
     "output_type": "stream",
     "text": [
      "Best hyperparameters found: {'subsample': 0.6500000000000001, 'reg_lambda': 0.3, 'n_estimators': 260, 'max_depth': 7, 'learning_rate': 0.04}\n"
     ]
    }
   ],
   "source": [
    "# Fit RandomizedSearchCV (this does tuning but does not re-train your initial model)\n",
    "random_search.fit(X_train_mar, y_train_mar)\n",
    "\n",
    "# Getting the best hyperparameters\n",
    "best_params = random_search.best_params_\n",
    "print(\"Best hyperparameters found:\", best_params)"
   ]
  },
  {
   "cell_type": "code",
   "execution_count": 23,
   "id": "9cd4bdc7",
   "metadata": {},
   "outputs": [
    {
     "name": "stdout",
     "output_type": "stream",
     "text": [
      "2.4177641600910236 0.37763482332229614\n"
     ]
    }
   ],
   "source": [
    "# Evaluating performance on the validation set\n",
    "best_rf = random_search.best_estimator_\n",
    "y_val_pred_mar = best_rf.predict(X_val_mar)\n",
    "\n",
    "# Calculate score on validation set\n",
    "print(mean_squared_error(y_val_mar, y_val_pred_mar), r2_score(y_val_mar, y_val_pred_mar))"
   ]
  },
  {
   "cell_type": "code",
   "execution_count": 24,
   "id": "69027021",
   "metadata": {},
   "outputs": [],
   "source": [
    "# Defining the hyperparameter space - attempt 4\n",
    "\n",
    "param_dist = {\n",
    "    'n_estimators': np.arange(250, 450, 50),   #        \n",
    "    'learning_rate': np.arange(0.01, 0.07, 0.02),\n",
    "    'max_depth': np.arange(4,8,1), #\n",
    "    'subsample': np.arange(0.6, 0.8, 0.05), #\n",
    "    'reg_lambda': np.arange(0.8, 1.4 ,0.2)\n",
    "}"
   ]
  },
  {
   "cell_type": "code",
   "execution_count": 25,
   "id": "babbb314",
   "metadata": {},
   "outputs": [],
   "source": [
    "# Settting up the randomised search\n",
    "from sklearn.model_selection import RandomizedSearchCV\n",
    "\n",
    "# Initialize RandomizedSearchCV with the already trained model (for March only) - attempt 4\n",
    "\n",
    "random_search = RandomizedSearchCV(\n",
    "    estimator = model_mar,  # Pre-trained model for March\n",
    "    param_distributions = param_dist,\n",
    "    n_iter = 60,  # Number of random combinations to try\n",
    "    cv = None,    # Can't be used since temporal dependencies are present\n",
    "    scoring ='neg_mean_squared_error',\n",
    "    n_jobs = -1,  # Use all CPU cores\n",
    "    random_state=42\n",
    ")"
   ]
  },
  {
   "cell_type": "code",
   "execution_count": 26,
   "id": "ba7373ea",
   "metadata": {},
   "outputs": [
    {
     "name": "stdout",
     "output_type": "stream",
     "text": [
      "Best hyperparameters found: {'subsample': 0.65, 'reg_lambda': 1.2, 'n_estimators': 300, 'max_depth': 7, 'learning_rate': 0.049999999999999996}\n"
     ]
    }
   ],
   "source": [
    "# Fit RandomizedSearchCV (this does tuning but does not re-train your initial model)\n",
    "random_search.fit(X_train_mar, y_train_mar)\n",
    "\n",
    "# Getting the best hyperparameters\n",
    "best_params = random_search.best_params_\n",
    "print(\"Best hyperparameters found:\", best_params)"
   ]
  },
  {
   "cell_type": "code",
   "execution_count": 27,
   "id": "154f4260",
   "metadata": {},
   "outputs": [
    {
     "name": "stdout",
     "output_type": "stream",
     "text": [
      "2.336713119972192 0.3984984755516052\n"
     ]
    }
   ],
   "source": [
    "# Evaluating performance on the validation set\n",
    "best_rf = random_search.best_estimator_\n",
    "y_val_pred_mar = best_rf.predict(X_val_mar)\n",
    "\n",
    "# Calculate score on validation set\n",
    "print(mean_squared_error(y_val_mar, y_val_pred_mar), r2_score(y_val_mar, y_val_pred_mar))"
   ]
  },
  {
   "cell_type": "markdown",
   "id": "090a03dc",
   "metadata": {},
   "source": [
    "Best performance so far."
   ]
  },
  {
   "cell_type": "code",
   "execution_count": 28,
   "id": "53920bde",
   "metadata": {},
   "outputs": [],
   "source": [
    "# Defining the hyperparameter space - attempt 5\n",
    "\n",
    "param_dist = {\n",
    "    'n_estimators': np.arange(220, 360, 20),  #      \n",
    "    'learning_rate': np.arange(0.04, 0.08, 0.01), #\n",
    "    'max_depth': np.arange(5,9,1), #\n",
    "    'subsample': np.arange(0.55, 0.65, 0.05), #\n",
    "    'reg_lambda': np.arange(0.8, 1.8 ,0.2)\n",
    "}"
   ]
  },
  {
   "cell_type": "code",
   "execution_count": 29,
   "id": "ad437bbf",
   "metadata": {},
   "outputs": [],
   "source": [
    "# Settting up the randomised search\n",
    "from sklearn.model_selection import RandomizedSearchCV\n",
    "\n",
    "# Initialize RandomizedSearchCV with the already trained model (for March only) - attempt 5\n",
    "\n",
    "random_search = RandomizedSearchCV(\n",
    "    estimator = model_mar,  # Pre-trained model for March\n",
    "    param_distributions = param_dist,\n",
    "    n_iter = 60,  # Number of random combinations to try\n",
    "    cv = None,    # Can't be used since temporal dependencies are present\n",
    "    scoring ='neg_mean_squared_error',\n",
    "    n_jobs = -1,  # Use all CPU cores\n",
    "    random_state=42\n",
    ")"
   ]
  },
  {
   "cell_type": "code",
   "execution_count": 30,
   "id": "d928b677",
   "metadata": {},
   "outputs": [
    {
     "name": "stdout",
     "output_type": "stream",
     "text": [
      "Best hyperparameters found: {'subsample': 0.6000000000000001, 'reg_lambda': 1.4, 'n_estimators': 240, 'max_depth': 7, 'learning_rate': 0.07}\n"
     ]
    }
   ],
   "source": [
    "# Fit RandomizedSearchCV (this does tuning but does not re-train your initial model)\n",
    "random_search.fit(X_train_mar, y_train_mar)\n",
    "\n",
    "# Getting the best hyperparameters\n",
    "best_params = random_search.best_params_\n",
    "print(\"Best hyperparameters found:\", best_params)"
   ]
  },
  {
   "cell_type": "code",
   "execution_count": 31,
   "id": "451a3b12",
   "metadata": {},
   "outputs": [
    {
     "name": "stdout",
     "output_type": "stream",
     "text": [
      "2.3475173210552907 0.3957173824310303\n"
     ]
    }
   ],
   "source": [
    "# Evaluating performance on the validation set\n",
    "best_rf = random_search.best_estimator_\n",
    "y_val_pred_mar = best_rf.predict(X_val_mar)\n",
    "\n",
    "# Calculate score on validation set\n",
    "print(mean_squared_error(y_val_mar, y_val_pred_mar), r2_score(y_val_mar, y_val_pred_mar))"
   ]
  },
  {
   "cell_type": "code",
   "execution_count": 32,
   "id": "75a01aa5",
   "metadata": {},
   "outputs": [],
   "source": [
    "# Defining the hyperparameter space - attempt 6\n",
    "\n",
    "param_dist = {\n",
    "    'n_estimators': np.arange(200, 440, 20),      #  \n",
    "    'learning_rate': np.arange(0.03, 0.11, 0.02), # \n",
    "    'max_depth': np.arange(6,8,1),               #\n",
    "    'subsample': np.arange(0.6, 0.65, 0.05),     #\n",
    "    'reg_lambda': np.arange(0.3, 2.1 ,0.3)\n",
    "}"
   ]
  },
  {
   "cell_type": "code",
   "execution_count": 33,
   "id": "ad81f946",
   "metadata": {},
   "outputs": [],
   "source": [
    "# Settting up the randomised search\n",
    "from sklearn.model_selection import RandomizedSearchCV\n",
    "\n",
    "# Initialize RandomizedSearchCV with the already trained model (for March only) - attempt 6\n",
    "\n",
    "random_search = RandomizedSearchCV(\n",
    "    estimator = model_mar,  # Pre-trained model for March\n",
    "    param_distributions = param_dist,\n",
    "    n_iter = 80,  # Number of random combinations to try\n",
    "    cv = None,    # Can't be used since temporal dependencies are present\n",
    "    scoring ='neg_mean_squared_error',\n",
    "    n_jobs = -1,  # Use all CPU cores\n",
    "    random_state=42\n",
    ")"
   ]
  },
  {
   "cell_type": "code",
   "execution_count": 34,
   "id": "ca1160a1",
   "metadata": {},
   "outputs": [
    {
     "name": "stdout",
     "output_type": "stream",
     "text": [
      "Best hyperparameters found: {'subsample': 0.6, 'reg_lambda': 1.2, 'n_estimators': 300, 'max_depth': 7, 'learning_rate': 0.07}\n"
     ]
    }
   ],
   "source": [
    "# Fit RandomizedSearchCV (this does tuning but does not re-train your initial model)\n",
    "random_search.fit(X_train_mar, y_train_mar)\n",
    "\n",
    "# Getting the best hyperparameters\n",
    "best_params = random_search.best_params_\n",
    "print(\"Best hyperparameters found:\", best_params)"
   ]
  },
  {
   "cell_type": "code",
   "execution_count": 35,
   "id": "8d58453f",
   "metadata": {},
   "outputs": [
    {
     "name": "stdout",
     "output_type": "stream",
     "text": [
      "2.330370119419308 0.4001312255859375\n"
     ]
    }
   ],
   "source": [
    "# Evaluating performance on the validation set\n",
    "best_rf = random_search.best_estimator_\n",
    "y_val_pred_mar = best_rf.predict(X_val_mar)\n",
    "\n",
    "# Calculate score on validation set\n",
    "print(mean_squared_error(y_val_mar, y_val_pred_mar), r2_score(y_val_mar, y_val_pred_mar))"
   ]
  },
  {
   "cell_type": "code",
   "execution_count": 36,
   "id": "b2f10433",
   "metadata": {},
   "outputs": [],
   "source": [
    "# Defining the hyperparameter space - attempt 7\n",
    "\n",
    "param_dist = {\n",
    "    'n_estimators': np.arange(180, 330, 30),      #  \n",
    "    'learning_rate': np.arange(0.07, 0.21, 0.03), #\n",
    "    'max_depth': np.arange(3,7,2),     #          \n",
    "    'subsample': [0.4, 0.6, 0.8, 1.0],     #\n",
    "    'reg_lambda': np.arange(0.3, 2.1 ,0.3)\n",
    "}"
   ]
  },
  {
   "cell_type": "code",
   "execution_count": 37,
   "id": "d28cd4d5",
   "metadata": {},
   "outputs": [],
   "source": [
    "# Settting up the randomised search\n",
    "from sklearn.model_selection import RandomizedSearchCV\n",
    "\n",
    "# Initialize RandomizedSearchCV with the already trained model (for March only) - attempt 7\n",
    "\n",
    "random_search = RandomizedSearchCV(\n",
    "    estimator = model_mar,  # Pre-trained model for March\n",
    "    param_distributions = param_dist,\n",
    "    n_iter = 60,  # Number of random combinations to try\n",
    "    cv = None,    # Can't be used since temporal dependencies are present\n",
    "    scoring ='neg_mean_squared_error',\n",
    "    n_jobs = -1,  # Use all CPU cores\n",
    "    random_state=42\n",
    ")"
   ]
  },
  {
   "cell_type": "code",
   "execution_count": 38,
   "id": "8ee7fb75",
   "metadata": {},
   "outputs": [
    {
     "name": "stdout",
     "output_type": "stream",
     "text": [
      "Best hyperparameters found: {'subsample': 0.8, 'reg_lambda': 0.3, 'n_estimators': 180, 'max_depth': 5, 'learning_rate': 0.1}\n"
     ]
    }
   ],
   "source": [
    "# Fit RandomizedSearchCV (this does tuning but does not re-train your initial model)\n",
    "random_search.fit(X_train_mar, y_train_mar)\n",
    "\n",
    "# Getting the best hyperparameters\n",
    "best_params = random_search.best_params_\n",
    "print(\"Best hyperparameters found:\", best_params)"
   ]
  },
  {
   "cell_type": "code",
   "execution_count": 39,
   "id": "0e5a8b75",
   "metadata": {},
   "outputs": [
    {
     "name": "stdout",
     "output_type": "stream",
     "text": [
      "2.472174235047276 0.36362898349761963\n"
     ]
    }
   ],
   "source": [
    "# Evaluating performance on the validation set\n",
    "best_rf = random_search.best_estimator_\n",
    "y_val_pred_mar = best_rf.predict(X_val_mar)\n",
    "\n",
    "# Calculate score on validation set\n",
    "print(mean_squared_error(y_val_mar, y_val_pred_mar), r2_score(y_val_mar, y_val_pred_mar))"
   ]
  },
  {
   "cell_type": "code",
   "execution_count": 40,
   "id": "c2f0f59c",
   "metadata": {},
   "outputs": [],
   "source": [
    "# Defining the hyperparameter space - attempt 8\n",
    "\n",
    "param_dist = {\n",
    "    'n_estimators': np.arange(150, 390, 30),    #   \n",
    "    'learning_rate': np.arange(0.04, 0.12, 0.02), #\n",
    "    'max_depth': np.arange(4,8,2),      #        \n",
    "    'subsample': [0.6, 0.7, 0.8],   #  \n",
    "    'reg_lambda': np.arange(0.2, 2.0, 0.3) #\n",
    "}"
   ]
  },
  {
   "cell_type": "code",
   "execution_count": 41,
   "id": "512a141c",
   "metadata": {},
   "outputs": [],
   "source": [
    "# Settting up the randomised search\n",
    "from sklearn.model_selection import RandomizedSearchCV\n",
    "\n",
    "# Initialize RandomizedSearchCV with the already trained model (for March only) - attempt 8\n",
    "\n",
    "random_search = RandomizedSearchCV(\n",
    "    estimator = model_mar,  # Pre-trained model for March\n",
    "    param_distributions = param_dist,\n",
    "    n_iter = 90,  # Number of random combinations to try\n",
    "    cv = None,    # Can't be used since temporal dependencies are present\n",
    "    scoring ='neg_mean_squared_error',\n",
    "    n_jobs = -1,  # Use all CPU cores\n",
    "    random_state=42\n",
    ")"
   ]
  },
  {
   "cell_type": "code",
   "execution_count": 42,
   "id": "020b7385",
   "metadata": {},
   "outputs": [
    {
     "name": "stdout",
     "output_type": "stream",
     "text": [
      "Best hyperparameters found: {'subsample': 0.7, 'reg_lambda': 0.5, 'n_estimators': 360, 'max_depth': 6, 'learning_rate': 0.04}\n"
     ]
    }
   ],
   "source": [
    "# Fit RandomizedSearchCV (this does tuning but does not re-train your initial model)\n",
    "random_search.fit(X_train_mar, y_train_mar)\n",
    "\n",
    "# Getting the best hyperparameters\n",
    "best_params = random_search.best_params_\n",
    "print(\"Best hyperparameters found:\", best_params)"
   ]
  },
  {
   "cell_type": "code",
   "execution_count": 43,
   "id": "9f0a3034",
   "metadata": {},
   "outputs": [
    {
     "name": "stdout",
     "output_type": "stream",
     "text": [
      "2.4335572953411404 0.3735694885253906\n"
     ]
    }
   ],
   "source": [
    "# Evaluating performance on the validation set\n",
    "best_rf = random_search.best_estimator_\n",
    "y_val_pred_mar = best_rf.predict(X_val_mar)\n",
    "\n",
    "# Calculate score on validation set\n",
    "print(mean_squared_error(y_val_mar, y_val_pred_mar), r2_score(y_val_mar, y_val_pred_mar))"
   ]
  },
  {
   "cell_type": "markdown",
   "id": "1af63b64",
   "metadata": {},
   "source": [
    "n_estimators is highly. It's possible that value is too high and leading to over-fitting."
   ]
  },
  {
   "cell_type": "code",
   "execution_count": 44,
   "id": "b312d8d2",
   "metadata": {},
   "outputs": [],
   "source": [
    "# Defining the hyperparameter space - attempt 9\n",
    "\n",
    "param_dist = {\n",
    "    'n_estimators': np.arange(160, 260, 20),     #  \n",
    "    'learning_rate': np.arange(0.04, 0.14, 0.02), #\n",
    "    'max_depth': np.arange(4,8,2),   #           \n",
    "    'subsample': [0.6, 0.7, 0.8],   #  \n",
    "    'reg_lambda': np.arange(0.5, 1.5, 0.2) #\n",
    "}"
   ]
  },
  {
   "cell_type": "code",
   "execution_count": 45,
   "id": "c066accf",
   "metadata": {},
   "outputs": [],
   "source": [
    "# Settting up the randomised search\n",
    "from sklearn.model_selection import RandomizedSearchCV\n",
    "\n",
    "# Initialize RandomizedSearchCV with the already trained model (for March only) - attempt 9\n",
    "\n",
    "random_search = RandomizedSearchCV(\n",
    "    estimator = model_mar,  # Pre-trained model for March\n",
    "    param_distributions = param_dist,\n",
    "    n_iter = 90,  # Number of random combinations to try\n",
    "    cv = None,    # Can't be used since temporal dependencies are present\n",
    "    scoring ='neg_mean_squared_error',\n",
    "    n_jobs = -1,  # Use all CPU cores\n",
    "    random_state=42\n",
    ")"
   ]
  },
  {
   "cell_type": "code",
   "execution_count": 46,
   "id": "f6e4f872",
   "metadata": {},
   "outputs": [
    {
     "name": "stdout",
     "output_type": "stream",
     "text": [
      "Best hyperparameters found: {'subsample': 0.6, 'reg_lambda': 0.7, 'n_estimators': 220, 'max_depth': 6, 'learning_rate': 0.07999999999999999}\n"
     ]
    }
   ],
   "source": [
    "# Fit RandomizedSearchCV (this does tuning but does not re-train your initial model)\n",
    "random_search.fit(X_train_mar, y_train_mar)\n",
    "\n",
    "# Getting the best hyperparameters\n",
    "best_params = random_search.best_params_\n",
    "print(\"Best hyperparameters found:\", best_params)"
   ]
  },
  {
   "cell_type": "code",
   "execution_count": 47,
   "id": "018212ab",
   "metadata": {},
   "outputs": [
    {
     "name": "stdout",
     "output_type": "stream",
     "text": [
      "2.4163018043936253 0.3780112862586975\n"
     ]
    }
   ],
   "source": [
    "# Evaluating performance on the validation set\n",
    "best_rf = random_search.best_estimator_\n",
    "y_val_pred_mar = best_rf.predict(X_val_mar)\n",
    "\n",
    "# Calculate score on validation set\n",
    "print(mean_squared_error(y_val_mar, y_val_pred_mar), r2_score(y_val_mar, y_val_pred_mar))"
   ]
  },
  {
   "cell_type": "code",
   "execution_count": 52,
   "id": "b157a7fd",
   "metadata": {},
   "outputs": [],
   "source": [
    "# Defining the hyperparameter space - attempt 10\n",
    "\n",
    "param_dist = {\n",
    "    'n_estimators': np.arange(240, 300, 10),    #   \n",
    "    'learning_rate': np.arange(0.05, 0.08, 0.01), #\n",
    "    'max_depth': [6,7],   #           \n",
    "    'subsample': [0.5, 0.6],   #\n",
    "    'reg_lambda': np.arange(0.8, 1.6, 0.2) #\n",
    "}"
   ]
  },
  {
   "cell_type": "code",
   "execution_count": 54,
   "id": "c5d2b8ed",
   "metadata": {},
   "outputs": [],
   "source": [
    "# Settting up the randomised search\n",
    "from sklearn.model_selection import RandomizedSearchCV\n",
    "\n",
    "# Initialize RandomizedSearchCV with the already trained model (for March only) - attempt 10\n",
    "\n",
    "random_search = RandomizedSearchCV(\n",
    "    estimator = model_mar,  # Pre-trained model for March\n",
    "    param_distributions = param_dist,\n",
    "    n_iter = 120,  # Number of random combinations to try\n",
    "    cv = None,    # Can't be used since temporal dependencies are present\n",
    "    scoring ='neg_mean_squared_error',\n",
    "    n_jobs = -1,  # Use all CPU cores\n",
    "    random_state=42\n",
    ")"
   ]
  },
  {
   "cell_type": "code",
   "execution_count": 55,
   "id": "63dfc801",
   "metadata": {},
   "outputs": [
    {
     "name": "stdout",
     "output_type": "stream",
     "text": [
      "Best hyperparameters found: {'subsample': 0.6, 'reg_lambda': 1.4, 'n_estimators': 270, 'max_depth': 7, 'learning_rate': 0.07}\n"
     ]
    }
   ],
   "source": [
    "# Fit RandomizedSearchCV (this does tuning but does not re-train your initial model)\n",
    "random_search.fit(X_train_mar, y_train_mar)\n",
    "\n",
    "# Getting the best hyperparameters\n",
    "best_params = random_search.best_params_\n",
    "print(\"Best hyperparameters found:\", best_params)"
   ]
  },
  {
   "cell_type": "code",
   "execution_count": 56,
   "id": "7d744082",
   "metadata": {},
   "outputs": [
    {
     "name": "stdout",
     "output_type": "stream",
     "text": [
      "2.3475485825199507 0.3957092761993408\n"
     ]
    }
   ],
   "source": [
    "# Evaluating performance on the validation set\n",
    "best_rf = random_search.best_estimator_\n",
    "y_val_pred_mar = best_rf.predict(X_val_mar)\n",
    "\n",
    "# Calculate score on validation set\n",
    "print(mean_squared_error(y_val_mar, y_val_pred_mar), r2_score(y_val_mar, y_val_pred_mar))"
   ]
  },
  {
   "cell_type": "markdown",
   "id": "3cd8c79b",
   "metadata": {},
   "source": [
    "## Tuned XGboost - Performance on Test Set\n",
    "There are four configurations that are yielding similar performance on the test set."
   ]
  },
  {
   "cell_type": "code",
   "execution_count": 57,
   "id": "42c65324",
   "metadata": {},
   "outputs": [
    {
     "name": "stdout",
     "output_type": "stream",
     "text": [
      "3.0285539964353303 0.552540123462677\n",
      "4.797032504639687 0.5393749475479126\n"
     ]
    }
   ],
   "source": [
    "#xgb_model = xgb.XGBRegressor(objective='reg:squarederror', n_estimators=100)\n",
    "\n",
    "# Training performance for March\n",
    "model_mar = xgb.XGBRegressor(objective='reg:squarederror', subsample = 0.65, reg_lambda = 1.2, n_estimators=300, max_depth=7, learning_rate=0.05, random_state=2)\n",
    "model_mar.fit(X_train_mar, y_train_mar)\n",
    "\n",
    "# Testing performance for March\n",
    "y_test_pred_mar = model_mar.predict(X_test_mar)\n",
    "\n",
    "# Training performance for April\n",
    "model_apr = xgb.XGBRegressor(objective='reg:squarederror', subsample = 0.65, reg_lambda = 1.2, n_estimators=300, max_depth=7, learning_rate=0.05, random_state=2)\n",
    "model_apr.fit(X_train_apr, y_train_apr)\n",
    "\n",
    "# Testing performance for April\n",
    "y_test_pred_apr = model_apr.predict(X_test_apr)\n",
    "\n",
    "# Scores\n",
    "print(mean_squared_error(y_test_mar, y_test_pred_mar), r2_score(y_test_mar, y_test_pred_mar))\n",
    "print(mean_squared_error(y_test_apr, y_test_pred_apr), r2_score(y_test_apr, y_test_pred_apr))"
   ]
  },
  {
   "cell_type": "markdown",
   "id": "16f0fb95",
   "metadata": {},
   "source": [
    "Avg MSE = 3.9"
   ]
  },
  {
   "cell_type": "code",
   "execution_count": 58,
   "id": "a145fde4",
   "metadata": {},
   "outputs": [
    {
     "name": "stdout",
     "output_type": "stream",
     "text": [
      "2.9533956630586378 0.563644528388977\n",
      "4.760836494385807 0.5428506135940552\n"
     ]
    }
   ],
   "source": [
    "#xgb_model = xgb.XGBRegressor(objective='reg:squarederror', n_estimators=100)\n",
    "\n",
    "# Training performance for March\n",
    "model_mar = xgb.XGBRegressor(objective='reg:squarederror', subsample = 0.6, reg_lambda = 1.4, n_estimators=240, max_depth=7, learning_rate=0.07, random_state=2)\n",
    "model_mar.fit(X_train_mar, y_train_mar)\n",
    "\n",
    "# Testing performance for March\n",
    "y_test_pred_mar = model_mar.predict(X_test_mar)\n",
    "\n",
    "# Training performance for April\n",
    "model_apr = xgb.XGBRegressor(objective='reg:squarederror', subsample = 0.6, reg_lambda = 1.4, n_estimators=240, max_depth=7, learning_rate=0.07, random_state=2)\n",
    "model_apr.fit(X_train_apr, y_train_apr)\n",
    "\n",
    "# Testing performance for April\n",
    "y_test_pred_apr = model_apr.predict(X_test_apr)\n",
    "\n",
    "# Scores\n",
    "print(mean_squared_error(y_test_mar, y_test_pred_mar), r2_score(y_test_mar, y_test_pred_mar))\n",
    "print(mean_squared_error(y_test_apr, y_test_pred_apr), r2_score(y_test_apr, y_test_pred_apr))"
   ]
  },
  {
   "cell_type": "markdown",
   "id": "c46f2e20",
   "metadata": {},
   "source": [
    "Avg MSE = 3.85"
   ]
  },
  {
   "cell_type": "code",
   "execution_count": 59,
   "id": "bfffe7f7",
   "metadata": {},
   "outputs": [
    {
     "name": "stdout",
     "output_type": "stream",
     "text": [
      "2.9755611360812035 0.5603696703910828\n",
      "4.625242844973411 0.5558706521987915\n"
     ]
    }
   ],
   "source": [
    "#xgb_model = xgb.XGBRegressor(objective='reg:squarederror', n_estimators=100)\n",
    "\n",
    "# Training performance for March\n",
    "model_mar = xgb.XGBRegressor(objective='reg:squarederror', subsample = 0.6, reg_lambda = 1.2, n_estimators=300, max_depth=7, learning_rate=0.07, random_state=2)\n",
    "model_mar.fit(X_train_mar, y_train_mar)\n",
    "\n",
    "# Testing performance for March\n",
    "y_test_pred_mar = model_mar.predict(X_test_mar)\n",
    "\n",
    "# Training performance for April\n",
    "model_apr = xgb.XGBRegressor(objective='reg:squarederror', subsample = 0.6, reg_lambda = 1.2, n_estimators=300, max_depth=7, learning_rate=0.07, random_state=2)\n",
    "model_apr.fit(X_train_apr, y_train_apr)\n",
    "\n",
    "# Testing performance for April\n",
    "y_test_pred_apr = model_apr.predict(X_test_apr)\n",
    "\n",
    "# Scores\n",
    "print(mean_squared_error(y_test_mar, y_test_pred_mar), r2_score(y_test_mar, y_test_pred_mar))\n",
    "print(mean_squared_error(y_test_apr, y_test_pred_apr), r2_score(y_test_apr, y_test_pred_apr))"
   ]
  },
  {
   "cell_type": "markdown",
   "id": "92b0e578",
   "metadata": {},
   "source": [
    "Average MSE = 3.79 (Best of all 4 configurations)"
   ]
  },
  {
   "cell_type": "code",
   "execution_count": 60,
   "id": "96a6ef38",
   "metadata": {},
   "outputs": [
    {
     "name": "stdout",
     "output_type": "stream",
     "text": [
      "2.9412073314296645 0.5654453635215759\n",
      "4.755867745726371 0.5433276891708374\n"
     ]
    }
   ],
   "source": [
    "#xgb_model = xgb.XGBRegressor(objective='reg:squarederror', n_estimators=100)\n",
    "\n",
    "# Training performance for March\n",
    "model_mar = xgb.XGBRegressor(objective='reg:squarederror', subsample = 0.6, reg_lambda = 1.4, n_estimators=270, max_depth=7, learning_rate=0.07, random_state=2)\n",
    "model_mar.fit(X_train_mar, y_train_mar)\n",
    "\n",
    "# Testing performance for March\n",
    "y_test_pred_mar = model_mar.predict(X_test_mar)\n",
    "\n",
    "# Training performance for April\n",
    "model_apr = xgb.XGBRegressor(objective='reg:squarederror', subsample = 0.6, reg_lambda = 1.4, n_estimators=270, max_depth=7, learning_rate=0.07, random_state=2)\n",
    "model_apr.fit(X_train_apr, y_train_apr)\n",
    "\n",
    "# Testing performance for April\n",
    "y_test_pred_apr = model_apr.predict(X_test_apr)\n",
    "\n",
    "# Scores\n",
    "print(mean_squared_error(y_test_mar, y_test_pred_mar), r2_score(y_test_mar, y_test_pred_mar))\n",
    "print(mean_squared_error(y_test_apr, y_test_pred_apr), r2_score(y_test_apr, y_test_pred_apr))"
   ]
  },
  {
   "cell_type": "markdown",
   "id": "faba035f",
   "metadata": {},
   "source": [
    "Avg MSE = 3.84"
   ]
  }
 ],
 "metadata": {
  "kernelspec": {
   "display_name": "Python [conda env:base] *",
   "language": "python",
   "name": "conda-base-py"
  },
  "language_info": {
   "codemirror_mode": {
    "name": "ipython",
    "version": 3
   },
   "file_extension": ".py",
   "mimetype": "text/x-python",
   "name": "python",
   "nbconvert_exporter": "python",
   "pygments_lexer": "ipython3",
   "version": "3.12.7"
  }
 },
 "nbformat": 4,
 "nbformat_minor": 5
}
