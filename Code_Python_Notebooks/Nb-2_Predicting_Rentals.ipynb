{
 "cells": [
  {
   "cell_type": "markdown",
   "id": "8def7855",
   "metadata": {},
   "source": [
    "# Rental Predictions\n",
    "To make rental predictions, the *rentals* dataset first needs to be divided into training and test datasets."
   ]
  },
  {
   "cell_type": "code",
   "execution_count": 1,
   "id": "eba58ead",
   "metadata": {},
   "outputs": [
    {
     "data": {
      "text/html": [
       "<div>\n",
       "<style scoped>\n",
       "    .dataframe tbody tr th:only-of-type {\n",
       "        vertical-align: middle;\n",
       "    }\n",
       "\n",
       "    .dataframe tbody tr th {\n",
       "        vertical-align: top;\n",
       "    }\n",
       "\n",
       "    .dataframe thead th {\n",
       "        text-align: right;\n",
       "    }\n",
       "</style>\n",
       "<table border=\"1\" class=\"dataframe\">\n",
       "  <thead>\n",
       "    <tr style=\"text-align: right;\">\n",
       "      <th></th>\n",
       "      <th>name</th>\n",
       "      <th>lat</th>\n",
       "      <th>lng</th>\n",
       "      <th>station_id</th>\n",
       "      <th>datetime</th>\n",
       "      <th>#_rentals</th>\n",
       "      <th>year</th>\n",
       "      <th>month</th>\n",
       "      <th>day</th>\n",
       "      <th>hour</th>\n",
       "      <th>minute</th>\n",
       "      <th>second</th>\n",
       "      <th>microsecond</th>\n",
       "    </tr>\n",
       "  </thead>\n",
       "  <tbody>\n",
       "    <tr>\n",
       "      <th>0</th>\n",
       "      <td>1 Ave &amp; E 110 St</td>\n",
       "      <td>40.792327</td>\n",
       "      <td>-73.9383</td>\n",
       "      <td>0</td>\n",
       "      <td>2023-12-31 00:00:00.000</td>\n",
       "      <td>0</td>\n",
       "      <td>2023</td>\n",
       "      <td>12</td>\n",
       "      <td>31</td>\n",
       "      <td>0</td>\n",
       "      <td>0</td>\n",
       "      <td>0</td>\n",
       "      <td>0</td>\n",
       "    </tr>\n",
       "    <tr>\n",
       "      <th>1</th>\n",
       "      <td>1 Ave &amp; E 110 St</td>\n",
       "      <td>40.792327</td>\n",
       "      <td>-73.9383</td>\n",
       "      <td>0</td>\n",
       "      <td>2023-12-31 04:00:00.000</td>\n",
       "      <td>0</td>\n",
       "      <td>2023</td>\n",
       "      <td>12</td>\n",
       "      <td>31</td>\n",
       "      <td>4</td>\n",
       "      <td>0</td>\n",
       "      <td>0</td>\n",
       "      <td>0</td>\n",
       "    </tr>\n",
       "    <tr>\n",
       "      <th>2</th>\n",
       "      <td>1 Ave &amp; E 110 St</td>\n",
       "      <td>40.792327</td>\n",
       "      <td>-73.9383</td>\n",
       "      <td>0</td>\n",
       "      <td>2023-12-31 08:00:00.000</td>\n",
       "      <td>0</td>\n",
       "      <td>2023</td>\n",
       "      <td>12</td>\n",
       "      <td>31</td>\n",
       "      <td>8</td>\n",
       "      <td>0</td>\n",
       "      <td>0</td>\n",
       "      <td>0</td>\n",
       "    </tr>\n",
       "    <tr>\n",
       "      <th>3</th>\n",
       "      <td>1 Ave &amp; E 110 St</td>\n",
       "      <td>40.792327</td>\n",
       "      <td>-73.9383</td>\n",
       "      <td>0</td>\n",
       "      <td>2023-12-31 12:00:00.000</td>\n",
       "      <td>0</td>\n",
       "      <td>2023</td>\n",
       "      <td>12</td>\n",
       "      <td>31</td>\n",
       "      <td>12</td>\n",
       "      <td>0</td>\n",
       "      <td>0</td>\n",
       "      <td>0</td>\n",
       "    </tr>\n",
       "    <tr>\n",
       "      <th>4</th>\n",
       "      <td>1 Ave &amp; E 110 St</td>\n",
       "      <td>40.792327</td>\n",
       "      <td>-73.9383</td>\n",
       "      <td>0</td>\n",
       "      <td>2023-12-31 16:00:00.000</td>\n",
       "      <td>0</td>\n",
       "      <td>2023</td>\n",
       "      <td>12</td>\n",
       "      <td>31</td>\n",
       "      <td>16</td>\n",
       "      <td>0</td>\n",
       "      <td>0</td>\n",
       "      <td>0</td>\n",
       "    </tr>\n",
       "  </tbody>\n",
       "</table>\n",
       "</div>"
      ],
      "text/plain": [
       "               name        lat      lng  station_id                 datetime  \\\n",
       "0  1 Ave & E 110 St  40.792327 -73.9383           0  2023-12-31 00:00:00.000   \n",
       "1  1 Ave & E 110 St  40.792327 -73.9383           0  2023-12-31 04:00:00.000   \n",
       "2  1 Ave & E 110 St  40.792327 -73.9383           0  2023-12-31 08:00:00.000   \n",
       "3  1 Ave & E 110 St  40.792327 -73.9383           0  2023-12-31 12:00:00.000   \n",
       "4  1 Ave & E 110 St  40.792327 -73.9383           0  2023-12-31 16:00:00.000   \n",
       "\n",
       "   #_rentals  year  month  day  hour  minute  second  microsecond  \n",
       "0          0  2023     12   31     0       0       0            0  \n",
       "1          0  2023     12   31     4       0       0            0  \n",
       "2          0  2023     12   31     8       0       0            0  \n",
       "3          0  2023     12   31    12       0       0            0  \n",
       "4          0  2023     12   31    16       0       0            0  "
      ]
     },
     "execution_count": 1,
     "metadata": {},
     "output_type": "execute_result"
    }
   ],
   "source": [
    "# importing rentals \n",
    "import pandas as pd\n",
    "rentals = pd.read_csv(\"C:/Users/singh/Desktop/TUD (All Semesters)/Courses - Semester 5 (TU Dresden)/Research Task - Spatial Modelling/Code/rentals_with_demand.csv\")\n",
    "rentals.head()"
   ]
  },
  {
   "cell_type": "code",
   "execution_count": 2,
   "id": "4ee2d1e5",
   "metadata": {},
   "outputs": [
    {
     "data": {
      "text/html": [
       "<div>\n",
       "<style scoped>\n",
       "    .dataframe tbody tr th:only-of-type {\n",
       "        vertical-align: middle;\n",
       "    }\n",
       "\n",
       "    .dataframe tbody tr th {\n",
       "        vertical-align: top;\n",
       "    }\n",
       "\n",
       "    .dataframe thead th {\n",
       "        text-align: right;\n",
       "    }\n",
       "</style>\n",
       "<table border=\"1\" class=\"dataframe\">\n",
       "  <thead>\n",
       "    <tr style=\"text-align: right;\">\n",
       "      <th></th>\n",
       "      <th>name</th>\n",
       "      <th>lat</th>\n",
       "      <th>lng</th>\n",
       "      <th>station_id</th>\n",
       "      <th>datetime</th>\n",
       "      <th>#_rentals</th>\n",
       "      <th>year</th>\n",
       "      <th>month</th>\n",
       "      <th>day</th>\n",
       "      <th>hour</th>\n",
       "      <th>minute</th>\n",
       "      <th>second</th>\n",
       "      <th>microsecond</th>\n",
       "    </tr>\n",
       "  </thead>\n",
       "  <tbody>\n",
       "    <tr>\n",
       "      <th>125952</th>\n",
       "      <td>Broadway &amp; W 36 St</td>\n",
       "      <td>40.750977</td>\n",
       "      <td>-73.987654</td>\n",
       "      <td>656</td>\n",
       "      <td>2023-12-31 00:00:00.000</td>\n",
       "      <td>1</td>\n",
       "      <td>2023</td>\n",
       "      <td>12</td>\n",
       "      <td>31</td>\n",
       "      <td>0</td>\n",
       "      <td>0</td>\n",
       "      <td>0</td>\n",
       "      <td>0</td>\n",
       "    </tr>\n",
       "    <tr>\n",
       "      <th>125953</th>\n",
       "      <td>Broadway &amp; W 36 St</td>\n",
       "      <td>40.750977</td>\n",
       "      <td>-73.987654</td>\n",
       "      <td>656</td>\n",
       "      <td>2023-12-31 04:00:00.000</td>\n",
       "      <td>0</td>\n",
       "      <td>2023</td>\n",
       "      <td>12</td>\n",
       "      <td>31</td>\n",
       "      <td>4</td>\n",
       "      <td>0</td>\n",
       "      <td>0</td>\n",
       "      <td>0</td>\n",
       "    </tr>\n",
       "    <tr>\n",
       "      <th>125954</th>\n",
       "      <td>Broadway &amp; W 36 St</td>\n",
       "      <td>40.750977</td>\n",
       "      <td>-73.987654</td>\n",
       "      <td>656</td>\n",
       "      <td>2023-12-31 08:00:00.000</td>\n",
       "      <td>0</td>\n",
       "      <td>2023</td>\n",
       "      <td>12</td>\n",
       "      <td>31</td>\n",
       "      <td>8</td>\n",
       "      <td>0</td>\n",
       "      <td>0</td>\n",
       "      <td>0</td>\n",
       "    </tr>\n",
       "    <tr>\n",
       "      <th>125955</th>\n",
       "      <td>Broadway &amp; W 36 St</td>\n",
       "      <td>40.750977</td>\n",
       "      <td>-73.987654</td>\n",
       "      <td>656</td>\n",
       "      <td>2023-12-31 12:00:00.000</td>\n",
       "      <td>0</td>\n",
       "      <td>2023</td>\n",
       "      <td>12</td>\n",
       "      <td>31</td>\n",
       "      <td>12</td>\n",
       "      <td>0</td>\n",
       "      <td>0</td>\n",
       "      <td>0</td>\n",
       "    </tr>\n",
       "    <tr>\n",
       "      <th>125956</th>\n",
       "      <td>Broadway &amp; W 36 St</td>\n",
       "      <td>40.750977</td>\n",
       "      <td>-73.987654</td>\n",
       "      <td>656</td>\n",
       "      <td>2023-12-31 16:00:00.000</td>\n",
       "      <td>0</td>\n",
       "      <td>2023</td>\n",
       "      <td>12</td>\n",
       "      <td>31</td>\n",
       "      <td>16</td>\n",
       "      <td>0</td>\n",
       "      <td>0</td>\n",
       "      <td>0</td>\n",
       "    </tr>\n",
       "    <tr>\n",
       "      <th>125957</th>\n",
       "      <td>Broadway &amp; W 36 St</td>\n",
       "      <td>40.750977</td>\n",
       "      <td>-73.987654</td>\n",
       "      <td>656</td>\n",
       "      <td>2023-12-31 20:00:00.000</td>\n",
       "      <td>0</td>\n",
       "      <td>2023</td>\n",
       "      <td>12</td>\n",
       "      <td>31</td>\n",
       "      <td>20</td>\n",
       "      <td>0</td>\n",
       "      <td>0</td>\n",
       "      <td>0</td>\n",
       "    </tr>\n",
       "  </tbody>\n",
       "</table>\n",
       "</div>"
      ],
      "text/plain": [
       "                      name        lat        lng  station_id  \\\n",
       "125952  Broadway & W 36 St  40.750977 -73.987654         656   \n",
       "125953  Broadway & W 36 St  40.750977 -73.987654         656   \n",
       "125954  Broadway & W 36 St  40.750977 -73.987654         656   \n",
       "125955  Broadway & W 36 St  40.750977 -73.987654         656   \n",
       "125956  Broadway & W 36 St  40.750977 -73.987654         656   \n",
       "125957  Broadway & W 36 St  40.750977 -73.987654         656   \n",
       "\n",
       "                       datetime  #_rentals  year  month  day  hour  minute  \\\n",
       "125952  2023-12-31 00:00:00.000          1  2023     12   31     0       0   \n",
       "125953  2023-12-31 04:00:00.000          0  2023     12   31     4       0   \n",
       "125954  2023-12-31 08:00:00.000          0  2023     12   31     8       0   \n",
       "125955  2023-12-31 12:00:00.000          0  2023     12   31    12       0   \n",
       "125956  2023-12-31 16:00:00.000          0  2023     12   31    16       0   \n",
       "125957  2023-12-31 20:00:00.000          0  2023     12   31    20       0   \n",
       "\n",
       "        second  microsecond  \n",
       "125952       0            0  \n",
       "125953       0            0  \n",
       "125954       0            0  \n",
       "125955       0            0  \n",
       "125956       0            0  \n",
       "125957       0            0  "
      ]
     },
     "execution_count": 2,
     "metadata": {},
     "output_type": "execute_result"
    }
   ],
   "source": [
    "# from 2023, data is available only for 31 Dec'23 (all time units)\n",
    "rentals[(rentals[\"year\"] == 2023)&(rentals[\"day\"]==31)&(rentals[\"station_id\"]==656)]"
   ]
  },
  {
   "cell_type": "markdown",
   "id": "d03c0d23",
   "metadata": {},
   "source": [
    "## How to divide the data?\n",
    "Each station has records for 32 days, with each day containing six time units (*of 4hrs each*).<br><br>\n",
    "So, data can be divided for first 25~27 days as <u>training data</u> and the remaining days as <u>test data</u>.\n",
    "<br><br>\n",
    "- y: *#_rentals*\n",
    "- x: *remaining variables*\n",
    "\n",
    "Keeping 80% of 32 days i.e. approx. 25 days as training data and the remainig 7 days (~20%) as test data."
   ]
  },
  {
   "cell_type": "code",
   "execution_count": 15,
   "id": "28948400",
   "metadata": {},
   "outputs": [],
   "source": [
    "# training data: target\n",
    "y_train = rentals.loc[(rentals[\"year\"] == 2023) | ((rentals[\"year\"] == 2024) & (rentals[\"day\"] < 26)), \"#_rentals\"]\n",
    "\n",
    "# test data: target\n",
    "y_test = rentals.loc[(rentals[\"year\"] == 2024) & (rentals[\"day\"] >= 26), \"#_rentals\"]"
   ]
  },
  {
   "cell_type": "code",
   "execution_count": 4,
   "id": "80c2cf82",
   "metadata": {},
   "outputs": [
    {
     "data": {
      "text/plain": [
       "Index([], dtype='int64')"
      ]
     },
     "execution_count": 4,
     "metadata": {},
     "output_type": "execute_result"
    }
   ],
   "source": [
    "# Is there any common index value between y_train and y_test\n",
    "y_train.index.intersection(y_test.index)"
   ]
  },
  {
   "cell_type": "markdown",
   "id": "420774cc",
   "metadata": {},
   "source": [
    "Hence, y_train and y_test are mutually exclusive."
   ]
  },
  {
   "cell_type": "code",
   "execution_count": 16,
   "id": "387958c3",
   "metadata": {},
   "outputs": [],
   "source": [
    "# ['name', 'lat', 'lng'] variables are excluded \n",
    "## for 'time' only [\"hour\"] column is used\n",
    "\n",
    "# training data: response variable\n",
    "X_train = rentals.loc[(rentals[\"year\"] == 2023) | ((rentals[\"year\"] == 2024) & (rentals[\"day\"] < 26)),[\"station_id\", \"year\", \"month\", \"day\", \"hour\"]]\n",
    "\n",
    "# test data: response variable\n",
    "X_test = rentals.loc[(rentals[\"year\"] == 2024) & (rentals[\"day\"] >= 26),[\"station_id\", \"year\", \"month\", \"day\", \"hour\"]]"
   ]
  },
  {
   "cell_type": "code",
   "execution_count": 6,
   "id": "2dea53aa",
   "metadata": {},
   "outputs": [
    {
     "data": {
      "text/plain": [
       "Index([], dtype='int64')"
      ]
     },
     "execution_count": 6,
     "metadata": {},
     "output_type": "execute_result"
    }
   ],
   "source": [
    "# Is there any common index value between X_train and X_test\n",
    "X_train.index.intersection(X_test.index)"
   ]
  },
  {
   "cell_type": "markdown",
   "id": "118f7bed",
   "metadata": {},
   "source": [
    "Hence, X_train and X_test are mutually exclusive."
   ]
  },
  {
   "cell_type": "markdown",
   "id": "9d3b7f28",
   "metadata": {},
   "source": [
    "### CAUTION\n",
    "There is a problem in how *X_train* and *X_test* are built for rendering tree-based methods such as <u>Random Forest</u>. Since **station_id** is a categorical variable, *One Hot Encoding* must be used to highlight station information."
   ]
  },
  {
   "cell_type": "code",
   "execution_count": 7,
   "id": "b982bc12",
   "metadata": {},
   "outputs": [
    {
     "data": {
      "text/plain": [
       "2119"
      ]
     },
     "execution_count": 7,
     "metadata": {},
     "output_type": "execute_result"
    }
   ],
   "source": [
    "# how many stations do I have?\n",
    "len(rentals[\"name\"].unique())"
   ]
  },
  {
   "cell_type": "markdown",
   "id": "a217a4fa",
   "metadata": {},
   "source": [
    "The number of stations are too high if I'll be using dummy variables. Selecting a subset of stations should be better as it will reduce the dimensionality."
   ]
  },
  {
   "cell_type": "code",
   "execution_count": 17,
   "id": "94a1b504",
   "metadata": {},
   "outputs": [
    {
     "data": {
      "text/plain": [
       "[1746, 304, 68, 2024, 751]"
      ]
     },
     "execution_count": 17,
     "metadata": {},
     "output_type": "execute_result"
    }
   ],
   "source": [
    "import random\n",
    "random.seed(42)\n",
    "station_ids = list(rentals[\"station_id\"])\n",
    "\n",
    "# Picking 450 unique station ids randomly\n",
    "sel_st = random.sample(station_ids, 450)\n",
    "sel_st[:5]"
   ]
  },
  {
   "cell_type": "code",
   "execution_count": 9,
   "id": "d4841bab",
   "metadata": {},
   "outputs": [
    {
     "data": {
      "text/html": [
       "<div>\n",
       "<style scoped>\n",
       "    .dataframe tbody tr th:only-of-type {\n",
       "        vertical-align: middle;\n",
       "    }\n",
       "\n",
       "    .dataframe tbody tr th {\n",
       "        vertical-align: top;\n",
       "    }\n",
       "\n",
       "    .dataframe thead th {\n",
       "        text-align: right;\n",
       "    }\n",
       "</style>\n",
       "<table border=\"1\" class=\"dataframe\">\n",
       "  <thead>\n",
       "    <tr style=\"text-align: right;\">\n",
       "      <th></th>\n",
       "      <th>station_id</th>\n",
       "      <th>year</th>\n",
       "      <th>month</th>\n",
       "      <th>day</th>\n",
       "      <th>hour</th>\n",
       "    </tr>\n",
       "  </thead>\n",
       "  <tbody>\n",
       "    <tr>\n",
       "      <th>0</th>\n",
       "      <td>0</td>\n",
       "      <td>2023</td>\n",
       "      <td>12</td>\n",
       "      <td>31</td>\n",
       "      <td>0</td>\n",
       "    </tr>\n",
       "    <tr>\n",
       "      <th>1</th>\n",
       "      <td>0</td>\n",
       "      <td>2023</td>\n",
       "      <td>12</td>\n",
       "      <td>31</td>\n",
       "      <td>4</td>\n",
       "    </tr>\n",
       "    <tr>\n",
       "      <th>2</th>\n",
       "      <td>0</td>\n",
       "      <td>2023</td>\n",
       "      <td>12</td>\n",
       "      <td>31</td>\n",
       "      <td>8</td>\n",
       "    </tr>\n",
       "    <tr>\n",
       "      <th>3</th>\n",
       "      <td>0</td>\n",
       "      <td>2023</td>\n",
       "      <td>12</td>\n",
       "      <td>31</td>\n",
       "      <td>12</td>\n",
       "    </tr>\n",
       "    <tr>\n",
       "      <th>4</th>\n",
       "      <td>0</td>\n",
       "      <td>2023</td>\n",
       "      <td>12</td>\n",
       "      <td>31</td>\n",
       "      <td>16</td>\n",
       "    </tr>\n",
       "  </tbody>\n",
       "</table>\n",
       "</div>"
      ],
      "text/plain": [
       "   station_id  year  month  day  hour\n",
       "0           0  2023     12   31     0\n",
       "1           0  2023     12   31     4\n",
       "2           0  2023     12   31     8\n",
       "3           0  2023     12   31    12\n",
       "4           0  2023     12   31    16"
      ]
     },
     "execution_count": 9,
     "metadata": {},
     "output_type": "execute_result"
    }
   ],
   "source": [
    "# how station info is currently stored\n",
    "X_train.head()"
   ]
  },
  {
   "cell_type": "code",
   "execution_count": 18,
   "id": "0bef1c5f",
   "metadata": {},
   "outputs": [],
   "source": [
    "# filtering for 50 chosen stations\n",
    "X_train = X_train[X_train[\"station_id\"].isin(sel_st)]\n",
    "X_test = X_test[X_test[\"station_id\"].isin(sel_st)]\n",
    "\n",
    "# creating dummies for X_train and X_test\n",
    "X_train = pd.get_dummies(X_train, columns=['station_id'])\n",
    "X_test = pd.get_dummies(X_test, columns=['station_id'])"
   ]
  },
  {
   "cell_type": "code",
   "execution_count": 11,
   "id": "9c4c0664",
   "metadata": {},
   "outputs": [
    {
     "data": {
      "text/plain": [
       "Index(['year', 'month', 'day', 'hour', 'station_id_17', 'station_id_68',\n",
       "       'station_id_72', 'station_id_81', 'station_id_86', 'station_id_237',\n",
       "       'station_id_253', 'station_id_255', 'station_id_264', 'station_id_279',\n",
       "       'station_id_304', 'station_id_381', 'station_id_424', 'station_id_435',\n",
       "       'station_id_542', 'station_id_587', 'station_id_597', 'station_id_601',\n",
       "       'station_id_609', 'station_id_635', 'station_id_668', 'station_id_751',\n",
       "       'station_id_758', 'station_id_759', 'station_id_919', 'station_id_929',\n",
       "       'station_id_1037', 'station_id_1145', 'station_id_1152',\n",
       "       'station_id_1154', 'station_id_1226', 'station_id_1379',\n",
       "       'station_id_1488', 'station_id_1489', 'station_id_1532',\n",
       "       'station_id_1609', 'station_id_1612', 'station_id_1643',\n",
       "       'station_id_1746', 'station_id_1774', 'station_id_1847',\n",
       "       'station_id_1906', 'station_id_1915', 'station_id_1955',\n",
       "       'station_id_2011', 'station_id_2022', 'station_id_2024',\n",
       "       'station_id_2072', 'station_id_2084'],\n",
       "      dtype='object')"
      ]
     },
     "execution_count": 11,
     "metadata": {},
     "output_type": "execute_result"
    }
   ],
   "source": [
    "# [\"station_id\"] is transformed\n",
    "X_train.columns"
   ]
  },
  {
   "cell_type": "code",
   "execution_count": 19,
   "id": "d665fb29",
   "metadata": {},
   "outputs": [],
   "source": [
    "# Also need to filter y_train and y_test\n",
    "y_train = y_train[y_train.index.isin(X_train.index)]\n",
    "y_test = y_test[y_test.index.isin(X_test.index)]"
   ]
  },
  {
   "cell_type": "markdown",
   "id": "562d8978",
   "metadata": {},
   "source": [
    "This feature map can be used now for <u>tree-based</u> methods. The cardinality has been reduced for better training time."
   ]
  },
  {
   "cell_type": "markdown",
   "id": "500e874e",
   "metadata": {},
   "source": [
    "## Selecting a Model\n",
    "A simple **Random Forest** approach is tried first to evaluate what the performane looks like. Note that Random forest can't handle *non-numeric* data until it is transformed! "
   ]
  },
  {
   "cell_type": "code",
   "execution_count": 20,
   "id": "a40d9405",
   "metadata": {},
   "outputs": [
    {
     "name": "stdout",
     "output_type": "stream",
     "text": [
      "0.6746495255775576 0.9447442447917629\n"
     ]
    }
   ],
   "source": [
    "# training the model\n",
    "from sklearn.ensemble import RandomForestRegressor\n",
    "forest = RandomForestRegressor(random_state=2) \n",
    "forest.fit(X_train, y_train)\n",
    "\n",
    "# training performance\n",
    "from sklearn.metrics import mean_squared_error\n",
    "from sklearn.metrics import r2_score\n",
    "y_train_pred = forest.predict(X_train)\n",
    "print(mean_squared_error(y_train, y_train_pred),r2_score(y_train, y_train_pred))"
   ]
  },
  {
   "cell_type": "code",
   "execution_count": 21,
   "id": "eb2a8736",
   "metadata": {},
   "outputs": [
    {
     "name": "stdout",
     "output_type": "stream",
     "text": [
      "8.455069602585258 0.5286546992647055\n"
     ]
    }
   ],
   "source": [
    "# performance on test set\n",
    "y_test_pred = forest.predict(X_test)\n",
    "print(mean_squared_error(y_test, y_test_pred), r2_score(y_test, y_test_pred))"
   ]
  },
  {
   "cell_type": "markdown",
   "id": "552e46fd",
   "metadata": {},
   "source": [
    "## Preliminary Results\n",
    "- With 20 stations, R-squared on test data was 0.541 \n",
    "- With 50 stations, R-squared on test data was 0.527\n",
    "- With 450 stations, R-squared on test data was 0.528\n",
    "\n",
    "More than 50% of the variation in the target variable can be explained just by using *datetime* features. It is expected that having more relevant features should be able to explain higher portion of total variance in *y*.\n",
    "<br><br>\n",
    "Hyperparameter tuning and model selection should also help increase performance on the test set."
   ]
  }
 ],
 "metadata": {
  "kernelspec": {
   "display_name": "Python [conda env:base] *",
   "language": "python",
   "name": "conda-base-py"
  },
  "language_info": {
   "codemirror_mode": {
    "name": "ipython",
    "version": 3
   },
   "file_extension": ".py",
   "mimetype": "text/x-python",
   "name": "python",
   "nbconvert_exporter": "python",
   "pygments_lexer": "ipython3",
   "version": "3.12.7"
  }
 },
 "nbformat": 4,
 "nbformat_minor": 5
}
