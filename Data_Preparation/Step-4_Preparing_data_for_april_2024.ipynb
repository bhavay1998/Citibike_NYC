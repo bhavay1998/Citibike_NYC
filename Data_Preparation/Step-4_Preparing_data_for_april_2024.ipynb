{
 "cells": [
  {
   "cell_type": "markdown",
   "id": "bfb40836",
   "metadata": {},
   "source": [
    "# Preparing datasets: Apr'24\n",
    "This notebook is meant to generate a new dataset (only for April 2024) based on *Citibike Trip data* that can be used to determine **bike rentals** based on a <u>fixed time resolution</u>. \n",
    "\n",
    "## Preparing Tripdata"
   ]
  },
  {
   "cell_type": "code",
   "execution_count": 1,
   "id": "e268dbca",
   "metadata": {},
   "outputs": [
    {
     "name": "stderr",
     "output_type": "stream",
     "text": [
      "C:\\Users\\singh\\AppData\\Local\\Temp\\ipykernel_11404\\3679919481.py:2: DtypeWarning: Columns (5,7) have mixed types. Specify dtype option on import or set low_memory=False.\n",
      "  citi_apr_24 = pd.read_csv(\"C:/Users/singh/Desktop/TUD (All Semesters)/Courses - Semester 5 (TU Dresden)/Research Task - Spatial Modelling/Datasets/Citibike Trip Data/202404-citibike-tripdata.csv\")\n"
     ]
    },
    {
     "data": {
      "text/html": [
       "<div>\n",
       "<style scoped>\n",
       "    .dataframe tbody tr th:only-of-type {\n",
       "        vertical-align: middle;\n",
       "    }\n",
       "\n",
       "    .dataframe tbody tr th {\n",
       "        vertical-align: top;\n",
       "    }\n",
       "\n",
       "    .dataframe thead th {\n",
       "        text-align: right;\n",
       "    }\n",
       "</style>\n",
       "<table border=\"1\" class=\"dataframe\">\n",
       "  <thead>\n",
       "    <tr style=\"text-align: right;\">\n",
       "      <th></th>\n",
       "      <th>ride_id</th>\n",
       "      <th>rideable_type</th>\n",
       "      <th>started_at</th>\n",
       "      <th>ended_at</th>\n",
       "      <th>start_station_name</th>\n",
       "      <th>start_station_id</th>\n",
       "      <th>end_station_name</th>\n",
       "      <th>end_station_id</th>\n",
       "      <th>start_lat</th>\n",
       "      <th>start_lng</th>\n",
       "      <th>end_lat</th>\n",
       "      <th>end_lng</th>\n",
       "      <th>member_casual</th>\n",
       "    </tr>\n",
       "  </thead>\n",
       "  <tbody>\n",
       "    <tr>\n",
       "      <th>0</th>\n",
       "      <td>F561526822C9D60B</td>\n",
       "      <td>electric_bike</td>\n",
       "      <td>2024-04-27 13:56:13.940</td>\n",
       "      <td>2024-04-27 14:05:23.629</td>\n",
       "      <td>FDR Drive &amp; E 35 St</td>\n",
       "      <td>6230.04</td>\n",
       "      <td>E 10 St &amp; 2 Ave</td>\n",
       "      <td>5746.02</td>\n",
       "      <td>40.743955</td>\n",
       "      <td>-73.971391</td>\n",
       "      <td>40.729708</td>\n",
       "      <td>-73.986598</td>\n",
       "      <td>member</td>\n",
       "    </tr>\n",
       "    <tr>\n",
       "      <th>1</th>\n",
       "      <td>359BAF91507F4998</td>\n",
       "      <td>electric_bike</td>\n",
       "      <td>2024-04-25 15:23:14.529</td>\n",
       "      <td>2024-04-25 15:27:52.895</td>\n",
       "      <td>Forsyth St &amp; Grand St</td>\n",
       "      <td>5382.07</td>\n",
       "      <td>E 10 St &amp; 2 Ave</td>\n",
       "      <td>5746.02</td>\n",
       "      <td>40.717741</td>\n",
       "      <td>-73.993388</td>\n",
       "      <td>40.729708</td>\n",
       "      <td>-73.986598</td>\n",
       "      <td>member</td>\n",
       "    </tr>\n",
       "    <tr>\n",
       "      <th>2</th>\n",
       "      <td>AAEE95A1C0106C97</td>\n",
       "      <td>electric_bike</td>\n",
       "      <td>2024-04-06 11:15:18.132</td>\n",
       "      <td>2024-04-06 11:22:10.081</td>\n",
       "      <td>E 20 St &amp; 2 Ave</td>\n",
       "      <td>5971.08</td>\n",
       "      <td>Mott St &amp; Prince St</td>\n",
       "      <td>5561.04</td>\n",
       "      <td>40.735790</td>\n",
       "      <td>-73.981693</td>\n",
       "      <td>40.723180</td>\n",
       "      <td>-73.994800</td>\n",
       "      <td>member</td>\n",
       "    </tr>\n",
       "    <tr>\n",
       "      <th>3</th>\n",
       "      <td>95B077C9C619D404</td>\n",
       "      <td>electric_bike</td>\n",
       "      <td>2024-04-06 16:19:25.749</td>\n",
       "      <td>2024-04-06 16:21:43.098</td>\n",
       "      <td>Eastern Pkwy &amp; Washington Ave</td>\n",
       "      <td>3928.08</td>\n",
       "      <td>Eastern Pkwy &amp; Franklin Ave (SW Corner)</td>\n",
       "      <td>3919.12</td>\n",
       "      <td>40.671649</td>\n",
       "      <td>-73.963115</td>\n",
       "      <td>40.670529</td>\n",
       "      <td>-73.958222</td>\n",
       "      <td>member</td>\n",
       "    </tr>\n",
       "    <tr>\n",
       "      <th>4</th>\n",
       "      <td>1A33C864454C4692</td>\n",
       "      <td>electric_bike</td>\n",
       "      <td>2024-04-10 17:40:14.700</td>\n",
       "      <td>2024-04-10 17:48:11.571</td>\n",
       "      <td>W 27 St &amp; 6 Ave</td>\n",
       "      <td>6215.07</td>\n",
       "      <td>E 25 St &amp; 1 Ave</td>\n",
       "      <td>6004.07</td>\n",
       "      <td>40.745446</td>\n",
       "      <td>-73.990591</td>\n",
       "      <td>40.738177</td>\n",
       "      <td>-73.977387</td>\n",
       "      <td>member</td>\n",
       "    </tr>\n",
       "  </tbody>\n",
       "</table>\n",
       "</div>"
      ],
      "text/plain": [
       "            ride_id  rideable_type               started_at  \\\n",
       "0  F561526822C9D60B  electric_bike  2024-04-27 13:56:13.940   \n",
       "1  359BAF91507F4998  electric_bike  2024-04-25 15:23:14.529   \n",
       "2  AAEE95A1C0106C97  electric_bike  2024-04-06 11:15:18.132   \n",
       "3  95B077C9C619D404  electric_bike  2024-04-06 16:19:25.749   \n",
       "4  1A33C864454C4692  electric_bike  2024-04-10 17:40:14.700   \n",
       "\n",
       "                  ended_at             start_station_name start_station_id  \\\n",
       "0  2024-04-27 14:05:23.629            FDR Drive & E 35 St          6230.04   \n",
       "1  2024-04-25 15:27:52.895          Forsyth St & Grand St          5382.07   \n",
       "2  2024-04-06 11:22:10.081                E 20 St & 2 Ave          5971.08   \n",
       "3  2024-04-06 16:21:43.098  Eastern Pkwy & Washington Ave          3928.08   \n",
       "4  2024-04-10 17:48:11.571                W 27 St & 6 Ave          6215.07   \n",
       "\n",
       "                          end_station_name end_station_id  start_lat  \\\n",
       "0                          E 10 St & 2 Ave        5746.02  40.743955   \n",
       "1                          E 10 St & 2 Ave        5746.02  40.717741   \n",
       "2                      Mott St & Prince St        5561.04  40.735790   \n",
       "3  Eastern Pkwy & Franklin Ave (SW Corner)        3919.12  40.671649   \n",
       "4                          E 25 St & 1 Ave        6004.07  40.745446   \n",
       "\n",
       "   start_lng    end_lat    end_lng member_casual  \n",
       "0 -73.971391  40.729708 -73.986598        member  \n",
       "1 -73.993388  40.729708 -73.986598        member  \n",
       "2 -73.981693  40.723180 -73.994800        member  \n",
       "3 -73.963115  40.670529 -73.958222        member  \n",
       "4 -73.990591  40.738177 -73.977387        member  "
      ]
     },
     "execution_count": 1,
     "metadata": {},
     "output_type": "execute_result"
    }
   ],
   "source": [
    "import pandas as pd\n",
    "citi_apr_24 = pd.read_csv(\"C:/Users/singh/Desktop/TUD (All Semesters)/Courses - Semester 5 (TU Dresden)/Research Task - Spatial Modelling/Datasets/Citibike Trip Data/202404-citibike-tripdata.csv\")\n",
    "citi_apr_24.head()"
   ]
  },
  {
   "cell_type": "code",
   "execution_count": 2,
   "id": "56b8ab10",
   "metadata": {},
   "outputs": [
    {
     "name": "stdout",
     "output_type": "stream",
     "text": [
      "2024-03-31 03:37:14.624 2024-04-30 23:57:38.389\n"
     ]
    }
   ],
   "source": [
    "# The dataset needs timeline trimming - exclude Mar data\n",
    "print(min(citi_apr_24[\"started_at\"]), max(citi_apr_24[\"started_at\"]))"
   ]
  },
  {
   "cell_type": "code",
   "execution_count": 3,
   "id": "ce468d15",
   "metadata": {},
   "outputs": [
    {
     "data": {
      "text/plain": [
       "2506"
      ]
     },
     "execution_count": 3,
     "metadata": {},
     "output_type": "execute_result"
    }
   ],
   "source": [
    "# There are NaN values in the dataset\n",
    "sum(citi_apr_24[\"start_station_name\"].isna())"
   ]
  },
  {
   "cell_type": "code",
   "execution_count": 5,
   "id": "26ff2ece",
   "metadata": {},
   "outputs": [
    {
     "data": {
      "text/plain": [
       "0"
      ]
     },
     "execution_count": 5,
     "metadata": {},
     "output_type": "execute_result"
    }
   ],
   "source": [
    "# If the dataset is filtered for 'classic bikes' all starting stations should be visible\n",
    "sum(citi_apr_24[citi_apr_24[\"rideable_type\"] == \"classic_bike\"][\"start_station_name\"].isna())"
   ]
  },
  {
   "cell_type": "code",
   "execution_count": 8,
   "id": "ffb5eeab",
   "metadata": {},
   "outputs": [
    {
     "data": {
      "text/plain": [
       "array(['classic_bike'], dtype=object)"
      ]
     },
     "execution_count": 8,
     "metadata": {},
     "output_type": "execute_result"
    }
   ],
   "source": [
    "# filtering the dataset\n",
    "cbikes = citi_apr_24[citi_apr_24[\"rideable_type\"] == \"classic_bike\"]\n",
    "cbikes[\"rideable_type\"].unique()"
   ]
  },
  {
   "cell_type": "code",
   "execution_count": 9,
   "id": "a6a6c36c",
   "metadata": {},
   "outputs": [
    {
     "name": "stdout",
     "output_type": "stream",
     "text": [
      "1109266 1109266\n"
     ]
    }
   ],
   "source": [
    "# reducing columns\n",
    "cbikes = cbikes[[\"ride_id\", \"started_at\", \"ended_at\", \"start_station_name\", \"start_station_id\", \"end_station_name\", \"end_station_id\", \"start_lat\", \"start_lng\", \"end_lat\", \"end_lng\"]]\n",
    "\n",
    "# ride_id can be used to count trips\n",
    "print(len(cbikes), len(cbikes[\"ride_id\"].unique()))"
   ]
  },
  {
   "cell_type": "markdown",
   "id": "082c58b8",
   "metadata": {},
   "source": [
    "Instead of relying on station_ids provided by **Citibike**, the manually constructed IDs can be entered in dataset. This will make it easy for referencing and connecting *rentals* table below with this original filtered dataset.<br><br>\n",
    "<u>Note</u>: Original filtered dataset means data for classic bikes where NaN values and redundant columns are removed i.e. **cbikes** dataframe.\n",
    "\n",
    "## Creating Rentals Template\n",
    "The new template should contain stations with their location and time information included. Each row represents <u> one unit of chosen time resolution</u>.\n",
    "<br><br>\n",
    "**NOTE:** Station ID needs to be retained because there are some stations with the same name but slightly different locations!\n",
    "<br><br>\n",
    "In the dataset, some IDs are stored as text and others are stored as numbers. Converting th data type to *string* does not work because **\\n** and some other text is being added automatically.\n",
    "<br><br>\n",
    "**Solution:**<br>\n",
    "The stations can be manually given unique ids for the purpose of indentification."
   ]
  },
  {
   "cell_type": "code",
   "execution_count": 10,
   "id": "c584197d",
   "metadata": {},
   "outputs": [
    {
     "name": "stdout",
     "output_type": "stream",
     "text": [
      "2125 2125\n"
     ]
    }
   ],
   "source": [
    "# Creating the new dataset\n",
    "rentals = pd.DataFrame()\n",
    "rentals[[\"name\", \"lat\", \"lng\"]] = cbikes[[\"start_station_name\", \"start_lat\", \"start_lng\"]].drop_duplicates()\n",
    "rentals = rentals.sort_values(by = [\"name\"], ignore_index=True)\n",
    "\n",
    "# Adding IDs manually\n",
    "rentals[\"station_id\"] = range(len(rentals))\n",
    "\n",
    "# Verifying the number of stations\n",
    "print(len(cbikes[[\"start_station_name\", \"start_lat\", \"start_lng\"]].drop_duplicates()), len(rentals[\"station_id\"]))"
   ]
  },
  {
   "cell_type": "markdown",
   "id": "32f1c7d6",
   "metadata": {},
   "source": [
    "We have one additional station in this dataset.\n",
    "## Reformatting Tripdata\n",
    "Making some changes to the trip data before exporting."
   ]
  },
  {
   "cell_type": "code",
   "execution_count": 11,
   "id": "c03b894b",
   "metadata": {},
   "outputs": [
    {
     "name": "stdout",
     "output_type": "stream",
     "text": [
      "2125\n"
     ]
    },
    {
     "data": {
      "text/html": [
       "<div>\n",
       "<style scoped>\n",
       "    .dataframe tbody tr th:only-of-type {\n",
       "        vertical-align: middle;\n",
       "    }\n",
       "\n",
       "    .dataframe tbody tr th {\n",
       "        vertical-align: top;\n",
       "    }\n",
       "\n",
       "    .dataframe thead th {\n",
       "        text-align: right;\n",
       "    }\n",
       "</style>\n",
       "<table border=\"1\" class=\"dataframe\">\n",
       "  <thead>\n",
       "    <tr style=\"text-align: right;\">\n",
       "      <th></th>\n",
       "      <th>ride_id</th>\n",
       "      <th>started_at</th>\n",
       "      <th>start_station_name</th>\n",
       "      <th>station_id</th>\n",
       "      <th>start_lat</th>\n",
       "      <th>start_lng</th>\n",
       "    </tr>\n",
       "  </thead>\n",
       "  <tbody>\n",
       "    <tr>\n",
       "      <th>0</th>\n",
       "      <td>DD0132B9CD6B63F7</td>\n",
       "      <td>2024-04-10 20:40:55.697</td>\n",
       "      <td>Cleveland Pl &amp; Spring St</td>\n",
       "      <td>776</td>\n",
       "      <td>40.722104</td>\n",
       "      <td>-73.997249</td>\n",
       "    </tr>\n",
       "    <tr>\n",
       "      <th>1</th>\n",
       "      <td>612C8DB5E41ADD01</td>\n",
       "      <td>2024-04-12 07:26:22.776</td>\n",
       "      <td>E 20 St &amp; 2 Ave</td>\n",
       "      <td>1000</td>\n",
       "      <td>40.735877</td>\n",
       "      <td>-73.982050</td>\n",
       "    </tr>\n",
       "    <tr>\n",
       "      <th>2</th>\n",
       "      <td>61191D9EEA6C7AD7</td>\n",
       "      <td>2024-04-22 18:51:02.476</td>\n",
       "      <td>Dock 72 Way &amp; Market St</td>\n",
       "      <td>879</td>\n",
       "      <td>40.699850</td>\n",
       "      <td>-73.971410</td>\n",
       "    </tr>\n",
       "    <tr>\n",
       "      <th>3</th>\n",
       "      <td>4D2C34803BDAC042</td>\n",
       "      <td>2024-04-13 22:54:40.756</td>\n",
       "      <td>E 12 St &amp; 3 Ave</td>\n",
       "      <td>917</td>\n",
       "      <td>40.732233</td>\n",
       "      <td>-73.988900</td>\n",
       "    </tr>\n",
       "    <tr>\n",
       "      <th>4</th>\n",
       "      <td>E02B369B26426652</td>\n",
       "      <td>2024-04-13 22:54:47.285</td>\n",
       "      <td>E 12 St &amp; 3 Ave</td>\n",
       "      <td>917</td>\n",
       "      <td>40.732233</td>\n",
       "      <td>-73.988900</td>\n",
       "    </tr>\n",
       "  </tbody>\n",
       "</table>\n",
       "</div>"
      ],
      "text/plain": [
       "            ride_id               started_at        start_station_name  \\\n",
       "0  DD0132B9CD6B63F7  2024-04-10 20:40:55.697  Cleveland Pl & Spring St   \n",
       "1  612C8DB5E41ADD01  2024-04-12 07:26:22.776           E 20 St & 2 Ave   \n",
       "2  61191D9EEA6C7AD7  2024-04-22 18:51:02.476   Dock 72 Way & Market St   \n",
       "3  4D2C34803BDAC042  2024-04-13 22:54:40.756           E 12 St & 3 Ave   \n",
       "4  E02B369B26426652  2024-04-13 22:54:47.285           E 12 St & 3 Ave   \n",
       "\n",
       "   station_id  start_lat  start_lng  \n",
       "0         776  40.722104 -73.997249  \n",
       "1        1000  40.735877 -73.982050  \n",
       "2         879  40.699850 -73.971410  \n",
       "3         917  40.732233 -73.988900  \n",
       "4         917  40.732233 -73.988900  "
      ]
     },
     "execution_count": 11,
     "metadata": {},
     "output_type": "execute_result"
    }
   ],
   "source": [
    "# Copying cbikes df\n",
    "cbikes_altered = cbikes.copy()\n",
    "\n",
    "# Merging the two dfs\n",
    "new_df = pd.merge(\n",
    "    left=cbikes_altered, \n",
    "    right=rentals,\n",
    "    how='left',\n",
    "    left_on=['start_station_name', 'start_lat', 'start_lng'],\n",
    "    right_on=['name', 'lat', 'lng'],\n",
    ")\n",
    "\n",
    "# Preserving bike trip info only with the starting station info\n",
    "cbikes_altered = new_df[[\"ride_id\", \"started_at\", \"start_station_name\", \"station_id\", \"start_lat\", \"start_lng\"]]\n",
    "\n",
    "# Checking validity\n",
    "print(len(cbikes_altered[\"station_id\"].unique()))\n",
    "cbikes_altered.head()"
   ]
  },
  {
   "cell_type": "code",
   "execution_count": 16,
   "id": "605a7c57",
   "metadata": {},
   "outputs": [],
   "source": [
    "# exporting to 'C:\\Users\\singh\\Desktop\\TUD (All Semesters)\\Courses - Semester 5 (TU Dresden)\\Research Task - Spatial Modelling\\Code'\n",
    "cbikes_altered.to_csv(\"Tripdata_with_manual_ids_apr.csv\", index=False)"
   ]
  },
  {
   "cell_type": "markdown",
   "id": "86e7dd9a",
   "metadata": {},
   "source": [
    "## Defining time resolution\n",
    "Here time units are defined that will later be merged with the *rentals* template."
   ]
  },
  {
   "cell_type": "code",
   "execution_count": 12,
   "id": "e6afb49c",
   "metadata": {},
   "outputs": [
    {
     "data": {
      "text/plain": [
       "['2024-04-01', '2024-04-02', '2024-04-03', '2024-04-04', '2024-04-05']"
      ]
     },
     "execution_count": 12,
     "metadata": {},
     "output_type": "execute_result"
    }
   ],
   "source": [
    "# defining the 7 time units for a given date\n",
    "time_res = ['08:00:00.000', '10:00:00.000', '12:00:00.000', '14:00:00.000', '16:00:00.000', '18:00:00.000', '20:00:00.000']\n",
    "\n",
    "# repeating time units 30 times - till 30 Apr\n",
    "time_res = time_res*30\n",
    "\n",
    "# creating dates\n",
    "dates_included = []\n",
    "while len(dates_included) < 30:\n",
    "    dates_included.append('2024-04-01')\n",
    "\n",
    "# days list\n",
    "nums = ['01', '02','03','04','05','06','07','08','09','10','11','12','13','14','15','16','17','18','19','20','21','22','23','24','25','26','27','28','29', '30']\n",
    "\n",
    "# correcting days\n",
    "for i in range(len(nums)):\n",
    "    dates_included[i] = dates_included[i][:-2] + nums[i]\n",
    "\n",
    "dates_included[:5]"
   ]
  },
  {
   "cell_type": "markdown",
   "id": "61c06d68",
   "metadata": {},
   "source": [
    "Now, we are supposed to combine the date and the time information together. Each day has 7 time units, so each day must be repeated 7 times to accodomate the time resolution."
   ]
  },
  {
   "cell_type": "code",
   "execution_count": 13,
   "id": "848da621",
   "metadata": {},
   "outputs": [
    {
     "data": {
      "text/plain": [
       "['2024-04-01 08:00:00.000',\n",
       " '2024-04-01 10:00:00.000',\n",
       " '2024-04-01 12:00:00.000',\n",
       " '2024-04-01 14:00:00.000',\n",
       " '2024-04-01 16:00:00.000',\n",
       " '2024-04-01 18:00:00.000',\n",
       " '2024-04-01 20:00:00.000']"
      ]
     },
     "execution_count": 13,
     "metadata": {},
     "output_type": "execute_result"
    }
   ],
   "source": [
    "# repeating each element 7 times\n",
    "dates_included = [element for element in dates_included for _ in range(7)]\n",
    "\n",
    "# Adding time dimension\n",
    "date_time = dates_included.copy()\n",
    "\n",
    "for t in range(0,len(dates_included)):\n",
    "    date_time[t] = dates_included[t] + ' ' + time_res[t]\n",
    "\n",
    "date_time[:7]"
   ]
  },
  {
   "cell_type": "markdown",
   "id": "c72fda87",
   "metadata": {},
   "source": [
    "## Adding time dimensionality to the *rentals* template\n",
    "A time resolution needs to be added so that number of rentals can be calculated in terms of that time unit, per station."
   ]
  },
  {
   "cell_type": "code",
   "execution_count": 14,
   "id": "13d7e045",
   "metadata": {},
   "outputs": [
    {
     "data": {
      "text/plain": [
       "210"
      ]
     },
     "execution_count": 14,
     "metadata": {},
     "output_type": "execute_result"
    }
   ],
   "source": [
    "# rows needed for each station\n",
    "len(date_time)"
   ]
  },
  {
   "cell_type": "code",
   "execution_count": 15,
   "id": "fc136f43",
   "metadata": {},
   "outputs": [
    {
     "data": {
      "text/html": [
       "<div>\n",
       "<style scoped>\n",
       "    .dataframe tbody tr th:only-of-type {\n",
       "        vertical-align: middle;\n",
       "    }\n",
       "\n",
       "    .dataframe tbody tr th {\n",
       "        vertical-align: top;\n",
       "    }\n",
       "\n",
       "    .dataframe thead th {\n",
       "        text-align: right;\n",
       "    }\n",
       "</style>\n",
       "<table border=\"1\" class=\"dataframe\">\n",
       "  <thead>\n",
       "    <tr style=\"text-align: right;\">\n",
       "      <th></th>\n",
       "      <th>name</th>\n",
       "      <th>lat</th>\n",
       "      <th>lng</th>\n",
       "      <th>station_id</th>\n",
       "      <th>datetime</th>\n",
       "    </tr>\n",
       "  </thead>\n",
       "  <tbody>\n",
       "    <tr>\n",
       "      <th>0</th>\n",
       "      <td>1 Ave &amp; E 110 St</td>\n",
       "      <td>40.792327</td>\n",
       "      <td>-73.9383</td>\n",
       "      <td>0</td>\n",
       "      <td>2024-04-01 08:00:00.000</td>\n",
       "    </tr>\n",
       "    <tr>\n",
       "      <th>1</th>\n",
       "      <td>1 Ave &amp; E 110 St</td>\n",
       "      <td>40.792327</td>\n",
       "      <td>-73.9383</td>\n",
       "      <td>0</td>\n",
       "      <td>2024-04-01 10:00:00.000</td>\n",
       "    </tr>\n",
       "    <tr>\n",
       "      <th>2</th>\n",
       "      <td>1 Ave &amp; E 110 St</td>\n",
       "      <td>40.792327</td>\n",
       "      <td>-73.9383</td>\n",
       "      <td>0</td>\n",
       "      <td>2024-04-01 12:00:00.000</td>\n",
       "    </tr>\n",
       "    <tr>\n",
       "      <th>3</th>\n",
       "      <td>1 Ave &amp; E 110 St</td>\n",
       "      <td>40.792327</td>\n",
       "      <td>-73.9383</td>\n",
       "      <td>0</td>\n",
       "      <td>2024-04-01 14:00:00.000</td>\n",
       "    </tr>\n",
       "    <tr>\n",
       "      <th>4</th>\n",
       "      <td>1 Ave &amp; E 110 St</td>\n",
       "      <td>40.792327</td>\n",
       "      <td>-73.9383</td>\n",
       "      <td>0</td>\n",
       "      <td>2024-04-01 16:00:00.000</td>\n",
       "    </tr>\n",
       "  </tbody>\n",
       "</table>\n",
       "</div>"
      ],
      "text/plain": [
       "               name        lat      lng  station_id                 datetime\n",
       "0  1 Ave & E 110 St  40.792327 -73.9383           0  2024-04-01 08:00:00.000\n",
       "1  1 Ave & E 110 St  40.792327 -73.9383           0  2024-04-01 10:00:00.000\n",
       "2  1 Ave & E 110 St  40.792327 -73.9383           0  2024-04-01 12:00:00.000\n",
       "3  1 Ave & E 110 St  40.792327 -73.9383           0  2024-04-01 14:00:00.000\n",
       "4  1 Ave & E 110 St  40.792327 -73.9383           0  2024-04-01 16:00:00.000"
      ]
     },
     "execution_count": 15,
     "metadata": {},
     "output_type": "execute_result"
    }
   ],
   "source": [
    "# duplicating each station 210 times\n",
    "rentals = rentals.loc[rentals.index.repeat(210)].reset_index(drop=True)\n",
    "\n",
    "# Repeating date_time: 2125 unique stations\n",
    "date_time = date_time*2125\n",
    "rentals[\"datetime\"] = date_time\n",
    "rentals.head()"
   ]
  },
  {
   "cell_type": "markdown",
   "id": "d4db0a69",
   "metadata": {},
   "source": [
    "## Calculating Demand\n",
    "The rentals are calculated for every time unit, per day per station. The dataset is being prepared only until April 30, 2024."
   ]
  },
  {
   "cell_type": "code",
   "execution_count": 17,
   "id": "2d7ef019",
   "metadata": {},
   "outputs": [
    {
     "data": {
      "text/html": [
       "<div>\n",
       "<style scoped>\n",
       "    .dataframe tbody tr th:only-of-type {\n",
       "        vertical-align: middle;\n",
       "    }\n",
       "\n",
       "    .dataframe tbody tr th {\n",
       "        vertical-align: top;\n",
       "    }\n",
       "\n",
       "    .dataframe thead th {\n",
       "        text-align: right;\n",
       "    }\n",
       "</style>\n",
       "<table border=\"1\" class=\"dataframe\">\n",
       "  <thead>\n",
       "    <tr style=\"text-align: right;\">\n",
       "      <th></th>\n",
       "      <th>name</th>\n",
       "      <th>lat</th>\n",
       "      <th>lng</th>\n",
       "      <th>station_id</th>\n",
       "      <th>datetime</th>\n",
       "      <th>#_rentals</th>\n",
       "    </tr>\n",
       "  </thead>\n",
       "  <tbody>\n",
       "    <tr>\n",
       "      <th>0</th>\n",
       "      <td>1 Ave &amp; E 110 St</td>\n",
       "      <td>40.792327</td>\n",
       "      <td>-73.9383</td>\n",
       "      <td>0</td>\n",
       "      <td>2024-04-01 08:00:00.000</td>\n",
       "      <td>0</td>\n",
       "    </tr>\n",
       "    <tr>\n",
       "      <th>1</th>\n",
       "      <td>1 Ave &amp; E 110 St</td>\n",
       "      <td>40.792327</td>\n",
       "      <td>-73.9383</td>\n",
       "      <td>0</td>\n",
       "      <td>2024-04-01 10:00:00.000</td>\n",
       "      <td>0</td>\n",
       "    </tr>\n",
       "    <tr>\n",
       "      <th>2</th>\n",
       "      <td>1 Ave &amp; E 110 St</td>\n",
       "      <td>40.792327</td>\n",
       "      <td>-73.9383</td>\n",
       "      <td>0</td>\n",
       "      <td>2024-04-01 12:00:00.000</td>\n",
       "      <td>0</td>\n",
       "    </tr>\n",
       "    <tr>\n",
       "      <th>3</th>\n",
       "      <td>1 Ave &amp; E 110 St</td>\n",
       "      <td>40.792327</td>\n",
       "      <td>-73.9383</td>\n",
       "      <td>0</td>\n",
       "      <td>2024-04-01 14:00:00.000</td>\n",
       "      <td>0</td>\n",
       "    </tr>\n",
       "    <tr>\n",
       "      <th>4</th>\n",
       "      <td>1 Ave &amp; E 110 St</td>\n",
       "      <td>40.792327</td>\n",
       "      <td>-73.9383</td>\n",
       "      <td>0</td>\n",
       "      <td>2024-04-01 16:00:00.000</td>\n",
       "      <td>0</td>\n",
       "    </tr>\n",
       "  </tbody>\n",
       "</table>\n",
       "</div>"
      ],
      "text/plain": [
       "               name        lat      lng  station_id                 datetime  \\\n",
       "0  1 Ave & E 110 St  40.792327 -73.9383           0  2024-04-01 08:00:00.000   \n",
       "1  1 Ave & E 110 St  40.792327 -73.9383           0  2024-04-01 10:00:00.000   \n",
       "2  1 Ave & E 110 St  40.792327 -73.9383           0  2024-04-01 12:00:00.000   \n",
       "3  1 Ave & E 110 St  40.792327 -73.9383           0  2024-04-01 14:00:00.000   \n",
       "4  1 Ave & E 110 St  40.792327 -73.9383           0  2024-04-01 16:00:00.000   \n",
       "\n",
       "   #_rentals  \n",
       "0          0  \n",
       "1          0  \n",
       "2          0  \n",
       "3          0  \n",
       "4          0  "
      ]
     },
     "execution_count": 17,
     "metadata": {},
     "output_type": "execute_result"
    }
   ],
   "source": [
    "# importing\n",
    "tripdata = pd.read_csv(\"C:/Users/singh/Desktop/TUD (All Semesters)/Courses - Semester 5 (TU Dresden)/Research Task - Spatial Modelling/Code/Tripdata_with_manual_ids_apr.csv\")\n",
    "\n",
    "# adding a rentals column \n",
    "rentals['#_rentals'] = 0\n",
    "\n",
    "rentals.head()"
   ]
  },
  {
   "cell_type": "code",
   "execution_count": 18,
   "id": "ed6c9ac2",
   "metadata": {},
   "outputs": [],
   "source": [
    "# Updating the rentals dataset\n",
    "rentals['year'] = pd.Series([x.date().year for x in pd.to_datetime(rentals[\"datetime\"])])\n",
    "rentals['month'] = pd.Series([x.date().month for x in pd.to_datetime(rentals[\"datetime\"])])\n",
    "rentals['day'] = pd.Series([x.date().day for x in pd.to_datetime(rentals[\"datetime\"])])\n",
    "\n",
    "rentals['hour'] = pd.Series([x.time().hour for x in pd.to_datetime(rentals[\"datetime\"])])\n",
    "rentals['minute'] = pd.Series([x.time().minute for x in pd.to_datetime(rentals[\"datetime\"])])\n",
    "rentals['second'] = pd.Series([x.time().second for x in pd.to_datetime(rentals[\"datetime\"])])\n",
    "rentals['microsecond'] = pd.Series([x.time().microsecond for x in pd.to_datetime(rentals[\"datetime\"])])\n",
    "\n",
    "# Updating the trips dataset\n",
    "tripdata['started_at_year'] = pd.Series([x.date().year for x in pd.to_datetime(tripdata[\"started_at\"])])\n",
    "tripdata['started_at_month'] = pd.Series([x.date().month for x in pd.to_datetime(tripdata[\"started_at\"])])\n",
    "tripdata['started_at_day'] = pd.Series([x.date().day for x in pd.to_datetime(tripdata[\"started_at\"])])\n",
    "\n",
    "tripdata['started_at_hour'] = pd.Series([x.time().hour for x in pd.to_datetime(tripdata[\"started_at\"])])\n",
    "tripdata['started_at_minute'] = pd.Series([x.time().minute for x in pd.to_datetime(tripdata[\"started_at\"])])\n",
    "tripdata['started_at_second'] = pd.Series([x.time().second for x in pd.to_datetime(tripdata[\"started_at\"])])\n",
    "tripdata['started_at_microsecond'] = pd.Series([x.time().microsecond for x in pd.to_datetime(tripdata[\"started_at\"])])"
   ]
  },
  {
   "cell_type": "code",
   "execution_count": 19,
   "id": "a74a035b",
   "metadata": {},
   "outputs": [
    {
     "data": {
      "text/plain": [
       "3"
      ]
     },
     "execution_count": 19,
     "metadata": {},
     "output_type": "execute_result"
    }
   ],
   "source": [
    "# The tripdata has some misleading March data that should be removed\n",
    "min(tripdata[\"started_at_month\"])"
   ]
  },
  {
   "cell_type": "code",
   "execution_count": 20,
   "id": "796d85d0",
   "metadata": {},
   "outputs": [
    {
     "data": {
      "text/plain": [
       "4"
      ]
     },
     "execution_count": 20,
     "metadata": {},
     "output_type": "execute_result"
    }
   ],
   "source": [
    "# After Correction\n",
    "tripdata = tripdata[tripdata[\"started_at_month\"] > 3]\n",
    "min(tripdata[\"started_at_month\"])"
   ]
  },
  {
   "cell_type": "code",
   "execution_count": 21,
   "id": "5602b4db",
   "metadata": {},
   "outputs": [],
   "source": [
    "# Calculating demand from tripdata for Apr 2024\n",
    "for k in range(1, 31):\n",
    "    \n",
    "    # determining demand for 2024; 08-10hrs\n",
    "    for i in rentals[\"station_id\"].unique():\n",
    "        idx = (rentals[\"station_id\"] == i) & (rentals[\"year\"] == 2024) & (rentals[\"hour\"] == 8) & (rentals[\"day\"] == k)\n",
    "        rentals.loc[idx, \"#_rentals\"] = len(tripdata[(tripdata[\"started_at_year\"] == 2024) & (tripdata[\"started_at_day\"] == k) & (tripdata[\"started_at_hour\"] < 10) & (tripdata[\"started_at_hour\"] >= 8) & (tripdata[\"station_id\"] == i)])\n",
    "        \n",
    "    # determining demand for 2024; 10-12hrs\n",
    "    for i in rentals[\"station_id\"].unique():\n",
    "        idx = (rentals[\"station_id\"] == i) & (rentals[\"year\"] == 2024) & (rentals[\"hour\"] == 10) & (rentals[\"day\"] == k)\n",
    "        rentals.loc[idx, \"#_rentals\"] = len(tripdata[(tripdata[\"started_at_year\"] == 2024) & (tripdata[\"started_at_day\"] == k) & (tripdata[\"started_at_hour\"] >= 10) & (tripdata[\"started_at_hour\"] < 12) & (tripdata[\"station_id\"] == i)])\n",
    "        \n",
    "    # determining demand for 2024; 12-14hrs\n",
    "    for i in rentals[\"station_id\"].unique():\n",
    "        idx = (rentals[\"station_id\"] == i) & (rentals[\"year\"] == 2024) & (rentals[\"hour\"] == 12) & (rentals[\"day\"] == k)\n",
    "        rentals.loc[idx, \"#_rentals\"] = len(tripdata[(tripdata[\"started_at_year\"] == 2024) & (tripdata[\"started_at_day\"] == k) & (tripdata[\"started_at_hour\"] >= 12) & (tripdata[\"started_at_hour\"] < 14) & (tripdata[\"station_id\"] == i)])\n",
    "        \n",
    "    # determining demand for 2024; 14-16hrs\n",
    "    for i in rentals[\"station_id\"].unique():\n",
    "        idx = (rentals[\"station_id\"] == i) & (rentals[\"year\"] == 2024) & (rentals[\"hour\"] == 14) & (rentals[\"day\"] == k)\n",
    "        rentals.loc[idx, \"#_rentals\"] = len(tripdata[(tripdata[\"started_at_year\"] == 2024) & (tripdata[\"started_at_day\"] == k) & (tripdata[\"started_at_hour\"] >= 14) & (tripdata[\"started_at_hour\"] < 16) & (tripdata[\"station_id\"] == i)])\n",
    "        \n",
    "    # determining demand for 2024; 16-18hrs\n",
    "    for i in rentals[\"station_id\"].unique():\n",
    "        idx = (rentals[\"station_id\"] == i) & (rentals[\"year\"] == 2024) & (rentals[\"hour\"] == 16) & (rentals[\"day\"] == k)\n",
    "        rentals.loc[idx, \"#_rentals\"] = len(tripdata[(tripdata[\"started_at_year\"] == 2024) & (tripdata[\"started_at_day\"] == k) & (tripdata[\"started_at_hour\"] >= 16) & (tripdata[\"started_at_hour\"] < 18) & (tripdata[\"station_id\"] == i)])\n",
    "        \n",
    "    # determining demand for 2024; 18-20hrs\n",
    "    for i in rentals[\"station_id\"].unique():\n",
    "        idx = (rentals[\"station_id\"] == i) & (rentals[\"year\"] == 2024) & (rentals[\"hour\"] == 18) & (rentals[\"day\"] == k)\n",
    "        rentals.loc[idx, \"#_rentals\"] = len(tripdata[(tripdata[\"started_at_year\"] == 2024) & (tripdata[\"started_at_day\"] == k) & (tripdata[\"started_at_hour\"] >= 18) & (tripdata[\"started_at_hour\"] < 20) & (tripdata[\"station_id\"] == i)])\n",
    "    \n",
    "    # determining demand for 2024; 20-22hrs\n",
    "    for i in rentals[\"station_id\"].unique():\n",
    "        idx = (rentals[\"station_id\"] == i) & (rentals[\"year\"] == 2024) & (rentals[\"hour\"] == 20) & (rentals[\"day\"] == k)\n",
    "        rentals.loc[idx, \"#_rentals\"] = len(tripdata[(tripdata[\"started_at_year\"] == 2024) & (tripdata[\"started_at_day\"] == k) & (tripdata[\"started_at_hour\"] >= 20) & (tripdata[\"started_at_hour\"] < 22) & (tripdata[\"station_id\"] == i)])"
   ]
  },
  {
   "cell_type": "code",
   "execution_count": 22,
   "id": "fab1d3fb",
   "metadata": {},
   "outputs": [
    {
     "name": "stdout",
     "output_type": "stream",
     "text": [
      "26351\n"
     ]
    },
    {
     "data": {
      "text/plain": [
       "26351"
      ]
     },
     "execution_count": 22,
     "metadata": {},
     "output_type": "execute_result"
    }
   ],
   "source": [
    "# total trips on apr 1 2024\n",
    "print(len(tripdata[(tripdata[\"started_at_year\"] == 2024)&(tripdata[\"started_at_day\"] == 1)&(tripdata[\"started_at_hour\"] >= 8)&(tripdata[\"started_at_hour\"] < 22)]))\n",
    "\n",
    "# rentals recorded for apr 1 2024 \n",
    "sum(rentals.loc[(rentals[\"year\"] == 2024) & (rentals[\"day\"] == 1),\"#_rentals\"])"
   ]
  },
  {
   "cell_type": "markdown",
   "id": "bea87fc6",
   "metadata": {},
   "source": [
    "Hence, the dataset is correct!"
   ]
  },
  {
   "cell_type": "code",
   "execution_count": 23,
   "id": "5621306a",
   "metadata": {},
   "outputs": [
    {
     "data": {
      "text/html": [
       "<div>\n",
       "<style scoped>\n",
       "    .dataframe tbody tr th:only-of-type {\n",
       "        vertical-align: middle;\n",
       "    }\n",
       "\n",
       "    .dataframe tbody tr th {\n",
       "        vertical-align: top;\n",
       "    }\n",
       "\n",
       "    .dataframe thead th {\n",
       "        text-align: right;\n",
       "    }\n",
       "</style>\n",
       "<table border=\"1\" class=\"dataframe\">\n",
       "  <thead>\n",
       "    <tr style=\"text-align: right;\">\n",
       "      <th></th>\n",
       "      <th>name</th>\n",
       "      <th>lat</th>\n",
       "      <th>lng</th>\n",
       "      <th>station_id</th>\n",
       "      <th>datetime</th>\n",
       "      <th>#_rentals</th>\n",
       "      <th>year</th>\n",
       "      <th>month</th>\n",
       "      <th>day</th>\n",
       "      <th>hour</th>\n",
       "    </tr>\n",
       "  </thead>\n",
       "  <tbody>\n",
       "    <tr>\n",
       "      <th>0</th>\n",
       "      <td>1 Ave &amp; E 110 St</td>\n",
       "      <td>40.792327</td>\n",
       "      <td>-73.9383</td>\n",
       "      <td>0</td>\n",
       "      <td>2024-04-01 08:00:00.000</td>\n",
       "      <td>3</td>\n",
       "      <td>2024</td>\n",
       "      <td>4</td>\n",
       "      <td>1</td>\n",
       "      <td>8</td>\n",
       "    </tr>\n",
       "    <tr>\n",
       "      <th>1</th>\n",
       "      <td>1 Ave &amp; E 110 St</td>\n",
       "      <td>40.792327</td>\n",
       "      <td>-73.9383</td>\n",
       "      <td>0</td>\n",
       "      <td>2024-04-01 10:00:00.000</td>\n",
       "      <td>0</td>\n",
       "      <td>2024</td>\n",
       "      <td>4</td>\n",
       "      <td>1</td>\n",
       "      <td>10</td>\n",
       "    </tr>\n",
       "    <tr>\n",
       "      <th>2</th>\n",
       "      <td>1 Ave &amp; E 110 St</td>\n",
       "      <td>40.792327</td>\n",
       "      <td>-73.9383</td>\n",
       "      <td>0</td>\n",
       "      <td>2024-04-01 12:00:00.000</td>\n",
       "      <td>0</td>\n",
       "      <td>2024</td>\n",
       "      <td>4</td>\n",
       "      <td>1</td>\n",
       "      <td>12</td>\n",
       "    </tr>\n",
       "    <tr>\n",
       "      <th>3</th>\n",
       "      <td>1 Ave &amp; E 110 St</td>\n",
       "      <td>40.792327</td>\n",
       "      <td>-73.9383</td>\n",
       "      <td>0</td>\n",
       "      <td>2024-04-01 14:00:00.000</td>\n",
       "      <td>1</td>\n",
       "      <td>2024</td>\n",
       "      <td>4</td>\n",
       "      <td>1</td>\n",
       "      <td>14</td>\n",
       "    </tr>\n",
       "    <tr>\n",
       "      <th>4</th>\n",
       "      <td>1 Ave &amp; E 110 St</td>\n",
       "      <td>40.792327</td>\n",
       "      <td>-73.9383</td>\n",
       "      <td>0</td>\n",
       "      <td>2024-04-01 16:00:00.000</td>\n",
       "      <td>3</td>\n",
       "      <td>2024</td>\n",
       "      <td>4</td>\n",
       "      <td>1</td>\n",
       "      <td>16</td>\n",
       "    </tr>\n",
       "  </tbody>\n",
       "</table>\n",
       "</div>"
      ],
      "text/plain": [
       "               name        lat      lng  station_id                 datetime  \\\n",
       "0  1 Ave & E 110 St  40.792327 -73.9383           0  2024-04-01 08:00:00.000   \n",
       "1  1 Ave & E 110 St  40.792327 -73.9383           0  2024-04-01 10:00:00.000   \n",
       "2  1 Ave & E 110 St  40.792327 -73.9383           0  2024-04-01 12:00:00.000   \n",
       "3  1 Ave & E 110 St  40.792327 -73.9383           0  2024-04-01 14:00:00.000   \n",
       "4  1 Ave & E 110 St  40.792327 -73.9383           0  2024-04-01 16:00:00.000   \n",
       "\n",
       "   #_rentals  year  month  day  hour  \n",
       "0          3  2024      4    1     8  \n",
       "1          0  2024      4    1    10  \n",
       "2          0  2024      4    1    12  \n",
       "3          1  2024      4    1    14  \n",
       "4          3  2024      4    1    16  "
      ]
     },
     "execution_count": 23,
     "metadata": {},
     "output_type": "execute_result"
    }
   ],
   "source": [
    "# Created dataset\n",
    "rentals_final = rentals.copy()\n",
    "\n",
    "# removing unneeded columns\n",
    "rentals_final.drop(columns=['minute','second','microsecond'], inplace=True)\n",
    "\n",
    "# final look\n",
    "rentals_final.head()"
   ]
  },
  {
   "cell_type": "code",
   "execution_count": 24,
   "id": "bc83ade1",
   "metadata": {},
   "outputs": [],
   "source": [
    "# exporting\n",
    "rentals_final.to_csv(\"rentals_with_demand_new_time_units_apr.csv\", index=False)"
   ]
  }
 ],
 "metadata": {
  "kernelspec": {
   "display_name": "Python [conda env:base] *",
   "language": "python",
   "name": "conda-base-py"
  },
  "language_info": {
   "codemirror_mode": {
    "name": "ipython",
    "version": 3
   },
   "file_extension": ".py",
   "mimetype": "text/x-python",
   "name": "python",
   "nbconvert_exporter": "python",
   "pygments_lexer": "ipython3",
   "version": "3.12.7"
  }
 },
 "nbformat": 4,
 "nbformat_minor": 5
}
