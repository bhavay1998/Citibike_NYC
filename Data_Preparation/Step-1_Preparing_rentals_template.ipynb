{
 "cells": [
  {
   "cell_type": "markdown",
   "id": "86b24620",
   "metadata": {},
   "source": [
    "# Preparing New Dataset\n",
    "This notebook is meant to generate a new dataset (only for January 2024) based on *Citibike Trip data* that can be used to determine **bike rentals** based on a <u>fixed time resolution</u>. "
   ]
  },
  {
   "cell_type": "markdown",
   "id": "455dbf46",
   "metadata": {},
   "source": [
    "## Pre-processing the original data\n",
    "Before preparing a new dataset, the original data is pre-processed to be suitable for creating a new dataset."
   ]
  },
  {
   "cell_type": "code",
   "execution_count": 1,
   "id": "b0a7395e",
   "metadata": {},
   "outputs": [
    {
     "name": "stderr",
     "output_type": "stream",
     "text": [
      "C:\\Users\\singh\\AppData\\Local\\Temp\\ipykernel_24448\\2942385950.py:3: DtypeWarning: Columns (5,7) have mixed types. Specify dtype option on import or set low_memory=False.\n",
      "  complete_data = pd.read_csv(\"C:/Users/singh/Desktop/TUD (All Semesters)/Courses - Semester 5 (TU Dresden)/Research Task - Spatial Modelling/Datasets/Citibike Trip Data/202401-citibike-tripdata.csv\")\n"
     ]
    },
    {
     "name": "stdout",
     "output_type": "stream",
     "text": [
      "<class 'pandas.core.frame.DataFrame'>\n",
      "RangeIndex: 1888085 entries, 0 to 1888084\n",
      "Data columns (total 13 columns):\n",
      " #   Column              Dtype  \n",
      "---  ------              -----  \n",
      " 0   ride_id             object \n",
      " 1   rideable_type       object \n",
      " 2   started_at          object \n",
      " 3   ended_at            object \n",
      " 4   start_station_name  object \n",
      " 5   start_station_id    object \n",
      " 6   end_station_name    object \n",
      " 7   end_station_id      object \n",
      " 8   start_lat           float64\n",
      " 9   start_lng           float64\n",
      " 10  end_lat             float64\n",
      " 11  end_lng             float64\n",
      " 12  member_casual       object \n",
      "dtypes: float64(4), object(9)\n",
      "memory usage: 187.3+ MB\n"
     ]
    }
   ],
   "source": [
    "# Reading the data\n",
    "import pandas as pd\n",
    "complete_data = pd.read_csv(\"C:/Users/singh/Desktop/TUD (All Semesters)/Courses - Semester 5 (TU Dresden)/Research Task - Spatial Modelling/Datasets/Citibike Trip Data/202401-citibike-tripdata.csv\")\n",
    "complete_data.info()"
   ]
  },
  {
   "cell_type": "code",
   "execution_count": 2,
   "id": "4484f7f9",
   "metadata": {},
   "outputs": [
    {
     "data": {
      "text/plain": [
       "array(['electric_bike', 'classic_bike'], dtype=object)"
      ]
     },
     "execution_count": 2,
     "metadata": {},
     "output_type": "execute_result"
    }
   ],
   "source": [
    "# Types of ride vehicles\n",
    "complete_data[\"rideable_type\"].unique()"
   ]
  },
  {
   "cell_type": "markdown",
   "id": "3c8c4ae5",
   "metadata": {},
   "source": [
    "The dataset contains both *ebikes* and *classic bikes*. The complete dataset is filtered for **classic bikes** only since they are much more in numbers and is the primary source of mobility service."
   ]
  },
  {
   "cell_type": "code",
   "execution_count": 3,
   "id": "7daff191",
   "metadata": {},
   "outputs": [
    {
     "data": {
      "text/plain": [
       "array(['classic_bike'], dtype=object)"
      ]
     },
     "execution_count": 3,
     "metadata": {},
     "output_type": "execute_result"
    }
   ],
   "source": [
    "# filtering the dataset\n",
    "cbikes = complete_data[complete_data[\"rideable_type\"] == \"classic_bike\"]\n",
    "cbikes[\"rideable_type\"].unique()"
   ]
  },
  {
   "cell_type": "markdown",
   "id": "7308509e",
   "metadata": {},
   "source": [
    "Additionally, there might be data points with <u>no information</u> about the **starting station name and location**. These data points can't provide information about rentals, hence they should be removed from the dataset."
   ]
  },
  {
   "cell_type": "code",
   "execution_count": 10,
   "id": "f9906156",
   "metadata": {},
   "outputs": [
    {
     "data": {
      "text/plain": [
       "0"
      ]
     },
     "execution_count": 10,
     "metadata": {},
     "output_type": "execute_result"
    }
   ],
   "source": [
    "# there are no rows with missing info about start\n",
    "sum(cbikes[\"start_station_name\"].isna())"
   ]
  },
  {
   "cell_type": "code",
   "execution_count": 11,
   "id": "a72bafbf",
   "metadata": {},
   "outputs": [
    {
     "data": {
      "text/html": [
       "<div>\n",
       "<style scoped>\n",
       "    .dataframe tbody tr th:only-of-type {\n",
       "        vertical-align: middle;\n",
       "    }\n",
       "\n",
       "    .dataframe tbody tr th {\n",
       "        vertical-align: top;\n",
       "    }\n",
       "\n",
       "    .dataframe thead th {\n",
       "        text-align: right;\n",
       "    }\n",
       "</style>\n",
       "<table border=\"1\" class=\"dataframe\">\n",
       "  <thead>\n",
       "    <tr style=\"text-align: right;\">\n",
       "      <th></th>\n",
       "      <th>ride_id</th>\n",
       "      <th>rideable_type</th>\n",
       "      <th>started_at</th>\n",
       "      <th>ended_at</th>\n",
       "      <th>start_station_name</th>\n",
       "      <th>start_station_id</th>\n",
       "      <th>end_station_name</th>\n",
       "      <th>end_station_id</th>\n",
       "      <th>start_lat</th>\n",
       "      <th>start_lng</th>\n",
       "      <th>end_lat</th>\n",
       "      <th>end_lng</th>\n",
       "      <th>member_casual</th>\n",
       "    </tr>\n",
       "  </thead>\n",
       "  <tbody>\n",
       "    <tr>\n",
       "      <th>15</th>\n",
       "      <td>58F39536036FB9A4</td>\n",
       "      <td>classic_bike</td>\n",
       "      <td>2024-01-15 14:15:52.165</td>\n",
       "      <td>2024-01-15 14:23:35.528</td>\n",
       "      <td>Frederick Douglass Blvd &amp; W 145 St</td>\n",
       "      <td>7954.12</td>\n",
       "      <td>St Nicholas Ave &amp; W 126 St</td>\n",
       "      <td>7756.10</td>\n",
       "      <td>40.823061</td>\n",
       "      <td>-73.941928</td>\n",
       "      <td>40.811432</td>\n",
       "      <td>-73.951878</td>\n",
       "      <td>member</td>\n",
       "    </tr>\n",
       "    <tr>\n",
       "      <th>22</th>\n",
       "      <td>21A2AE1F29B69343</td>\n",
       "      <td>classic_bike</td>\n",
       "      <td>2024-01-18 21:45:06.206</td>\n",
       "      <td>2024-01-18 22:12:03.996</td>\n",
       "      <td>West End Ave &amp; W 107 St</td>\n",
       "      <td>7650.05</td>\n",
       "      <td>E 74 St &amp; 1 Ave</td>\n",
       "      <td>6953.08</td>\n",
       "      <td>40.802117</td>\n",
       "      <td>-73.968181</td>\n",
       "      <td>40.768974</td>\n",
       "      <td>-73.954823</td>\n",
       "      <td>member</td>\n",
       "    </tr>\n",
       "    <tr>\n",
       "      <th>38</th>\n",
       "      <td>03DF018B20ED02D9</td>\n",
       "      <td>classic_bike</td>\n",
       "      <td>2024-01-13 14:51:04.773</td>\n",
       "      <td>2024-01-14 15:50:59.897</td>\n",
       "      <td>Columbia St &amp; Kane St</td>\n",
       "      <td>4422.05</td>\n",
       "      <td>NaN</td>\n",
       "      <td>NaN</td>\n",
       "      <td>40.687632</td>\n",
       "      <td>-74.001626</td>\n",
       "      <td>NaN</td>\n",
       "      <td>NaN</td>\n",
       "      <td>casual</td>\n",
       "    </tr>\n",
       "    <tr>\n",
       "      <th>49</th>\n",
       "      <td>826ACF9021A6C8DD</td>\n",
       "      <td>classic_bike</td>\n",
       "      <td>2024-01-18 21:34:50.882</td>\n",
       "      <td>2024-01-18 21:55:23.975</td>\n",
       "      <td>West End Ave &amp; W 107 St</td>\n",
       "      <td>7650.05</td>\n",
       "      <td>Adam Clayton Powell Blvd &amp; W 118 St</td>\n",
       "      <td>7670.09</td>\n",
       "      <td>40.802117</td>\n",
       "      <td>-73.968181</td>\n",
       "      <td>40.804372</td>\n",
       "      <td>-73.951475</td>\n",
       "      <td>member</td>\n",
       "    </tr>\n",
       "    <tr>\n",
       "      <th>54</th>\n",
       "      <td>A0A09C76891121C6</td>\n",
       "      <td>classic_bike</td>\n",
       "      <td>2024-01-12 18:14:37.307</td>\n",
       "      <td>2024-01-12 18:20:40.605</td>\n",
       "      <td>Frederick Douglass Blvd &amp; W 145 St</td>\n",
       "      <td>7954.12</td>\n",
       "      <td>St Nicholas Ave &amp; W 126 St</td>\n",
       "      <td>7756.10</td>\n",
       "      <td>40.823061</td>\n",
       "      <td>-73.941928</td>\n",
       "      <td>40.811432</td>\n",
       "      <td>-73.951878</td>\n",
       "      <td>member</td>\n",
       "    </tr>\n",
       "  </tbody>\n",
       "</table>\n",
       "</div>"
      ],
      "text/plain": [
       "             ride_id rideable_type               started_at  \\\n",
       "15  58F39536036FB9A4  classic_bike  2024-01-15 14:15:52.165   \n",
       "22  21A2AE1F29B69343  classic_bike  2024-01-18 21:45:06.206   \n",
       "38  03DF018B20ED02D9  classic_bike  2024-01-13 14:51:04.773   \n",
       "49  826ACF9021A6C8DD  classic_bike  2024-01-18 21:34:50.882   \n",
       "54  A0A09C76891121C6  classic_bike  2024-01-12 18:14:37.307   \n",
       "\n",
       "                   ended_at                  start_station_name  \\\n",
       "15  2024-01-15 14:23:35.528  Frederick Douglass Blvd & W 145 St   \n",
       "22  2024-01-18 22:12:03.996             West End Ave & W 107 St   \n",
       "38  2024-01-14 15:50:59.897               Columbia St & Kane St   \n",
       "49  2024-01-18 21:55:23.975             West End Ave & W 107 St   \n",
       "54  2024-01-12 18:20:40.605  Frederick Douglass Blvd & W 145 St   \n",
       "\n",
       "   start_station_id                     end_station_name end_station_id  \\\n",
       "15          7954.12           St Nicholas Ave & W 126 St        7756.10   \n",
       "22          7650.05                      E 74 St & 1 Ave        6953.08   \n",
       "38          4422.05                                  NaN            NaN   \n",
       "49          7650.05  Adam Clayton Powell Blvd & W 118 St        7670.09   \n",
       "54          7954.12           St Nicholas Ave & W 126 St        7756.10   \n",
       "\n",
       "    start_lat  start_lng    end_lat    end_lng member_casual  \n",
       "15  40.823061 -73.941928  40.811432 -73.951878        member  \n",
       "22  40.802117 -73.968181  40.768974 -73.954823        member  \n",
       "38  40.687632 -74.001626        NaN        NaN        casual  \n",
       "49  40.802117 -73.968181  40.804372 -73.951475        member  \n",
       "54  40.823061 -73.941928  40.811432 -73.951878        member  "
      ]
     },
     "execution_count": 11,
     "metadata": {},
     "output_type": "execute_result"
    }
   ],
   "source": [
    "# checking for redundant columns\n",
    "cbikes.head()"
   ]
  },
  {
   "cell_type": "markdown",
   "id": "2988f170",
   "metadata": {},
   "source": [
    "The columns *rideable_type* and *member_casual* are redundant and can be removed from the dataset."
   ]
  },
  {
   "cell_type": "code",
   "execution_count": 13,
   "id": "adc6a5a1",
   "metadata": {},
   "outputs": [
    {
     "data": {
      "text/plain": [
       "Index(['ride_id', 'started_at', 'ended_at', 'start_station_name',\n",
       "       'start_station_id', 'end_station_name', 'end_station_id', 'start_lat',\n",
       "       'start_lng', 'end_lat', 'end_lng'],\n",
       "      dtype='object')"
      ]
     },
     "execution_count": 13,
     "metadata": {},
     "output_type": "execute_result"
    }
   ],
   "source": [
    "# reducing columns\n",
    "cbikes = cbikes[[\"ride_id\", \"started_at\", \"ended_at\", \"start_station_name\", \"start_station_id\", \"end_station_name\", \"end_station_id\", \"start_lat\", \"start_lng\", \"end_lat\", \"end_lng\"]]\n",
    "cbikes.columns"
   ]
  },
  {
   "cell_type": "code",
   "execution_count": 17,
   "id": "c113dce6",
   "metadata": {},
   "outputs": [
    {
     "name": "stdout",
     "output_type": "stream",
     "text": [
      "673559 673559\n"
     ]
    }
   ],
   "source": [
    "# 'ride_id' can be used to count bike rentals\n",
    "print(len(cbikes), len(cbikes[\"ride_id\"].unique()))"
   ]
  },
  {
   "cell_type": "markdown",
   "id": "b28c96e5",
   "metadata": {},
   "source": [
    "## Creating New Dataset\n",
    "The new dataset should contain stations with their location and time information included. Each row represents <u> one unit of chosen time resolution</u>.\n",
    "<br><br>\n",
    "**NOTE:** Station ID needs to be retained because there are some stations with the same name but slightly different locations!\n",
    "<br><br>\n",
    "In the dataset, some IDs are stored as text and others are stored as numbers. Converting th data type to *string* does not work because **\\n** and some other text is being added automatically.\n",
    "<br><br>\n",
    "**Solution:**<br>\n",
    "The stations can be manually given unique ids for the purpose of indentification."
   ]
  },
  {
   "cell_type": "code",
   "execution_count": 272,
   "id": "35c21491",
   "metadata": {},
   "outputs": [
    {
     "data": {
      "text/html": [
       "<div>\n",
       "<style scoped>\n",
       "    .dataframe tbody tr th:only-of-type {\n",
       "        vertical-align: middle;\n",
       "    }\n",
       "\n",
       "    .dataframe tbody tr th {\n",
       "        vertical-align: top;\n",
       "    }\n",
       "\n",
       "    .dataframe thead th {\n",
       "        text-align: right;\n",
       "    }\n",
       "</style>\n",
       "<table border=\"1\" class=\"dataframe\">\n",
       "  <thead>\n",
       "    <tr style=\"text-align: right;\">\n",
       "      <th></th>\n",
       "      <th>name</th>\n",
       "      <th>lat</th>\n",
       "      <th>lng</th>\n",
       "    </tr>\n",
       "  </thead>\n",
       "  <tbody>\n",
       "    <tr>\n",
       "      <th>0</th>\n",
       "      <td>1 Ave &amp; E 110 St</td>\n",
       "      <td>40.792327</td>\n",
       "      <td>-73.938300</td>\n",
       "    </tr>\n",
       "    <tr>\n",
       "      <th>1</th>\n",
       "      <td>1 Ave &amp; E 16 St</td>\n",
       "      <td>40.732219</td>\n",
       "      <td>-73.981656</td>\n",
       "    </tr>\n",
       "    <tr>\n",
       "      <th>2</th>\n",
       "      <td>1 Ave &amp; E 18 St</td>\n",
       "      <td>40.733812</td>\n",
       "      <td>-73.980544</td>\n",
       "    </tr>\n",
       "    <tr>\n",
       "      <th>3</th>\n",
       "      <td>1 Ave &amp; E 30 St</td>\n",
       "      <td>40.741444</td>\n",
       "      <td>-73.975361</td>\n",
       "    </tr>\n",
       "    <tr>\n",
       "      <th>4</th>\n",
       "      <td>1 Ave &amp; E 39 St</td>\n",
       "      <td>40.747140</td>\n",
       "      <td>-73.971130</td>\n",
       "    </tr>\n",
       "  </tbody>\n",
       "</table>\n",
       "</div>"
      ],
      "text/plain": [
       "               name        lat        lng\n",
       "0  1 Ave & E 110 St  40.792327 -73.938300\n",
       "1   1 Ave & E 16 St  40.732219 -73.981656\n",
       "2   1 Ave & E 18 St  40.733812 -73.980544\n",
       "3   1 Ave & E 30 St  40.741444 -73.975361\n",
       "4   1 Ave & E 39 St  40.747140 -73.971130"
      ]
     },
     "execution_count": 272,
     "metadata": {},
     "output_type": "execute_result"
    }
   ],
   "source": [
    "# Creating the new dataset\n",
    "rentals = pd.DataFrame()\n",
    "rentals[[\"name\", \"lat\", \"lng\"]] = cbikes[[\"start_station_name\", \"start_lat\", \"start_lng\"]].drop_duplicates()\n",
    "rentals = rentals.sort_values(by = [\"name\"], ignore_index=True)\n",
    "rentals.head()"
   ]
  },
  {
   "cell_type": "code",
   "execution_count": 273,
   "id": "0f46df1c",
   "metadata": {},
   "outputs": [
    {
     "data": {
      "text/html": [
       "<div>\n",
       "<style scoped>\n",
       "    .dataframe tbody tr th:only-of-type {\n",
       "        vertical-align: middle;\n",
       "    }\n",
       "\n",
       "    .dataframe tbody tr th {\n",
       "        vertical-align: top;\n",
       "    }\n",
       "\n",
       "    .dataframe thead th {\n",
       "        text-align: right;\n",
       "    }\n",
       "</style>\n",
       "<table border=\"1\" class=\"dataframe\">\n",
       "  <thead>\n",
       "    <tr style=\"text-align: right;\">\n",
       "      <th></th>\n",
       "      <th>name</th>\n",
       "      <th>lat</th>\n",
       "      <th>lng</th>\n",
       "      <th>station_id</th>\n",
       "    </tr>\n",
       "  </thead>\n",
       "  <tbody>\n",
       "    <tr>\n",
       "      <th>0</th>\n",
       "      <td>1 Ave &amp; E 110 St</td>\n",
       "      <td>40.792327</td>\n",
       "      <td>-73.938300</td>\n",
       "      <td>0</td>\n",
       "    </tr>\n",
       "    <tr>\n",
       "      <th>1</th>\n",
       "      <td>1 Ave &amp; E 16 St</td>\n",
       "      <td>40.732219</td>\n",
       "      <td>-73.981656</td>\n",
       "      <td>1</td>\n",
       "    </tr>\n",
       "    <tr>\n",
       "      <th>2</th>\n",
       "      <td>1 Ave &amp; E 18 St</td>\n",
       "      <td>40.733812</td>\n",
       "      <td>-73.980544</td>\n",
       "      <td>2</td>\n",
       "    </tr>\n",
       "    <tr>\n",
       "      <th>3</th>\n",
       "      <td>1 Ave &amp; E 30 St</td>\n",
       "      <td>40.741444</td>\n",
       "      <td>-73.975361</td>\n",
       "      <td>3</td>\n",
       "    </tr>\n",
       "    <tr>\n",
       "      <th>4</th>\n",
       "      <td>1 Ave &amp; E 39 St</td>\n",
       "      <td>40.747140</td>\n",
       "      <td>-73.971130</td>\n",
       "      <td>4</td>\n",
       "    </tr>\n",
       "  </tbody>\n",
       "</table>\n",
       "</div>"
      ],
      "text/plain": [
       "               name        lat        lng  station_id\n",
       "0  1 Ave & E 110 St  40.792327 -73.938300           0\n",
       "1   1 Ave & E 16 St  40.732219 -73.981656           1\n",
       "2   1 Ave & E 18 St  40.733812 -73.980544           2\n",
       "3   1 Ave & E 30 St  40.741444 -73.975361           3\n",
       "4   1 Ave & E 39 St  40.747140 -73.971130           4"
      ]
     },
     "execution_count": 273,
     "metadata": {},
     "output_type": "execute_result"
    }
   ],
   "source": [
    "# Adding IDs manually\n",
    "rentals[\"station_id\"] = range(len(rentals))\n",
    "rentals.head()"
   ]
  },
  {
   "cell_type": "code",
   "execution_count": 274,
   "id": "681b0ff8",
   "metadata": {},
   "outputs": [
    {
     "name": "stdout",
     "output_type": "stream",
     "text": [
      "2124 2124\n"
     ]
    }
   ],
   "source": [
    "# Verifying the number of stations\n",
    "print(len(cbikes[[\"start_station_name\", \"start_lat\", \"start_lng\"]].drop_duplicates()), len(rentals[\"station_id\"]))"
   ]
  },
  {
   "cell_type": "code",
   "execution_count": 275,
   "id": "70432e90",
   "metadata": {
    "scrolled": true
   },
   "outputs": [
    {
     "data": {
      "text/html": [
       "<div>\n",
       "<style scoped>\n",
       "    .dataframe tbody tr th:only-of-type {\n",
       "        vertical-align: middle;\n",
       "    }\n",
       "\n",
       "    .dataframe tbody tr th {\n",
       "        vertical-align: top;\n",
       "    }\n",
       "\n",
       "    .dataframe thead th {\n",
       "        text-align: right;\n",
       "    }\n",
       "</style>\n",
       "<table border=\"1\" class=\"dataframe\">\n",
       "  <thead>\n",
       "    <tr style=\"text-align: right;\">\n",
       "      <th></th>\n",
       "      <th>name</th>\n",
       "      <th>lat</th>\n",
       "      <th>lng</th>\n",
       "      <th>station_id</th>\n",
       "    </tr>\n",
       "  </thead>\n",
       "  <tbody>\n",
       "    <tr>\n",
       "      <th>511</th>\n",
       "      <td>Amsterdam Ave &amp; W 119 St</td>\n",
       "      <td>40.808625</td>\n",
       "      <td>-73.959621</td>\n",
       "      <td>511</td>\n",
       "    </tr>\n",
       "    <tr>\n",
       "      <th>856</th>\n",
       "      <td>DeKalb Ave &amp; S Portland Ave</td>\n",
       "      <td>40.689810</td>\n",
       "      <td>-73.974931</td>\n",
       "      <td>856</td>\n",
       "    </tr>\n",
       "    <tr>\n",
       "      <th>1040</th>\n",
       "      <td>E 47 St &amp; Park Ave</td>\n",
       "      <td>40.755008</td>\n",
       "      <td>-73.974627</td>\n",
       "      <td>1040</td>\n",
       "    </tr>\n",
       "    <tr>\n",
       "      <th>1325</th>\n",
       "      <td>Jay St &amp; Tech Pl</td>\n",
       "      <td>40.695000</td>\n",
       "      <td>-73.989170</td>\n",
       "      <td>1325</td>\n",
       "    </tr>\n",
       "    <tr>\n",
       "      <th>2046</th>\n",
       "      <td>Warren St &amp; Roosevelt Ave</td>\n",
       "      <td>40.749190</td>\n",
       "      <td>-73.870430</td>\n",
       "      <td>2046</td>\n",
       "    </tr>\n",
       "  </tbody>\n",
       "</table>\n",
       "</div>"
      ],
      "text/plain": [
       "                             name        lat        lng  station_id\n",
       "511      Amsterdam Ave & W 119 St  40.808625 -73.959621         511\n",
       "856   DeKalb Ave & S Portland Ave  40.689810 -73.974931         856\n",
       "1040           E 47 St & Park Ave  40.755008 -73.974627        1040\n",
       "1325             Jay St & Tech Pl  40.695000 -73.989170        1325\n",
       "2046    Warren St & Roosevelt Ave  40.749190 -73.870430        2046"
      ]
     },
     "execution_count": 275,
     "metadata": {},
     "output_type": "execute_result"
    }
   ],
   "source": [
    "# 5 stations have repeating names, but their location is different\n",
    "rentals[rentals[\"name\"].duplicated()]"
   ]
  },
  {
   "cell_type": "code",
   "execution_count": 140,
   "id": "56e0eee1",
   "metadata": {},
   "outputs": [
    {
     "data": {
      "text/html": [
       "<div>\n",
       "<style scoped>\n",
       "    .dataframe tbody tr th:only-of-type {\n",
       "        vertical-align: middle;\n",
       "    }\n",
       "\n",
       "    .dataframe tbody tr th {\n",
       "        vertical-align: top;\n",
       "    }\n",
       "\n",
       "    .dataframe thead th {\n",
       "        text-align: right;\n",
       "    }\n",
       "</style>\n",
       "<table border=\"1\" class=\"dataframe\">\n",
       "  <thead>\n",
       "    <tr style=\"text-align: right;\">\n",
       "      <th></th>\n",
       "      <th>name</th>\n",
       "      <th>lat</th>\n",
       "      <th>lng</th>\n",
       "      <th>station_id</th>\n",
       "    </tr>\n",
       "  </thead>\n",
       "  <tbody>\n",
       "    <tr>\n",
       "      <th>510</th>\n",
       "      <td>Amsterdam Ave &amp; W 119 St</td>\n",
       "      <td>40.808632</td>\n",
       "      <td>-73.959586</td>\n",
       "      <td>510</td>\n",
       "    </tr>\n",
       "    <tr>\n",
       "      <th>511</th>\n",
       "      <td>Amsterdam Ave &amp; W 119 St</td>\n",
       "      <td>40.808625</td>\n",
       "      <td>-73.959621</td>\n",
       "      <td>511</td>\n",
       "    </tr>\n",
       "  </tbody>\n",
       "</table>\n",
       "</div>"
      ],
      "text/plain": [
       "                         name        lat        lng  station_id\n",
       "510  Amsterdam Ave & W 119 St  40.808632 -73.959586         510\n",
       "511  Amsterdam Ave & W 119 St  40.808625 -73.959621         511"
      ]
     },
     "execution_count": 140,
     "metadata": {},
     "output_type": "execute_result"
    }
   ],
   "source": [
    "# example\n",
    "rentals[rentals[\"name\"] == \"Amsterdam Ave & W 119 St\"]"
   ]
  },
  {
   "cell_type": "markdown",
   "id": "37d96f8a",
   "metadata": {},
   "source": [
    "## Altering the original (filtered) dataset\n",
    "Instead of relying on station_ids provided by **Citibike**, the manually constructed IDs can be entered in dataset. This will make it easy for referencing and connecting *rentals* table with this original filteered dataset.<br><br>\n",
    "<u>Note</u>: Original filtered dataset means data for classic bikes where NaN values and redundant columns are removed i.e. **cbikes** dataframe."
   ]
  },
  {
   "cell_type": "code",
   "execution_count": 141,
   "id": "86e9c93b",
   "metadata": {},
   "outputs": [
    {
     "data": {
      "text/html": [
       "<div>\n",
       "<style scoped>\n",
       "    .dataframe tbody tr th:only-of-type {\n",
       "        vertical-align: middle;\n",
       "    }\n",
       "\n",
       "    .dataframe tbody tr th {\n",
       "        vertical-align: top;\n",
       "    }\n",
       "\n",
       "    .dataframe thead th {\n",
       "        text-align: right;\n",
       "    }\n",
       "</style>\n",
       "<table border=\"1\" class=\"dataframe\">\n",
       "  <thead>\n",
       "    <tr style=\"text-align: right;\">\n",
       "      <th></th>\n",
       "      <th>ride_id</th>\n",
       "      <th>started_at</th>\n",
       "      <th>ended_at</th>\n",
       "      <th>start_station_name</th>\n",
       "      <th>start_station_id</th>\n",
       "      <th>end_station_name</th>\n",
       "      <th>end_station_id</th>\n",
       "      <th>start_lat</th>\n",
       "      <th>start_lng</th>\n",
       "      <th>end_lat</th>\n",
       "      <th>end_lng</th>\n",
       "    </tr>\n",
       "  </thead>\n",
       "  <tbody>\n",
       "    <tr>\n",
       "      <th>1542152</th>\n",
       "      <td>FD1815E65D61FAF1</td>\n",
       "      <td>2024-01-07 08:42:55.647</td>\n",
       "      <td>2024-01-07 08:44:27.312</td>\n",
       "      <td>1 Ave &amp; E 110 St</td>\n",
       "      <td>7522.02</td>\n",
       "      <td>E 114 St &amp; 1 Ave</td>\n",
       "      <td>7540.02</td>\n",
       "      <td>40.792327</td>\n",
       "      <td>-73.9383</td>\n",
       "      <td>40.794566</td>\n",
       "      <td>-73.936254</td>\n",
       "    </tr>\n",
       "    <tr>\n",
       "      <th>139989</th>\n",
       "      <td>C81EA1D1AF08E764</td>\n",
       "      <td>2024-01-05 16:47:51.873</td>\n",
       "      <td>2024-01-05 16:55:21.591</td>\n",
       "      <td>1 Ave &amp; E 110 St</td>\n",
       "      <td>7522.02</td>\n",
       "      <td>Central Park North &amp; Adam Clayton Powell Blvd</td>\n",
       "      <td>7617.07</td>\n",
       "      <td>40.792327</td>\n",
       "      <td>-73.9383</td>\n",
       "      <td>40.799484</td>\n",
       "      <td>-73.955613</td>\n",
       "    </tr>\n",
       "    <tr>\n",
       "      <th>377860</th>\n",
       "      <td>B68072A759AEBC11</td>\n",
       "      <td>2024-01-28 21:16:58.578</td>\n",
       "      <td>2024-01-28 21:21:37.778</td>\n",
       "      <td>1 Ave &amp; E 110 St</td>\n",
       "      <td>7522.02</td>\n",
       "      <td>2 Ave &amp; E 99 St</td>\n",
       "      <td>7386.10</td>\n",
       "      <td>40.792327</td>\n",
       "      <td>-73.9383</td>\n",
       "      <td>40.786259</td>\n",
       "      <td>-73.945526</td>\n",
       "    </tr>\n",
       "    <tr>\n",
       "      <th>269167</th>\n",
       "      <td>40253EB730335B64</td>\n",
       "      <td>2024-01-14 06:21:56.489</td>\n",
       "      <td>2024-01-14 06:38:02.179</td>\n",
       "      <td>1 Ave &amp; E 110 St</td>\n",
       "      <td>7522.02</td>\n",
       "      <td>W 110 St &amp; Amsterdam Ave</td>\n",
       "      <td>7646.04</td>\n",
       "      <td>40.792327</td>\n",
       "      <td>-73.9383</td>\n",
       "      <td>40.802692</td>\n",
       "      <td>-73.962950</td>\n",
       "    </tr>\n",
       "    <tr>\n",
       "      <th>157120</th>\n",
       "      <td>F3788085AE49CFD5</td>\n",
       "      <td>2024-01-10 17:09:08.398</td>\n",
       "      <td>2024-01-10 17:28:59.593</td>\n",
       "      <td>1 Ave &amp; E 110 St</td>\n",
       "      <td>7522.02</td>\n",
       "      <td>W 87 St &amp; West End Ave</td>\n",
       "      <td>7484.05</td>\n",
       "      <td>40.792327</td>\n",
       "      <td>-73.9383</td>\n",
       "      <td>40.789622</td>\n",
       "      <td>-73.977570</td>\n",
       "    </tr>\n",
       "  </tbody>\n",
       "</table>\n",
       "</div>"
      ],
      "text/plain": [
       "                  ride_id               started_at                 ended_at  \\\n",
       "1542152  FD1815E65D61FAF1  2024-01-07 08:42:55.647  2024-01-07 08:44:27.312   \n",
       "139989   C81EA1D1AF08E764  2024-01-05 16:47:51.873  2024-01-05 16:55:21.591   \n",
       "377860   B68072A759AEBC11  2024-01-28 21:16:58.578  2024-01-28 21:21:37.778   \n",
       "269167   40253EB730335B64  2024-01-14 06:21:56.489  2024-01-14 06:38:02.179   \n",
       "157120   F3788085AE49CFD5  2024-01-10 17:09:08.398  2024-01-10 17:28:59.593   \n",
       "\n",
       "        start_station_name start_station_id  \\\n",
       "1542152   1 Ave & E 110 St          7522.02   \n",
       "139989    1 Ave & E 110 St          7522.02   \n",
       "377860    1 Ave & E 110 St          7522.02   \n",
       "269167    1 Ave & E 110 St          7522.02   \n",
       "157120    1 Ave & E 110 St          7522.02   \n",
       "\n",
       "                                      end_station_name end_station_id  \\\n",
       "1542152                               E 114 St & 1 Ave        7540.02   \n",
       "139989   Central Park North & Adam Clayton Powell Blvd        7617.07   \n",
       "377860                                 2 Ave & E 99 St        7386.10   \n",
       "269167                        W 110 St & Amsterdam Ave        7646.04   \n",
       "157120                          W 87 St & West End Ave        7484.05   \n",
       "\n",
       "         start_lat  start_lng    end_lat    end_lng  \n",
       "1542152  40.792327   -73.9383  40.794566 -73.936254  \n",
       "139989   40.792327   -73.9383  40.799484 -73.955613  \n",
       "377860   40.792327   -73.9383  40.786259 -73.945526  \n",
       "269167   40.792327   -73.9383  40.802692 -73.962950  \n",
       "157120   40.792327   -73.9383  40.789622 -73.977570  "
      ]
     },
     "execution_count": 141,
     "metadata": {},
     "output_type": "execute_result"
    }
   ],
   "source": [
    "# Copying cbikes df\n",
    "cbikes_altered = cbikes\n",
    "cbikes_altered.head()"
   ]
  },
  {
   "cell_type": "code",
   "execution_count": 148,
   "id": "ff266641",
   "metadata": {},
   "outputs": [],
   "source": [
    "# Merging the two dfs\n",
    "new_df = pd.merge(\n",
    "    left=cbikes_altered, \n",
    "    right=rentals,\n",
    "    how='left',\n",
    "    left_on=['start_station_name', 'start_lat', 'start_lng'],\n",
    "    right_on=['name', 'lat', 'lng'],\n",
    ")"
   ]
  },
  {
   "cell_type": "code",
   "execution_count": 150,
   "id": "7985ee90",
   "metadata": {},
   "outputs": [
    {
     "data": {
      "text/html": [
       "<div>\n",
       "<style scoped>\n",
       "    .dataframe tbody tr th:only-of-type {\n",
       "        vertical-align: middle;\n",
       "    }\n",
       "\n",
       "    .dataframe tbody tr th {\n",
       "        vertical-align: top;\n",
       "    }\n",
       "\n",
       "    .dataframe thead th {\n",
       "        text-align: right;\n",
       "    }\n",
       "</style>\n",
       "<table border=\"1\" class=\"dataframe\">\n",
       "  <thead>\n",
       "    <tr style=\"text-align: right;\">\n",
       "      <th></th>\n",
       "      <th>ride_id</th>\n",
       "      <th>started_at</th>\n",
       "      <th>start_station_name</th>\n",
       "      <th>station_id</th>\n",
       "      <th>start_lat</th>\n",
       "      <th>start_lng</th>\n",
       "    </tr>\n",
       "  </thead>\n",
       "  <tbody>\n",
       "    <tr>\n",
       "      <th>0</th>\n",
       "      <td>FD1815E65D61FAF1</td>\n",
       "      <td>2024-01-07 08:42:55.647</td>\n",
       "      <td>1 Ave &amp; E 110 St</td>\n",
       "      <td>0</td>\n",
       "      <td>40.792327</td>\n",
       "      <td>-73.9383</td>\n",
       "    </tr>\n",
       "    <tr>\n",
       "      <th>1</th>\n",
       "      <td>C81EA1D1AF08E764</td>\n",
       "      <td>2024-01-05 16:47:51.873</td>\n",
       "      <td>1 Ave &amp; E 110 St</td>\n",
       "      <td>0</td>\n",
       "      <td>40.792327</td>\n",
       "      <td>-73.9383</td>\n",
       "    </tr>\n",
       "    <tr>\n",
       "      <th>2</th>\n",
       "      <td>B68072A759AEBC11</td>\n",
       "      <td>2024-01-28 21:16:58.578</td>\n",
       "      <td>1 Ave &amp; E 110 St</td>\n",
       "      <td>0</td>\n",
       "      <td>40.792327</td>\n",
       "      <td>-73.9383</td>\n",
       "    </tr>\n",
       "    <tr>\n",
       "      <th>3</th>\n",
       "      <td>40253EB730335B64</td>\n",
       "      <td>2024-01-14 06:21:56.489</td>\n",
       "      <td>1 Ave &amp; E 110 St</td>\n",
       "      <td>0</td>\n",
       "      <td>40.792327</td>\n",
       "      <td>-73.9383</td>\n",
       "    </tr>\n",
       "    <tr>\n",
       "      <th>4</th>\n",
       "      <td>F3788085AE49CFD5</td>\n",
       "      <td>2024-01-10 17:09:08.398</td>\n",
       "      <td>1 Ave &amp; E 110 St</td>\n",
       "      <td>0</td>\n",
       "      <td>40.792327</td>\n",
       "      <td>-73.9383</td>\n",
       "    </tr>\n",
       "  </tbody>\n",
       "</table>\n",
       "</div>"
      ],
      "text/plain": [
       "            ride_id               started_at start_station_name  station_id  \\\n",
       "0  FD1815E65D61FAF1  2024-01-07 08:42:55.647   1 Ave & E 110 St           0   \n",
       "1  C81EA1D1AF08E764  2024-01-05 16:47:51.873   1 Ave & E 110 St           0   \n",
       "2  B68072A759AEBC11  2024-01-28 21:16:58.578   1 Ave & E 110 St           0   \n",
       "3  40253EB730335B64  2024-01-14 06:21:56.489   1 Ave & E 110 St           0   \n",
       "4  F3788085AE49CFD5  2024-01-10 17:09:08.398   1 Ave & E 110 St           0   \n",
       "\n",
       "   start_lat  start_lng  \n",
       "0  40.792327   -73.9383  \n",
       "1  40.792327   -73.9383  \n",
       "2  40.792327   -73.9383  \n",
       "3  40.792327   -73.9383  \n",
       "4  40.792327   -73.9383  "
      ]
     },
     "execution_count": 150,
     "metadata": {},
     "output_type": "execute_result"
    }
   ],
   "source": [
    "# Preserving bike trip info only with the starting station info\n",
    "cbikes_altered = new_df[[\"ride_id\", \"started_at\", \"start_station_name\", \"station_id\", \"start_lat\", \"start_lng\"]]\n",
    "cbikes_altered.head()"
   ]
  },
  {
   "cell_type": "code",
   "execution_count": 151,
   "id": "466de588",
   "metadata": {},
   "outputs": [
    {
     "data": {
      "text/plain": [
       "2124"
      ]
     },
     "execution_count": 151,
     "metadata": {},
     "output_type": "execute_result"
    }
   ],
   "source": [
    "# Checking validity\n",
    "len(cbikes_altered[\"station_id\"].unique())"
   ]
  },
  {
   "cell_type": "markdown",
   "id": "84548cf6",
   "metadata": {
    "jupyter": {
     "source_hidden": true
    }
   },
   "source": [
    "Hence, the created dataset is correct."
   ]
  },
  {
   "cell_type": "markdown",
   "id": "c4ae1f7b",
   "metadata": {},
   "source": [
    "## Exporting this dataset\n",
    "This dataset can be used to calculate number of rentals by the manually generated station IDs."
   ]
  },
  {
   "cell_type": "code",
   "execution_count": 153,
   "id": "6d0761c7",
   "metadata": {},
   "outputs": [],
   "source": [
    "# exporting to 'C:\\Users\\singh\\Desktop\\TUD (All Semesters)\\Courses - Semester 5 (TU Dresden)\\Research Task - Spatial Modelling\\Code'\n",
    "cbikes_altered.to_csv(\"Tripdata_with_manual_ids.csv\", index=False)"
   ]
  },
  {
   "cell_type": "markdown",
   "id": "2a02300f",
   "metadata": {},
   "source": [
    "## Adding time dimensionality to the *rentals* dataset\n",
    "Now that station location information is available, a time resolution needs to be added so that number of rentals can be calculated in terms of that time unit, per station."
   ]
  },
  {
   "cell_type": "code",
   "execution_count": 156,
   "id": "b1b2d112",
   "metadata": {},
   "outputs": [
    {
     "name": "stdout",
     "output_type": "stream",
     "text": [
      "2023-12-31 02:36:55.648\n",
      "2024-01-31 23:58:30.270\n"
     ]
    }
   ],
   "source": [
    "# Checking the range of temporal information in trip data\n",
    "print(min(cbikes_altered[\"started_at\"])) \n",
    "print(max(cbikes_altered[\"started_at\"]))"
   ]
  },
  {
   "cell_type": "code",
   "execution_count": 163,
   "id": "096a5796",
   "metadata": {},
   "outputs": [
    {
     "name": "stdout",
     "output_type": "stream",
     "text": [
      "2024-01-07 08:42:55.647 <class 'str'>\n"
     ]
    }
   ],
   "source": [
    "# how is time info stored?\n",
    "print(cbikes_altered[\"started_at\"].iloc[0],\n",
    "type(cbikes_altered[\"started_at\"].iloc[0]))"
   ]
  },
  {
   "cell_type": "code",
   "execution_count": 170,
   "id": "e17fc531",
   "metadata": {},
   "outputs": [
    {
     "name": "stdout",
     "output_type": "stream",
     "text": [
      "2024-01-07 08:42:55.647\n"
     ]
    },
    {
     "data": {
      "text/plain": [
       "'2023-12-31 02:36:55.648'"
      ]
     },
     "execution_count": 170,
     "metadata": {},
     "output_type": "execute_result"
    }
   ],
   "source": [
    "# datetime info stored as a string\n",
    "h = '2024-01-07 08:42:55.647'\n",
    "print(h)\n",
    "min(cbikes_altered[\"started_at\"]) # without the print cmd"
   ]
  },
  {
   "cell_type": "markdown",
   "id": "0b6f67bf",
   "metadata": {},
   "source": [
    "Date-time info will have to be extracted from the **str** class to *datetime* objects. "
   ]
  },
  {
   "cell_type": "markdown",
   "id": "9fbd710d",
   "metadata": {},
   "source": [
    "## Generating 4 hr time resolution\n",
    "Each day will be divided into four hour units. So there should be 6 units of time per day spanning as follows:<br>\n",
    "- 0 to 4\n",
    "- 4 to 8\n",
    "- 8 to 12\n",
    "- 12 to 16\n",
    "- 16 to 20\n",
    "- last 4 hours (which are assumed to be from 20:00 onwards)"
   ]
  },
  {
   "cell_type": "code",
   "execution_count": 260,
   "id": "ceffd59c",
   "metadata": {},
   "outputs": [],
   "source": [
    "# defining time units for a given date\n",
    "time_res = ['00:00:00.000', '04:00:00.000', '08:00:00.000', '12:00:00.000', '16:00:00.000', '20:00:00.000']"
   ]
  },
  {
   "cell_type": "code",
   "execution_count": 261,
   "id": "7183f512",
   "metadata": {},
   "outputs": [
    {
     "name": "stdout",
     "output_type": "stream",
     "text": [
      "04:00:00.000 08:00:00.000\n"
     ]
    }
   ],
   "source": [
    "# repeating time units 32 times\n",
    "time_res = time_res*32\n",
    "print(time_res[1], time_res[8])"
   ]
  },
  {
   "cell_type": "code",
   "execution_count": 172,
   "id": "0c6d416b",
   "metadata": {},
   "outputs": [
    {
     "data": {
      "text/plain": [
       "True"
      ]
     },
     "execution_count": 172,
     "metadata": {},
     "output_type": "execute_result"
    }
   ],
   "source": [
    "# time operations can even be done in strings\n",
    "'03:00:00.000' < '04:00:00.000'"
   ]
  },
  {
   "cell_type": "code",
   "execution_count": 262,
   "id": "904bfd56",
   "metadata": {},
   "outputs": [],
   "source": [
    "# creating dates\n",
    "dates_included = []\n",
    "\n",
    "while len(dates_included) < 32:\n",
    "    dates_included.append('2024-01-01')"
   ]
  },
  {
   "cell_type": "code",
   "execution_count": 230,
   "id": "edf45e34",
   "metadata": {},
   "outputs": [
    {
     "name": "stdout",
     "output_type": "stream",
     "text": [
      "['2024-01-01', '2024-01-01', '2024-01-01'] 32\n"
     ]
    }
   ],
   "source": [
    "print(dates_included[:3], len(dates_included))"
   ]
  },
  {
   "cell_type": "code",
   "execution_count": 250,
   "id": "3e1a89fc",
   "metadata": {},
   "outputs": [],
   "source": [
    "nums = ['00', '01', '02','03','04','05','06','07','08','09','10','11','12','13','14','15','16','17','18','19','20','21','22','23','24','25','26','27','28','29','30','31']"
   ]
  },
  {
   "cell_type": "code",
   "execution_count": 263,
   "id": "70086a45",
   "metadata": {},
   "outputs": [],
   "source": [
    "# correcting days\n",
    "for i in range(len(nums)):\n",
    "    dates_included[i] = dates_included[i][:-2] + nums[i]"
   ]
  },
  {
   "cell_type": "code",
   "execution_count": 233,
   "id": "0bb76e7c",
   "metadata": {},
   "outputs": [
    {
     "data": {
      "text/plain": [
       "['2024-01-00',\n",
       " '2024-01-01',\n",
       " '2024-01-02',\n",
       " '2024-01-03',\n",
       " '2024-01-04',\n",
       " '2024-01-05',\n",
       " '2024-01-06',\n",
       " '2024-01-07',\n",
       " '2024-01-08',\n",
       " '2024-01-09',\n",
       " '2024-01-10',\n",
       " '2024-01-11',\n",
       " '2024-01-12',\n",
       " '2024-01-13',\n",
       " '2024-01-14',\n",
       " '2024-01-15',\n",
       " '2024-01-16',\n",
       " '2024-01-17',\n",
       " '2024-01-18',\n",
       " '2024-01-19',\n",
       " '2024-01-20',\n",
       " '2024-01-21',\n",
       " '2024-01-22',\n",
       " '2024-01-23',\n",
       " '2024-01-24',\n",
       " '2024-01-25',\n",
       " '2024-01-26',\n",
       " '2024-01-27',\n",
       " '2024-01-28',\n",
       " '2024-01-29',\n",
       " '2024-01-30',\n",
       " '2024-01-31']"
      ]
     },
     "execution_count": 233,
     "metadata": {},
     "output_type": "execute_result"
    }
   ],
   "source": [
    "dates_included"
   ]
  },
  {
   "cell_type": "code",
   "execution_count": 264,
   "id": "0b5f10f7",
   "metadata": {},
   "outputs": [
    {
     "data": {
      "text/plain": [
       "['2023-12-31', '2024-01-01', '2024-01-02', '2024-01-03', '2024-01-04']"
      ]
     },
     "execution_count": 264,
     "metadata": {},
     "output_type": "execute_result"
    }
   ],
   "source": [
    "dates_included[0] = '2023-12-31'\n",
    "dates_included[:5]"
   ]
  },
  {
   "cell_type": "markdown",
   "id": "f4bde9a0",
   "metadata": {},
   "source": [
    "Now, we are supposed to combine the date and the time information together. Each day has 6 time units, so each day must be repeated 6 times to accodomate the time resolution. However, there are actually 7 time windows because of 6 time units."
   ]
  },
  {
   "cell_type": "code",
   "execution_count": 265,
   "id": "a9ff3d17",
   "metadata": {
    "collapsed": true,
    "jupyter": {
     "outputs_hidden": true
    }
   },
   "outputs": [
    {
     "data": {
      "text/plain": [
       "['2023-12-31',\n",
       " '2023-12-31',\n",
       " '2023-12-31',\n",
       " '2023-12-31',\n",
       " '2023-12-31',\n",
       " '2023-12-31',\n",
       " '2024-01-01',\n",
       " '2024-01-01',\n",
       " '2024-01-01',\n",
       " '2024-01-01',\n",
       " '2024-01-01',\n",
       " '2024-01-01',\n",
       " '2024-01-02',\n",
       " '2024-01-02',\n",
       " '2024-01-02',\n",
       " '2024-01-02',\n",
       " '2024-01-02',\n",
       " '2024-01-02',\n",
       " '2024-01-03',\n",
       " '2024-01-03',\n",
       " '2024-01-03',\n",
       " '2024-01-03',\n",
       " '2024-01-03',\n",
       " '2024-01-03',\n",
       " '2024-01-04',\n",
       " '2024-01-04',\n",
       " '2024-01-04',\n",
       " '2024-01-04',\n",
       " '2024-01-04',\n",
       " '2024-01-04',\n",
       " '2024-01-05',\n",
       " '2024-01-05',\n",
       " '2024-01-05',\n",
       " '2024-01-05',\n",
       " '2024-01-05',\n",
       " '2024-01-05',\n",
       " '2024-01-06',\n",
       " '2024-01-06',\n",
       " '2024-01-06',\n",
       " '2024-01-06',\n",
       " '2024-01-06',\n",
       " '2024-01-06',\n",
       " '2024-01-07',\n",
       " '2024-01-07',\n",
       " '2024-01-07',\n",
       " '2024-01-07',\n",
       " '2024-01-07',\n",
       " '2024-01-07',\n",
       " '2024-01-08',\n",
       " '2024-01-08',\n",
       " '2024-01-08',\n",
       " '2024-01-08',\n",
       " '2024-01-08',\n",
       " '2024-01-08',\n",
       " '2024-01-09',\n",
       " '2024-01-09',\n",
       " '2024-01-09',\n",
       " '2024-01-09',\n",
       " '2024-01-09',\n",
       " '2024-01-09',\n",
       " '2024-01-10',\n",
       " '2024-01-10',\n",
       " '2024-01-10',\n",
       " '2024-01-10',\n",
       " '2024-01-10',\n",
       " '2024-01-10',\n",
       " '2024-01-11',\n",
       " '2024-01-11',\n",
       " '2024-01-11',\n",
       " '2024-01-11',\n",
       " '2024-01-11',\n",
       " '2024-01-11',\n",
       " '2024-01-12',\n",
       " '2024-01-12',\n",
       " '2024-01-12',\n",
       " '2024-01-12',\n",
       " '2024-01-12',\n",
       " '2024-01-12',\n",
       " '2024-01-13',\n",
       " '2024-01-13',\n",
       " '2024-01-13',\n",
       " '2024-01-13',\n",
       " '2024-01-13',\n",
       " '2024-01-13',\n",
       " '2024-01-14',\n",
       " '2024-01-14',\n",
       " '2024-01-14',\n",
       " '2024-01-14',\n",
       " '2024-01-14',\n",
       " '2024-01-14',\n",
       " '2024-01-15',\n",
       " '2024-01-15',\n",
       " '2024-01-15',\n",
       " '2024-01-15',\n",
       " '2024-01-15',\n",
       " '2024-01-15',\n",
       " '2024-01-16',\n",
       " '2024-01-16',\n",
       " '2024-01-16',\n",
       " '2024-01-16',\n",
       " '2024-01-16',\n",
       " '2024-01-16',\n",
       " '2024-01-17',\n",
       " '2024-01-17',\n",
       " '2024-01-17',\n",
       " '2024-01-17',\n",
       " '2024-01-17',\n",
       " '2024-01-17',\n",
       " '2024-01-18',\n",
       " '2024-01-18',\n",
       " '2024-01-18',\n",
       " '2024-01-18',\n",
       " '2024-01-18',\n",
       " '2024-01-18',\n",
       " '2024-01-19',\n",
       " '2024-01-19',\n",
       " '2024-01-19',\n",
       " '2024-01-19',\n",
       " '2024-01-19',\n",
       " '2024-01-19',\n",
       " '2024-01-20',\n",
       " '2024-01-20',\n",
       " '2024-01-20',\n",
       " '2024-01-20',\n",
       " '2024-01-20',\n",
       " '2024-01-20',\n",
       " '2024-01-21',\n",
       " '2024-01-21',\n",
       " '2024-01-21',\n",
       " '2024-01-21',\n",
       " '2024-01-21',\n",
       " '2024-01-21',\n",
       " '2024-01-22',\n",
       " '2024-01-22',\n",
       " '2024-01-22',\n",
       " '2024-01-22',\n",
       " '2024-01-22',\n",
       " '2024-01-22',\n",
       " '2024-01-23',\n",
       " '2024-01-23',\n",
       " '2024-01-23',\n",
       " '2024-01-23',\n",
       " '2024-01-23',\n",
       " '2024-01-23',\n",
       " '2024-01-24',\n",
       " '2024-01-24',\n",
       " '2024-01-24',\n",
       " '2024-01-24',\n",
       " '2024-01-24',\n",
       " '2024-01-24',\n",
       " '2024-01-25',\n",
       " '2024-01-25',\n",
       " '2024-01-25',\n",
       " '2024-01-25',\n",
       " '2024-01-25',\n",
       " '2024-01-25',\n",
       " '2024-01-26',\n",
       " '2024-01-26',\n",
       " '2024-01-26',\n",
       " '2024-01-26',\n",
       " '2024-01-26',\n",
       " '2024-01-26',\n",
       " '2024-01-27',\n",
       " '2024-01-27',\n",
       " '2024-01-27',\n",
       " '2024-01-27',\n",
       " '2024-01-27',\n",
       " '2024-01-27',\n",
       " '2024-01-28',\n",
       " '2024-01-28',\n",
       " '2024-01-28',\n",
       " '2024-01-28',\n",
       " '2024-01-28',\n",
       " '2024-01-28',\n",
       " '2024-01-29',\n",
       " '2024-01-29',\n",
       " '2024-01-29',\n",
       " '2024-01-29',\n",
       " '2024-01-29',\n",
       " '2024-01-29',\n",
       " '2024-01-30',\n",
       " '2024-01-30',\n",
       " '2024-01-30',\n",
       " '2024-01-30',\n",
       " '2024-01-30',\n",
       " '2024-01-30',\n",
       " '2024-01-31',\n",
       " '2024-01-31',\n",
       " '2024-01-31',\n",
       " '2024-01-31',\n",
       " '2024-01-31',\n",
       " '2024-01-31']"
      ]
     },
     "execution_count": 265,
     "metadata": {},
     "output_type": "execute_result"
    }
   ],
   "source": [
    "# repeating each element 6 times\n",
    "dates_included = [element for element in dates_included for _ in range(6)]\n",
    "dates_included"
   ]
  },
  {
   "cell_type": "code",
   "execution_count": 266,
   "id": "4891a627",
   "metadata": {},
   "outputs": [
    {
     "data": {
      "text/plain": [
       "['2023-12-31 00:00:00.000',\n",
       " '2023-12-31 04:00:00.000',\n",
       " '2023-12-31 08:00:00.000',\n",
       " '2023-12-31 12:00:00.000',\n",
       " '2023-12-31 16:00:00.000',\n",
       " '2023-12-31 20:00:00.000']"
      ]
     },
     "execution_count": 266,
     "metadata": {},
     "output_type": "execute_result"
    }
   ],
   "source": [
    "# Adding time dimension\n",
    "date_time = dates_included\n",
    "\n",
    "for t in range(0,len(dates_included)):\n",
    "    date_time[t] = dates_included[t] + ' ' + time_res[t]\n",
    "\n",
    "date_time[:6]"
   ]
  },
  {
   "cell_type": "code",
   "execution_count": 267,
   "id": "fbad91e2",
   "metadata": {},
   "outputs": [
    {
     "data": {
      "text/plain": [
       "['2023-12-31 00:00:00.000',\n",
       " '2023-12-31 04:00:00.000',\n",
       " '2023-12-31 08:00:00.000',\n",
       " '2023-12-31 12:00:00.000',\n",
       " '2023-12-31 16:00:00.000',\n",
       " '2023-12-31 20:00:00.000',\n",
       " '2024-01-01 00:00:00.000',\n",
       " '2024-01-01 04:00:00.000',\n",
       " '2024-01-01 08:00:00.000',\n",
       " '2024-01-01 12:00:00.000',\n",
       " '2024-01-01 16:00:00.000',\n",
       " '2024-01-01 20:00:00.000',\n",
       " '2024-01-02 00:00:00.000',\n",
       " '2024-01-02 04:00:00.000']"
      ]
     },
     "execution_count": 267,
     "metadata": {},
     "output_type": "execute_result"
    }
   ],
   "source": [
    "# for 1st January 2024\n",
    "date_time[:14]"
   ]
  },
  {
   "cell_type": "markdown",
   "id": "bb299816",
   "metadata": {},
   "source": [
    "**Note:** The time <u>2023-12-31 00:00:00.000</u> means that bike rentals are mentioned between **00-04** hours. At every checkpoint the demand gets mentioned for the coming four hours.\n",
    "<br><br>\n",
    "The created date_time information must be added for each station in *rentals*.\n",
    "\n",
    "## Finalizing the rentals dataset (without demand)"
   ]
  },
  {
   "cell_type": "code",
   "execution_count": 268,
   "id": "10246fd3",
   "metadata": {},
   "outputs": [
    {
     "data": {
      "text/plain": [
       "192"
      ]
     },
     "execution_count": 268,
     "metadata": {},
     "output_type": "execute_result"
    }
   ],
   "source": [
    "# rows needed for each station\n",
    "len(date_time)"
   ]
  },
  {
   "cell_type": "code",
   "execution_count": 277,
   "id": "fd04cb03",
   "metadata": {},
   "outputs": [
    {
     "data": {
      "text/html": [
       "<div>\n",
       "<style scoped>\n",
       "    .dataframe tbody tr th:only-of-type {\n",
       "        vertical-align: middle;\n",
       "    }\n",
       "\n",
       "    .dataframe tbody tr th {\n",
       "        vertical-align: top;\n",
       "    }\n",
       "\n",
       "    .dataframe thead th {\n",
       "        text-align: right;\n",
       "    }\n",
       "</style>\n",
       "<table border=\"1\" class=\"dataframe\">\n",
       "  <thead>\n",
       "    <tr style=\"text-align: right;\">\n",
       "      <th></th>\n",
       "      <th>name</th>\n",
       "      <th>lat</th>\n",
       "      <th>lng</th>\n",
       "      <th>station_id</th>\n",
       "    </tr>\n",
       "  </thead>\n",
       "  <tbody>\n",
       "    <tr>\n",
       "      <th>0</th>\n",
       "      <td>1 Ave &amp; E 110 St</td>\n",
       "      <td>40.792327</td>\n",
       "      <td>-73.9383</td>\n",
       "      <td>0</td>\n",
       "    </tr>\n",
       "    <tr>\n",
       "      <th>1</th>\n",
       "      <td>1 Ave &amp; E 110 St</td>\n",
       "      <td>40.792327</td>\n",
       "      <td>-73.9383</td>\n",
       "      <td>0</td>\n",
       "    </tr>\n",
       "    <tr>\n",
       "      <th>2</th>\n",
       "      <td>1 Ave &amp; E 110 St</td>\n",
       "      <td>40.792327</td>\n",
       "      <td>-73.9383</td>\n",
       "      <td>0</td>\n",
       "    </tr>\n",
       "    <tr>\n",
       "      <th>3</th>\n",
       "      <td>1 Ave &amp; E 110 St</td>\n",
       "      <td>40.792327</td>\n",
       "      <td>-73.9383</td>\n",
       "      <td>0</td>\n",
       "    </tr>\n",
       "    <tr>\n",
       "      <th>4</th>\n",
       "      <td>1 Ave &amp; E 110 St</td>\n",
       "      <td>40.792327</td>\n",
       "      <td>-73.9383</td>\n",
       "      <td>0</td>\n",
       "    </tr>\n",
       "  </tbody>\n",
       "</table>\n",
       "</div>"
      ],
      "text/plain": [
       "               name        lat      lng  station_id\n",
       "0  1 Ave & E 110 St  40.792327 -73.9383           0\n",
       "1  1 Ave & E 110 St  40.792327 -73.9383           0\n",
       "2  1 Ave & E 110 St  40.792327 -73.9383           0\n",
       "3  1 Ave & E 110 St  40.792327 -73.9383           0\n",
       "4  1 Ave & E 110 St  40.792327 -73.9383           0"
      ]
     },
     "execution_count": 277,
     "metadata": {},
     "output_type": "execute_result"
    }
   ],
   "source": [
    "# duplicating each station 192 times\n",
    "rentals = rentals.loc[rentals.index.repeat(192)].reset_index(drop=True)\n",
    "rentals.head()"
   ]
  },
  {
   "cell_type": "code",
   "execution_count": 278,
   "id": "36aa0ab7",
   "metadata": {},
   "outputs": [
    {
     "data": {
      "text/html": [
       "<div>\n",
       "<style scoped>\n",
       "    .dataframe tbody tr th:only-of-type {\n",
       "        vertical-align: middle;\n",
       "    }\n",
       "\n",
       "    .dataframe tbody tr th {\n",
       "        vertical-align: top;\n",
       "    }\n",
       "\n",
       "    .dataframe thead th {\n",
       "        text-align: right;\n",
       "    }\n",
       "</style>\n",
       "<table border=\"1\" class=\"dataframe\">\n",
       "  <thead>\n",
       "    <tr style=\"text-align: right;\">\n",
       "      <th></th>\n",
       "      <th>name</th>\n",
       "      <th>lat</th>\n",
       "      <th>lng</th>\n",
       "      <th>station_id</th>\n",
       "      <th>datetime</th>\n",
       "    </tr>\n",
       "  </thead>\n",
       "  <tbody>\n",
       "    <tr>\n",
       "      <th>0</th>\n",
       "      <td>1 Ave &amp; E 110 St</td>\n",
       "      <td>40.792327</td>\n",
       "      <td>-73.9383</td>\n",
       "      <td>0</td>\n",
       "      <td>2023-12-31 00:00:00.000</td>\n",
       "    </tr>\n",
       "    <tr>\n",
       "      <th>1</th>\n",
       "      <td>1 Ave &amp; E 110 St</td>\n",
       "      <td>40.792327</td>\n",
       "      <td>-73.9383</td>\n",
       "      <td>0</td>\n",
       "      <td>2023-12-31 04:00:00.000</td>\n",
       "    </tr>\n",
       "    <tr>\n",
       "      <th>2</th>\n",
       "      <td>1 Ave &amp; E 110 St</td>\n",
       "      <td>40.792327</td>\n",
       "      <td>-73.9383</td>\n",
       "      <td>0</td>\n",
       "      <td>2023-12-31 08:00:00.000</td>\n",
       "    </tr>\n",
       "    <tr>\n",
       "      <th>3</th>\n",
       "      <td>1 Ave &amp; E 110 St</td>\n",
       "      <td>40.792327</td>\n",
       "      <td>-73.9383</td>\n",
       "      <td>0</td>\n",
       "      <td>2023-12-31 12:00:00.000</td>\n",
       "    </tr>\n",
       "    <tr>\n",
       "      <th>4</th>\n",
       "      <td>1 Ave &amp; E 110 St</td>\n",
       "      <td>40.792327</td>\n",
       "      <td>-73.9383</td>\n",
       "      <td>0</td>\n",
       "      <td>2023-12-31 16:00:00.000</td>\n",
       "    </tr>\n",
       "  </tbody>\n",
       "</table>\n",
       "</div>"
      ],
      "text/plain": [
       "               name        lat      lng  station_id                 datetime\n",
       "0  1 Ave & E 110 St  40.792327 -73.9383           0  2023-12-31 00:00:00.000\n",
       "1  1 Ave & E 110 St  40.792327 -73.9383           0  2023-12-31 04:00:00.000\n",
       "2  1 Ave & E 110 St  40.792327 -73.9383           0  2023-12-31 08:00:00.000\n",
       "3  1 Ave & E 110 St  40.792327 -73.9383           0  2023-12-31 12:00:00.000\n",
       "4  1 Ave & E 110 St  40.792327 -73.9383           0  2023-12-31 16:00:00.000"
      ]
     },
     "execution_count": 278,
     "metadata": {},
     "output_type": "execute_result"
    }
   ],
   "source": [
    "# Repeating date_time: 2124 unique stations\n",
    "date_time = date_time*2124\n",
    "rentals[\"datetime\"] = date_time\n",
    "rentals.head()"
   ]
  },
  {
   "cell_type": "code",
   "execution_count": 279,
   "id": "dc58a03f",
   "metadata": {},
   "outputs": [
    {
     "data": {
      "text/plain": [
       "407808"
      ]
     },
     "execution_count": 279,
     "metadata": {},
     "output_type": "execute_result"
    }
   ],
   "source": [
    "len(rentals)"
   ]
  },
  {
   "cell_type": "code",
   "execution_count": 280,
   "id": "8ed3333b",
   "metadata": {},
   "outputs": [],
   "source": [
    "# exporting the rentals dataset\n",
    "rentals.to_csv(\"rentals_without_demand.csv\", index=False)"
   ]
  }
 ],
 "metadata": {
  "kernelspec": {
   "display_name": "Python [conda env:base] *",
   "language": "python",
   "name": "conda-base-py"
  },
  "language_info": {
   "codemirror_mode": {
    "name": "ipython",
    "version": 3
   },
   "file_extension": ".py",
   "mimetype": "text/x-python",
   "name": "python",
   "nbconvert_exporter": "python",
   "pygments_lexer": "ipython3",
   "version": "3.12.7"
  }
 },
 "nbformat": 4,
 "nbformat_minor": 5
}
