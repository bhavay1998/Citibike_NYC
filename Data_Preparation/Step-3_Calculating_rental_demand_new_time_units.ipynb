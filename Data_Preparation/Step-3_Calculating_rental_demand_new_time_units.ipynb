{
 "cells": [
  {
   "cell_type": "markdown",
   "id": "3f0d7444",
   "metadata": {},
   "source": [
    "# Rentals: New time units\n",
    "The rentals were calculated in the previous attempt for a *4 hour* window. However, a time range from 08-22 is seen as more suitable (with a *2 hour* window) as shown in the notebook *Calculating_rental_demand.ipynb*. The seven time units were proposed as follows:\n",
    "- 8 - 10\n",
    "- 10 - 12\n",
    "- 12 - 14\n",
    "- 14 - 16\n",
    "- 16 - 18\n",
    "- 18 - 20\n",
    "- 20 - 22\n",
    "\n",
    "To create a template for *rentals with new time resolution*, **adjusted trip information**- <u>Tripdata_with_manual_ids.csv</u> can be used, since it contains the pre-processed trip information."
   ]
  },
  {
   "cell_type": "markdown",
   "id": "a1e6dee5",
   "metadata": {},
   "source": [
    "## Creating rentals template\n",
    "A rentals template is prepared in this part."
   ]
  },
  {
   "cell_type": "code",
   "execution_count": 1,
   "id": "18974d6b",
   "metadata": {},
   "outputs": [
    {
     "name": "stderr",
     "output_type": "stream",
     "text": [
      "C:\\Users\\singh\\AppData\\Local\\Temp\\ipykernel_2628\\3261687778.py:3: DtypeWarning: Columns (5,7) have mixed types. Specify dtype option on import or set low_memory=False.\n",
      "  complete_data = pd.read_csv(\"C:/Users/singh/Desktop/TUD (All Semesters)/Courses - Semester 5 (TU Dresden)/Research Task - Spatial Modelling/Datasets/Citibike Trip Data/202401-citibike-tripdata.csv\")\n"
     ]
    },
    {
     "name": "stdout",
     "output_type": "stream",
     "text": [
      "0\n"
     ]
    },
    {
     "data": {
      "text/plain": [
       "Index(['ride_id', 'started_at', 'ended_at', 'start_station_name',\n",
       "       'start_station_id', 'end_station_name', 'end_station_id', 'start_lat',\n",
       "       'start_lng', 'end_lat', 'end_lng'],\n",
       "      dtype='object')"
      ]
     },
     "execution_count": 1,
     "metadata": {},
     "output_type": "execute_result"
    }
   ],
   "source": [
    "# Reading the data\n",
    "import pandas as pd\n",
    "complete_data = pd.read_csv(\"C:/Users/singh/Desktop/TUD (All Semesters)/Courses - Semester 5 (TU Dresden)/Research Task - Spatial Modelling/Datasets/Citibike Trip Data/202401-citibike-tripdata.csv\")\n",
    "\n",
    "# filtering the dataset for cbikes\n",
    "cbikes = complete_data[complete_data[\"rideable_type\"] == \"classic_bike\"]\n",
    "\n",
    "# there are no rows with missing info about start\n",
    "print(sum(cbikes[\"start_station_name\"].isna()))\n",
    "\n",
    "# reducing columns\n",
    "cbikes = cbikes[[\"ride_id\", \"started_at\", \"ended_at\", \"start_station_name\", \"start_station_id\", \"end_station_name\", \"end_station_id\", \"start_lat\", \"start_lng\", \"end_lat\", \"end_lng\"]]\n",
    "cbikes.columns"
   ]
  },
  {
   "cell_type": "markdown",
   "id": "6e83375c",
   "metadata": {},
   "source": [
    "### Creating New Dataset\n",
    "The new dataset should contain stations with their location and time information included. Each row represents <u> one unit of chosen time resolution</u>.\n",
    "<br><br>\n",
    "**NOTE:** Station ID needs to be retained because there are some stations with the same name but slightly different locations!\n",
    "<br><br>\n",
    "In the dataset, some IDs are stored as text and others are stored as numbers. Converting th data type to *string* does not work because **\\n** and some other text is being added automatically.\n",
    "<br><br>\n",
    "**Solution:**<br>\n",
    "The stations can be manually given unique ids for the purpose of indentification."
   ]
  },
  {
   "cell_type": "code",
   "execution_count": 2,
   "id": "951f7355",
   "metadata": {},
   "outputs": [
    {
     "name": "stdout",
     "output_type": "stream",
     "text": [
      "2124 2124\n"
     ]
    }
   ],
   "source": [
    "# Creating the new dataset\n",
    "rentals = pd.DataFrame()\n",
    "rentals[[\"name\", \"lat\", \"lng\"]] = cbikes[[\"start_station_name\", \"start_lat\", \"start_lng\"]].drop_duplicates()\n",
    "rentals = rentals.sort_values(by = [\"name\"], ignore_index=True)\n",
    "\n",
    "# Adding IDs manually\n",
    "rentals[\"station_id\"] = range(len(rentals))\n",
    "\n",
    "# Verifying the number of stations\n",
    "print(len(cbikes[[\"start_station_name\", \"start_lat\", \"start_lng\"]].drop_duplicates()), len(rentals[\"station_id\"]))"
   ]
  },
  {
   "cell_type": "code",
   "execution_count": 3,
   "id": "2d372a09",
   "metadata": {},
   "outputs": [
    {
     "data": {
      "text/html": [
       "<div>\n",
       "<style scoped>\n",
       "    .dataframe tbody tr th:only-of-type {\n",
       "        vertical-align: middle;\n",
       "    }\n",
       "\n",
       "    .dataframe tbody tr th {\n",
       "        vertical-align: top;\n",
       "    }\n",
       "\n",
       "    .dataframe thead th {\n",
       "        text-align: right;\n",
       "    }\n",
       "</style>\n",
       "<table border=\"1\" class=\"dataframe\">\n",
       "  <thead>\n",
       "    <tr style=\"text-align: right;\">\n",
       "      <th></th>\n",
       "      <th>name</th>\n",
       "      <th>lat</th>\n",
       "      <th>lng</th>\n",
       "      <th>station_id</th>\n",
       "    </tr>\n",
       "  </thead>\n",
       "  <tbody>\n",
       "    <tr>\n",
       "      <th>0</th>\n",
       "      <td>1 Ave &amp; E 110 St</td>\n",
       "      <td>40.792327</td>\n",
       "      <td>-73.938300</td>\n",
       "      <td>0</td>\n",
       "    </tr>\n",
       "    <tr>\n",
       "      <th>1</th>\n",
       "      <td>1 Ave &amp; E 16 St</td>\n",
       "      <td>40.732219</td>\n",
       "      <td>-73.981656</td>\n",
       "      <td>1</td>\n",
       "    </tr>\n",
       "    <tr>\n",
       "      <th>2</th>\n",
       "      <td>1 Ave &amp; E 18 St</td>\n",
       "      <td>40.733812</td>\n",
       "      <td>-73.980544</td>\n",
       "      <td>2</td>\n",
       "    </tr>\n",
       "    <tr>\n",
       "      <th>3</th>\n",
       "      <td>1 Ave &amp; E 30 St</td>\n",
       "      <td>40.741444</td>\n",
       "      <td>-73.975361</td>\n",
       "      <td>3</td>\n",
       "    </tr>\n",
       "    <tr>\n",
       "      <th>4</th>\n",
       "      <td>1 Ave &amp; E 39 St</td>\n",
       "      <td>40.747140</td>\n",
       "      <td>-73.971130</td>\n",
       "      <td>4</td>\n",
       "    </tr>\n",
       "  </tbody>\n",
       "</table>\n",
       "</div>"
      ],
      "text/plain": [
       "               name        lat        lng  station_id\n",
       "0  1 Ave & E 110 St  40.792327 -73.938300           0\n",
       "1   1 Ave & E 16 St  40.732219 -73.981656           1\n",
       "2   1 Ave & E 18 St  40.733812 -73.980544           2\n",
       "3   1 Ave & E 30 St  40.741444 -73.975361           3\n",
       "4   1 Ave & E 39 St  40.747140 -73.971130           4"
      ]
     },
     "execution_count": 3,
     "metadata": {},
     "output_type": "execute_result"
    }
   ],
   "source": [
    "# How the data looks like\n",
    "rentals.head()"
   ]
  },
  {
   "cell_type": "markdown",
   "id": "1e3050c7",
   "metadata": {},
   "source": [
    "## Defining time resolution\n",
    "Here time units are defined that will later be merged with the *rentals* template."
   ]
  },
  {
   "cell_type": "code",
   "execution_count": 4,
   "id": "08a56e40",
   "metadata": {},
   "outputs": [
    {
     "data": {
      "text/plain": [
       "['2023-12-31', '2024-01-01', '2024-01-02', '2024-01-03', '2024-01-04']"
      ]
     },
     "execution_count": 4,
     "metadata": {},
     "output_type": "execute_result"
    }
   ],
   "source": [
    "# importing the data\n",
    "import pandas as pd\n",
    "cbikes_altered = pd.read_csv(\"C:/Users/singh/Desktop/TUD (All Semesters)/Courses - Semester 5 (TU Dresden)/Research Task - Spatial Modelling/Code/Tripdata_with_manual_ids.csv\")\n",
    "\n",
    "# defining the 7 time units for a given date\n",
    "time_res = ['08:00:00.000', '10:00:00.000', '12:00:00.000', '14:00:00.000', '16:00:00.000', '18:00:00.000', '20:00:00.000']\n",
    "\n",
    "# repeating time units 32 times - Jan'24 + 31 Dec'23\n",
    "time_res = time_res*32\n",
    "\n",
    "# creating dates\n",
    "dates_included = []\n",
    "while len(dates_included) < 32:\n",
    "    dates_included.append('2024-01-01')\n",
    "\n",
    "# days list\n",
    "nums = ['00', '01', '02','03','04','05','06','07','08','09','10','11','12','13','14','15','16','17','18','19','20','21','22','23','24','25','26','27','28','29','30','31']\n",
    "\n",
    "# correcting days\n",
    "for i in range(len(nums)):\n",
    "    dates_included[i] = dates_included[i][:-2] + nums[i]\n",
    "\n",
    "dates_included[0] = '2023-12-31'\n",
    "dates_included[:5]"
   ]
  },
  {
   "cell_type": "markdown",
   "id": "5d48d70f",
   "metadata": {},
   "source": [
    "Now, we are supposed to combine the date and the time information together. Each day has 7 time units, so each day must be repeated 7 times to accodomate the time resolution."
   ]
  },
  {
   "cell_type": "code",
   "execution_count": 5,
   "id": "b01a830f",
   "metadata": {},
   "outputs": [
    {
     "data": {
      "text/plain": [
       "['2023-12-31',\n",
       " '2023-12-31',\n",
       " '2023-12-31',\n",
       " '2023-12-31',\n",
       " '2023-12-31',\n",
       " '2023-12-31',\n",
       " '2023-12-31',\n",
       " '2024-01-01']"
      ]
     },
     "execution_count": 5,
     "metadata": {},
     "output_type": "execute_result"
    }
   ],
   "source": [
    "# repeating each element 7 times\n",
    "dates_included = [element for element in dates_included for _ in range(7)]\n",
    "dates_included[:8]"
   ]
  },
  {
   "cell_type": "code",
   "execution_count": 6,
   "id": "d52bdaba",
   "metadata": {},
   "outputs": [
    {
     "data": {
      "text/plain": [
       "['2023-12-31 08:00:00.000',\n",
       " '2023-12-31 10:00:00.000',\n",
       " '2023-12-31 12:00:00.000',\n",
       " '2023-12-31 14:00:00.000',\n",
       " '2023-12-31 16:00:00.000',\n",
       " '2023-12-31 18:00:00.000',\n",
       " '2023-12-31 20:00:00.000']"
      ]
     },
     "execution_count": 6,
     "metadata": {},
     "output_type": "execute_result"
    }
   ],
   "source": [
    "# Adding time dimension\n",
    "date_time = dates_included.copy()\n",
    "\n",
    "for t in range(0,len(dates_included)):\n",
    "    date_time[t] = dates_included[t] + ' ' + time_res[t]\n",
    "\n",
    "date_time[:7]"
   ]
  },
  {
   "cell_type": "markdown",
   "id": "8a1b5bc1",
   "metadata": {},
   "source": [
    "**Note**: 2023-12-31 08:00:00.000 means the time window from <u>8AM to 10AM</u>."
   ]
  },
  {
   "cell_type": "markdown",
   "id": "176f7756",
   "metadata": {},
   "source": [
    "## Adding time dimensionality to the *rentals* template\n",
    "A time resolution needs to be added so that number of rentals can be calculated in terms of that time unit, per station."
   ]
  },
  {
   "cell_type": "code",
   "execution_count": 7,
   "id": "89b16cc3",
   "metadata": {},
   "outputs": [
    {
     "data": {
      "text/plain": [
       "224"
      ]
     },
     "execution_count": 7,
     "metadata": {},
     "output_type": "execute_result"
    }
   ],
   "source": [
    "# rows needed for each station\n",
    "len(date_time)"
   ]
  },
  {
   "cell_type": "code",
   "execution_count": 8,
   "id": "f526fdae",
   "metadata": {},
   "outputs": [
    {
     "data": {
      "text/html": [
       "<div>\n",
       "<style scoped>\n",
       "    .dataframe tbody tr th:only-of-type {\n",
       "        vertical-align: middle;\n",
       "    }\n",
       "\n",
       "    .dataframe tbody tr th {\n",
       "        vertical-align: top;\n",
       "    }\n",
       "\n",
       "    .dataframe thead th {\n",
       "        text-align: right;\n",
       "    }\n",
       "</style>\n",
       "<table border=\"1\" class=\"dataframe\">\n",
       "  <thead>\n",
       "    <tr style=\"text-align: right;\">\n",
       "      <th></th>\n",
       "      <th>name</th>\n",
       "      <th>lat</th>\n",
       "      <th>lng</th>\n",
       "      <th>station_id</th>\n",
       "      <th>datetime</th>\n",
       "    </tr>\n",
       "  </thead>\n",
       "  <tbody>\n",
       "    <tr>\n",
       "      <th>0</th>\n",
       "      <td>1 Ave &amp; E 110 St</td>\n",
       "      <td>40.792327</td>\n",
       "      <td>-73.9383</td>\n",
       "      <td>0</td>\n",
       "      <td>2023-12-31 08:00:00.000</td>\n",
       "    </tr>\n",
       "    <tr>\n",
       "      <th>1</th>\n",
       "      <td>1 Ave &amp; E 110 St</td>\n",
       "      <td>40.792327</td>\n",
       "      <td>-73.9383</td>\n",
       "      <td>0</td>\n",
       "      <td>2023-12-31 10:00:00.000</td>\n",
       "    </tr>\n",
       "    <tr>\n",
       "      <th>2</th>\n",
       "      <td>1 Ave &amp; E 110 St</td>\n",
       "      <td>40.792327</td>\n",
       "      <td>-73.9383</td>\n",
       "      <td>0</td>\n",
       "      <td>2023-12-31 12:00:00.000</td>\n",
       "    </tr>\n",
       "    <tr>\n",
       "      <th>3</th>\n",
       "      <td>1 Ave &amp; E 110 St</td>\n",
       "      <td>40.792327</td>\n",
       "      <td>-73.9383</td>\n",
       "      <td>0</td>\n",
       "      <td>2023-12-31 14:00:00.000</td>\n",
       "    </tr>\n",
       "    <tr>\n",
       "      <th>4</th>\n",
       "      <td>1 Ave &amp; E 110 St</td>\n",
       "      <td>40.792327</td>\n",
       "      <td>-73.9383</td>\n",
       "      <td>0</td>\n",
       "      <td>2023-12-31 16:00:00.000</td>\n",
       "    </tr>\n",
       "  </tbody>\n",
       "</table>\n",
       "</div>"
      ],
      "text/plain": [
       "               name        lat      lng  station_id                 datetime\n",
       "0  1 Ave & E 110 St  40.792327 -73.9383           0  2023-12-31 08:00:00.000\n",
       "1  1 Ave & E 110 St  40.792327 -73.9383           0  2023-12-31 10:00:00.000\n",
       "2  1 Ave & E 110 St  40.792327 -73.9383           0  2023-12-31 12:00:00.000\n",
       "3  1 Ave & E 110 St  40.792327 -73.9383           0  2023-12-31 14:00:00.000\n",
       "4  1 Ave & E 110 St  40.792327 -73.9383           0  2023-12-31 16:00:00.000"
      ]
     },
     "execution_count": 8,
     "metadata": {},
     "output_type": "execute_result"
    }
   ],
   "source": [
    "# duplicating each station 224 times\n",
    "rentals = rentals.loc[rentals.index.repeat(224)].reset_index(drop=True)\n",
    "\n",
    "# Repeating date_time: 2124 unique stations\n",
    "date_time = date_time*2124\n",
    "rentals[\"datetime\"] = date_time\n",
    "rentals.head()"
   ]
  },
  {
   "cell_type": "code",
   "execution_count": 9,
   "id": "cbd0f986",
   "metadata": {},
   "outputs": [
    {
     "data": {
      "text/plain": [
       "475776"
      ]
     },
     "execution_count": 9,
     "metadata": {},
     "output_type": "execute_result"
    }
   ],
   "source": [
    "len(rentals)"
   ]
  },
  {
   "cell_type": "markdown",
   "id": "69e913b8",
   "metadata": {},
   "source": [
    "## Calculating Demand\n",
    "The rentals are calculated for every time unit, per day per station. The dataset is being prepared only until 31 January 2024."
   ]
  },
  {
   "cell_type": "code",
   "execution_count": 10,
   "id": "c5687109",
   "metadata": {},
   "outputs": [
    {
     "data": {
      "text/html": [
       "<div>\n",
       "<style scoped>\n",
       "    .dataframe tbody tr th:only-of-type {\n",
       "        vertical-align: middle;\n",
       "    }\n",
       "\n",
       "    .dataframe tbody tr th {\n",
       "        vertical-align: top;\n",
       "    }\n",
       "\n",
       "    .dataframe thead th {\n",
       "        text-align: right;\n",
       "    }\n",
       "</style>\n",
       "<table border=\"1\" class=\"dataframe\">\n",
       "  <thead>\n",
       "    <tr style=\"text-align: right;\">\n",
       "      <th></th>\n",
       "      <th>name</th>\n",
       "      <th>lat</th>\n",
       "      <th>lng</th>\n",
       "      <th>station_id</th>\n",
       "      <th>datetime</th>\n",
       "      <th>#_rentals</th>\n",
       "    </tr>\n",
       "  </thead>\n",
       "  <tbody>\n",
       "    <tr>\n",
       "      <th>0</th>\n",
       "      <td>1 Ave &amp; E 110 St</td>\n",
       "      <td>40.792327</td>\n",
       "      <td>-73.9383</td>\n",
       "      <td>0</td>\n",
       "      <td>2023-12-31 08:00:00.000</td>\n",
       "      <td>0</td>\n",
       "    </tr>\n",
       "    <tr>\n",
       "      <th>1</th>\n",
       "      <td>1 Ave &amp; E 110 St</td>\n",
       "      <td>40.792327</td>\n",
       "      <td>-73.9383</td>\n",
       "      <td>0</td>\n",
       "      <td>2023-12-31 10:00:00.000</td>\n",
       "      <td>0</td>\n",
       "    </tr>\n",
       "    <tr>\n",
       "      <th>2</th>\n",
       "      <td>1 Ave &amp; E 110 St</td>\n",
       "      <td>40.792327</td>\n",
       "      <td>-73.9383</td>\n",
       "      <td>0</td>\n",
       "      <td>2023-12-31 12:00:00.000</td>\n",
       "      <td>0</td>\n",
       "    </tr>\n",
       "    <tr>\n",
       "      <th>3</th>\n",
       "      <td>1 Ave &amp; E 110 St</td>\n",
       "      <td>40.792327</td>\n",
       "      <td>-73.9383</td>\n",
       "      <td>0</td>\n",
       "      <td>2023-12-31 14:00:00.000</td>\n",
       "      <td>0</td>\n",
       "    </tr>\n",
       "    <tr>\n",
       "      <th>4</th>\n",
       "      <td>1 Ave &amp; E 110 St</td>\n",
       "      <td>40.792327</td>\n",
       "      <td>-73.9383</td>\n",
       "      <td>0</td>\n",
       "      <td>2023-12-31 16:00:00.000</td>\n",
       "      <td>0</td>\n",
       "    </tr>\n",
       "  </tbody>\n",
       "</table>\n",
       "</div>"
      ],
      "text/plain": [
       "               name        lat      lng  station_id                 datetime  \\\n",
       "0  1 Ave & E 110 St  40.792327 -73.9383           0  2023-12-31 08:00:00.000   \n",
       "1  1 Ave & E 110 St  40.792327 -73.9383           0  2023-12-31 10:00:00.000   \n",
       "2  1 Ave & E 110 St  40.792327 -73.9383           0  2023-12-31 12:00:00.000   \n",
       "3  1 Ave & E 110 St  40.792327 -73.9383           0  2023-12-31 14:00:00.000   \n",
       "4  1 Ave & E 110 St  40.792327 -73.9383           0  2023-12-31 16:00:00.000   \n",
       "\n",
       "   #_rentals  \n",
       "0          0  \n",
       "1          0  \n",
       "2          0  \n",
       "3          0  \n",
       "4          0  "
      ]
     },
     "execution_count": 10,
     "metadata": {},
     "output_type": "execute_result"
    }
   ],
   "source": [
    "# importing\n",
    "tripdata = pd.read_csv(\"C:/Users/singh/Desktop/TUD (All Semesters)/Courses - Semester 5 (TU Dresden)/Research Task - Spatial Modelling/Code/Tripdata_with_manual_ids.csv\")\n",
    "\n",
    "# adding a rentals column \n",
    "rentals['#_rentals'] = 0\n",
    "\n",
    "rentals.head()"
   ]
  },
  {
   "cell_type": "code",
   "execution_count": 11,
   "id": "d5c11e8a",
   "metadata": {},
   "outputs": [],
   "source": [
    "# Updating the rentals dataset\n",
    "rentals['year'] = pd.Series([x.date().year for x in pd.to_datetime(rentals[\"datetime\"])])\n",
    "rentals['month'] = pd.Series([x.date().month for x in pd.to_datetime(rentals[\"datetime\"])])\n",
    "rentals['day'] = pd.Series([x.date().day for x in pd.to_datetime(rentals[\"datetime\"])])\n",
    "\n",
    "rentals['hour'] = pd.Series([x.time().hour for x in pd.to_datetime(rentals[\"datetime\"])])\n",
    "rentals['minute'] = pd.Series([x.time().minute for x in pd.to_datetime(rentals[\"datetime\"])])\n",
    "rentals['second'] = pd.Series([x.time().second for x in pd.to_datetime(rentals[\"datetime\"])])\n",
    "rentals['microsecond'] = pd.Series([x.time().microsecond for x in pd.to_datetime(rentals[\"datetime\"])])"
   ]
  },
  {
   "cell_type": "code",
   "execution_count": 12,
   "id": "872957ee",
   "metadata": {},
   "outputs": [],
   "source": [
    "# Updating the trips dataset\n",
    "tripdata['started_at_year'] = pd.Series([x.date().year for x in pd.to_datetime(tripdata[\"started_at\"])])\n",
    "tripdata['started_at_month'] = pd.Series([x.date().month for x in pd.to_datetime(tripdata[\"started_at\"])])\n",
    "tripdata['started_at_day'] = pd.Series([x.date().day for x in pd.to_datetime(tripdata[\"started_at\"])])\n",
    "\n",
    "tripdata['started_at_hour'] = pd.Series([x.time().hour for x in pd.to_datetime(tripdata[\"started_at\"])])\n",
    "tripdata['started_at_minute'] = pd.Series([x.time().minute for x in pd.to_datetime(tripdata[\"started_at\"])])\n",
    "tripdata['started_at_second'] = pd.Series([x.time().second for x in pd.to_datetime(tripdata[\"started_at\"])])\n",
    "tripdata['started_at_microsecond'] = pd.Series([x.time().microsecond for x in pd.to_datetime(tripdata[\"started_at\"])])"
   ]
  },
  {
   "cell_type": "code",
   "execution_count": 13,
   "id": "04fe3148",
   "metadata": {},
   "outputs": [],
   "source": [
    "# determining demand for 2023; 08-10hrs\n",
    "for i in rentals[\"station_id\"].unique():\n",
    "    idx = (rentals[\"station_id\"] == i) & (rentals[\"year\"] == 2023) & (rentals[\"hour\"] == 8)\n",
    "    rentals.loc[idx, \"#_rentals\"] = len(tripdata[(tripdata[\"started_at_year\"] == 2023) & (tripdata[\"started_at_hour\"] < 10) & (tripdata[\"started_at_hour\"] >= 8) & (tripdata[\"station_id\"] == i)])\n",
    "    \n",
    "# determining demand for 2023; 10-12hrs\n",
    "for i in rentals[\"station_id\"].unique():\n",
    "    idx = (rentals[\"station_id\"] == i) & (rentals[\"year\"] == 2023) & (rentals[\"hour\"] == 10)\n",
    "    rentals.loc[idx, \"#_rentals\"] = len(tripdata[(tripdata[\"started_at_year\"] == 2023) & (tripdata[\"started_at_hour\"] < 12) & (tripdata[\"started_at_hour\"] >= 10) & (tripdata[\"station_id\"] == i)])\n",
    "\n",
    "# determining demand for 2023; 12-14hrs\n",
    "for i in rentals[\"station_id\"].unique():\n",
    "    idx = (rentals[\"station_id\"] == i) & (rentals[\"year\"] == 2023) & (rentals[\"hour\"] == 12)\n",
    "    rentals.loc[idx, \"#_rentals\"] = len(tripdata[(tripdata[\"started_at_year\"] == 2023) & (tripdata[\"started_at_hour\"] < 14) & (tripdata[\"started_at_hour\"] >= 12) & (tripdata[\"station_id\"] == i)])\n",
    "\n",
    "# determining demand for 2023; 14-16hrs\n",
    "for i in rentals[\"station_id\"].unique():\n",
    "    idx = (rentals[\"station_id\"] == i) & (rentals[\"year\"] == 2023) & (rentals[\"hour\"] == 14)\n",
    "    rentals.loc[idx, \"#_rentals\"] = len(tripdata[(tripdata[\"started_at_year\"] == 2023) & (tripdata[\"started_at_hour\"] < 16) & (tripdata[\"started_at_hour\"] >= 14) & (tripdata[\"station_id\"] == i)])\n",
    "    \n",
    "# determining demand for 2023; 16-18hrs\n",
    "for i in rentals[\"station_id\"].unique():\n",
    "    idx = (rentals[\"station_id\"] == i) & (rentals[\"year\"] == 2023) & (rentals[\"hour\"] == 16)\n",
    "    rentals.loc[idx, \"#_rentals\"] = len(tripdata[(tripdata[\"started_at_year\"] == 2023) & (tripdata[\"started_at_hour\"] < 18) & (tripdata[\"started_at_hour\"] >= 16) & (tripdata[\"station_id\"] == i)])\n",
    "    \n",
    "# determining demand for 2023; 18-20hrs\n",
    "for i in rentals[\"station_id\"].unique():\n",
    "    idx = (rentals[\"station_id\"] == i) & (rentals[\"year\"] == 2023) & (rentals[\"hour\"] == 18)\n",
    "    rentals.loc[idx, \"#_rentals\"] = len(tripdata[(tripdata[\"started_at_year\"] == 2023) & (tripdata[\"started_at_hour\"] < 20) & (tripdata[\"started_at_hour\"] >= 18) & (tripdata[\"station_id\"] == i)])\n",
    "\n",
    "# determining demand for 2023; 20-22hrs\n",
    "for i in rentals[\"station_id\"].unique():\n",
    "    idx = (rentals[\"station_id\"] == i) & (rentals[\"year\"] == 2023) & (rentals[\"hour\"] == 20)\n",
    "    rentals.loc[idx, \"#_rentals\"] = len(tripdata[(tripdata[\"started_at_year\"] == 2023) & (tripdata[\"started_at_hour\"] < 22) & (tripdata[\"started_at_hour\"] >= 20) & (tripdata[\"station_id\"] == i)])  "
   ]
  },
  {
   "cell_type": "code",
   "execution_count": 15,
   "id": "bb89157a",
   "metadata": {},
   "outputs": [
    {
     "name": "stdout",
     "output_type": "stream",
     "text": [
      "36\n",
      "36\n"
     ]
    }
   ],
   "source": [
    "# verifying rental information for 31 Dec 2023\n",
    "print(sum(rentals.loc[(rentals[\"year\"] == 2023) & (rentals[\"#_rentals\"] > 0),\"#_rentals\"]))\n",
    "\n",
    "# the rental demand is correct!\n",
    "print(len(tripdata[(tripdata[\"started_at_year\"] == 2023) & (tripdata[\"started_at_hour\"] >= 8) & (tripdata[\"started_at_hour\"] < 22)]))"
   ]
  },
  {
   "cell_type": "markdown",
   "id": "20ad8990",
   "metadata": {},
   "source": [
    "> The rentals have been successfully determined for 2023. There was only one day included in this year i.e. *31 Dec* so calculating rentals was not difficult here."
   ]
  },
  {
   "cell_type": "code",
   "execution_count": 16,
   "id": "28280126",
   "metadata": {},
   "outputs": [],
   "source": [
    "# Updating for 2024\n",
    "for k in range(1, 32):\n",
    "    \n",
    "    # determining demand for 2024; 08-10hrs\n",
    "    for i in rentals[\"station_id\"].unique():\n",
    "        idx = (rentals[\"station_id\"] == i) & (rentals[\"year\"] == 2024) & (rentals[\"hour\"] == 8) & (rentals[\"day\"] == k)\n",
    "        rentals.loc[idx, \"#_rentals\"] = len(tripdata[(tripdata[\"started_at_year\"] == 2024) & (tripdata[\"started_at_day\"] == k) & (tripdata[\"started_at_hour\"] < 10) & (tripdata[\"started_at_hour\"] >= 8) & (tripdata[\"station_id\"] == i)])\n",
    "        \n",
    "    # determining demand for 2024; 10-12hrs\n",
    "    for i in rentals[\"station_id\"].unique():\n",
    "        idx = (rentals[\"station_id\"] == i) & (rentals[\"year\"] == 2024) & (rentals[\"hour\"] == 10) & (rentals[\"day\"] == k)\n",
    "        rentals.loc[idx, \"#_rentals\"] = len(tripdata[(tripdata[\"started_at_year\"] == 2024) & (tripdata[\"started_at_day\"] == k) & (tripdata[\"started_at_hour\"] >= 10) & (tripdata[\"started_at_hour\"] < 12) & (tripdata[\"station_id\"] == i)])\n",
    "        \n",
    "    # determining demand for 2024; 12-14hrs\n",
    "    for i in rentals[\"station_id\"].unique():\n",
    "        idx = (rentals[\"station_id\"] == i) & (rentals[\"year\"] == 2024) & (rentals[\"hour\"] == 12) & (rentals[\"day\"] == k)\n",
    "        rentals.loc[idx, \"#_rentals\"] = len(tripdata[(tripdata[\"started_at_year\"] == 2024) & (tripdata[\"started_at_day\"] == k) & (tripdata[\"started_at_hour\"] >= 12) & (tripdata[\"started_at_hour\"] < 14) & (tripdata[\"station_id\"] == i)])\n",
    "        \n",
    "    # determining demand for 2024; 14-16hrs\n",
    "    for i in rentals[\"station_id\"].unique():\n",
    "        idx = (rentals[\"station_id\"] == i) & (rentals[\"year\"] == 2024) & (rentals[\"hour\"] == 14) & (rentals[\"day\"] == k)\n",
    "        rentals.loc[idx, \"#_rentals\"] = len(tripdata[(tripdata[\"started_at_year\"] == 2024) & (tripdata[\"started_at_day\"] == k) & (tripdata[\"started_at_hour\"] >= 14) & (tripdata[\"started_at_hour\"] < 16) & (tripdata[\"station_id\"] == i)])\n",
    "        \n",
    "    # determining demand for 2024; 16-18hrs\n",
    "    for i in rentals[\"station_id\"].unique():\n",
    "        idx = (rentals[\"station_id\"] == i) & (rentals[\"year\"] == 2024) & (rentals[\"hour\"] == 16) & (rentals[\"day\"] == k)\n",
    "        rentals.loc[idx, \"#_rentals\"] = len(tripdata[(tripdata[\"started_at_year\"] == 2024) & (tripdata[\"started_at_day\"] == k) & (tripdata[\"started_at_hour\"] >= 16) & (tripdata[\"started_at_hour\"] < 18) & (tripdata[\"station_id\"] == i)])\n",
    "        \n",
    "    # determining demand for 2024; 18-20hrs\n",
    "    for i in rentals[\"station_id\"].unique():\n",
    "        idx = (rentals[\"station_id\"] == i) & (rentals[\"year\"] == 2024) & (rentals[\"hour\"] == 18) & (rentals[\"day\"] == k)\n",
    "        rentals.loc[idx, \"#_rentals\"] = len(tripdata[(tripdata[\"started_at_year\"] == 2024) & (tripdata[\"started_at_day\"] == k) & (tripdata[\"started_at_hour\"] >= 18) & (tripdata[\"started_at_hour\"] < 20) & (tripdata[\"station_id\"] == i)])\n",
    "    \n",
    "    # determining demand for 2024; 20-22hrs\n",
    "    for i in rentals[\"station_id\"].unique():\n",
    "        idx = (rentals[\"station_id\"] == i) & (rentals[\"year\"] == 2024) & (rentals[\"hour\"] == 20) & (rentals[\"day\"] == k)\n",
    "        rentals.loc[idx, \"#_rentals\"] = len(tripdata[(tripdata[\"started_at_year\"] == 2024) & (tripdata[\"started_at_day\"] == k) & (tripdata[\"started_at_hour\"] >= 20) & (tripdata[\"started_at_hour\"] < 22) & (tripdata[\"station_id\"] == i)])"
   ]
  },
  {
   "cell_type": "code",
   "execution_count": 17,
   "id": "18ad8360",
   "metadata": {},
   "outputs": [
    {
     "name": "stdout",
     "output_type": "stream",
     "text": [
      "13348\n"
     ]
    },
    {
     "data": {
      "text/plain": [
       "13348"
      ]
     },
     "execution_count": 17,
     "metadata": {},
     "output_type": "execute_result"
    }
   ],
   "source": [
    "# total trips on jan 1 2024\n",
    "print(len(tripdata[(tripdata[\"started_at_year\"] == 2024)&(tripdata[\"started_at_day\"] == 1)&(tripdata[\"started_at_hour\"] >= 8)&(tripdata[\"started_at_hour\"] < 22)]))\n",
    "\n",
    "# rentals recorded for jan 1 2024 \n",
    "sum(rentals.loc[(rentals[\"year\"] == 2024) & (rentals[\"day\"] == 1),\"#_rentals\"])"
   ]
  },
  {
   "cell_type": "markdown",
   "id": "7312fa03",
   "metadata": {},
   "source": [
    "Hence, the dataset is correct!"
   ]
  },
  {
   "cell_type": "code",
   "execution_count": 19,
   "id": "21de1cd8",
   "metadata": {},
   "outputs": [
    {
     "data": {
      "text/html": [
       "<div>\n",
       "<style scoped>\n",
       "    .dataframe tbody tr th:only-of-type {\n",
       "        vertical-align: middle;\n",
       "    }\n",
       "\n",
       "    .dataframe tbody tr th {\n",
       "        vertical-align: top;\n",
       "    }\n",
       "\n",
       "    .dataframe thead th {\n",
       "        text-align: right;\n",
       "    }\n",
       "</style>\n",
       "<table border=\"1\" class=\"dataframe\">\n",
       "  <thead>\n",
       "    <tr style=\"text-align: right;\">\n",
       "      <th></th>\n",
       "      <th>name</th>\n",
       "      <th>lat</th>\n",
       "      <th>lng</th>\n",
       "      <th>station_id</th>\n",
       "      <th>datetime</th>\n",
       "      <th>#_rentals</th>\n",
       "      <th>year</th>\n",
       "      <th>month</th>\n",
       "      <th>day</th>\n",
       "      <th>hour</th>\n",
       "    </tr>\n",
       "  </thead>\n",
       "  <tbody>\n",
       "    <tr>\n",
       "      <th>0</th>\n",
       "      <td>1 Ave &amp; E 110 St</td>\n",
       "      <td>40.792327</td>\n",
       "      <td>-73.9383</td>\n",
       "      <td>0</td>\n",
       "      <td>2023-12-31 08:00:00.000</td>\n",
       "      <td>0</td>\n",
       "      <td>2023</td>\n",
       "      <td>12</td>\n",
       "      <td>31</td>\n",
       "      <td>8</td>\n",
       "    </tr>\n",
       "    <tr>\n",
       "      <th>1</th>\n",
       "      <td>1 Ave &amp; E 110 St</td>\n",
       "      <td>40.792327</td>\n",
       "      <td>-73.9383</td>\n",
       "      <td>0</td>\n",
       "      <td>2023-12-31 10:00:00.000</td>\n",
       "      <td>0</td>\n",
       "      <td>2023</td>\n",
       "      <td>12</td>\n",
       "      <td>31</td>\n",
       "      <td>10</td>\n",
       "    </tr>\n",
       "    <tr>\n",
       "      <th>2</th>\n",
       "      <td>1 Ave &amp; E 110 St</td>\n",
       "      <td>40.792327</td>\n",
       "      <td>-73.9383</td>\n",
       "      <td>0</td>\n",
       "      <td>2023-12-31 12:00:00.000</td>\n",
       "      <td>0</td>\n",
       "      <td>2023</td>\n",
       "      <td>12</td>\n",
       "      <td>31</td>\n",
       "      <td>12</td>\n",
       "    </tr>\n",
       "    <tr>\n",
       "      <th>3</th>\n",
       "      <td>1 Ave &amp; E 110 St</td>\n",
       "      <td>40.792327</td>\n",
       "      <td>-73.9383</td>\n",
       "      <td>0</td>\n",
       "      <td>2023-12-31 14:00:00.000</td>\n",
       "      <td>0</td>\n",
       "      <td>2023</td>\n",
       "      <td>12</td>\n",
       "      <td>31</td>\n",
       "      <td>14</td>\n",
       "    </tr>\n",
       "    <tr>\n",
       "      <th>4</th>\n",
       "      <td>1 Ave &amp; E 110 St</td>\n",
       "      <td>40.792327</td>\n",
       "      <td>-73.9383</td>\n",
       "      <td>0</td>\n",
       "      <td>2023-12-31 16:00:00.000</td>\n",
       "      <td>0</td>\n",
       "      <td>2023</td>\n",
       "      <td>12</td>\n",
       "      <td>31</td>\n",
       "      <td>16</td>\n",
       "    </tr>\n",
       "  </tbody>\n",
       "</table>\n",
       "</div>"
      ],
      "text/plain": [
       "               name        lat      lng  station_id                 datetime  \\\n",
       "0  1 Ave & E 110 St  40.792327 -73.9383           0  2023-12-31 08:00:00.000   \n",
       "1  1 Ave & E 110 St  40.792327 -73.9383           0  2023-12-31 10:00:00.000   \n",
       "2  1 Ave & E 110 St  40.792327 -73.9383           0  2023-12-31 12:00:00.000   \n",
       "3  1 Ave & E 110 St  40.792327 -73.9383           0  2023-12-31 14:00:00.000   \n",
       "4  1 Ave & E 110 St  40.792327 -73.9383           0  2023-12-31 16:00:00.000   \n",
       "\n",
       "   #_rentals  year  month  day  hour  \n",
       "0          0  2023     12   31     8  \n",
       "1          0  2023     12   31    10  \n",
       "2          0  2023     12   31    12  \n",
       "3          0  2023     12   31    14  \n",
       "4          0  2023     12   31    16  "
      ]
     },
     "execution_count": 19,
     "metadata": {},
     "output_type": "execute_result"
    }
   ],
   "source": [
    "# Created dataset\n",
    "rentals_final = rentals.copy()\n",
    "\n",
    "# removing unneeded columns\n",
    "rentals_final.drop(columns=['minute','second','microsecond'], inplace=True)\n",
    "\n",
    "# final look\n",
    "rentals_final.head()"
   ]
  },
  {
   "cell_type": "code",
   "execution_count": 20,
   "id": "0ee29cf6",
   "metadata": {},
   "outputs": [],
   "source": [
    "# exporting\n",
    "rentals_final.to_csv(\"rentals_with_demand_new_time_units.csv\", index=False)"
   ]
  }
 ],
 "metadata": {
  "kernelspec": {
   "display_name": "Python [conda env:base] *",
   "language": "python",
   "name": "conda-base-py"
  },
  "language_info": {
   "codemirror_mode": {
    "name": "ipython",
    "version": 3
   },
   "file_extension": ".py",
   "mimetype": "text/x-python",
   "name": "python",
   "nbconvert_exporter": "python",
   "pygments_lexer": "ipython3",
   "version": "3.12.7"
  }
 },
 "nbformat": 4,
 "nbformat_minor": 5
}
