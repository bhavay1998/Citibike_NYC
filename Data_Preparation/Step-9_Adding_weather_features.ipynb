{
 "cells": [
  {
   "cell_type": "markdown",
   "id": "28a3e656",
   "metadata": {},
   "source": [
    "# Predictions on Daily Rentals\n",
    "The aim of this notebook is to see if there is any improvement in prediction performance by adding more weather related features i.e. temperature, wind, rainfall, etc.\n",
    "\n",
    "## Creating a temperature dataset\n",
    "The data is taken from the [National Weather Service](https://www.weather.gov/wrh/climate?wfo=okx). As a reference location for New York City, weather readings from **Central Park** station have been used."
   ]
  },
  {
   "cell_type": "code",
   "execution_count": 1,
   "id": "3e1b0287",
   "metadata": {},
   "outputs": [
    {
     "data": {
      "text/html": [
       "<div>\n",
       "<style scoped>\n",
       "    .dataframe tbody tr th:only-of-type {\n",
       "        vertical-align: middle;\n",
       "    }\n",
       "\n",
       "    .dataframe tbody tr th {\n",
       "        vertical-align: top;\n",
       "    }\n",
       "\n",
       "    .dataframe thead th {\n",
       "        text-align: right;\n",
       "    }\n",
       "</style>\n",
       "<table border=\"1\" class=\"dataframe\">\n",
       "  <thead>\n",
       "    <tr style=\"text-align: right;\">\n",
       "      <th></th>\n",
       "    </tr>\n",
       "  </thead>\n",
       "  <tbody>\n",
       "  </tbody>\n",
       "</table>\n",
       "</div>"
      ],
      "text/plain": [
       "Empty DataFrame\n",
       "Columns: []\n",
       "Index: []"
      ]
     },
     "execution_count": 1,
     "metadata": {},
     "output_type": "execute_result"
    }
   ],
   "source": [
    "# importing weather data\n",
    "import pandas as pd\n",
    "temp_daily = pd.DataFrame()\n",
    "temp_daily.head()"
   ]
  },
  {
   "cell_type": "code",
   "execution_count": 2,
   "id": "303551e4",
   "metadata": {},
   "outputs": [
    {
     "data": {
      "text/html": [
       "<div>\n",
       "<style scoped>\n",
       "    .dataframe tbody tr th:only-of-type {\n",
       "        vertical-align: middle;\n",
       "    }\n",
       "\n",
       "    .dataframe tbody tr th {\n",
       "        vertical-align: top;\n",
       "    }\n",
       "\n",
       "    .dataframe thead th {\n",
       "        text-align: right;\n",
       "    }\n",
       "</style>\n",
       "<table border=\"1\" class=\"dataframe\">\n",
       "  <thead>\n",
       "    <tr style=\"text-align: right;\">\n",
       "      <th></th>\n",
       "      <th>day</th>\n",
       "      <th>year</th>\n",
       "      <th>month</th>\n",
       "      <th>avg_temp_(F)</th>\n",
       "    </tr>\n",
       "  </thead>\n",
       "  <tbody>\n",
       "    <tr>\n",
       "      <th>0</th>\n",
       "      <td>1</td>\n",
       "      <td>2024</td>\n",
       "      <td>1</td>\n",
       "      <td>0</td>\n",
       "    </tr>\n",
       "    <tr>\n",
       "      <th>1</th>\n",
       "      <td>2</td>\n",
       "      <td>2024</td>\n",
       "      <td>1</td>\n",
       "      <td>0</td>\n",
       "    </tr>\n",
       "    <tr>\n",
       "      <th>2</th>\n",
       "      <td>3</td>\n",
       "      <td>2024</td>\n",
       "      <td>1</td>\n",
       "      <td>0</td>\n",
       "    </tr>\n",
       "    <tr>\n",
       "      <th>3</th>\n",
       "      <td>4</td>\n",
       "      <td>2024</td>\n",
       "      <td>1</td>\n",
       "      <td>0</td>\n",
       "    </tr>\n",
       "    <tr>\n",
       "      <th>4</th>\n",
       "      <td>5</td>\n",
       "      <td>2024</td>\n",
       "      <td>1</td>\n",
       "      <td>0</td>\n",
       "    </tr>\n",
       "  </tbody>\n",
       "</table>\n",
       "</div>"
      ],
      "text/plain": [
       "   day  year  month  avg_temp_(F)\n",
       "0    1  2024      1             0\n",
       "1    2  2024      1             0\n",
       "2    3  2024      1             0\n",
       "3    4  2024      1             0\n",
       "4    5  2024      1             0"
      ]
     },
     "execution_count": 2,
     "metadata": {},
     "output_type": "execute_result"
    }
   ],
   "source": [
    "# adding values for January 2024\n",
    "day = [i for i in range(1,32)]\n",
    "temp_daily[\"day\"] = day\n",
    "temp_daily[\"year\"] = 2024\n",
    "temp_daily[\"month\"] = 1\n",
    "temp_daily[\"avg_temp_(F)\"] = 0\n",
    "temp_daily.head()"
   ]
  },
  {
   "cell_type": "code",
   "execution_count": 3,
   "id": "3ad82c23",
   "metadata": {},
   "outputs": [
    {
     "data": {
      "text/html": [
       "<div>\n",
       "<style scoped>\n",
       "    .dataframe tbody tr th:only-of-type {\n",
       "        vertical-align: middle;\n",
       "    }\n",
       "\n",
       "    .dataframe tbody tr th {\n",
       "        vertical-align: top;\n",
       "    }\n",
       "\n",
       "    .dataframe thead th {\n",
       "        text-align: right;\n",
       "    }\n",
       "</style>\n",
       "<table border=\"1\" class=\"dataframe\">\n",
       "  <thead>\n",
       "    <tr style=\"text-align: right;\">\n",
       "      <th></th>\n",
       "      <th>day</th>\n",
       "      <th>year</th>\n",
       "      <th>month</th>\n",
       "      <th>avg_temp_(F)</th>\n",
       "    </tr>\n",
       "  </thead>\n",
       "  <tbody>\n",
       "    <tr>\n",
       "      <th>0</th>\n",
       "      <td>1</td>\n",
       "      <td>2024</td>\n",
       "      <td>1</td>\n",
       "      <td>41.0</td>\n",
       "    </tr>\n",
       "    <tr>\n",
       "      <th>1</th>\n",
       "      <td>2</td>\n",
       "      <td>2024</td>\n",
       "      <td>1</td>\n",
       "      <td>35.5</td>\n",
       "    </tr>\n",
       "    <tr>\n",
       "      <th>2</th>\n",
       "      <td>3</td>\n",
       "      <td>2024</td>\n",
       "      <td>1</td>\n",
       "      <td>38.5</td>\n",
       "    </tr>\n",
       "    <tr>\n",
       "      <th>3</th>\n",
       "      <td>4</td>\n",
       "      <td>2024</td>\n",
       "      <td>1</td>\n",
       "      <td>36.5</td>\n",
       "    </tr>\n",
       "    <tr>\n",
       "      <th>4</th>\n",
       "      <td>5</td>\n",
       "      <td>2024</td>\n",
       "      <td>1</td>\n",
       "      <td>31.5</td>\n",
       "    </tr>\n",
       "  </tbody>\n",
       "</table>\n",
       "</div>"
      ],
      "text/plain": [
       "   day  year  month  avg_temp_(F)\n",
       "0    1  2024      1          41.0\n",
       "1    2  2024      1          35.5\n",
       "2    3  2024      1          38.5\n",
       "3    4  2024      1          36.5\n",
       "4    5  2024      1          31.5"
      ]
     },
     "execution_count": 3,
     "metadata": {},
     "output_type": "execute_result"
    }
   ],
   "source": [
    "# creating avg_temp column\n",
    "temp = [41.0,35.5,38.5,36.5,31.5,34.5,36.0,40.5,46.5,50.5,44.0,45.0,47.5,35.0,26.0,27.0,20.5,28.0,29.0,22.0,25.5,31.5,37.0,43.0,52.5,44.0,46.0,40.5,38.0,36.5,37.0]\n",
    "temp_daily[\"avg_temp_(F)\"] = temp\n",
    "temp_daily.head()"
   ]
  },
  {
   "cell_type": "code",
   "execution_count": 4,
   "id": "d207572d",
   "metadata": {},
   "outputs": [],
   "source": [
    "# creating precipitation column\n",
    "T = 0.001 \n",
    "\n",
    "prec = [0.03, 0.00, 0.00, 0.00, 0.00, 0.41, 0.24, 0.00, 1.73, 0.22, 0.00, 0.08, 0.81, T,\n",
    "0.04, 0.28, 0.00, T,\n",
    "0.04, 0.00, 0.00, 0.00, 0.05, 0.05, 0.24, 0.19, 0.00, 0.82, 0.05, T, T]"
   ]
  },
  {
   "cell_type": "markdown",
   "id": "a2be199a",
   "metadata": {},
   "source": [
    "T means \"Trace\". It suggests that the prec was slightly above 0.00, but it can't be measured. Here the value is chosen to be *0.001* to <u>avoid missing values</u>."
   ]
  },
  {
   "cell_type": "code",
   "execution_count": 5,
   "id": "a5f00bf3",
   "metadata": {},
   "outputs": [
    {
     "data": {
      "text/html": [
       "<div>\n",
       "<style scoped>\n",
       "    .dataframe tbody tr th:only-of-type {\n",
       "        vertical-align: middle;\n",
       "    }\n",
       "\n",
       "    .dataframe tbody tr th {\n",
       "        vertical-align: top;\n",
       "    }\n",
       "\n",
       "    .dataframe thead th {\n",
       "        text-align: right;\n",
       "    }\n",
       "</style>\n",
       "<table border=\"1\" class=\"dataframe\">\n",
       "  <thead>\n",
       "    <tr style=\"text-align: right;\">\n",
       "      <th></th>\n",
       "      <th>day</th>\n",
       "      <th>year</th>\n",
       "      <th>month</th>\n",
       "      <th>avg_temp_(F)</th>\n",
       "      <th>prec</th>\n",
       "    </tr>\n",
       "  </thead>\n",
       "  <tbody>\n",
       "    <tr>\n",
       "      <th>0</th>\n",
       "      <td>1</td>\n",
       "      <td>2024</td>\n",
       "      <td>1</td>\n",
       "      <td>41.0</td>\n",
       "      <td>0.03</td>\n",
       "    </tr>\n",
       "    <tr>\n",
       "      <th>1</th>\n",
       "      <td>2</td>\n",
       "      <td>2024</td>\n",
       "      <td>1</td>\n",
       "      <td>35.5</td>\n",
       "      <td>0.00</td>\n",
       "    </tr>\n",
       "    <tr>\n",
       "      <th>2</th>\n",
       "      <td>3</td>\n",
       "      <td>2024</td>\n",
       "      <td>1</td>\n",
       "      <td>38.5</td>\n",
       "      <td>0.00</td>\n",
       "    </tr>\n",
       "    <tr>\n",
       "      <th>3</th>\n",
       "      <td>4</td>\n",
       "      <td>2024</td>\n",
       "      <td>1</td>\n",
       "      <td>36.5</td>\n",
       "      <td>0.00</td>\n",
       "    </tr>\n",
       "    <tr>\n",
       "      <th>4</th>\n",
       "      <td>5</td>\n",
       "      <td>2024</td>\n",
       "      <td>1</td>\n",
       "      <td>31.5</td>\n",
       "      <td>0.00</td>\n",
       "    </tr>\n",
       "  </tbody>\n",
       "</table>\n",
       "</div>"
      ],
      "text/plain": [
       "   day  year  month  avg_temp_(F)  prec\n",
       "0    1  2024      1          41.0  0.03\n",
       "1    2  2024      1          35.5  0.00\n",
       "2    3  2024      1          38.5  0.00\n",
       "3    4  2024      1          36.5  0.00\n",
       "4    5  2024      1          31.5  0.00"
      ]
     },
     "execution_count": 5,
     "metadata": {},
     "output_type": "execute_result"
    }
   ],
   "source": [
    "temp_daily[\"prec\"] = prec\n",
    "temp_daily.head()"
   ]
  },
  {
   "cell_type": "code",
   "execution_count": 6,
   "id": "9cb8379e",
   "metadata": {},
   "outputs": [
    {
     "data": {
      "text/html": [
       "<div>\n",
       "<style scoped>\n",
       "    .dataframe tbody tr th:only-of-type {\n",
       "        vertical-align: middle;\n",
       "    }\n",
       "\n",
       "    .dataframe tbody tr th {\n",
       "        vertical-align: top;\n",
       "    }\n",
       "\n",
       "    .dataframe thead th {\n",
       "        text-align: right;\n",
       "    }\n",
       "</style>\n",
       "<table border=\"1\" class=\"dataframe\">\n",
       "  <thead>\n",
       "    <tr style=\"text-align: right;\">\n",
       "      <th></th>\n",
       "      <th>day</th>\n",
       "      <th>year</th>\n",
       "      <th>month</th>\n",
       "      <th>avg_temp_(F)</th>\n",
       "      <th>prec</th>\n",
       "      <th>snow_depth</th>\n",
       "    </tr>\n",
       "  </thead>\n",
       "  <tbody>\n",
       "    <tr>\n",
       "      <th>0</th>\n",
       "      <td>1</td>\n",
       "      <td>2024</td>\n",
       "      <td>1</td>\n",
       "      <td>41.0</td>\n",
       "      <td>0.03</td>\n",
       "      <td>0</td>\n",
       "    </tr>\n",
       "    <tr>\n",
       "      <th>1</th>\n",
       "      <td>2</td>\n",
       "      <td>2024</td>\n",
       "      <td>1</td>\n",
       "      <td>35.5</td>\n",
       "      <td>0.00</td>\n",
       "      <td>0</td>\n",
       "    </tr>\n",
       "    <tr>\n",
       "      <th>2</th>\n",
       "      <td>3</td>\n",
       "      <td>2024</td>\n",
       "      <td>1</td>\n",
       "      <td>38.5</td>\n",
       "      <td>0.00</td>\n",
       "      <td>0</td>\n",
       "    </tr>\n",
       "    <tr>\n",
       "      <th>3</th>\n",
       "      <td>4</td>\n",
       "      <td>2024</td>\n",
       "      <td>1</td>\n",
       "      <td>36.5</td>\n",
       "      <td>0.00</td>\n",
       "      <td>0</td>\n",
       "    </tr>\n",
       "    <tr>\n",
       "      <th>4</th>\n",
       "      <td>5</td>\n",
       "      <td>2024</td>\n",
       "      <td>1</td>\n",
       "      <td>31.5</td>\n",
       "      <td>0.00</td>\n",
       "      <td>0</td>\n",
       "    </tr>\n",
       "  </tbody>\n",
       "</table>\n",
       "</div>"
      ],
      "text/plain": [
       "   day  year  month  avg_temp_(F)  prec  snow_depth\n",
       "0    1  2024      1          41.0  0.03           0\n",
       "1    2  2024      1          35.5  0.00           0\n",
       "2    3  2024      1          38.5  0.00           0\n",
       "3    4  2024      1          36.5  0.00           0\n",
       "4    5  2024      1          31.5  0.00           0"
      ]
     },
     "execution_count": 6,
     "metadata": {},
     "output_type": "execute_result"
    }
   ],
   "source": [
    "# creating snow depth column\n",
    "sd = [0, 0, 0, 0, 0, 0, 0, 0, 0, 0, 0, 0, 0, 0, 0, 1, 1, 1, 1, 1, 1, 1, 1, 0, 0, 0, 0, 0, 0, 0, 0]\n",
    "temp_daily[\"snow_depth\"] = sd\n",
    "temp_daily.head()"
   ]
  },
  {
   "cell_type": "markdown",
   "id": "1fbd7527",
   "metadata": {},
   "source": [
    "As of now, the data has been added only for January 2024. The data for 31 Dec 2023 also needs to be added for the purpose of completion."
   ]
  },
  {
   "cell_type": "code",
   "execution_count": 7,
   "id": "e5023a44",
   "metadata": {},
   "outputs": [
    {
     "data": {
      "text/plain": [
       "day               31.000\n",
       "year            2024.000\n",
       "month              1.000\n",
       "avg_temp_(F)      37.000\n",
       "prec               0.001\n",
       "snow_depth         0.000\n",
       "Name: 30, dtype: float64"
      ]
     },
     "execution_count": 7,
     "metadata": {},
     "output_type": "execute_result"
    }
   ],
   "source": [
    "# How the data is stored\n",
    "temp_daily.iloc[30]"
   ]
  },
  {
   "cell_type": "code",
   "execution_count": 8,
   "id": "eb1f9e97",
   "metadata": {},
   "outputs": [
    {
     "name": "stdout",
     "output_type": "stream",
     "text": [
      "<class 'pandas.core.frame.DataFrame'>\n",
      "RangeIndex: 32 entries, 0 to 31\n",
      "Data columns (total 6 columns):\n",
      " #   Column        Non-Null Count  Dtype  \n",
      "---  ------        --------------  -----  \n",
      " 0   day           32 non-null     int64  \n",
      " 1   year          32 non-null     int64  \n",
      " 2   month         32 non-null     int64  \n",
      " 3   avg_temp_(F)  32 non-null     float64\n",
      " 4   prec          32 non-null     float64\n",
      " 5   snow_depth    32 non-null     int64  \n",
      "dtypes: float64(2), int64(4)\n",
      "memory usage: 1.6 KB\n"
     ]
    }
   ],
   "source": [
    "# Updating\n",
    "new_row = pd.DataFrame({'day':31, 'year':2023, 'month':12, 'avg_temp_(F)':41.0, 'prec':0.00, 'snow_depth':0},index=['31'])\n",
    "temp_daily = pd.concat([new_row,temp_daily.loc[:]]).reset_index(drop=True)\n",
    "temp_daily.info()"
   ]
  },
  {
   "cell_type": "code",
   "execution_count": 9,
   "id": "c215706d",
   "metadata": {},
   "outputs": [
    {
     "name": "stdout",
     "output_type": "stream",
     "text": [
      "day               31.0\n",
      "year            2023.0\n",
      "month             12.0\n",
      "avg_temp_(F)      41.0\n",
      "prec               0.0\n",
      "snow_depth         0.0\n",
      "Name: 0, dtype: float64\n",
      "32\n"
     ]
    }
   ],
   "source": [
    "# It works!\n",
    "print(temp_daily.iloc[0])\n",
    "print(len(temp_daily))"
   ]
  },
  {
   "cell_type": "markdown",
   "id": "f215d34f",
   "metadata": {},
   "source": [
    "## Combining weather with rentals_daily\n",
    "Weather based features are combined with daily rentals dataset."
   ]
  },
  {
   "cell_type": "code",
   "execution_count": 10,
   "id": "b6a52e79",
   "metadata": {},
   "outputs": [],
   "source": [
    "# importing\n",
    "rentals_daily = pd.read_csv(\"C:/Users/singh/Desktop/TUD (All Semesters)/Courses - Semester 5 (TU Dresden)/Research Task - Spatial Modelling/Code/rentals_with_daily_demand.csv\")"
   ]
  },
  {
   "cell_type": "code",
   "execution_count": 11,
   "id": "f22e97af",
   "metadata": {},
   "outputs": [
    {
     "data": {
      "text/html": [
       "<div>\n",
       "<style scoped>\n",
       "    .dataframe tbody tr th:only-of-type {\n",
       "        vertical-align: middle;\n",
       "    }\n",
       "\n",
       "    .dataframe tbody tr th {\n",
       "        vertical-align: top;\n",
       "    }\n",
       "\n",
       "    .dataframe thead th {\n",
       "        text-align: right;\n",
       "    }\n",
       "</style>\n",
       "<table border=\"1\" class=\"dataframe\">\n",
       "  <thead>\n",
       "    <tr style=\"text-align: right;\">\n",
       "      <th></th>\n",
       "      <th>name</th>\n",
       "      <th>lat</th>\n",
       "      <th>lng</th>\n",
       "      <th>station_id</th>\n",
       "      <th>year</th>\n",
       "      <th>month</th>\n",
       "      <th>day</th>\n",
       "      <th>rentals</th>\n",
       "    </tr>\n",
       "  </thead>\n",
       "  <tbody>\n",
       "    <tr>\n",
       "      <th>1</th>\n",
       "      <td>1 Ave &amp; E 110 St</td>\n",
       "      <td>40.792327</td>\n",
       "      <td>-73.938300</td>\n",
       "      <td>0</td>\n",
       "      <td>2024</td>\n",
       "      <td>1</td>\n",
       "      <td>1</td>\n",
       "      <td>2</td>\n",
       "    </tr>\n",
       "    <tr>\n",
       "      <th>33</th>\n",
       "      <td>1 Ave &amp; E 16 St</td>\n",
       "      <td>40.732219</td>\n",
       "      <td>-73.981656</td>\n",
       "      <td>1</td>\n",
       "      <td>2024</td>\n",
       "      <td>1</td>\n",
       "      <td>1</td>\n",
       "      <td>40</td>\n",
       "    </tr>\n",
       "    <tr>\n",
       "      <th>65</th>\n",
       "      <td>1 Ave &amp; E 18 St</td>\n",
       "      <td>40.733812</td>\n",
       "      <td>-73.980544</td>\n",
       "      <td>2</td>\n",
       "      <td>2024</td>\n",
       "      <td>1</td>\n",
       "      <td>1</td>\n",
       "      <td>49</td>\n",
       "    </tr>\n",
       "    <tr>\n",
       "      <th>97</th>\n",
       "      <td>1 Ave &amp; E 30 St</td>\n",
       "      <td>40.741444</td>\n",
       "      <td>-73.975361</td>\n",
       "      <td>3</td>\n",
       "      <td>2024</td>\n",
       "      <td>1</td>\n",
       "      <td>1</td>\n",
       "      <td>28</td>\n",
       "    </tr>\n",
       "    <tr>\n",
       "      <th>129</th>\n",
       "      <td>1 Ave &amp; E 39 St</td>\n",
       "      <td>40.747140</td>\n",
       "      <td>-73.971130</td>\n",
       "      <td>4</td>\n",
       "      <td>2024</td>\n",
       "      <td>1</td>\n",
       "      <td>1</td>\n",
       "      <td>36</td>\n",
       "    </tr>\n",
       "    <tr>\n",
       "      <th>...</th>\n",
       "      <td>...</td>\n",
       "      <td>...</td>\n",
       "      <td>...</td>\n",
       "      <td>...</td>\n",
       "      <td>...</td>\n",
       "      <td>...</td>\n",
       "      <td>...</td>\n",
       "      <td>...</td>\n",
       "    </tr>\n",
       "    <tr>\n",
       "      <th>67809</th>\n",
       "      <td>Wyckoff Ave &amp; Stanhope St</td>\n",
       "      <td>40.703545</td>\n",
       "      <td>-73.917775</td>\n",
       "      <td>2119</td>\n",
       "      <td>2024</td>\n",
       "      <td>1</td>\n",
       "      <td>1</td>\n",
       "      <td>15</td>\n",
       "    </tr>\n",
       "    <tr>\n",
       "      <th>67841</th>\n",
       "      <td>Wyckoff St &amp; 3 Ave</td>\n",
       "      <td>40.682755</td>\n",
       "      <td>-73.982586</td>\n",
       "      <td>2120</td>\n",
       "      <td>2024</td>\n",
       "      <td>1</td>\n",
       "      <td>1</td>\n",
       "      <td>6</td>\n",
       "    </tr>\n",
       "    <tr>\n",
       "      <th>67873</th>\n",
       "      <td>Wythe Ave &amp; Metropolitan Ave</td>\n",
       "      <td>40.716887</td>\n",
       "      <td>-73.963198</td>\n",
       "      <td>2121</td>\n",
       "      <td>2024</td>\n",
       "      <td>1</td>\n",
       "      <td>1</td>\n",
       "      <td>19</td>\n",
       "    </tr>\n",
       "    <tr>\n",
       "      <th>67905</th>\n",
       "      <td>Wythe Ave &amp; N 13 St</td>\n",
       "      <td>40.722767</td>\n",
       "      <td>-73.957021</td>\n",
       "      <td>2122</td>\n",
       "      <td>2024</td>\n",
       "      <td>1</td>\n",
       "      <td>1</td>\n",
       "      <td>12</td>\n",
       "    </tr>\n",
       "    <tr>\n",
       "      <th>67937</th>\n",
       "      <td>Yankee Ferry Terminal</td>\n",
       "      <td>40.687066</td>\n",
       "      <td>-74.016756</td>\n",
       "      <td>2123</td>\n",
       "      <td>2024</td>\n",
       "      <td>1</td>\n",
       "      <td>1</td>\n",
       "      <td>13</td>\n",
       "    </tr>\n",
       "  </tbody>\n",
       "</table>\n",
       "<p>2124 rows × 8 columns</p>\n",
       "</div>"
      ],
      "text/plain": [
       "                               name        lat        lng  station_id  year  \\\n",
       "1                  1 Ave & E 110 St  40.792327 -73.938300           0  2024   \n",
       "33                  1 Ave & E 16 St  40.732219 -73.981656           1  2024   \n",
       "65                  1 Ave & E 18 St  40.733812 -73.980544           2  2024   \n",
       "97                  1 Ave & E 30 St  40.741444 -73.975361           3  2024   \n",
       "129                 1 Ave & E 39 St  40.747140 -73.971130           4  2024   \n",
       "...                             ...        ...        ...         ...   ...   \n",
       "67809     Wyckoff Ave & Stanhope St  40.703545 -73.917775        2119  2024   \n",
       "67841            Wyckoff St & 3 Ave  40.682755 -73.982586        2120  2024   \n",
       "67873  Wythe Ave & Metropolitan Ave  40.716887 -73.963198        2121  2024   \n",
       "67905           Wythe Ave & N 13 St  40.722767 -73.957021        2122  2024   \n",
       "67937         Yankee Ferry Terminal  40.687066 -74.016756        2123  2024   \n",
       "\n",
       "       month  day  rentals  \n",
       "1          1    1        2  \n",
       "33         1    1       40  \n",
       "65         1    1       49  \n",
       "97         1    1       28  \n",
       "129        1    1       36  \n",
       "...      ...  ...      ...  \n",
       "67809      1    1       15  \n",
       "67841      1    1        6  \n",
       "67873      1    1       19  \n",
       "67905      1    1       12  \n",
       "67937      1    1       13  \n",
       "\n",
       "[2124 rows x 8 columns]"
      ]
     },
     "execution_count": 11,
     "metadata": {},
     "output_type": "execute_result"
    }
   ],
   "source": [
    "rentals_daily[(rentals_daily[\"day\"] == 1)]"
   ]
  },
  {
   "cell_type": "code",
   "execution_count": 12,
   "id": "2de98fd6",
   "metadata": {},
   "outputs": [],
   "source": [
    "# merging the dfs\n",
    "rentals_daily_temp = rentals_daily.merge(temp_daily, how='left', on= ['day','month','year'])"
   ]
  },
  {
   "cell_type": "code",
   "execution_count": 13,
   "id": "1cae4b6c",
   "metadata": {},
   "outputs": [
    {
     "data": {
      "text/html": [
       "<div>\n",
       "<style scoped>\n",
       "    .dataframe tbody tr th:only-of-type {\n",
       "        vertical-align: middle;\n",
       "    }\n",
       "\n",
       "    .dataframe tbody tr th {\n",
       "        vertical-align: top;\n",
       "    }\n",
       "\n",
       "    .dataframe thead th {\n",
       "        text-align: right;\n",
       "    }\n",
       "</style>\n",
       "<table border=\"1\" class=\"dataframe\">\n",
       "  <thead>\n",
       "    <tr style=\"text-align: right;\">\n",
       "      <th></th>\n",
       "      <th>name</th>\n",
       "      <th>lat</th>\n",
       "      <th>lng</th>\n",
       "      <th>station_id</th>\n",
       "      <th>year</th>\n",
       "      <th>month</th>\n",
       "      <th>day</th>\n",
       "      <th>rentals</th>\n",
       "      <th>avg_temp_(F)</th>\n",
       "      <th>prec</th>\n",
       "      <th>snow_depth</th>\n",
       "    </tr>\n",
       "  </thead>\n",
       "  <tbody>\n",
       "    <tr>\n",
       "      <th>20992</th>\n",
       "      <td>Broadway &amp; W 36 St</td>\n",
       "      <td>40.750977</td>\n",
       "      <td>-73.987654</td>\n",
       "      <td>656</td>\n",
       "      <td>2023</td>\n",
       "      <td>12</td>\n",
       "      <td>31</td>\n",
       "      <td>1</td>\n",
       "      <td>41.0</td>\n",
       "      <td>0.000</td>\n",
       "      <td>0</td>\n",
       "    </tr>\n",
       "    <tr>\n",
       "      <th>21023</th>\n",
       "      <td>Broadway &amp; W 36 St</td>\n",
       "      <td>40.750977</td>\n",
       "      <td>-73.987654</td>\n",
       "      <td>656</td>\n",
       "      <td>2024</td>\n",
       "      <td>1</td>\n",
       "      <td>31</td>\n",
       "      <td>44</td>\n",
       "      <td>37.0</td>\n",
       "      <td>0.001</td>\n",
       "      <td>0</td>\n",
       "    </tr>\n",
       "  </tbody>\n",
       "</table>\n",
       "</div>"
      ],
      "text/plain": [
       "                     name        lat        lng  station_id  year  month  day  \\\n",
       "20992  Broadway & W 36 St  40.750977 -73.987654         656  2023     12   31   \n",
       "21023  Broadway & W 36 St  40.750977 -73.987654         656  2024      1   31   \n",
       "\n",
       "       rentals  avg_temp_(F)   prec  snow_depth  \n",
       "20992        1          41.0  0.000           0  \n",
       "21023       44          37.0  0.001           0  "
      ]
     },
     "execution_count": 13,
     "metadata": {},
     "output_type": "execute_result"
    }
   ],
   "source": [
    "# It works!\n",
    "rentals_daily_temp[(rentals_daily_temp[\"day\"] == 31)&(rentals_daily_temp[\"station_id\"] == 656)]"
   ]
  },
  {
   "cell_type": "markdown",
   "id": "d5d50ddb",
   "metadata": {},
   "source": [
    "## Developing training and test sets\n",
    "The default of 450 random stations are taken as before."
   ]
  },
  {
   "cell_type": "code",
   "execution_count": 14,
   "id": "5a9e88bb",
   "metadata": {},
   "outputs": [
    {
     "data": {
      "text/plain": [
       "[456, 102, 1126, 1003, 914]"
      ]
     },
     "execution_count": 14,
     "metadata": {},
     "output_type": "execute_result"
    }
   ],
   "source": [
    "# ['name', 'lat', 'lng'] variables are excluded \n",
    "## no 'time' column is used\n",
    "\n",
    "# training data: response variable\n",
    "X_train = rentals_daily_temp.loc[(rentals_daily_temp[\"year\"] == 2023) | ((rentals_daily_temp[\"year\"] == 2024) & (rentals_daily_temp[\"day\"] < 26)),[\"station_id\", \"year\", \"month\", \"day\", \"avg_temp_(F)\", \"prec\", \"snow_depth\"]]\n",
    "\n",
    "# test data: response variable\n",
    "X_test = rentals_daily_temp.loc[(rentals_daily_temp[\"year\"] == 2024) & (rentals_daily_temp[\"day\"] >= 26),[\"station_id\", \"year\", \"month\", \"day\", \"avg_temp_(F)\", \"prec\", \"snow_depth\"]]\n",
    "\n",
    "import random\n",
    "random.seed(42)\n",
    "station_ids = list(rentals_daily_temp[\"station_id\"].unique())\n",
    "\n",
    "# Picking 450 unique station ids randomly\n",
    "sel_st = random.sample(station_ids, 450)\n",
    "sel_st[:5]"
   ]
  },
  {
   "cell_type": "code",
   "execution_count": 15,
   "id": "8da57952",
   "metadata": {},
   "outputs": [],
   "source": [
    "# filtering for 450 chosen stations\n",
    "X_train = X_train[X_train[\"station_id\"].isin(sel_st)]\n",
    "X_test = X_test[X_test[\"station_id\"].isin(sel_st)]\n",
    "\n",
    "# creating dummies for X_train and X_test\n",
    "X_train = pd.get_dummies(X_train, columns=['station_id'])\n",
    "X_test = pd.get_dummies(X_test, columns=['station_id'])"
   ]
  },
  {
   "cell_type": "code",
   "execution_count": 16,
   "id": "0b9cb3a3",
   "metadata": {},
   "outputs": [],
   "source": [
    "# training data: target\n",
    "y_train = rentals_daily_temp.loc[(rentals_daily_temp[\"year\"] == 2023) | ((rentals_daily_temp[\"year\"] == 2024) & (rentals_daily_temp[\"day\"] < 26)), \"rentals\"]\n",
    "\n",
    "# test data: target\n",
    "y_test = rentals_daily_temp.loc[(rentals_daily_temp[\"year\"] == 2024) & (rentals_daily_temp[\"day\"] >= 26), \"rentals\"]\n",
    "\n",
    "# Also need to filter y_train and y_test\n",
    "y_train = y_train[y_train.index.isin(X_train.index)]\n",
    "y_test = y_test[y_test.index.isin(X_test.index)]"
   ]
  },
  {
   "cell_type": "markdown",
   "id": "79f39142",
   "metadata": {},
   "source": [
    "## Applying a linear model\n",
    "It turns out that a simple Linear Regression Model is actually performing better than a *random forest* for prediction performance on test set. This suggests that the relationship between features and the response variable is <u>not far from linear</u>."
   ]
  },
  {
   "cell_type": "code",
   "execution_count": 17,
   "id": "9e9514bb",
   "metadata": {},
   "outputs": [
    {
     "data": {
      "text/plain": [
       "Index(['year', 'month', 'day', 'avg_temp_(F)', 'prec', 'snow_depth',\n",
       "       'station_id_1', 'station_id_4', 'station_id_6', 'station_id_14',\n",
       "       ...\n",
       "       'station_id_2086', 'station_id_2088', 'station_id_2090',\n",
       "       'station_id_2092', 'station_id_2094', 'station_id_2098',\n",
       "       'station_id_2099', 'station_id_2109', 'station_id_2114',\n",
       "       'station_id_2122'],\n",
       "      dtype='object', length=456)"
      ]
     },
     "execution_count": 17,
     "metadata": {},
     "output_type": "execute_result"
    }
   ],
   "source": [
    "# Checking for number of stations considered\n",
    "X_train.columns"
   ]
  },
  {
   "cell_type": "code",
   "execution_count": 18,
   "id": "3a8fa50c",
   "metadata": {},
   "outputs": [
    {
     "name": "stdout",
     "output_type": "stream",
     "text": [
      "38.533321314102565 0.7853914177208063\n"
     ]
    }
   ],
   "source": [
    "# training performance\n",
    "from sklearn.linear_model import LinearRegression\n",
    "lr = LinearRegression().fit(X_train, y_train)\n",
    "\n",
    "from sklearn.metrics import mean_squared_error\n",
    "from sklearn.metrics import r2_score\n",
    "y_train_pred_lr = lr.predict(X_train)\n",
    "print(mean_squared_error(y_train, y_train_pred_lr),r2_score(y_train, y_train_pred_lr))"
   ]
  },
  {
   "cell_type": "code",
   "execution_count": 19,
   "id": "2ba76ffa",
   "metadata": {},
   "outputs": [
    {
     "name": "stdout",
     "output_type": "stream",
     "text": [
      "58.979618055555555 0.7755859463435186\n"
     ]
    }
   ],
   "source": [
    "# performance on test set\n",
    "y_test_pred_lr = lr.predict(X_test)\n",
    "print(mean_squared_error(y_test, y_test_pred_lr), r2_score(y_test, y_test_pred_lr))"
   ]
  },
  {
   "cell_type": "markdown",
   "id": "3a621f7a",
   "metadata": {},
   "source": [
    "## Applying random forest\n",
    "This time the model has numeric weather attributes. The expectation is that this should lead to a performance increase."
   ]
  },
  {
   "cell_type": "code",
   "execution_count": 20,
   "id": "53c0a05a",
   "metadata": {},
   "outputs": [
    {
     "name": "stdout",
     "output_type": "stream",
     "text": [
      "4.839111213675214 0.9730489155452555\n"
     ]
    }
   ],
   "source": [
    "# training the model\n",
    "from sklearn.ensemble import RandomForestRegressor\n",
    "forest = RandomForestRegressor(random_state=2) \n",
    "forest.fit(X_train, y_train)\n",
    "\n",
    "# training performance\n",
    "from sklearn.metrics import mean_squared_error\n",
    "from sklearn.metrics import r2_score\n",
    "y_train_pred = forest.predict(X_train)\n",
    "print(mean_squared_error(y_train, y_train_pred),r2_score(y_train, y_train_pred))"
   ]
  },
  {
   "cell_type": "code",
   "execution_count": 21,
   "id": "6437b1c6",
   "metadata": {},
   "outputs": [
    {
     "name": "stdout",
     "output_type": "stream",
     "text": [
      "76.65187622222221 0.7083440206886278\n"
     ]
    }
   ],
   "source": [
    "# performance on test set\n",
    "y_test_pred = forest.predict(X_test)\n",
    "print(mean_squared_error(y_test, y_test_pred), r2_score(y_test, y_test_pred))"
   ]
  },
  {
   "cell_type": "markdown",
   "id": "c25e9e5d",
   "metadata": {},
   "source": [
    "### Preliminary Results\n",
    "#### Random Forest\n",
    "Comparing the performance for test data as the number of stations are increased, the prediction accuracy seems to increase for <u>daily rentals</u>. \n",
    "- Switching to daily demand, the r2 score was 0.77 (50 stations)\n",
    "- Switching to daily demand, the r2 score was 0.7 (450 stations)\n",
    "- Adding weather information, the r2 score was 0.7 (450 stations)\n",
    "\n",
    "Adding **weather attributes** increases the performance further for *daily rentals*, but not by a huge margin. Maybe the effect of this will be more visible when data is considered for 3-4 months.\n",
    "<br><br>\n",
    "**Note**: The <u>training time</u> seems to have *improved*. This was not expected.\n",
    "\n",
    "#### Linear Regression\n",
    "<u>Case for 450 stations</u>: Linear model has lower r2 score on training but better r2 score on the test set, compared to *random forest*. This suggests that random forest is **overfitting**.\n",
    "\n",
    "### Further Actions\n",
    "- With 50 stations: The r2-score of *linear model* is 0.79 \n",
    "- With 450 stations: The r2-score of *linear model* is 0.77\n",
    "\n",
    "It looks like the performance of linear model is decreasing with increase in the volume of data. Also, the performance of *random forest* seems to be changing every time it is run. This suggest that there might be some room for <u>hyperparameter tuning</u>."
   ]
  }
 ],
 "metadata": {
  "kernelspec": {
   "display_name": "Python [conda env:base] *",
   "language": "python",
   "name": "conda-base-py"
  },
  "language_info": {
   "codemirror_mode": {
    "name": "ipython",
    "version": 3
   },
   "file_extension": ".py",
   "mimetype": "text/x-python",
   "name": "python",
   "nbconvert_exporter": "python",
   "pygments_lexer": "ipython3",
   "version": "3.12.7"
  }
 },
 "nbformat": 4,
 "nbformat_minor": 5
}
