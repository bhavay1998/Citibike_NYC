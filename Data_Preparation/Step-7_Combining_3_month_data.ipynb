{
 "cells": [
  {
   "cell_type": "markdown",
   "id": "e89c7417",
   "metadata": {},
   "source": [
    "# Training and Test Data\n",
    "This notebook checks and prepares the final training and test data for the research task.\n",
    "## Quality Check\n",
    "This section is meant to inspect the quality of the created dataset and search for any discrepencies."
   ]
  },
  {
   "cell_type": "code",
   "execution_count": 1,
   "id": "aeb121c4",
   "metadata": {},
   "outputs": [],
   "source": [
    "import pandas as pd\n",
    "rentals_jan = pd.read_csv(r\"C:\\Users\\singh\\Desktop\\TUD (All Semesters)\\Courses - Semester 5 (TU Dresden)\\Research Task - Spatial Modelling\\Code\\rentals_with_demand_new_time_units.csv\")\n",
    "rentals_feb = pd.read_csv(r\"C:\\Users\\singh\\Desktop\\TUD (All Semesters)\\Courses - Semester 5 (TU Dresden)\\Research Task - Spatial Modelling\\Code\\rentals_with_demand_new_time_units_feb.csv\")\n",
    "rentals_mar = pd.read_csv(r\"C:\\Users\\singh\\Desktop\\TUD (All Semesters)\\Courses - Semester 5 (TU Dresden)\\Research Task - Spatial Modelling\\Code\\rentals_with_demand_new_time_units_mar.csv\")\n",
    "rentals_apr = pd.read_csv(r\"C:\\Users\\singh\\Desktop\\TUD (All Semesters)\\Courses - Semester 5 (TU Dresden)\\Research Task - Spatial Modelling\\Code\\rentals_with_demand_new_time_units_apr.csv\")"
   ]
  },
  {
   "cell_type": "code",
   "execution_count": 2,
   "id": "e66aaee9",
   "metadata": {},
   "outputs": [
    {
     "data": {
      "text/plain": [
       "Index(['name', 'lat', 'lng', 'station_id', 'datetime', '#_rentals', 'year',\n",
       "       'month', 'day', 'hour'],\n",
       "      dtype='object')"
      ]
     },
     "execution_count": 2,
     "metadata": {},
     "output_type": "execute_result"
    }
   ],
   "source": [
    "# Columns preserved\n",
    "rentals_jan.columns"
   ]
  },
  {
   "cell_type": "code",
   "execution_count": 3,
   "id": "04d1c605",
   "metadata": {},
   "outputs": [
    {
     "name": "stdout",
     "output_type": "stream",
     "text": [
      "2124 2124 2127 2125\n"
     ]
    }
   ],
   "source": [
    "# Unique stations in each dataset\n",
    "print(len(rentals_jan[\"station_id\"].unique()), len(rentals_feb[\"station_id\"].unique()), len(rentals_mar[\"station_id\"].unique()), len(rentals_apr[\"station_id\"].unique()))"
   ]
  },
  {
   "cell_type": "markdown",
   "id": "fc36c382",
   "metadata": {},
   "source": [
    "- March seems to have the most stations\n",
    "- March datset has <u>3 additional stations</u>. This means that *station_id* is not uniform and is different for the month of **March**. This is also an issue for **April**, since there is <u>one additional station</u>."
   ]
  },
  {
   "cell_type": "code",
   "execution_count": 4,
   "id": "596723a0",
   "metadata": {},
   "outputs": [
    {
     "name": "stdout",
     "output_type": "stream",
     "text": [
      "1 2 3 4\n",
      "12 2 3 4\n"
     ]
    }
   ],
   "source": [
    "# evaluating the time range for each dataset\n",
    "print(min(rentals_jan[\"month\"]), min(rentals_feb[\"month\"]), min(rentals_mar[\"month\"]), min(rentals_apr[\"month\"]))\n",
    "print(max(rentals_jan[\"month\"]), max(rentals_feb[\"month\"]), max(rentals_mar[\"month\"]), max(rentals_apr[\"month\"]))"
   ]
  },
  {
   "cell_type": "code",
   "execution_count": 5,
   "id": "08b15ee6",
   "metadata": {},
   "outputs": [
    {
     "data": {
      "text/html": [
       "<div>\n",
       "<style scoped>\n",
       "    .dataframe tbody tr th:only-of-type {\n",
       "        vertical-align: middle;\n",
       "    }\n",
       "\n",
       "    .dataframe tbody tr th {\n",
       "        vertical-align: top;\n",
       "    }\n",
       "\n",
       "    .dataframe thead th {\n",
       "        text-align: right;\n",
       "    }\n",
       "</style>\n",
       "<table border=\"1\" class=\"dataframe\">\n",
       "  <thead>\n",
       "    <tr style=\"text-align: right;\">\n",
       "      <th></th>\n",
       "      <th>name</th>\n",
       "      <th>lat</th>\n",
       "      <th>lng</th>\n",
       "      <th>station_id</th>\n",
       "      <th>datetime</th>\n",
       "      <th>#_rentals</th>\n",
       "      <th>year</th>\n",
       "      <th>month</th>\n",
       "      <th>day</th>\n",
       "      <th>hour</th>\n",
       "    </tr>\n",
       "  </thead>\n",
       "  <tbody>\n",
       "  </tbody>\n",
       "</table>\n",
       "</div>"
      ],
      "text/plain": [
       "Empty DataFrame\n",
       "Columns: [name, lat, lng, station_id, datetime, #_rentals, year, month, day, hour]\n",
       "Index: []"
      ]
     },
     "execution_count": 5,
     "metadata": {},
     "output_type": "execute_result"
    }
   ],
   "source": [
    "# Even in rentals_jan, data is only stored for Jan (in addition to 31 Dec'23)\n",
    "rentals_jan[rentals_jan[\"month\"] == 2]"
   ]
  },
  {
   "cell_type": "markdown",
   "id": "7c2f65a1",
   "metadata": {},
   "source": [
    "Data for timeline range looks good!"
   ]
  },
  {
   "cell_type": "markdown",
   "id": "b21536f2",
   "metadata": {},
   "source": [
    "## Reading station information\n",
    "Each dataset from January to April may not have the same station name and IDs. This looks especially true for March and April."
   ]
  },
  {
   "cell_type": "code",
   "execution_count": 6,
   "id": "1f23da4e",
   "metadata": {},
   "outputs": [
    {
     "data": {
      "text/plain": [
       "{2, 3}"
      ]
     },
     "execution_count": 6,
     "metadata": {},
     "output_type": "execute_result"
    }
   ],
   "source": [
    "# finding elements in A not in B\n",
    "a = [1,2,3,4]\n",
    "b = [1,4]\n",
    "\n",
    "set(a) - set(b)"
   ]
  },
  {
   "cell_type": "code",
   "execution_count": 28,
   "id": "d2df5860",
   "metadata": {},
   "outputs": [
    {
     "name": "stdout",
     "output_type": "stream",
     "text": [
      "15\n",
      "16\n",
      "26\n"
     ]
    }
   ],
   "source": [
    "# Comparing January data with remaining months\n",
    "print(len(set(rentals_jan[\"name\"]) - set(rentals_feb[\"name\"])))\n",
    "print(len(set(rentals_jan[\"name\"]) - set(rentals_mar[\"name\"])))\n",
    "print(len(set(rentals_jan[\"name\"]) - set(rentals_apr[\"name\"])))"
   ]
  },
  {
   "cell_type": "markdown",
   "id": "93bed166",
   "metadata": {},
   "source": [
    "The month of january seems to have a lot of stations that were later discontinued."
   ]
  },
  {
   "cell_type": "code",
   "execution_count": 29,
   "id": "f7afea6a",
   "metadata": {},
   "outputs": [
    {
     "name": "stdout",
     "output_type": "stream",
     "text": [
      "17\n",
      "6\n",
      "17\n"
     ]
    }
   ],
   "source": [
    "# Comparing February data with remaining months\n",
    "print(len(set(rentals_feb[\"name\"]) - set(rentals_jan[\"name\"])))\n",
    "print(len(set(rentals_feb[\"name\"]) - set(rentals_mar[\"name\"])))\n",
    "print(len(set(rentals_feb[\"name\"]) - set(rentals_apr[\"name\"])))"
   ]
  },
  {
   "cell_type": "code",
   "execution_count": 30,
   "id": "e1936e11",
   "metadata": {},
   "outputs": [
    {
     "name": "stdout",
     "output_type": "stream",
     "text": [
      "23\n",
      "11\n",
      "12\n"
     ]
    }
   ],
   "source": [
    "# Comparing March data with remaining months\n",
    "print(len(set(rentals_mar[\"name\"]) - set(rentals_jan[\"name\"])))\n",
    "print(len(set(rentals_mar[\"name\"]) - set(rentals_feb[\"name\"])))\n",
    "print(len(set(rentals_mar[\"name\"]) - set(rentals_apr[\"name\"])))"
   ]
  },
  {
   "cell_type": "code",
   "execution_count": 76,
   "id": "4d006efe",
   "metadata": {},
   "outputs": [
    {
     "data": {
      "text/plain": [
       "2088"
      ]
     },
     "execution_count": 76,
     "metadata": {},
     "output_type": "execute_result"
    }
   ],
   "source": [
    "# Number of common stations by name - all datasets\n",
    "jan_stations = set(rentals_jan[\"name\"].unique())\n",
    "feb_stations = set(rentals_feb[\"name\"].unique())\n",
    "mar_stations = set(rentals_mar[\"name\"].unique())\n",
    "apr_stations = set(rentals_apr[\"name\"].unique())\n",
    "common_stations = set.intersection(jan_stations, feb_stations, mar_stations, apr_stations)\n",
    "len(common_stations)"
   ]
  },
  {
   "cell_type": "code",
   "execution_count": 38,
   "id": "33ec0ad8",
   "metadata": {},
   "outputs": [
    {
     "data": {
      "text/plain": [
       "['E 180 St & Monterey Ave',\n",
       " '71 St & 37 Ave',\n",
       " 'Van Brunt St & Van Dyke St',\n",
       " 'Wyckoff St & 3 Ave',\n",
       " 'W 218 St & Indian Rd']"
      ]
     },
     "execution_count": 38,
     "metadata": {},
     "output_type": "execute_result"
    }
   ],
   "source": [
    "# Viewing the list\n",
    "common_stations = list(common_stations)\n",
    "common_stations[:5]"
   ]
  },
  {
   "cell_type": "markdown",
   "id": "44acad9d",
   "metadata": {},
   "source": [
    "So, there are 2088 common stations throughout the entire four-month dataset. This must be used for data uniformity. Since there are some stations missing in each month dataset, the stored *station ids* are <u>not uniform</u>. "
   ]
  },
  {
   "cell_type": "code",
   "execution_count": 43,
   "id": "d73bd93c",
   "metadata": {},
   "outputs": [
    {
     "name": "stdout",
     "output_type": "stream",
     "text": [
      "475776\n",
      "468832\n"
     ]
    }
   ],
   "source": [
    "# Comparing common records (for Jan) with Jan records\n",
    "print(len(rentals_jan))\n",
    "print(len(rentals_jan[rentals_jan[\"name\"].isin(common_stations)]))"
   ]
  },
  {
   "cell_type": "markdown",
   "id": "52a62936",
   "metadata": {},
   "source": [
    "## Combining the dataset \n",
    "The entire 4 month dataset is combined into a single dataframe, by row."
   ]
  },
  {
   "cell_type": "code",
   "execution_count": 46,
   "id": "508ab46a",
   "metadata": {},
   "outputs": [
    {
     "name": "stdout",
     "output_type": "stream",
     "text": [
      "<class 'pandas.core.frame.DataFrame'>\n",
      "RangeIndex: 1814757 entries, 0 to 1814756\n",
      "Data columns (total 10 columns):\n",
      " #   Column      Dtype  \n",
      "---  ------      -----  \n",
      " 0   name        object \n",
      " 1   lat         float64\n",
      " 2   lng         float64\n",
      " 3   station_id  int64  \n",
      " 4   datetime    object \n",
      " 5   #_rentals   int64  \n",
      " 6   year        int64  \n",
      " 7   month       int64  \n",
      " 8   day         int64  \n",
      " 9   hour        int64  \n",
      "dtypes: float64(2), int64(6), object(2)\n",
      "memory usage: 138.5+ MB\n"
     ]
    }
   ],
   "source": [
    "# combining the data\n",
    "citibike = pd.concat([rentals_jan, rentals_feb, rentals_mar, rentals_apr], axis=0, ignore_index=True)\n",
    "citibike.info()"
   ]
  },
  {
   "cell_type": "code",
   "execution_count": 47,
   "id": "44a27a2d",
   "metadata": {},
   "outputs": [
    {
     "data": {
      "text/plain": [
       "Index(['name', 'lat', 'lng', 'datetime', '#_rentals', 'year', 'month', 'day',\n",
       "       'hour'],\n",
       "      dtype='object')"
      ]
     },
     "execution_count": 47,
     "metadata": {},
     "output_type": "execute_result"
    }
   ],
   "source": [
    "# dropping the station_id column since it is irrelevant\n",
    "citibike.drop(columns=[\"station_id\"], inplace=True)\n",
    "citibike.columns"
   ]
  },
  {
   "cell_type": "code",
   "execution_count": 49,
   "id": "fd8f50ff",
   "metadata": {},
   "outputs": [
    {
     "name": "stdout",
     "output_type": "stream",
     "text": [
      "1814757\n"
     ]
    },
    {
     "data": {
      "text/plain": [
       "1785105"
      ]
     },
     "execution_count": 49,
     "metadata": {},
     "output_type": "execute_result"
    }
   ],
   "source": [
    "# rows after filtering for common stations\n",
    "print(len(citibike))\n",
    "len(citibike[citibike[\"name\"].isin(common_stations)])"
   ]
  },
  {
   "cell_type": "code",
   "execution_count": 50,
   "id": "b6d5df96",
   "metadata": {},
   "outputs": [
    {
     "data": {
      "text/plain": [
       "1785105"
      ]
     },
     "execution_count": 50,
     "metadata": {},
     "output_type": "execute_result"
    }
   ],
   "source": [
    "# filtering for common stations \n",
    "citibike = citibike[citibike[\"name\"].isin(common_stations)]\n",
    "len(citibike)"
   ]
  },
  {
   "cell_type": "code",
   "execution_count": 51,
   "id": "e2c35198",
   "metadata": {},
   "outputs": [
    {
     "name": "stdout",
     "output_type": "stream",
     "text": [
      "2088\n"
     ]
    }
   ],
   "source": [
    "# number of unique stations\n",
    "print(len(citibike[\"name\"].unique()))"
   ]
  },
  {
   "cell_type": "markdown",
   "id": "fef124ba",
   "metadata": {},
   "source": [
    "## Preparing station id\n",
    "In this dataset, a station may have the same name but slightly different coordinates. So station *name* must be **combined** with the *coordinates* to get a unique <u>station id</u>. "
   ]
  },
  {
   "cell_type": "code",
   "execution_count": 58,
   "id": "63ccaa71",
   "metadata": {},
   "outputs": [
    {
     "name": "stdout",
     "output_type": "stream",
     "text": [
      "2096\n",
      "2088\n"
     ]
    }
   ],
   "source": [
    "# Unique name-coordinate pair\n",
    "station_identifier = citibike.drop_duplicates(subset=[\"name\", \"lat\", \"lng\"])\n",
    "print(len(station_identifier))\n",
    "print(len(citibike[\"name\"].unique()))"
   ]
  },
  {
   "cell_type": "markdown",
   "id": "51f0a2b1",
   "metadata": {},
   "source": [
    "Hence, there are some stations in *citibike* with the same name but different coordinates!"
   ]
  },
  {
   "cell_type": "code",
   "execution_count": 61,
   "id": "c83c53c4",
   "metadata": {},
   "outputs": [
    {
     "data": {
      "text/html": [
       "<div>\n",
       "<style scoped>\n",
       "    .dataframe tbody tr th:only-of-type {\n",
       "        vertical-align: middle;\n",
       "    }\n",
       "\n",
       "    .dataframe tbody tr th {\n",
       "        vertical-align: top;\n",
       "    }\n",
       "\n",
       "    .dataframe thead th {\n",
       "        text-align: right;\n",
       "    }\n",
       "</style>\n",
       "<table border=\"1\" class=\"dataframe\">\n",
       "  <thead>\n",
       "    <tr style=\"text-align: right;\">\n",
       "      <th></th>\n",
       "      <th>name</th>\n",
       "      <th>lat</th>\n",
       "      <th>lng</th>\n",
       "    </tr>\n",
       "  </thead>\n",
       "  <tbody>\n",
       "    <tr>\n",
       "      <th>0</th>\n",
       "      <td>1 Ave &amp; E 110 St</td>\n",
       "      <td>40.792327</td>\n",
       "      <td>-73.938300</td>\n",
       "    </tr>\n",
       "    <tr>\n",
       "      <th>1</th>\n",
       "      <td>1 Ave &amp; E 16 St</td>\n",
       "      <td>40.732219</td>\n",
       "      <td>-73.981656</td>\n",
       "    </tr>\n",
       "    <tr>\n",
       "      <th>2</th>\n",
       "      <td>1 Ave &amp; E 18 St</td>\n",
       "      <td>40.733812</td>\n",
       "      <td>-73.980544</td>\n",
       "    </tr>\n",
       "    <tr>\n",
       "      <th>3</th>\n",
       "      <td>1 Ave &amp; E 30 St</td>\n",
       "      <td>40.741444</td>\n",
       "      <td>-73.975361</td>\n",
       "    </tr>\n",
       "    <tr>\n",
       "      <th>4</th>\n",
       "      <td>1 Ave &amp; E 39 St</td>\n",
       "      <td>40.747140</td>\n",
       "      <td>-73.971130</td>\n",
       "    </tr>\n",
       "  </tbody>\n",
       "</table>\n",
       "</div>"
      ],
      "text/plain": [
       "               name        lat        lng\n",
       "0  1 Ave & E 110 St  40.792327 -73.938300\n",
       "1   1 Ave & E 16 St  40.732219 -73.981656\n",
       "2   1 Ave & E 18 St  40.733812 -73.980544\n",
       "3   1 Ave & E 30 St  40.741444 -73.975361\n",
       "4   1 Ave & E 39 St  40.747140 -73.971130"
      ]
     },
     "execution_count": 61,
     "metadata": {},
     "output_type": "execute_result"
    }
   ],
   "source": [
    "# Preparing ID list\n",
    "ids = citibike.drop_duplicates(subset=[\"name\", \"lat\", \"lng\"], ignore_index=True)[[\"name\", \"lat\", \"lng\"]]\n",
    "ids.sort_values(by = \"name\", ignore_index=True, inplace=True)\n",
    "ids.head()"
   ]
  },
  {
   "cell_type": "code",
   "execution_count": 62,
   "id": "7546700b",
   "metadata": {},
   "outputs": [
    {
     "data": {
      "text/html": [
       "<div>\n",
       "<style scoped>\n",
       "    .dataframe tbody tr th:only-of-type {\n",
       "        vertical-align: middle;\n",
       "    }\n",
       "\n",
       "    .dataframe tbody tr th {\n",
       "        vertical-align: top;\n",
       "    }\n",
       "\n",
       "    .dataframe thead th {\n",
       "        text-align: right;\n",
       "    }\n",
       "</style>\n",
       "<table border=\"1\" class=\"dataframe\">\n",
       "  <thead>\n",
       "    <tr style=\"text-align: right;\">\n",
       "      <th></th>\n",
       "      <th>name</th>\n",
       "      <th>lat</th>\n",
       "      <th>lng</th>\n",
       "      <th>ID</th>\n",
       "    </tr>\n",
       "  </thead>\n",
       "  <tbody>\n",
       "    <tr>\n",
       "      <th>0</th>\n",
       "      <td>1 Ave &amp; E 110 St</td>\n",
       "      <td>40.792327</td>\n",
       "      <td>-73.938300</td>\n",
       "      <td>0</td>\n",
       "    </tr>\n",
       "    <tr>\n",
       "      <th>1</th>\n",
       "      <td>1 Ave &amp; E 16 St</td>\n",
       "      <td>40.732219</td>\n",
       "      <td>-73.981656</td>\n",
       "      <td>1</td>\n",
       "    </tr>\n",
       "    <tr>\n",
       "      <th>2</th>\n",
       "      <td>1 Ave &amp; E 18 St</td>\n",
       "      <td>40.733812</td>\n",
       "      <td>-73.980544</td>\n",
       "      <td>2</td>\n",
       "    </tr>\n",
       "    <tr>\n",
       "      <th>3</th>\n",
       "      <td>1 Ave &amp; E 30 St</td>\n",
       "      <td>40.741444</td>\n",
       "      <td>-73.975361</td>\n",
       "      <td>3</td>\n",
       "    </tr>\n",
       "    <tr>\n",
       "      <th>4</th>\n",
       "      <td>1 Ave &amp; E 39 St</td>\n",
       "      <td>40.747140</td>\n",
       "      <td>-73.971130</td>\n",
       "      <td>4</td>\n",
       "    </tr>\n",
       "  </tbody>\n",
       "</table>\n",
       "</div>"
      ],
      "text/plain": [
       "               name        lat        lng  ID\n",
       "0  1 Ave & E 110 St  40.792327 -73.938300   0\n",
       "1   1 Ave & E 16 St  40.732219 -73.981656   1\n",
       "2   1 Ave & E 18 St  40.733812 -73.980544   2\n",
       "3   1 Ave & E 30 St  40.741444 -73.975361   3\n",
       "4   1 Ave & E 39 St  40.747140 -73.971130   4"
      ]
     },
     "execution_count": 62,
     "metadata": {},
     "output_type": "execute_result"
    }
   ],
   "source": [
    "# Assigning IDs\n",
    "ids[\"ID\"] = range(0,len(ids))\n",
    "ids.head()"
   ]
  },
  {
   "cell_type": "code",
   "execution_count": 65,
   "id": "2fd072f8",
   "metadata": {},
   "outputs": [
    {
     "data": {
      "text/html": [
       "<div>\n",
       "<style scoped>\n",
       "    .dataframe tbody tr th:only-of-type {\n",
       "        vertical-align: middle;\n",
       "    }\n",
       "\n",
       "    .dataframe tbody tr th {\n",
       "        vertical-align: top;\n",
       "    }\n",
       "\n",
       "    .dataframe thead th {\n",
       "        text-align: right;\n",
       "    }\n",
       "</style>\n",
       "<table border=\"1\" class=\"dataframe\">\n",
       "  <thead>\n",
       "    <tr style=\"text-align: right;\">\n",
       "      <th></th>\n",
       "      <th>name</th>\n",
       "      <th>lat</th>\n",
       "      <th>lng</th>\n",
       "      <th>datetime</th>\n",
       "      <th>#_rentals</th>\n",
       "      <th>year</th>\n",
       "      <th>month</th>\n",
       "      <th>day</th>\n",
       "      <th>hour</th>\n",
       "      <th>ID_x</th>\n",
       "      <th>ID_y</th>\n",
       "    </tr>\n",
       "  </thead>\n",
       "  <tbody>\n",
       "    <tr>\n",
       "      <th>0</th>\n",
       "      <td>1 Ave &amp; E 110 St</td>\n",
       "      <td>40.792327</td>\n",
       "      <td>-73.9383</td>\n",
       "      <td>2023-12-31 08:00:00.000</td>\n",
       "      <td>0</td>\n",
       "      <td>2023</td>\n",
       "      <td>12</td>\n",
       "      <td>31</td>\n",
       "      <td>8</td>\n",
       "      <td>-</td>\n",
       "      <td>0</td>\n",
       "    </tr>\n",
       "    <tr>\n",
       "      <th>1</th>\n",
       "      <td>1 Ave &amp; E 110 St</td>\n",
       "      <td>40.792327</td>\n",
       "      <td>-73.9383</td>\n",
       "      <td>2023-12-31 10:00:00.000</td>\n",
       "      <td>0</td>\n",
       "      <td>2023</td>\n",
       "      <td>12</td>\n",
       "      <td>31</td>\n",
       "      <td>10</td>\n",
       "      <td>-</td>\n",
       "      <td>0</td>\n",
       "    </tr>\n",
       "    <tr>\n",
       "      <th>2</th>\n",
       "      <td>1 Ave &amp; E 110 St</td>\n",
       "      <td>40.792327</td>\n",
       "      <td>-73.9383</td>\n",
       "      <td>2023-12-31 12:00:00.000</td>\n",
       "      <td>0</td>\n",
       "      <td>2023</td>\n",
       "      <td>12</td>\n",
       "      <td>31</td>\n",
       "      <td>12</td>\n",
       "      <td>-</td>\n",
       "      <td>0</td>\n",
       "    </tr>\n",
       "    <tr>\n",
       "      <th>3</th>\n",
       "      <td>1 Ave &amp; E 110 St</td>\n",
       "      <td>40.792327</td>\n",
       "      <td>-73.9383</td>\n",
       "      <td>2023-12-31 14:00:00.000</td>\n",
       "      <td>0</td>\n",
       "      <td>2023</td>\n",
       "      <td>12</td>\n",
       "      <td>31</td>\n",
       "      <td>14</td>\n",
       "      <td>-</td>\n",
       "      <td>0</td>\n",
       "    </tr>\n",
       "    <tr>\n",
       "      <th>4</th>\n",
       "      <td>1 Ave &amp; E 110 St</td>\n",
       "      <td>40.792327</td>\n",
       "      <td>-73.9383</td>\n",
       "      <td>2023-12-31 16:00:00.000</td>\n",
       "      <td>0</td>\n",
       "      <td>2023</td>\n",
       "      <td>12</td>\n",
       "      <td>31</td>\n",
       "      <td>16</td>\n",
       "      <td>-</td>\n",
       "      <td>0</td>\n",
       "    </tr>\n",
       "  </tbody>\n",
       "</table>\n",
       "</div>"
      ],
      "text/plain": [
       "               name        lat      lng                 datetime  #_rentals  \\\n",
       "0  1 Ave & E 110 St  40.792327 -73.9383  2023-12-31 08:00:00.000          0   \n",
       "1  1 Ave & E 110 St  40.792327 -73.9383  2023-12-31 10:00:00.000          0   \n",
       "2  1 Ave & E 110 St  40.792327 -73.9383  2023-12-31 12:00:00.000          0   \n",
       "3  1 Ave & E 110 St  40.792327 -73.9383  2023-12-31 14:00:00.000          0   \n",
       "4  1 Ave & E 110 St  40.792327 -73.9383  2023-12-31 16:00:00.000          0   \n",
       "\n",
       "   year  month  day  hour ID_x  ID_y  \n",
       "0  2023     12   31     8    -     0  \n",
       "1  2023     12   31    10    -     0  \n",
       "2  2023     12   31    12    -     0  \n",
       "3  2023     12   31    14    -     0  \n",
       "4  2023     12   31    16    -     0  "
      ]
     },
     "execution_count": 65,
     "metadata": {},
     "output_type": "execute_result"
    }
   ],
   "source": [
    "# Merging ids with citibike data\n",
    "citibike = citibike.merge(ids, on=[\"name\", \"lat\", \"lng\"], how='left')\n",
    "citibike.head()"
   ]
  },
  {
   "cell_type": "code",
   "execution_count": 66,
   "id": "9d1907ad",
   "metadata": {},
   "outputs": [
    {
     "data": {
      "text/html": [
       "<div>\n",
       "<style scoped>\n",
       "    .dataframe tbody tr th:only-of-type {\n",
       "        vertical-align: middle;\n",
       "    }\n",
       "\n",
       "    .dataframe tbody tr th {\n",
       "        vertical-align: top;\n",
       "    }\n",
       "\n",
       "    .dataframe thead th {\n",
       "        text-align: right;\n",
       "    }\n",
       "</style>\n",
       "<table border=\"1\" class=\"dataframe\">\n",
       "  <thead>\n",
       "    <tr style=\"text-align: right;\">\n",
       "      <th></th>\n",
       "      <th>name</th>\n",
       "      <th>lat</th>\n",
       "      <th>lng</th>\n",
       "      <th>datetime</th>\n",
       "      <th>#_rentals</th>\n",
       "      <th>year</th>\n",
       "      <th>month</th>\n",
       "      <th>day</th>\n",
       "      <th>hour</th>\n",
       "      <th>ID</th>\n",
       "    </tr>\n",
       "  </thead>\n",
       "  <tbody>\n",
       "    <tr>\n",
       "      <th>0</th>\n",
       "      <td>1 Ave &amp; E 110 St</td>\n",
       "      <td>40.792327</td>\n",
       "      <td>-73.9383</td>\n",
       "      <td>2023-12-31 08:00:00.000</td>\n",
       "      <td>0</td>\n",
       "      <td>2023</td>\n",
       "      <td>12</td>\n",
       "      <td>31</td>\n",
       "      <td>8</td>\n",
       "      <td>0</td>\n",
       "    </tr>\n",
       "    <tr>\n",
       "      <th>1</th>\n",
       "      <td>1 Ave &amp; E 110 St</td>\n",
       "      <td>40.792327</td>\n",
       "      <td>-73.9383</td>\n",
       "      <td>2024-04-29 16:00:00.000</td>\n",
       "      <td>2</td>\n",
       "      <td>2024</td>\n",
       "      <td>4</td>\n",
       "      <td>29</td>\n",
       "      <td>16</td>\n",
       "      <td>0</td>\n",
       "    </tr>\n",
       "    <tr>\n",
       "      <th>2</th>\n",
       "      <td>1 Ave &amp; E 110 St</td>\n",
       "      <td>40.792327</td>\n",
       "      <td>-73.9383</td>\n",
       "      <td>2024-04-29 18:00:00.000</td>\n",
       "      <td>2</td>\n",
       "      <td>2024</td>\n",
       "      <td>4</td>\n",
       "      <td>29</td>\n",
       "      <td>18</td>\n",
       "      <td>0</td>\n",
       "    </tr>\n",
       "    <tr>\n",
       "      <th>3</th>\n",
       "      <td>1 Ave &amp; E 110 St</td>\n",
       "      <td>40.792327</td>\n",
       "      <td>-73.9383</td>\n",
       "      <td>2024-04-29 20:00:00.000</td>\n",
       "      <td>1</td>\n",
       "      <td>2024</td>\n",
       "      <td>4</td>\n",
       "      <td>29</td>\n",
       "      <td>20</td>\n",
       "      <td>0</td>\n",
       "    </tr>\n",
       "    <tr>\n",
       "      <th>4</th>\n",
       "      <td>1 Ave &amp; E 110 St</td>\n",
       "      <td>40.792327</td>\n",
       "      <td>-73.9383</td>\n",
       "      <td>2024-04-30 08:00:00.000</td>\n",
       "      <td>4</td>\n",
       "      <td>2024</td>\n",
       "      <td>4</td>\n",
       "      <td>30</td>\n",
       "      <td>8</td>\n",
       "      <td>0</td>\n",
       "    </tr>\n",
       "  </tbody>\n",
       "</table>\n",
       "</div>"
      ],
      "text/plain": [
       "               name        lat      lng                 datetime  #_rentals  \\\n",
       "0  1 Ave & E 110 St  40.792327 -73.9383  2023-12-31 08:00:00.000          0   \n",
       "1  1 Ave & E 110 St  40.792327 -73.9383  2024-04-29 16:00:00.000          2   \n",
       "2  1 Ave & E 110 St  40.792327 -73.9383  2024-04-29 18:00:00.000          2   \n",
       "3  1 Ave & E 110 St  40.792327 -73.9383  2024-04-29 20:00:00.000          1   \n",
       "4  1 Ave & E 110 St  40.792327 -73.9383  2024-04-30 08:00:00.000          4   \n",
       "\n",
       "   year  month  day  hour  ID  \n",
       "0  2023     12   31     8   0  \n",
       "1  2024      4   29    16   0  \n",
       "2  2024      4   29    18   0  \n",
       "3  2024      4   29    20   0  \n",
       "4  2024      4   30     8   0  "
      ]
     },
     "execution_count": 66,
     "metadata": {},
     "output_type": "execute_result"
    }
   ],
   "source": [
    "# Processing columns\n",
    "citibike.drop(columns=[\"ID_x\"], inplace=True)\n",
    "citibike = citibike.rename(columns={'ID_y': 'ID'})\n",
    "citibike.sort_values(by=\"name\", ignore_index=True, inplace=True)\n",
    "citibike.head()"
   ]
  },
  {
   "cell_type": "code",
   "execution_count": 68,
   "id": "28738330",
   "metadata": {},
   "outputs": [
    {
     "data": {
      "text/plain": [
       "854"
      ]
     },
     "execution_count": 68,
     "metadata": {},
     "output_type": "execute_result"
    }
   ],
   "source": [
    "# Cheking data for station: '1 Ave & E 110 St'\n",
    "len(citibike[citibike[\"name\"] == '1 Ave & E 110 St'])"
   ]
  },
  {
   "cell_type": "code",
   "execution_count": 71,
   "id": "1bf26557",
   "metadata": {},
   "outputs": [
    {
     "data": {
      "text/plain": [
       "854"
      ]
     },
     "execution_count": 71,
     "metadata": {},
     "output_type": "execute_result"
    }
   ],
   "source": [
    "# total records for station \"1 Ave & E 110 St\"\n",
    "(7*32) + (7*29) + (7*31) + (7*30)"
   ]
  },
  {
   "cell_type": "markdown",
   "id": "cd0a82d0",
   "metadata": {},
   "source": [
    "There should be 854 records for every station present in the dataset."
   ]
  },
  {
   "cell_type": "code",
   "execution_count": 81,
   "id": "0d4bd9fa",
   "metadata": {},
   "outputs": [
    {
     "data": {
      "text/plain": [
       "[854, 854, 854, 854, 854]"
      ]
     },
     "execution_count": 81,
     "metadata": {},
     "output_type": "execute_result"
    }
   ],
   "source": [
    "# for which station do we not have 854 rows?\n",
    "records = []\n",
    "for i in range(0,len(ids)):\n",
    "    records.append(len(citibike[citibike[\"ID\"] == i]))\n",
    "\n",
    "records[:5]"
   ]
  },
  {
   "cell_type": "code",
   "execution_count": 85,
   "id": "60169fb2",
   "metadata": {},
   "outputs": [
    {
     "data": {
      "text/plain": [
       "8"
      ]
     },
     "execution_count": 85,
     "metadata": {},
     "output_type": "execute_result"
    }
   ],
   "source": [
    "# there are 8 stations having less records!\n",
    "sum([j < 854 for j in records])"
   ]
  },
  {
   "cell_type": "markdown",
   "id": "3ad6296d",
   "metadata": {},
   "source": [
    "It appears that dataset is incomplete for 8 stations!"
   ]
  },
  {
   "cell_type": "code",
   "execution_count": 89,
   "id": "85631510",
   "metadata": {},
   "outputs": [
    {
     "data": {
      "text/plain": [
       "[504, 580, 846, 1028, 1310, 1759, 1938, 2019]"
      ]
     },
     "execution_count": 89,
     "metadata": {},
     "output_type": "execute_result"
    }
   ],
   "source": [
    "# Index: station ids\n",
    "[i for i, num in enumerate(records) if num < 854]"
   ]
  },
  {
   "cell_type": "code",
   "execution_count": 93,
   "id": "084daab6",
   "metadata": {},
   "outputs": [
    {
     "data": {
      "text/plain": [
       "224"
      ]
     },
     "execution_count": 93,
     "metadata": {},
     "output_type": "execute_result"
    }
   ],
   "source": [
    "# Checking for station ID: 504\n",
    "len(citibike[citibike[\"ID\"] == 504])"
   ]
  },
  {
   "cell_type": "markdown",
   "id": "8c0303bc",
   "metadata": {},
   "source": [
    "## Removing some stations\n",
    "Stations with IDs *504, 580, 846, 1028, 1310, 1759, 1938, 2019* are being removed from the dataset since complete information for these stations is not available. Retaining these stations will lead to unnecessary loss in predicition performance."
   ]
  },
  {
   "cell_type": "code",
   "execution_count": 99,
   "id": "55529e8e",
   "metadata": {},
   "outputs": [
    {
     "name": "stderr",
     "output_type": "stream",
     "text": [
      "C:\\Users\\singh\\AppData\\Local\\Temp\\ipykernel_9392\\3304325653.py:4: SettingWithCopyWarning: \n",
      "A value is trying to be set on a copy of a slice from a DataFrame\n",
      "\n",
      "See the caveats in the documentation: https://pandas.pydata.org/pandas-docs/stable/user_guide/indexing.html#returning-a-view-versus-a-copy\n",
      "  citibike.sort_values(by=\"name\", ignore_index=True, inplace=True)\n"
     ]
    },
    {
     "data": {
      "text/html": [
       "<div>\n",
       "<style scoped>\n",
       "    .dataframe tbody tr th:only-of-type {\n",
       "        vertical-align: middle;\n",
       "    }\n",
       "\n",
       "    .dataframe tbody tr th {\n",
       "        vertical-align: top;\n",
       "    }\n",
       "\n",
       "    .dataframe thead th {\n",
       "        text-align: right;\n",
       "    }\n",
       "</style>\n",
       "<table border=\"1\" class=\"dataframe\">\n",
       "  <thead>\n",
       "    <tr style=\"text-align: right;\">\n",
       "      <th></th>\n",
       "      <th>name</th>\n",
       "      <th>lat</th>\n",
       "      <th>lng</th>\n",
       "      <th>datetime</th>\n",
       "      <th>#_rentals</th>\n",
       "      <th>year</th>\n",
       "      <th>month</th>\n",
       "      <th>day</th>\n",
       "      <th>hour</th>\n",
       "      <th>ID</th>\n",
       "    </tr>\n",
       "  </thead>\n",
       "  <tbody>\n",
       "  </tbody>\n",
       "</table>\n",
       "</div>"
      ],
      "text/plain": [
       "Empty DataFrame\n",
       "Columns: [name, lat, lng, datetime, #_rentals, year, month, day, hour, ID]\n",
       "Index: []"
      ]
     },
     "execution_count": 99,
     "metadata": {},
     "output_type": "execute_result"
    }
   ],
   "source": [
    "# filtering the data\n",
    "unwanted_ids = [504, 580, 846, 1028, 1310, 1759, 1938, 2019]\n",
    "citibike = citibike[~citibike[\"ID\"].isin(unwanted_ids)]\n",
    "citibike.sort_values(by=\"name\", ignore_index=True, inplace=True)\n",
    "citibike[citibike[\"ID\"] == 504]"
   ]
  },
  {
   "cell_type": "code",
   "execution_count": 100,
   "id": "4eea4854",
   "metadata": {},
   "outputs": [
    {
     "name": "stdout",
     "output_type": "stream",
     "text": [
      "2088\n",
      "1783152\n"
     ]
    }
   ],
   "source": [
    "# Unique station remaining\n",
    "print(len(citibike[\"ID\"].unique()))\n",
    "print(len(citibike))"
   ]
  },
  {
   "cell_type": "code",
   "execution_count": 101,
   "id": "daf4d2dd",
   "metadata": {},
   "outputs": [
    {
     "data": {
      "text/plain": [
       "1783152"
      ]
     },
     "execution_count": 101,
     "metadata": {},
     "output_type": "execute_result"
    }
   ],
   "source": [
    "# Calculating total records now\n",
    "854*2088"
   ]
  },
  {
   "cell_type": "markdown",
   "id": "b85767cf",
   "metadata": {},
   "source": [
    "Hence, the dataset is correct and complete!"
   ]
  },
  {
   "cell_type": "code",
   "execution_count": 102,
   "id": "52c72b16",
   "metadata": {},
   "outputs": [],
   "source": [
    "# Exporting the final data\n",
    "citibike.to_csv(\"RENTALS.csv\", index=False)"
   ]
  }
 ],
 "metadata": {
  "kernelspec": {
   "display_name": "Python [conda env:base] *",
   "language": "python",
   "name": "conda-base-py"
  },
  "language_info": {
   "codemirror_mode": {
    "name": "ipython",
    "version": 3
   },
   "file_extension": ".py",
   "mimetype": "text/x-python",
   "name": "python",
   "nbconvert_exporter": "python",
   "pygments_lexer": "ipython3",
   "version": "3.12.7"
  }
 },
 "nbformat": 4,
 "nbformat_minor": 5
}
