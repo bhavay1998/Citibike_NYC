{
 "cells": [
  {
   "cell_type": "markdown",
   "id": "4e1fc0f0",
   "metadata": {},
   "source": [
    "# Preparing datasets: Feb'24\n",
    "This notebook is meant to generate a new dataset (only for February 2024) based on *Citibike Trip data* that can be used to determine **bike rentals** based on a <u>fixed time resolution</u>. \n",
    "\n",
    "## Preparing Trip data"
   ]
  },
  {
   "cell_type": "code",
   "execution_count": 1,
   "id": "c96a32f9",
   "metadata": {},
   "outputs": [
    {
     "name": "stderr",
     "output_type": "stream",
     "text": [
      "C:\\Users\\singh\\AppData\\Local\\Temp\\ipykernel_2552\\3061371556.py:2: DtypeWarning: Columns (5,7) have mixed types. Specify dtype option on import or set low_memory=False.\n",
      "  citi_feb_24 = pd.read_csv(\"C:/Users/singh/Desktop/TUD (All Semesters)/Courses - Semester 5 (TU Dresden)/Research Task - Spatial Modelling/Datasets/Citibike Trip Data/202402-citibike-tripdata.csv\")\n"
     ]
    },
    {
     "data": {
      "text/html": [
       "<div>\n",
       "<style scoped>\n",
       "    .dataframe tbody tr th:only-of-type {\n",
       "        vertical-align: middle;\n",
       "    }\n",
       "\n",
       "    .dataframe tbody tr th {\n",
       "        vertical-align: top;\n",
       "    }\n",
       "\n",
       "    .dataframe thead th {\n",
       "        text-align: right;\n",
       "    }\n",
       "</style>\n",
       "<table border=\"1\" class=\"dataframe\">\n",
       "  <thead>\n",
       "    <tr style=\"text-align: right;\">\n",
       "      <th></th>\n",
       "      <th>ride_id</th>\n",
       "      <th>rideable_type</th>\n",
       "      <th>started_at</th>\n",
       "      <th>ended_at</th>\n",
       "      <th>start_station_name</th>\n",
       "      <th>start_station_id</th>\n",
       "      <th>end_station_name</th>\n",
       "      <th>end_station_id</th>\n",
       "      <th>start_lat</th>\n",
       "      <th>start_lng</th>\n",
       "      <th>end_lat</th>\n",
       "      <th>end_lng</th>\n",
       "      <th>member_casual</th>\n",
       "    </tr>\n",
       "  </thead>\n",
       "  <tbody>\n",
       "    <tr>\n",
       "      <th>0</th>\n",
       "      <td>B2B980E0EAE1D6F1</td>\n",
       "      <td>classic_bike</td>\n",
       "      <td>2024-02-25 20:25:40.894</td>\n",
       "      <td>2024-02-25 20:43:58.504</td>\n",
       "      <td>Greenwich St &amp; Hubert St</td>\n",
       "      <td>5470.10</td>\n",
       "      <td>Hudson Blvd W &amp; W 36 St</td>\n",
       "      <td>6611.07</td>\n",
       "      <td>40.721319</td>\n",
       "      <td>-74.010065</td>\n",
       "      <td>40.756765</td>\n",
       "      <td>-73.999714</td>\n",
       "      <td>member</td>\n",
       "    </tr>\n",
       "    <tr>\n",
       "      <th>1</th>\n",
       "      <td>1069DDA1FED20568</td>\n",
       "      <td>classic_bike</td>\n",
       "      <td>2024-02-21 22:21:38.446</td>\n",
       "      <td>2024-02-21 22:40:12.259</td>\n",
       "      <td>Greenwich St &amp; Hubert St</td>\n",
       "      <td>5470.10</td>\n",
       "      <td>Hudson Blvd W &amp; W 36 St</td>\n",
       "      <td>6611.07</td>\n",
       "      <td>40.721319</td>\n",
       "      <td>-74.010065</td>\n",
       "      <td>40.756765</td>\n",
       "      <td>-73.999714</td>\n",
       "      <td>member</td>\n",
       "    </tr>\n",
       "    <tr>\n",
       "      <th>2</th>\n",
       "      <td>B58850AF6F2D8BD5</td>\n",
       "      <td>electric_bike</td>\n",
       "      <td>2024-02-14 08:31:14.609</td>\n",
       "      <td>2024-02-14 08:42:30.427</td>\n",
       "      <td>Mercer St &amp; Bleecker St</td>\n",
       "      <td>5679.05</td>\n",
       "      <td>W 20 St &amp; 10 Ave</td>\n",
       "      <td>6306.01</td>\n",
       "      <td>40.727068</td>\n",
       "      <td>-73.996554</td>\n",
       "      <td>40.745686</td>\n",
       "      <td>-74.005141</td>\n",
       "      <td>member</td>\n",
       "    </tr>\n",
       "    <tr>\n",
       "      <th>3</th>\n",
       "      <td>D46E6C5A69048E11</td>\n",
       "      <td>electric_bike</td>\n",
       "      <td>2024-02-05 08:42:25.999</td>\n",
       "      <td>2024-02-05 08:56:26.899</td>\n",
       "      <td>E 20 St &amp; FDR Dr</td>\n",
       "      <td>5886.13</td>\n",
       "      <td>E 74 St &amp; 1 Ave</td>\n",
       "      <td>6953.08</td>\n",
       "      <td>40.733155</td>\n",
       "      <td>-73.975561</td>\n",
       "      <td>40.768974</td>\n",
       "      <td>-73.954823</td>\n",
       "      <td>member</td>\n",
       "    </tr>\n",
       "    <tr>\n",
       "      <th>4</th>\n",
       "      <td>707AF4CF2C7834C2</td>\n",
       "      <td>electric_bike</td>\n",
       "      <td>2024-02-08 11:13:15.969</td>\n",
       "      <td>2024-02-08 11:18:44.259</td>\n",
       "      <td>E 20 St &amp; FDR Dr</td>\n",
       "      <td>5886.13</td>\n",
       "      <td>Pitt St &amp; Stanton St</td>\n",
       "      <td>5406.04</td>\n",
       "      <td>40.733184</td>\n",
       "      <td>-73.975525</td>\n",
       "      <td>40.719261</td>\n",
       "      <td>-73.981780</td>\n",
       "      <td>member</td>\n",
       "    </tr>\n",
       "  </tbody>\n",
       "</table>\n",
       "</div>"
      ],
      "text/plain": [
       "            ride_id  rideable_type               started_at  \\\n",
       "0  B2B980E0EAE1D6F1   classic_bike  2024-02-25 20:25:40.894   \n",
       "1  1069DDA1FED20568   classic_bike  2024-02-21 22:21:38.446   \n",
       "2  B58850AF6F2D8BD5  electric_bike  2024-02-14 08:31:14.609   \n",
       "3  D46E6C5A69048E11  electric_bike  2024-02-05 08:42:25.999   \n",
       "4  707AF4CF2C7834C2  electric_bike  2024-02-08 11:13:15.969   \n",
       "\n",
       "                  ended_at        start_station_name start_station_id  \\\n",
       "0  2024-02-25 20:43:58.504  Greenwich St & Hubert St          5470.10   \n",
       "1  2024-02-21 22:40:12.259  Greenwich St & Hubert St          5470.10   \n",
       "2  2024-02-14 08:42:30.427   Mercer St & Bleecker St          5679.05   \n",
       "3  2024-02-05 08:56:26.899          E 20 St & FDR Dr          5886.13   \n",
       "4  2024-02-08 11:18:44.259          E 20 St & FDR Dr          5886.13   \n",
       "\n",
       "          end_station_name end_station_id  start_lat  start_lng    end_lat  \\\n",
       "0  Hudson Blvd W & W 36 St        6611.07  40.721319 -74.010065  40.756765   \n",
       "1  Hudson Blvd W & W 36 St        6611.07  40.721319 -74.010065  40.756765   \n",
       "2         W 20 St & 10 Ave        6306.01  40.727068 -73.996554  40.745686   \n",
       "3          E 74 St & 1 Ave        6953.08  40.733155 -73.975561  40.768974   \n",
       "4     Pitt St & Stanton St        5406.04  40.733184 -73.975525  40.719261   \n",
       "\n",
       "     end_lng member_casual  \n",
       "0 -73.999714        member  \n",
       "1 -73.999714        member  \n",
       "2 -74.005141        member  \n",
       "3 -73.954823        member  \n",
       "4 -73.981780        member  "
      ]
     },
     "execution_count": 1,
     "metadata": {},
     "output_type": "execute_result"
    }
   ],
   "source": [
    "import pandas as pd\n",
    "citi_feb_24 = pd.read_csv(\"C:/Users/singh/Desktop/TUD (All Semesters)/Courses - Semester 5 (TU Dresden)/Research Task - Spatial Modelling/Datasets/Citibike Trip Data/202402-citibike-tripdata.csv\")\n",
    "citi_feb_24.head()"
   ]
  },
  {
   "cell_type": "code",
   "execution_count": 3,
   "id": "c69d7003",
   "metadata": {},
   "outputs": [
    {
     "data": {
      "text/plain": [
       "1866"
      ]
     },
     "execution_count": 3,
     "metadata": {},
     "output_type": "execute_result"
    }
   ],
   "source": [
    "# There are NaN values in the dataset\n",
    "sum(citi_feb_24[\"start_station_name\"].isna())"
   ]
  },
  {
   "cell_type": "code",
   "execution_count": 7,
   "id": "60c9f921",
   "metadata": {},
   "outputs": [
    {
     "data": {
      "text/plain": [
       "array(['electric_bike'], dtype=object)"
      ]
     },
     "execution_count": 7,
     "metadata": {},
     "output_type": "execute_result"
    }
   ],
   "source": [
    "# Stations are not defined only where 'electric bikes' are used\n",
    "citi_feb_24[citi_feb_24[\"start_station_name\"].isna()][\"rideable_type\"].unique()"
   ]
  },
  {
   "cell_type": "code",
   "execution_count": 8,
   "id": "06c90089",
   "metadata": {},
   "outputs": [
    {
     "data": {
      "text/plain": [
       "0"
      ]
     },
     "execution_count": 8,
     "metadata": {},
     "output_type": "execute_result"
    }
   ],
   "source": [
    "# If the dataset is filtered for 'classic bikes' all starting stations should be visible\n",
    "sum(citi_feb_24[citi_feb_24[\"rideable_type\"] == \"classic_bike\"][\"start_station_name\"].isna())"
   ]
  },
  {
   "cell_type": "code",
   "execution_count": 10,
   "id": "e39c824d",
   "metadata": {},
   "outputs": [
    {
     "data": {
      "text/plain": [
       "array(['classic_bike'], dtype=object)"
      ]
     },
     "execution_count": 10,
     "metadata": {},
     "output_type": "execute_result"
    }
   ],
   "source": [
    "# filtering the dataset\n",
    "cbikes = citi_feb_24[citi_feb_24[\"rideable_type\"] == \"classic_bike\"]\n",
    "cbikes[\"rideable_type\"].unique()"
   ]
  },
  {
   "cell_type": "code",
   "execution_count": 11,
   "id": "2621ab9e",
   "metadata": {},
   "outputs": [
    {
     "name": "stdout",
     "output_type": "stream",
     "text": [
      "753520 753520\n"
     ]
    }
   ],
   "source": [
    "# reducing columns\n",
    "cbikes = cbikes[[\"ride_id\", \"started_at\", \"ended_at\", \"start_station_name\", \"start_station_id\", \"end_station_name\", \"end_station_id\", \"start_lat\", \"start_lng\", \"end_lat\", \"end_lng\"]]\n",
    "\n",
    "# ride_id can be used to count trips\n",
    "print(len(cbikes), len(cbikes[\"ride_id\"].unique()))"
   ]
  },
  {
   "cell_type": "markdown",
   "id": "880e9b1a",
   "metadata": {},
   "source": [
    "Instead of relying on station_ids provided by **Citibike**, the manually constructed IDs can be entered in dataset. This will make it easy for referencing and connecting *rentals* table below with this original filtered dataset.<br><br>\n",
    "<u>Note</u>: Original filtered dataset means data for classic bikes where NaN values and redundant columns are removed i.e. **cbikes** dataframe."
   ]
  },
  {
   "cell_type": "code",
   "execution_count": 13,
   "id": "7538f233",
   "metadata": {},
   "outputs": [
    {
     "name": "stdout",
     "output_type": "stream",
     "text": [
      "2124\n"
     ]
    },
    {
     "data": {
      "text/html": [
       "<div>\n",
       "<style scoped>\n",
       "    .dataframe tbody tr th:only-of-type {\n",
       "        vertical-align: middle;\n",
       "    }\n",
       "\n",
       "    .dataframe tbody tr th {\n",
       "        vertical-align: top;\n",
       "    }\n",
       "\n",
       "    .dataframe thead th {\n",
       "        text-align: right;\n",
       "    }\n",
       "</style>\n",
       "<table border=\"1\" class=\"dataframe\">\n",
       "  <thead>\n",
       "    <tr style=\"text-align: right;\">\n",
       "      <th></th>\n",
       "      <th>ride_id</th>\n",
       "      <th>started_at</th>\n",
       "      <th>start_station_name</th>\n",
       "      <th>station_id</th>\n",
       "      <th>start_lat</th>\n",
       "      <th>start_lng</th>\n",
       "    </tr>\n",
       "  </thead>\n",
       "  <tbody>\n",
       "    <tr>\n",
       "      <th>0</th>\n",
       "      <td>B2B980E0EAE1D6F1</td>\n",
       "      <td>2024-02-25 20:25:40.894</td>\n",
       "      <td>Greenwich St &amp; Hubert St</td>\n",
       "      <td>1258</td>\n",
       "      <td>40.721319</td>\n",
       "      <td>-74.010065</td>\n",
       "    </tr>\n",
       "    <tr>\n",
       "      <th>1</th>\n",
       "      <td>1069DDA1FED20568</td>\n",
       "      <td>2024-02-21 22:21:38.446</td>\n",
       "      <td>Greenwich St &amp; Hubert St</td>\n",
       "      <td>1258</td>\n",
       "      <td>40.721319</td>\n",
       "      <td>-74.010065</td>\n",
       "    </tr>\n",
       "    <tr>\n",
       "      <th>2</th>\n",
       "      <td>D1D8AD3420FF1023</td>\n",
       "      <td>2024-02-08 08:40:29.551</td>\n",
       "      <td>E 22 St &amp; 2 Ave</td>\n",
       "      <td>1005</td>\n",
       "      <td>40.737169</td>\n",
       "      <td>-73.981225</td>\n",
       "    </tr>\n",
       "    <tr>\n",
       "      <th>3</th>\n",
       "      <td>F3F683675DEFAD69</td>\n",
       "      <td>2024-02-22 15:02:53.380</td>\n",
       "      <td>Grand Concourse &amp; E 205 St</td>\n",
       "      <td>1238</td>\n",
       "      <td>40.875531</td>\n",
       "      <td>-73.886386</td>\n",
       "    </tr>\n",
       "    <tr>\n",
       "      <th>4</th>\n",
       "      <td>89C20366C7C4DFC6</td>\n",
       "      <td>2024-02-22 08:31:11.656</td>\n",
       "      <td>E 106 St &amp; Madison Ave</td>\n",
       "      <td>904</td>\n",
       "      <td>40.793434</td>\n",
       "      <td>-73.949450</td>\n",
       "    </tr>\n",
       "  </tbody>\n",
       "</table>\n",
       "</div>"
      ],
      "text/plain": [
       "            ride_id               started_at          start_station_name  \\\n",
       "0  B2B980E0EAE1D6F1  2024-02-25 20:25:40.894    Greenwich St & Hubert St   \n",
       "1  1069DDA1FED20568  2024-02-21 22:21:38.446    Greenwich St & Hubert St   \n",
       "2  D1D8AD3420FF1023  2024-02-08 08:40:29.551             E 22 St & 2 Ave   \n",
       "3  F3F683675DEFAD69  2024-02-22 15:02:53.380  Grand Concourse & E 205 St   \n",
       "4  89C20366C7C4DFC6  2024-02-22 08:31:11.656      E 106 St & Madison Ave   \n",
       "\n",
       "   station_id  start_lat  start_lng  \n",
       "0        1258  40.721319 -74.010065  \n",
       "1        1258  40.721319 -74.010065  \n",
       "2        1005  40.737169 -73.981225  \n",
       "3        1238  40.875531 -73.886386  \n",
       "4         904  40.793434 -73.949450  "
      ]
     },
     "execution_count": 13,
     "metadata": {},
     "output_type": "execute_result"
    }
   ],
   "source": [
    "# Copying cbikes df\n",
    "cbikes_altered = cbikes.copy()\n",
    "\n",
    "# Merging the two dfs\n",
    "new_df = pd.merge(\n",
    "    left=cbikes_altered, \n",
    "    right=rentals,\n",
    "    how='left',\n",
    "    left_on=['start_station_name', 'start_lat', 'start_lng'],\n",
    "    right_on=['name', 'lat', 'lng'],\n",
    ")\n",
    "\n",
    "# Preserving bike trip info only with the starting station info\n",
    "cbikes_altered = new_df[[\"ride_id\", \"started_at\", \"start_station_name\", \"station_id\", \"start_lat\", \"start_lng\"]]\n",
    "\n",
    "# Checking validity\n",
    "print(len(cbikes_altered[\"station_id\"].unique()))\n",
    "cbikes_altered.head()"
   ]
  },
  {
   "cell_type": "code",
   "execution_count": 14,
   "id": "b384df9b",
   "metadata": {},
   "outputs": [],
   "source": [
    "# exporting to 'C:\\Users\\singh\\Desktop\\TUD (All Semesters)\\Courses - Semester 5 (TU Dresden)\\Research Task - Spatial Modelling\\Code'\n",
    "cbikes_altered.to_csv(\"Tripdata_with_manual_ids_feb.csv\", index=False)"
   ]
  },
  {
   "cell_type": "code",
   "execution_count": 17,
   "id": "1fa2b05a",
   "metadata": {},
   "outputs": [
    {
     "data": {
      "text/plain": [
       "'2024-01-30 23:04:35.828'"
      ]
     },
     "execution_count": 17,
     "metadata": {},
     "output_type": "execute_result"
    }
   ],
   "source": [
    "# The trip data contains some information about Jan - should be removed\n",
    "min(cbikes_altered[\"started_at\"])"
   ]
  },
  {
   "cell_type": "markdown",
   "id": "5a64c4e8",
   "metadata": {},
   "source": [
    "## Creating Rentals Template\n",
    "The new template should contain stations with their location and time information included. Each row represents <u> one unit of chosen time resolution</u>.\n",
    "<br><br>\n",
    "**NOTE:** Station ID needs to be retained because there are some stations with the same name but slightly different locations!\n",
    "<br><br>\n",
    "In the dataset, some IDs are stored as text and others are stored as numbers. Converting th data type to *string* does not work because **\\n** and some other text is being added automatically.\n",
    "<br><br>\n",
    "**Solution:**<br>\n",
    "The stations can be manually given unique ids for the purpose of indentification."
   ]
  },
  {
   "cell_type": "code",
   "execution_count": 12,
   "id": "77123052",
   "metadata": {},
   "outputs": [
    {
     "name": "stdout",
     "output_type": "stream",
     "text": [
      "2124 2124\n"
     ]
    }
   ],
   "source": [
    "# Creating the new dataset\n",
    "rentals = pd.DataFrame()\n",
    "rentals[[\"name\", \"lat\", \"lng\"]] = cbikes[[\"start_station_name\", \"start_lat\", \"start_lng\"]].drop_duplicates()\n",
    "rentals = rentals.sort_values(by = [\"name\"], ignore_index=True)\n",
    "\n",
    "# Adding IDs manually\n",
    "rentals[\"station_id\"] = range(len(rentals))\n",
    "\n",
    "# Verifying the number of stations\n",
    "print(len(cbikes[[\"start_station_name\", \"start_lat\", \"start_lng\"]].drop_duplicates()), len(rentals[\"station_id\"]))"
   ]
  },
  {
   "cell_type": "markdown",
   "id": "1e3050c7",
   "metadata": {},
   "source": [
    "## Defining time resolution\n",
    "Here time units are defined that will later be merged with the *rentals* template."
   ]
  },
  {
   "cell_type": "code",
   "execution_count": 20,
   "id": "9c6a4a25",
   "metadata": {},
   "outputs": [
    {
     "data": {
      "text/plain": [
       "['2024-02-01', '2024-02-02', '2024-02-03', '2024-02-04', '2024-02-05']"
      ]
     },
     "execution_count": 20,
     "metadata": {},
     "output_type": "execute_result"
    }
   ],
   "source": [
    "# importing the data\n",
    "import pandas as pd\n",
    "cbikes_altered = pd.read_csv(\"C:/Users/singh/Desktop/TUD (All Semesters)/Courses - Semester 5 (TU Dresden)/Research Task - Spatial Modelling/Code/Tripdata_with_manual_ids_feb.csv\")\n",
    "\n",
    "# defining the 7 time units for a given date\n",
    "time_res = ['08:00:00.000', '10:00:00.000', '12:00:00.000', '14:00:00.000', '16:00:00.000', '18:00:00.000', '20:00:00.000']\n",
    "\n",
    "# repeating time units 29 times - till 29 Feb\n",
    "time_res = time_res*29\n",
    "\n",
    "# creating dates\n",
    "dates_included = []\n",
    "while len(dates_included) < 29:\n",
    "    dates_included.append('2024-02-01')\n",
    "\n",
    "# days list\n",
    "nums = ['01', '02','03','04','05','06','07','08','09','10','11','12','13','14','15','16','17','18','19','20','21','22','23','24','25','26','27','28','29']\n",
    "\n",
    "# correcting days\n",
    "for i in range(len(nums)):\n",
    "    dates_included[i] = dates_included[i][:-2] + nums[i]\n",
    "\n",
    "dates_included[:5]"
   ]
  },
  {
   "cell_type": "markdown",
   "id": "d1aadeb1",
   "metadata": {},
   "source": [
    "Now, we are supposed to combine the date and the time information together. Each day has 7 time units, so each day must be repeated 7 times to accodomate the time resolution."
   ]
  },
  {
   "cell_type": "code",
   "execution_count": 22,
   "id": "a7fa1721",
   "metadata": {},
   "outputs": [
    {
     "data": {
      "text/plain": [
       "['2024-02-01 08:00:00.000',\n",
       " '2024-02-01 10:00:00.000',\n",
       " '2024-02-01 12:00:00.000',\n",
       " '2024-02-01 14:00:00.000',\n",
       " '2024-02-01 16:00:00.000',\n",
       " '2024-02-01 18:00:00.000',\n",
       " '2024-02-01 20:00:00.000']"
      ]
     },
     "execution_count": 22,
     "metadata": {},
     "output_type": "execute_result"
    }
   ],
   "source": [
    "# repeating each element 7 times\n",
    "dates_included = [element for element in dates_included for _ in range(7)]\n",
    "\n",
    "# Adding time dimension\n",
    "date_time = dates_included.copy()\n",
    "\n",
    "for t in range(0,len(dates_included)):\n",
    "    date_time[t] = dates_included[t] + ' ' + time_res[t]\n",
    "\n",
    "date_time[:7]"
   ]
  },
  {
   "cell_type": "markdown",
   "id": "ece99381",
   "metadata": {},
   "source": [
    "## Adding time dimensionality to the *rentals* template\n",
    "A time resolution needs to be added so that number of rentals can be calculated in terms of that time unit, per station."
   ]
  },
  {
   "cell_type": "code",
   "execution_count": 23,
   "id": "fc144d23",
   "metadata": {},
   "outputs": [
    {
     "data": {
      "text/plain": [
       "203"
      ]
     },
     "execution_count": 23,
     "metadata": {},
     "output_type": "execute_result"
    }
   ],
   "source": [
    "# rows needed for each station\n",
    "len(date_time)"
   ]
  },
  {
   "cell_type": "code",
   "execution_count": 24,
   "id": "b1f0e036",
   "metadata": {},
   "outputs": [
    {
     "data": {
      "text/html": [
       "<div>\n",
       "<style scoped>\n",
       "    .dataframe tbody tr th:only-of-type {\n",
       "        vertical-align: middle;\n",
       "    }\n",
       "\n",
       "    .dataframe tbody tr th {\n",
       "        vertical-align: top;\n",
       "    }\n",
       "\n",
       "    .dataframe thead th {\n",
       "        text-align: right;\n",
       "    }\n",
       "</style>\n",
       "<table border=\"1\" class=\"dataframe\">\n",
       "  <thead>\n",
       "    <tr style=\"text-align: right;\">\n",
       "      <th></th>\n",
       "      <th>name</th>\n",
       "      <th>lat</th>\n",
       "      <th>lng</th>\n",
       "      <th>station_id</th>\n",
       "      <th>datetime</th>\n",
       "    </tr>\n",
       "  </thead>\n",
       "  <tbody>\n",
       "    <tr>\n",
       "      <th>0</th>\n",
       "      <td>1 Ave &amp; E 110 St</td>\n",
       "      <td>40.792327</td>\n",
       "      <td>-73.9383</td>\n",
       "      <td>0</td>\n",
       "      <td>2024-02-01 08:00:00.000</td>\n",
       "    </tr>\n",
       "    <tr>\n",
       "      <th>1</th>\n",
       "      <td>1 Ave &amp; E 110 St</td>\n",
       "      <td>40.792327</td>\n",
       "      <td>-73.9383</td>\n",
       "      <td>0</td>\n",
       "      <td>2024-02-01 10:00:00.000</td>\n",
       "    </tr>\n",
       "    <tr>\n",
       "      <th>2</th>\n",
       "      <td>1 Ave &amp; E 110 St</td>\n",
       "      <td>40.792327</td>\n",
       "      <td>-73.9383</td>\n",
       "      <td>0</td>\n",
       "      <td>2024-02-01 12:00:00.000</td>\n",
       "    </tr>\n",
       "    <tr>\n",
       "      <th>3</th>\n",
       "      <td>1 Ave &amp; E 110 St</td>\n",
       "      <td>40.792327</td>\n",
       "      <td>-73.9383</td>\n",
       "      <td>0</td>\n",
       "      <td>2024-02-01 14:00:00.000</td>\n",
       "    </tr>\n",
       "    <tr>\n",
       "      <th>4</th>\n",
       "      <td>1 Ave &amp; E 110 St</td>\n",
       "      <td>40.792327</td>\n",
       "      <td>-73.9383</td>\n",
       "      <td>0</td>\n",
       "      <td>2024-02-01 16:00:00.000</td>\n",
       "    </tr>\n",
       "  </tbody>\n",
       "</table>\n",
       "</div>"
      ],
      "text/plain": [
       "               name        lat      lng  station_id                 datetime\n",
       "0  1 Ave & E 110 St  40.792327 -73.9383           0  2024-02-01 08:00:00.000\n",
       "1  1 Ave & E 110 St  40.792327 -73.9383           0  2024-02-01 10:00:00.000\n",
       "2  1 Ave & E 110 St  40.792327 -73.9383           0  2024-02-01 12:00:00.000\n",
       "3  1 Ave & E 110 St  40.792327 -73.9383           0  2024-02-01 14:00:00.000\n",
       "4  1 Ave & E 110 St  40.792327 -73.9383           0  2024-02-01 16:00:00.000"
      ]
     },
     "execution_count": 24,
     "metadata": {},
     "output_type": "execute_result"
    }
   ],
   "source": [
    "# duplicating each station 203 times\n",
    "rentals = rentals.loc[rentals.index.repeat(203)].reset_index(drop=True)\n",
    "\n",
    "# Repeating date_time: 2124 unique stations\n",
    "date_time = date_time*2124\n",
    "rentals[\"datetime\"] = date_time\n",
    "rentals.head()"
   ]
  },
  {
   "cell_type": "code",
   "execution_count": 25,
   "id": "1bf18113",
   "metadata": {},
   "outputs": [
    {
     "data": {
      "text/plain": [
       "431172"
      ]
     },
     "execution_count": 25,
     "metadata": {},
     "output_type": "execute_result"
    }
   ],
   "source": [
    "len(rentals)"
   ]
  },
  {
   "cell_type": "markdown",
   "id": "dd7846c0",
   "metadata": {},
   "source": [
    "## Calculating Demand\n",
    "The rentals are calculated for every time unit, per day per station. The dataset is being prepared only until 29 February 2024."
   ]
  },
  {
   "cell_type": "code",
   "execution_count": 26,
   "id": "4bbd4401",
   "metadata": {},
   "outputs": [
    {
     "data": {
      "text/html": [
       "<div>\n",
       "<style scoped>\n",
       "    .dataframe tbody tr th:only-of-type {\n",
       "        vertical-align: middle;\n",
       "    }\n",
       "\n",
       "    .dataframe tbody tr th {\n",
       "        vertical-align: top;\n",
       "    }\n",
       "\n",
       "    .dataframe thead th {\n",
       "        text-align: right;\n",
       "    }\n",
       "</style>\n",
       "<table border=\"1\" class=\"dataframe\">\n",
       "  <thead>\n",
       "    <tr style=\"text-align: right;\">\n",
       "      <th></th>\n",
       "      <th>name</th>\n",
       "      <th>lat</th>\n",
       "      <th>lng</th>\n",
       "      <th>station_id</th>\n",
       "      <th>datetime</th>\n",
       "      <th>#_rentals</th>\n",
       "    </tr>\n",
       "  </thead>\n",
       "  <tbody>\n",
       "    <tr>\n",
       "      <th>0</th>\n",
       "      <td>1 Ave &amp; E 110 St</td>\n",
       "      <td>40.792327</td>\n",
       "      <td>-73.9383</td>\n",
       "      <td>0</td>\n",
       "      <td>2024-02-01 08:00:00.000</td>\n",
       "      <td>0</td>\n",
       "    </tr>\n",
       "    <tr>\n",
       "      <th>1</th>\n",
       "      <td>1 Ave &amp; E 110 St</td>\n",
       "      <td>40.792327</td>\n",
       "      <td>-73.9383</td>\n",
       "      <td>0</td>\n",
       "      <td>2024-02-01 10:00:00.000</td>\n",
       "      <td>0</td>\n",
       "    </tr>\n",
       "    <tr>\n",
       "      <th>2</th>\n",
       "      <td>1 Ave &amp; E 110 St</td>\n",
       "      <td>40.792327</td>\n",
       "      <td>-73.9383</td>\n",
       "      <td>0</td>\n",
       "      <td>2024-02-01 12:00:00.000</td>\n",
       "      <td>0</td>\n",
       "    </tr>\n",
       "    <tr>\n",
       "      <th>3</th>\n",
       "      <td>1 Ave &amp; E 110 St</td>\n",
       "      <td>40.792327</td>\n",
       "      <td>-73.9383</td>\n",
       "      <td>0</td>\n",
       "      <td>2024-02-01 14:00:00.000</td>\n",
       "      <td>0</td>\n",
       "    </tr>\n",
       "    <tr>\n",
       "      <th>4</th>\n",
       "      <td>1 Ave &amp; E 110 St</td>\n",
       "      <td>40.792327</td>\n",
       "      <td>-73.9383</td>\n",
       "      <td>0</td>\n",
       "      <td>2024-02-01 16:00:00.000</td>\n",
       "      <td>0</td>\n",
       "    </tr>\n",
       "  </tbody>\n",
       "</table>\n",
       "</div>"
      ],
      "text/plain": [
       "               name        lat      lng  station_id                 datetime  \\\n",
       "0  1 Ave & E 110 St  40.792327 -73.9383           0  2024-02-01 08:00:00.000   \n",
       "1  1 Ave & E 110 St  40.792327 -73.9383           0  2024-02-01 10:00:00.000   \n",
       "2  1 Ave & E 110 St  40.792327 -73.9383           0  2024-02-01 12:00:00.000   \n",
       "3  1 Ave & E 110 St  40.792327 -73.9383           0  2024-02-01 14:00:00.000   \n",
       "4  1 Ave & E 110 St  40.792327 -73.9383           0  2024-02-01 16:00:00.000   \n",
       "\n",
       "   #_rentals  \n",
       "0          0  \n",
       "1          0  \n",
       "2          0  \n",
       "3          0  \n",
       "4          0  "
      ]
     },
     "execution_count": 26,
     "metadata": {},
     "output_type": "execute_result"
    }
   ],
   "source": [
    "# importing\n",
    "tripdata = pd.read_csv(\"C:/Users/singh/Desktop/TUD (All Semesters)/Courses - Semester 5 (TU Dresden)/Research Task - Spatial Modelling/Code/Tripdata_with_manual_ids_feb.csv\")\n",
    "\n",
    "# adding a rentals column \n",
    "rentals['#_rentals'] = 0\n",
    "\n",
    "rentals.head()"
   ]
  },
  {
   "cell_type": "code",
   "execution_count": 27,
   "id": "2ddae012",
   "metadata": {},
   "outputs": [],
   "source": [
    "# Updating the rentals dataset\n",
    "rentals['year'] = pd.Series([x.date().year for x in pd.to_datetime(rentals[\"datetime\"])])\n",
    "rentals['month'] = pd.Series([x.date().month for x in pd.to_datetime(rentals[\"datetime\"])])\n",
    "rentals['day'] = pd.Series([x.date().day for x in pd.to_datetime(rentals[\"datetime\"])])\n",
    "\n",
    "rentals['hour'] = pd.Series([x.time().hour for x in pd.to_datetime(rentals[\"datetime\"])])\n",
    "rentals['minute'] = pd.Series([x.time().minute for x in pd.to_datetime(rentals[\"datetime\"])])\n",
    "rentals['second'] = pd.Series([x.time().second for x in pd.to_datetime(rentals[\"datetime\"])])\n",
    "rentals['microsecond'] = pd.Series([x.time().microsecond for x in pd.to_datetime(rentals[\"datetime\"])])\n",
    "\n",
    "# Updating the trips dataset\n",
    "tripdata['started_at_year'] = pd.Series([x.date().year for x in pd.to_datetime(tripdata[\"started_at\"])])\n",
    "tripdata['started_at_month'] = pd.Series([x.date().month for x in pd.to_datetime(tripdata[\"started_at\"])])\n",
    "tripdata['started_at_day'] = pd.Series([x.date().day for x in pd.to_datetime(tripdata[\"started_at\"])])\n",
    "\n",
    "tripdata['started_at_hour'] = pd.Series([x.time().hour for x in pd.to_datetime(tripdata[\"started_at\"])])\n",
    "tripdata['started_at_minute'] = pd.Series([x.time().minute for x in pd.to_datetime(tripdata[\"started_at\"])])\n",
    "tripdata['started_at_second'] = pd.Series([x.time().second for x in pd.to_datetime(tripdata[\"started_at\"])])\n",
    "tripdata['started_at_microsecond'] = pd.Series([x.time().microsecond for x in pd.to_datetime(tripdata[\"started_at\"])])"
   ]
  },
  {
   "cell_type": "code",
   "execution_count": 31,
   "id": "41d66403",
   "metadata": {},
   "outputs": [
    {
     "data": {
      "text/plain": [
       "1"
      ]
     },
     "execution_count": 31,
     "metadata": {},
     "output_type": "execute_result"
    }
   ],
   "source": [
    "# The tripdata has some misleading Jan data that should be removed\n",
    "min(tripdata[\"started_at_month\"])"
   ]
  },
  {
   "cell_type": "code",
   "execution_count": 32,
   "id": "70777c01",
   "metadata": {},
   "outputs": [
    {
     "data": {
      "text/plain": [
       "2"
      ]
     },
     "execution_count": 32,
     "metadata": {},
     "output_type": "execute_result"
    }
   ],
   "source": [
    "# After Correction\n",
    "tripdata = tripdata[tripdata[\"started_at_month\"] > 1]\n",
    "min(tripdata[\"started_at_month\"])"
   ]
  },
  {
   "cell_type": "code",
   "execution_count": 33,
   "id": "568f6db5",
   "metadata": {},
   "outputs": [],
   "source": [
    "# Calculating demand from tripdata for Feb 2024\n",
    "for k in range(1, 30):\n",
    "    \n",
    "    # determining demand for 2024; 08-10hrs\n",
    "    for i in rentals[\"station_id\"].unique():\n",
    "        idx = (rentals[\"station_id\"] == i) & (rentals[\"year\"] == 2024) & (rentals[\"hour\"] == 8) & (rentals[\"day\"] == k)\n",
    "        rentals.loc[idx, \"#_rentals\"] = len(tripdata[(tripdata[\"started_at_year\"] == 2024) & (tripdata[\"started_at_day\"] == k) & (tripdata[\"started_at_hour\"] < 10) & (tripdata[\"started_at_hour\"] >= 8) & (tripdata[\"station_id\"] == i)])\n",
    "        \n",
    "    # determining demand for 2024; 10-12hrs\n",
    "    for i in rentals[\"station_id\"].unique():\n",
    "        idx = (rentals[\"station_id\"] == i) & (rentals[\"year\"] == 2024) & (rentals[\"hour\"] == 10) & (rentals[\"day\"] == k)\n",
    "        rentals.loc[idx, \"#_rentals\"] = len(tripdata[(tripdata[\"started_at_year\"] == 2024) & (tripdata[\"started_at_day\"] == k) & (tripdata[\"started_at_hour\"] >= 10) & (tripdata[\"started_at_hour\"] < 12) & (tripdata[\"station_id\"] == i)])\n",
    "        \n",
    "    # determining demand for 2024; 12-14hrs\n",
    "    for i in rentals[\"station_id\"].unique():\n",
    "        idx = (rentals[\"station_id\"] == i) & (rentals[\"year\"] == 2024) & (rentals[\"hour\"] == 12) & (rentals[\"day\"] == k)\n",
    "        rentals.loc[idx, \"#_rentals\"] = len(tripdata[(tripdata[\"started_at_year\"] == 2024) & (tripdata[\"started_at_day\"] == k) & (tripdata[\"started_at_hour\"] >= 12) & (tripdata[\"started_at_hour\"] < 14) & (tripdata[\"station_id\"] == i)])\n",
    "        \n",
    "    # determining demand for 2024; 14-16hrs\n",
    "    for i in rentals[\"station_id\"].unique():\n",
    "        idx = (rentals[\"station_id\"] == i) & (rentals[\"year\"] == 2024) & (rentals[\"hour\"] == 14) & (rentals[\"day\"] == k)\n",
    "        rentals.loc[idx, \"#_rentals\"] = len(tripdata[(tripdata[\"started_at_year\"] == 2024) & (tripdata[\"started_at_day\"] == k) & (tripdata[\"started_at_hour\"] >= 14) & (tripdata[\"started_at_hour\"] < 16) & (tripdata[\"station_id\"] == i)])\n",
    "        \n",
    "    # determining demand for 2024; 16-18hrs\n",
    "    for i in rentals[\"station_id\"].unique():\n",
    "        idx = (rentals[\"station_id\"] == i) & (rentals[\"year\"] == 2024) & (rentals[\"hour\"] == 16) & (rentals[\"day\"] == k)\n",
    "        rentals.loc[idx, \"#_rentals\"] = len(tripdata[(tripdata[\"started_at_year\"] == 2024) & (tripdata[\"started_at_day\"] == k) & (tripdata[\"started_at_hour\"] >= 16) & (tripdata[\"started_at_hour\"] < 18) & (tripdata[\"station_id\"] == i)])\n",
    "        \n",
    "    # determining demand for 2024; 18-20hrs\n",
    "    for i in rentals[\"station_id\"].unique():\n",
    "        idx = (rentals[\"station_id\"] == i) & (rentals[\"year\"] == 2024) & (rentals[\"hour\"] == 18) & (rentals[\"day\"] == k)\n",
    "        rentals.loc[idx, \"#_rentals\"] = len(tripdata[(tripdata[\"started_at_year\"] == 2024) & (tripdata[\"started_at_day\"] == k) & (tripdata[\"started_at_hour\"] >= 18) & (tripdata[\"started_at_hour\"] < 20) & (tripdata[\"station_id\"] == i)])\n",
    "    \n",
    "    # determining demand for 2024; 20-22hrs\n",
    "    for i in rentals[\"station_id\"].unique():\n",
    "        idx = (rentals[\"station_id\"] == i) & (rentals[\"year\"] == 2024) & (rentals[\"hour\"] == 20) & (rentals[\"day\"] == k)\n",
    "        rentals.loc[idx, \"#_rentals\"] = len(tripdata[(tripdata[\"started_at_year\"] == 2024) & (tripdata[\"started_at_day\"] == k) & (tripdata[\"started_at_hour\"] >= 20) & (tripdata[\"started_at_hour\"] < 22) & (tripdata[\"station_id\"] == i)])"
   ]
  },
  {
   "cell_type": "code",
   "execution_count": 34,
   "id": "a8d3773a",
   "metadata": {},
   "outputs": [
    {
     "name": "stdout",
     "output_type": "stream",
     "text": [
      "27784\n"
     ]
    },
    {
     "data": {
      "text/plain": [
       "27784"
      ]
     },
     "execution_count": 34,
     "metadata": {},
     "output_type": "execute_result"
    }
   ],
   "source": [
    "# total trips on feb 1 2024\n",
    "print(len(tripdata[(tripdata[\"started_at_year\"] == 2024)&(tripdata[\"started_at_day\"] == 1)&(tripdata[\"started_at_hour\"] >= 8)&(tripdata[\"started_at_hour\"] < 22)]))\n",
    "\n",
    "# rentals recorded for feb 1 2024 \n",
    "sum(rentals.loc[(rentals[\"year\"] == 2024) & (rentals[\"day\"] == 1),\"#_rentals\"])"
   ]
  },
  {
   "cell_type": "markdown",
   "id": "f3c3cde1",
   "metadata": {},
   "source": [
    "Hence, the dataset is correct!"
   ]
  },
  {
   "cell_type": "code",
   "execution_count": 35,
   "id": "6f3e47af",
   "metadata": {},
   "outputs": [
    {
     "data": {
      "text/html": [
       "<div>\n",
       "<style scoped>\n",
       "    .dataframe tbody tr th:only-of-type {\n",
       "        vertical-align: middle;\n",
       "    }\n",
       "\n",
       "    .dataframe tbody tr th {\n",
       "        vertical-align: top;\n",
       "    }\n",
       "\n",
       "    .dataframe thead th {\n",
       "        text-align: right;\n",
       "    }\n",
       "</style>\n",
       "<table border=\"1\" class=\"dataframe\">\n",
       "  <thead>\n",
       "    <tr style=\"text-align: right;\">\n",
       "      <th></th>\n",
       "      <th>name</th>\n",
       "      <th>lat</th>\n",
       "      <th>lng</th>\n",
       "      <th>station_id</th>\n",
       "      <th>datetime</th>\n",
       "      <th>#_rentals</th>\n",
       "      <th>year</th>\n",
       "      <th>month</th>\n",
       "      <th>day</th>\n",
       "      <th>hour</th>\n",
       "    </tr>\n",
       "  </thead>\n",
       "  <tbody>\n",
       "    <tr>\n",
       "      <th>0</th>\n",
       "      <td>1 Ave &amp; E 110 St</td>\n",
       "      <td>40.792327</td>\n",
       "      <td>-73.9383</td>\n",
       "      <td>0</td>\n",
       "      <td>2024-02-01 08:00:00.000</td>\n",
       "      <td>9</td>\n",
       "      <td>2024</td>\n",
       "      <td>2</td>\n",
       "      <td>1</td>\n",
       "      <td>8</td>\n",
       "    </tr>\n",
       "    <tr>\n",
       "      <th>1</th>\n",
       "      <td>1 Ave &amp; E 110 St</td>\n",
       "      <td>40.792327</td>\n",
       "      <td>-73.9383</td>\n",
       "      <td>0</td>\n",
       "      <td>2024-02-01 10:00:00.000</td>\n",
       "      <td>1</td>\n",
       "      <td>2024</td>\n",
       "      <td>2</td>\n",
       "      <td>1</td>\n",
       "      <td>10</td>\n",
       "    </tr>\n",
       "    <tr>\n",
       "      <th>2</th>\n",
       "      <td>1 Ave &amp; E 110 St</td>\n",
       "      <td>40.792327</td>\n",
       "      <td>-73.9383</td>\n",
       "      <td>0</td>\n",
       "      <td>2024-02-01 12:00:00.000</td>\n",
       "      <td>3</td>\n",
       "      <td>2024</td>\n",
       "      <td>2</td>\n",
       "      <td>1</td>\n",
       "      <td>12</td>\n",
       "    </tr>\n",
       "    <tr>\n",
       "      <th>3</th>\n",
       "      <td>1 Ave &amp; E 110 St</td>\n",
       "      <td>40.792327</td>\n",
       "      <td>-73.9383</td>\n",
       "      <td>0</td>\n",
       "      <td>2024-02-01 14:00:00.000</td>\n",
       "      <td>5</td>\n",
       "      <td>2024</td>\n",
       "      <td>2</td>\n",
       "      <td>1</td>\n",
       "      <td>14</td>\n",
       "    </tr>\n",
       "    <tr>\n",
       "      <th>4</th>\n",
       "      <td>1 Ave &amp; E 110 St</td>\n",
       "      <td>40.792327</td>\n",
       "      <td>-73.9383</td>\n",
       "      <td>0</td>\n",
       "      <td>2024-02-01 16:00:00.000</td>\n",
       "      <td>1</td>\n",
       "      <td>2024</td>\n",
       "      <td>2</td>\n",
       "      <td>1</td>\n",
       "      <td>16</td>\n",
       "    </tr>\n",
       "  </tbody>\n",
       "</table>\n",
       "</div>"
      ],
      "text/plain": [
       "               name        lat      lng  station_id                 datetime  \\\n",
       "0  1 Ave & E 110 St  40.792327 -73.9383           0  2024-02-01 08:00:00.000   \n",
       "1  1 Ave & E 110 St  40.792327 -73.9383           0  2024-02-01 10:00:00.000   \n",
       "2  1 Ave & E 110 St  40.792327 -73.9383           0  2024-02-01 12:00:00.000   \n",
       "3  1 Ave & E 110 St  40.792327 -73.9383           0  2024-02-01 14:00:00.000   \n",
       "4  1 Ave & E 110 St  40.792327 -73.9383           0  2024-02-01 16:00:00.000   \n",
       "\n",
       "   #_rentals  year  month  day  hour  \n",
       "0          9  2024      2    1     8  \n",
       "1          1  2024      2    1    10  \n",
       "2          3  2024      2    1    12  \n",
       "3          5  2024      2    1    14  \n",
       "4          1  2024      2    1    16  "
      ]
     },
     "execution_count": 35,
     "metadata": {},
     "output_type": "execute_result"
    }
   ],
   "source": [
    "# Created dataset\n",
    "rentals_final = rentals.copy()\n",
    "\n",
    "# removing unneeded columns\n",
    "rentals_final.drop(columns=['minute','second','microsecond'], inplace=True)\n",
    "\n",
    "# final look\n",
    "rentals_final.head()"
   ]
  },
  {
   "cell_type": "code",
   "execution_count": 36,
   "id": "84f66f52",
   "metadata": {},
   "outputs": [],
   "source": [
    "# exporting\n",
    "rentals_final.to_csv(\"rentals_with_demand_new_time_units_feb.csv\", index=False)"
   ]
  }
 ],
 "metadata": {
  "kernelspec": {
   "display_name": "Python [conda env:base] *",
   "language": "python",
   "name": "conda-base-py"
  },
  "language_info": {
   "codemirror_mode": {
    "name": "ipython",
    "version": 3
   },
   "file_extension": ".py",
   "mimetype": "text/x-python",
   "name": "python",
   "nbconvert_exporter": "python",
   "pygments_lexer": "ipython3",
   "version": "3.12.7"
  }
 },
 "nbformat": 4,
 "nbformat_minor": 5
}
