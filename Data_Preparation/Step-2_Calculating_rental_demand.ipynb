{
 "cells": [
  {
   "cell_type": "markdown",
   "id": "3dffb3d9",
   "metadata": {},
   "source": [
    "# Updating rental demand \n",
    "This notebook uses the datasets previously created to determine bike rentals for each station, for every time unit (i.e. six *4 hour* units). The dataset is being created only for the month of January 2024.\n",
    "\n",
    "## Loading the datasets"
   ]
  },
  {
   "cell_type": "code",
   "execution_count": 1,
   "id": "e2b03e9d",
   "metadata": {},
   "outputs": [],
   "source": [
    "# Importing the datasets\n",
    "import pandas as pd\n",
    "rentals = pd.read_csv(\"C:/Users/singh/Desktop/TUD (All Semesters)/Courses - Semester 5 (TU Dresden)/Research Task - Spatial Modelling/Code/rentals_without_demand.csv\")\n",
    "tripdata = pd.read_csv(\"C:/Users/singh/Desktop/TUD (All Semesters)/Courses - Semester 5 (TU Dresden)/Research Task - Spatial Modelling/Code/Tripdata_with_manual_ids.csv\")"
   ]
  },
  {
   "cell_type": "code",
   "execution_count": 2,
   "id": "609cd9d2",
   "metadata": {},
   "outputs": [
    {
     "data": {
      "text/html": [
       "<div>\n",
       "<style scoped>\n",
       "    .dataframe tbody tr th:only-of-type {\n",
       "        vertical-align: middle;\n",
       "    }\n",
       "\n",
       "    .dataframe tbody tr th {\n",
       "        vertical-align: top;\n",
       "    }\n",
       "\n",
       "    .dataframe thead th {\n",
       "        text-align: right;\n",
       "    }\n",
       "</style>\n",
       "<table border=\"1\" class=\"dataframe\">\n",
       "  <thead>\n",
       "    <tr style=\"text-align: right;\">\n",
       "      <th></th>\n",
       "      <th>name</th>\n",
       "      <th>lat</th>\n",
       "      <th>lng</th>\n",
       "      <th>station_id</th>\n",
       "      <th>datetime</th>\n",
       "    </tr>\n",
       "  </thead>\n",
       "  <tbody>\n",
       "    <tr>\n",
       "      <th>0</th>\n",
       "      <td>1 Ave &amp; E 110 St</td>\n",
       "      <td>40.792327</td>\n",
       "      <td>-73.9383</td>\n",
       "      <td>0</td>\n",
       "      <td>2023-12-31 00:00:00.000</td>\n",
       "    </tr>\n",
       "    <tr>\n",
       "      <th>1</th>\n",
       "      <td>1 Ave &amp; E 110 St</td>\n",
       "      <td>40.792327</td>\n",
       "      <td>-73.9383</td>\n",
       "      <td>0</td>\n",
       "      <td>2023-12-31 04:00:00.000</td>\n",
       "    </tr>\n",
       "    <tr>\n",
       "      <th>2</th>\n",
       "      <td>1 Ave &amp; E 110 St</td>\n",
       "      <td>40.792327</td>\n",
       "      <td>-73.9383</td>\n",
       "      <td>0</td>\n",
       "      <td>2023-12-31 08:00:00.000</td>\n",
       "    </tr>\n",
       "    <tr>\n",
       "      <th>3</th>\n",
       "      <td>1 Ave &amp; E 110 St</td>\n",
       "      <td>40.792327</td>\n",
       "      <td>-73.9383</td>\n",
       "      <td>0</td>\n",
       "      <td>2023-12-31 12:00:00.000</td>\n",
       "    </tr>\n",
       "    <tr>\n",
       "      <th>4</th>\n",
       "      <td>1 Ave &amp; E 110 St</td>\n",
       "      <td>40.792327</td>\n",
       "      <td>-73.9383</td>\n",
       "      <td>0</td>\n",
       "      <td>2023-12-31 16:00:00.000</td>\n",
       "    </tr>\n",
       "  </tbody>\n",
       "</table>\n",
       "</div>"
      ],
      "text/plain": [
       "               name        lat      lng  station_id                 datetime\n",
       "0  1 Ave & E 110 St  40.792327 -73.9383           0  2023-12-31 00:00:00.000\n",
       "1  1 Ave & E 110 St  40.792327 -73.9383           0  2023-12-31 04:00:00.000\n",
       "2  1 Ave & E 110 St  40.792327 -73.9383           0  2023-12-31 08:00:00.000\n",
       "3  1 Ave & E 110 St  40.792327 -73.9383           0  2023-12-31 12:00:00.000\n",
       "4  1 Ave & E 110 St  40.792327 -73.9383           0  2023-12-31 16:00:00.000"
      ]
     },
     "execution_count": 2,
     "metadata": {},
     "output_type": "execute_result"
    }
   ],
   "source": [
    "# Overview of the data\n",
    "rentals.head()"
   ]
  },
  {
   "cell_type": "code",
   "execution_count": 3,
   "id": "48a647f5",
   "metadata": {},
   "outputs": [
    {
     "data": {
      "text/html": [
       "<div>\n",
       "<style scoped>\n",
       "    .dataframe tbody tr th:only-of-type {\n",
       "        vertical-align: middle;\n",
       "    }\n",
       "\n",
       "    .dataframe tbody tr th {\n",
       "        vertical-align: top;\n",
       "    }\n",
       "\n",
       "    .dataframe thead th {\n",
       "        text-align: right;\n",
       "    }\n",
       "</style>\n",
       "<table border=\"1\" class=\"dataframe\">\n",
       "  <thead>\n",
       "    <tr style=\"text-align: right;\">\n",
       "      <th></th>\n",
       "      <th>ride_id</th>\n",
       "      <th>started_at</th>\n",
       "      <th>start_station_name</th>\n",
       "      <th>station_id</th>\n",
       "      <th>start_lat</th>\n",
       "      <th>start_lng</th>\n",
       "    </tr>\n",
       "  </thead>\n",
       "  <tbody>\n",
       "    <tr>\n",
       "      <th>0</th>\n",
       "      <td>FD1815E65D61FAF1</td>\n",
       "      <td>2024-01-07 08:42:55.647</td>\n",
       "      <td>1 Ave &amp; E 110 St</td>\n",
       "      <td>0</td>\n",
       "      <td>40.792327</td>\n",
       "      <td>-73.9383</td>\n",
       "    </tr>\n",
       "    <tr>\n",
       "      <th>1</th>\n",
       "      <td>C81EA1D1AF08E764</td>\n",
       "      <td>2024-01-05 16:47:51.873</td>\n",
       "      <td>1 Ave &amp; E 110 St</td>\n",
       "      <td>0</td>\n",
       "      <td>40.792327</td>\n",
       "      <td>-73.9383</td>\n",
       "    </tr>\n",
       "    <tr>\n",
       "      <th>2</th>\n",
       "      <td>B68072A759AEBC11</td>\n",
       "      <td>2024-01-28 21:16:58.578</td>\n",
       "      <td>1 Ave &amp; E 110 St</td>\n",
       "      <td>0</td>\n",
       "      <td>40.792327</td>\n",
       "      <td>-73.9383</td>\n",
       "    </tr>\n",
       "    <tr>\n",
       "      <th>3</th>\n",
       "      <td>40253EB730335B64</td>\n",
       "      <td>2024-01-14 06:21:56.489</td>\n",
       "      <td>1 Ave &amp; E 110 St</td>\n",
       "      <td>0</td>\n",
       "      <td>40.792327</td>\n",
       "      <td>-73.9383</td>\n",
       "    </tr>\n",
       "    <tr>\n",
       "      <th>4</th>\n",
       "      <td>F3788085AE49CFD5</td>\n",
       "      <td>2024-01-10 17:09:08.398</td>\n",
       "      <td>1 Ave &amp; E 110 St</td>\n",
       "      <td>0</td>\n",
       "      <td>40.792327</td>\n",
       "      <td>-73.9383</td>\n",
       "    </tr>\n",
       "  </tbody>\n",
       "</table>\n",
       "</div>"
      ],
      "text/plain": [
       "            ride_id               started_at start_station_name  station_id  \\\n",
       "0  FD1815E65D61FAF1  2024-01-07 08:42:55.647   1 Ave & E 110 St           0   \n",
       "1  C81EA1D1AF08E764  2024-01-05 16:47:51.873   1 Ave & E 110 St           0   \n",
       "2  B68072A759AEBC11  2024-01-28 21:16:58.578   1 Ave & E 110 St           0   \n",
       "3  40253EB730335B64  2024-01-14 06:21:56.489   1 Ave & E 110 St           0   \n",
       "4  F3788085AE49CFD5  2024-01-10 17:09:08.398   1 Ave & E 110 St           0   \n",
       "\n",
       "   start_lat  start_lng  \n",
       "0  40.792327   -73.9383  \n",
       "1  40.792327   -73.9383  \n",
       "2  40.792327   -73.9383  \n",
       "3  40.792327   -73.9383  \n",
       "4  40.792327   -73.9383  "
      ]
     },
     "execution_count": 3,
     "metadata": {},
     "output_type": "execute_result"
    }
   ],
   "source": [
    "# Overview of the data\n",
    "tripdata.head()"
   ]
  },
  {
   "cell_type": "code",
   "execution_count": 4,
   "id": "daedb1cf",
   "metadata": {},
   "outputs": [
    {
     "data": {
      "text/html": [
       "<div>\n",
       "<style scoped>\n",
       "    .dataframe tbody tr th:only-of-type {\n",
       "        vertical-align: middle;\n",
       "    }\n",
       "\n",
       "    .dataframe tbody tr th {\n",
       "        vertical-align: top;\n",
       "    }\n",
       "\n",
       "    .dataframe thead th {\n",
       "        text-align: right;\n",
       "    }\n",
       "</style>\n",
       "<table border=\"1\" class=\"dataframe\">\n",
       "  <thead>\n",
       "    <tr style=\"text-align: right;\">\n",
       "      <th></th>\n",
       "      <th>name</th>\n",
       "      <th>lat</th>\n",
       "      <th>lng</th>\n",
       "      <th>station_id</th>\n",
       "      <th>datetime</th>\n",
       "      <th>#_rentals</th>\n",
       "    </tr>\n",
       "  </thead>\n",
       "  <tbody>\n",
       "    <tr>\n",
       "      <th>0</th>\n",
       "      <td>1 Ave &amp; E 110 St</td>\n",
       "      <td>40.792327</td>\n",
       "      <td>-73.9383</td>\n",
       "      <td>0</td>\n",
       "      <td>2023-12-31 00:00:00.000</td>\n",
       "      <td>0</td>\n",
       "    </tr>\n",
       "    <tr>\n",
       "      <th>1</th>\n",
       "      <td>1 Ave &amp; E 110 St</td>\n",
       "      <td>40.792327</td>\n",
       "      <td>-73.9383</td>\n",
       "      <td>0</td>\n",
       "      <td>2023-12-31 04:00:00.000</td>\n",
       "      <td>0</td>\n",
       "    </tr>\n",
       "    <tr>\n",
       "      <th>2</th>\n",
       "      <td>1 Ave &amp; E 110 St</td>\n",
       "      <td>40.792327</td>\n",
       "      <td>-73.9383</td>\n",
       "      <td>0</td>\n",
       "      <td>2023-12-31 08:00:00.000</td>\n",
       "      <td>0</td>\n",
       "    </tr>\n",
       "    <tr>\n",
       "      <th>3</th>\n",
       "      <td>1 Ave &amp; E 110 St</td>\n",
       "      <td>40.792327</td>\n",
       "      <td>-73.9383</td>\n",
       "      <td>0</td>\n",
       "      <td>2023-12-31 12:00:00.000</td>\n",
       "      <td>0</td>\n",
       "    </tr>\n",
       "    <tr>\n",
       "      <th>4</th>\n",
       "      <td>1 Ave &amp; E 110 St</td>\n",
       "      <td>40.792327</td>\n",
       "      <td>-73.9383</td>\n",
       "      <td>0</td>\n",
       "      <td>2023-12-31 16:00:00.000</td>\n",
       "      <td>0</td>\n",
       "    </tr>\n",
       "  </tbody>\n",
       "</table>\n",
       "</div>"
      ],
      "text/plain": [
       "               name        lat      lng  station_id                 datetime  \\\n",
       "0  1 Ave & E 110 St  40.792327 -73.9383           0  2023-12-31 00:00:00.000   \n",
       "1  1 Ave & E 110 St  40.792327 -73.9383           0  2023-12-31 04:00:00.000   \n",
       "2  1 Ave & E 110 St  40.792327 -73.9383           0  2023-12-31 08:00:00.000   \n",
       "3  1 Ave & E 110 St  40.792327 -73.9383           0  2023-12-31 12:00:00.000   \n",
       "4  1 Ave & E 110 St  40.792327 -73.9383           0  2023-12-31 16:00:00.000   \n",
       "\n",
       "   #_rentals  \n",
       "0          0  \n",
       "1          0  \n",
       "2          0  \n",
       "3          0  \n",
       "4          0  "
      ]
     },
     "execution_count": 4,
     "metadata": {},
     "output_type": "execute_result"
    }
   ],
   "source": [
    "# adding a rentals column \n",
    "rentals['#_rentals'] = 0\n",
    "rentals.head()"
   ]
  },
  {
   "cell_type": "code",
   "execution_count": 5,
   "id": "ad3efe0a",
   "metadata": {},
   "outputs": [
    {
     "data": {
      "text/html": [
       "<div>\n",
       "<style scoped>\n",
       "    .dataframe tbody tr th:only-of-type {\n",
       "        vertical-align: middle;\n",
       "    }\n",
       "\n",
       "    .dataframe tbody tr th {\n",
       "        vertical-align: top;\n",
       "    }\n",
       "\n",
       "    .dataframe thead th {\n",
       "        text-align: right;\n",
       "    }\n",
       "</style>\n",
       "<table border=\"1\" class=\"dataframe\">\n",
       "  <thead>\n",
       "    <tr style=\"text-align: right;\">\n",
       "      <th></th>\n",
       "      <th>ride_id</th>\n",
       "      <th>started_at</th>\n",
       "      <th>start_station_name</th>\n",
       "      <th>station_id</th>\n",
       "      <th>start_lat</th>\n",
       "      <th>start_lng</th>\n",
       "    </tr>\n",
       "  </thead>\n",
       "  <tbody>\n",
       "    <tr>\n",
       "      <th>160638</th>\n",
       "      <td>5594D8DDA68F5BB9</td>\n",
       "      <td>2023-12-31 02:36:55.648</td>\n",
       "      <td>Broadway &amp; W 36 St</td>\n",
       "      <td>656</td>\n",
       "      <td>40.750977</td>\n",
       "      <td>-73.987654</td>\n",
       "    </tr>\n",
       "  </tbody>\n",
       "</table>\n",
       "</div>"
      ],
      "text/plain": [
       "                 ride_id               started_at  start_station_name  \\\n",
       "160638  5594D8DDA68F5BB9  2023-12-31 02:36:55.648  Broadway & W 36 St   \n",
       "\n",
       "        station_id  start_lat  start_lng  \n",
       "160638         656  40.750977 -73.987654  "
      ]
     },
     "execution_count": 5,
     "metadata": {},
     "output_type": "execute_result"
    }
   ],
   "source": [
    "# demand calculation for 31 Dec'23 (00-04 hrs)\n",
    "tripdata[(tripdata[\"started_at\"] < '2023-12-31 04:00:00.000') & (tripdata[\"started_at\"] > '2023-12-31 00:00:00.000')]"
   ]
  },
  {
   "cell_type": "markdown",
   "id": "8eabb49e",
   "metadata": {},
   "source": [
    "There is only 1 rental for the 1st time unit for 31 Dec 2023. The rental is only made for <u>Broadway & W 36 St</u> station."
   ]
  },
  {
   "cell_type": "markdown",
   "id": "e289ad10",
   "metadata": {},
   "source": [
    "## Adding datetime attributes\n",
    "To update demand (i.e. rental information), I will need to add date and time information to both the *trip dataset* as well as the *rentals* dataset."
   ]
  },
  {
   "cell_type": "code",
   "execution_count": 66,
   "id": "60127810",
   "metadata": {},
   "outputs": [
    {
     "data": {
      "text/plain": [
       "999000"
      ]
     },
     "execution_count": 66,
     "metadata": {},
     "output_type": "execute_result"
    }
   ],
   "source": [
    "pd.to_datetime('2023-12-31 23:59:59.999').time().microsecond"
   ]
  },
  {
   "cell_type": "code",
   "execution_count": 67,
   "id": "909ffe7a",
   "metadata": {},
   "outputs": [],
   "source": [
    "# Updating the rentals dataset\n",
    "rentals['year'] = pd.Series([x.date().year for x in pd.to_datetime(rentals[\"datetime\"])])\n",
    "rentals['month'] = pd.Series([x.date().month for x in pd.to_datetime(rentals[\"datetime\"])])\n",
    "rentals['day'] = pd.Series([x.date().day for x in pd.to_datetime(rentals[\"datetime\"])])\n",
    "\n",
    "rentals['hour'] = pd.Series([x.time().hour for x in pd.to_datetime(rentals[\"datetime\"])])\n",
    "rentals['minute'] = pd.Series([x.time().minute for x in pd.to_datetime(rentals[\"datetime\"])])\n",
    "rentals['second'] = pd.Series([x.time().second for x in pd.to_datetime(rentals[\"datetime\"])])\n",
    "rentals['microsecond'] = pd.Series([x.time().microsecond for x in pd.to_datetime(rentals[\"datetime\"])])"
   ]
  },
  {
   "cell_type": "code",
   "execution_count": 69,
   "id": "7892a73a",
   "metadata": {},
   "outputs": [],
   "source": [
    "# Updating the trips dataset\n",
    "tripdata['started_at_year'] = pd.Series([x.date().year for x in pd.to_datetime(tripdata[\"started_at\"])])\n",
    "tripdata['started_at_month'] = pd.Series([x.date().month for x in pd.to_datetime(tripdata[\"started_at\"])])\n",
    "tripdata['started_at_day'] = pd.Series([x.date().day for x in pd.to_datetime(tripdata[\"started_at\"])])\n",
    "\n",
    "tripdata['started_at_hour'] = pd.Series([x.time().hour for x in pd.to_datetime(tripdata[\"started_at\"])])\n",
    "tripdata['started_at_minute'] = pd.Series([x.time().minute for x in pd.to_datetime(tripdata[\"started_at\"])])\n",
    "tripdata['started_at_second'] = pd.Series([x.time().second for x in pd.to_datetime(tripdata[\"started_at\"])])\n",
    "tripdata['started_at_microsecond'] = pd.Series([x.time().microsecond for x in pd.to_datetime(tripdata[\"started_at\"])])"
   ]
  },
  {
   "cell_type": "code",
   "execution_count": 68,
   "id": "332e82e3",
   "metadata": {},
   "outputs": [
    {
     "data": {
      "text/html": [
       "<div>\n",
       "<style scoped>\n",
       "    .dataframe tbody tr th:only-of-type {\n",
       "        vertical-align: middle;\n",
       "    }\n",
       "\n",
       "    .dataframe tbody tr th {\n",
       "        vertical-align: top;\n",
       "    }\n",
       "\n",
       "    .dataframe thead th {\n",
       "        text-align: right;\n",
       "    }\n",
       "</style>\n",
       "<table border=\"1\" class=\"dataframe\">\n",
       "  <thead>\n",
       "    <tr style=\"text-align: right;\">\n",
       "      <th></th>\n",
       "      <th>name</th>\n",
       "      <th>lat</th>\n",
       "      <th>lng</th>\n",
       "      <th>station_id</th>\n",
       "      <th>datetime</th>\n",
       "      <th>#_rentals</th>\n",
       "      <th>year</th>\n",
       "      <th>month</th>\n",
       "      <th>day</th>\n",
       "      <th>hour</th>\n",
       "      <th>minute</th>\n",
       "      <th>second</th>\n",
       "      <th>microsecond</th>\n",
       "    </tr>\n",
       "  </thead>\n",
       "  <tbody>\n",
       "    <tr>\n",
       "      <th>0</th>\n",
       "      <td>1 Ave &amp; E 110 St</td>\n",
       "      <td>40.792327</td>\n",
       "      <td>-73.9383</td>\n",
       "      <td>0</td>\n",
       "      <td>2023-12-31 00:00:00.000</td>\n",
       "      <td>0</td>\n",
       "      <td>2023</td>\n",
       "      <td>12</td>\n",
       "      <td>31</td>\n",
       "      <td>0</td>\n",
       "      <td>0</td>\n",
       "      <td>0</td>\n",
       "      <td>0</td>\n",
       "    </tr>\n",
       "    <tr>\n",
       "      <th>1</th>\n",
       "      <td>1 Ave &amp; E 110 St</td>\n",
       "      <td>40.792327</td>\n",
       "      <td>-73.9383</td>\n",
       "      <td>0</td>\n",
       "      <td>2023-12-31 04:00:00.000</td>\n",
       "      <td>0</td>\n",
       "      <td>2023</td>\n",
       "      <td>12</td>\n",
       "      <td>31</td>\n",
       "      <td>4</td>\n",
       "      <td>0</td>\n",
       "      <td>0</td>\n",
       "      <td>0</td>\n",
       "    </tr>\n",
       "    <tr>\n",
       "      <th>2</th>\n",
       "      <td>1 Ave &amp; E 110 St</td>\n",
       "      <td>40.792327</td>\n",
       "      <td>-73.9383</td>\n",
       "      <td>0</td>\n",
       "      <td>2023-12-31 08:00:00.000</td>\n",
       "      <td>0</td>\n",
       "      <td>2023</td>\n",
       "      <td>12</td>\n",
       "      <td>31</td>\n",
       "      <td>8</td>\n",
       "      <td>0</td>\n",
       "      <td>0</td>\n",
       "      <td>0</td>\n",
       "    </tr>\n",
       "    <tr>\n",
       "      <th>3</th>\n",
       "      <td>1 Ave &amp; E 110 St</td>\n",
       "      <td>40.792327</td>\n",
       "      <td>-73.9383</td>\n",
       "      <td>0</td>\n",
       "      <td>2023-12-31 12:00:00.000</td>\n",
       "      <td>0</td>\n",
       "      <td>2023</td>\n",
       "      <td>12</td>\n",
       "      <td>31</td>\n",
       "      <td>12</td>\n",
       "      <td>0</td>\n",
       "      <td>0</td>\n",
       "      <td>0</td>\n",
       "    </tr>\n",
       "    <tr>\n",
       "      <th>4</th>\n",
       "      <td>1 Ave &amp; E 110 St</td>\n",
       "      <td>40.792327</td>\n",
       "      <td>-73.9383</td>\n",
       "      <td>0</td>\n",
       "      <td>2023-12-31 16:00:00.000</td>\n",
       "      <td>0</td>\n",
       "      <td>2023</td>\n",
       "      <td>12</td>\n",
       "      <td>31</td>\n",
       "      <td>16</td>\n",
       "      <td>0</td>\n",
       "      <td>0</td>\n",
       "      <td>0</td>\n",
       "    </tr>\n",
       "  </tbody>\n",
       "</table>\n",
       "</div>"
      ],
      "text/plain": [
       "               name        lat      lng  station_id                 datetime  \\\n",
       "0  1 Ave & E 110 St  40.792327 -73.9383           0  2023-12-31 00:00:00.000   \n",
       "1  1 Ave & E 110 St  40.792327 -73.9383           0  2023-12-31 04:00:00.000   \n",
       "2  1 Ave & E 110 St  40.792327 -73.9383           0  2023-12-31 08:00:00.000   \n",
       "3  1 Ave & E 110 St  40.792327 -73.9383           0  2023-12-31 12:00:00.000   \n",
       "4  1 Ave & E 110 St  40.792327 -73.9383           0  2023-12-31 16:00:00.000   \n",
       "\n",
       "   #_rentals  year  month  day  hour  minute  second  microsecond  \n",
       "0          0  2023     12   31     0       0       0            0  \n",
       "1          0  2023     12   31     4       0       0            0  \n",
       "2          0  2023     12   31     8       0       0            0  \n",
       "3          0  2023     12   31    12       0       0            0  \n",
       "4          0  2023     12   31    16       0       0            0  "
      ]
     },
     "execution_count": 68,
     "metadata": {},
     "output_type": "execute_result"
    }
   ],
   "source": [
    "# rentals updated\n",
    "rentals.head()"
   ]
  },
  {
   "cell_type": "code",
   "execution_count": 70,
   "id": "87b02c85",
   "metadata": {},
   "outputs": [
    {
     "data": {
      "text/html": [
       "<div>\n",
       "<style scoped>\n",
       "    .dataframe tbody tr th:only-of-type {\n",
       "        vertical-align: middle;\n",
       "    }\n",
       "\n",
       "    .dataframe tbody tr th {\n",
       "        vertical-align: top;\n",
       "    }\n",
       "\n",
       "    .dataframe thead th {\n",
       "        text-align: right;\n",
       "    }\n",
       "</style>\n",
       "<table border=\"1\" class=\"dataframe\">\n",
       "  <thead>\n",
       "    <tr style=\"text-align: right;\">\n",
       "      <th></th>\n",
       "      <th>ride_id</th>\n",
       "      <th>started_at</th>\n",
       "      <th>start_station_name</th>\n",
       "      <th>station_id</th>\n",
       "      <th>start_lat</th>\n",
       "      <th>start_lng</th>\n",
       "      <th>started_at_year</th>\n",
       "      <th>started_at_month</th>\n",
       "      <th>started_at_day</th>\n",
       "      <th>started_at_hour</th>\n",
       "      <th>started_at_minute</th>\n",
       "      <th>started_at_second</th>\n",
       "      <th>started_at_microsecond</th>\n",
       "    </tr>\n",
       "  </thead>\n",
       "  <tbody>\n",
       "    <tr>\n",
       "      <th>0</th>\n",
       "      <td>FD1815E65D61FAF1</td>\n",
       "      <td>2024-01-07 08:42:55.647</td>\n",
       "      <td>1 Ave &amp; E 110 St</td>\n",
       "      <td>0</td>\n",
       "      <td>40.792327</td>\n",
       "      <td>-73.9383</td>\n",
       "      <td>2024</td>\n",
       "      <td>1</td>\n",
       "      <td>7</td>\n",
       "      <td>8</td>\n",
       "      <td>42</td>\n",
       "      <td>55</td>\n",
       "      <td>647000</td>\n",
       "    </tr>\n",
       "    <tr>\n",
       "      <th>1</th>\n",
       "      <td>C81EA1D1AF08E764</td>\n",
       "      <td>2024-01-05 16:47:51.873</td>\n",
       "      <td>1 Ave &amp; E 110 St</td>\n",
       "      <td>0</td>\n",
       "      <td>40.792327</td>\n",
       "      <td>-73.9383</td>\n",
       "      <td>2024</td>\n",
       "      <td>1</td>\n",
       "      <td>5</td>\n",
       "      <td>16</td>\n",
       "      <td>47</td>\n",
       "      <td>51</td>\n",
       "      <td>873000</td>\n",
       "    </tr>\n",
       "    <tr>\n",
       "      <th>2</th>\n",
       "      <td>B68072A759AEBC11</td>\n",
       "      <td>2024-01-28 21:16:58.578</td>\n",
       "      <td>1 Ave &amp; E 110 St</td>\n",
       "      <td>0</td>\n",
       "      <td>40.792327</td>\n",
       "      <td>-73.9383</td>\n",
       "      <td>2024</td>\n",
       "      <td>1</td>\n",
       "      <td>28</td>\n",
       "      <td>21</td>\n",
       "      <td>16</td>\n",
       "      <td>58</td>\n",
       "      <td>578000</td>\n",
       "    </tr>\n",
       "    <tr>\n",
       "      <th>3</th>\n",
       "      <td>40253EB730335B64</td>\n",
       "      <td>2024-01-14 06:21:56.489</td>\n",
       "      <td>1 Ave &amp; E 110 St</td>\n",
       "      <td>0</td>\n",
       "      <td>40.792327</td>\n",
       "      <td>-73.9383</td>\n",
       "      <td>2024</td>\n",
       "      <td>1</td>\n",
       "      <td>14</td>\n",
       "      <td>6</td>\n",
       "      <td>21</td>\n",
       "      <td>56</td>\n",
       "      <td>489000</td>\n",
       "    </tr>\n",
       "    <tr>\n",
       "      <th>4</th>\n",
       "      <td>F3788085AE49CFD5</td>\n",
       "      <td>2024-01-10 17:09:08.398</td>\n",
       "      <td>1 Ave &amp; E 110 St</td>\n",
       "      <td>0</td>\n",
       "      <td>40.792327</td>\n",
       "      <td>-73.9383</td>\n",
       "      <td>2024</td>\n",
       "      <td>1</td>\n",
       "      <td>10</td>\n",
       "      <td>17</td>\n",
       "      <td>9</td>\n",
       "      <td>8</td>\n",
       "      <td>398000</td>\n",
       "    </tr>\n",
       "  </tbody>\n",
       "</table>\n",
       "</div>"
      ],
      "text/plain": [
       "            ride_id               started_at start_station_name  station_id  \\\n",
       "0  FD1815E65D61FAF1  2024-01-07 08:42:55.647   1 Ave & E 110 St           0   \n",
       "1  C81EA1D1AF08E764  2024-01-05 16:47:51.873   1 Ave & E 110 St           0   \n",
       "2  B68072A759AEBC11  2024-01-28 21:16:58.578   1 Ave & E 110 St           0   \n",
       "3  40253EB730335B64  2024-01-14 06:21:56.489   1 Ave & E 110 St           0   \n",
       "4  F3788085AE49CFD5  2024-01-10 17:09:08.398   1 Ave & E 110 St           0   \n",
       "\n",
       "   start_lat  start_lng  started_at_year  started_at_month  started_at_day  \\\n",
       "0  40.792327   -73.9383             2024                 1               7   \n",
       "1  40.792327   -73.9383             2024                 1               5   \n",
       "2  40.792327   -73.9383             2024                 1              28   \n",
       "3  40.792327   -73.9383             2024                 1              14   \n",
       "4  40.792327   -73.9383             2024                 1              10   \n",
       "\n",
       "   started_at_hour  started_at_minute  started_at_second  \\\n",
       "0                8                 42                 55   \n",
       "1               16                 47                 51   \n",
       "2               21                 16                 58   \n",
       "3                6                 21                 56   \n",
       "4               17                  9                  8   \n",
       "\n",
       "   started_at_microsecond  \n",
       "0                  647000  \n",
       "1                  873000  \n",
       "2                  578000  \n",
       "3                  489000  \n",
       "4                  398000  "
      ]
     },
     "execution_count": 70,
     "metadata": {},
     "output_type": "execute_result"
    }
   ],
   "source": [
    "# tripdata updated\n",
    "tripdata.head()"
   ]
  },
  {
   "cell_type": "markdown",
   "id": "d53b11fa",
   "metadata": {},
   "source": [
    "## Calculating rentals\n",
    "With date and time attributes, determining rentals should be doable."
   ]
  },
  {
   "cell_type": "code",
   "execution_count": 79,
   "id": "0a1c2934",
   "metadata": {},
   "outputs": [],
   "source": [
    "# This is how to modify individual elements!\n",
    "rentals.loc[(rentals[\"station_id\"] == 656) & (rentals[\"year\"] == 2023) & (rentals[\"hour\"] == 0),\"#_rentals\"] = 0"
   ]
  },
  {
   "cell_type": "code",
   "execution_count": 82,
   "id": "00c34a59",
   "metadata": {},
   "outputs": [],
   "source": [
    "# determining demand for 2023; 00-04hrs\n",
    "for i in rentals[\"station_id\"].unique():\n",
    "    idx = (rentals[\"station_id\"] == i) & (rentals[\"year\"] == 2023) & (rentals[\"hour\"] == 0)\n",
    "    rentals.loc[idx, \"#_rentals\"] = len(tripdata[(tripdata[\"started_at_year\"] == 2023) & (tripdata[\"started_at_hour\"] < 4) & (tripdata[\"station_id\"] == i)])"
   ]
  },
  {
   "cell_type": "code",
   "execution_count": 83,
   "id": "f351368a",
   "metadata": {},
   "outputs": [],
   "source": [
    "# determining demand for 2023; 04-08hrs\n",
    "for i in rentals[\"station_id\"].unique():\n",
    "    idx = (rentals[\"station_id\"] == i) & (rentals[\"year\"] == 2023) & (rentals[\"hour\"] == 4)\n",
    "    rentals.loc[idx, \"#_rentals\"] = len(tripdata[(tripdata[\"started_at_year\"] == 2023) & (tripdata[\"started_at_hour\"] < 8) & (tripdata[\"started_at_hour\"] >= 4) & (tripdata[\"station_id\"] == i)])"
   ]
  },
  {
   "cell_type": "code",
   "execution_count": 84,
   "id": "21755f10",
   "metadata": {},
   "outputs": [],
   "source": [
    "# determining demand for 2023; 08-12hrs\n",
    "for i in rentals[\"station_id\"].unique():\n",
    "    idx = (rentals[\"station_id\"] == i) & (rentals[\"year\"] == 2023) & (rentals[\"hour\"] == 8)\n",
    "    rentals.loc[idx, \"#_rentals\"] = len(tripdata[(tripdata[\"started_at_year\"] == 2023) & (tripdata[\"started_at_hour\"] < 12) & (tripdata[\"started_at_hour\"] >= 8) & (tripdata[\"station_id\"] == i)])"
   ]
  },
  {
   "cell_type": "code",
   "execution_count": 85,
   "id": "a614f7d8",
   "metadata": {},
   "outputs": [],
   "source": [
    "# determining demand for 2023; 12-16hrs\n",
    "for i in rentals[\"station_id\"].unique():\n",
    "    idx = (rentals[\"station_id\"] == i) & (rentals[\"year\"] == 2023) & (rentals[\"hour\"] == 12)\n",
    "    rentals.loc[idx, \"#_rentals\"] = len(tripdata[(tripdata[\"started_at_year\"] == 2023) & (tripdata[\"started_at_hour\"] < 16) & (tripdata[\"started_at_hour\"] >= 12) & (tripdata[\"station_id\"] == i)])"
   ]
  },
  {
   "cell_type": "code",
   "execution_count": 86,
   "id": "18b9fdc7",
   "metadata": {},
   "outputs": [],
   "source": [
    "# determining demand for 2023; 16-20hrs\n",
    "for i in rentals[\"station_id\"].unique():\n",
    "    idx = (rentals[\"station_id\"] == i) & (rentals[\"year\"] == 2023) & (rentals[\"hour\"] == 16)\n",
    "    rentals.loc[idx, \"#_rentals\"] = len(tripdata[(tripdata[\"started_at_year\"] == 2023) & (tripdata[\"started_at_hour\"] < 20) & (tripdata[\"started_at_hour\"] >= 16) & (tripdata[\"station_id\"] == i)])"
   ]
  },
  {
   "cell_type": "code",
   "execution_count": 87,
   "id": "64a819bc",
   "metadata": {},
   "outputs": [],
   "source": [
    "# determining demand for 2023; 20-00hrs\n",
    "for i in rentals[\"station_id\"].unique():\n",
    "    idx = (rentals[\"station_id\"] == i) & (rentals[\"year\"] == 2023) & (rentals[\"hour\"] == 20)\n",
    "    rentals.loc[idx, \"#_rentals\"] = len(tripdata[(tripdata[\"started_at_year\"] == 2023) & (tripdata[\"started_at_hour\"] >= 20) & (tripdata[\"station_id\"] == i)])"
   ]
  },
  {
   "cell_type": "code",
   "execution_count": 94,
   "id": "567d1a12",
   "metadata": {},
   "outputs": [
    {
     "data": {
      "text/plain": [
       "128"
      ]
     },
     "execution_count": 94,
     "metadata": {},
     "output_type": "execute_result"
    }
   ],
   "source": [
    "# verifying rental information for 31 Dec 2023\n",
    "sum(rentals.loc[(rentals[\"year\"] == 2023) & (rentals[\"#_rentals\"] > 0),\"#_rentals\"])"
   ]
  },
  {
   "cell_type": "code",
   "execution_count": 89,
   "id": "db4e720b",
   "metadata": {
    "scrolled": true
   },
   "outputs": [
    {
     "data": {
      "text/plain": [
       "128"
      ]
     },
     "execution_count": 89,
     "metadata": {},
     "output_type": "execute_result"
    }
   ],
   "source": [
    "# the rental demand is correct!\n",
    "len(tripdata[(tripdata[\"started_at_year\"] == 2023)])"
   ]
  },
  {
   "cell_type": "markdown",
   "id": "c48c3260",
   "metadata": {},
   "source": [
    "> The rentals have been successfully determined for 2023. There was only one day included in this year i.e. *31 Dec* so calculating rentals was not difficult here."
   ]
  },
  {
   "cell_type": "code",
   "execution_count": 96,
   "id": "e08eb4b1",
   "metadata": {},
   "outputs": [
    {
     "data": {
      "text/plain": [
       "1"
      ]
     },
     "execution_count": 96,
     "metadata": {},
     "output_type": "execute_result"
    }
   ],
   "source": [
    "# For 2024, data is only present for January\n",
    "max(rentals.loc[rentals[\"year\"] == 2024,\"month\"])"
   ]
  },
  {
   "cell_type": "code",
   "execution_count": 100,
   "id": "afb55ebc",
   "metadata": {},
   "outputs": [],
   "source": [
    "# Updating for 2024\n",
    "for k in range(1, 32):\n",
    "    \n",
    "    # determining demand for 2024; 00-04hrs\n",
    "    for i in rentals[\"station_id\"].unique():\n",
    "        idx = (rentals[\"station_id\"] == i) & (rentals[\"year\"] == 2024) & (rentals[\"hour\"] == 0) & (rentals[\"day\"] == k)\n",
    "        rentals.loc[idx, \"#_rentals\"] = len(tripdata[(tripdata[\"started_at_year\"] == 2024) & (tripdata[\"started_at_day\"] == k) & (tripdata[\"started_at_hour\"] < 4) & (tripdata[\"station_id\"] == i)])\n",
    "        \n",
    "    # determining demand for 2024; 04-08hrs\n",
    "    for i in rentals[\"station_id\"].unique():\n",
    "        idx = (rentals[\"station_id\"] == i) & (rentals[\"year\"] == 2024) & (rentals[\"hour\"] == 4) & (rentals[\"day\"] == k)\n",
    "        rentals.loc[idx, \"#_rentals\"] = len(tripdata[(tripdata[\"started_at_year\"] == 2024) & (tripdata[\"started_at_day\"] == k) & (tripdata[\"started_at_hour\"] >= 4) & (tripdata[\"started_at_hour\"] < 8) & (tripdata[\"station_id\"] == i)])\n",
    "        \n",
    "    # determining demand for 2024; 08-12hrs\n",
    "    for i in rentals[\"station_id\"].unique():\n",
    "        idx = (rentals[\"station_id\"] == i) & (rentals[\"year\"] == 2024) & (rentals[\"hour\"] == 8) & (rentals[\"day\"] == k)\n",
    "        rentals.loc[idx, \"#_rentals\"] = len(tripdata[(tripdata[\"started_at_year\"] == 2024) & (tripdata[\"started_at_day\"] == k) & (tripdata[\"started_at_hour\"] >= 8) & (tripdata[\"started_at_hour\"] < 12) & (tripdata[\"station_id\"] == i)])\n",
    "        \n",
    "    # determining demand for 2024; 12-16hrs\n",
    "    for i in rentals[\"station_id\"].unique():\n",
    "        idx = (rentals[\"station_id\"] == i) & (rentals[\"year\"] == 2024) & (rentals[\"hour\"] == 12) & (rentals[\"day\"] == k)\n",
    "        rentals.loc[idx, \"#_rentals\"] = len(tripdata[(tripdata[\"started_at_year\"] == 2024) & (tripdata[\"started_at_day\"] == k) & (tripdata[\"started_at_hour\"] >= 12) & (tripdata[\"started_at_hour\"] < 16) & (tripdata[\"station_id\"] == i)])\n",
    "        \n",
    "    # determining demand for 2024; 16-20hrs\n",
    "    for i in rentals[\"station_id\"].unique():\n",
    "        idx = (rentals[\"station_id\"] == i) & (rentals[\"year\"] == 2024) & (rentals[\"hour\"] == 16) & (rentals[\"day\"] == k)\n",
    "        rentals.loc[idx, \"#_rentals\"] = len(tripdata[(tripdata[\"started_at_year\"] == 2024) & (tripdata[\"started_at_day\"] == k) & (tripdata[\"started_at_hour\"] >= 16) & (tripdata[\"started_at_hour\"] < 20) & (tripdata[\"station_id\"] == i)])\n",
    "        \n",
    "    # determining demand for 2024; 20-24hrs\n",
    "    for i in rentals[\"station_id\"].unique():\n",
    "        idx = (rentals[\"station_id\"] == i) & (rentals[\"year\"] == 2024) & (rentals[\"hour\"] == 20) & (rentals[\"day\"] == k)\n",
    "        rentals.loc[idx, \"#_rentals\"] = len(tripdata[(tripdata[\"started_at_year\"] == 2024) & (tripdata[\"started_at_day\"] == k) & (tripdata[\"started_at_hour\"] >= 20) & (tripdata[\"station_id\"] == i)])"
   ]
  },
  {
   "cell_type": "code",
   "execution_count": 103,
   "id": "0a050a9c",
   "metadata": {},
   "outputs": [
    {
     "data": {
      "text/plain": [
       "16083"
      ]
     },
     "execution_count": 103,
     "metadata": {},
     "output_type": "execute_result"
    }
   ],
   "source": [
    "# total trips on jan 1 2024\n",
    "len(tripdata[(tripdata[\"started_at_year\"] == 2024)&(tripdata[\"started_at_day\"] == 1)])"
   ]
  },
  {
   "cell_type": "code",
   "execution_count": 107,
   "id": "11ffaa76",
   "metadata": {},
   "outputs": [
    {
     "data": {
      "text/plain": [
       "16083"
      ]
     },
     "execution_count": 107,
     "metadata": {},
     "output_type": "execute_result"
    }
   ],
   "source": [
    "# rentals for jan 1 2024 is correct!\n",
    "sum(rentals.loc[(rentals[\"year\"] == 2024) & (rentals[\"day\"] == 1),\"#_rentals\"])"
   ]
  },
  {
   "cell_type": "markdown",
   "id": "bf49629d",
   "metadata": {},
   "source": [
    "## Exporting the dataset\n",
    "The rentals dataset with complete demand information is fully prepared and can be used for further analysis."
   ]
  },
  {
   "cell_type": "code",
   "execution_count": null,
   "id": "03f388c6",
   "metadata": {},
   "outputs": [],
   "source": [
    "# exporting\n",
    "rentals.to_csv(\"rentals_with_demand.csv\", index=False)"
   ]
  },
  {
   "cell_type": "markdown",
   "id": "960c30ff",
   "metadata": {},
   "source": [
    "## Demand patterns by time\n",
    "This section is meant to explore which parts of the day have higher rental demand. This is being done to cut out some parts of time units where rental demand is consistently low throught the month."
   ]
  },
  {
   "cell_type": "code",
   "execution_count": 1,
   "id": "50c00e1c",
   "metadata": {},
   "outputs": [
    {
     "data": {
      "text/html": [
       "<div>\n",
       "<style scoped>\n",
       "    .dataframe tbody tr th:only-of-type {\n",
       "        vertical-align: middle;\n",
       "    }\n",
       "\n",
       "    .dataframe tbody tr th {\n",
       "        vertical-align: top;\n",
       "    }\n",
       "\n",
       "    .dataframe thead th {\n",
       "        text-align: right;\n",
       "    }\n",
       "</style>\n",
       "<table border=\"1\" class=\"dataframe\">\n",
       "  <thead>\n",
       "    <tr style=\"text-align: right;\">\n",
       "      <th></th>\n",
       "      <th>name</th>\n",
       "      <th>lat</th>\n",
       "      <th>lng</th>\n",
       "      <th>station_id</th>\n",
       "      <th>datetime</th>\n",
       "      <th>#_rentals</th>\n",
       "      <th>year</th>\n",
       "      <th>month</th>\n",
       "      <th>day</th>\n",
       "      <th>hour</th>\n",
       "      <th>minute</th>\n",
       "      <th>second</th>\n",
       "      <th>microsecond</th>\n",
       "    </tr>\n",
       "  </thead>\n",
       "  <tbody>\n",
       "    <tr>\n",
       "      <th>0</th>\n",
       "      <td>1 Ave &amp; E 110 St</td>\n",
       "      <td>40.792327</td>\n",
       "      <td>-73.9383</td>\n",
       "      <td>0</td>\n",
       "      <td>2023-12-31 00:00:00.000</td>\n",
       "      <td>0</td>\n",
       "      <td>2023</td>\n",
       "      <td>12</td>\n",
       "      <td>31</td>\n",
       "      <td>0</td>\n",
       "      <td>0</td>\n",
       "      <td>0</td>\n",
       "      <td>0</td>\n",
       "    </tr>\n",
       "    <tr>\n",
       "      <th>1</th>\n",
       "      <td>1 Ave &amp; E 110 St</td>\n",
       "      <td>40.792327</td>\n",
       "      <td>-73.9383</td>\n",
       "      <td>0</td>\n",
       "      <td>2023-12-31 04:00:00.000</td>\n",
       "      <td>0</td>\n",
       "      <td>2023</td>\n",
       "      <td>12</td>\n",
       "      <td>31</td>\n",
       "      <td>4</td>\n",
       "      <td>0</td>\n",
       "      <td>0</td>\n",
       "      <td>0</td>\n",
       "    </tr>\n",
       "    <tr>\n",
       "      <th>2</th>\n",
       "      <td>1 Ave &amp; E 110 St</td>\n",
       "      <td>40.792327</td>\n",
       "      <td>-73.9383</td>\n",
       "      <td>0</td>\n",
       "      <td>2023-12-31 08:00:00.000</td>\n",
       "      <td>0</td>\n",
       "      <td>2023</td>\n",
       "      <td>12</td>\n",
       "      <td>31</td>\n",
       "      <td>8</td>\n",
       "      <td>0</td>\n",
       "      <td>0</td>\n",
       "      <td>0</td>\n",
       "    </tr>\n",
       "    <tr>\n",
       "      <th>3</th>\n",
       "      <td>1 Ave &amp; E 110 St</td>\n",
       "      <td>40.792327</td>\n",
       "      <td>-73.9383</td>\n",
       "      <td>0</td>\n",
       "      <td>2023-12-31 12:00:00.000</td>\n",
       "      <td>0</td>\n",
       "      <td>2023</td>\n",
       "      <td>12</td>\n",
       "      <td>31</td>\n",
       "      <td>12</td>\n",
       "      <td>0</td>\n",
       "      <td>0</td>\n",
       "      <td>0</td>\n",
       "    </tr>\n",
       "    <tr>\n",
       "      <th>4</th>\n",
       "      <td>1 Ave &amp; E 110 St</td>\n",
       "      <td>40.792327</td>\n",
       "      <td>-73.9383</td>\n",
       "      <td>0</td>\n",
       "      <td>2023-12-31 16:00:00.000</td>\n",
       "      <td>0</td>\n",
       "      <td>2023</td>\n",
       "      <td>12</td>\n",
       "      <td>31</td>\n",
       "      <td>16</td>\n",
       "      <td>0</td>\n",
       "      <td>0</td>\n",
       "      <td>0</td>\n",
       "    </tr>\n",
       "  </tbody>\n",
       "</table>\n",
       "</div>"
      ],
      "text/plain": [
       "               name        lat      lng  station_id                 datetime  \\\n",
       "0  1 Ave & E 110 St  40.792327 -73.9383           0  2023-12-31 00:00:00.000   \n",
       "1  1 Ave & E 110 St  40.792327 -73.9383           0  2023-12-31 04:00:00.000   \n",
       "2  1 Ave & E 110 St  40.792327 -73.9383           0  2023-12-31 08:00:00.000   \n",
       "3  1 Ave & E 110 St  40.792327 -73.9383           0  2023-12-31 12:00:00.000   \n",
       "4  1 Ave & E 110 St  40.792327 -73.9383           0  2023-12-31 16:00:00.000   \n",
       "\n",
       "   #_rentals  year  month  day  hour  minute  second  microsecond  \n",
       "0          0  2023     12   31     0       0       0            0  \n",
       "1          0  2023     12   31     4       0       0            0  \n",
       "2          0  2023     12   31     8       0       0            0  \n",
       "3          0  2023     12   31    12       0       0            0  \n",
       "4          0  2023     12   31    16       0       0            0  "
      ]
     },
     "execution_count": 1,
     "metadata": {},
     "output_type": "execute_result"
    }
   ],
   "source": [
    "# importing\n",
    "import pandas as pd\n",
    "rentals = pd.read_csv(\"C:/Users/singh/Desktop/TUD (All Semesters)/Courses - Semester 5 (TU Dresden)/Research Task - Spatial Modelling/Code/rentals_with_demand.csv\")\n",
    "rentals.head()"
   ]
  },
  {
   "cell_type": "markdown",
   "id": "c509738a",
   "metadata": {},
   "source": [
    "Since minute, second and microsecond are not required they're being removed."
   ]
  },
  {
   "cell_type": "code",
   "execution_count": 2,
   "id": "d6e4d94c",
   "metadata": {},
   "outputs": [
    {
     "data": {
      "text/plain": [
       "Index(['name', 'lat', 'lng', 'station_id', 'datetime', '#_rentals', 'year',\n",
       "       'month', 'day', 'hour'],\n",
       "      dtype='object')"
      ]
     },
     "execution_count": 2,
     "metadata": {},
     "output_type": "execute_result"
    }
   ],
   "source": [
    "# dropping columns\n",
    "rentals.drop(columns = ['minute','second','microsecond'], inplace=True)\n",
    "rentals.columns"
   ]
  },
  {
   "cell_type": "code",
   "execution_count": 5,
   "id": "73c369ea",
   "metadata": {},
   "outputs": [
    {
     "data": {
      "text/plain": [
       "array([ 0,  4,  8, 12, 16, 20], dtype=int64)"
      ]
     },
     "execution_count": 5,
     "metadata": {},
     "output_type": "execute_result"
    }
   ],
   "source": [
    "# available time units\n",
    "rentals[\"hour\"].unique()"
   ]
  },
  {
   "cell_type": "code",
   "execution_count": 9,
   "id": "29b95ebd",
   "metadata": {},
   "outputs": [
    {
     "data": {
      "text/plain": [
       "[0.17681850282485875,\n",
       " 0.7471162900188324,\n",
       " 2.487582391713748,\n",
       " 2.5294991760828625,\n",
       " 2.981844397363465,\n",
       " 0.9870821563088512]"
      ]
     },
     "execution_count": 9,
     "metadata": {},
     "output_type": "execute_result"
    }
   ],
   "source": [
    "# Average number of rentals\n",
    "import statistics as st\n",
    "means = []\n",
    "for i in rentals[\"hour\"].unique():\n",
    "    means.append(st.mean(rentals.loc[rentals[\"hour\"] == i, \"#_rentals\"]))\n",
    "\n",
    "means"
   ]
  },
  {
   "cell_type": "markdown",
   "id": "cc6681d8",
   "metadata": {},
   "source": [
    "The average is taken for all days and all stations."
   ]
  },
  {
   "cell_type": "code",
   "execution_count": 12,
   "id": "c6c6437c",
   "metadata": {},
   "outputs": [
    {
     "data": {
      "text/html": [
       "<div>\n",
       "<style scoped>\n",
       "    .dataframe tbody tr th:only-of-type {\n",
       "        vertical-align: middle;\n",
       "    }\n",
       "\n",
       "    .dataframe tbody tr th {\n",
       "        vertical-align: top;\n",
       "    }\n",
       "\n",
       "    .dataframe thead th {\n",
       "        text-align: right;\n",
       "    }\n",
       "</style>\n",
       "<table border=\"1\" class=\"dataframe\">\n",
       "  <thead>\n",
       "    <tr style=\"text-align: right;\">\n",
       "      <th></th>\n",
       "      <th>name</th>\n",
       "      <th>lat</th>\n",
       "      <th>lng</th>\n",
       "      <th>station_id</th>\n",
       "      <th>datetime</th>\n",
       "      <th>#_rentals</th>\n",
       "      <th>year</th>\n",
       "      <th>month</th>\n",
       "      <th>day</th>\n",
       "      <th>hour</th>\n",
       "    </tr>\n",
       "  </thead>\n",
       "  <tbody>\n",
       "    <tr>\n",
       "      <th>2</th>\n",
       "      <td>1 Ave &amp; E 110 St</td>\n",
       "      <td>40.792327</td>\n",
       "      <td>-73.938300</td>\n",
       "      <td>0</td>\n",
       "      <td>2023-12-31 08:00:00.000</td>\n",
       "      <td>0</td>\n",
       "      <td>2023</td>\n",
       "      <td>12</td>\n",
       "      <td>31</td>\n",
       "      <td>8</td>\n",
       "    </tr>\n",
       "    <tr>\n",
       "      <th>8</th>\n",
       "      <td>1 Ave &amp; E 110 St</td>\n",
       "      <td>40.792327</td>\n",
       "      <td>-73.938300</td>\n",
       "      <td>0</td>\n",
       "      <td>2024-01-01 08:00:00.000</td>\n",
       "      <td>0</td>\n",
       "      <td>2024</td>\n",
       "      <td>1</td>\n",
       "      <td>1</td>\n",
       "      <td>8</td>\n",
       "    </tr>\n",
       "    <tr>\n",
       "      <th>14</th>\n",
       "      <td>1 Ave &amp; E 110 St</td>\n",
       "      <td>40.792327</td>\n",
       "      <td>-73.938300</td>\n",
       "      <td>0</td>\n",
       "      <td>2024-01-02 08:00:00.000</td>\n",
       "      <td>3</td>\n",
       "      <td>2024</td>\n",
       "      <td>1</td>\n",
       "      <td>2</td>\n",
       "      <td>8</td>\n",
       "    </tr>\n",
       "    <tr>\n",
       "      <th>20</th>\n",
       "      <td>1 Ave &amp; E 110 St</td>\n",
       "      <td>40.792327</td>\n",
       "      <td>-73.938300</td>\n",
       "      <td>0</td>\n",
       "      <td>2024-01-03 08:00:00.000</td>\n",
       "      <td>4</td>\n",
       "      <td>2024</td>\n",
       "      <td>1</td>\n",
       "      <td>3</td>\n",
       "      <td>8</td>\n",
       "    </tr>\n",
       "    <tr>\n",
       "      <th>26</th>\n",
       "      <td>1 Ave &amp; E 110 St</td>\n",
       "      <td>40.792327</td>\n",
       "      <td>-73.938300</td>\n",
       "      <td>0</td>\n",
       "      <td>2024-01-04 08:00:00.000</td>\n",
       "      <td>5</td>\n",
       "      <td>2024</td>\n",
       "      <td>1</td>\n",
       "      <td>4</td>\n",
       "      <td>8</td>\n",
       "    </tr>\n",
       "    <tr>\n",
       "      <th>...</th>\n",
       "      <td>...</td>\n",
       "      <td>...</td>\n",
       "      <td>...</td>\n",
       "      <td>...</td>\n",
       "      <td>...</td>\n",
       "      <td>...</td>\n",
       "      <td>...</td>\n",
       "      <td>...</td>\n",
       "      <td>...</td>\n",
       "      <td>...</td>\n",
       "    </tr>\n",
       "    <tr>\n",
       "      <th>407780</th>\n",
       "      <td>Yankee Ferry Terminal</td>\n",
       "      <td>40.687066</td>\n",
       "      <td>-74.016756</td>\n",
       "      <td>2123</td>\n",
       "      <td>2024-01-27 08:00:00.000</td>\n",
       "      <td>0</td>\n",
       "      <td>2024</td>\n",
       "      <td>1</td>\n",
       "      <td>27</td>\n",
       "      <td>8</td>\n",
       "    </tr>\n",
       "    <tr>\n",
       "      <th>407786</th>\n",
       "      <td>Yankee Ferry Terminal</td>\n",
       "      <td>40.687066</td>\n",
       "      <td>-74.016756</td>\n",
       "      <td>2123</td>\n",
       "      <td>2024-01-28 08:00:00.000</td>\n",
       "      <td>0</td>\n",
       "      <td>2024</td>\n",
       "      <td>1</td>\n",
       "      <td>28</td>\n",
       "      <td>8</td>\n",
       "    </tr>\n",
       "    <tr>\n",
       "      <th>407792</th>\n",
       "      <td>Yankee Ferry Terminal</td>\n",
       "      <td>40.687066</td>\n",
       "      <td>-74.016756</td>\n",
       "      <td>2123</td>\n",
       "      <td>2024-01-29 08:00:00.000</td>\n",
       "      <td>0</td>\n",
       "      <td>2024</td>\n",
       "      <td>1</td>\n",
       "      <td>29</td>\n",
       "      <td>8</td>\n",
       "    </tr>\n",
       "    <tr>\n",
       "      <th>407798</th>\n",
       "      <td>Yankee Ferry Terminal</td>\n",
       "      <td>40.687066</td>\n",
       "      <td>-74.016756</td>\n",
       "      <td>2123</td>\n",
       "      <td>2024-01-30 08:00:00.000</td>\n",
       "      <td>0</td>\n",
       "      <td>2024</td>\n",
       "      <td>1</td>\n",
       "      <td>30</td>\n",
       "      <td>8</td>\n",
       "    </tr>\n",
       "    <tr>\n",
       "      <th>407804</th>\n",
       "      <td>Yankee Ferry Terminal</td>\n",
       "      <td>40.687066</td>\n",
       "      <td>-74.016756</td>\n",
       "      <td>2123</td>\n",
       "      <td>2024-01-31 08:00:00.000</td>\n",
       "      <td>0</td>\n",
       "      <td>2024</td>\n",
       "      <td>1</td>\n",
       "      <td>31</td>\n",
       "      <td>8</td>\n",
       "    </tr>\n",
       "  </tbody>\n",
       "</table>\n",
       "<p>67968 rows × 10 columns</p>\n",
       "</div>"
      ],
      "text/plain": [
       "                         name        lat        lng  station_id  \\\n",
       "2            1 Ave & E 110 St  40.792327 -73.938300           0   \n",
       "8            1 Ave & E 110 St  40.792327 -73.938300           0   \n",
       "14           1 Ave & E 110 St  40.792327 -73.938300           0   \n",
       "20           1 Ave & E 110 St  40.792327 -73.938300           0   \n",
       "26           1 Ave & E 110 St  40.792327 -73.938300           0   \n",
       "...                       ...        ...        ...         ...   \n",
       "407780  Yankee Ferry Terminal  40.687066 -74.016756        2123   \n",
       "407786  Yankee Ferry Terminal  40.687066 -74.016756        2123   \n",
       "407792  Yankee Ferry Terminal  40.687066 -74.016756        2123   \n",
       "407798  Yankee Ferry Terminal  40.687066 -74.016756        2123   \n",
       "407804  Yankee Ferry Terminal  40.687066 -74.016756        2123   \n",
       "\n",
       "                       datetime  #_rentals  year  month  day  hour  \n",
       "2       2023-12-31 08:00:00.000          0  2023     12   31     8  \n",
       "8       2024-01-01 08:00:00.000          0  2024      1    1     8  \n",
       "14      2024-01-02 08:00:00.000          3  2024      1    2     8  \n",
       "20      2024-01-03 08:00:00.000          4  2024      1    3     8  \n",
       "26      2024-01-04 08:00:00.000          5  2024      1    4     8  \n",
       "...                         ...        ...   ...    ...  ...   ...  \n",
       "407780  2024-01-27 08:00:00.000          0  2024      1   27     8  \n",
       "407786  2024-01-28 08:00:00.000          0  2024      1   28     8  \n",
       "407792  2024-01-29 08:00:00.000          0  2024      1   29     8  \n",
       "407798  2024-01-30 08:00:00.000          0  2024      1   30     8  \n",
       "407804  2024-01-31 08:00:00.000          0  2024      1   31     8  \n",
       "\n",
       "[67968 rows x 10 columns]"
      ]
     },
     "execution_count": 12,
     "metadata": {},
     "output_type": "execute_result"
    }
   ],
   "source": [
    "# The data spread\n",
    "rentals[rentals[\"hour\"] == 8]"
   ]
  },
  {
   "cell_type": "markdown",
   "id": "794ba948",
   "metadata": {},
   "source": [
    "From the means, it can be seen that most of the traffic is coming from the 3 following time units:\n",
    "- 8 to 12\n",
    "- 12 to 16\n",
    "- 16 to 20\n",
    "\n",
    "Since the rental volume is also somewhat cosniderable from *20 to 24*, bike traffic from *20 to 22* should also be considered since this time window is likely to contain most of the rentals from the time unit: <u>20 to 24</u>.\n",
    "<br><br>\n",
    "Hence, the time-frame per day that should be taken into account to accomodate majority of the rentals ranges from **8 AM - 10 PM**."
   ]
  },
  {
   "cell_type": "markdown",
   "id": "d605a2ba",
   "metadata": {},
   "source": [
    "## Proposed New Time Units\n",
    "A new dataset calculating rentals can be prepared with the following 6 time units, each of *two hour* gaps:\n",
    "- 8 - 10\n",
    "- 10 - 12\n",
    "- 12 - 14\n",
    "- 14 - 16\n",
    "- 16 - 20\n",
    "- 20 - 22"
   ]
  }
 ],
 "metadata": {
  "kernelspec": {
   "display_name": "Python [conda env:base] *",
   "language": "python",
   "name": "conda-base-py"
  },
  "language_info": {
   "codemirror_mode": {
    "name": "ipython",
    "version": 3
   },
   "file_extension": ".py",
   "mimetype": "text/x-python",
   "name": "python",
   "nbconvert_exporter": "python",
   "pygments_lexer": "ipython3",
   "version": "3.12.7"
  }
 },
 "nbformat": 4,
 "nbformat_minor": 5
}
