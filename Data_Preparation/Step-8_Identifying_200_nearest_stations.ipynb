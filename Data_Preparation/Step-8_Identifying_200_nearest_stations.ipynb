{
 "cells": [
  {
   "cell_type": "markdown",
   "id": "f093c421",
   "metadata": {},
   "source": [
    "## Station Locations to POINTs\n",
    "The 4 month combined dataset is very huge. Instead of taking the entire, we will firstly take a look at the 200 nearest stations for a selected station. Since, the first station in the dataset is <u>1 Ave & E 110 St</u> the nearest 200 stations will be calculated."
   ]
  },
  {
   "cell_type": "code",
   "execution_count": 1,
   "id": "afc6468a",
   "metadata": {},
   "outputs": [
    {
     "name": "stdout",
     "output_type": "stream",
     "text": [
      "<class 'pandas.core.frame.DataFrame'>\n",
      "RangeIndex: 1783152 entries, 0 to 1783151\n",
      "Data columns (total 10 columns):\n",
      " #   Column     Dtype  \n",
      "---  ------     -----  \n",
      " 0   name       object \n",
      " 1   lat        float64\n",
      " 2   lng        float64\n",
      " 3   datetime   object \n",
      " 4   #_rentals  int64  \n",
      " 5   year       int64  \n",
      " 6   month      int64  \n",
      " 7   day        int64  \n",
      " 8   hour       int64  \n",
      " 9   ID         int64  \n",
      "dtypes: float64(2), int64(6), object(2)\n",
      "memory usage: 136.0+ MB\n"
     ]
    }
   ],
   "source": [
    "# Importing the rentals dataset\n",
    "import geopandas as gpd\n",
    "import pandas as pd\n",
    "rentals = pd.read_csv(r\"C:\\Users\\singh\\Desktop\\TUD (All Semesters)\\Courses - Semester 5 (TU Dresden)\\Research Task - Spatial Modelling\\Code\\RENTALS.csv\")\n",
    "rentals.info()                      "
   ]
  },
  {
   "cell_type": "code",
   "execution_count": 2,
   "id": "024bb574",
   "metadata": {},
   "outputs": [
    {
     "data": {
      "text/html": [
       "<div>\n",
       "<style scoped>\n",
       "    .dataframe tbody tr th:only-of-type {\n",
       "        vertical-align: middle;\n",
       "    }\n",
       "\n",
       "    .dataframe tbody tr th {\n",
       "        vertical-align: top;\n",
       "    }\n",
       "\n",
       "    .dataframe thead th {\n",
       "        text-align: right;\n",
       "    }\n",
       "</style>\n",
       "<table border=\"1\" class=\"dataframe\">\n",
       "  <thead>\n",
       "    <tr style=\"text-align: right;\">\n",
       "      <th></th>\n",
       "      <th>name</th>\n",
       "      <th>lat</th>\n",
       "      <th>lng</th>\n",
       "      <th>datetime</th>\n",
       "      <th>#_rentals</th>\n",
       "      <th>year</th>\n",
       "      <th>month</th>\n",
       "      <th>day</th>\n",
       "      <th>hour</th>\n",
       "      <th>ID</th>\n",
       "      <th>coordinates</th>\n",
       "    </tr>\n",
       "  </thead>\n",
       "  <tbody>\n",
       "    <tr>\n",
       "      <th>0</th>\n",
       "      <td>1 Ave &amp; E 110 St</td>\n",
       "      <td>40.792327</td>\n",
       "      <td>-73.9383</td>\n",
       "      <td>2023-12-31 08:00:00.000</td>\n",
       "      <td>0</td>\n",
       "      <td>2023</td>\n",
       "      <td>12</td>\n",
       "      <td>31</td>\n",
       "      <td>8</td>\n",
       "      <td>0</td>\n",
       "      <td>POINT (-73.9383 40.79233)</td>\n",
       "    </tr>\n",
       "    <tr>\n",
       "      <th>1</th>\n",
       "      <td>1 Ave &amp; E 110 St</td>\n",
       "      <td>40.792327</td>\n",
       "      <td>-73.9383</td>\n",
       "      <td>2024-03-28 10:00:00.000</td>\n",
       "      <td>1</td>\n",
       "      <td>2024</td>\n",
       "      <td>3</td>\n",
       "      <td>28</td>\n",
       "      <td>10</td>\n",
       "      <td>0</td>\n",
       "      <td>POINT (-73.9383 40.79233)</td>\n",
       "    </tr>\n",
       "    <tr>\n",
       "      <th>2</th>\n",
       "      <td>1 Ave &amp; E 110 St</td>\n",
       "      <td>40.792327</td>\n",
       "      <td>-73.9383</td>\n",
       "      <td>2024-03-28 12:00:00.000</td>\n",
       "      <td>1</td>\n",
       "      <td>2024</td>\n",
       "      <td>3</td>\n",
       "      <td>28</td>\n",
       "      <td>12</td>\n",
       "      <td>0</td>\n",
       "      <td>POINT (-73.9383 40.79233)</td>\n",
       "    </tr>\n",
       "    <tr>\n",
       "      <th>3</th>\n",
       "      <td>1 Ave &amp; E 110 St</td>\n",
       "      <td>40.792327</td>\n",
       "      <td>-73.9383</td>\n",
       "      <td>2024-03-28 14:00:00.000</td>\n",
       "      <td>1</td>\n",
       "      <td>2024</td>\n",
       "      <td>3</td>\n",
       "      <td>28</td>\n",
       "      <td>14</td>\n",
       "      <td>0</td>\n",
       "      <td>POINT (-73.9383 40.79233)</td>\n",
       "    </tr>\n",
       "    <tr>\n",
       "      <th>4</th>\n",
       "      <td>1 Ave &amp; E 110 St</td>\n",
       "      <td>40.792327</td>\n",
       "      <td>-73.9383</td>\n",
       "      <td>2024-03-28 16:00:00.000</td>\n",
       "      <td>3</td>\n",
       "      <td>2024</td>\n",
       "      <td>3</td>\n",
       "      <td>28</td>\n",
       "      <td>16</td>\n",
       "      <td>0</td>\n",
       "      <td>POINT (-73.9383 40.79233)</td>\n",
       "    </tr>\n",
       "  </tbody>\n",
       "</table>\n",
       "</div>"
      ],
      "text/plain": [
       "               name        lat      lng                 datetime  #_rentals  \\\n",
       "0  1 Ave & E 110 St  40.792327 -73.9383  2023-12-31 08:00:00.000          0   \n",
       "1  1 Ave & E 110 St  40.792327 -73.9383  2024-03-28 10:00:00.000          1   \n",
       "2  1 Ave & E 110 St  40.792327 -73.9383  2024-03-28 12:00:00.000          1   \n",
       "3  1 Ave & E 110 St  40.792327 -73.9383  2024-03-28 14:00:00.000          1   \n",
       "4  1 Ave & E 110 St  40.792327 -73.9383  2024-03-28 16:00:00.000          3   \n",
       "\n",
       "   year  month  day  hour  ID                coordinates  \n",
       "0  2023     12   31     8   0  POINT (-73.9383 40.79233)  \n",
       "1  2024      3   28    10   0  POINT (-73.9383 40.79233)  \n",
       "2  2024      3   28    12   0  POINT (-73.9383 40.79233)  \n",
       "3  2024      3   28    14   0  POINT (-73.9383 40.79233)  \n",
       "4  2024      3   28    16   0  POINT (-73.9383 40.79233)  "
      ]
     },
     "execution_count": 2,
     "metadata": {},
     "output_type": "execute_result"
    }
   ],
   "source": [
    "# adding POINT geometry to rentals\n",
    "rentals[\"coordinates\"] = gpd.points_from_xy(rentals.lng, rentals.lat, crs=\"EPSG:4326\")\n",
    "rentals.head()"
   ]
  },
  {
   "cell_type": "code",
   "execution_count": 3,
   "id": "96ea26b2",
   "metadata": {},
   "outputs": [
    {
     "data": {
      "text/html": [
       "<div>\n",
       "<style scoped>\n",
       "    .dataframe tbody tr th:only-of-type {\n",
       "        vertical-align: middle;\n",
       "    }\n",
       "\n",
       "    .dataframe tbody tr th {\n",
       "        vertical-align: top;\n",
       "    }\n",
       "\n",
       "    .dataframe thead th {\n",
       "        text-align: right;\n",
       "    }\n",
       "</style>\n",
       "<table border=\"1\" class=\"dataframe\">\n",
       "  <thead>\n",
       "    <tr style=\"text-align: right;\">\n",
       "      <th></th>\n",
       "      <th>name</th>\n",
       "      <th>ID</th>\n",
       "      <th>coordinates</th>\n",
       "    </tr>\n",
       "  </thead>\n",
       "  <tbody>\n",
       "    <tr>\n",
       "      <th>0</th>\n",
       "      <td>1 Ave &amp; E 110 St</td>\n",
       "      <td>0</td>\n",
       "      <td>POINT (-73.9383 40.79233)</td>\n",
       "    </tr>\n",
       "    <tr>\n",
       "      <th>1</th>\n",
       "      <td>1 Ave &amp; E 16 St</td>\n",
       "      <td>1</td>\n",
       "      <td>POINT (-73.98166 40.73222)</td>\n",
       "    </tr>\n",
       "    <tr>\n",
       "      <th>2</th>\n",
       "      <td>1 Ave &amp; E 18 St</td>\n",
       "      <td>2</td>\n",
       "      <td>POINT (-73.98054 40.73381)</td>\n",
       "    </tr>\n",
       "    <tr>\n",
       "      <th>3</th>\n",
       "      <td>1 Ave &amp; E 30 St</td>\n",
       "      <td>3</td>\n",
       "      <td>POINT (-73.97536 40.74144)</td>\n",
       "    </tr>\n",
       "    <tr>\n",
       "      <th>4</th>\n",
       "      <td>1 Ave &amp; E 39 St</td>\n",
       "      <td>4</td>\n",
       "      <td>POINT (-73.97113 40.74714)</td>\n",
       "    </tr>\n",
       "  </tbody>\n",
       "</table>\n",
       "</div>"
      ],
      "text/plain": [
       "               name  ID                 coordinates\n",
       "0  1 Ave & E 110 St   0   POINT (-73.9383 40.79233)\n",
       "1   1 Ave & E 16 St   1  POINT (-73.98166 40.73222)\n",
       "2   1 Ave & E 18 St   2  POINT (-73.98054 40.73381)\n",
       "3   1 Ave & E 30 St   3  POINT (-73.97536 40.74144)\n",
       "4   1 Ave & E 39 St   4  POINT (-73.97113 40.74714)"
      ]
     },
     "execution_count": 3,
     "metadata": {},
     "output_type": "execute_result"
    }
   ],
   "source": [
    "# Identifying uniques stations\n",
    "stations = rentals.drop_duplicates(subset=['name', 'ID', 'coordinates'], ignore_index=True)\n",
    "stations = stations[[\"name\", \"ID\", \"coordinates\"]]\n",
    "stations.head()"
   ]
  },
  {
   "cell_type": "markdown",
   "id": "9c34e4c9",
   "metadata": {},
   "source": [
    "## Selecting Stations\n",
    "Stations need to be filtered so that only the nearest stations are listed. Using stations that are closer together will help while modelling <u>spatial dependencies</u>. For determining which stations are closer, distance needs to be calculated. "
   ]
  },
  {
   "cell_type": "code",
   "execution_count": 4,
   "id": "a96cee8a",
   "metadata": {},
   "outputs": [
    {
     "name": "stdout",
     "output_type": "stream",
     "text": [
      "<class 'pandas.core.frame.DataFrame'>\n",
      "<class 'geopandas.geodataframe.GeoDataFrame'>\n"
     ]
    }
   ],
   "source": [
    "# stations df is not a GeoDataFrame\n",
    "print(type(stations))\n",
    "\n",
    "# Convert to a GeoDataFrame\n",
    "stations_gdf = gpd.GeoDataFrame(stations, geometry='coordinates', crs=\"EPSG:4326\")\n",
    "print(type(stations_gdf))"
   ]
  },
  {
   "cell_type": "code",
   "execution_count": 5,
   "id": "72f82f01",
   "metadata": {},
   "outputs": [
    {
     "data": {
      "text/html": [
       "<div>\n",
       "<style scoped>\n",
       "    .dataframe tbody tr th:only-of-type {\n",
       "        vertical-align: middle;\n",
       "    }\n",
       "\n",
       "    .dataframe tbody tr th {\n",
       "        vertical-align: top;\n",
       "    }\n",
       "\n",
       "    .dataframe thead th {\n",
       "        text-align: right;\n",
       "    }\n",
       "</style>\n",
       "<table border=\"1\" class=\"dataframe\">\n",
       "  <thead>\n",
       "    <tr style=\"text-align: right;\">\n",
       "      <th></th>\n",
       "      <th>name</th>\n",
       "      <th>ID</th>\n",
       "      <th>coordinates</th>\n",
       "    </tr>\n",
       "  </thead>\n",
       "  <tbody>\n",
       "    <tr>\n",
       "      <th>0</th>\n",
       "      <td>1 Ave &amp; E 110 St</td>\n",
       "      <td>0</td>\n",
       "      <td>POINT (-73.9383 40.79233)</td>\n",
       "    </tr>\n",
       "    <tr>\n",
       "      <th>1</th>\n",
       "      <td>1 Ave &amp; E 16 St</td>\n",
       "      <td>1</td>\n",
       "      <td>POINT (-73.98166 40.73222)</td>\n",
       "    </tr>\n",
       "    <tr>\n",
       "      <th>2</th>\n",
       "      <td>1 Ave &amp; E 18 St</td>\n",
       "      <td>2</td>\n",
       "      <td>POINT (-73.98054 40.73381)</td>\n",
       "    </tr>\n",
       "    <tr>\n",
       "      <th>3</th>\n",
       "      <td>1 Ave &amp; E 30 St</td>\n",
       "      <td>3</td>\n",
       "      <td>POINT (-73.97536 40.74144)</td>\n",
       "    </tr>\n",
       "    <tr>\n",
       "      <th>4</th>\n",
       "      <td>1 Ave &amp; E 39 St</td>\n",
       "      <td>4</td>\n",
       "      <td>POINT (-73.97113 40.74714)</td>\n",
       "    </tr>\n",
       "  </tbody>\n",
       "</table>\n",
       "</div>"
      ],
      "text/plain": [
       "               name  ID                 coordinates\n",
       "0  1 Ave & E 110 St   0   POINT (-73.9383 40.79233)\n",
       "1   1 Ave & E 16 St   1  POINT (-73.98166 40.73222)\n",
       "2   1 Ave & E 18 St   2  POINT (-73.98054 40.73381)\n",
       "3   1 Ave & E 30 St   3  POINT (-73.97536 40.74144)\n",
       "4   1 Ave & E 39 St   4  POINT (-73.97113 40.74714)"
      ]
     },
     "execution_count": 5,
     "metadata": {},
     "output_type": "execute_result"
    }
   ],
   "source": [
    "# Point geometries\n",
    "stations_gdf.head()"
   ]
  },
  {
   "cell_type": "code",
   "execution_count": 6,
   "id": "5d3e84b8",
   "metadata": {},
   "outputs": [
    {
     "data": {
      "text/plain": [
       "0.07411314093461886"
      ]
     },
     "execution_count": 6,
     "metadata": {},
     "output_type": "execute_result"
    }
   ],
   "source": [
    "# Distance between the first two stations (shortest distance) \n",
    "stations_gdf.loc[0,\"coordinates\"].distance(stations_gdf.loc[1,\"coordinates\"])"
   ]
  },
  {
   "cell_type": "code",
   "execution_count": 7,
   "id": "502a8706",
   "metadata": {},
   "outputs": [
    {
     "data": {
      "text/plain": [
       "[0.0,\n",
       " 0.07411314093461886,\n",
       " 0.07217048842703006,\n",
       " 0.06294932605645888,\n",
       " 0.055854202562030636]"
      ]
     },
     "execution_count": 7,
     "metadata": {},
     "output_type": "execute_result"
    }
   ],
   "source": [
    "# Calculating distance of each station with '1 Ave & E 110 St'\n",
    "dist = []\n",
    "for i in stations_gdf[\"coordinates\"]:\n",
    "    dist.append(stations_gdf.loc[0,\"coordinates\"].distance(i))\n",
    "dist[:5]"
   ]
  },
  {
   "cell_type": "code",
   "execution_count": 8,
   "id": "15f83793",
   "metadata": {},
   "outputs": [
    {
     "data": {
      "text/html": [
       "<div>\n",
       "<style scoped>\n",
       "    .dataframe tbody tr th:only-of-type {\n",
       "        vertical-align: middle;\n",
       "    }\n",
       "\n",
       "    .dataframe tbody tr th {\n",
       "        vertical-align: top;\n",
       "    }\n",
       "\n",
       "    .dataframe thead th {\n",
       "        text-align: right;\n",
       "    }\n",
       "</style>\n",
       "<table border=\"1\" class=\"dataframe\">\n",
       "  <thead>\n",
       "    <tr style=\"text-align: right;\">\n",
       "      <th></th>\n",
       "      <th>name</th>\n",
       "      <th>ID</th>\n",
       "      <th>coordinates</th>\n",
       "      <th>distance_to_1Ave&amp;E110_St</th>\n",
       "    </tr>\n",
       "  </thead>\n",
       "  <tbody>\n",
       "    <tr>\n",
       "      <th>0</th>\n",
       "      <td>1 Ave &amp; E 110 St</td>\n",
       "      <td>0</td>\n",
       "      <td>POINT (-73.9383 40.79233)</td>\n",
       "      <td>0.000000</td>\n",
       "    </tr>\n",
       "    <tr>\n",
       "      <th>1</th>\n",
       "      <td>1 Ave &amp; E 16 St</td>\n",
       "      <td>1</td>\n",
       "      <td>POINT (-73.98166 40.73222)</td>\n",
       "      <td>0.074113</td>\n",
       "    </tr>\n",
       "    <tr>\n",
       "      <th>2</th>\n",
       "      <td>1 Ave &amp; E 18 St</td>\n",
       "      <td>2</td>\n",
       "      <td>POINT (-73.98054 40.73381)</td>\n",
       "      <td>0.072170</td>\n",
       "    </tr>\n",
       "    <tr>\n",
       "      <th>3</th>\n",
       "      <td>1 Ave &amp; E 30 St</td>\n",
       "      <td>3</td>\n",
       "      <td>POINT (-73.97536 40.74144)</td>\n",
       "      <td>0.062949</td>\n",
       "    </tr>\n",
       "    <tr>\n",
       "      <th>4</th>\n",
       "      <td>1 Ave &amp; E 39 St</td>\n",
       "      <td>4</td>\n",
       "      <td>POINT (-73.97113 40.74714)</td>\n",
       "      <td>0.055854</td>\n",
       "    </tr>\n",
       "  </tbody>\n",
       "</table>\n",
       "</div>"
      ],
      "text/plain": [
       "               name  ID                 coordinates  distance_to_1Ave&E110_St\n",
       "0  1 Ave & E 110 St   0   POINT (-73.9383 40.79233)                  0.000000\n",
       "1   1 Ave & E 16 St   1  POINT (-73.98166 40.73222)                  0.074113\n",
       "2   1 Ave & E 18 St   2  POINT (-73.98054 40.73381)                  0.072170\n",
       "3   1 Ave & E 30 St   3  POINT (-73.97536 40.74144)                  0.062949\n",
       "4   1 Ave & E 39 St   4  POINT (-73.97113 40.74714)                  0.055854"
      ]
     },
     "execution_count": 8,
     "metadata": {},
     "output_type": "execute_result"
    }
   ],
   "source": [
    "# Adding dist as a column\n",
    "stations_gdf[\"distance_to_1Ave&E110_St\"] = dist\n",
    "stations_gdf.head()"
   ]
  },
  {
   "cell_type": "code",
   "execution_count": 20,
   "id": "8e2b7506",
   "metadata": {},
   "outputs": [
    {
     "data": {
      "text/html": [
       "<div>\n",
       "<style scoped>\n",
       "    .dataframe tbody tr th:only-of-type {\n",
       "        vertical-align: middle;\n",
       "    }\n",
       "\n",
       "    .dataframe tbody tr th {\n",
       "        vertical-align: top;\n",
       "    }\n",
       "\n",
       "    .dataframe thead th {\n",
       "        text-align: right;\n",
       "    }\n",
       "</style>\n",
       "<table border=\"1\" class=\"dataframe\">\n",
       "  <thead>\n",
       "    <tr style=\"text-align: right;\">\n",
       "      <th></th>\n",
       "      <th>name</th>\n",
       "      <th>ID</th>\n",
       "      <th>coordinates</th>\n",
       "      <th>distance_to_1Ave&amp;E110_St</th>\n",
       "    </tr>\n",
       "  </thead>\n",
       "  <tbody>\n",
       "    <tr>\n",
       "      <th>0</th>\n",
       "      <td>1 Ave &amp; E 110 St</td>\n",
       "      <td>0</td>\n",
       "      <td>POINT (-73.9383 40.79233)</td>\n",
       "      <td>0.000000</td>\n",
       "    </tr>\n",
       "    <tr>\n",
       "      <th>898</th>\n",
       "      <td>E 114 St &amp; 1 Ave</td>\n",
       "      <td>901</td>\n",
       "      <td>POINT (-73.93625 40.79457)</td>\n",
       "      <td>0.003033</td>\n",
       "    </tr>\n",
       "    <tr>\n",
       "      <th>891</th>\n",
       "      <td>E 106 St &amp; 1 Ave</td>\n",
       "      <td>894</td>\n",
       "      <td>POINT (-73.93956 40.78925)</td>\n",
       "      <td>0.003323</td>\n",
       "    </tr>\n",
       "    <tr>\n",
       "      <th>115</th>\n",
       "      <td>3 Ave &amp; E 112 St</td>\n",
       "      <td>115</td>\n",
       "      <td>POINT (-73.94161 40.79551)</td>\n",
       "      <td>0.004588</td>\n",
       "    </tr>\n",
       "    <tr>\n",
       "      <th>901</th>\n",
       "      <td>E 116 St &amp; 2 Ave</td>\n",
       "      <td>904</td>\n",
       "      <td>POINT (-73.93726 40.79688)</td>\n",
       "      <td>0.004669</td>\n",
       "    </tr>\n",
       "  </tbody>\n",
       "</table>\n",
       "</div>"
      ],
      "text/plain": [
       "                 name   ID                 coordinates  \\\n",
       "0    1 Ave & E 110 St    0   POINT (-73.9383 40.79233)   \n",
       "898  E 114 St & 1 Ave  901  POINT (-73.93625 40.79457)   \n",
       "891  E 106 St & 1 Ave  894  POINT (-73.93956 40.78925)   \n",
       "115  3 Ave & E 112 St  115  POINT (-73.94161 40.79551)   \n",
       "901  E 116 St & 2 Ave  904  POINT (-73.93726 40.79688)   \n",
       "\n",
       "     distance_to_1Ave&E110_St  \n",
       "0                    0.000000  \n",
       "898                  0.003033  \n",
       "891                  0.003323  \n",
       "115                  0.004588  \n",
       "901                  0.004669  "
      ]
     },
     "execution_count": 20,
     "metadata": {},
     "output_type": "execute_result"
    }
   ],
   "source": [
    "# nearest 200 stations\n",
    "selected_stations = stations_gdf.sort_values(by=\"distance_to_1Ave&E110_St\")\n",
    "selected_stations = selected_stations.head(200)\n",
    "selected_stations.head()"
   ]
  },
  {
   "cell_type": "code",
   "execution_count": 26,
   "id": "9cb252ac",
   "metadata": {},
   "outputs": [
    {
     "name": "stdout",
     "output_type": "stream",
     "text": [
      "<class 'pandas.core.frame.DataFrame'>\n",
      "Index: 170800 entries, 0 to 1765217\n",
      "Data columns (total 11 columns):\n",
      " #   Column       Non-Null Count   Dtype   \n",
      "---  ------       --------------   -----   \n",
      " 0   name         170800 non-null  object  \n",
      " 1   lat          170800 non-null  float64 \n",
      " 2   lng          170800 non-null  float64 \n",
      " 3   datetime     170800 non-null  object  \n",
      " 4   #_rentals    170800 non-null  int64   \n",
      " 5   year         170800 non-null  int64   \n",
      " 6   month        170800 non-null  int64   \n",
      " 7   day          170800 non-null  int64   \n",
      " 8   hour         170800 non-null  int64   \n",
      " 9   ID           170800 non-null  int64   \n",
      " 10  coordinates  170800 non-null  geometry\n",
      "dtypes: float64(2), geometry(1), int64(6), object(2)\n",
      "memory usage: 15.6+ MB\n"
     ]
    }
   ],
   "source": [
    "# filtering rentals data for chosen stations\n",
    "selected_rentals = rentals[rentals[\"ID\"].isin(list(selected_stations[\"ID\"]))]\n",
    "selected_rentals.info()"
   ]
  },
  {
   "cell_type": "code",
   "execution_count": 27,
   "id": "30f37b17",
   "metadata": {},
   "outputs": [
    {
     "data": {
      "text/plain": [
       "200"
      ]
     },
     "execution_count": 27,
     "metadata": {},
     "output_type": "execute_result"
    }
   ],
   "source": [
    "# Checking the number of stations\n",
    "len(selected_rentals[\"ID\"].unique())"
   ]
  },
  {
   "cell_type": "code",
   "execution_count": 28,
   "id": "6d8e02ef",
   "metadata": {},
   "outputs": [],
   "source": [
    "# exporting the selected rentals\n",
    "selected_rentals.to_csv(\"rentals_near200_st.csv\", index=False)"
   ]
  }
 ],
 "metadata": {
  "kernelspec": {
   "display_name": "Python [conda env:base] *",
   "language": "python",
   "name": "conda-base-py"
  },
  "language_info": {
   "codemirror_mode": {
    "name": "ipython",
    "version": 3
   },
   "file_extension": ".py",
   "mimetype": "text/x-python",
   "name": "python",
   "nbconvert_exporter": "python",
   "pygments_lexer": "ipython3",
   "version": "3.12.7"
  }
 },
 "nbformat": 4,
 "nbformat_minor": 5
}
