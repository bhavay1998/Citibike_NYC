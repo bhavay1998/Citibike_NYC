{
 "cells": [
  {
   "cell_type": "markdown",
   "id": "050a114d",
   "metadata": {},
   "source": [
    "# Preparing datasets: Mar'24\n",
    "This notebook is meant to generate a new dataset (only for March 2024) based on *Citibike Trip data* that can be used to determine **bike rentals** based on a <u>fixed time resolution</u>. "
   ]
  },
  {
   "cell_type": "markdown",
   "id": "339596d1",
   "metadata": {},
   "source": [
    "## Preparing Trip data"
   ]
  },
  {
   "cell_type": "code",
   "execution_count": 1,
   "id": "ff086b0f",
   "metadata": {},
   "outputs": [
    {
     "name": "stderr",
     "output_type": "stream",
     "text": [
      "C:\\Users\\singh\\AppData\\Local\\Temp\\ipykernel_17924\\484946610.py:2: DtypeWarning: Columns (5,7) have mixed types. Specify dtype option on import or set low_memory=False.\n",
      "  citi_mar_24 = pd.read_csv(\"C:/Users/singh/Desktop/TUD (All Semesters)/Courses - Semester 5 (TU Dresden)/Research Task - Spatial Modelling/Datasets/Citibike Trip Data/202403-citibike-tripdata.csv\")\n"
     ]
    },
    {
     "data": {
      "text/html": [
       "<div>\n",
       "<style scoped>\n",
       "    .dataframe tbody tr th:only-of-type {\n",
       "        vertical-align: middle;\n",
       "    }\n",
       "\n",
       "    .dataframe tbody tr th {\n",
       "        vertical-align: top;\n",
       "    }\n",
       "\n",
       "    .dataframe thead th {\n",
       "        text-align: right;\n",
       "    }\n",
       "</style>\n",
       "<table border=\"1\" class=\"dataframe\">\n",
       "  <thead>\n",
       "    <tr style=\"text-align: right;\">\n",
       "      <th></th>\n",
       "      <th>ride_id</th>\n",
       "      <th>rideable_type</th>\n",
       "      <th>started_at</th>\n",
       "      <th>ended_at</th>\n",
       "      <th>start_station_name</th>\n",
       "      <th>start_station_id</th>\n",
       "      <th>end_station_name</th>\n",
       "      <th>end_station_id</th>\n",
       "      <th>start_lat</th>\n",
       "      <th>start_lng</th>\n",
       "      <th>end_lat</th>\n",
       "      <th>end_lng</th>\n",
       "      <th>member_casual</th>\n",
       "    </tr>\n",
       "  </thead>\n",
       "  <tbody>\n",
       "    <tr>\n",
       "      <th>0</th>\n",
       "      <td>62021B31AF42943E</td>\n",
       "      <td>electric_bike</td>\n",
       "      <td>2024-03-13 15:57:41.800</td>\n",
       "      <td>2024-03-13 16:07:09.853</td>\n",
       "      <td>Forsyth St &amp; Grand St</td>\n",
       "      <td>5382.07</td>\n",
       "      <td>Front St &amp; Jay St</td>\n",
       "      <td>4895.03</td>\n",
       "      <td>40.717763</td>\n",
       "      <td>-73.993166</td>\n",
       "      <td>40.702461</td>\n",
       "      <td>-73.986842</td>\n",
       "      <td>member</td>\n",
       "    </tr>\n",
       "    <tr>\n",
       "      <th>1</th>\n",
       "      <td>EC7BE9D296FFD072</td>\n",
       "      <td>electric_bike</td>\n",
       "      <td>2024-03-16 10:25:46.114</td>\n",
       "      <td>2024-03-16 10:30:21.554</td>\n",
       "      <td>E 12 St &amp; 3 Ave</td>\n",
       "      <td>5788.12</td>\n",
       "      <td>Mott St &amp; Prince St</td>\n",
       "      <td>5561.04</td>\n",
       "      <td>40.732456</td>\n",
       "      <td>-73.988554</td>\n",
       "      <td>40.723180</td>\n",
       "      <td>-73.994800</td>\n",
       "      <td>member</td>\n",
       "    </tr>\n",
       "    <tr>\n",
       "      <th>2</th>\n",
       "      <td>EC85C0EEC95157BB</td>\n",
       "      <td>classic_bike</td>\n",
       "      <td>2024-03-20 19:20:49.818</td>\n",
       "      <td>2024-03-20 19:28:00.165</td>\n",
       "      <td>E 12 St &amp; 3 Ave</td>\n",
       "      <td>5788.12</td>\n",
       "      <td>Mott St &amp; Prince St</td>\n",
       "      <td>5561.04</td>\n",
       "      <td>40.732233</td>\n",
       "      <td>-73.988900</td>\n",
       "      <td>40.723180</td>\n",
       "      <td>-73.994800</td>\n",
       "      <td>member</td>\n",
       "    </tr>\n",
       "    <tr>\n",
       "      <th>3</th>\n",
       "      <td>9DDE9AF5606B4E0F</td>\n",
       "      <td>classic_bike</td>\n",
       "      <td>2024-03-13 20:31:12.599</td>\n",
       "      <td>2024-03-13 20:40:31.209</td>\n",
       "      <td>6 Ave &amp; W 34 St</td>\n",
       "      <td>6364.1</td>\n",
       "      <td>E 25 St &amp; 1 Ave</td>\n",
       "      <td>6004.07</td>\n",
       "      <td>40.749640</td>\n",
       "      <td>-73.988050</td>\n",
       "      <td>40.738177</td>\n",
       "      <td>-73.977387</td>\n",
       "      <td>member</td>\n",
       "    </tr>\n",
       "    <tr>\n",
       "      <th>4</th>\n",
       "      <td>E4446F457328C5FE</td>\n",
       "      <td>electric_bike</td>\n",
       "      <td>2024-03-16 10:50:11.535</td>\n",
       "      <td>2024-03-16 10:53:02.451</td>\n",
       "      <td>Cleveland Pl &amp; Spring St</td>\n",
       "      <td>5492.05</td>\n",
       "      <td>Mott St &amp; Prince St</td>\n",
       "      <td>5561.04</td>\n",
       "      <td>40.721995</td>\n",
       "      <td>-73.997344</td>\n",
       "      <td>40.723180</td>\n",
       "      <td>-73.994800</td>\n",
       "      <td>member</td>\n",
       "    </tr>\n",
       "  </tbody>\n",
       "</table>\n",
       "</div>"
      ],
      "text/plain": [
       "            ride_id  rideable_type               started_at  \\\n",
       "0  62021B31AF42943E  electric_bike  2024-03-13 15:57:41.800   \n",
       "1  EC7BE9D296FFD072  electric_bike  2024-03-16 10:25:46.114   \n",
       "2  EC85C0EEC95157BB   classic_bike  2024-03-20 19:20:49.818   \n",
       "3  9DDE9AF5606B4E0F   classic_bike  2024-03-13 20:31:12.599   \n",
       "4  E4446F457328C5FE  electric_bike  2024-03-16 10:50:11.535   \n",
       "\n",
       "                  ended_at        start_station_name start_station_id  \\\n",
       "0  2024-03-13 16:07:09.853     Forsyth St & Grand St          5382.07   \n",
       "1  2024-03-16 10:30:21.554           E 12 St & 3 Ave          5788.12   \n",
       "2  2024-03-20 19:28:00.165           E 12 St & 3 Ave          5788.12   \n",
       "3  2024-03-13 20:40:31.209           6 Ave & W 34 St           6364.1   \n",
       "4  2024-03-16 10:53:02.451  Cleveland Pl & Spring St          5492.05   \n",
       "\n",
       "      end_station_name end_station_id  start_lat  start_lng    end_lat  \\\n",
       "0    Front St & Jay St        4895.03  40.717763 -73.993166  40.702461   \n",
       "1  Mott St & Prince St        5561.04  40.732456 -73.988554  40.723180   \n",
       "2  Mott St & Prince St        5561.04  40.732233 -73.988900  40.723180   \n",
       "3      E 25 St & 1 Ave        6004.07  40.749640 -73.988050  40.738177   \n",
       "4  Mott St & Prince St        5561.04  40.721995 -73.997344  40.723180   \n",
       "\n",
       "     end_lng member_casual  \n",
       "0 -73.986842        member  \n",
       "1 -73.994800        member  \n",
       "2 -73.994800        member  \n",
       "3 -73.977387        member  \n",
       "4 -73.994800        member  "
      ]
     },
     "execution_count": 1,
     "metadata": {},
     "output_type": "execute_result"
    }
   ],
   "source": [
    "import pandas as pd\n",
    "citi_mar_24 = pd.read_csv(\"C:/Users/singh/Desktop/TUD (All Semesters)/Courses - Semester 5 (TU Dresden)/Research Task - Spatial Modelling/Datasets/Citibike Trip Data/202403-citibike-tripdata.csv\")\n",
    "citi_mar_24.head()"
   ]
  },
  {
   "cell_type": "code",
   "execution_count": 2,
   "id": "218cc297",
   "metadata": {},
   "outputs": [
    {
     "name": "stdout",
     "output_type": "stream",
     "text": [
      "2024-02-29 00:20:27.570 2024-03-31 23:57:16.025\n"
     ]
    }
   ],
   "source": [
    "# The dataset needs timeline trimming - exclude Feb data\n",
    "print(min(citi_mar_24[\"started_at\"]), max(citi_mar_24[\"started_at\"]))"
   ]
  },
  {
   "cell_type": "code",
   "execution_count": 3,
   "id": "601af3d4",
   "metadata": {},
   "outputs": [
    {
     "data": {
      "text/plain": [
       "2796"
      ]
     },
     "execution_count": 3,
     "metadata": {},
     "output_type": "execute_result"
    }
   ],
   "source": [
    "# There are NaN values in the dataset\n",
    "sum(citi_mar_24[\"start_station_name\"].isna())"
   ]
  },
  {
   "cell_type": "code",
   "execution_count": 4,
   "id": "18a2414c",
   "metadata": {},
   "outputs": [
    {
     "data": {
      "text/plain": [
       "0"
      ]
     },
     "execution_count": 4,
     "metadata": {},
     "output_type": "execute_result"
    }
   ],
   "source": [
    "# If the dataset is filtered for 'classic bikes' all starting stations should be visible\n",
    "sum(citi_mar_24[citi_mar_24[\"rideable_type\"] == \"classic_bike\"][\"start_station_name\"].isna())"
   ]
  },
  {
   "cell_type": "code",
   "execution_count": 5,
   "id": "498ef0f7",
   "metadata": {},
   "outputs": [
    {
     "data": {
      "text/plain": [
       "array(['classic_bike'], dtype=object)"
      ]
     },
     "execution_count": 5,
     "metadata": {},
     "output_type": "execute_result"
    }
   ],
   "source": [
    "# filtering the dataset\n",
    "cbikes = citi_mar_24[citi_mar_24[\"rideable_type\"] == \"classic_bike\"]\n",
    "cbikes[\"rideable_type\"].unique()"
   ]
  },
  {
   "cell_type": "code",
   "execution_count": 6,
   "id": "6bd85f79",
   "metadata": {},
   "outputs": [
    {
     "name": "stdout",
     "output_type": "stream",
     "text": [
      "938597 938597\n"
     ]
    }
   ],
   "source": [
    "# reducing columns\n",
    "cbikes = cbikes[[\"ride_id\", \"started_at\", \"ended_at\", \"start_station_name\", \"start_station_id\", \"end_station_name\", \"end_station_id\", \"start_lat\", \"start_lng\", \"end_lat\", \"end_lng\"]]\n",
    "\n",
    "# ride_id can be used to count trips\n",
    "print(len(cbikes), len(cbikes[\"ride_id\"].unique()))"
   ]
  },
  {
   "cell_type": "markdown",
   "id": "195d459c",
   "metadata": {},
   "source": [
    "Instead of relying on station_ids provided by **Citibike**, the manually constructed IDs can be entered in dataset. This will make it easy for referencing and connecting *rentals* table below with this original filtered dataset.<br><br>\n",
    "<u>Note</u>: Original filtered dataset means data for classic bikes where NaN values and redundant columns are removed i.e. **cbikes** dataframe."
   ]
  },
  {
   "cell_type": "markdown",
   "id": "d82cf7b0",
   "metadata": {},
   "source": [
    "## Creating Rentals Template\n",
    "The new template should contain stations with their location and time information included. Each row represents <u> one unit of chosen time resolution</u>.\n",
    "<br><br>\n",
    "**NOTE:** Station ID needs to be retained because there are some stations with the same name but slightly different locations!\n",
    "<br><br>\n",
    "In the dataset, some IDs are stored as text and others are stored as numbers. Converting th data type to *string* does not work because **\\n** and some other text is being added automatically.\n",
    "<br><br>\n",
    "**Solution:**<br>\n",
    "The stations can be manually given unique ids for the purpose of indentification."
   ]
  },
  {
   "cell_type": "code",
   "execution_count": 7,
   "id": "018d1f29",
   "metadata": {},
   "outputs": [
    {
     "name": "stdout",
     "output_type": "stream",
     "text": [
      "2127 2127\n"
     ]
    }
   ],
   "source": [
    "# Creating the new dataset\n",
    "rentals = pd.DataFrame()\n",
    "rentals[[\"name\", \"lat\", \"lng\"]] = cbikes[[\"start_station_name\", \"start_lat\", \"start_lng\"]].drop_duplicates()\n",
    "rentals = rentals.sort_values(by = [\"name\"], ignore_index=True)\n",
    "\n",
    "# Adding IDs manually\n",
    "rentals[\"station_id\"] = range(len(rentals))\n",
    "\n",
    "# Verifying the number of stations\n",
    "print(len(cbikes[[\"start_station_name\", \"start_lat\", \"start_lng\"]].drop_duplicates()), len(rentals[\"station_id\"]))"
   ]
  },
  {
   "cell_type": "markdown",
   "id": "432cda6f",
   "metadata": {},
   "source": [
    "## Reformatting Tripdata\n",
    "Making some changes to the trip data before exporting."
   ]
  },
  {
   "cell_type": "code",
   "execution_count": 8,
   "id": "2a17e428",
   "metadata": {},
   "outputs": [
    {
     "name": "stdout",
     "output_type": "stream",
     "text": [
      "2127\n"
     ]
    },
    {
     "data": {
      "text/html": [
       "<div>\n",
       "<style scoped>\n",
       "    .dataframe tbody tr th:only-of-type {\n",
       "        vertical-align: middle;\n",
       "    }\n",
       "\n",
       "    .dataframe tbody tr th {\n",
       "        vertical-align: top;\n",
       "    }\n",
       "\n",
       "    .dataframe thead th {\n",
       "        text-align: right;\n",
       "    }\n",
       "</style>\n",
       "<table border=\"1\" class=\"dataframe\">\n",
       "  <thead>\n",
       "    <tr style=\"text-align: right;\">\n",
       "      <th></th>\n",
       "      <th>ride_id</th>\n",
       "      <th>started_at</th>\n",
       "      <th>start_station_name</th>\n",
       "      <th>station_id</th>\n",
       "      <th>start_lat</th>\n",
       "      <th>start_lng</th>\n",
       "    </tr>\n",
       "  </thead>\n",
       "  <tbody>\n",
       "    <tr>\n",
       "      <th>0</th>\n",
       "      <td>EC85C0EEC95157BB</td>\n",
       "      <td>2024-03-20 19:20:49.818</td>\n",
       "      <td>E 12 St &amp; 3 Ave</td>\n",
       "      <td>918</td>\n",
       "      <td>40.732233</td>\n",
       "      <td>-73.988900</td>\n",
       "    </tr>\n",
       "    <tr>\n",
       "      <th>1</th>\n",
       "      <td>9DDE9AF5606B4E0F</td>\n",
       "      <td>2024-03-13 20:31:12.599</td>\n",
       "      <td>6 Ave &amp; W 34 St</td>\n",
       "      <td>364</td>\n",
       "      <td>40.749640</td>\n",
       "      <td>-73.988050</td>\n",
       "    </tr>\n",
       "    <tr>\n",
       "      <th>2</th>\n",
       "      <td>0132F3650F73AA65</td>\n",
       "      <td>2024-03-15 13:37:19.823</td>\n",
       "      <td>6 Ave &amp; W 34 St</td>\n",
       "      <td>364</td>\n",
       "      <td>40.749640</td>\n",
       "      <td>-73.988050</td>\n",
       "    </tr>\n",
       "    <tr>\n",
       "      <th>3</th>\n",
       "      <td>B47552E7DA344D68</td>\n",
       "      <td>2024-03-04 19:41:29.718</td>\n",
       "      <td>Lexington Ave &amp; E 120 St</td>\n",
       "      <td>1400</td>\n",
       "      <td>40.801307</td>\n",
       "      <td>-73.939817</td>\n",
       "    </tr>\n",
       "    <tr>\n",
       "      <th>4</th>\n",
       "      <td>7BE030A97D400E4A</td>\n",
       "      <td>2024-03-03 14:59:36.914</td>\n",
       "      <td>W 17 St &amp; 7 Ave</td>\n",
       "      <td>1924</td>\n",
       "      <td>40.740564</td>\n",
       "      <td>-73.998526</td>\n",
       "    </tr>\n",
       "  </tbody>\n",
       "</table>\n",
       "</div>"
      ],
      "text/plain": [
       "            ride_id               started_at        start_station_name  \\\n",
       "0  EC85C0EEC95157BB  2024-03-20 19:20:49.818           E 12 St & 3 Ave   \n",
       "1  9DDE9AF5606B4E0F  2024-03-13 20:31:12.599           6 Ave & W 34 St   \n",
       "2  0132F3650F73AA65  2024-03-15 13:37:19.823           6 Ave & W 34 St   \n",
       "3  B47552E7DA344D68  2024-03-04 19:41:29.718  Lexington Ave & E 120 St   \n",
       "4  7BE030A97D400E4A  2024-03-03 14:59:36.914           W 17 St & 7 Ave   \n",
       "\n",
       "   station_id  start_lat  start_lng  \n",
       "0         918  40.732233 -73.988900  \n",
       "1         364  40.749640 -73.988050  \n",
       "2         364  40.749640 -73.988050  \n",
       "3        1400  40.801307 -73.939817  \n",
       "4        1924  40.740564 -73.998526  "
      ]
     },
     "execution_count": 8,
     "metadata": {},
     "output_type": "execute_result"
    }
   ],
   "source": [
    "# Copying cbikes df\n",
    "cbikes_altered = cbikes.copy()\n",
    "\n",
    "# Merging the two dfs\n",
    "new_df = pd.merge(\n",
    "    left=cbikes_altered, \n",
    "    right=rentals,\n",
    "    how='left',\n",
    "    left_on=['start_station_name', 'start_lat', 'start_lng'],\n",
    "    right_on=['name', 'lat', 'lng'],\n",
    ")\n",
    "\n",
    "# Preserving bike trip info only with the starting station info\n",
    "cbikes_altered = new_df[[\"ride_id\", \"started_at\", \"start_station_name\", \"station_id\", \"start_lat\", \"start_lng\"]]\n",
    "\n",
    "# Checking validity\n",
    "print(len(cbikes_altered[\"station_id\"].unique()))\n",
    "cbikes_altered.head()"
   ]
  },
  {
   "cell_type": "code",
   "execution_count": 9,
   "id": "dc87520b",
   "metadata": {},
   "outputs": [],
   "source": [
    "# exporting to 'C:\\Users\\singh\\Desktop\\TUD (All Semesters)\\Courses - Semester 5 (TU Dresden)\\Research Task - Spatial Modelling\\Code'\n",
    "cbikes_altered.to_csv(\"Tripdata_with_manual_ids_mar.csv\", index=False)"
   ]
  },
  {
   "cell_type": "markdown",
   "id": "2c8661e3",
   "metadata": {},
   "source": [
    "## Defining time resolution\n",
    "Here time units are defined that will later be merged with the *rentals* template."
   ]
  },
  {
   "cell_type": "code",
   "execution_count": 10,
   "id": "989184d6",
   "metadata": {},
   "outputs": [
    {
     "data": {
      "text/plain": [
       "['2024-03-01', '2024-03-02', '2024-03-03', '2024-03-04', '2024-03-05']"
      ]
     },
     "execution_count": 10,
     "metadata": {},
     "output_type": "execute_result"
    }
   ],
   "source": [
    "# importing the data\n",
    "import pandas as pd\n",
    "cbikes_altered = pd.read_csv(\"C:/Users/singh/Desktop/TUD (All Semesters)/Courses - Semester 5 (TU Dresden)/Research Task - Spatial Modelling/Code/Tripdata_with_manual_ids_mar.csv\")\n",
    "\n",
    "# defining the 7 time units for a given date\n",
    "time_res = ['08:00:00.000', '10:00:00.000', '12:00:00.000', '14:00:00.000', '16:00:00.000', '18:00:00.000', '20:00:00.000']\n",
    "\n",
    "# repeating time units 31 times - till 31 Mar\n",
    "time_res = time_res*31\n",
    "\n",
    "# creating dates\n",
    "dates_included = []\n",
    "while len(dates_included) < 31:\n",
    "    dates_included.append('2024-03-01')\n",
    "\n",
    "# days list\n",
    "nums = ['01', '02','03','04','05','06','07','08','09','10','11','12','13','14','15','16','17','18','19','20','21','22','23','24','25','26','27','28','29', '30', '31']\n",
    "\n",
    "# correcting days\n",
    "for i in range(len(nums)):\n",
    "    dates_included[i] = dates_included[i][:-2] + nums[i]\n",
    "\n",
    "dates_included[:5]"
   ]
  },
  {
   "cell_type": "markdown",
   "id": "61c06d68",
   "metadata": {},
   "source": [
    "Now, we are supposed to combine the date and the time information together. Each day has 7 time units, so each day must be repeated 7 times to accodomate the time resolution."
   ]
  },
  {
   "cell_type": "code",
   "execution_count": 11,
   "id": "9df36a93",
   "metadata": {},
   "outputs": [
    {
     "data": {
      "text/plain": [
       "['2024-03-01 08:00:00.000',\n",
       " '2024-03-01 10:00:00.000',\n",
       " '2024-03-01 12:00:00.000',\n",
       " '2024-03-01 14:00:00.000',\n",
       " '2024-03-01 16:00:00.000',\n",
       " '2024-03-01 18:00:00.000',\n",
       " '2024-03-01 20:00:00.000']"
      ]
     },
     "execution_count": 11,
     "metadata": {},
     "output_type": "execute_result"
    }
   ],
   "source": [
    "# repeating each element 7 times\n",
    "dates_included = [element for element in dates_included for _ in range(7)]\n",
    "\n",
    "# Adding time dimension\n",
    "date_time = dates_included.copy()\n",
    "\n",
    "for t in range(0,len(dates_included)):\n",
    "    date_time[t] = dates_included[t] + ' ' + time_res[t]\n",
    "\n",
    "date_time[:7]"
   ]
  },
  {
   "cell_type": "markdown",
   "id": "c72fda87",
   "metadata": {},
   "source": [
    "## Adding time dimensionality to the *rentals* template\n",
    "A time resolution needs to be added so that number of rentals can be calculated in terms of that time unit, per station."
   ]
  },
  {
   "cell_type": "code",
   "execution_count": 12,
   "id": "7c7216fb",
   "metadata": {},
   "outputs": [
    {
     "data": {
      "text/plain": [
       "217"
      ]
     },
     "execution_count": 12,
     "metadata": {},
     "output_type": "execute_result"
    }
   ],
   "source": [
    "# rows needed for each station\n",
    "len(date_time)"
   ]
  },
  {
   "cell_type": "code",
   "execution_count": 13,
   "id": "def4b61b",
   "metadata": {},
   "outputs": [
    {
     "data": {
      "text/html": [
       "<div>\n",
       "<style scoped>\n",
       "    .dataframe tbody tr th:only-of-type {\n",
       "        vertical-align: middle;\n",
       "    }\n",
       "\n",
       "    .dataframe tbody tr th {\n",
       "        vertical-align: top;\n",
       "    }\n",
       "\n",
       "    .dataframe thead th {\n",
       "        text-align: right;\n",
       "    }\n",
       "</style>\n",
       "<table border=\"1\" class=\"dataframe\">\n",
       "  <thead>\n",
       "    <tr style=\"text-align: right;\">\n",
       "      <th></th>\n",
       "      <th>name</th>\n",
       "      <th>lat</th>\n",
       "      <th>lng</th>\n",
       "      <th>station_id</th>\n",
       "      <th>datetime</th>\n",
       "    </tr>\n",
       "  </thead>\n",
       "  <tbody>\n",
       "    <tr>\n",
       "      <th>0</th>\n",
       "      <td>1 Ave &amp; E 110 St</td>\n",
       "      <td>40.792327</td>\n",
       "      <td>-73.9383</td>\n",
       "      <td>0</td>\n",
       "      <td>2024-03-01 08:00:00.000</td>\n",
       "    </tr>\n",
       "    <tr>\n",
       "      <th>1</th>\n",
       "      <td>1 Ave &amp; E 110 St</td>\n",
       "      <td>40.792327</td>\n",
       "      <td>-73.9383</td>\n",
       "      <td>0</td>\n",
       "      <td>2024-03-01 10:00:00.000</td>\n",
       "    </tr>\n",
       "    <tr>\n",
       "      <th>2</th>\n",
       "      <td>1 Ave &amp; E 110 St</td>\n",
       "      <td>40.792327</td>\n",
       "      <td>-73.9383</td>\n",
       "      <td>0</td>\n",
       "      <td>2024-03-01 12:00:00.000</td>\n",
       "    </tr>\n",
       "    <tr>\n",
       "      <th>3</th>\n",
       "      <td>1 Ave &amp; E 110 St</td>\n",
       "      <td>40.792327</td>\n",
       "      <td>-73.9383</td>\n",
       "      <td>0</td>\n",
       "      <td>2024-03-01 14:00:00.000</td>\n",
       "    </tr>\n",
       "    <tr>\n",
       "      <th>4</th>\n",
       "      <td>1 Ave &amp; E 110 St</td>\n",
       "      <td>40.792327</td>\n",
       "      <td>-73.9383</td>\n",
       "      <td>0</td>\n",
       "      <td>2024-03-01 16:00:00.000</td>\n",
       "    </tr>\n",
       "  </tbody>\n",
       "</table>\n",
       "</div>"
      ],
      "text/plain": [
       "               name        lat      lng  station_id                 datetime\n",
       "0  1 Ave & E 110 St  40.792327 -73.9383           0  2024-03-01 08:00:00.000\n",
       "1  1 Ave & E 110 St  40.792327 -73.9383           0  2024-03-01 10:00:00.000\n",
       "2  1 Ave & E 110 St  40.792327 -73.9383           0  2024-03-01 12:00:00.000\n",
       "3  1 Ave & E 110 St  40.792327 -73.9383           0  2024-03-01 14:00:00.000\n",
       "4  1 Ave & E 110 St  40.792327 -73.9383           0  2024-03-01 16:00:00.000"
      ]
     },
     "execution_count": 13,
     "metadata": {},
     "output_type": "execute_result"
    }
   ],
   "source": [
    "# duplicating each station 217 times\n",
    "rentals = rentals.loc[rentals.index.repeat(217)].reset_index(drop=True)\n",
    "\n",
    "# Repeating date_time: 2127 unique stations\n",
    "date_time = date_time*2127\n",
    "rentals[\"datetime\"] = date_time\n",
    "rentals.head()"
   ]
  },
  {
   "cell_type": "markdown",
   "id": "dd7846c0",
   "metadata": {},
   "source": [
    "## Calculating Demand\n",
    "The rentals are calculated for every time unit, per day per station. The dataset is being prepared only until 31 March 2024."
   ]
  },
  {
   "cell_type": "code",
   "execution_count": 14,
   "id": "72e09264",
   "metadata": {},
   "outputs": [
    {
     "data": {
      "text/html": [
       "<div>\n",
       "<style scoped>\n",
       "    .dataframe tbody tr th:only-of-type {\n",
       "        vertical-align: middle;\n",
       "    }\n",
       "\n",
       "    .dataframe tbody tr th {\n",
       "        vertical-align: top;\n",
       "    }\n",
       "\n",
       "    .dataframe thead th {\n",
       "        text-align: right;\n",
       "    }\n",
       "</style>\n",
       "<table border=\"1\" class=\"dataframe\">\n",
       "  <thead>\n",
       "    <tr style=\"text-align: right;\">\n",
       "      <th></th>\n",
       "      <th>name</th>\n",
       "      <th>lat</th>\n",
       "      <th>lng</th>\n",
       "      <th>station_id</th>\n",
       "      <th>datetime</th>\n",
       "      <th>#_rentals</th>\n",
       "    </tr>\n",
       "  </thead>\n",
       "  <tbody>\n",
       "    <tr>\n",
       "      <th>0</th>\n",
       "      <td>1 Ave &amp; E 110 St</td>\n",
       "      <td>40.792327</td>\n",
       "      <td>-73.9383</td>\n",
       "      <td>0</td>\n",
       "      <td>2024-03-01 08:00:00.000</td>\n",
       "      <td>0</td>\n",
       "    </tr>\n",
       "    <tr>\n",
       "      <th>1</th>\n",
       "      <td>1 Ave &amp; E 110 St</td>\n",
       "      <td>40.792327</td>\n",
       "      <td>-73.9383</td>\n",
       "      <td>0</td>\n",
       "      <td>2024-03-01 10:00:00.000</td>\n",
       "      <td>0</td>\n",
       "    </tr>\n",
       "    <tr>\n",
       "      <th>2</th>\n",
       "      <td>1 Ave &amp; E 110 St</td>\n",
       "      <td>40.792327</td>\n",
       "      <td>-73.9383</td>\n",
       "      <td>0</td>\n",
       "      <td>2024-03-01 12:00:00.000</td>\n",
       "      <td>0</td>\n",
       "    </tr>\n",
       "    <tr>\n",
       "      <th>3</th>\n",
       "      <td>1 Ave &amp; E 110 St</td>\n",
       "      <td>40.792327</td>\n",
       "      <td>-73.9383</td>\n",
       "      <td>0</td>\n",
       "      <td>2024-03-01 14:00:00.000</td>\n",
       "      <td>0</td>\n",
       "    </tr>\n",
       "    <tr>\n",
       "      <th>4</th>\n",
       "      <td>1 Ave &amp; E 110 St</td>\n",
       "      <td>40.792327</td>\n",
       "      <td>-73.9383</td>\n",
       "      <td>0</td>\n",
       "      <td>2024-03-01 16:00:00.000</td>\n",
       "      <td>0</td>\n",
       "    </tr>\n",
       "  </tbody>\n",
       "</table>\n",
       "</div>"
      ],
      "text/plain": [
       "               name        lat      lng  station_id                 datetime  \\\n",
       "0  1 Ave & E 110 St  40.792327 -73.9383           0  2024-03-01 08:00:00.000   \n",
       "1  1 Ave & E 110 St  40.792327 -73.9383           0  2024-03-01 10:00:00.000   \n",
       "2  1 Ave & E 110 St  40.792327 -73.9383           0  2024-03-01 12:00:00.000   \n",
       "3  1 Ave & E 110 St  40.792327 -73.9383           0  2024-03-01 14:00:00.000   \n",
       "4  1 Ave & E 110 St  40.792327 -73.9383           0  2024-03-01 16:00:00.000   \n",
       "\n",
       "   #_rentals  \n",
       "0          0  \n",
       "1          0  \n",
       "2          0  \n",
       "3          0  \n",
       "4          0  "
      ]
     },
     "execution_count": 14,
     "metadata": {},
     "output_type": "execute_result"
    }
   ],
   "source": [
    "# importing\n",
    "tripdata = pd.read_csv(\"C:/Users/singh/Desktop/TUD (All Semesters)/Courses - Semester 5 (TU Dresden)/Research Task - Spatial Modelling/Code/Tripdata_with_manual_ids_mar.csv\")\n",
    "\n",
    "# adding a rentals column \n",
    "rentals['#_rentals'] = 0\n",
    "\n",
    "rentals.head()"
   ]
  },
  {
   "cell_type": "code",
   "execution_count": 15,
   "id": "a132fc0e",
   "metadata": {},
   "outputs": [],
   "source": [
    "# Updating the rentals dataset\n",
    "rentals['year'] = pd.Series([x.date().year for x in pd.to_datetime(rentals[\"datetime\"])])\n",
    "rentals['month'] = pd.Series([x.date().month for x in pd.to_datetime(rentals[\"datetime\"])])\n",
    "rentals['day'] = pd.Series([x.date().day for x in pd.to_datetime(rentals[\"datetime\"])])\n",
    "\n",
    "rentals['hour'] = pd.Series([x.time().hour for x in pd.to_datetime(rentals[\"datetime\"])])\n",
    "rentals['minute'] = pd.Series([x.time().minute for x in pd.to_datetime(rentals[\"datetime\"])])\n",
    "rentals['second'] = pd.Series([x.time().second for x in pd.to_datetime(rentals[\"datetime\"])])\n",
    "rentals['microsecond'] = pd.Series([x.time().microsecond for x in pd.to_datetime(rentals[\"datetime\"])])\n",
    "\n",
    "# Updating the trips dataset\n",
    "tripdata['started_at_year'] = pd.Series([x.date().year for x in pd.to_datetime(tripdata[\"started_at\"])])\n",
    "tripdata['started_at_month'] = pd.Series([x.date().month for x in pd.to_datetime(tripdata[\"started_at\"])])\n",
    "tripdata['started_at_day'] = pd.Series([x.date().day for x in pd.to_datetime(tripdata[\"started_at\"])])\n",
    "\n",
    "tripdata['started_at_hour'] = pd.Series([x.time().hour for x in pd.to_datetime(tripdata[\"started_at\"])])\n",
    "tripdata['started_at_minute'] = pd.Series([x.time().minute for x in pd.to_datetime(tripdata[\"started_at\"])])\n",
    "tripdata['started_at_second'] = pd.Series([x.time().second for x in pd.to_datetime(tripdata[\"started_at\"])])\n",
    "tripdata['started_at_microsecond'] = pd.Series([x.time().microsecond for x in pd.to_datetime(tripdata[\"started_at\"])])"
   ]
  },
  {
   "cell_type": "code",
   "execution_count": 16,
   "id": "3d909200",
   "metadata": {},
   "outputs": [
    {
     "data": {
      "text/plain": [
       "2"
      ]
     },
     "execution_count": 16,
     "metadata": {},
     "output_type": "execute_result"
    }
   ],
   "source": [
    "# The tripdata has some misleading Feb data that should be removed\n",
    "min(tripdata[\"started_at_month\"])"
   ]
  },
  {
   "cell_type": "code",
   "execution_count": 17,
   "id": "a0dfe6c4",
   "metadata": {},
   "outputs": [
    {
     "data": {
      "text/plain": [
       "3"
      ]
     },
     "execution_count": 17,
     "metadata": {},
     "output_type": "execute_result"
    }
   ],
   "source": [
    "# After Correction\n",
    "tripdata = tripdata[tripdata[\"started_at_month\"] > 2]\n",
    "min(tripdata[\"started_at_month\"])"
   ]
  },
  {
   "cell_type": "code",
   "execution_count": 19,
   "id": "969616a1",
   "metadata": {},
   "outputs": [],
   "source": [
    "# Calculating demand from tripdata for Mar 2024\n",
    "for k in range(1, 32):\n",
    "    \n",
    "    # determining demand for 2024; 08-10hrs\n",
    "    for i in rentals[\"station_id\"].unique():\n",
    "        idx = (rentals[\"station_id\"] == i) & (rentals[\"year\"] == 2024) & (rentals[\"hour\"] == 8) & (rentals[\"day\"] == k)\n",
    "        rentals.loc[idx, \"#_rentals\"] = len(tripdata[(tripdata[\"started_at_year\"] == 2024) & (tripdata[\"started_at_day\"] == k) & (tripdata[\"started_at_hour\"] < 10) & (tripdata[\"started_at_hour\"] >= 8) & (tripdata[\"station_id\"] == i)])\n",
    "        \n",
    "    # determining demand for 2024; 10-12hrs\n",
    "    for i in rentals[\"station_id\"].unique():\n",
    "        idx = (rentals[\"station_id\"] == i) & (rentals[\"year\"] == 2024) & (rentals[\"hour\"] == 10) & (rentals[\"day\"] == k)\n",
    "        rentals.loc[idx, \"#_rentals\"] = len(tripdata[(tripdata[\"started_at_year\"] == 2024) & (tripdata[\"started_at_day\"] == k) & (tripdata[\"started_at_hour\"] >= 10) & (tripdata[\"started_at_hour\"] < 12) & (tripdata[\"station_id\"] == i)])\n",
    "        \n",
    "    # determining demand for 2024; 12-14hrs\n",
    "    for i in rentals[\"station_id\"].unique():\n",
    "        idx = (rentals[\"station_id\"] == i) & (rentals[\"year\"] == 2024) & (rentals[\"hour\"] == 12) & (rentals[\"day\"] == k)\n",
    "        rentals.loc[idx, \"#_rentals\"] = len(tripdata[(tripdata[\"started_at_year\"] == 2024) & (tripdata[\"started_at_day\"] == k) & (tripdata[\"started_at_hour\"] >= 12) & (tripdata[\"started_at_hour\"] < 14) & (tripdata[\"station_id\"] == i)])\n",
    "        \n",
    "    # determining demand for 2024; 14-16hrs\n",
    "    for i in rentals[\"station_id\"].unique():\n",
    "        idx = (rentals[\"station_id\"] == i) & (rentals[\"year\"] == 2024) & (rentals[\"hour\"] == 14) & (rentals[\"day\"] == k)\n",
    "        rentals.loc[idx, \"#_rentals\"] = len(tripdata[(tripdata[\"started_at_year\"] == 2024) & (tripdata[\"started_at_day\"] == k) & (tripdata[\"started_at_hour\"] >= 14) & (tripdata[\"started_at_hour\"] < 16) & (tripdata[\"station_id\"] == i)])\n",
    "        \n",
    "    # determining demand for 2024; 16-18hrs\n",
    "    for i in rentals[\"station_id\"].unique():\n",
    "        idx = (rentals[\"station_id\"] == i) & (rentals[\"year\"] == 2024) & (rentals[\"hour\"] == 16) & (rentals[\"day\"] == k)\n",
    "        rentals.loc[idx, \"#_rentals\"] = len(tripdata[(tripdata[\"started_at_year\"] == 2024) & (tripdata[\"started_at_day\"] == k) & (tripdata[\"started_at_hour\"] >= 16) & (tripdata[\"started_at_hour\"] < 18) & (tripdata[\"station_id\"] == i)])\n",
    "        \n",
    "    # determining demand for 2024; 18-20hrs\n",
    "    for i in rentals[\"station_id\"].unique():\n",
    "        idx = (rentals[\"station_id\"] == i) & (rentals[\"year\"] == 2024) & (rentals[\"hour\"] == 18) & (rentals[\"day\"] == k)\n",
    "        rentals.loc[idx, \"#_rentals\"] = len(tripdata[(tripdata[\"started_at_year\"] == 2024) & (tripdata[\"started_at_day\"] == k) & (tripdata[\"started_at_hour\"] >= 18) & (tripdata[\"started_at_hour\"] < 20) & (tripdata[\"station_id\"] == i)])\n",
    "    \n",
    "    # determining demand for 2024; 20-22hrs\n",
    "    for i in rentals[\"station_id\"].unique():\n",
    "        idx = (rentals[\"station_id\"] == i) & (rentals[\"year\"] == 2024) & (rentals[\"hour\"] == 20) & (rentals[\"day\"] == k)\n",
    "        rentals.loc[idx, \"#_rentals\"] = len(tripdata[(tripdata[\"started_at_year\"] == 2024) & (tripdata[\"started_at_day\"] == k) & (tripdata[\"started_at_hour\"] >= 20) & (tripdata[\"started_at_hour\"] < 22) & (tripdata[\"station_id\"] == i)])"
   ]
  },
  {
   "cell_type": "code",
   "execution_count": 21,
   "id": "16f05702",
   "metadata": {},
   "outputs": [
    {
     "name": "stdout",
     "output_type": "stream",
     "text": [
      "24907\n"
     ]
    },
    {
     "data": {
      "text/plain": [
       "24907"
      ]
     },
     "execution_count": 21,
     "metadata": {},
     "output_type": "execute_result"
    }
   ],
   "source": [
    "# total trips on mar 1 2024\n",
    "print(len(tripdata[(tripdata[\"started_at_year\"] == 2024)&(tripdata[\"started_at_day\"] == 1)&(tripdata[\"started_at_hour\"] >= 8)&(tripdata[\"started_at_hour\"] < 22)]))\n",
    "\n",
    "# rentals recorded for mar 1 2024 \n",
    "sum(rentals.loc[(rentals[\"year\"] == 2024) & (rentals[\"day\"] == 1),\"#_rentals\"])"
   ]
  },
  {
   "cell_type": "markdown",
   "id": "01629f8f",
   "metadata": {},
   "source": [
    "Hence, the calculation is correct!"
   ]
  },
  {
   "cell_type": "code",
   "execution_count": 22,
   "id": "0059b5b5",
   "metadata": {},
   "outputs": [
    {
     "data": {
      "text/html": [
       "<div>\n",
       "<style scoped>\n",
       "    .dataframe tbody tr th:only-of-type {\n",
       "        vertical-align: middle;\n",
       "    }\n",
       "\n",
       "    .dataframe tbody tr th {\n",
       "        vertical-align: top;\n",
       "    }\n",
       "\n",
       "    .dataframe thead th {\n",
       "        text-align: right;\n",
       "    }\n",
       "</style>\n",
       "<table border=\"1\" class=\"dataframe\">\n",
       "  <thead>\n",
       "    <tr style=\"text-align: right;\">\n",
       "      <th></th>\n",
       "      <th>name</th>\n",
       "      <th>lat</th>\n",
       "      <th>lng</th>\n",
       "      <th>station_id</th>\n",
       "      <th>datetime</th>\n",
       "      <th>#_rentals</th>\n",
       "      <th>year</th>\n",
       "      <th>month</th>\n",
       "      <th>day</th>\n",
       "      <th>hour</th>\n",
       "    </tr>\n",
       "  </thead>\n",
       "  <tbody>\n",
       "    <tr>\n",
       "      <th>0</th>\n",
       "      <td>1 Ave &amp; E 110 St</td>\n",
       "      <td>40.792327</td>\n",
       "      <td>-73.9383</td>\n",
       "      <td>0</td>\n",
       "      <td>2024-03-01 08:00:00.000</td>\n",
       "      <td>3</td>\n",
       "      <td>2024</td>\n",
       "      <td>3</td>\n",
       "      <td>1</td>\n",
       "      <td>8</td>\n",
       "    </tr>\n",
       "    <tr>\n",
       "      <th>1</th>\n",
       "      <td>1 Ave &amp; E 110 St</td>\n",
       "      <td>40.792327</td>\n",
       "      <td>-73.9383</td>\n",
       "      <td>0</td>\n",
       "      <td>2024-03-01 10:00:00.000</td>\n",
       "      <td>1</td>\n",
       "      <td>2024</td>\n",
       "      <td>3</td>\n",
       "      <td>1</td>\n",
       "      <td>10</td>\n",
       "    </tr>\n",
       "    <tr>\n",
       "      <th>2</th>\n",
       "      <td>1 Ave &amp; E 110 St</td>\n",
       "      <td>40.792327</td>\n",
       "      <td>-73.9383</td>\n",
       "      <td>0</td>\n",
       "      <td>2024-03-01 12:00:00.000</td>\n",
       "      <td>1</td>\n",
       "      <td>2024</td>\n",
       "      <td>3</td>\n",
       "      <td>1</td>\n",
       "      <td>12</td>\n",
       "    </tr>\n",
       "    <tr>\n",
       "      <th>3</th>\n",
       "      <td>1 Ave &amp; E 110 St</td>\n",
       "      <td>40.792327</td>\n",
       "      <td>-73.9383</td>\n",
       "      <td>0</td>\n",
       "      <td>2024-03-01 14:00:00.000</td>\n",
       "      <td>0</td>\n",
       "      <td>2024</td>\n",
       "      <td>3</td>\n",
       "      <td>1</td>\n",
       "      <td>14</td>\n",
       "    </tr>\n",
       "    <tr>\n",
       "      <th>4</th>\n",
       "      <td>1 Ave &amp; E 110 St</td>\n",
       "      <td>40.792327</td>\n",
       "      <td>-73.9383</td>\n",
       "      <td>0</td>\n",
       "      <td>2024-03-01 16:00:00.000</td>\n",
       "      <td>0</td>\n",
       "      <td>2024</td>\n",
       "      <td>3</td>\n",
       "      <td>1</td>\n",
       "      <td>16</td>\n",
       "    </tr>\n",
       "  </tbody>\n",
       "</table>\n",
       "</div>"
      ],
      "text/plain": [
       "               name        lat      lng  station_id                 datetime  \\\n",
       "0  1 Ave & E 110 St  40.792327 -73.9383           0  2024-03-01 08:00:00.000   \n",
       "1  1 Ave & E 110 St  40.792327 -73.9383           0  2024-03-01 10:00:00.000   \n",
       "2  1 Ave & E 110 St  40.792327 -73.9383           0  2024-03-01 12:00:00.000   \n",
       "3  1 Ave & E 110 St  40.792327 -73.9383           0  2024-03-01 14:00:00.000   \n",
       "4  1 Ave & E 110 St  40.792327 -73.9383           0  2024-03-01 16:00:00.000   \n",
       "\n",
       "   #_rentals  year  month  day  hour  \n",
       "0          3  2024      3    1     8  \n",
       "1          1  2024      3    1    10  \n",
       "2          1  2024      3    1    12  \n",
       "3          0  2024      3    1    14  \n",
       "4          0  2024      3    1    16  "
      ]
     },
     "execution_count": 22,
     "metadata": {},
     "output_type": "execute_result"
    }
   ],
   "source": [
    "# Created dataset\n",
    "rentals_final = rentals.copy()\n",
    "\n",
    "# removing unneeded columns\n",
    "rentals_final.drop(columns=['minute','second','microsecond'], inplace=True)\n",
    "\n",
    "# final look\n",
    "rentals_final.head()"
   ]
  },
  {
   "cell_type": "code",
   "execution_count": 23,
   "id": "0261ec33",
   "metadata": {},
   "outputs": [],
   "source": [
    "# exporting\n",
    "rentals_final.to_csv(\"rentals_with_demand_new_time_units_mar.csv\", index=False)"
   ]
  }
 ],
 "metadata": {
  "kernelspec": {
   "display_name": "Python [conda env:base] *",
   "language": "python",
   "name": "conda-base-py"
  },
  "language_info": {
   "codemirror_mode": {
    "name": "ipython",
    "version": 3
   },
   "file_extension": ".py",
   "mimetype": "text/x-python",
   "name": "python",
   "nbconvert_exporter": "python",
   "pygments_lexer": "ipython3",
   "version": "3.12.7"
  }
 },
 "nbformat": 4,
 "nbformat_minor": 5
}
